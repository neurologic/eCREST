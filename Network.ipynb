{
 "cells": [
  {
   "cell_type": "markdown",
   "id": "b4361375-878a-4ba4-9a29-f52ec0506f28",
   "metadata": {},
   "source": [
    "# Network eCREST\n",
    "\n"
   ]
  },
  {
   "cell_type": "markdown",
   "id": "6c6feb00-73b2-4036-b52a-1c3686b50a5d",
   "metadata": {},
   "source": [
    "## Setup\n",
    "\n",
    "Do the following two setup steps regardless of how you will be using this script. \n",
    "\n",
    "### 1. Imports\n",
    "\n",
    "Run the following code cell to import the necessary packages and modules. "
   ]
  },
  {
   "cell_type": "code",
   "execution_count": 13,
   "id": "f5b787d1-3dd0-4536-a36f-8abe42352826",
   "metadata": {},
   "outputs": [],
   "source": [
    "############################################################################################################################ \n",
    "# Get the latest CREST files for each ID within the target folder (dirname)\n",
    "\n",
    "from pathlib import Path\n",
    "import json\n",
    "from sqlite3 import connect as sqlite3_connect\n",
    "from sqlite3 import DatabaseError\n",
    "from igraph import Graph as ig_Graph\n",
    "from igraph import plot as ig_plot\n",
    "from scipy.spatial.distance import cdist\n",
    "import random\n",
    "from random import choice as random_choice\n",
    "from itertools import combinations\n",
    "from numpy import array, unravel_index, argmin, mean,unique\n",
    "import pandas as pd\n",
    "from copy import deepcopy\n",
    "from datetime import datetime\n",
    "from time import time\n",
    "import neuroglancer\n",
    "from webbrowser import open as wb_open\n",
    "from webbrowser import open_new as wb_open_new\n",
    "\n",
    "from eCREST_cli import ecrest, import_settings"
   ]
  },
  {
   "cell_type": "markdown",
   "id": "62e304ed-6b4b-4fa4-a6b9-2cb0e6782d6a",
   "metadata": {},
   "source": [
    "The 'ecrest' class has been imported from eCREST_cli.py\n",
    "\n",
    "An instance of this object will be able to:\n",
    "- open an neuroglancer viewer for proofrieading (see \"Proofread using CREST\")\n",
    "    - add-remove segments (using graph feature for efficiency)\n",
    "    - format itself and save itself as a CREST-style .json\n",
    "- convert from neuroglancer json (see \"Convert From Neuroglancer to eCREST\")\n",
    "    - format itself and save itself as a CREST-style .json\n",
    "    \n"
   ]
  },
  {
   "cell_type": "markdown",
   "id": "5ce172e7-9c6e-4242-b43b-f71180d386b5",
   "metadata": {},
   "source": [
    "## Create viewer"
   ]
  },
  {
   "cell_type": "code",
   "execution_count": 113,
   "id": "45816cab-5a0f-4398-ad99-4a64019d6888",
   "metadata": {},
   "outputs": [],
   "source": [
    "viewer = neuroglancer.Viewer()\n",
    "viewer.set_state({})\n",
    "\n",
    "location=[17000,17000,1500]\n",
    "\n",
    "with viewer.config_state.txn() as s:\n",
    "    s.show_layer_panel = True ###\n",
    "\n",
    "with viewer.txn(overwrite=True) as s:\n",
    "           \n",
    "    dimensions = neuroglancer.CoordinateSpace(\n",
    "        scales=[16, 16, 30],# self.vx_sizes['em'],\n",
    "        units='nm',\n",
    "        names=['x', 'y', 'z']   )\n",
    "\n",
    "    s.showSlices = False\n",
    "    s.dimensions = dimensions\n",
    "    s.position = array(location)\n",
    "    s.layout = \"3d\"\n",
    "    s.projectionScale = 30000\n",
    "    # s.projection_background_color= \"#000000\"\n",
    "    s.projection_background_color= \"#ffffff\"\n",
    "    s.showSlices = True\n",
    "    \n",
    "with viewer.txn(overwrite=True) as s:\n",
    "    wb_open(str(viewer))"
   ]
  },
  {
   "cell_type": "code",
   "execution_count": 117,
   "id": "a05f3335-3041-440a-bdd5-85b7eea47c38",
   "metadata": {},
   "outputs": [],
   "source": [
    "db_cursors = sqlite3_connect(settings_dict['db_path'], check_same_thread=False).cursor()\n",
    "\n",
    "a = ', '.join(['base_address'])\n",
    "\n",
    "db_cursors.execute(f'''SELECT {a} FROM addresses_table LIMIT 1''')\n",
    "\n",
    "[base_seg] = db_cursors.fetchall()[0]\n",
    "\n",
    "\n",
    "\n",
    "two_d_intensity = 0.5\n",
    "\n",
    "with viewer.txn(overwrite=True) as s:\n",
    "\n",
    "    s.layers['base_segs'] = neuroglancer.SegmentationLayer(source = base_seg, segments=[], segment_colors={})\n",
    "    s.layers['base_segs'].ignoreNullVisibleSet = False\n",
    "    s.layers['base_segs'].pick = True\n",
    "    s.layers['base_segs'].selectedAlpha = two_d_intensity #For 2D"
   ]
  },
  {
   "cell_type": "code",
   "execution_count": 115,
   "id": "35e9da5f-d5c4-4fbd-9a80-9e0a214c9310",
   "metadata": {},
   "outputs": [],
   "source": [
    "with viewer.txn(overwrite=True) as s:\n",
    "    s.layers['em'] = neuroglancer.ImageLayer(source = 'brainmaps://10393113184:ell:roi450um_xyz')"
   ]
  },
  {
   "cell_type": "markdown",
   "id": "d20b232e-c918-4bb0-a271-f0aeb2c81070",
   "metadata": {},
   "source": [
    "### remove displayed segments"
   ]
  },
  {
   "cell_type": "code",
   "execution_count": 24,
   "id": "feeb2b04-8b55-43d1-8eba-3af186029ccd",
   "metadata": {},
   "outputs": [],
   "source": [
    "displayed_segs = set([str(x) for x in viewer.state.layers['base_segs'].segments])"
   ]
  },
  {
   "cell_type": "code",
   "execution_count": 25,
   "id": "7688d194-edd7-460e-af46-563244277de8",
   "metadata": {},
   "outputs": [],
   "source": [
    "# REMOVE SEGMENTS FROM NGviewer\n",
    "remove_segs = displayed_segs\n",
    "\n",
    "with viewer.txn(overwrite=True) as s:\n",
    "    for bs in remove_segs:\n",
    "        if int(bs) in s.layers['base_segs'].segments:\n",
    "            s.layers['base_segs'].segments.remove(int(bs))"
   ]
  },
  {
   "cell_type": "markdown",
   "id": "3a5d5702-0ab8-4135-aa41-bf5d9c131d72",
   "metadata": {},
   "source": [
    "## vizualize post-synaptic annotations\n",
    "\n",
    "color by whether the segment is part of a current reconstrution or not"
   ]
  },
  {
   "cell_type": "code",
   "execution_count": 65,
   "id": "03348295-e952-4970-ab9f-0b1c822ea5fe",
   "metadata": {},
   "outputs": [],
   "source": [
    "path_to_settings_json = '/Users/kperks/Documents/ell-connectome/eCREST-local-files/settings_dict.json'\n",
    "settings_dict = import_settings(path_to_settings_json)\n",
    "\n",
    "dirpath = Path(settings_dict['save_dir'])\n",
    "# dirpath = \"/Users/kperks/Documents/gdrive/.shortcut-targets-by-id/16q1BuOMfD2ta0Cwq8CjMlRe4rDvbuWC5/ELL_connectome/CREST_reconstructions/mg-network\"\n",
    "\n",
    "nodes = [child.name.split('_')[2] for child in sorted(dirpath.iterdir()) \n",
    "         if (child.name[0]!='.') & (child.is_file())] # ignore hidden files]\n",
    "\n",
    "nodefiles = dict()\n",
    "for child in sorted(dirpath.iterdir()):\n",
    "    if (child.name[0]!='.') & (child.is_file()):\n",
    "        nodefiles[child.name.split('_')[2]] = child\n",
    "                    \n",
    "\n",
    "all_base_seg = []\n",
    "\n",
    "for x in nodes:\n",
    "    cell = ecrest(settings_dict,filepath = nodefiles[x],launch_viewer=False)\n",
    "    all_base_seg.extend([a for b in cell.cell_data['base_segments'].values() for a in b])\n"
   ]
  },
  {
   "cell_type": "code",
   "execution_count": 71,
   "id": "1b35e386-d39e-4b5b-9447-55c00978f4cb",
   "metadata": {},
   "outputs": [],
   "source": [
    "all_syn = []\n",
    "\n",
    "for x_pre in nodes:\n",
    "    pre = ecrest(settings_dict,filepath = nodefiles[x_pre],launch_viewer=False)\n",
    "\n",
    "    # report if the cell is not cell-typed\n",
    "    if (pre.get_ctype('manual') == []) | (pre.get_ctype('manual') == ''):\n",
    "        print(f'cell {x_pre} is not cell-typed in json')\n",
    "    \n",
    "    # check if the cell is an mg cell and if it has post-synaptic segments labeled\n",
    "    if ('mg' in pre.get_ctype('manual')) & (pre.cell_data['end_points']['post-synaptic'] != []):\n",
    "        try:\n",
    "            all_syn.extend(pre.cell_data['end_points']['post-synaptic'])\n",
    "            \n",
    "        except IndexError as msg:\n",
    "                # cellid = x_pre['name']\n",
    "                print(msg, f'for cell {pre.cell_data[\"metadata\"][\"main_seg\"][\"base\"]} -- at least one synapse has no segment id')\n",
    "\n",
    "\n",
    "\n",
    "df = pd.DataFrame(all_syn, columns = ['x','y','z','segid'])\n",
    "\n",
    "syn_missing = set(set(df['segid'].values)).difference(set(all_base_seg))\n",
    "\n",
    "syn_found = set(df['segid'].values).difference(syn_missing)"
   ]
  },
  {
   "cell_type": "code",
   "execution_count": 116,
   "id": "60b12900-5e14-4c51-b697-7fd0a5cea752",
   "metadata": {},
   "outputs": [],
   "source": [
    "vx_sizes = [16, 16, 30]\n",
    "\n",
    "point_type = 'reconstructed'\n",
    "with viewer.txn(overwrite=True) as s:\n",
    "    s.layers[point_type] = neuroglancer.AnnotationLayer()\n",
    "    s.layers[point_type].annotationColor = '#ff0000'\n",
    "    \n",
    "    for pos,r in df[df['segid'].isin(list(syn_missing))][['x','y','z']].iterrows():\n",
    "        point = [r[0],r[1],r[2]]\n",
    "    # for pos, point in enumerate(self.cell_data['end_points'][point_type]):\n",
    "        point_array = array([int(point[x]/vx_sizes[x]) for x in range(3)])\n",
    "        point_id = f'{point_type}_{pos}'\n",
    "        pa = neuroglancer.PointAnnotation(id=point_id, point = point_array)\n",
    "        s.layers[point_type].annotations.append(pa)    \n",
    "\n",
    "point_type = 'missing'\n",
    "with viewer.txn(overwrite=True) as s:\n",
    "    s.layers[point_type] = neuroglancer.AnnotationLayer()\n",
    "    s.layers[point_type].annotationColor = '#228b22'\n",
    "\n",
    "    for pos,r in df[df['segid'].isin(list(syn_found))][['x','y','z']].iterrows():\n",
    "        point = [r[0],r[1],r[2]]\n",
    "    # for pos, point in enumerate(self.cell_data['end_points'][point_type]):\n",
    "        point_array = array([int(point[x]/vx_sizes[x]) for x in range(3)])\n",
    "        point_id = f'{point_type}_{pos}'\n",
    "        pa = neuroglancer.PointAnnotation(id=point_id, point = point_array)\n",
    "        s.layers[point_type].annotations.append(pa)    \n"
   ]
  },
  {
   "cell_type": "markdown",
   "id": "b5baeb7a-acc3-4c98-87f9-772ddd4bd15e",
   "metadata": {},
   "source": [
    "## visualize overlapping segments for duplicates"
   ]
  },
  {
   "cell_type": "code",
   "execution_count": null,
   "id": "16c83cc2-6bc3-4f45-a8e5-2827734f4c82",
   "metadata": {},
   "outputs": [],
   "source": [
    "overlapping_cells = ['474236060','644824967']"
   ]
  },
  {
   "cell_type": "code",
   "execution_count": 37,
   "id": "5f48cd9f-0b42-4c20-92d2-8439a94ca1ba",
   "metadata": {},
   "outputs": [],
   "source": [
    "path_to_settings_json = '/Users/kperks/Documents/ell-connectome/eCREST-local-files/settings_dict.json'\n",
    "settings_dict = import_settings(path_to_settings_json)\n",
    "\n",
    "dirpath = Path(settings_dict['save_dir'])\n",
    "# dirpath = \"/Users/kperks/Documents/gdrive/.shortcut-targets-by-id/16q1BuOMfD2ta0Cwq8CjMlRe4rDvbuWC5/ELL_connectome/CREST_reconstructions/mg-network\"\n",
    "\n",
    "nodes = [child.name.split('_')[2] for child in sorted(dirpath.iterdir()) \n",
    "         if (child.name[0]!='.') & (child.is_file())] # ignore hidden files]\n",
    "\n",
    "nodefiles = dict()\n",
    "for child in sorted(dirpath.iterdir()):\n",
    "    if (child.name[0]!='.') & (child.is_file()):\n",
    "        nodefiles[child.name.split('_')[2]] = child\n",
    "                    \n",
    "# Create a base_segments dictionary of all cells\n",
    "\n",
    "base_segments = {}\n",
    "cell_type={}\n",
    "for x in [n for n in nodes if n in overlapping_cells]:\n",
    "    cell = ecrest(settings_dict,filepath = nodefiles[x],launch_viewer=False)\n",
    "    base_segments[cell.cell_data['metadata']['main_seg']['base']] = cell.cell_data['base_segments']\n",
    "    cell_type[cell.cell_data['metadata']['main_seg']['base']] = cell.get_ctype('manual')"
   ]
  },
  {
   "cell_type": "code",
   "execution_count": 38,
   "id": "5c65f1ce-1fd7-4a91-93bb-f42121b8f23c",
   "metadata": {},
   "outputs": [
    {
     "name": "stdout",
     "output_type": "stream",
     "text": [
      "4172 segments in cell 1 that are not in cell 2\n",
      "2351 segments in cell 2 that are not in cell 1\n"
     ]
    }
   ],
   "source": [
    "segs_1 = set([a for b in base_segments[overlapping_cells[0]].values() for a in b])\n",
    "segs_2 = set([a for b in base_segments[overlapping_cells[1]].values() for a in b])\n",
    "\n",
    "print(f'{len(segs_1.difference(segs_2))} segments in cell 1 that are not in cell 2')\n",
    "print(f'{len(segs_2.difference(segs_1))} segments in cell 2 that are not in cell 1')"
   ]
  },
  {
   "cell_type": "code",
   "execution_count": 39,
   "id": "125a7696-24eb-4a6f-9c99-d640f526844b",
   "metadata": {},
   "outputs": [
    {
     "name": "stdout",
     "output_type": "stream",
     "text": [
      "25 segments in both\n"
     ]
    }
   ],
   "source": [
    "overlap_seg_list = segs_1 & segs_2\n",
    "print(f'{len(overlap_seg_list)} segments in both')"
   ]
  },
  {
   "cell_type": "markdown",
   "id": "6b7a360c-2d33-42f5-be44-05c873d6ecc5",
   "metadata": {},
   "source": [
    "set of cells from nodes"
   ]
  },
  {
   "cell_type": "code",
   "execution_count": 48,
   "id": "0e89b03a-c078-4683-9ed5-4b093763860d",
   "metadata": {},
   "outputs": [
    {
     "name": "stdout",
     "output_type": "stream",
     "text": [
      "474236060\n",
      "644824967\n"
     ]
    }
   ],
   "source": [
    "\n",
    "cell_color=['#33cc33','#cc33ff']\n",
    "for i,n in enumerate(base_segments.keys()):\n",
    "    with viewer.txn(overwrite=True) as s:\n",
    "        color_structure = cell_color[i] # blue\n",
    "        print(n)\n",
    "        for bs in [a for b in base_segments[n].values() for a in b]:\n",
    "           \n",
    "            s.layers['base_segs'].segments.add(int(bs))\n",
    "            s.layers['base_segs'].segment_colors[int(bs)] = color_structure # blue"
   ]
  },
  {
   "cell_type": "code",
   "execution_count": 49,
   "id": "12078dd7-86ee-48a8-a7f1-91de78054d0b",
   "metadata": {},
   "outputs": [],
   "source": [
    "color_structure='#ff0000'\n",
    "\n",
    "with viewer.txn(overwrite=True) as s:\n",
    "\n",
    "    for bs in list(overlap_seg_list):\n",
    "        s.layers['base_segs'].segments.add(int(bs))\n",
    "        s.layers['base_segs'].segment_colors[int(bs)] = color_structure # blue"
   ]
  },
  {
   "cell_type": "markdown",
   "id": "d98ea56f-0637-4f03-ac81-b8cb213243d7",
   "metadata": {},
   "source": [
    "## visualize output cell bodies"
   ]
  },
  {
   "cell_type": "code",
   "execution_count": 27,
   "id": "e49e1782-d99b-4a5d-adf2-9f4a076db412",
   "metadata": {},
   "outputs": [
    {
     "data": {
      "text/plain": [
       "False"
      ]
     },
     "execution_count": 27,
     "metadata": {},
     "output_type": "execute_result"
    }
   ],
   "source": [
    "x = nodes[0]\n",
    "len(base_segments[x]['unknown'])< len([a for b in base_segments[x].values() for a in b])"
   ]
  },
  {
   "cell_type": "code",
   "execution_count": 47,
   "id": "f8cdcd35-1c95-42a3-b32a-2ee2c31ae0ce",
   "metadata": {},
   "outputs": [],
   "source": [
    "toplot=[]\n",
    "for x in nodes:\n",
    "    if cell_type[x] in ['lg','lf']:\n",
    "        try:\n",
    "            assert len(base_segments[x]['unknown']) < len([a for b in base_segments[x].values() for a in b])\n",
    "            toplot.append(x)\n",
    "        except: \n",
    "            continue\n",
    "            # print(f'no cell structures labeled for {x} yet')"
   ]
  },
  {
   "cell_type": "code",
   "execution_count": 48,
   "id": "347854f5-4c24-4c6f-89b6-73c5a95f79b0",
   "metadata": {},
   "outputs": [
    {
     "data": {
      "text/plain": [
       "16"
      ]
     },
     "execution_count": 48,
     "metadata": {},
     "output_type": "execute_result"
    }
   ],
   "source": [
    "len(toplot)"
   ]
  },
  {
   "cell_type": "code",
   "execution_count": 56,
   "id": "2272fc1f-c44d-4869-99c8-cb98fcbd031e",
   "metadata": {},
   "outputs": [],
   "source": [
    "cell_color={'lf':'#ff0000','lg':'#0000ff'}\n",
    "for out_cell in toplot:\n",
    "    with viewer.txn(overwrite=True) as s:\n",
    "        color_structure = cell_color[cell_type[out_cell]] # blue\n",
    "\n",
    "        for bs in random.choices(list(base_segments[out_cell]['unknown']),k=50):\n",
    "            s.layers['base_segs'].segments.add(int(bs))\n",
    "            s.layers['base_segs'].segment_colors[int(bs)] = color_structure # blue"
   ]
  },
  {
   "cell_type": "markdown",
   "id": "4b3f08d6-d7b4-448b-9419-f63c2b4699c8",
   "metadata": {},
   "source": [
    "## MG-Output convergence"
   ]
  },
  {
   "cell_type": "code",
   "execution_count": 11,
   "id": "30ef1fe6-c071-4188-acb6-8540d23fe319",
   "metadata": {},
   "outputs": [],
   "source": [
    "lf_innet = ['393063300'] #['307591597']\n",
    "mg1_innet = ['214412684','300210608','387368998','472175645'] # ['389085521','213669553','472409584']\n",
    "lg_innet = ['215526370']\n",
    "mg2_innet = ['128473437','215572949','300316308','386117124','472051969','644825148']"
   ]
  },
  {
   "cell_type": "code",
   "execution_count": 13,
   "id": "a2bb5f08-0ca2-4da8-884c-f1e7002e7f24",
   "metadata": {},
   "outputs": [],
   "source": [
    "cell_color = '#0000ff' # '#0000ff' # '#ff0000' #\n",
    "\n",
    "for cell_id in mg1_innet:\n",
    "    this_cell = base_segments[cell_id]\n",
    "    all_segs = [a for b in this_cell.values() for a in b]\n",
    "\n",
    "    with viewer.txn(overwrite=True) as s:\n",
    "        for dtype in this_cell.keys():\n",
    "            \n",
    "            color_structure = cell_color # blue\n",
    "            \n",
    "            # if dtype=='axon':\n",
    "            #     color_structure = \"#ebecf0\"\n",
    "            \n",
    "            for bs in this_cell[dtype]:\n",
    "                s.layers['base_segs'].segments.add(int(bs))\n",
    "                s.layers['base_segs'].segment_colors[int(bs)] = color_structure # blue\n",
    "\n",
    "        # s.layers['base_segs'].segment_colors[int(self.cell_data['anchor_seg'])] = '#1e90ff'"
   ]
  },
  {
   "cell_type": "code",
   "execution_count": 14,
   "id": "7d67d38f-25e5-41ac-b1e2-17962c96ab6c",
   "metadata": {},
   "outputs": [
    {
     "ename": "KeyboardInterrupt",
     "evalue": "",
     "output_type": "error",
     "traceback": [
      "\u001b[0;31m---------------------------------------------------------------------------\u001b[0m",
      "\u001b[0;31mKeyboardInterrupt\u001b[0m                         Traceback (most recent call last)",
      "\u001b[0;32m/var/folders/4n/x3rls3t16fn723p1tbd7w7fr0000gn/T/ipykernel_90471/3504829041.py\u001b[0m in \u001b[0;36m<module>\u001b[0;34m\u001b[0m\n\u001b[1;32m      2\u001b[0m \u001b[0mfilepath\u001b[0m \u001b[0;34m=\u001b[0m \u001b[0mdownload_path\u001b[0m \u001b[0;34m/\u001b[0m \u001b[0;34m'mg1-lf_x-y_.png'\u001b[0m\u001b[0;34m\u001b[0m\u001b[0;34m\u001b[0m\u001b[0m\n\u001b[1;32m      3\u001b[0m \u001b[0;34m\u001b[0m\u001b[0m\n\u001b[0;32m----> 4\u001b[0;31m \u001b[0ms\u001b[0m \u001b[0;34m=\u001b[0m \u001b[0mviewer\u001b[0m\u001b[0;34m.\u001b[0m\u001b[0mscreenshot\u001b[0m\u001b[0;34m(\u001b[0m\u001b[0;34m)\u001b[0m\u001b[0;34m\u001b[0m\u001b[0;34m\u001b[0m\u001b[0m\n\u001b[0m\u001b[1;32m      5\u001b[0m \u001b[0;32mwith\u001b[0m \u001b[0mopen\u001b[0m\u001b[0;34m(\u001b[0m\u001b[0mfilepath\u001b[0m\u001b[0;34m,\u001b[0m \u001b[0;34m'wb'\u001b[0m\u001b[0;34m)\u001b[0m \u001b[0;32mas\u001b[0m \u001b[0mf\u001b[0m\u001b[0;34m:\u001b[0m\u001b[0;34m\u001b[0m\u001b[0;34m\u001b[0m\u001b[0m\n\u001b[1;32m      6\u001b[0m     \u001b[0mf\u001b[0m\u001b[0;34m.\u001b[0m\u001b[0mwrite\u001b[0m\u001b[0;34m(\u001b[0m\u001b[0ms\u001b[0m\u001b[0;34m.\u001b[0m\u001b[0mscreenshot\u001b[0m\u001b[0;34m.\u001b[0m\u001b[0mimage\u001b[0m\u001b[0;34m)\u001b[0m\u001b[0;34m\u001b[0m\u001b[0;34m\u001b[0m\u001b[0m\n",
      "\u001b[0;32m~/opt/anaconda3/envs/ell/lib/python3.8/site-packages/neuroglancer/viewer_base.py\u001b[0m in \u001b[0;36mscreenshot\u001b[0;34m(self, size, include_depth, statistics_callback)\u001b[0m\n\u001b[1;32m    135\u001b[0m             self.async_screenshot(handler, include_depth=include_depth,\n\u001b[1;32m    136\u001b[0m                                   statistics_callback=statistics_callback)\n\u001b[0;32m--> 137\u001b[0;31m             \u001b[0mevent\u001b[0m\u001b[0;34m.\u001b[0m\u001b[0mwait\u001b[0m\u001b[0;34m(\u001b[0m\u001b[0;34m)\u001b[0m\u001b[0;34m\u001b[0m\u001b[0;34m\u001b[0m\u001b[0m\n\u001b[0m\u001b[1;32m    138\u001b[0m             if size is not None and (result[0].screenshot.width != size[0] or\n\u001b[1;32m    139\u001b[0m                                      result[0].screenshot.height != size[1]):\n",
      "\u001b[0;32m~/opt/anaconda3/envs/ell/lib/python3.8/threading.py\u001b[0m in \u001b[0;36mwait\u001b[0;34m(self, timeout)\u001b[0m\n\u001b[1;32m    556\u001b[0m             \u001b[0msignaled\u001b[0m \u001b[0;34m=\u001b[0m \u001b[0mself\u001b[0m\u001b[0;34m.\u001b[0m\u001b[0m_flag\u001b[0m\u001b[0;34m\u001b[0m\u001b[0;34m\u001b[0m\u001b[0m\n\u001b[1;32m    557\u001b[0m             \u001b[0;32mif\u001b[0m \u001b[0;32mnot\u001b[0m \u001b[0msignaled\u001b[0m\u001b[0;34m:\u001b[0m\u001b[0;34m\u001b[0m\u001b[0;34m\u001b[0m\u001b[0m\n\u001b[0;32m--> 558\u001b[0;31m                 \u001b[0msignaled\u001b[0m \u001b[0;34m=\u001b[0m \u001b[0mself\u001b[0m\u001b[0;34m.\u001b[0m\u001b[0m_cond\u001b[0m\u001b[0;34m.\u001b[0m\u001b[0mwait\u001b[0m\u001b[0;34m(\u001b[0m\u001b[0mtimeout\u001b[0m\u001b[0;34m)\u001b[0m\u001b[0;34m\u001b[0m\u001b[0;34m\u001b[0m\u001b[0m\n\u001b[0m\u001b[1;32m    559\u001b[0m             \u001b[0;32mreturn\u001b[0m \u001b[0msignaled\u001b[0m\u001b[0;34m\u001b[0m\u001b[0;34m\u001b[0m\u001b[0m\n\u001b[1;32m    560\u001b[0m \u001b[0;34m\u001b[0m\u001b[0m\n",
      "\u001b[0;32m~/opt/anaconda3/envs/ell/lib/python3.8/threading.py\u001b[0m in \u001b[0;36mwait\u001b[0;34m(self, timeout)\u001b[0m\n\u001b[1;32m    300\u001b[0m         \u001b[0;32mtry\u001b[0m\u001b[0;34m:\u001b[0m    \u001b[0;31m# restore state no matter what (e.g., KeyboardInterrupt)\u001b[0m\u001b[0;34m\u001b[0m\u001b[0;34m\u001b[0m\u001b[0m\n\u001b[1;32m    301\u001b[0m             \u001b[0;32mif\u001b[0m \u001b[0mtimeout\u001b[0m \u001b[0;32mis\u001b[0m \u001b[0;32mNone\u001b[0m\u001b[0;34m:\u001b[0m\u001b[0;34m\u001b[0m\u001b[0;34m\u001b[0m\u001b[0m\n\u001b[0;32m--> 302\u001b[0;31m                 \u001b[0mwaiter\u001b[0m\u001b[0;34m.\u001b[0m\u001b[0macquire\u001b[0m\u001b[0;34m(\u001b[0m\u001b[0;34m)\u001b[0m\u001b[0;34m\u001b[0m\u001b[0;34m\u001b[0m\u001b[0m\n\u001b[0m\u001b[1;32m    303\u001b[0m                 \u001b[0mgotit\u001b[0m \u001b[0;34m=\u001b[0m \u001b[0;32mTrue\u001b[0m\u001b[0;34m\u001b[0m\u001b[0;34m\u001b[0m\u001b[0m\n\u001b[1;32m    304\u001b[0m             \u001b[0;32melse\u001b[0m\u001b[0;34m:\u001b[0m\u001b[0;34m\u001b[0m\u001b[0;34m\u001b[0m\u001b[0m\n",
      "\u001b[0;31mKeyboardInterrupt\u001b[0m: "
     ]
    }
   ],
   "source": [
    "download_path = Path('/Users/kperks/Downloads')\n",
    "filepath = download_path / 'mg1-lf_x-y_.png'\n",
    "\n",
    "s = viewer.screenshot()\n",
    "with open(filepath, 'wb') as f:\n",
    "    f.write(s.screenshot.image)"
   ]
  },
  {
   "cell_type": "markdown",
   "id": "e5fd137d-f894-4bef-b63f-8211f6014da1",
   "metadata": {},
   "source": [
    "### remove displayed segments"
   ]
  },
  {
   "cell_type": "code",
   "execution_count": null,
   "id": "d9150198-c4fb-40bd-8ee7-9eb71ed06cb2",
   "metadata": {},
   "outputs": [],
   "source": [
    "displayed_segs = set([str(x) for x in viewer.state.layers['base_segs'].segments])"
   ]
  },
  {
   "cell_type": "code",
   "execution_count": null,
   "id": "eb5e5537-e0e2-42ca-802f-1e909039a479",
   "metadata": {},
   "outputs": [],
   "source": [
    "# REMOVE SEGMENTS FROM NGviewer\n",
    "remove_segs = displayed_segs\n",
    "\n",
    "with viewer.txn(overwrite=True) as s:\n",
    "    for bs in remove_segs:\n",
    "        if int(bs) in s.layers['base_segs'].segments:\n",
    "            s.layers['base_segs'].segments.remove(int(bs))"
   ]
  }
 ],
 "metadata": {
  "kernelspec": {
   "display_name": "Python 3 (ipykernel)",
   "language": "python",
   "name": "python3"
  },
  "language_info": {
   "codemirror_mode": {
    "name": "ipython",
    "version": 3
   },
   "file_extension": ".py",
   "mimetype": "text/x-python",
   "name": "python",
   "nbconvert_exporter": "python",
   "pygments_lexer": "ipython3",
   "version": "3.8.13"
  },
  "widgets": {
   "application/vnd.jupyter.widget-state+json": {
    "state": {},
    "version_major": 2,
    "version_minor": 0
   }
  }
 },
 "nbformat": 4,
 "nbformat_minor": 5
}
