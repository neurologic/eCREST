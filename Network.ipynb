{
 "cells": [
  {
   "cell_type": "markdown",
   "id": "b4361375-878a-4ba4-9a29-f52ec0506f28",
   "metadata": {},
   "source": [
    "# Network eCREST\n",
    "\n"
   ]
  },
  {
   "cell_type": "markdown",
   "id": "6c6feb00-73b2-4036-b52a-1c3686b50a5d",
   "metadata": {},
   "source": [
    "## Setup\n",
    "\n",
    "Do the following two setup steps regardless of how you will be using this script. \n",
    "\n",
    "### 1. Imports\n",
    "\n",
    "Run the following code cell to import the necessary packages and modules. "
   ]
  },
  {
   "cell_type": "code",
   "execution_count": 1,
   "id": "f5b787d1-3dd0-4536-a36f-8abe42352826",
   "metadata": {},
   "outputs": [],
   "source": [
    "############################################################################################################################ \n",
    "# Get the latest CREST files for each ID within the target folder (dirname)\n",
    "\n",
    "from pathlib import Path\n",
    "import json\n",
    "from sqlite3 import connect as sqlite3_connect\n",
    "from sqlite3 import DatabaseError\n",
    "from igraph import Graph as ig_Graph\n",
    "from igraph import plot as ig_plot\n",
    "from scipy.spatial.distance import cdist\n",
    "from random import choice as random_choice\n",
    "from itertools import combinations\n",
    "from numpy import array, unravel_index, argmin, mean,unique\n",
    "from copy import deepcopy\n",
    "from datetime import datetime\n",
    "from time import time\n",
    "import neuroglancer\n",
    "from webbrowser import open as wb_open\n",
    "from webbrowser import open_new as wb_open_new\n",
    "\n",
    "from eCREST_cli import ecrest, import_settings"
   ]
  },
  {
   "cell_type": "markdown",
   "id": "62e304ed-6b4b-4fa4-a6b9-2cb0e6782d6a",
   "metadata": {},
   "source": [
    "The 'ecrest' class has been imported from eCREST_cli.py\n",
    "\n",
    "An instance of this object will be able to:\n",
    "- open an neuroglancer viewer for proofrieading (see \"Proofread using CREST\")\n",
    "    - add-remove segments (using graph feature for efficiency)\n",
    "    - format itself and save itself as a CREST-style .json\n",
    "- convert from neuroglancer json (see \"Convert From Neuroglancer to eCREST\")\n",
    "    - format itself and save itself as a CREST-style .json\n",
    "    \n"
   ]
  },
  {
   "cell_type": "code",
   "execution_count": 2,
   "id": "5f48cd9f-0b42-4c20-92d2-8439a94ca1ba",
   "metadata": {},
   "outputs": [],
   "source": [
    "path_to_settings_json = '/Users/kperks/Documents/ell-connectome/eCREST-local-files/settings_dict.json'\n",
    "settings_dict = import_settings(path_to_settings_json)\n",
    "\n",
    "dirpath = Path(settings_dict['save_dir'])\n",
    "# dirpath = \"/Users/kperks/Documents/gdrive/.shortcut-targets-by-id/16q1BuOMfD2ta0Cwq8CjMlRe4rDvbuWC5/ELL_connectome/CREST_reconstructions/mg-network\"\n",
    "\n",
    "nodes = [child.name.split('_')[2] for child in sorted(dirpath.iterdir()) \n",
    "         if (child.name[0]!='.') & (child.is_file())] # ignore hidden files]\n",
    "\n",
    "nodefiles = dict()\n",
    "for child in sorted(dirpath.iterdir()):\n",
    "    if (child.name[0]!='.') & (child.is_file()):\n",
    "        nodefiles[child.name.split('_')[2]] = child\n",
    "                    \n",
    "\n",
    "\n",
    "# Create a base_segments dictionary of all cells\n",
    "\n",
    "base_segments = {}\n",
    "for x in nodes:\n",
    "    cell = ecrest(settings_dict,filepath = nodefiles[x],launch_viewer=False)\n",
    "    base_segments[cell.cell_data['metadata']['main_seg']['base']] = cell.cell_data['base_segments']"
   ]
  },
  {
   "cell_type": "code",
   "execution_count": 3,
   "id": "76cd5a23-3e2f-4ede-9f61-a91861fdfc2d",
   "metadata": {},
   "outputs": [
    {
     "data": {
      "text/plain": [
       "'0c1a78469685f66bad2bd84db3affbe1783db805'"
      ]
     },
     "execution_count": 3,
     "metadata": {},
     "output_type": "execute_result"
    }
   ],
   "source": [
    "viewer = neuroglancer.Viewer()\n",
    "viewer.set_state({})"
   ]
  },
  {
   "cell_type": "code",
   "execution_count": 4,
   "id": "156d86fd-ab29-4d19-850e-c69ef3b07b4b",
   "metadata": {},
   "outputs": [],
   "source": [
    "location=[17000,17000,1500]\n",
    "\n",
    "with viewer.config_state.txn() as s:\n",
    "    s.show_layer_panel = True ###"
   ]
  },
  {
   "cell_type": "code",
   "execution_count": 5,
   "id": "aa7c35fa-afe8-40b4-b03a-40876124b8de",
   "metadata": {},
   "outputs": [],
   "source": [
    "with viewer.txn(overwrite=True) as s:\n",
    "           \n",
    "    dimensions = neuroglancer.CoordinateSpace(\n",
    "        scales=[16, 16, 30],# self.vx_sizes['em'],\n",
    "        units='nm',\n",
    "        names=['x', 'y', 'z']   )\n",
    "\n",
    "    s.showSlices = False\n",
    "    s.dimensions = dimensions\n",
    "    s.position = array(location)\n",
    "    s.layout = \"3d\"\n",
    "    s.projectionScale = 30000\n",
    "    "
   ]
  },
  {
   "cell_type": "code",
   "execution_count": 6,
   "id": "98843a37-b47f-4cef-a61b-423b3a3a7e8d",
   "metadata": {},
   "outputs": [
    {
     "ename": "AttributeError",
     "evalue": "'ViewerState' object has no attribute 'perspectiveViewBackgroundColor'",
     "output_type": "error",
     "traceback": [
      "\u001b[0;31m---------------------------------------------------------------------------\u001b[0m",
      "\u001b[0;31mAttributeError\u001b[0m                            Traceback (most recent call last)",
      "\u001b[0;32m/var/folders/4n/x3rls3t16fn723p1tbd7w7fr0000gn/T/ipykernel_90471/2113134807.py\u001b[0m in \u001b[0;36m<module>\u001b[0;34m\u001b[0m\n\u001b[1;32m      1\u001b[0m \u001b[0;32mwith\u001b[0m \u001b[0mviewer\u001b[0m\u001b[0;34m.\u001b[0m\u001b[0mtxn\u001b[0m\u001b[0;34m(\u001b[0m\u001b[0moverwrite\u001b[0m\u001b[0;34m=\u001b[0m\u001b[0;32mTrue\u001b[0m\u001b[0;34m)\u001b[0m \u001b[0;32mas\u001b[0m \u001b[0ms\u001b[0m\u001b[0;34m:\u001b[0m\u001b[0;34m\u001b[0m\u001b[0;34m\u001b[0m\u001b[0m\n\u001b[0;32m----> 2\u001b[0;31m     \u001b[0ms\u001b[0m\u001b[0;34m.\u001b[0m\u001b[0mperspectiveViewBackgroundColor\u001b[0m\u001b[0;34m=\u001b[0m \u001b[0;34m\"#ffffff\"\u001b[0m\u001b[0;34m\u001b[0m\u001b[0;34m\u001b[0m\u001b[0m\n\u001b[0m\u001b[1;32m      3\u001b[0m \u001b[0;34m\u001b[0m\u001b[0m\n",
      "\u001b[0;31mAttributeError\u001b[0m: 'ViewerState' object has no attribute 'perspectiveViewBackgroundColor'"
     ]
    }
   ],
   "source": [
    "with viewer.txn(overwrite=True) as s:\n",
    "    s.perspectiveViewBackgroundColor= \"#ffffff\"\n",
    "    "
   ]
  },
  {
   "cell_type": "code",
   "execution_count": 7,
   "id": "61b8c429-26bd-485a-91ae-8fb646ecf7d5",
   "metadata": {},
   "outputs": [],
   "source": [
    "with viewer.txn(overwrite=True) as s:\n",
    "    wb_open(str(viewer))"
   ]
  },
  {
   "cell_type": "code",
   "execution_count": 8,
   "id": "36f4c5a0-02a1-404d-883d-c6ecfde2619d",
   "metadata": {},
   "outputs": [],
   "source": [
    "db_cursors = sqlite3_connect(settings_dict['db_path'], check_same_thread=False).cursor()\n",
    "\n",
    "a = ', '.join(['base_address'])\n",
    "\n",
    "db_cursors.execute(f'''SELECT {a} FROM addresses_table LIMIT 1''')\n",
    "\n",
    "[base_seg] = db_cursors.fetchall()[0]\n",
    "\n"
   ]
  },
  {
   "cell_type": "code",
   "execution_count": null,
   "id": "f24b5e66-1a3c-4542-b671-4f2d0a4df1b6",
   "metadata": {},
   "outputs": [],
   "source": [
    "base_seg"
   ]
  },
  {
   "cell_type": "code",
   "execution_count": 10,
   "id": "56169e22-be8d-4344-9379-81546c6c73f5",
   "metadata": {},
   "outputs": [],
   "source": [
    "two_d_intensity = 0.5\n",
    "\n",
    "with viewer.txn(overwrite=True) as s:\n",
    "\n",
    "    s.layers['base_segs'] = neuroglancer.SegmentationLayer(source = base_seg, segments=[], segment_colors={})\n",
    "    s.layers['base_segs'].ignoreNullVisibleSet = False\n",
    "    s.layers['base_segs'].pick = False\n",
    "    s.layers['base_segs'].selectedAlpha = two_d_intensity #For 2D"
   ]
  },
  {
   "cell_type": "code",
   "execution_count": 11,
   "id": "30ef1fe6-c071-4188-acb6-8540d23fe319",
   "metadata": {},
   "outputs": [],
   "source": [
    "lf_innet = ['393063300'] #['307591597']\n",
    "mg1_innet = ['214412684','300210608','387368998','472175645'] # ['389085521','213669553','472409584']\n",
    "lg_innet = ['215526370']\n",
    "mg2_innet = ['128473437','215572949','300316308','386117124','472051969','644825148']"
   ]
  },
  {
   "cell_type": "code",
   "execution_count": 13,
   "id": "a2bb5f08-0ca2-4da8-884c-f1e7002e7f24",
   "metadata": {},
   "outputs": [],
   "source": [
    "cell_color = '#0000ff' # '#0000ff' # '#ff0000' #\n",
    "\n",
    "for cell_id in mg1_innet:\n",
    "    this_cell = base_segments[cell_id]\n",
    "    all_segs = [a for b in this_cell.values() for a in b]\n",
    "\n",
    "    with viewer.txn(overwrite=True) as s:\n",
    "        for dtype in this_cell.keys():\n",
    "            \n",
    "            color_structure = cell_color # blue\n",
    "            \n",
    "            # if dtype=='axon':\n",
    "            #     color_structure = \"#ebecf0\"\n",
    "            \n",
    "            for bs in this_cell[dtype]:\n",
    "                s.layers['base_segs'].segments.add(int(bs))\n",
    "                s.layers['base_segs'].segment_colors[int(bs)] = color_structure # blue\n",
    "\n",
    "        # s.layers['base_segs'].segment_colors[int(self.cell_data['anchor_seg'])] = '#1e90ff'"
   ]
  },
  {
   "cell_type": "code",
   "execution_count": null,
   "id": "d9150198-c4fb-40bd-8ee7-9eb71ed06cb2",
   "metadata": {},
   "outputs": [],
   "source": [
    "displayed_segs = set([str(x) for x in viewer.state.layers['base_segs'].segments])"
   ]
  },
  {
   "cell_type": "code",
   "execution_count": null,
   "id": "eb5e5537-e0e2-42ca-802f-1e909039a479",
   "metadata": {},
   "outputs": [],
   "source": [
    "# REMOVE SEGMENTS FROM NGviewer\n",
    "remove_segs = displayed_segs\n",
    "\n",
    "with viewer.txn(overwrite=True) as s:\n",
    "    for bs in remove_segs:\n",
    "        if int(bs) in s.layers['base_segs'].segments:\n",
    "            s.layers['base_segs'].segments.remove(int(bs))"
   ]
  },
  {
   "cell_type": "code",
   "execution_count": 14,
   "id": "7d67d38f-25e5-41ac-b1e2-17962c96ab6c",
   "metadata": {},
   "outputs": [
    {
     "ename": "KeyboardInterrupt",
     "evalue": "",
     "output_type": "error",
     "traceback": [
      "\u001b[0;31m---------------------------------------------------------------------------\u001b[0m",
      "\u001b[0;31mKeyboardInterrupt\u001b[0m                         Traceback (most recent call last)",
      "\u001b[0;32m/var/folders/4n/x3rls3t16fn723p1tbd7w7fr0000gn/T/ipykernel_90471/3504829041.py\u001b[0m in \u001b[0;36m<module>\u001b[0;34m\u001b[0m\n\u001b[1;32m      2\u001b[0m \u001b[0mfilepath\u001b[0m \u001b[0;34m=\u001b[0m \u001b[0mdownload_path\u001b[0m \u001b[0;34m/\u001b[0m \u001b[0;34m'mg1-lf_x-y_.png'\u001b[0m\u001b[0;34m\u001b[0m\u001b[0;34m\u001b[0m\u001b[0m\n\u001b[1;32m      3\u001b[0m \u001b[0;34m\u001b[0m\u001b[0m\n\u001b[0;32m----> 4\u001b[0;31m \u001b[0ms\u001b[0m \u001b[0;34m=\u001b[0m \u001b[0mviewer\u001b[0m\u001b[0;34m.\u001b[0m\u001b[0mscreenshot\u001b[0m\u001b[0;34m(\u001b[0m\u001b[0;34m)\u001b[0m\u001b[0;34m\u001b[0m\u001b[0;34m\u001b[0m\u001b[0m\n\u001b[0m\u001b[1;32m      5\u001b[0m \u001b[0;32mwith\u001b[0m \u001b[0mopen\u001b[0m\u001b[0;34m(\u001b[0m\u001b[0mfilepath\u001b[0m\u001b[0;34m,\u001b[0m \u001b[0;34m'wb'\u001b[0m\u001b[0;34m)\u001b[0m \u001b[0;32mas\u001b[0m \u001b[0mf\u001b[0m\u001b[0;34m:\u001b[0m\u001b[0;34m\u001b[0m\u001b[0;34m\u001b[0m\u001b[0m\n\u001b[1;32m      6\u001b[0m     \u001b[0mf\u001b[0m\u001b[0;34m.\u001b[0m\u001b[0mwrite\u001b[0m\u001b[0;34m(\u001b[0m\u001b[0ms\u001b[0m\u001b[0;34m.\u001b[0m\u001b[0mscreenshot\u001b[0m\u001b[0;34m.\u001b[0m\u001b[0mimage\u001b[0m\u001b[0;34m)\u001b[0m\u001b[0;34m\u001b[0m\u001b[0;34m\u001b[0m\u001b[0m\n",
      "\u001b[0;32m~/opt/anaconda3/envs/ell/lib/python3.8/site-packages/neuroglancer/viewer_base.py\u001b[0m in \u001b[0;36mscreenshot\u001b[0;34m(self, size, include_depth, statistics_callback)\u001b[0m\n\u001b[1;32m    135\u001b[0m             self.async_screenshot(handler, include_depth=include_depth,\n\u001b[1;32m    136\u001b[0m                                   statistics_callback=statistics_callback)\n\u001b[0;32m--> 137\u001b[0;31m             \u001b[0mevent\u001b[0m\u001b[0;34m.\u001b[0m\u001b[0mwait\u001b[0m\u001b[0;34m(\u001b[0m\u001b[0;34m)\u001b[0m\u001b[0;34m\u001b[0m\u001b[0;34m\u001b[0m\u001b[0m\n\u001b[0m\u001b[1;32m    138\u001b[0m             if size is not None and (result[0].screenshot.width != size[0] or\n\u001b[1;32m    139\u001b[0m                                      result[0].screenshot.height != size[1]):\n",
      "\u001b[0;32m~/opt/anaconda3/envs/ell/lib/python3.8/threading.py\u001b[0m in \u001b[0;36mwait\u001b[0;34m(self, timeout)\u001b[0m\n\u001b[1;32m    556\u001b[0m             \u001b[0msignaled\u001b[0m \u001b[0;34m=\u001b[0m \u001b[0mself\u001b[0m\u001b[0;34m.\u001b[0m\u001b[0m_flag\u001b[0m\u001b[0;34m\u001b[0m\u001b[0;34m\u001b[0m\u001b[0m\n\u001b[1;32m    557\u001b[0m             \u001b[0;32mif\u001b[0m \u001b[0;32mnot\u001b[0m \u001b[0msignaled\u001b[0m\u001b[0;34m:\u001b[0m\u001b[0;34m\u001b[0m\u001b[0;34m\u001b[0m\u001b[0m\n\u001b[0;32m--> 558\u001b[0;31m                 \u001b[0msignaled\u001b[0m \u001b[0;34m=\u001b[0m \u001b[0mself\u001b[0m\u001b[0;34m.\u001b[0m\u001b[0m_cond\u001b[0m\u001b[0;34m.\u001b[0m\u001b[0mwait\u001b[0m\u001b[0;34m(\u001b[0m\u001b[0mtimeout\u001b[0m\u001b[0;34m)\u001b[0m\u001b[0;34m\u001b[0m\u001b[0;34m\u001b[0m\u001b[0m\n\u001b[0m\u001b[1;32m    559\u001b[0m             \u001b[0;32mreturn\u001b[0m \u001b[0msignaled\u001b[0m\u001b[0;34m\u001b[0m\u001b[0;34m\u001b[0m\u001b[0m\n\u001b[1;32m    560\u001b[0m \u001b[0;34m\u001b[0m\u001b[0m\n",
      "\u001b[0;32m~/opt/anaconda3/envs/ell/lib/python3.8/threading.py\u001b[0m in \u001b[0;36mwait\u001b[0;34m(self, timeout)\u001b[0m\n\u001b[1;32m    300\u001b[0m         \u001b[0;32mtry\u001b[0m\u001b[0;34m:\u001b[0m    \u001b[0;31m# restore state no matter what (e.g., KeyboardInterrupt)\u001b[0m\u001b[0;34m\u001b[0m\u001b[0;34m\u001b[0m\u001b[0m\n\u001b[1;32m    301\u001b[0m             \u001b[0;32mif\u001b[0m \u001b[0mtimeout\u001b[0m \u001b[0;32mis\u001b[0m \u001b[0;32mNone\u001b[0m\u001b[0;34m:\u001b[0m\u001b[0;34m\u001b[0m\u001b[0;34m\u001b[0m\u001b[0m\n\u001b[0;32m--> 302\u001b[0;31m                 \u001b[0mwaiter\u001b[0m\u001b[0;34m.\u001b[0m\u001b[0macquire\u001b[0m\u001b[0;34m(\u001b[0m\u001b[0;34m)\u001b[0m\u001b[0;34m\u001b[0m\u001b[0;34m\u001b[0m\u001b[0m\n\u001b[0m\u001b[1;32m    303\u001b[0m                 \u001b[0mgotit\u001b[0m \u001b[0;34m=\u001b[0m \u001b[0;32mTrue\u001b[0m\u001b[0;34m\u001b[0m\u001b[0;34m\u001b[0m\u001b[0m\n\u001b[1;32m    304\u001b[0m             \u001b[0;32melse\u001b[0m\u001b[0;34m:\u001b[0m\u001b[0;34m\u001b[0m\u001b[0;34m\u001b[0m\u001b[0m\n",
      "\u001b[0;31mKeyboardInterrupt\u001b[0m: "
     ]
    }
   ],
   "source": [
    "download_path = Path('/Users/kperks/Downloads')\n",
    "filepath = download_path / 'mg1-lf_x-y_.png'\n",
    "\n",
    "s = viewer.screenshot()\n",
    "with open(filepath, 'wb') as f:\n",
    "    f.write(s.screenshot.image)"
   ]
  },
  {
   "cell_type": "code",
   "execution_count": null,
   "id": "68b7e635-6009-4af4-861c-8b3bcb436a93",
   "metadata": {},
   "outputs": [],
   "source": [
    "viewer."
   ]
  }
 ],
 "metadata": {
  "kernelspec": {
   "display_name": "Python 3 (ipykernel)",
   "language": "python",
   "name": "python3"
  },
  "language_info": {
   "codemirror_mode": {
    "name": "ipython",
    "version": 3
   },
   "file_extension": ".py",
   "mimetype": "text/x-python",
   "name": "python",
   "nbconvert_exporter": "python",
   "pygments_lexer": "ipython3",
   "version": "3.8.13"
  },
  "widgets": {
   "application/vnd.jupyter.widget-state+json": {
    "state": {},
    "version_major": 2,
    "version_minor": 0
   }
  }
 },
 "nbformat": 4,
 "nbformat_minor": 5
}
