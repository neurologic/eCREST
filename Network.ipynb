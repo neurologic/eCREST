{
 "cells": [
  {
   "cell_type": "markdown",
   "id": "b4361375-878a-4ba4-9a29-f52ec0506f28",
   "metadata": {},
   "source": [
    "# Network eCREST\n",
    "\n"
   ]
  },
  {
   "cell_type": "markdown",
   "id": "6c6feb00-73b2-4036-b52a-1c3686b50a5d",
   "metadata": {},
   "source": [
    "## Setup\n",
    "\n",
    "Do the following two setup steps regardless of how you will be using this script. \n",
    "\n",
    "### 1. Imports\n",
    "\n",
    "Run the following code cell to import the necessary packages and modules. "
   ]
  },
  {
   "cell_type": "code",
   "execution_count": 1,
   "id": "f5b787d1-3dd0-4536-a36f-8abe42352826",
   "metadata": {},
   "outputs": [],
   "source": [
    "############################################################################################################################ \n",
    "# Get the latest CREST files for each ID within the target folder (dirname)\n",
    "\n",
    "from pathlib import Path\n",
    "import json\n",
    "from sqlite3 import connect as sqlite3_connect\n",
    "from sqlite3 import DatabaseError\n",
    "from igraph import Graph as ig_Graph\n",
    "from igraph import plot as ig_plot\n",
    "from scipy.spatial.distance import cdist\n",
    "from random import choice as random_choice\n",
    "from itertools import combinations\n",
    "from numpy import array, unravel_index, argmin, mean,unique\n",
    "from copy import deepcopy\n",
    "from datetime import datetime\n",
    "from time import time\n",
    "import neuroglancer\n",
    "from webbrowser import open as wb_open\n",
    "from webbrowser import open_new as wb_open_new\n",
    "\n",
    "from eCREST_cli import ecrest, import_settings"
   ]
  },
  {
   "cell_type": "markdown",
   "id": "62e304ed-6b4b-4fa4-a6b9-2cb0e6782d6a",
   "metadata": {},
   "source": [
    "The 'ecrest' class has been imported from eCREST_cli.py\n",
    "\n",
    "An instance of this object will be able to:\n",
    "- open an neuroglancer viewer for proofrieading (see \"Proofread using CREST\")\n",
    "    - add-remove segments (using graph feature for efficiency)\n",
    "    - format itself and save itself as a CREST-style .json\n",
    "- convert from neuroglancer json (see \"Convert From Neuroglancer to eCREST\")\n",
    "    - format itself and save itself as a CREST-style .json\n",
    "    \n"
   ]
  },
  {
   "cell_type": "code",
   "execution_count": 9,
   "id": "acae1086-44e4-4309-81fc-5b5b00e2a59d",
   "metadata": {},
   "outputs": [],
   "source": [
    "viewer = neuroglancer.Viewer()\n",
    "viewer.set_state({})\n",
    "\n",
    "location=[17000,17000,1500]\n",
    "\n",
    "with viewer.config_state.txn() as s:\n",
    "    s.show_layer_panel = True ###\n",
    "\n",
    "with viewer.txn(overwrite=True) as s:\n",
    "           \n",
    "    dimensions = neuroglancer.CoordinateSpace(\n",
    "        scales=[16, 16, 30],# self.vx_sizes['em'],\n",
    "        units='nm',\n",
    "        names=['x', 'y', 'z']   )\n",
    "\n",
    "    s.showSlices = False\n",
    "    s.dimensions = dimensions\n",
    "    s.position = array(location)\n",
    "    s.layout = \"3d\"\n",
    "    s.projectionScale = 30000\n",
    "\n",
    "    wb_open(str(viewer))\n"
   ]
  }
 ],
 "metadata": {
  "kernelspec": {
   "display_name": "Python 3 (ipykernel)",
   "language": "python",
   "name": "python3"
  },
  "language_info": {
   "codemirror_mode": {
    "name": "ipython",
    "version": 3
   },
   "file_extension": ".py",
   "mimetype": "text/x-python",
   "name": "python",
   "nbconvert_exporter": "python",
   "pygments_lexer": "ipython3",
   "version": "3.11.0"
  }
 },
 "nbformat": 4,
 "nbformat_minor": 5
}
