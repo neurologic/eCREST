{
 "cells": [
  {
   "cell_type": "markdown",
   "id": "bd548e97-d216-4bf7-b535-b4bd8d8f6c7c",
   "metadata": {},
   "source": [
    "# eCREST_notebook\n",
    "\n",
    "Basic functions for reconstructing cells.\n",
    "\n",
    "# Setup\n",
    "\n",
    "Do the following two setup steps regardless of how you will be using this script. \n",
    "\n",
    "## 1. Imports\n",
    "\n",
    "Run the following code cell to import the necessary packages and modules. "
   ]
  },
  {
   "cell_type": "code",
   "execution_count": 1,
   "id": "28175797-a93e-416b-a889-3f68e265fe70",
   "metadata": {},
   "outputs": [],
   "source": [
    "############################################################################################################################ \n",
    "# Get the latest CREST files for each ID within the target folder (dirname)\n",
    "\n",
    "from pathlib import Path\n",
    "import json\n",
    "from sqlite3 import connect as sqlite3_connect\n",
    "from sqlite3 import DatabaseError\n",
    "from igraph import Graph as ig_Graph\n",
    "from igraph import plot as ig_plot\n",
    "from scipy.spatial.distance import cdist\n",
    "from random import choice as random_choice\n",
    "from itertools import combinations\n",
    "from numpy import array, unravel_index, argmin, mean,unique,nan\n",
    "import pandas as pd\n",
    "from copy import deepcopy\n",
    "from datetime import datetime\n",
    "from time import time\n",
    "import neuroglancer\n",
    "from webbrowser import open as wb_open\n",
    "from webbrowser import open_new as wb_open_new\n",
    "import neuroglancer\n",
    "\n",
    "# from eCREST_cli_beta import ecrest, import_settings\n",
    "from eCREST_cli import ecrest, import_settings, get_cell_filepaths"
   ]
  },
  {
   "cell_type": "markdown",
   "id": "2832d693-5b15-4b06-ac7a-8721e1adc7d3",
   "metadata": {},
   "source": [
    "The 'ecrest' class has been imported from eCREST_cli.py\n",
    "\n",
    "An instance of this object will be able to do things like:\n",
    "- open an neuroglancer viewer for proofrieading (see \"Proofread using CREST\")\n",
    "    - add-remove segments (using graph feature for efficiency)\n",
    "    - format itself and save itself as a CREST-style .json\n",
    "- add or remove annotation layers (see \"Annotation Layers\")\n",
    "- check for overlap with other .json files in a directory folder (see \"check for overlap\")\n",
    "- label cell structures\n",
    "- add base_segments from a list (see \"add segments\")\n",
    "- import annotations from another file (see \"Annotation Import\")\n",
    "- convert from neuroglancer json (see \"Convert From Neuroglancer to eCREST\")\n",
    "    - format itself and save itself as a CREST-style .json\n",
    "    \n"
   ]
  },
  {
   "cell_type": "markdown",
   "id": "6389865b-9c52-4e0d-9261-f94b8ad49784",
   "metadata": {},
   "source": [
    "## 2. Settings definitions\n",
    "\n",
    "Whether you are converting from neuroglancer or creating a new reconstruction, the settings_dict parameters is needed to create CREST json files with correct formatting. \n",
    "- 'save_dir' : the directory where JSON files are saved \n",
    "- 'cred' and 'db_path' : specify the path to the agglomeration database file on your local computer. "
   ]
  },
  {
   "cell_type": "code",
   "execution_count": 2,
   "id": "1e49e4bd-680e-4d3b-9238-2e658542e1b7",
   "metadata": {},
   "outputs": [],
   "source": [
    "path_to_settings_json = '/Users/kperks/Documents/ell-connectome/eCREST-local-files/settings_dict.json'\n",
    "settings_dict = import_settings(path_to_settings_json)"
   ]
  },
  {
   "cell_type": "markdown",
   "id": "5e22556b-95c5-4a47-b48a-01799430bf8a",
   "metadata": {},
   "source": [
    "# Proofread using (e)CREST\n",
    "\n",
    "The ```ecrest``` class defined in eCREST_cli.py can be used to proofread base_segment reconstructions enhanced by the agglomeration database.\n",
    "\n",
    "An instance of this class can be initialized with either:\n",
    "- ecrest(segment_id): a \"main_base_id\" in *int* format\n",
    "- ecrest(filepath): an existing CREST .json file\n",
    "- ecrest(segment_id, segment_list): the main_base_id from the neuroglancer file you are converting and a list of base_segments.\n",
    "\n",
    "The ```launch_viewer``` flag default is \"False\" so that you can interact with the contents of a reconstruction without actually opening it visually in a neuroglancer tab. **NOTE**: Some ecrest functions require that the ecrest instance is created with ```launch_viewer==True```."
   ]
  },
  {
   "cell_type": "markdown",
   "id": "9bcf9377-3063-45b5-a6eb-eb9fe97f3037",
   "metadata": {},
   "source": [
    "## NEW reconstruction from segment ID\n",
    "\n",
    "If you wanted to start reconstructing a new cell from a main base segment, you would use the following code block to launch.\n",
    "\n",
    "To change the save location you can specify the ```directory_path``` flag in the ```save_cell_graph()``` module"
   ]
  },
  {
   "cell_type": "code",
   "execution_count": null,
   "id": "ad5cb56d-9c07-4411-a1c0-804429108b6a",
   "metadata": {},
   "outputs": [],
   "source": [
    "segment_id = 638482210\n",
    "crest = ecrest(settings_dict,segment_id = segment_id, launch_viewer=True)\n",
    "\n",
    "# crest.change_key_binding({\"alt+mousedown0\" : \"add-or-remove-seg\"})"
   ]
  },
  {
   "cell_type": "code",
   "execution_count": null,
   "id": "eaf9283c-1066-47aa-905d-d09729be1f2e",
   "metadata": {},
   "outputs": [],
   "source": [
    "crest.add_endpoint_annotation_layers(['soma'],link=True) # spine_inputs\n",
    "print(crest.get_ctype('manual'))"
   ]
  },
  {
   "cell_type": "code",
   "execution_count": null,
   "id": "0a1c0f79-c431-4e9b-a171-b85758f2f66f",
   "metadata": {},
   "outputs": [],
   "source": [
    "print('overlap in main network:'); df = crest.check_duplicates(base_segments_net); display(df)\n",
    "print('overlap in to do folder:'); df = crest.check_duplicates(base_segments_todo); display(df)"
   ]
  },
  {
   "cell_type": "code",
   "execution_count": null,
   "id": "95089176-2759-4080-9158-3ed12036c2db",
   "metadata": {},
   "outputs": [],
   "source": [
    "cell_type = 'pf' # Assign the cell type then run the code cell\n",
    "\n",
    "crest.define_ctype(cell_type,\"manual\")"
   ]
  },
  {
   "cell_type": "code",
   "execution_count": null,
   "id": "1927d429-28b6-40e3-92dc-9af06024c2b8",
   "metadata": {},
   "outputs": [],
   "source": [
    "crest.save_cell_graph()"
   ]
  },
  {
   "cell_type": "markdown",
   "id": "e55189cf-a176-47e3-98a0-58def36c26f0",
   "metadata": {
    "tags": []
   },
   "source": [
    "\n",
    "## EDIT reconstruction from file\n",
    "\n",
    "If you wanted to edit a reconstruction from an existing file, you would use the following code block to launch.\n",
    "\n",
    "Specify the cell_id and the path to the directory that cell is in. \n",
    "\n",
    "> NOTE: You can also directly copy paste the full filepath to the cell you want to open and pass it to the ```filepath``` flag.  \n",
    "In that case, the only code you need is crest = ecrest(settings_dict,filepath= [*paste filepath here*], launch_viewer=True)\n",
    "\n",
    "To change the save location you can specify the ```directory_path``` flag in the ```save_cell_graph()``` module\n",
    "\n",
    "> To overwrite a file (not recommended), specify ```(directory_path = cell_filepaths[cell_id].parent, file_name = cell_filepaths[cell_id].name)```"
   ]
  },
  {
   "cell_type": "code",
   "execution_count": null,
   "id": "e95c9ff2-4aea-4f45-9f56-9df7cc4f6075",
   "metadata": {},
   "outputs": [],
   "source": [
    "'UK' todo\n",
    "[]"
   ]
  },
  {
   "cell_type": "code",
   "execution_count": 3,
   "id": "6c4326ca-859e-46c8-b34f-092f94f2af80",
   "metadata": {},
   "outputs": [],
   "source": [
    "directory_path = Path(settings_dict['save_dir']) #/ 'todo_presynaptic/mg1_299496636' #/ 'kp/pfs'#/ 'volume-subsample-all/in_progress'  ## specify the directory path\n",
    "cell_filepaths = get_cell_filepaths(directory_path) # gets filepaths for all cells in a directory\n",
    "# cell_filepaths = cell_filepaths_mainnet"
   ]
  },
  {
   "cell_type": "code",
   "execution_count": 4,
   "id": "302a1360-8854-4491-a134-723f83dc7353",
   "metadata": {},
   "outputs": [
    {
     "name": "stdout",
     "output_type": "stream",
     "text": [
      "updating viewer status message: Current Base Segment Counts: unknown: 1011, axon: 93, basal dendrite: 52, apical dendrite: 664, dendrite: 0, multiple: 162\n"
     ]
    },
    {
     "data": {
      "text/plain": [
       "Map({\"dblclick0\": \"add-or-remove-seg\", \"alt+mousedown2\": \"mark-branch-in-colour\", \"shift+mousedown2\": \"change-anchor-seg\", \"alt+mousedown0\": \"add-or-remove-seg\"})"
      ]
     },
     "execution_count": 4,
     "metadata": {},
     "output_type": "execute_result"
    }
   ],
   "source": [
    "cell_id = '216081986' # specify the cell id\n",
    "\n",
    "crest = ecrest(settings_dict,filepath= cell_filepaths[cell_id], launch_viewer=True)\n",
    "\n",
    "crest.change_key_binding({\"alt+mousedown0\" : \"add-or-remove-seg\"})"
   ]
  },
  {
   "cell_type": "code",
   "execution_count": null,
   "id": "d34ac926-d04e-4d1e-afe2-cb0e7ac5ed84",
   "metadata": {},
   "outputs": [],
   "source": [
    "cell_type = 'fov' # Assign the cell type then run the code cell\n",
    "\n",
    "crest.define_ctype(cell_type,\"manual\")"
   ]
  },
  {
   "cell_type": "code",
   "execution_count": null,
   "id": "a6aca5f3-9c21-41a8-9839-55b07cce89b4",
   "metadata": {},
   "outputs": [],
   "source": [
    "# crest.cell_data['removed_base_segs']=set()"
   ]
  },
  {
   "cell_type": "code",
   "execution_count": null,
   "id": "99964ac5-3199-4cab-b1bd-ba5a1d30bb2c",
   "metadata": {},
   "outputs": [],
   "source": [
    "crest.add_endpoint_annotation_layers(['soma'],link=True) # spine_inputs\n",
    "print(crest.get_ctype('manual'))"
   ]
  },
  {
   "cell_type": "code",
   "execution_count": null,
   "id": "f8c75db5-9fb9-4c50-8054-9b6e468e1fb5",
   "metadata": {},
   "outputs": [],
   "source": [
    "base_segments_net = crest.get_base_segments_dict(Path(settings_dict['save_dir'])) \n",
    "# base_segments_todo = crest.get_base_segments_dict(Path(settings_dict['save_dir']) / 'todo_presynaptic/lg_301787806')"
   ]
  },
  {
   "cell_type": "code",
   "execution_count": null,
   "id": "6eae6de5-3cb6-4dc6-86a3-0172f55652be",
   "metadata": {},
   "outputs": [],
   "source": [
    "print('overlap in main network:'); df = crest.check_duplicates(base_segments_net); display(df)\n",
    "# print('overlap in todo folder:'); df = crest.check_duplicates(base_segments_todo); display(df)"
   ]
  },
  {
   "cell_type": "code",
   "execution_count": null,
   "id": "a7b8c9ea-2dd1-4c52-a81c-cdf1337ff1e1",
   "metadata": {},
   "outputs": [],
   "source": [
    "# SAVE YOUR WORK!\n",
    "\n",
    "crest.save_cell_graph() # Default location is Path(settings_dict['save_dir'])"
   ]
  },
  {
   "cell_type": "code",
   "execution_count": null,
   "id": "7db7de8a-2737-46af-b4ea-1fb875d40139",
   "metadata": {},
   "outputs": [],
   "source": [
    "cell_filepaths[cell_id].name"
   ]
  },
  {
   "cell_type": "code",
   "execution_count": null,
   "id": "7206f227-a18e-40b2-8ed7-9163719d8bc6",
   "metadata": {},
   "outputs": [],
   "source": [
    "crest.save_cell_graph(directory_path = cell_filepaths[cell_id].parent, file_name = cell_filepaths[cell_id].name)"
   ]
  },
  {
   "cell_type": "code",
   "execution_count": null,
   "id": "6c0566ef-fd8b-46aa-83f9-1ef402546a35",
   "metadata": {},
   "outputs": [],
   "source": [
    "crest.get_ctype('manual')"
   ]
  },
  {
   "cell_type": "markdown",
   "id": "0e634655-2318-4eee-85e4-a972c0eac064",
   "metadata": {},
   "source": [
    "## Define Cell type\n",
    "\n",
    "The cell type strings to use are:  \n",
    "aff, grc-d, grc-s, sgx1, sgx2, sg1, sg2, mg1, mg2, lf, lg, uk, fov\n",
    "\n",
    "You can also check the current cell type assigned by using ```crest.get_ctype(\"manual\")```"
   ]
  },
  {
   "cell_type": "code",
   "execution_count": null,
   "id": "96728c2f-cc5c-4427-8e10-66708ff172f0",
   "metadata": {},
   "outputs": [],
   "source": [
    "cell_type = 'grc-d' # Assign the cell type then run the code cell\n",
    "\n",
    "crest.define_ctype(cell_type,\"manual\")"
   ]
  },
  {
   "cell_type": "markdown",
   "id": "5dd72f91-fd9d-4e55-ada6-2f1b81e124d1",
   "metadata": {},
   "source": [
    "## Change Function Keybindings\n",
    "\n",
    "speficy any keybindings that you want in ```keybindings_dict``` and pass that to the class module ```change_key_binding```. The keybinding mapping will be returned. "
   ]
  },
  {
   "cell_type": "code",
   "execution_count": null,
   "id": "fa3b913f-79ad-4cad-b181-d9116dbfe7a9",
   "metadata": {},
   "outputs": [],
   "source": [
    "keybindings_dict = {\n",
    "    \"alt+mousedown0\" : \"add-or-remove-seg\"\n",
    "}\n",
    "\n",
    "crest.change_key_binding(keybindings_dict)"
   ]
  },
  {
   "cell_type": "markdown",
   "id": "25a5f6a5-ba38-419c-89f2-67839cf3cf05",
   "metadata": {},
   "source": [
    "## Check for overlap with other .json files in a directory\n",
    "\n",
    "Use the ecrest module ```get_base_segments_dict``` to get a dictionary of {'cell_id' : 'base_segments'} for all .json files in a folder.  \n",
    "Then use the ecrest module ```check_duplicates``` to get a dataframe of any instances of overlap between that cell and the .json files from the folder.\n",
    "\n",
    "*Tips*:\n",
    "- You do ***not*** need to run ```get_base_segments_dict``` every time. For each new crest instance you create, you can just skip to the ```check_duplicates``` step.\n",
    "- You can create multiple dictionaries to check against... you can create a separate line of code for each. "
   ]
  },
  {
   "cell_type": "code",
   "execution_count": null,
   "id": "18266060-8c3d-45f8-8e0c-606dcca45d17",
   "metadata": {},
   "outputs": [],
   "source": [
    "base_segments_net = crest.get_base_segments_dict(Path(settings_dict['save_dir']))\n",
    "base_segments_todo = crest.get_base_segments_dict(Path(settings_dict['save_dir']) / 'kp/392042360_grc-s_pre')"
   ]
  },
  {
   "cell_type": "code",
   "execution_count": null,
   "id": "1276834c-034f-4723-a0c3-3ccc34888e23",
   "metadata": {},
   "outputs": [],
   "source": [
    "print('overlap in main network:'); df = crest.check_duplicates(base_segments_net); display(df)\n",
    "print('overlap in todo folder:'); df = crest.check_duplicates(base_segments_todo); display(df)"
   ]
  },
  {
   "cell_type": "markdown",
   "id": "4e195932-6784-4259-8012-b44f447dc5dd",
   "metadata": {},
   "source": [
    "## Add/Remove Annotation layers\n",
    "\n",
    "Because of how CREST saves the .json state, annotation layers need to be added/removed programatically rather than via the neuroglancer viewer directly.\n",
    "\n",
    "Comment/uncomment the following two module implementations as needed."
   ]
  },
  {
   "cell_type": "code",
   "execution_count": null,
   "id": "3c5625ae-aa2e-4925-904a-b1403bbd7f9f",
   "metadata": {},
   "outputs": [],
   "source": [
    "crest.add_endpoint_annotation_layers(['soma'])\n",
    "\n",
    "# crest.del_endpoint_annotation_layers(['soma'])"
   ]
  },
  {
   "cell_type": "markdown",
   "id": "4a03c66d-b78d-49fd-a8e7-e8fdecb2fd79",
   "metadata": {},
   "source": [
    "## spine density annotation functions\n",
    "\n",
    "If you want to be able to move annotations, don't change alt+mouse0 keybinding"
   ]
  },
  {
   "cell_type": "code",
   "execution_count": null,
   "id": "52e4e062-0486-4eb9-9260-f500a29279b5",
   "metadata": {},
   "outputs": [],
   "source": [
    "crest.add_endpoint_annotation_layers(['spineD loc','spineD pts'],link=False) # spine_inputs"
   ]
  },
  {
   "cell_type": "code",
   "execution_count": null,
   "id": "eb655dad-80c7-44fa-9626-e42dd010e1a2",
   "metadata": {},
   "outputs": [],
   "source": [
    "l = 2000 # distance along dendrite in nm\n",
    "\n",
    "crest.add_endpoint_annotation('spineD loc',to_vox=False, center = [8005, 14459, 1299], radii = [l/16,l/16,l/30]) # 'center' is in middle of dendrite in voxels"
   ]
  },
  {
   "cell_type": "markdown",
   "id": "cece8af1-1542-4582-bbee-ee3855084eed",
   "metadata": {},
   "source": [
    "## SAVE YOUR WORK!"
   ]
  },
  {
   "cell_type": "code",
   "execution_count": null,
   "id": "82beafa5-733d-415f-a9b4-f23d8f7d1eb4",
   "metadata": {},
   "outputs": [],
   "source": [
    "crest.save_cell_graph() # Default location is Path(settings_dict['save_dir'])"
   ]
  },
  {
   "cell_type": "markdown",
   "id": "4a4acea1-cb12-4d27-b988-f17071919886",
   "metadata": {},
   "source": [
    "# Other"
   ]
  },
  {
   "cell_type": "markdown",
   "id": "912430b3-af66-4d25-b2cc-cf70bb445d19",
   "metadata": {
    "tags": [],
    "toc-hr-collapsed": true
   },
   "source": [
    "## search for synapse by segment annotated"
   ]
  },
  {
   "cell_type": "code",
   "execution_count": null,
   "id": "fa5fb8c6-5a69-4574-a44f-f4296bbea676",
   "metadata": {},
   "outputs": [],
   "source": [
    "directory_path = Path(settings_dict['save_dir']) #/ 'kp/pfs'#/ 'volume-subsample-all/in_progress'  ## specify the directory path\n",
    "cell_filepaths = get_cell_filepaths(directory_path) # gets filepaths for all cells in a directory\n",
    "# cell_filepaths = cell_filepaths_mainnet"
   ]
  },
  {
   "cell_type": "code",
   "execution_count": null,
   "id": "f2662ec5-5cde-4b86-989f-5e4a683cef73",
   "metadata": {},
   "outputs": [],
   "source": [
    "         \n",
    "syn_type = 'post-synaptic' #'spine_inputs' #\n",
    "segs_to_find = ['564132646','565215897']\n",
    "cells_todo = list(cell_filepaths.keys())"
   ]
  },
  {
   "cell_type": "code",
   "execution_count": null,
   "id": "002033ea-d83d-4c74-8f49-cbce9b2ea333",
   "metadata": {},
   "outputs": [],
   "source": [
    "vx_sizes = [16, 16, 30]\n",
    "\n",
    "for c_id in cells_todo:\n",
    "    crest = ecrest(settings_dict,filepath= cell_filepaths[c_id], launch_viewer=False)\n",
    "    for syn_ in crest.cell_data['end_points'][syn_type]:\n",
    "        try:\n",
    "            if syn_[3] in segs_to_find:\n",
    "                print(f'in cell {c_id}, segment {syn_[3]} is at synapse location {array([int(syn_[i]/vx_sizes[i]) for i in range(3)])}')\n",
    "\n",
    "        except IndexError as msg:\n",
    "            print(msg, f'for cell {c_id} synapse at {array([int(syn_[i]/vx_sizes[i]) for i in range(3)])} has no segment id')"
   ]
  },
  {
   "cell_type": "markdown",
   "id": "827c883d-fbfd-4f70-bb22-043da2b3009d",
   "metadata": {},
   "source": [
    "## cell types for all files in directory"
   ]
  },
  {
   "cell_type": "code",
   "execution_count": null,
   "id": "e5ba89b1-c92b-4bd0-9538-84b27cecee8b",
   "metadata": {},
   "outputs": [],
   "source": [
    "nodefiles = get_cell_filepaths(Path(settings_dict['save_dir'])) "
   ]
  },
  {
   "cell_type": "code",
   "execution_count": null,
   "id": "c57f4d5f-3050-4aa3-a46c-d226465e27e1",
   "metadata": {},
   "outputs": [],
   "source": [
    "cell_type = {}\n",
    "not_typed = []\n",
    "for x,f in nodefiles.items():\n",
    "    cell = ecrest(settings_dict,filepath = f,launch_viewer=False)\n",
    "    cell_type[x] = cell.get_ctype('manual') \n",
    "    if (cell.get_ctype('manual') == []) | (cell.get_ctype('manual') == ''):\n",
    "        cell_type[x]=''\n",
    "        not_typed.append(x)# print(f'cell {x} is not cell-typed in json')\n",
    "        \n",
    "print('the following cells are not typed in the main network')\n",
    "print(not_typed)        \n",
    "        "
   ]
  },
  {
   "cell_type": "markdown",
   "id": "60242e93-2010-4d64-a549-f83c7b6bbbed",
   "metadata": {},
   "source": [
    "## if get assertion error and won't save"
   ]
  },
  {
   "cell_type": "code",
   "execution_count": null,
   "id": "a13a8675-d224-4282-a994-22d4b3f54267",
   "metadata": {},
   "outputs": [],
   "source": [
    "seglist = crest.cell_data['base_segments']['unknown']\n",
    "\n",
    "anchor = crest.cell_data['metadata']['main_seg']['base']\n",
    "\n",
    "crest2 = ecrest(settings_dict,segment_id = anchor, segment_list = seglist, launch_viewer=True)\n",
    "\n",
    "# SAVE YOUR WORK!\n",
    "\n",
    "crest2.cell_data['end_points']=crest.cell_data['end_points']\n",
    "\n",
    "\n",
    "crest2.load_annotation_layer_points()\n",
    "\n",
    "crest2.save_cell_graph()"
   ]
  },
  {
   "cell_type": "markdown",
   "id": "699c6a79-6903-4341-b7da-a902bfc81a6f",
   "metadata": {},
   "source": [
    "## eCREST from json segments"
   ]
  },
  {
   "cell_type": "markdown",
   "id": "da8e3568-6113-413b-b3be-054a3256c602",
   "metadata": {},
   "source": [
    "### neuroglancer file"
   ]
  },
  {
   "cell_type": "code",
   "execution_count": 3,
   "id": "a140c84b-d9f6-43ec-b178-c72dcf40deb4",
   "metadata": {},
   "outputs": [],
   "source": [
    "neuroglancer_path = Path(settings_dict['save_dir']) / 'Nate_neuroglancer/synaptic_labeling/finished'\n",
    "# neuroglancer_path = '/Users/kperks/Documents/gdrive/.shortcut-targets-by-id/16q1BuOMfD2ta0Cwq8CjMlRe4rDvbuWC5/ELL_connectome/CREST_reconstructions/mg-network/Nate_neuroglancer/synaptic_labeling/finished'\n",
    "filename = '216081986_nbs.json'\n",
    "neuroglancer_path = Path(neuroglancer_path) / filename # Path('/Users/kperks/Downloads/381969662.json') #\n",
    "\n",
    "with open(Path(neuroglancer_path), 'r') as myfile: # 'p' is the dirpath and 'f' is the filename from the created 'd' dictionary\n",
    "    neuroglancer_data = json.load(myfile)"
   ]
  },
  {
   "cell_type": "code",
   "execution_count": 4,
   "id": "3568553c-bbb7-4ad2-9ad7-c4a62d611784",
   "metadata": {},
   "outputs": [],
   "source": [
    "segmentation_layer = next((item for item in neuroglancer_data['layers'] if item[\"source\"] == 'brainmaps://10393113184:ell:roi450um_seg32fb16fb_220930'), None)\n",
    "base_segment_list_ng = set(segmentation_layer['segments'])"
   ]
  },
  {
   "cell_type": "code",
   "execution_count": 5,
   "id": "7975f45a-2ee6-4481-8ea5-38ec5de40961",
   "metadata": {},
   "outputs": [],
   "source": [
    "base_segment_list_ng = list(set([bs for bs in base_segment_list_ng if '!' not in bs]))# -set(['283547027']))"
   ]
  },
  {
   "cell_type": "markdown",
   "id": "95d004dc-0fca-454f-a3b9-01be695e3275",
   "metadata": {},
   "source": [
    "### initiate cell if not already a crest file"
   ]
  },
  {
   "cell_type": "code",
   "execution_count": null,
   "id": "aba90c2c-1a39-48fd-af31-7c74f51f03e3",
   "metadata": {},
   "outputs": [],
   "source": [
    "cell_id = filename.split('_')[0]\n",
    "crest = ecrest(settings_dict, segment_id = segment_id, segment_list = base_segment_list_ng, launch_viewer=True)"
   ]
  },
  {
   "cell_type": "markdown",
   "id": "e23160c0-039a-4fee-a9c2-33f92ba1ad13",
   "metadata": {},
   "source": [
    "### compare base segments with ecrest file"
   ]
  },
  {
   "cell_type": "code",
   "execution_count": 6,
   "id": "feaf6e8a-5e26-49b1-9294-415d244ece17",
   "metadata": {},
   "outputs": [],
   "source": [
    "directory_path = Path(settings_dict['save_dir']) #/ 'todo_presynaptic/mg1_299496636' #/ 'kp/pfs'#/ 'volume-subsample-all/in_progress'  ## specify the directory path\n",
    "cell_filepaths = get_cell_filepaths(directory_path) # gets filepaths for all cells in a directory\n",
    "# cell_filepaths = cell_filepaths_mainnet"
   ]
  },
  {
   "cell_type": "code",
   "execution_count": 7,
   "id": "50c603b1-0341-4886-b265-ca5efbcaf0b8",
   "metadata": {},
   "outputs": [
    {
     "name": "stdout",
     "output_type": "stream",
     "text": [
      "updating viewer status message: Current Base Segment Counts: unknown: 1011, axon: 93, basal dendrite: 52, apical dendrite: 664, dendrite: 0, multiple: 162\n"
     ]
    }
   ],
   "source": [
    "cell_id = filename.split('_')[0]\n",
    "# crest = ecrest(settings_dict, segment_id = segment_id, segment_list = base_segment_list_ng, launch_viewer=True)\n",
    "\n",
    "crest = ecrest(settings_dict, filepath= cell_filepaths[cell_id], launch_viewer=True)"
   ]
  },
  {
   "cell_type": "code",
   "execution_count": null,
   "id": "f6d34ede-0a43-400c-b690-ebf9f596330e",
   "metadata": {},
   "outputs": [],
   "source": [
    "set(base_segment_list_ng) - set([a for _,b in crest.cell_data['base_segments'].items() for a in b])"
   ]
  },
  {
   "cell_type": "markdown",
   "id": "2f55b034-79e3-4889-8541-b0e6bb5dd78c",
   "metadata": {},
   "source": [
    "### Add points from annotation layers"
   ]
  },
  {
   "cell_type": "code",
   "execution_count": 8,
   "id": "884048b7-66b3-49f9-9b3f-e6f5c1febb67",
   "metadata": {},
   "outputs": [
    {
     "data": {
      "text/plain": [
       "{'exit volume',\n",
       " 'natural end',\n",
       " 'post-synaptic',\n",
       " 'pre-synaptic',\n",
       " 'soma',\n",
       " 'uncertain'}"
      ]
     },
     "execution_count": 8,
     "metadata": {},
     "output_type": "execute_result"
    }
   ],
   "source": [
    "set([item['name'] for item in neuroglancer_data['layers'] if item['type']=='annotation'])-set(['Base Segment Merger'])"
   ]
  },
  {
   "cell_type": "code",
   "execution_count": 13,
   "id": "45a43ecc-17bc-45d2-a257-36ac9b313c52",
   "metadata": {},
   "outputs": [
    {
     "name": "stdout",
     "output_type": "stream",
     "text": [
      "[((374608.0, 266064.0, 27240.0, '129064527'), 'annotatePoint'), ((379312.0, 266176.0, 32610.0), 'annotatePoint'), ((374288.0, 265312.0, 38130.0, '214938412'), 'annotatePoint'), ((369920.0, 266032.0, 32610.0), 'annotatePoint'), ((379312.0, 266176.0, 32610.0), 'annotatePoint'), ((369920.0, 266032.0, 32610.0), 'annotatePoint'), ((374608.0, 266064.0, 27240.0, '129064527'), 'annotatePoint'), ((374288.0, 265312.0, 38130.0, '214938412'), 'annotatePoint')]\n"
     ]
    }
   ],
   "source": [
    "'''\n",
    "Currently only works for annotation layers that you know contain only point annotations!!!\n",
    "'''\n",
    "neuroglancer_layer_name = ['soma']#['post-synaptic']# set([item['name'] for item in neuroglancer_data['layers'] if item['type']=='annotation'])-set(['Base Segment Merger'])\n",
    "crest_layer_name = neuroglancer_layer_name #['post-synaptic','pre-synaptic']#,\n",
    "\n",
    "for nl_, cl_ in zip(neuroglancer_layer_name, crest_layer_name):\n",
    "    neuroglancer_layer = next((item for item in neuroglancer_data['layers'] if item[\"name\"] == nl_), None)\n",
    "    \n",
    "    if neuroglancer_layer != None:\n",
    "        if cl_ in crest.point_types:\n",
    "            \n",
    "            this_type_points = []\n",
    "            for v in neuroglancer_layer['annotations']: \n",
    "\n",
    "                co_ords = [float(x) for x in v['point']]\n",
    "                co_ords_and_id = ([co_ords[x]*crest.vx_sizes['em'][x] for x in range(3)])\n",
    "\n",
    "                if 'segments' in v.keys(): #v['segments'] != None:\n",
    "                    if len(v['segments'][0]) > 0:\n",
    "                        co_ords_and_id.append(str(v['segments'][0][0]))\n",
    "\n",
    "                this_type_points.append((co_ords_and_id,'annotatePoint'))\n",
    "            \n",
    "            # remove duplicates with annotations already existing\n",
    "            # Convert inner lists to tuples\n",
    "            this_type_points = crest.cell_data['end_points'][cl_] + this_type_points\n",
    "\n",
    "            this_type_points = [(tuple(inner_list), label) for inner_list, label in this_type_points]\n",
    "\n",
    "            # Use a set to track unique elements based on the converted tuples\n",
    "            unique_end_points_set = set(this_type_points)\n",
    "\n",
    "            # Convert inner tuples back to lists for the final result\n",
    "            this_type_points = [(list(inner_tuple), label) for inner_tuple, label in unique_end_points_set]\n",
    "\n",
    "\n",
    "            crest.cell_data['end_points'][cl_] =  this_type_points\n",
    "        else: \n",
    "            msg = f\"CREST layer name - {cl_} - incorrect for cell {crest.cell_data['metadata']['main_seg']['base']} in conversion_json\"\n",
    "            print(msg)\n",
    "\n",
    "    else:\n",
    "        msg = f\"no layer by the name - {nl_} - in neuroglancer json for cell {crest.cell_data['metadata']['main_seg']['base']}\"\n",
    "        print(msg)\n",
    "        \n",
    "crest.load_annotation_layer_points()"
   ]
  },
  {
   "cell_type": "code",
   "execution_count": 12,
   "id": "758cca86-dfe9-4d75-8a45-fc9c9f4af1a9",
   "metadata": {},
   "outputs": [
    {
     "data": {
      "text/plain": [
       "{'exit volume': [([363472.0, 304640.0, 30.0], 'annotatePoint')],\n",
       " 'natural end': [([365824.0, 309344.0, 17040.0], 'annotatePoint'),\n",
       "  ([371408.0, 307136.0, 25620.0], 'annotatePoint'),\n",
       "  ([370368.0, 293184.0, 21960.0], 'annotatePoint'),\n",
       "  ([390864.0, 306864.0, 44880.0], 'annotatePoint'),\n",
       "  ([397984.0, 306848.0, 32790.0], 'annotatePoint'),\n",
       "  ([397728.0, 306416.0, 35910.0], 'annotatePoint'),\n",
       "  ([380736.0, 309664.0, 45210.0], 'annotatePoint'),\n",
       "  ([363136.0, 297136.0, 57840.0], 'annotatePoint'),\n",
       "  ([365088.0, 292592.0, 62100.0], 'annotatePoint'),\n",
       "  ([373920.0, 302256.0, 31350.0], 'annotatePoint')],\n",
       " 'uncertain': [],\n",
       " 'pre-synaptic': [],\n",
       " 'post-synaptic': [([381152.0, 313744.0, 47010.0, '137124852'],\n",
       "   'annotatePoint'),\n",
       "  ([340048.0, 306880.0, 50670.0, '307606008'], 'annotatePoint'),\n",
       "  ([370464.0, 312128.0, 17910.0, '137061016'], 'annotatePoint'),\n",
       "  ([338992.0, 307952.0, 47280.0, '222843931'], 'annotatePoint'),\n",
       "  ([366304.0, 309984.0, 18420.0, '137060872'], 'annotatePoint'),\n",
       "  ([346672.0, 306864.0, 51840.0, '136921340'], 'annotatePoint'),\n",
       "  ([392816.0, 321808.0, 69780.0, '395893448'], 'annotatePoint'),\n",
       "  ([340800.0, 311232.0, 64800.0, '308751107'], 'annotatePoint'),\n",
       "  ([337696.0, 308672.0, 46680.0, '136937295'], 'annotatePoint'),\n",
       "  ([368848.0, 317840.0, 49260.0, '309955811'], 'annotatePoint'),\n",
       "  ([393232.0, 322752.0, 69300.0, '397024063'], 'annotatePoint'),\n",
       "  ([339120.0, 310736.0, 64380.0, '394626722'], 'annotatePoint'),\n",
       "  ([365648.0, 316896.0, 9030.0, '51189475'], 'annotatePoint'),\n",
       "  ([326784.0, 304848.0, 57540.0, '305271124'], 'annotatePoint'),\n",
       "  ([346032.0, 306256.0, 51840.0, '307622126'], 'annotatePoint'),\n",
       "  ([393488.0, 306560.0, 43200.0, '307727990'], 'annotatePoint'),\n",
       "  ([397152.0, 306608.0, 37110.0, '220709053'], 'annotatePoint'),\n",
       "  ([397904.0, 306416.0, 37110.0, '220709053'], 'annotatePoint'),\n",
       "  ([337088.0, 308816.0, 46680.0, '307590689'], 'annotatePoint'),\n",
       "  ([404720.0, 321312.0, 66720.0, '395911405'], 'annotatePoint'),\n",
       "  ([328576.0, 308304.0, 54150.0, '128953430'], 'annotatePoint'),\n",
       "  ([405456.0, 320848.0, 66720.0, '395911405'], 'annotatePoint'),\n",
       "  ([384352.0, 306320.0, 43440.0, '307696474'], 'annotatePoint'),\n",
       "  ([338928.0, 311552.0, 69570.0, '135745805'], 'annotatePoint'),\n",
       "  ([339504.0, 314432.0, 59220.0, '309929927'], 'annotatePoint'),\n",
       "  ([397680.0, 306400.0, 33270.0, '221852801'], 'annotatePoint'),\n",
       "  ([343200.0, 306864.0, 52230.0, '307606627'], 'annotatePoint'),\n",
       "  ([398704.0, 321504.0, 69300.0, '481768091'], 'annotatePoint'),\n",
       "  ([390624.0, 306480.0, 44310.0, '307712965'], 'annotatePoint'),\n",
       "  ([380608.0, 309472.0, 45360.0, '307696543'], 'annotatePoint'),\n",
       "  ([343776.0, 313520.0, 61230.0, '394626218'], 'annotatePoint'),\n",
       "  ([391408.0, 324000.0, 85620.0, '482915649'], 'annotatePoint'),\n",
       "  ([339296.0, 315744.0, 59670.0, '309929927'], 'annotatePoint'),\n",
       "  ([338400.0, 310896.0, 65340.0, '394627048'], 'annotatePoint'),\n",
       "  ([332976.0, 308736.0, 48690.0, '307590689'], 'annotatePoint'),\n",
       "  ([341552.0, 315440.0, 59670.0, '309929927'], 'annotatePoint'),\n",
       "  ([336192.0, 311792.0, 65070.0, '394611968'], 'annotatePoint'),\n",
       "  ([342752.0, 305632.0, 52140.0, '307606627'], 'annotatePoint'),\n",
       "  ([363712.0, 299536.0, 29910.0, '119937120'], 'annotatePoint'),\n",
       "  ([385744.0, 305472.0, 43830.0, '307712713'], 'annotatePoint'),\n",
       "  ([396976.0, 323008.0, 71400.0, '482913639'], 'annotatePoint'),\n",
       "  ([395664.0, 322400.0, 74700.0, '481770226'], 'annotatePoint'),\n",
       "  ([339440.0, 307632.0, 45840.0, '307588707'], 'annotatePoint'),\n",
       "  ([372992.0, 310640.0, 18480.0, '137076702'], 'annotatePoint'),\n",
       "  ([361696.0, 306192.0, 13800.0, '50027969'], 'annotatePoint'),\n",
       "  ([380128.0, 312816.0, 4020.0, '51205072'], 'annotatePoint'),\n",
       "  ([360304.0, 301552.0, 27120.0, '119937120'], 'annotatePoint'),\n",
       "  ([394272.0, 322240.0, 77160.0, '481770226'], 'annotatePoint'),\n",
       "  ([329664.0, 308080.0, 54930.0, '394593170'], 'annotatePoint'),\n",
       "  ([369696.0, 316848.0, 48930.0, '308829211'], 'annotatePoint'),\n",
       "  ([347936.0, 309264.0, 49860.0, '308751107'], 'annotatePoint'),\n",
       "  ([389024.0, 305824.0, 44580.0, '307713226'], 'annotatePoint'),\n",
       "  ([395072.0, 322704.0, 74700.0, '482913639'], 'annotatePoint'),\n",
       "  ([366480.0, 313728.0, 18330.0, '137060976'], 'annotatePoint')],\n",
       " 'soma': [([374608.0, 266064.0, 27240.0, '129064527'], 'annotatePoint'),\n",
       "  ([379312.0, 266176.0, 32610.0], 'annotatePoint'),\n",
       "  ([374288.0, 265312.0, 38130.0, '214938412'], 'annotatePoint'),\n",
       "  ([369920.0, 266032.0, 32610.0], 'annotatePoint')]}"
      ]
     },
     "execution_count": 12,
     "metadata": {},
     "output_type": "execute_result"
    }
   ],
   "source": [
    "crest.cell_data['end_points']"
   ]
  },
  {
   "cell_type": "code",
   "execution_count": 29,
   "id": "cb0d59a4-e3af-4cf0-84c9-c6d5363bedb3",
   "metadata": {},
   "outputs": [
    {
     "data": {
      "text/plain": [
       "[[363475.8125, 304650.96875, 45.00000357627869]]"
      ]
     },
     "execution_count": 29,
     "metadata": {},
     "output_type": "execute_result"
    }
   ],
   "source": [
    "crest.cell_data['end_points'][cl_]"
   ]
  },
  {
   "cell_type": "code",
   "execution_count": 14,
   "id": "98e5337d-62c9-43f7-bb64-5b1fa745d96a",
   "metadata": {},
   "outputs": [],
   "source": [
    "def removeDuplicates(lst):\n",
    "     \n",
    "    return [t for t in (set(tuple(i) for i in lst))]"
   ]
  },
  {
   "cell_type": "code",
   "execution_count": 25,
   "id": "079f9fc6-78ab-41bf-a7b2-327c9edba492",
   "metadata": {},
   "outputs": [
    {
     "name": "stdout",
     "output_type": "stream",
     "text": [
      "[([397685.6875, 306409.4375, 33285.003662109375], 'annotatePoint'), ([393492.0, 306575.0, 43215.0], 'annotatePoint'), ([397152.65625, 306611.96875, 37125.0], 'annotatePoint'), ([397914.96875, 306421.375, 37125.0], 'annotatePoint')]\n"
     ]
    }
   ],
   "source": [
    "end_points = [([397685.6875, 306409.4375, 33285.003662109375], 'annotatePoint'),\n",
    "              ([397152.65625, 306611.96875, 37125.0], 'annotatePoint'),\n",
    "              ([397914.96875, 306421.375, 37125.0], 'annotatePoint'),\n",
    "              ([393492.0, 306575.0, 43215.0], 'annotatePoint'),\n",
    "              ([397152.65625, 306611.96875, 37125.0], 'annotatePoint')\n",
    "]\n",
    "\n",
    "# Convert inner lists to tuples\n",
    "end_points = [(tuple(inner_list), label) for inner_list, label in end_points]\n",
    "\n",
    "# Use a set to track unique elements based on the converted tuples\n",
    "unique_end_points_set = set(end_points)\n",
    "\n",
    "# Convert back to the original format\n",
    "unique_end_points = [list(inner_tuple) + [label] for inner_tuple, label in unique_end_points_set]\n",
    "\n",
    "# Convert inner tuples back to lists for the final result\n",
    "unique_end_points = [(list(inner_tuple), label) for inner_tuple, label in unique_end_points_set]\n",
    "\n",
    "print(unique_end_points)\n",
    "\n"
   ]
  },
  {
   "cell_type": "code",
   "execution_count": 16,
   "id": "ff5e53a8-67c6-4c01-8e82-2e6edd941b56",
   "metadata": {},
   "outputs": [
    {
     "data": {
      "text/plain": [
       "[([397685.6875, 306409.4375, 33285.003662109375, '221852801'],\n",
       "  'annotatePoint'),\n",
       " ([397152.65625, 306611.96875, 37125.0, '220709053'], 'annotatePoint'),\n",
       " ([397914.96875, 306421.375, 37125.0, '220709053'], 'annotatePoint'),\n",
       " ([393492.0, 306575.0, 43215.0, '307727990'], 'annotatePoint'),\n",
       " ([390631.34375, 306485.71875, 44325.0, '307712965'], 'annotatePoint'),\n",
       " ([389033.6875, 305827.25, 44595.0, '307713226'], 'annotatePoint'),\n",
       " ([385759.75, 305482.9375, 43845.003662109375, '307712713'], 'annotatePoint'),\n",
       " ([384364.4375, 306320.125, 43455.0, '307696474'], 'annotatePoint'),\n",
       " ([380619.34375, 309474.90625, 45375.0, '307696543'], 'annotatePoint'),\n",
       " ([381164.84375, 313754.5625, 47025.0, '137124852'], 'annotatePoint'),\n",
       " ([368856.09375, 317846.375, 49275.0, '309955811'], 'annotatePoint'),\n",
       " ([369706.875, 316852.65625, 48945.0, '308829211'], 'annotatePoint'),\n",
       " ([380136.59375, 312817.40625, 4035.0, '51205072'], 'annotatePoint'),\n",
       " ([373001.0, 310644.03125, 18495.0, '137076702'], 'annotatePoint'),\n",
       " ([370471.90625, 312135.96875, 17925.0, '137061016'], 'annotatePoint'),\n",
       " ([366495.1875, 313742.03125, 18345.0, '137060976'], 'annotatePoint'),\n",
       " ([365654.9375, 316911.5, 9045.0, '51189475'], 'annotatePoint'),\n",
       " ([366308.625, 309991.59375, 18435.001831054688, '137060872'],\n",
       "  'annotatePoint'),\n",
       " ([361708.0, 306193.3125, 13815.0, '50027969'], 'annotatePoint'),\n",
       " ([360305.625, 301553.1875, 27135.0, '119937120'], 'annotatePoint'),\n",
       " ([363712.09375, 299549.0625, 29925.001831054688, '119937120'],\n",
       "  'annotatePoint'),\n",
       " ([405471.46875, 320850.5, 66734.99267578125, '395911405'], 'annotatePoint'),\n",
       " ([404729.59375, 321326.9375, 66734.99267578125, '395911405'],\n",
       "  'annotatePoint'),\n",
       " ([398709.75, 321512.625, 69315.0, '481768091'], 'annotatePoint'),\n",
       " ([396982.03125, 323009.34375, 71415.0, '482913639'], 'annotatePoint'),\n",
       " ([395665.8125, 322401.03125, 74715.0, '481770226'], 'annotatePoint'),\n",
       " ([395087.25, 322707.3125, 74715.0, '482913639'], 'annotatePoint'),\n",
       " ([394274.5625, 322244.40625, 77175.00732421875, '481770226'],\n",
       "  'annotatePoint'),\n",
       " ([391412.90625, 324009.28125, 85635.0, '482915649'], 'annotatePoint'),\n",
       " ([393235.03125, 322759.09375, 69315.0, '397024063'], 'annotatePoint'),\n",
       " ([392826.65625, 321813.0, 69795.0, '395893448'], 'annotatePoint'),\n",
       " ([343780.3125, 313521.40625, 61245.0, '394626218'], 'annotatePoint'),\n",
       " ([339296.125, 315753.5625, 59685.0, '309929927'], 'annotatePoint'),\n",
       " ([341562.65625, 315447.25, 59685.0, '309929927'], 'annotatePoint'),\n",
       " ([339513.90625, 314439.90625, 59235.003662109375, '309929927'],\n",
       "  'annotatePoint'),\n",
       " ([338405.8125, 310908.375, 65355.0, '394627048'], 'annotatePoint'),\n",
       " ([340808.46875, 311235.09375, 64815.0, '308751107'], 'annotatePoint'),\n",
       " ([339120.46875, 310751.84375, 64395.0, '394626722'], 'annotatePoint'),\n",
       " ([336198.96875, 311802.59375, 65085.0, '394611968'], 'annotatePoint'),\n",
       " ([338932.1875, 311553.03125, 69585.0, '135745805'], 'annotatePoint'),\n",
       " ([326790.8125, 304862.5625, 57555.0, '305271124'], 'annotatePoint'),\n",
       " ([329672.8125, 308094.21875, 54945.0, '394593170'], 'annotatePoint'),\n",
       " ([328576.96875, 308312.03125, 54165.0, '128953430'], 'annotatePoint'),\n",
       " ([332989.21875, 308736.28125, 48705.0, '307590689'], 'annotatePoint'),\n",
       " ([337102.28125, 308827.71875, 46695.0, '307590689'], 'annotatePoint'),\n",
       " ([337701.25, 308684.78125, 46695.0, '136937295'], 'annotatePoint'),\n",
       " ([339448.875, 307643.46875, 45855.0, '307588707'], 'annotatePoint'),\n",
       " ([338992.75, 307955.03125, 47295.0, '222843931'], 'annotatePoint'),\n",
       " ([340063.9375, 306882.40625, 50685.0, '307606008'], 'annotatePoint'),\n",
       " ([342759.15625, 305640.28125, 52155.0, '307606627'], 'annotatePoint'),\n",
       " ([343208.375, 306872.21875, 52244.996337890625, '307606627'],\n",
       "  'annotatePoint'),\n",
       " ([346685.65625, 306870.6875, 51855.0, '136921340'], 'annotatePoint'),\n",
       " ([346032.21875, 306264.90625, 51855.0, '307622126'], 'annotatePoint'),\n",
       " ([347936.875, 309266.125, 49875.0, '308751107'], 'annotatePoint')]"
      ]
     },
     "execution_count": 16,
     "metadata": {},
     "output_type": "execute_result"
    }
   ],
   "source": [
    "this_type_points"
   ]
  },
  {
   "cell_type": "markdown",
   "id": "906a710b-4864-401b-9058-a60cf3b04a2c",
   "metadata": {},
   "source": [
    "### define type and save"
   ]
  },
  {
   "cell_type": "code",
   "execution_count": null,
   "id": "273fd827-f4a4-4891-b736-acd29177004f",
   "metadata": {},
   "outputs": [],
   "source": [
    "cell_type = 'pe' # Assign the cell type then run the code cell\n",
    "\n",
    "crest.define_ctype(cell_type,\"manual\")"
   ]
  },
  {
   "cell_type": "code",
   "execution_count": null,
   "id": "e30c8b6c-a9d1-4f78-be5c-2ede5d336b4f",
   "metadata": {},
   "outputs": [],
   "source": [
    "# SAVE YOUR WORK!\n",
    "\n",
    "crest.save_cell_graph() # Default location is Path(settings_dict['save_dir'])"
   ]
  },
  {
   "cell_type": "code",
   "execution_count": null,
   "id": "54fa0a65-dc18-4c61-89e1-f924fbf03f93",
   "metadata": {},
   "outputs": [],
   "source": [
    "# 11100*16"
   ]
  },
  {
   "cell_type": "code",
   "execution_count": null,
   "id": "fc33c979-22e0-406a-8e85-3897744a5d2d",
   "metadata": {},
   "outputs": [],
   "source": [
    "crest.cell_data['end_points']['uncertain'] = [r for r in crest.cell_data['end_points']['uncertain'] if r[1] < (11100*16)]"
   ]
  },
  {
   "cell_type": "code",
   "execution_count": null,
   "id": "d50e8695-9d49-48ec-8464-a447f72d4cd0",
   "metadata": {},
   "outputs": [],
   "source": [
    "crest.load_annotation_layer_points()"
   ]
  },
  {
   "cell_type": "code",
   "execution_count": null,
   "id": "e39a9224-57b2-41f7-a63f-4716608bddbb",
   "metadata": {},
   "outputs": [],
   "source": [
    "# crest.add_endpoint_annotation_layers(['soma'])"
   ]
  },
  {
   "cell_type": "code",
   "execution_count": null,
   "id": "435c5124-2587-4fbd-aebd-c126ac5259ed",
   "metadata": {},
   "outputs": [],
   "source": [
    "base_segments_net = crest.get_base_segments_dict(Path(settings_dict['save_dir']))\n",
    "base_segments_todo = crest.get_base_segments_dict(Path(settings_dict['save_dir']) / 'todo_presynaptic/lf_393325331')"
   ]
  },
  {
   "cell_type": "code",
   "execution_count": null,
   "id": "bd284024-9b81-4481-8bde-1ad7fc1387f7",
   "metadata": {},
   "outputs": [],
   "source": [
    "print('overlap in main network:'); df = crest.check_duplicates(base_segments_net); display(df)\n",
    "print('overlap in todo folder:'); df = crest.check_duplicates(base_segments_todo); display(df)"
   ]
  },
  {
   "cell_type": "code",
   "execution_count": null,
   "id": "472bffbd-db9f-4427-82b9-b817e50a8299",
   "metadata": {},
   "outputs": [],
   "source": [
    "cell_type = 'sgx1' # Assign the cell type then run the code cell\n",
    "\n",
    "crest.define_ctype(cell_type,\"manual\")"
   ]
  },
  {
   "cell_type": "code",
   "execution_count": null,
   "id": "f340fa4b-cdd6-4568-b297-d1f14fd9b4d2",
   "metadata": {},
   "outputs": [],
   "source": [
    "# SAVE YOUR WORK!\n",
    "\n",
    "crest.save_cell_graph() # Default location is Path(settings_dict['save_dir'])"
   ]
  },
  {
   "cell_type": "code",
   "execution_count": null,
   "id": "c25c1dd6-c66c-4a11-9e30-5a296345b4ab",
   "metadata": {},
   "outputs": [],
   "source": [
    "# cell_filepaths[cell_id].name"
   ]
  },
  {
   "cell_type": "code",
   "execution_count": null,
   "id": "3ac4a1a1-d6df-4d63-a453-b35792b387cf",
   "metadata": {},
   "outputs": [],
   "source": [
    "# crest.save_cell_graph(directory_path = cell_filepaths[cell_id].parent, file_name = cell_filepaths[cell_id].name)"
   ]
  },
  {
   "cell_type": "code",
   "execution_count": null,
   "id": "346aa47b-1ca1-4908-9f3c-f5348a7f3de7",
   "metadata": {},
   "outputs": [],
   "source": [
    "# crest.get_ctype('manual')"
   ]
  },
  {
   "cell_type": "code",
   "execution_count": null,
   "id": "62a07da8-c6bc-4a2f-ae5d-92fa778f2be4",
   "metadata": {},
   "outputs": [],
   "source": []
  }
 ],
 "metadata": {
  "kernelspec": {
   "display_name": "Python 3 (ipykernel)",
   "language": "python",
   "name": "python3"
  },
  "language_info": {
   "codemirror_mode": {
    "name": "ipython",
    "version": 3
   },
   "file_extension": ".py",
   "mimetype": "text/x-python",
   "name": "python",
   "nbconvert_exporter": "python",
   "pygments_lexer": "ipython3",
   "version": "3.8.13"
  },
  "widgets": {
   "application/vnd.jupyter.widget-state+json": {
    "state": {},
    "version_major": 2,
    "version_minor": 0
   }
  }
 },
 "nbformat": 4,
 "nbformat_minor": 5
}
