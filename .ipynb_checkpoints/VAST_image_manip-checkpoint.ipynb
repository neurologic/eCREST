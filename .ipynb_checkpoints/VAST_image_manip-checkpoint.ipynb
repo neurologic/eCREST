{
 "cells": [
  {
   "cell_type": "code",
   "execution_count": null,
   "id": "f6d61ef6-f77c-4e6e-8968-5736c1e30e51",
   "metadata": {},
   "outputs": [],
   "source": []
  },
  {
   "cell_type": "markdown",
   "id": "27e966c2-fe02-4841-b139-66bf9dca28c7",
   "metadata": {},
   "source": [
    "# Setup\n",
    "\n",
    "## Import packages"
   ]
  },
  {
   "cell_type": "code",
   "execution_count": 2,
   "id": "4dcd1c59-ed4c-449a-aa6f-970b86a8d6c3",
   "metadata": {},
   "outputs": [],
   "source": [
    "############################################################################################################################ \n",
    "# Get the latest CREST files for each ID within the target folder (dirname)\n",
    "\n",
    "from pathlib import Path\n",
    "import json\n",
    "from sqlite3 import connect as sqlite3_connect\n",
    "from sqlite3 import DatabaseError\n",
    "from igraph import Graph as ig_Graph\n",
    "from igraph import plot as ig_plot\n",
    "from scipy.spatial.distance import cdist\n",
    "from sklearn.decomposition import PCA\n",
    "from sklearn.preprocessing import StandardScaler\n",
    "from sklearn.preprocessing import Normalizer\n",
    "from sklearn.linear_model import LogisticRegression\n",
    "from scipy.stats import zscore\n",
    "from random import choice as random_choice\n",
    "from itertools import combinations\n",
    "from numpy import array, unravel_index, argmin, mean\n",
    "import random\n",
    "import numpy as np\n",
    "from copy import deepcopy\n",
    "import itertools\n",
    "from datetime import datetime\n",
    "from time import time\n",
    "import neuroglancer\n",
    "from webbrowser import open as wb_open\n",
    "from webbrowser import open_new as wb_open_new\n",
    "import pandas as pd\n",
    "import seaborn as sns\n",
    "from matplotlib import pyplot as plt\n",
    "import matplotlib\n",
    "from functools import reduce\n",
    "from tqdm import tqdm\n",
    "\n",
    "# from eCREST_cli_beta import ecrest, import_settings\n",
    "from eCREST_cli import ecrest, import_settings, get_cell_filepaths"
   ]
  },
  {
   "cell_type": "markdown",
   "id": "6a1cfabd-13ae-4480-8c24-7fcfd1f41ad3",
   "metadata": {},
   "source": [
    "# blender image manipulation from VAST"
   ]
  },
  {
   "cell_type": "code",
   "execution_count": 3,
   "id": "fd6bb387-05bd-4fe3-9ca2-999fa30e45bc",
   "metadata": {},
   "outputs": [],
   "source": [
    "from PIL import Image"
   ]
  },
  {
   "cell_type": "code",
   "execution_count": 4,
   "id": "ed874c22-2e0f-4485-a4dd-e7d85e2284bb",
   "metadata": {},
   "outputs": [],
   "source": [
    "obj_path = Path('/Users/kperks/Library/CloudStorage/GoogleDrive-sawtelllab@gmail.com/My Drive/ELL_connectome/VAST/figures/whole_box_lf/pfsynapse_example_fig1')\n",
    "filename_root = 'synapse_box'"
   ]
  },
  {
   "cell_type": "code",
   "execution_count": 32,
   "id": "f747d782-7cbf-4ee8-acba-c13d6c4ae2d0",
   "metadata": {},
   "outputs": [
    {
     "name": "stdout",
     "output_type": "stream",
     "text": [
      "Texture flipped vertically and saved to box_full_contrast_flipped_texture.png\n"
     ]
    }
   ],
   "source": [
    "# Load the texture file\n",
    "texture_file = filename_root + '.png'  # Replace with your actual .png file\n",
    "output_file = filename_root + '_flipped_texture.png'  # Output file after flipping\n",
    "\n",
    "# Open the image\n",
    "image = Image.open(obj_path / texture_file)\n",
    "\n",
    "# Flip the image vertically\n",
    "flipped_image = image.transpose(Image.FLIP_TOP_BOTTOM)\n",
    "\n",
    "# Save the flipped image\n",
    "flipped_image.save(obj_path/ output_file)\n",
    "\n",
    "print(f\"Texture flipped vertically and saved to {output_file}\")"
   ]
  },
  {
   "cell_type": "code",
   "execution_count": 5,
   "id": "869f5d89-cffc-4b02-9717-0d5975a44e57",
   "metadata": {},
   "outputs": [
    {
     "ename": "NameError",
     "evalue": "name 'texture_file' is not defined",
     "output_type": "error",
     "traceback": [
      "\u001b[0;31m---------------------------------------------------------------------------\u001b[0m",
      "\u001b[0;31mNameError\u001b[0m                                 Traceback (most recent call last)",
      "Cell \u001b[0;32mIn[5], line 4\u001b[0m\n\u001b[1;32m      1\u001b[0m \u001b[38;5;66;03m# Open the original .obj file\u001b[39;00m\n\u001b[1;32m      3\u001b[0m input_file \u001b[38;5;241m=\u001b[39m filename_root \u001b[38;5;241m+\u001b[39m \u001b[38;5;124m'\u001b[39m\u001b[38;5;124m.obj\u001b[39m\u001b[38;5;124m'\u001b[39m\u001b[38;5;66;03m#'box_mg2_em_mip3_contrast.obj' #\u001b[39;00m\n\u001b[0;32m----> 4\u001b[0m output_file \u001b[38;5;241m=\u001b[39m \u001b[43mtexture_file\u001b[49m\u001b[38;5;241m.\u001b[39msplit(\u001b[38;5;124m'\u001b[39m\u001b[38;5;124m.\u001b[39m\u001b[38;5;124m'\u001b[39m)[\u001b[38;5;241m0\u001b[39m] \u001b[38;5;241m+\u001b[39m \u001b[38;5;124m'\u001b[39m\u001b[38;5;124m_swapped.obj\u001b[39m\u001b[38;5;124m'\u001b[39m\u001b[38;5;66;03m#'box_mg2_em_mip3_contrast_swapped.obj' #\u001b[39;00m\n\u001b[1;32m      6\u001b[0m offset_value \u001b[38;5;241m=\u001b[39m \u001b[38;5;241m5.24288\u001b[39m\n\u001b[1;32m      8\u001b[0m \u001b[38;5;28;01mwith\u001b[39;00m \u001b[38;5;28mopen\u001b[39m(obj_path \u001b[38;5;241m/\u001b[39m input_file, \u001b[38;5;124m'\u001b[39m\u001b[38;5;124mr\u001b[39m\u001b[38;5;124m'\u001b[39m) \u001b[38;5;28;01mas\u001b[39;00m file:\n",
      "\u001b[0;31mNameError\u001b[0m: name 'texture_file' is not defined"
     ]
    }
   ],
   "source": [
    "# Open the original .obj file\n",
    "\n",
    "input_file = filename_root + '.obj'#'box_mg2_em_mip3_contrast.obj' #\n",
    "output_file = filename_root + '_swapped.obj'#'box_mg2_em_mip3_contrast_swapped.obj' #\n",
    "\n",
    "offset_value = 5.24288\n",
    "\n",
    "with open(obj_path / input_file, 'r') as file:\n",
    "    lines = file.readlines()\n",
    "\n",
    "with open(obj_path / output_file, 'w') as file:\n",
    "    for line in lines:\n",
    "        # Process only vertex lines starting with \"v \"\n",
    "        if line.startswith('v '):\n",
    "            parts = line.split()\n",
    "            x = float(parts[1])\n",
    "            y = float(parts[2])\n",
    "            z = float(parts[3])\n",
    "            \n",
    "            # Invert the Y-axis (multiply by -1) and apply the offset\n",
    "            x = (-x) + offset_value\n",
    "            \n",
    "            # Write the modified vertex line\n",
    "            file.write(f\"v {y} {x} {z}\\n\")\n",
    "        \n",
    "        else:\n",
    "            # Write all other lines as they are\n",
    "            file.write(line)\n",
    "\n",
    "    # for line in lines:\n",
    "    #     # Process only vertex lines starting with \"v \"\n",
    "    #     if line.startswith('vt '):\n",
    "    #         parts = line.split()\n",
    "    #         # Swap X (parts[1]) and Y (parts[2])\n",
    "    #         swapped_line = f\"vt {parts[2]} {parts[1]}\\n\"\n",
    "    #         file.write(swapped_line)\n",
    "    #     else:\n",
    "    #         # Write all other lines as they are\n",
    "    #         file.write(line)\n",
    "\n",
    "print(f\"Vertices X and Y swapped.Y-axis inverted and offset applied. saved to {output_file}\")\n",
    "\n"
   ]
  },
  {
   "cell_type": "code",
   "execution_count": null,
   "id": "42f5a141-d091-498f-84e1-bc4fd1176c50",
   "metadata": {},
   "outputs": [],
   "source": []
  }
 ],
 "metadata": {
  "kernelspec": {
   "display_name": "Python 3 (ipykernel)",
   "language": "python",
   "name": "python3"
  },
  "language_info": {
   "codemirror_mode": {
    "name": "ipython",
    "version": 3
   },
   "file_extension": ".py",
   "mimetype": "text/x-python",
   "name": "python",
   "nbconvert_exporter": "python",
   "pygments_lexer": "ipython3",
   "version": "3.8.19"
  },
  "widgets": {
   "application/vnd.jupyter.widget-state+json": {
    "state": {},
    "version_major": 2,
    "version_minor": 0
   }
  }
 },
 "nbformat": 4,
 "nbformat_minor": 5
}
