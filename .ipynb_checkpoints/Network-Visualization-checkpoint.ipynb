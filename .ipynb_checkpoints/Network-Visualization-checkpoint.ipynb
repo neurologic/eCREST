{
 "cells": [
  {
   "cell_type": "markdown",
   "id": "b4361375-878a-4ba4-9a29-f52ec0506f28",
   "metadata": {},
   "source": [
    "# Network eCREST\n",
    "\n"
   ]
  },
  {
   "cell_type": "markdown",
   "id": "6c6feb00-73b2-4036-b52a-1c3686b50a5d",
   "metadata": {},
   "source": [
    "# Setup\n",
    "\n",
    "Do the following two setup steps regardless of how you will be using this script. \n",
    "\n",
    "## 1. Imports\n",
    "\n",
    "Run the following code cell to import the necessary packages and modules. "
   ]
  },
  {
   "cell_type": "code",
   "execution_count": 368,
   "id": "f5b787d1-3dd0-4536-a36f-8abe42352826",
   "metadata": {},
   "outputs": [],
   "source": [
    "############################################################################################################################ \n",
    "# Get the latest CREST files for each ID within the target folder (dirname)\n",
    "\n",
    "from pathlib import Path\n",
    "import json\n",
    "from sqlite3 import connect as sqlite3_connect\n",
    "from sqlite3 import DatabaseError\n",
    "from igraph import Graph as ig_Graph\n",
    "from igraph import plot as ig_plot\n",
    "from scipy.spatial.distance import cdist\n",
    "import random\n",
    "from random import choice as random_choice\n",
    "from itertools import combinations\n",
    "from numpy import array, unravel_index, argmin, mean,unique\n",
    "import matplotlib\n",
    "import pandas as pd\n",
    "import numpy as np\n",
    "from copy import deepcopy\n",
    "from datetime import datetime\n",
    "from time import time, sleep\n",
    "import neuroglancer\n",
    "from webbrowser import open as wb_open\n",
    "from webbrowser import open_new as wb_open_new\n",
    "import matplotlib.pyplot as plt\n",
    "import seaborn as sns\n",
    "\n",
    "from eCREST_cli import ecrest, import_settings"
   ]
  },
  {
   "cell_type": "code",
   "execution_count": 81,
   "id": "c439d3df-c5a8-4227-9390-a7522ea9c9b4",
   "metadata": {},
   "outputs": [],
   "source": [
    "vx_sizes = [16, 16, 30]\n",
    "\n",
    "def get_viewer(backgnd_color = \"black\"):\n",
    "    viewer = neuroglancer.Viewer()\n",
    "    viewer.set_state({})\n",
    "\n",
    "    location=[17000,17000,1500]\n",
    "\n",
    "    with viewer.config_state.txn() as s:\n",
    "        s.show_layer_panel = True ###\n",
    "\n",
    "    with viewer.txn(overwrite=True) as s:\n",
    "\n",
    "        dimensions = neuroglancer.CoordinateSpace(\n",
    "            scales=vx_sizes,# self.vx_sizes['em'],\n",
    "            units='nm',\n",
    "            names=['x', 'y', 'z']   )\n",
    "\n",
    "        s.showSlices = False\n",
    "        s.dimensions = dimensions\n",
    "        s.position = array(location)\n",
    "        s.layout = \"3d\"\n",
    "        s.projectionScale = 30000\n",
    "        s.projection_background_color= matplotlib.colors.cnames[backgnd_color]#\"#000000\"\n",
    "        # s.projection_background_color= \"#ffffff\"\n",
    "        s.showSlices = False\n",
    "\n",
    "    with viewer.txn(overwrite=True) as s:\n",
    "        wb_open(str(viewer))\n",
    "    \n",
    "    return viewer\n",
    "\n",
    "def create_baseseg_layer(viewer, source, lname, visible = False, objectAlpha = 1):\n",
    "    with viewer.txn(overwrite=True) as s:\n",
    "        s.layers[lname] = neuroglancer.SegmentationLayer(source = source, segments=[], segment_colors={})\n",
    "        s.layers[lname].ignoreNullVisibleSet = False\n",
    "        s.layers[lname].pick = True\n",
    "        s.layers[lname].selectedAlpha = 0.5 #For 2D\n",
    "        s.layers[lname].objectAlpha = objectAlpha\n",
    "        s.layers[lname].visible = visible\n",
    "                 \n",
    "\n",
    "def create_em_layer(viewer, source = 'brainmaps://10393113184:ell:roi450um_xyz'):\n",
    "    with viewer.txn(overwrite=True) as s:\n",
    "        s.layers['em'] = neuroglancer.ImageLayer(source = source)\n",
    "\n",
    "def clear_baseseg_layer(viewer, lname):\n",
    "    displayed_segs = set([str(x) for x in viewer.state.layers[lname].segments])\n",
    "\n",
    "    # REMOVE SEGMENTS FROM NGviewer\n",
    "    remove_segs = displayed_segs\n",
    "\n",
    "    with viewer.txn(overwrite=True) as s:\n",
    "        for bs in remove_segs:\n",
    "            if int(bs) in s.layers[lname].segments:\n",
    "                s.layers[lname].segments.remove(int(bs))"
   ]
  },
  {
   "cell_type": "markdown",
   "id": "62e304ed-6b4b-4fa4-a6b9-2cb0e6782d6a",
   "metadata": {},
   "source": [
    "The 'ecrest' class has been imported from eCREST_cli.py\n",
    "\n",
    "An instance of this object will be able to:\n",
    "- open an neuroglancer viewer for proofrieading (see \"Proofread using CREST\")\n",
    "    - add-remove segments (using graph feature for efficiency)\n",
    "    - format itself and save itself as a CREST-style .json\n",
    "- convert from neuroglancer json (see \"Convert From Neuroglancer to eCREST\")\n",
    "    - format itself and save itself as a CREST-style .json\n",
    "    \n"
   ]
  },
  {
   "cell_type": "markdown",
   "id": "270a5341-ee1e-4082-8fe0-bbd974a6d5a3",
   "metadata": {},
   "source": [
    "## 2. Settings and files"
   ]
  },
  {
   "cell_type": "code",
   "execution_count": 13,
   "id": "a1699b04-52fd-4a6c-a93d-df89286446b7",
   "metadata": {},
   "outputs": [],
   "source": [
    "path_to_settings_json = '/Users/kperks/Documents/ell-connectome/eCREST-local-files/settings_dict.json'\n",
    "settings_dict = import_settings(path_to_settings_json)\n",
    "\n",
    "db_cursors = sqlite3_connect(settings_dict['db_path'], check_same_thread=False).cursor()\n",
    "\n",
    "a = ', '.join(['base_address'])\n",
    "\n",
    "db_cursors.execute(f'''SELECT {a} FROM addresses_table LIMIT 1''')\n",
    "\n",
    "[base_seg] = db_cursors.fetchall()[0]\n"
   ]
  },
  {
   "cell_type": "markdown",
   "id": "234c4dec-acfe-4b95-aac9-9e53a958f3a3",
   "metadata": {},
   "source": [
    "# em viewer"
   ]
  },
  {
   "cell_type": "code",
   "execution_count": 362,
   "id": "3d333936-bc55-40f6-985d-9945965cc1b7",
   "metadata": {},
   "outputs": [],
   "source": [
    "viewer = get_viewer(backgnd_color=\"white\")\n",
    "create_em_layer(viewer)"
   ]
  },
  {
   "cell_type": "markdown",
   "id": "ed8fd1b9-5052-4e7b-ba4f-41dfb9eeb208",
   "metadata": {},
   "source": [
    "# vizualize all post-synaptic annotations"
   ]
  },
  {
   "cell_type": "markdown",
   "id": "a1789412-6c60-4f46-b77d-d212b6304446",
   "metadata": {},
   "source": [
    "## color by whether the segment is part of a current reconstrution or not"
   ]
  },
  {
   "cell_type": "code",
   "execution_count": 143,
   "id": "76cf1eaa-4fe2-495e-8c5a-39b576d569ca",
   "metadata": {},
   "outputs": [],
   "source": [
    "path_to_settings_json = '/Users/kperks/Documents/ell-connectome/eCREST-local-files/settings_dict.json'\n",
    "settings_dict = import_settings(path_to_settings_json)\n",
    "\n",
    "dirpath = Path(settings_dict['save_dir'])\n",
    "# dirpath = \"/Users/kperks/Documents/gdrive/.shortcut-targets-by-id/16q1BuOMfD2ta0Cwq8CjMlRe4rDvbuWC5/ELL_connectome/CREST_reconstructions/mg-network\"\n",
    "\n",
    "nodes = [child.name.split('_')[2] for child in sorted(dirpath.iterdir()) \n",
    "         if (child.name[0]!='.') & (child.is_file())] # ignore hidden files]\n",
    "\n",
    "nodefiles = dict()\n",
    "for child in sorted(dirpath.iterdir()):\n",
    "    if (child.name[0]!='.') & (child.is_file()):\n",
    "        nodefiles[child.name.split('_')[2]] = child\n",
    "                    \n",
    "all_base_seg = []\n",
    "for x in nodes:\n",
    "    cell = ecrest(settings_dict,filepath = nodefiles[x],launch_viewer=False)\n",
    "    all_base_seg.extend([a for b in cell.cell_data['base_segments'].values() for a in b])"
   ]
  },
  {
   "cell_type": "code",
   "execution_count": 144,
   "id": "1b35e386-d39e-4b5b-9447-55c00978f4cb",
   "metadata": {},
   "outputs": [],
   "source": [
    "all_syn = []\n",
    "\n",
    "for x_pre in nodes:\n",
    "    pre = ecrest(settings_dict,filepath = nodefiles[x_pre],launch_viewer=False)\n",
    "\n",
    "    # report if the cell is not cell-typed\n",
    "    if (pre.get_ctype('manual') == []) | (pre.get_ctype('manual') == ''):\n",
    "        print(f'cell {x_pre} is not cell-typed in json')\n",
    "    \n",
    "    # check if the cell is an mg cell and if it has post-synaptic segments labeled\n",
    "    if (pre.get_ctype('manual') in ['mg1','mg2']) & (pre.cell_data['end_points']['post-synaptic'] != []):\n",
    "        try:\n",
    "            all_syn.extend(pre.cell_data['end_points']['post-synaptic'])\n",
    "            \n",
    "        except IndexError as msg:\n",
    "                # cellid = x_pre['name']\n",
    "                print(msg, f'for cell {pre.cell_data[\"metadata\"][\"main_seg\"][\"base\"]} -- at least one synapse has no segment id')\n",
    "\n",
    "df = pd.DataFrame(all_syn, columns = ['x','y','z','segid'])\n",
    "\n",
    "syn_missing = set(set(df['segid'].values)).difference(set(all_base_seg))\n",
    "\n",
    "syn_found = set(df['segid'].values).difference(syn_missing)"
   ]
  },
  {
   "cell_type": "code",
   "execution_count": 146,
   "id": "ea807bb4-a324-4fa2-be1c-f8f5ab8177d9",
   "metadata": {},
   "outputs": [],
   "source": [
    "viewer = get_viewer(backgnd_color=\"white\")\n",
    "create_baseseg_layer(viewer, base_seg, 'volume')"
   ]
  },
  {
   "cell_type": "code",
   "execution_count": 148,
   "id": "60b12900-5e14-4c51-b697-7fd0a5cea752",
   "metadata": {},
   "outputs": [],
   "source": [
    "\n",
    "\n",
    "point_type = 'reconstructed'\n",
    "with viewer.txn(overwrite=True) as s:\n",
    "    s.layers[point_type] = neuroglancer.AnnotationLayer()\n",
    "    s.layers[point_type].annotationColor = '#ff0000'\n",
    "    \n",
    "    for pos,r in df[df['segid'].isin(list(syn_found))][['x','y','z']].iterrows():\n",
    "        point = [r[0],r[1],r[2]]\n",
    "    # for pos, point in enumerate(self.cell_data['end_points'][point_type]):\n",
    "        point_array = array([int(point[x]/vx_sizes[x]) for x in range(3)])\n",
    "        point_id = f'{point_type}_{pos}'\n",
    "        pa = neuroglancer.PointAnnotation(id=point_id, point = point_array)\n",
    "        s.layers[point_type].annotations.append(pa)    \n",
    "\n",
    "point_type = 'missing'\n",
    "with viewer.txn(overwrite=True) as s:\n",
    "    s.layers[point_type] = neuroglancer.AnnotationLayer()\n",
    "    s.layers[point_type].annotationColor = '#228b22'\n",
    "\n",
    "    for pos,r in df[df['segid'].isin(list(syn_missing))][['x','y','z']].iterrows():\n",
    "        point = [r[0],r[1],r[2]]\n",
    "    # for pos, point in enumerate(self.cell_data['end_points'][point_type]):\n",
    "        point_array = array([int(point[x]/vx_sizes[x]) for x in range(3)])\n",
    "        point_id = f'{point_type}_{pos}'\n",
    "        pa = neuroglancer.PointAnnotation(id=point_id, point = point_array)\n",
    "        s.layers[point_type].annotations.append(pa)    \n"
   ]
  },
  {
   "cell_type": "markdown",
   "id": "2ca0fa2f-1189-4fd6-9b32-28b0672b5d97",
   "metadata": {},
   "source": [
    "## color by cell type"
   ]
  },
  {
   "cell_type": "code",
   "execution_count": 149,
   "id": "a1e65e23-dac9-4d6c-a979-2ce1db1be64e",
   "metadata": {},
   "outputs": [],
   "source": [
    "path_to_settings_json = '/Users/kperks/Documents/ell-connectome/eCREST-local-files/settings_dict.json'\n",
    "settings_dict = import_settings(path_to_settings_json)\n",
    "\n",
    "dirpath = Path(settings_dict['save_dir'])\n",
    "# dirpath = \"/Users/kperks/Documents/gdrive/.shortcut-targets-by-id/16q1BuOMfD2ta0Cwq8CjMlRe4rDvbuWC5/ELL_connectome/CREST_reconstructions/mg-network\"\n",
    "\n",
    "nodes = [child.name.split('_')[2] for child in sorted(dirpath.iterdir()) \n",
    "         if (child.name[0]!='.') & (child.is_file())] # ignore hidden files]\n",
    "\n",
    "nodefiles = dict()\n",
    "for child in sorted(dirpath.iterdir()):\n",
    "    if (child.name[0]!='.') & (child.is_file()):\n",
    "        nodefiles[child.name.split('_')[2]] = child\n",
    "\n",
    "cell_type = {}\n",
    "for x in nodes:\n",
    "    cell = ecrest(settings_dict,filepath = nodefiles[x],launch_viewer=False)\n",
    "    cell_type[x] = cell.get_ctype('manual') \n",
    "    if (cell.get_ctype('manual') == []) | (cell.get_ctype('manual') == ''):\n",
    "        print(f'cell {x} is not cell-typed in json')"
   ]
  },
  {
   "cell_type": "code",
   "execution_count": 152,
   "id": "caf326e2-e0e6-4232-9acf-7b04876d6966",
   "metadata": {},
   "outputs": [],
   "source": [
    "viewer = get_viewer(backgnd_color=\"white\")\n",
    "create_baseseg_layer(viewer, base_seg, 'volume')"
   ]
  },
  {
   "cell_type": "code",
   "execution_count": 158,
   "id": "454a4e73-bc23-4740-b5ec-1056e74b7732",
   "metadata": {},
   "outputs": [],
   "source": [
    "\n",
    "point_type = 'mg2'\n",
    "\n",
    "all_syn = []\n",
    "for x in nodes:\n",
    "    if cell_type[x] in [point_type]:\n",
    "        cell = ecrest(settings_dict,filepath = nodefiles[x],launch_viewer=False)\n",
    "        all_syn.extend(cell.cell_data['end_points']['post-synaptic'])\n",
    "\n",
    "with viewer.txn(overwrite=True) as s:\n",
    "    s.layers[point_type] = neuroglancer.AnnotationLayer()\n",
    "    s.layers[point_type].annotationColor = '#7300e6' # purple\n",
    "    \n",
    "    for pos, point in enumerate(all_syn):\n",
    "        point_array = array([int(point[x]/vx_sizes[x]) for x in range(3)])\n",
    "        point_id = f'{point_type}_{pos}'\n",
    "        pa = neuroglancer.PointAnnotation(id=point_id, point = point_array)\n",
    "        s.layers[point_type].annotations.append(pa)   "
   ]
  },
  {
   "cell_type": "code",
   "execution_count": 159,
   "id": "fa186a75-511b-4a26-b559-2515a186bb4a",
   "metadata": {},
   "outputs": [],
   "source": [
    "point_type = 'mg1'\n",
    "\n",
    "all_syn = []\n",
    "for x in nodes:\n",
    "    if cell_type[x] in [point_type]:\n",
    "        cell = ecrest(settings_dict,filepath = nodefiles[x],launch_viewer=False)\n",
    "        all_syn.extend(cell.cell_data['end_points']['post-synaptic'])\n",
    "\n",
    "with viewer.txn(overwrite=True) as s:\n",
    "    s.layers[point_type] = neuroglancer.AnnotationLayer()\n",
    "    s.layers[point_type].annotationColor = '#ff471a' # orange\n",
    "    \n",
    "    for pos, point in enumerate(all_syn):\n",
    "        point_array = array([int(point[x]/vx_sizes[x]) for x in range(3)])\n",
    "        point_id = f'{point_type}_{pos}'\n",
    "        pa = neuroglancer.PointAnnotation(id=point_id, point = point_array)\n",
    "        s.layers[point_type].annotations.append(pa)   "
   ]
  },
  {
   "cell_type": "code",
   "execution_count": 156,
   "id": "731f856c-a1b2-4a45-81df-9dad339ebdc0",
   "metadata": {},
   "outputs": [],
   "source": [
    "create_em_layer(viewer)"
   ]
  },
  {
   "cell_type": "markdown",
   "id": "b5baeb7a-acc3-4c98-87f9-772ddd4bd15e",
   "metadata": {},
   "source": [
    "# visualize overlapping segments for duplicates"
   ]
  },
  {
   "cell_type": "code",
   "execution_count": 40,
   "id": "16c83cc2-6bc3-4f45-a8e5-2827734f4c82",
   "metadata": {},
   "outputs": [],
   "source": [
    "overlapping_cells = ['387368998','644824967']"
   ]
  },
  {
   "cell_type": "code",
   "execution_count": 41,
   "id": "5f48cd9f-0b42-4c20-92d2-8439a94ca1ba",
   "metadata": {},
   "outputs": [],
   "source": [
    "path_to_settings_json = '/Users/kperks/Documents/ell-connectome/eCREST-local-files/settings_dict.json'\n",
    "settings_dict = import_settings(path_to_settings_json)\n",
    "\n",
    "dirpath = Path(settings_dict['save_dir'])\n",
    "# dirpath = \"/Users/kperks/Documents/gdrive/.shortcut-targets-by-id/16q1BuOMfD2ta0Cwq8CjMlRe4rDvbuWC5/ELL_connectome/CREST_reconstructions/mg-network\"\n",
    "\n",
    "nodes = [child.name.split('_')[2] for child in sorted(dirpath.iterdir()) \n",
    "         if (child.name[0]!='.') & (child.is_file())] # ignore hidden files]\n",
    "\n",
    "nodefiles = dict()\n",
    "for child in sorted(dirpath.iterdir()):\n",
    "    if (child.name[0]!='.') & (child.is_file()):\n",
    "        nodefiles[child.name.split('_')[2]] = child\n",
    "                    \n",
    "# Create a base_segments dictionary of all cells\n",
    "base_segments = {}\n",
    "cell_type={}\n",
    "for x in [n for n in nodes if n in overlapping_cells]:\n",
    "    cell = ecrest(settings_dict,filepath = nodefiles[x],launch_viewer=False)\n",
    "    base_segments[cell.cell_data['metadata']['main_seg']['base']] = cell.cell_data['base_segments']\n",
    "    cell_type[cell.cell_data['metadata']['main_seg']['base']] = cell.get_ctype('manual')"
   ]
  },
  {
   "cell_type": "code",
   "execution_count": 42,
   "id": "6ec4cd55-1080-4397-b2d8-2e67265e3803",
   "metadata": {},
   "outputs": [
    {
     "name": "stdout",
     "output_type": "stream",
     "text": [
      "6115 segments in cell 1 that are not in cell 2\n",
      "2390 segments in cell 2 that are not in cell 1\n",
      "0 segments in both\n"
     ]
    }
   ],
   "source": [
    "segs_1 = set([a for b in base_segments[overlapping_cells[0]].values() for a in b])\n",
    "segs_2 = set([a for b in base_segments[overlapping_cells[1]].values() for a in b])\n",
    "\n",
    "print(f'{len(segs_1.difference(segs_2))} segments in cell 1 that are not in cell 2')\n",
    "print(f'{len(segs_2.difference(segs_1))} segments in cell 2 that are not in cell 1')\n",
    "\n",
    "overlap_seg_list = segs_1 & segs_2\n",
    "print(f'{len(overlap_seg_list)} segments in both')"
   ]
  },
  {
   "cell_type": "code",
   "execution_count": 43,
   "id": "91d02c95-53d8-4161-aa9f-9f7c31fbc5cd",
   "metadata": {},
   "outputs": [],
   "source": [
    "viewer = get_viewer()\n",
    "lname = 'base_segs'\n",
    "create_baseseg_layer(viewer, base_seg, lname)"
   ]
  },
  {
   "cell_type": "code",
   "execution_count": 44,
   "id": "b34965ba-7948-403f-91af-7b31eeceee07",
   "metadata": {},
   "outputs": [
    {
     "name": "stdout",
     "output_type": "stream",
     "text": [
      "387368998 #33cc33\n",
      "644824967 #cc33ff\n"
     ]
    }
   ],
   "source": [
    "#vizualize cells\n",
    "cell_color=['#33cc33','#cc33ff']\n",
    "for i,n in enumerate(base_segments.keys()):\n",
    "    with viewer.txn(overwrite=True) as s:\n",
    "        color_structure = cell_color[i] # blue\n",
    "        print(n,color_structure)\n",
    "        for bs in [a for b in base_segments[n].values() for a in b]:\n",
    "            s.layers[lname].segments.add(int(bs))\n",
    "            s.layers[lname].segment_colors[int(bs)] = color_structure \n",
    "\n",
    "# visualize overlapping segemtns\n",
    "color_structure='#ff0000' #red\n",
    "with viewer.txn(overwrite=True) as s:\n",
    "    for bs in list(overlap_seg_list):\n",
    "        # s.layers[lname].segments.add(int(bs)) # should already be in layer because part of both cells\n",
    "        s.layers[lname].segment_colors[int(bs)] = color_structure "
   ]
  },
  {
   "cell_type": "markdown",
   "id": "d98ea56f-0637-4f03-ac81-b8cb213243d7",
   "metadata": {},
   "source": [
    "# visualize anchor seg by type\n",
    "\n",
    "requires cell structure labeling to be done because uses \"unknown\" to identify soma"
   ]
  },
  {
   "cell_type": "markdown",
   "id": "c12043de-93e5-4c4a-be6b-7ed625e4f878",
   "metadata": {},
   "source": [
    "just plot the anchor segment (so does not require cell structure labeling)"
   ]
  },
  {
   "cell_type": "code",
   "execution_count": 288,
   "id": "c1f9c9a2-b715-4b4c-8445-aa53d71d00e7",
   "metadata": {},
   "outputs": [],
   "source": [
    "path_to_settings_json = '/Users/kperks/Documents/ell-connectome/eCREST-local-files/settings_dict.json'\n",
    "settings_dict = import_settings(path_to_settings_json)\n",
    "\n",
    "dirpath = Path(settings_dict['save_dir'])\n",
    "\n",
    "nodes = [child.name.split('_')[2] for child in sorted(dirpath.iterdir()) \n",
    "         if (child.name[0]!='.') & (child.is_file())] # ignore hidden files]\n",
    "\n",
    "nodefiles = dict()\n",
    "for child in sorted(dirpath.iterdir()):\n",
    "    if (child.name[0]!='.') & (child.is_file()):\n",
    "        nodefiles[child.name.split('_')[2]] = child\n",
    "\n",
    "cell_type = {}\n",
    "for x in nodes:\n",
    "    cell = ecrest(settings_dict,filepath = nodefiles[x],launch_viewer=False)\n",
    "    cell_type[x] = cell.get_ctype('manual') \n",
    "    if (cell.get_ctype('manual') == []) | (cell.get_ctype('manual') == ''):\n",
    "        print(f'cell {x} is not cell-typed in json')"
   ]
  },
  {
   "cell_type": "code",
   "execution_count": 142,
   "id": "933fecd4-b497-45f4-82c2-4a48079f51f7",
   "metadata": {},
   "outputs": [],
   "source": [
    "viewer = get_viewer(backgnd_color=\"white\")\n",
    "\n",
    "\n",
    "color_structure = '#9934ff' # purple\n",
    "ctype_ = 'mg2'\n",
    "create_baseseg_layer(viewer, base_seg, ctype_)\n",
    "for x in nodes:\n",
    "    if cell_type[x] in [ctype_]:\n",
    "        try:\n",
    "            cell = ecrest(settings_dict,filepath = nodefiles[x],launch_viewer=False)\n",
    "        \n",
    "            with viewer.txn(overwrite=True) as s:\n",
    "                bs = cell.cell_data['metadata']['main_seg']['base']\n",
    "                s.layers['base_segs'].segments.add(int(bs))\n",
    "                s.layers['base_segs'].segment_colors[int(bs)] = color_structure # blue\n",
    "        \n",
    "        except: \n",
    "            print(f'{x} could not plot')\n",
    "            continue\n",
    "            \n",
    "color_structure = '#fd9400'# less red orange # '#ff471a' # orange\n",
    "ctype_ = 'mg1'\n",
    "create_baseseg_layer(viewer, base_seg, ctype_)\n",
    "for x in nodes:\n",
    "    if cell_type[x] in [ctype_]:\n",
    "        try:\n",
    "            cell = ecrest(settings_dict,filepath = nodefiles[x],launch_viewer=False)\n",
    "            \n",
    "            with viewer.txn(overwrite=True) as s:\n",
    "                bs = cell.cell_data['metadata']['main_seg']['base']\n",
    "                s.layers['base_segs'].segments.add(int(bs))\n",
    "                s.layers['base_segs'].segment_colors[int(bs)] = color_structure # blue\n",
    "        \n",
    "        except: \n",
    "            print(f'{x} could not plot')\n",
    "            continue"
   ]
  },
  {
   "cell_type": "markdown",
   "id": "3350527f-ca02-441b-97f5-5ec854d16f41",
   "metadata": {},
   "source": [
    "If want to use soma (and pick random selection from soma to plot so don't overload it), use the following code cell"
   ]
  },
  {
   "cell_type": "code",
   "execution_count": 291,
   "id": "0512bae1-73e3-464e-8a5f-225c85e9d96e",
   "metadata": {},
   "outputs": [],
   "source": [
    "viewer = get_viewer(backgnd_color=\"white\")\n",
    "create_baseseg_layer(viewer, base_seg, 'output')"
   ]
  },
  {
   "cell_type": "code",
   "execution_count": 295,
   "id": "7f4afed8-cf28-4751-97be-d7669455e442",
   "metadata": {},
   "outputs": [],
   "source": [
    "color_structure = {'lf':'#ff0000','lg':'#0000ff'}\n",
    "\n",
    "toplot=[]\n",
    "for x in nodes:\n",
    "    if cell_type[x] in ['lf','lg']:\n",
    "        cell = ecrest(settings_dict,filepath = nodefiles[x],launch_viewer=False)\n",
    "        try:\n",
    "            assert len(cell.cell_data['base_segments']['unknown']) < len([a for b in cell.cell_data['base_segments'].values() for a in b])\n",
    "            # toplot.append(x)\n",
    "            with viewer.txn(overwrite=True) as s:\n",
    "\n",
    "                for bs in random.choices(list(cell.cell_data['base_segments']['unknown']),k=50):\n",
    "                    s.layers['output'].segments.add(int(bs))\n",
    "                    s.layers['output'].segment_colors[int(bs)] = color_structure[cell_type[x]]\n",
    "        except: \n",
    "            continue\n",
    "            # print(f'no cell structures labeled for {x} yet')\n",
    "\n",
    "# cell_color={'lf':'#ff0000','lg':'#0000ff'}\n",
    "# for out_cell in toplot:\n",
    "#     with viewer.txn(overwrite=True) as s:\n",
    "#         color_structure = cell_color[cell_type[out_cell]] # blue\n",
    "\n",
    "#         for bs in random.choices(list(base_segments[out_cell]['unknown']),k=50):\n",
    "#             s.layers['base_segs'].segments.add(int(bs))\n",
    "#             s.layers['base_segs'].segment_colors[int(bs)] = color_structure # blue"
   ]
  },
  {
   "cell_type": "code",
   "execution_count": 138,
   "id": "05645991-5be7-480e-a268-d7e2432fe232",
   "metadata": {},
   "outputs": [],
   "source": [
    "create_em_layer(viewer)"
   ]
  },
  {
   "cell_type": "markdown",
   "id": "7b9f7d85-f06f-449a-bb64-8f3be4195e98",
   "metadata": {},
   "source": [
    "# visualize cell structure by type\n",
    "\n",
    "requires cell structure labeling to be done "
   ]
  },
  {
   "cell_type": "code",
   "execution_count": 317,
   "id": "2e1d2e49-3d72-4dcb-82ec-0e673e0692c1",
   "metadata": {},
   "outputs": [],
   "source": [
    "path_to_settings_json = '/Users/kperks/Documents/ell-connectome/eCREST-local-files/settings_dict.json'\n",
    "settings_dict = import_settings(path_to_settings_json)\n",
    "\n",
    "dirpath = Path(settings_dict['save_dir'])\n",
    "\n",
    "nodes = [child.name.split('_')[2] for child in sorted(dirpath.iterdir()) \n",
    "         if (child.name[0]!='.') & (child.is_file())] # ignore hidden files]\n",
    "\n",
    "nodefiles = dict()\n",
    "for child in sorted(dirpath.iterdir()):\n",
    "    if (child.name[0]!='.') & (child.is_file()):\n",
    "        nodefiles[child.name.split('_')[2]] = child\n",
    "\n",
    "cell_type = {}\n",
    "for x in nodes:\n",
    "    cell = ecrest(settings_dict,filepath = nodefiles[x],launch_viewer=False)\n",
    "    cell_type[x] = cell.get_ctype('manual') \n",
    "    if (cell.get_ctype('manual') == []) | (cell.get_ctype('manual') == ''):\n",
    "        print(f'cell {x} is not cell-typed in json')"
   ]
  },
  {
   "cell_type": "code",
   "execution_count": 329,
   "id": "f036c5dd-96b5-4a81-a58a-3e5f8447ec44",
   "metadata": {},
   "outputs": [],
   "source": [
    "structure_label = 'basal dendrite'\n",
    "base_segments = {'mg1':[],'mg2':[]}\n",
    "cell_count = {'mg1':0,'mg2':0}\n",
    "for k in base_segments.keys():\n",
    "    for x in nodes:\n",
    "        if cell_type[x] == k:\n",
    "            cell = ecrest(settings_dict,filepath = nodefiles[x],launch_viewer=False)\n",
    "            if cell.cell_data['base_segments']['axon'] != set():\n",
    "                base_segments[k].extend(cell.cell_data['base_segments'][structure_label])\n",
    "                cell_count[k] += 1"
   ]
  },
  {
   "cell_type": "code",
   "execution_count": 330,
   "id": "c7cdca49-bd48-49ca-8178-bf43a6d7df58",
   "metadata": {},
   "outputs": [
    {
     "data": {
      "text/plain": [
       "{'mg1': 38, 'mg2': 42}"
      ]
     },
     "execution_count": 330,
     "metadata": {},
     "output_type": "execute_result"
    }
   ],
   "source": [
    "cell_count"
   ]
  },
  {
   "cell_type": "code",
   "execution_count": 331,
   "id": "9c637df6-b2ea-41ae-bdfe-79d370368cd4",
   "metadata": {},
   "outputs": [],
   "source": [
    "color_structure = {'mg1':'#fd9400', 'mg2':'#9934ff'}\n",
    "viewer = get_viewer(backgnd_color=\"white\")\n",
    "\n",
    "create_baseseg_layer(viewer, base_seg, structure_label)\n",
    "\n",
    "with viewer.txn(overwrite=True) as s:\n",
    "    for k,v in base_segments.items():\n",
    "        for bs in v:\n",
    "            s.layers['base_segs'].segments.add(int(bs))\n",
    "            s.layers['base_segs'].segment_colors[int(bs)] = color_structure[k] # blue"
   ]
  },
  {
   "cell_type": "code",
   "execution_count": 56,
   "id": "c805f36d-7277-4099-9f7a-a3a56e7ec3be",
   "metadata": {},
   "outputs": [],
   "source": [
    "# toplot=[]\n",
    "# for x in nodes:\n",
    "#     if cell_type[x] in ['lf','lg']:\n",
    "#         try:\n",
    "#             assert len(base_segments[x]['unknown']) < len([a for b in base_segments[x].values() for a in b])\n",
    "#             toplot.append(x)\n",
    "#         except: \n",
    "#             continue\n",
    "#             # print(f'no cell structures labeled for {x} yet')\n",
    "\n",
    "# cell_color={'lf':'#ff0000','lg':'#0000ff'}\n",
    "# for out_cell in toplot:\n",
    "#     with viewer.txn(overwrite=True) as s:\n",
    "#         color_structure = cell_color[cell_type[out_cell]] # blue\n",
    "\n",
    "#         for bs in random.choices(list(base_segments[out_cell]['unknown']),k=50):\n",
    "#             s.layers['base_segs'].segments.add(int(bs))\n",
    "#             s.layers['base_segs'].segment_colors[int(bs)] = color_structure # blue"
   ]
  },
  {
   "cell_type": "markdown",
   "id": "5e6ee6f2-b236-48ad-a6f9-501bc0442c27",
   "metadata": {},
   "source": [
    "just plot the anchor segment (so does not require cell structure labeling)"
   ]
  },
  {
   "cell_type": "code",
   "execution_count": 142,
   "id": "8a53d970-15ed-4016-ad77-83e6033c3e8d",
   "metadata": {},
   "outputs": [],
   "source": [
    "viewer = get_viewer(backgnd_color=\"white\")\n",
    "\n",
    "\n",
    "color_structure = '#9934ff' # purple\n",
    "ctype_ = 'mg2'\n",
    "create_baseseg_layer(viewer, base_seg, ctype_)\n",
    "for x in nodes:\n",
    "    if cell_type[x] in [ctype_]:\n",
    "        try:\n",
    "            cell = ecrest(settings_dict,filepath = nodefiles[x],launch_viewer=False)\n",
    "        \n",
    "            with viewer.txn(overwrite=True) as s:\n",
    "                bs = cell.cell_data['metadata']['main_seg']['base']\n",
    "                s.layers['base_segs'].segments.add(int(bs))\n",
    "                s.layers['base_segs'].segment_colors[int(bs)] = color_structure # blue\n",
    "        \n",
    "        except: \n",
    "            print(f'{x} could not plot')\n",
    "            continue\n",
    "            \n",
    "color_structure = '#ff471a' # orange\n",
    "ctype_ = 'mg1'\n",
    "create_baseseg_layer(viewer, base_seg, ctype_)\n",
    "for x in nodes:\n",
    "    if cell_type[x] in [ctype_]:\n",
    "        try:\n",
    "            cell = ecrest(settings_dict,filepath = nodefiles[x],launch_viewer=False)\n",
    "            \n",
    "            with viewer.txn(overwrite=True) as s:\n",
    "                bs = cell.cell_data['metadata']['main_seg']['base']\n",
    "                s.layers['base_segs'].segments.add(int(bs))\n",
    "                s.layers['base_segs'].segment_colors[int(bs)] = color_structure # blue\n",
    "        \n",
    "        except: \n",
    "            print(f'{x} could not plot')\n",
    "            continue"
   ]
  },
  {
   "cell_type": "markdown",
   "id": "4b3f08d6-d7b4-448b-9419-f63c2b4699c8",
   "metadata": {},
   "source": [
    "# MG-Output convergence"
   ]
  },
  {
   "cell_type": "code",
   "execution_count": 449,
   "id": "d007c7fc-aa83-455c-be27-af7ec4c82bf1",
   "metadata": {},
   "outputs": [],
   "source": [
    "path_to_settings_json = '/Users/kperks/Documents/ell-connectome/eCREST-local-files/settings_dict.json'\n",
    "settings_dict = import_settings(path_to_settings_json)\n",
    "\n",
    "dirpath = Path(settings_dict['save_dir'])\n",
    "\n",
    "nodes = [child.name.split('_')[2] for child in sorted(dirpath.iterdir()) \n",
    "         if (child.name[0]!='.') & (child.is_file())] # ignore hidden files]\n",
    "\n",
    "nodefiles = dict()\n",
    "for child in sorted(dirpath.iterdir()):\n",
    "    if (child.name[0]!='.') & (child.is_file()):\n",
    "        nodefiles[child.name.split('_')[2]] = child\n",
    "\n"
   ]
  },
  {
   "cell_type": "code",
   "execution_count": 457,
   "id": "30ef1fe6-c071-4188-acb6-8540d23fe319",
   "metadata": {},
   "outputs": [],
   "source": [
    "# network = {'lf': ['393063300'],#['307591597']\n",
    "#            'mg1':['128737253','300210608','386224676','474236060'],#low synapse ['214412684','41579854','472175645','643848637'] # high synapse weight\n",
    "#            'lg':['215526370'],\n",
    "#            'mg2':['472051969','301308616','129512755','128473437']}#['128473437','215572949','300316308','386117124','472051969','644825148']}\n",
    "\n",
    "examples = {'mg1': ['127870654'],#,'299530386','41579854']}\n",
    "            'mg2': ['300689181','299249397']}\n",
    "\n",
    "color_structure = {'mg1':'#fd9400', 'mg2':'#9934ff', 'lg':'#0000ff', 'lf':'#ff0000',\n",
    "                  'axon':'#008000','basal dendrite':'#cd4b00','apical dendrite':'#ff8000','unknown':'#d2b48c','multiple':'#9c661f'} #'#ff471a'  #7300e6\n"
   ]
  },
  {
   "cell_type": "code",
   "execution_count": 459,
   "id": "2b59c024-6784-453b-9a9a-7921f5a54cfc",
   "metadata": {},
   "outputs": [],
   "source": [
    "viewer = get_viewer(backgnd_color=\"white\")\n",
    "sleep(1)\n",
    "for cell_type in ['mg2']:\n",
    "    for cell_ in examples[cell_type]:\n",
    "        create_baseseg_layer(viewer, base_seg, cell_)\n",
    "        sleep(3)\n",
    "        cell = ecrest(settings_dict,filepath = nodefiles[cell_],launch_viewer=False)\n",
    "        sleep(3)\n",
    "        with viewer.txn(overwrite=True) as s:\n",
    "            for k,v in cell.cell_data['base_segments'].items():\n",
    "                for bs in v:\n",
    "                    s.layers[cell_].segments.add(int(bs))\n",
    "                    # s.layers[cell_].segment_colors[int(bs)] = color_structure[k] # for cell structures different colors   \n",
    "                    s.layers[cell_].segment_colors[int(bs)] = color_structure[cell_type] # for uniform cell color\n",
    "                    if k=='axon':\n",
    "                        s.layers[cell_].segment_colors[int(bs)] = color_structure[k]#'#808080'\n",
    "  \n",
    "        sleep(3)"
   ]
  },
  {
   "cell_type": "code",
   "execution_count": 411,
   "id": "7d67d38f-25e5-41ac-b1e2-17962c96ab6c",
   "metadata": {},
   "outputs": [],
   "source": [
    "download_path = Path('/Users/kperks/Downloads')\n",
    "filepath = download_path / 'mg2.png'\n",
    "\n",
    "s = viewer.screenshot()\n",
    "with open(filepath, 'wb') as f:\n",
    "    f.write(s.screenshot.image)"
   ]
  },
  {
   "cell_type": "markdown",
   "id": "4f1fcc5d-9788-40a5-81e0-6163079f1e9e",
   "metadata": {},
   "source": [
    "# MG-MG reciprocal"
   ]
  },
  {
   "cell_type": "code",
   "execution_count": 415,
   "id": "664a7251-9ed9-4ee7-97ea-5112e8b1299d",
   "metadata": {},
   "outputs": [],
   "source": [
    "path_to_settings_json = '/Users/kperks/Documents/ell-connectome/eCREST-local-files/settings_dict.json'\n",
    "settings_dict = import_settings(path_to_settings_json)\n",
    "\n",
    "dirpath = Path(settings_dict['save_dir']) #/ 'todo_pre-synaptic/basal-dendrite_mg2'\n",
    "# dirpath = \"/Users/kperks/Documents/gdrive/.shortcut-targets-by-id/16q1BuOMfD2ta0Cwq8CjMlRe4rDvbuWC5/ELL_connectome/CREST_reconstructions/mg-network\"\n",
    "\n",
    "nodes = [child.name.split('_')[2] for child in sorted(dirpath.iterdir()) \n",
    "         if (child.name[0]!='.') & (child.is_file())] # ignore hidden files]\n",
    "\n",
    "nodefiles = dict()\n",
    "for child in sorted(dirpath.iterdir()):\n",
    "    if (child.name[0]!='.') & (child.is_file()):\n",
    "        nodefiles[child.name.split('_')[2]] = child\n",
    "\n",
    "dirpath = Path(settings_dict['save_dir'])\n",
    "# for child in sorted(dirpath.iterdir()):\n",
    "#     if '386392158' in child.name:\n",
    "#         nodefiles[child.name.split('_')[2]] = child"
   ]
  },
  {
   "cell_type": "code",
   "execution_count": 439,
   "id": "88c8b96f-14ec-4a08-9c9c-551e908ad038",
   "metadata": {},
   "outputs": [],
   "source": [
    "cells = {\n",
    "    'mg1':'386224676',\n",
    "    'mg2':'214581797'\n",
    "}\n",
    "    # 386224676\t214581797\n",
    "    # 42632020\t301339154\n",
    "\n",
    "color_structure = {'mg1':'#fd9400', 'mg2':'#9934ff', 'sg':'#d2b48c'}"
   ]
  },
  {
   "cell_type": "code",
   "execution_count": 445,
   "id": "b96aa344-2327-4d33-8225-f058f26fd5de",
   "metadata": {},
   "outputs": [],
   "source": [
    "viewer = get_viewer(backgnd_color=\"white\")\n",
    "\n",
    "create_em_layer(viewer)\n",
    "\n",
    "vx_sizes = [16, 16, 30]\n",
    "\n",
    "for type_,cell_ in cells.items():\n",
    "\n",
    "    create_baseseg_layer(viewer, base_seg, type_)\n",
    "    sleep(3)\n",
    "    cell = ecrest(settings_dict,filepath = nodefiles[cell_],launch_viewer=False)\n",
    "    sleep(3)\n",
    "    with viewer.txn(overwrite=True) as s:\n",
    "        for k,v in cell.cell_data['base_segments'].items():\n",
    "            for bs in v:\n",
    "                s.layers[type_].segments.add(int(bs))\n",
    "                # s.layers['base_segs'].segment_colors[int(bs)] = color_structure[k] # for cell structures different colors   \n",
    "                s.layers[type_].segment_colors[int(bs)] = color_structure[type_] # for uniform cell color\n",
    "                if k=='axon':\n",
    "                    if type_=='mg1':\n",
    "                        s.layers[type_].segment_colors[int(bs)] = '#ff4d00'\n",
    "                    if type_=='mg2':\n",
    "                        s.layers[type_].segment_colors[int(bs)] = '#ff00ff'\n",
    "        sleep(2)\n",
    "        \n",
    "        s.layers[cell_] = neuroglancer.AnnotationLayer()\n",
    "        s.layers[cell_].annotationColor = '#ff00ff'\n",
    "\n",
    "        for pos, point in enumerate(cell.cell_data['end_points']['post-synaptic']):\n",
    "            point_array = array([int(point[x]/vx_sizes[x]) for x in range(3)])\n",
    "            point_id = f'{point_type}_{pos}'\n",
    "            pa = neuroglancer.PointAnnotation(id=point_id, point = point_array)\n",
    "            s.layers[cell_].annotations.append(pa)    \n",
    "\n",
    "        sleep(2)"
   ]
  },
  {
   "cell_type": "code",
   "execution_count": 447,
   "id": "c0cd7e2a-f380-464d-804e-48d91196ba64",
   "metadata": {},
   "outputs": [
    {
     "name": "stdout",
     "output_type": "stream",
     "text": [
      "mg1 makes contact at 214598283\n",
      "mg1 makes contact at 213452352\n",
      "mg1 makes contact at 213451217\n",
      "mg1 makes contact at 127564960\n",
      "mg1 makes contact at 127564960\n",
      "mg2 makes contact at 133163355\n",
      "mg2 makes contact at 387368998\n"
     ]
    }
   ],
   "source": [
    "cell = ecrest(settings_dict,filepath = nodefiles[cells['mg1']],launch_viewer=False)\n",
    "mg1_segs = [a for b in cell.cell_data['base_segments'].values() for a in b]\n",
    "\n",
    "cell = ecrest(settings_dict,filepath = nodefiles[cells['mg2']],launch_viewer=False)\n",
    "mg2_segs = [a for b in cell.cell_data['base_segments'].values() for a in b]\n",
    "    \n",
    "type_ = 'mg1'\n",
    "cell_ =cells[type_]\n",
    "layer_name = f'{type_} makes contact'\n",
    "\n",
    "cell = ecrest(settings_dict,filepath = nodefiles[cell_],launch_viewer=False)\n",
    "with viewer.txn(overwrite=True) as s:       \n",
    "    s.layers[layer_name] = neuroglancer.AnnotationLayer()\n",
    "    s.layers[layer_name].annotationColor = '#00ff00'\n",
    "\n",
    "    for pos, point in enumerate(cell.cell_data['end_points']['post-synaptic']):\n",
    "        if point[3] in mg2_segs:\n",
    "            print(f'{type_} makes contact at {point[3]}')\n",
    "            point_array = array([int(point[x]/vx_sizes[x]) for x in range(3)])\n",
    "            point_id = f'{point_type}_{pos}'\n",
    "            pa = neuroglancer.PointAnnotation(id=point_id, point = point_array)\n",
    "            s.layers[layer_name].annotations.append(pa)  \n",
    "sleep(2)\n",
    "\n",
    "type_ = 'mg2'\n",
    "cell_ =cells[type_]\n",
    "layer_name = f'{type_} makes contact'\n",
    "\n",
    "cell = ecrest(settings_dict,filepath = nodefiles[cell_],launch_viewer=False)\n",
    "with viewer.txn(overwrite=True) as s:       \n",
    "    s.layers[layer_name] = neuroglancer.AnnotationLayer()\n",
    "    s.layers[layer_name].annotationColor = '#00ff00'\n",
    "\n",
    "    for pos, point in enumerate(cell.cell_data['end_points']['post-synaptic']):\n",
    "        if point[3] in mg1_segs:\n",
    "            print(f'{type_} makes contact at {point[3]}')\n",
    "            point_array = array([int(point[x]/vx_sizes[x]) for x in range(3)])\n",
    "            point_id = f'{point_type}_{pos}'\n",
    "            pa = neuroglancer.PointAnnotation(id=point_id, point = point_array)\n",
    "            s.layers[layer_name].annotations.append(pa)          \n",
    "\n",
    "         "
   ]
  },
  {
   "cell_type": "code",
   "execution_count": null,
   "id": "2dd10c80-dbb6-47c4-ab60-66b1f614bf4c",
   "metadata": {},
   "outputs": [],
   "source": [
    "download_path = Path('/Users/kperks/Downloads')\n",
    "filepath = download_path / 'mg-reciproc.png'\n",
    "\n",
    "s = viewer.screenshot()\n",
    "with open(filepath, 'wb') as f:\n",
    "    f.write(s.screenshot.image)"
   ]
  },
  {
   "cell_type": "markdown",
   "id": "a255cb0b-9b07-4b90-94f0-8848293a7973",
   "metadata": {
    "tags": []
   },
   "source": [
    "# MG synaptic partners with annotations"
   ]
  },
  {
   "cell_type": "code",
   "execution_count": 30,
   "id": "77f6dadc-a4fa-4416-acbd-44b3eb70f53a",
   "metadata": {},
   "outputs": [],
   "source": [
    "point_type = 'post-synaptic'\n",
    "with viewer.txn(overwrite=True) as s:\n",
    "    s.layers[point_type] = neuroglancer.AnnotationLayer()\n",
    "    s.layers[point_type].annotationColor = '#ff0000'\n",
    "\n",
    "vx_sizes = [16, 16, 30]"
   ]
  },
  {
   "cell_type": "code",
   "execution_count": 36,
   "id": "5398fd4c-ccf2-474e-854e-7d3b9ac85c17",
   "metadata": {},
   "outputs": [],
   "source": [
    "pre_innet = ['387368998']\n",
    "post_innet = ['302453434']"
   ]
  },
  {
   "cell_type": "code",
   "execution_count": 32,
   "id": "ff43c004-d369-4cc7-9dab-3ebba7b4403a",
   "metadata": {},
   "outputs": [],
   "source": [
    "path_to_settings_json = '/Users/kperks/Documents/ell-connectome/eCREST-local-files/settings_dict.json'\n",
    "settings_dict = import_settings(path_to_settings_json)\n",
    "\n",
    "dirpath = Path(settings_dict['save_dir'])\n",
    "# dirpath = \"/Users/kperks/Documents/gdrive/.shortcut-targets-by-id/16q1BuOMfD2ta0Cwq8CjMlRe4rDvbuWC5/ELL_connectome/CREST_reconstructions/mg-network\"\n",
    "\n",
    "nodes = [child.name.split('_')[2] for child in sorted(dirpath.iterdir()) \n",
    "         if (child.name[0]!='.') & (child.is_file())] # ignore hidden files]\n",
    "\n",
    "nodefiles = dict()\n",
    "for child in sorted(dirpath.iterdir()):\n",
    "    if (child.name[0]!='.') & (child.is_file()):\n",
    "        nodefiles[child.name.split('_')[2]] = child\n",
    "                    "
   ]
  },
  {
   "cell_type": "code",
   "execution_count": 43,
   "id": "b08af4cd-e7f7-489d-9cc7-2f3c0385bb1f",
   "metadata": {},
   "outputs": [],
   "source": [
    "cell_color = {\n",
    "    'axon': '#008000',\n",
    "    'basal dendrite': '#cd4b00',\n",
    "    'apical dendrite': '#ff8000',\n",
    "    'unknown': '#d2b48c',\n",
    "    'multiple': '#9c661f'\n",
    "}\n",
    "\n",
    "for cell_id in pre_innet:\n",
    "    cell = ecrest(settings_dict,filepath = nodefiles[cell_id],launch_viewer=False)\n",
    "    this_cell = cell.cell_data['base_segments']\n",
    "    # all_segs = [a for b in this_cell.values() for a in b]\n",
    "\n",
    "    with viewer.txn(overwrite=True) as s:\n",
    "        for dtype in this_cell.keys():\n",
    "            if this_cell[dtype]!=set():\n",
    "                if dtype=='axon':\n",
    "                    color_structure = cell_color[dtype] # blue\n",
    "                    for bs in this_cell[dtype]:\n",
    "                        s.layers['base_segs'].segments.add(int(bs))\n",
    "                        s.layers['base_segs'].segment_colors[int(bs)] = color_structure # blue\n",
    "                # if dtype!='axon':\n",
    "                #     color_structure = '#d2b48c'\n",
    "\n",
    "\n",
    "    \n",
    "    point_type = 'post-synaptic'\n",
    "    with viewer.txn(overwrite=True) as s:\n",
    "        for pos, point in enumerate(cell.cell_data['end_points'][point_type]):\n",
    "            point_array = array([int(point[x]/vx_sizes[x]) for x in range(3)])\n",
    "            point_id = f'{point_type}_{pos}'\n",
    "            pa = neuroglancer.PointAnnotation(id=point_id, point = point_array)\n",
    "            s.layers[point_type].annotations.append(pa)    \n"
   ]
  },
  {
   "cell_type": "code",
   "execution_count": 44,
   "id": "02dab168-fd95-483c-b0a7-cef00cf90ab5",
   "metadata": {},
   "outputs": [],
   "source": [
    "for cell_id in post_innet:\n",
    "    cell = ecrest(settings_dict,filepath = nodefiles[cell_id],launch_viewer=False)\n",
    "    this_cell = cell.cell_data['base_segments']\n",
    "    # all_segs = [a for b in this_cell.values() for a in b]\n",
    "\n",
    "    with viewer.txn(overwrite=True) as s:\n",
    "        for dtype in this_cell.keys():\n",
    "            if this_cell[dtype]!=set():\n",
    "                color_structure = cell_color[dtype] # blue\n",
    "                for bs in this_cell[dtype]:\n",
    "                    s.layers['base_segs'].segments.add(int(bs))\n",
    "                    s.layers['base_segs'].segment_colors[int(bs)] = color_structure # blue\n",
    "    "
   ]
  },
  {
   "cell_type": "markdown",
   "id": "e5fd137d-f894-4bef-b63f-8211f6014da1",
   "metadata": {},
   "source": [
    "# remove displayed segments"
   ]
  },
  {
   "cell_type": "code",
   "execution_count": null,
   "id": "d9150198-c4fb-40bd-8ee7-9eb71ed06cb2",
   "metadata": {},
   "outputs": [],
   "source": [
    "displayed_segs = set([str(x) for x in viewer.state.layers['base_segs'].segments])"
   ]
  },
  {
   "cell_type": "code",
   "execution_count": null,
   "id": "eb5e5537-e0e2-42ca-802f-1e909039a479",
   "metadata": {},
   "outputs": [],
   "source": [
    "# REMOVE SEGMENTS FROM NGviewer\n",
    "remove_segs = displayed_segs\n",
    "\n",
    "with viewer.txn(overwrite=True) as s:\n",
    "    for bs in remove_segs:\n",
    "        if int(bs) in s.layers['base_segs'].segments:\n",
    "            s.layers['base_segs'].segments.remove(int(bs))"
   ]
  },
  {
   "cell_type": "markdown",
   "id": "cc6c139f-1d87-4217-8c8f-048f3552b953",
   "metadata": {},
   "source": [
    "# Pre-synaptic"
   ]
  },
  {
   "cell_type": "markdown",
   "id": "a3fa905e-71ee-493e-8f6e-09c539b15c98",
   "metadata": {},
   "source": [
    "## MG2"
   ]
  },
  {
   "cell_type": "code",
   "execution_count": 464,
   "id": "0653e6be-0e8f-4c78-afe2-61cb53152c61",
   "metadata": {},
   "outputs": [],
   "source": [
    "path_to_settings_json = '/Users/kperks/Documents/ell-connectome/eCREST-local-files/settings_dict.json'\n",
    "settings_dict = import_settings(path_to_settings_json)\n",
    "\n",
    "dirpath = Path(settings_dict['save_dir']) / 'todo_pre-synaptic/basal-dendrite_mg2'\n",
    "\n",
    "nodes = [child.name.split('_')[2] for child in sorted(dirpath.iterdir()) \n",
    "         if (child.name[0]!='.') & (child.is_file())] # ignore hidden files]\n",
    "\n",
    "nodefiles = dict()\n",
    "for child in sorted(dirpath.iterdir()):\n",
    "    if (child.name[0]!='.') & (child.is_file()):\n",
    "        nodefiles[child.name.split('_')[2]] = child\n",
    "\n",
    "\n",
    "cell_type = {}\n",
    "for x in nodes:\n",
    "    cell = ecrest(settings_dict,filepath = nodefiles[x],launch_viewer=False)\n",
    "    cell_type[x] = cell.get_ctype('manual') \n",
    "    if (cell.get_ctype('manual') == []) | (cell.get_ctype('manual') == ''):\n",
    "        print(f'cell {x} is not cell-typed in json')"
   ]
  },
  {
   "cell_type": "code",
   "execution_count": 465,
   "id": "e63a3c4b-cb8c-4152-b285-555f2006d626",
   "metadata": {},
   "outputs": [
    {
     "name": "stdout",
     "output_type": "stream",
     "text": [
      "63 pre-synaptic cells reconstructed\n",
      "aff: 3.2%\n",
      "grc: 11.1%\n",
      "sg: 42.9%\n",
      "mg1: 3.2%\n",
      "mg2: 0.0%\n",
      "uk: 38.1%\n"
     ]
    }
   ],
   "source": [
    "print(f'{len(cell_type)} pre-synaptic cells reconstructed')\n",
    "print(f'aff: {np.round(100*list(cell_type.values()).count(\"aff\")/len(nodes),1)}%')\n",
    "print(f'grc: {np.round(100*list(cell_type.values()).count(\"grc\")/len(nodes),1)}%')\n",
    "print(f'sg: {np.round(100*list(cell_type.values()).count(\"sg\")/len(nodes),1)}%')\n",
    "print(f'mg1: {np.round(100*list(cell_type.values()).count(\"mg1\")/len(nodes),1)}%')\n",
    "print(f'mg2: {np.round(100*list(cell_type.values()).count(\"mg2\")/len(nodes),1)}%')\n",
    "print(f'uk: {np.round(100*list(cell_type.values()).count(\"uk\")/len(nodes),1)}%')"
   ]
  },
  {
   "cell_type": "code",
   "execution_count": 461,
   "id": "cfa417ea-98a5-4470-b32a-3dfecc9a8618",
   "metadata": {},
   "outputs": [],
   "source": [
    "viewer = get_viewer(backgnd_color='white')\n",
    "\n",
    "filename = 'cell_graph_386392158__2023-05-22 14.40.21.json'\n",
    "cell = ecrest(settings_dict,filepath= Path(settings_dict['save_dir']) / filename, launch_viewer=False)\n",
    "\n",
    "lname = 'post-synaptic_' + cell.get_ctype('manual') + '_' + main_seg\n",
    "\n",
    "create_baseseg_layer(viewer, base_seg, lname, visible=True)\n",
    "\n",
    "with viewer.txn(overwrite=True) as s:\n",
    "    for bs in set([str(a) for b in cell.cell_data['base_segments'].values() for a in b]):\n",
    "        s.layers[lname].segments.add(int(bs))\n",
    "        s.layers[lname].segment_colors[int(bs)] = '#ffffff'#'#7300e6'#\n",
    "    \n",
    "    for bs in cell.cell_data['base_segments']['basal dendrite']:\n",
    "        s.layers[lname].segment_colors[int(bs)] = '#cd4b00'\n",
    "\n",
    "point_type = 'pre-synaptic'\n",
    "with viewer.txn(overwrite=True) as s:\n",
    "    s.layers[point_type] = neuroglancer.AnnotationLayer()\n",
    "    s.layers[point_type].annotationColor = '#00eeee'\n",
    "\n",
    "with viewer.txn(overwrite=True) as s:\n",
    "    for pos, point in enumerate(cell.cell_data['end_points'][point_type]):\n",
    "        if int(point[1]/vx_sizes[1])>17070:\n",
    "            point_array = array([int(point[x]/vx_sizes[x]) for x in range(3)])\n",
    "            point_id = f'{point_type}_{pos}'\n",
    "            pa = neuroglancer.PointAnnotation(id=point_id, point = point_array)\n",
    "            s.layers[point_type].annotations.append(pa)   "
   ]
  },
  {
   "cell_type": "code",
   "execution_count": 463,
   "id": "6a7e479b-257d-45ef-9fec-5ae15c6bac5f",
   "metadata": {},
   "outputs": [],
   "source": [
    "create_em_layer(viewer)"
   ]
  },
  {
   "cell_type": "code",
   "execution_count": 462,
   "id": "88abe4b4-806a-44f2-9422-4f64a556a3fd",
   "metadata": {},
   "outputs": [
    {
     "name": "stdout",
     "output_type": "stream",
     "text": [
      "sg_4_128832297\n",
      "sg_5_129943799\n",
      "sg_6_130008081\n",
      "sg_7_131091823\n",
      "sg_9_213528973\n",
      "sg_10_220352606\n",
      "sg_17_300472128\n",
      "sg_20_300596446\n",
      "sg_21_301648806\n",
      "sg_22_301662524\n",
      "sg_23_301693439\n",
      "sg_30_386455093\n",
      "sg_31_387539479\n",
      "sg_32_388699029\n",
      "sg_35_389811976\n",
      "sg_36_390956854\n",
      "sg_39_392087810\n",
      "sg_41_393233147\n",
      "sg_45_394395379\n",
      "sg_47_473460724\n",
      "sg_48_473461904\n",
      "sg_49_474542741\n",
      "sg_50_479124040\n",
      "sg_53_480267823\n",
      "sg_54_480267921\n",
      "sg_59_559228683\n",
      "sg_60_559257305\n",
      "sg_61_560450043\n",
      "sg_62_560465610\n",
      "sg_63_561609054\n",
      "sg_64_562707077\n",
      "sg_66_648613074\n"
     ]
    }
   ],
   "source": [
    "for i,x in enumerate(nodes):# = nodes[0]\n",
    "    if cell_type[x] in ['sg']:\n",
    "        lname = cell_type[x] + '_' + str(i+4) + '_' + x\n",
    "        create_baseseg_layer(viewer, base_seg, lname, objectAlpha = 0.5)\n",
    "        sleep(3)\n",
    "        print(lname)\n",
    "\n",
    "        cell = ecrest(settings_dict,filepath = nodefiles[x],launch_viewer=False)\n",
    "        sleep(2)\n",
    "        with viewer.txn(overwrite=True) as s:\n",
    "            for bs in set([str(a) for b in cell.cell_data['base_segments'].values() for a in b]):\n",
    "                s.layers[lname].segments.add(int(bs))\n",
    "                s.layers[lname].segment_colors[int(bs)] = '#d2b48c' # blue"
   ]
  },
  {
   "cell_type": "code",
   "execution_count": null,
   "id": "229837b4-4e5a-4881-8c0a-280185b614e3",
   "metadata": {},
   "outputs": [],
   "source": [
    "cell_graph_129943799__2023-05-22 20.52.25"
   ]
  },
  {
   "cell_type": "markdown",
   "id": "e264500d-0b22-4424-8092-cf7a938672be",
   "metadata": {},
   "source": [
    "## MG1"
   ]
  },
  {
   "cell_type": "code",
   "execution_count": 353,
   "id": "0007505f-a830-41f5-b2cc-78af455b6034",
   "metadata": {},
   "outputs": [],
   "source": [
    "path_to_settings_json = '/Users/kperks/Documents/ell-connectome/eCREST-local-files/settings_dict.json'\n",
    "settings_dict = import_settings(path_to_settings_json)\n",
    "\n",
    "dirpath = Path(settings_dict['save_dir']) / 'todo_pre-synaptic/basal-dendrite_mg1'\n",
    "\n",
    "nodes = [child.name.split('_')[2] for child in sorted(dirpath.iterdir()) \n",
    "         if (child.name[0]!='.') & (child.is_file())] # ignore hidden files]\n",
    "\n",
    "nodefiles = dict()\n",
    "for child in sorted(dirpath.iterdir()):\n",
    "    if (child.name[0]!='.') & (child.is_file()):\n",
    "        nodefiles[child.name.split('_')[2]] = child\n",
    "\n",
    "cell_type = {}\n",
    "for x in nodes:\n",
    "    cell = ecrest(settings_dict,filepath = nodefiles[x],launch_viewer=False)\n",
    "    cell_type[x] = cell.get_ctype('manual') \n",
    "    if (cell.get_ctype('manual') == []) | (cell.get_ctype('manual') == ''):\n",
    "        print(f'cell {x} is not cell-typed in json')"
   ]
  },
  {
   "cell_type": "code",
   "execution_count": 248,
   "id": "0e756f77-74fd-4f67-a3da-a6c19d50b58a",
   "metadata": {},
   "outputs": [
    {
     "name": "stdout",
     "output_type": "stream",
     "text": [
      "53 pre-synaptic cells reconstructed\n",
      "aff: 0.0%\n",
      "grc: 37.7%\n",
      "sg: 28.3%\n",
      "mg1: 0.0%\n",
      "mg2: 5.7%\n",
      "uk: 24.5%\n"
     ]
    }
   ],
   "source": [
    "print(f'{len(cell_type)} pre-synaptic cells reconstructed')\n",
    "print(f'aff: {np.round(100*list(cell_type.values()).count(\"aff\")/len(nodes),1)}%')\n",
    "print(f'grc: {np.round(100*list(cell_type.values()).count(\"grc\")/len(nodes),1)}%')\n",
    "print(f'sg: {np.round(100*list(cell_type.values()).count(\"sg\")/len(nodes),1)}%')\n",
    "print(f'mg1: {np.round(100*list(cell_type.values()).count(\"mg1\")/len(nodes),1)}%')\n",
    "print(f'mg2: {np.round(100*list(cell_type.values()).count(\"mg2\")/len(nodes),1)}%')\n",
    "print(f'uk: {np.round(100*list(cell_type.values()).count(\"uk\")/len(nodes),1)}%')"
   ]
  },
  {
   "cell_type": "code",
   "execution_count": 356,
   "id": "42725cc9-bac2-422a-be30-9f7f493299e7",
   "metadata": {},
   "outputs": [],
   "source": [
    "viewer = get_viewer(backgnd_color='white')\n",
    "\n",
    "filename = 'cell_graph_299392199__2023-05-19 15.23.56.json'\n",
    "cell = ecrest(settings_dict,filepath= Path(settings_dict['save_dir']) / filename, launch_viewer=False)\n",
    "\n",
    "lname = 'post-synaptic_' + cell.get_ctype('manual') + '_' + main_seg\n",
    "\n",
    "create_baseseg_layer(viewer, base_seg, lname, visible=False)\n",
    "\n",
    "with viewer.txn(overwrite=True) as s:\n",
    "    for bs in set([str(a) for b in cell.cell_data['base_segments'].values() for a in b]):\n",
    "        s.layers[lname].segments.add(int(bs))\n",
    "        s.layers[lname].segment_colors[int(bs)] = '#ffffff'#'#7300e6'#'#ff471a'\n",
    "    \n",
    "    for bs in cell.cell_data['base_segments']['basal dendrite']:\n",
    "        s.layers[lname].segment_colors[int(bs)] = '#cd4b00'\n",
    "\n",
    "point_type = 'pre-synaptic'\n",
    "with viewer.txn(overwrite=True) as s:\n",
    "    s.layers[point_type] = neuroglancer.AnnotationLayer()\n",
    "    s.layers[point_type].annotationColor = '#00eeee'\n",
    "\n",
    "with viewer.txn(overwrite=True) as s:\n",
    "    for pos, point in enumerate(cell.cell_data['end_points'][point_type]):\n",
    "        point_array = array([int(point[x]/vx_sizes[x]) for x in range(3)])\n",
    "        point_id = f'{point_type}_{pos}'\n",
    "        pa = neuroglancer.PointAnnotation(id=point_id, point = point_array)\n",
    "        s.layers[point_type].annotations.append(pa)   "
   ]
  },
  {
   "cell_type": "code",
   "execution_count": 110,
   "id": "1b9ed65c-1f02-4b19-a21b-bd8d3591e513",
   "metadata": {},
   "outputs": [],
   "source": [
    "create_em_layer(viewer)"
   ]
  },
  {
   "cell_type": "code",
   "execution_count": 361,
   "id": "37f18919-0def-4116-894c-b95dacc7912d",
   "metadata": {},
   "outputs": [
    {
     "name": "stdout",
     "output_type": "stream",
     "text": [
      "uk_4_132343661\n",
      "uk_11_218063304\n",
      "uk_12_218077046\n",
      "uk_15_218141880\n",
      "uk_24_302900989\n",
      "uk_25_303939652\n",
      "uk_26_304001737\n",
      "uk_31_387553661\n",
      "uk_43_45181307\n",
      "uk_44_45183120\n",
      "uk_46_45185186\n",
      "uk_47_46329352\n",
      "uk_48_46330189\n"
     ]
    }
   ],
   "source": [
    "for i,x in enumerate(nodes):# = nodes[0]\n",
    "    if cell_type[x] in ['uk']:\n",
    "        lname = cell_type[x] + '_' + str(i+4) + '_' + x\n",
    "        create_baseseg_layer(viewer, base_seg, lname, objectAlpha = 0.5)\n",
    "        sleep(3)\n",
    "        print(lname)\n",
    "\n",
    "        cell = ecrest(settings_dict,filepath = nodefiles[x],launch_viewer=False)\n",
    "        sleep(2)\n",
    "        with viewer.txn(overwrite=True) as s:\n",
    "            for bs in set([str(a) for b in cell.cell_data['base_segments'].values() for a in b]):\n",
    "                s.layers[lname].segments.add(int(bs))\n",
    "                s.layers[lname].segment_colors[int(bs)] = '#d2b48c' # blue"
   ]
  },
  {
   "cell_type": "markdown",
   "id": "65b95c4a-0e41-41a5-b945-c63f2e91ab7c",
   "metadata": {},
   "source": [
    "## Meta\n",
    "\n",
    "MG1\n",
    "aff: 0.0%\n",
    "grc: 37.7%\n",
    "sg: 28.3%\n",
    "mg1: 0.0%\n",
    "mg2: 5.7%\n",
    "uk: 24.5%\n",
    "\n",
    "MG2\n",
    "aff: 3.2%\n",
    "grc: 11.1%\n",
    "sg: 42.9%\n",
    "mg1: 3.2%\n",
    "mg2: 0.0%\n",
    "uk: 38.1%"
   ]
  },
  {
   "cell_type": "code",
   "execution_count": 377,
   "id": "5900bf0b-bb4e-4f40-86dc-0bda338623c2",
   "metadata": {},
   "outputs": [
    {
     "data": {
      "image/png": "[encoded data removed]",
      "text/plain": [
       "<Figure size 640x480 with 1 Axes>"
      ]
     },
     "metadata": {},
     "output_type": "display_data"
    }
   ],
   "source": [
    "fig = plt.figure()\n",
    "ax = plt.subplot(111)\n",
    "\n",
    "\n",
    "\n",
    "pre_type = pd.DataFrame({'afferent': [0,3.2],\n",
    "                         'granular': [37.7,11.1],\n",
    "                         'sm_ganglion': [28.3,42.9],\n",
    "                         'mg1': [0,3.2],\n",
    "                         'mg2':[5.7,0],\n",
    "                         'unknown':[24.5,38.1]},\n",
    "                        index=['mg1', 'mg2'])\n",
    " \n",
    " \n",
    "# create stacked bar chart for students DataFrame\n",
    "pre_type.plot(kind='bar', stacked=True, ax=ax)\n",
    "ax.legend(bbox_to_anchor=(1.1, 1.05));\n",
    "\n",
    "# # Add Title and Labels\n",
    "# plt.title('Intermediate Students Pass %')\n",
    "# plt.xlabel('Year')\n",
    "# plt.ylabel('Percentage Ranges')"
   ]
  },
  {
   "cell_type": "code",
   "execution_count": 383,
   "id": "2440f3b9-862b-4f27-b877-b4db2c370880",
   "metadata": {},
   "outputs": [],
   "source": [
    "pre_type = pre_type.melt(ignore_index = False).reset_index()"
   ]
  },
  {
   "cell_type": "code",
   "execution_count": 393,
   "id": "207a26e4-075b-45bb-a989-f5059fab0b5d",
   "metadata": {},
   "outputs": [
    {
     "data": {
      "text/plain": [
       "Text(0, 0.5, 'Percent pre-synaptic cells')"
      ]
     },
     "execution_count": 393,
     "metadata": {},
     "output_type": "execute_result"
    },
    {
     "data": {
      "image/png": "[encoded data removed]",
      "text/plain": [
       "<Figure size 640x480 with 1 Axes>"
      ]
     },
     "metadata": {},
     "output_type": "display_data"
    }
   ],
   "source": [
    "colors = [\"#fd9400\", \"#9934ff\"] #color_structure = {'mg1':'#fd9400', 'mg2':'#9934ff'}\n",
    "# Set your custom color palette\n",
    "sns.set_palette(sns.color_palette(colors))\n",
    "sns.barplot(data=pre_type, x=\"variable\", y=\"value\", hue=\"index\")\n",
    "plt.xlabel('type')\n",
    "plt.ylabel('Percent pre-synaptic cells')"
   ]
  }
 ],
 "metadata": {
  "kernelspec": {
   "display_name": "Python 3 (ipykernel)",
   "language": "python",
   "name": "python3"
  },
  "language_info": {
   "codemirror_mode": {
    "name": "ipython",
    "version": 3
   },
   "file_extension": ".py",
   "mimetype": "text/x-python",
   "name": "python",
   "nbconvert_exporter": "python",
   "pygments_lexer": "ipython3",
   "version": "3.8.13"
  },
  "widgets": {
   "application/vnd.jupyter.widget-state+json": {
    "state": {},
    "version_major": 2,
    "version_minor": 0
   }
  }
 },
 "nbformat": 4,
 "nbformat_minor": 5
}
