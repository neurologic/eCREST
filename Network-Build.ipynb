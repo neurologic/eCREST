{
 "cells": [
  {
   "cell_type": "markdown",
   "id": "7053c443-29f1-4b33-b0c2-d4d9b88626ef",
   "metadata": {},
   "source": [
    "# Setup"
   ]
  },
  {
   "cell_type": "code",
   "execution_count": 1,
   "id": "2670ad87-b5c5-4b81-a59f-f190444ea0e3",
   "metadata": {},
   "outputs": [],
   "source": [
    "############################################################################################################################ \n",
    "# Get the latest CREST files for each ID within the target folder (dirname)\n",
    "\n",
    "from pathlib import Path\n",
    "import json\n",
    "from sqlite3 import connect as sqlite3_connect\n",
    "from sqlite3 import DatabaseError\n",
    "from igraph import Graph as ig_Graph\n",
    "from igraph import plot as ig_plot\n",
    "from scipy.spatial.distance import cdist\n",
    "from random import choice as random_choice\n",
    "from itertools import combinations\n",
    "from numpy import array, unravel_index, argmin, mean\n",
    "import random\n",
    "import numpy as np\n",
    "from copy import deepcopy\n",
    "import itertools\n",
    "from datetime import datetime\n",
    "from time import time\n",
    "import neuroglancer\n",
    "from webbrowser import open as wb_open\n",
    "from webbrowser import open_new as wb_open_new\n",
    "import pandas as pd\n",
    "import seaborn as sns\n",
    "from matplotlib import pyplot as plt\n",
    "from tqdm import tqdm\n",
    "\n",
    "# from eCREST_cli_beta import ecrest, import_settings\n",
    "from eCREST_cli import ecrest, import_settings, get_cell_filepaths"
   ]
  },
  {
   "cell_type": "markdown",
   "id": "5b80dbd2-d1cc-4b77-ac6a-c0d2be029283",
   "metadata": {},
   "source": [
    "The 'ecrest' class has been imported from eCREST_cli.py\n",
    "\n",
    "An instance of this object will be able to:\n",
    "- open an neuroglancer viewer for proofrieading (see \"Proofread using CREST\")\n",
    "    - add-remove segments (using graph feature for efficiency)\n",
    "    - format itself and save itself as a CREST-style .json\n",
    "- convert from neuroglancer json (see \"Convert From Neuroglancer to eCREST\")\n",
    "    - format itself and save itself as a CREST-style .json\n",
    "    \n"
   ]
  },
  {
   "cell_type": "markdown",
   "id": "84104779-a505-4e08-9fd4-1fb7407ff520",
   "metadata": {},
   "source": [
    "### Import settings\n",
    "\n",
    "If you save a copy of settings_dict.json (found in the \"under construction\" directory of eCREST repo) locally somewhere outside the repo (like in your save_dir), then you can use the following code cell to import. This avoids needing to re-type the save_dir and db_path each time you \"git pull\" updates from the repo to this notebook."
   ]
  },
  {
   "cell_type": "code",
   "execution_count": 2,
   "id": "0e188fd4-b913-4e89-bcc2-4c083653845f",
   "metadata": {},
   "outputs": [],
   "source": [
    "path_to_settings_json = '/Users/kperks/Documents/ell-connectome/eCREST-local-files/settings_dict.json'\n",
    "settings_dict = import_settings(path_to_settings_json)"
   ]
  },
  {
   "cell_type": "code",
   "execution_count": 3,
   "id": "18bee53b-c283-4779-86b6-dace6e455d1d",
   "metadata": {},
   "outputs": [],
   "source": [
    "dirpath = Path(settings_dict['save_dir'])\n",
    "# dirpath = \"/Users/kperks/Documents/gdrive/.shortcut-targets-by-id/16q1BuOMfD2ta0Cwq8CjMlRe4rDvbuWC5/ELL_connectome/CREST_reconstructions/mg-network\""
   ]
  },
  {
   "cell_type": "markdown",
   "id": "8faf5b84-32b7-4721-ac80-c82d1f772a5f",
   "metadata": {},
   "source": [
    "## Get all cells info"
   ]
  },
  {
   "cell_type": "code",
   "execution_count": 57,
   "id": "faaac27a-07fd-4c0e-a187-3720d3d7ed08",
   "metadata": {
    "tags": []
   },
   "outputs": [],
   "source": [
    "nodefiles = get_cell_filepaths(dirpath)"
   ]
  },
  {
   "cell_type": "code",
   "execution_count": 58,
   "id": "751107c2-6c3f-4154-a958-690d9544ea5b",
   "metadata": {},
   "outputs": [
    {
     "name": "stdout",
     "output_type": "stream",
     "text": [
      "the following cells are not typed in the main network\n",
      "['139151621', '223880142']\n"
     ]
    }
   ],
   "source": [
    "cell_type = {}\n",
    "not_typed = []\n",
    "for x in nodefiles.keys():\n",
    "    cell = ecrest(settings_dict,filepath = nodefiles[x],launch_viewer=False)\n",
    "    cell_type[x] = cell.get_ctype('manual') \n",
    "    if (cell.get_ctype('manual') == []) | (cell.get_ctype('manual') == ''):\n",
    "        cell_type[x]='none'\n",
    "        not_typed.append(x)# print(f'cell {x} is not cell-typed in json')\n",
    "        \n",
    "print('the following cells are not typed in the main network')\n",
    "print(not_typed)        \n",
    "        "
   ]
  },
  {
   "cell_type": "code",
   "execution_count": 21,
   "id": "5171b47c-8d1f-44b1-ac86-64bd90976397",
   "metadata": {},
   "outputs": [
    {
     "data": {
      "text/plain": [
       "set()"
      ]
     },
     "execution_count": 21,
     "metadata": {},
     "output_type": "execute_result"
    }
   ],
   "source": [
    "set([k for k,v in cell_type.items() if v in 'grc'])"
   ]
  },
  {
   "cell_type": "markdown",
   "id": "552e2f37-bd6d-4086-a92b-8d27a9fbfeed",
   "metadata": {},
   "source": [
    "## Get all segments"
   ]
  },
  {
   "cell_type": "code",
   "execution_count": 59,
   "id": "23ce080b-d192-417c-ad41-0a40ce7f5d1e",
   "metadata": {},
   "outputs": [],
   "source": [
    "# Create a base_segments dictionary of all reconstructed cells \n",
    "\n",
    "base_segments = {}\n",
    "for x,f in nodefiles.items():\n",
    "    # if cell_type[x] in network_types: # if do this, you can't check if the post-syn segments exist as a reconstruction\n",
    "    cell = ecrest(settings_dict,filepath = f)#,launch_viewer=False)\n",
    "    base_segments[cell.cell_data['metadata']['main_seg']['base']] = cell.cell_data['base_segments']\n",
    "    \n",
    "    try:\n",
    "        assert cell.cell_data['metadata']['main_seg']['base'] == x\n",
    "    except:\n",
    "        print(x,cell.cell_data['metadata']['main_seg']['base'])"
   ]
  },
  {
   "cell_type": "markdown",
   "id": "1a53be21-b74e-47da-b02c-844f5dc47635",
   "metadata": {},
   "source": [
    "## Cell structure labeling checks"
   ]
  },
  {
   "cell_type": "code",
   "execution_count": null,
   "id": "4c5867b8-43e0-4d75-935e-7f4470880002",
   "metadata": {},
   "outputs": [],
   "source": [
    "print('need labeling for:')\n",
    "\n",
    "for x,segs in base_segments.items():\n",
    "    if (len(segs['unknown']) == len([s for k,v in segs.items() for s in v])) & (cell_type[x] in ['lf','lg']):\n",
    "        print(f'{x} {cell_type[x]}')"
   ]
  },
  {
   "cell_type": "markdown",
   "id": "475e5070-1940-4d94-b716-acc17460851c",
   "metadata": {},
   "source": [
    "## Build Graph"
   ]
  },
  {
   "cell_type": "code",
   "execution_count": 60,
   "id": "99bcd175-f3b9-462a-9308-372463f2252d",
   "metadata": {},
   "outputs": [],
   "source": [
    "network_types = set([v for v in cell_type.values()])#['mg1','mg2','lg','lf','sg1','sg2','sgx','grc','aff']"
   ]
  },
  {
   "cell_type": "code",
   "execution_count": 61,
   "id": "09a62a04-9ff4-42eb-aca1-4fdbc503cb0e",
   "metadata": {},
   "outputs": [
    {
     "name": "stderr",
     "output_type": "stream",
     "text": [
      "100%|███████████████████████████████████████| 2624/2624 [24:33<00:00,  1.78it/s]\n"
     ]
    }
   ],
   "source": [
    "synanno_type = 'post-synaptic'\n",
    "vx_sizes = [16, 16, 30]\n",
    "\n",
    "## find edges and set the cell-structure attribute of the edge based on which part of the cell the edge goes to\n",
    "edge_list = []\n",
    "\n",
    "with tqdm(total=len(nodefiles.keys())) as pbar:\n",
    "    for x_pre in nodefiles.keys():\n",
    "        pbar.update(1)\n",
    "        if cell_type[x_pre] in network_types:\n",
    "            \n",
    "            # if the node has post-synaptic annotations (the current cell is assumed pre-synaptic)\n",
    "            pre = ecrest(settings_dict,filepath = nodefiles[x_pre])#,launch_viewer=False)\n",
    "            if pre.cell_data['end_points'][synanno_type] != []:\n",
    "                # for each synapse\n",
    "                for syn_ in pre.cell_data['end_points'][synanno_type]:\n",
    "                    try:\n",
    "                        post_seg = syn_[3]\n",
    "                        syn_ = array([int(syn_[i]) for i in range(3)]) # synapses annotations exported as nanometers, so do not need to convert\n",
    "\n",
    "                        # go through each other nodes\n",
    "                        for x_post in nodefiles.keys():\n",
    "                            if cell_type[x_post] in network_types:\n",
    "                                post = base_segments[x_post] \n",
    "                                for k,v in post.items():\n",
    "                                    for v_ in list(v): #find keys (can be multiple on the same cell) for matching segment ids\n",
    "                                        if post_seg == v_: \n",
    "                                            # add edge to the graph between current node and matching node\n",
    "                                            \n",
    "                                            edge_list.append([x_pre,x_post,k,syn_[0],syn_[1],syn_[2]])\n",
    "                                            \n",
    "\n",
    "                    except IndexError as msg:\n",
    "                        cellid = x_pre\n",
    "                        print(msg, f'for cell {cellid} synapse at {array([int(syn_[i]/vx_sizes[i]) for i in range(3)])} voxels has no segment id')\n",
    "\n",
    "            else:\n",
    "                continue\n"
   ]
  },
  {
   "cell_type": "markdown",
   "id": "cac52cb2-1e61-41f0-a464-4a19f57af569",
   "metadata": {},
   "source": [
    "### Specific cell(S)"
   ]
  },
  {
   "cell_type": "code",
   "execution_count": 52,
   "id": "62a8fac1-c3df-4bbe-8cd4-f31cbc0af8bd",
   "metadata": {},
   "outputs": [],
   "source": [
    "edge_list = []\n",
    "cell_list = ['290280494']\n",
    "synanno_type = 'post-synaptic'\n",
    "\n",
    "for x_pre in cell_list:\n",
    "    pre = ecrest(settings_dict,filepath = nodefiles[x_pre])\n",
    "    for syn_ in pre.cell_data['end_points'][synanno_type]:\n",
    "        try:\n",
    "            post_seg = syn_[3]\n",
    "            syn_ = array([int(syn_[i]/1000) for i in range(3)])\n",
    "\n",
    "            # go through each other nodes\n",
    "            for x_post in nodefiles.keys():\n",
    "                if cell_type[x_post] in network_types:\n",
    "                    post = base_segments[x_post] \n",
    "                    for k,v in post.items():\n",
    "                        for v_ in list(v): #find keys (can be multiple on the same cell) for matching segment ids\n",
    "                            if post_seg == v_: \n",
    "                                # add edge to the graph between current node and matching node\n",
    "\n",
    "                                edge_list.append([x_pre,x_post,k,syn_[0],syn_[1],syn_[2]])\n",
    "\n",
    "        except IndexError as msg:\n",
    "            cellid = x_pre\n",
    "            print(msg, f'for cell {cellid} synapse at {array([int(syn_[i]/vx_sizes[i]) for i in range(3)])} voxels has no segment id')\n",
    "\n",
    "\n"
   ]
  },
  {
   "cell_type": "markdown",
   "id": "133d0d9b-fae5-488a-bdcf-13b95c34ed75",
   "metadata": {},
   "source": [
    "### Synapses dataframe"
   ]
  },
  {
   "cell_type": "code",
   "execution_count": 62,
   "id": "12b74970-19b2-4c79-8a1f-6615c6c27304",
   "metadata": {},
   "outputs": [],
   "source": [
    "df_syn = pd.DataFrame(edge_list,columns = ['pre','post','structure','x','y','z'])\n",
    "\n",
    "for i,r in df_syn.iterrows():\n",
    "    df_syn.loc[i,'pre_type']=cell_type[df_syn.loc[i,'pre']]\n",
    "    df_syn.loc[i,'post_type']=cell_type[df_syn.loc[i,'post']]"
   ]
  },
  {
   "cell_type": "markdown",
   "id": "b8323d6d-35a9-4d4d-bcc0-e4f23fb940f4",
   "metadata": {},
   "source": [
    "#### If want to peak at df_Edges"
   ]
  },
  {
   "cell_type": "code",
   "execution_count": 54,
   "id": "4796a795-91f5-45c5-9595-3c005dc50fc3",
   "metadata": {},
   "outputs": [],
   "source": [
    "df_edges = df_syn[['pre','post','pre_type','post_type']].value_counts().reset_index(name='weight') #'structure',"
   ]
  },
  {
   "cell_type": "code",
   "execution_count": 55,
   "id": "b617190d-5145-408e-9c83-7d85582fc793",
   "metadata": {},
   "outputs": [
    {
     "data": {
      "text/html": [
       "<div>\n",
       "<style scoped>\n",
       "    .dataframe tbody tr th:only-of-type {\n",
       "        vertical-align: middle;\n",
       "    }\n",
       "\n",
       "    .dataframe tbody tr th {\n",
       "        vertical-align: top;\n",
       "    }\n",
       "\n",
       "    .dataframe thead th {\n",
       "        text-align: right;\n",
       "    }\n",
       "</style>\n",
       "<table border=\"1\" class=\"dataframe\">\n",
       "  <thead>\n",
       "    <tr style=\"text-align: right;\">\n",
       "      <th></th>\n",
       "      <th>pre</th>\n",
       "      <th>post</th>\n",
       "      <th>pre_type</th>\n",
       "      <th>post_type</th>\n",
       "      <th>weight</th>\n",
       "    </tr>\n",
       "  </thead>\n",
       "  <tbody>\n",
       "    <tr>\n",
       "      <th>0</th>\n",
       "      <td>290280494</td>\n",
       "      <td>127672247</td>\n",
       "      <td>mli</td>\n",
       "      <td>sg2</td>\n",
       "      <td>11</td>\n",
       "    </tr>\n",
       "    <tr>\n",
       "      <th>1</th>\n",
       "      <td>290280494</td>\n",
       "      <td>568416503</td>\n",
       "      <td>mli</td>\n",
       "      <td>uk</td>\n",
       "      <td>5</td>\n",
       "    </tr>\n",
       "    <tr>\n",
       "      <th>2</th>\n",
       "      <td>290280494</td>\n",
       "      <td>483687142</td>\n",
       "      <td>mli</td>\n",
       "      <td>lf</td>\n",
       "      <td>5</td>\n",
       "    </tr>\n",
       "    <tr>\n",
       "      <th>3</th>\n",
       "      <td>290280494</td>\n",
       "      <td>645210795</td>\n",
       "      <td>mli</td>\n",
       "      <td>lg</td>\n",
       "      <td>4</td>\n",
       "    </tr>\n",
       "    <tr>\n",
       "      <th>4</th>\n",
       "      <td>290280494</td>\n",
       "      <td>644175434</td>\n",
       "      <td>mli</td>\n",
       "      <td>fov</td>\n",
       "      <td>4</td>\n",
       "    </tr>\n",
       "    <tr>\n",
       "      <th>...</th>\n",
       "      <td>...</td>\n",
       "      <td>...</td>\n",
       "      <td>...</td>\n",
       "      <td>...</td>\n",
       "      <td>...</td>\n",
       "    </tr>\n",
       "    <tr>\n",
       "      <th>81</th>\n",
       "      <td>290280494</td>\n",
       "      <td>387554847</td>\n",
       "      <td>mli</td>\n",
       "      <td>sg1</td>\n",
       "      <td>1</td>\n",
       "    </tr>\n",
       "    <tr>\n",
       "      <th>82</th>\n",
       "      <td>290280494</td>\n",
       "      <td>387677355</td>\n",
       "      <td>mli</td>\n",
       "      <td>sg1</td>\n",
       "      <td>1</td>\n",
       "    </tr>\n",
       "    <tr>\n",
       "      <th>83</th>\n",
       "      <td>290280494</td>\n",
       "      <td>387708054</td>\n",
       "      <td>mli</td>\n",
       "      <td>sg1</td>\n",
       "      <td>1</td>\n",
       "    </tr>\n",
       "    <tr>\n",
       "      <th>84</th>\n",
       "      <td>290280494</td>\n",
       "      <td>387710569</td>\n",
       "      <td>mli</td>\n",
       "      <td>sg1</td>\n",
       "      <td>1</td>\n",
       "    </tr>\n",
       "    <tr>\n",
       "      <th>85</th>\n",
       "      <td>290280494</td>\n",
       "      <td>386392158</td>\n",
       "      <td>mli</td>\n",
       "      <td>mg2</td>\n",
       "      <td>1</td>\n",
       "    </tr>\n",
       "  </tbody>\n",
       "</table>\n",
       "<p>86 rows × 5 columns</p>\n",
       "</div>"
      ],
      "text/plain": [
       "          pre       post pre_type post_type  weight\n",
       "0   290280494  127672247      mli       sg2      11\n",
       "1   290280494  568416503      mli        uk       5\n",
       "2   290280494  483687142      mli        lf       5\n",
       "3   290280494  645210795      mli        lg       4\n",
       "4   290280494  644175434      mli       fov       4\n",
       "..        ...        ...      ...       ...     ...\n",
       "81  290280494  387554847      mli       sg1       1\n",
       "82  290280494  387677355      mli       sg1       1\n",
       "83  290280494  387708054      mli       sg1       1\n",
       "84  290280494  387710569      mli       sg1       1\n",
       "85  290280494  386392158      mli       mg2       1\n",
       "\n",
       "[86 rows x 5 columns]"
      ]
     },
     "execution_count": 55,
     "metadata": {},
     "output_type": "execute_result"
    }
   ],
   "source": [
    "df_edges#[df_edges['post_type'].isin(['mg2','lg'])]"
   ]
  },
  {
   "cell_type": "code",
   "execution_count": 56,
   "id": "d6bd96d3-f54c-4628-b700-389e79f0bbea",
   "metadata": {},
   "outputs": [
    {
     "data": {
      "text/plain": [
       "post_type\n",
       "dml     8\n",
       "fov     7\n",
       "lf      5\n",
       "lg      4\n",
       "mg1    11\n",
       "mg2     8\n",
       "sg1    22\n",
       "sg2     2\n",
       "tsd     7\n",
       "uk     12\n",
       "Name: pre, dtype: int64"
      ]
     },
     "execution_count": 56,
     "metadata": {},
     "output_type": "execute_result"
    }
   ],
   "source": [
    "df_edges[['pre','post_type']].groupby('post_type')['pre'].count()"
   ]
  },
  {
   "cell_type": "code",
   "execution_count": 19,
   "id": "e0f941c8-995a-4ad9-8397-f71f31c0da8d",
   "metadata": {},
   "outputs": [],
   "source": [
    "for i,r in df_edges.iterrows():\n",
    "    df_edges.loc[i,'pre_diam']=soma_diam[str(df_edges.loc[i,'pre'])]\n",
    "    df_edges.loc[i,'post_diam']=soma_diam[str(df_edges.loc[i,'post'])]\n",
    "\n",
    "df_edges.loc[:,'diam_diff'] = (df_edges['post_diam']-df_edges['pre_diam'])/df_edges['pre_diam']"
   ]
  },
  {
   "cell_type": "code",
   "execution_count": null,
   "id": "8cd85316-ec49-44cf-a87d-55620dfa2e36",
   "metadata": {},
   "outputs": [],
   "source": [
    "# df_edges\n",
    "\n",
    "focal_cell_id = df_edges['post'].unique()\n",
    "display(df_syn[df_syn['pre']==focal_cell_id][['post','post_type']].value_counts().reset_index(\n",
    "    name='weight')['post_type'].value_counts().reset_index(name='ncells'))"
   ]
  },
  {
   "cell_type": "markdown",
   "id": "bcf5886c-f9d0-43b6-89aa-a84f85a36f0d",
   "metadata": {},
   "source": [
    "### save df_syn"
   ]
  },
  {
   "cell_type": "code",
   "execution_count": 63,
   "id": "5e54d001-9758-4c67-a706-7bcb2d06af34",
   "metadata": {},
   "outputs": [],
   "source": [
    "savepath = Path('/Users/kperks/Documents/gdrive/.shortcut-targets-by-id/16q1BuOMfD2ta0Cwq8CjMlRe4rDvbuWC5/ELL_connectome/CREST_reconstructions/mg-network/graphs/')\n",
    "\n",
    "df_syn.to_csv(savepath / 'df_postsyn.csv')"
   ]
  },
  {
   "cell_type": "code",
   "execution_count": 64,
   "id": "4fea9a07-130b-4c6c-9501-82b7c0ffa461",
   "metadata": {},
   "outputs": [
    {
     "data": {
      "text/html": [
       "<div>\n",
       "<style scoped>\n",
       "    .dataframe tbody tr th:only-of-type {\n",
       "        vertical-align: middle;\n",
       "    }\n",
       "\n",
       "    .dataframe tbody tr th {\n",
       "        vertical-align: top;\n",
       "    }\n",
       "\n",
       "    .dataframe thead th {\n",
       "        text-align: right;\n",
       "    }\n",
       "</style>\n",
       "<table border=\"1\" class=\"dataframe\">\n",
       "  <thead>\n",
       "    <tr style=\"text-align: right;\">\n",
       "      <th></th>\n",
       "      <th>pre</th>\n",
       "      <th>post</th>\n",
       "      <th>structure</th>\n",
       "      <th>x</th>\n",
       "      <th>y</th>\n",
       "      <th>z</th>\n",
       "      <th>pre_type</th>\n",
       "      <th>post_type</th>\n",
       "    </tr>\n",
       "  </thead>\n",
       "  <tbody>\n",
       "    <tr>\n",
       "      <th>0</th>\n",
       "      <td>126618353</td>\n",
       "      <td>387850816</td>\n",
       "      <td>basal dendrite</td>\n",
       "      <td>369584</td>\n",
       "      <td>313776</td>\n",
       "      <td>52260</td>\n",
       "      <td>mg1</td>\n",
       "      <td>mg2</td>\n",
       "    </tr>\n",
       "    <tr>\n",
       "      <th>1</th>\n",
       "      <td>126618353</td>\n",
       "      <td>303212610</td>\n",
       "      <td>basal dendrite</td>\n",
       "      <td>368736</td>\n",
       "      <td>314784</td>\n",
       "      <td>52560</td>\n",
       "      <td>mg1</td>\n",
       "      <td>mg2</td>\n",
       "    </tr>\n",
       "    <tr>\n",
       "      <th>2</th>\n",
       "      <td>126618353</td>\n",
       "      <td>394686712</td>\n",
       "      <td>unknown</td>\n",
       "      <td>370112</td>\n",
       "      <td>314832</td>\n",
       "      <td>52620</td>\n",
       "      <td>mg1</td>\n",
       "      <td>lf</td>\n",
       "    </tr>\n",
       "    <tr>\n",
       "      <th>3</th>\n",
       "      <td>126618353</td>\n",
       "      <td>394686712</td>\n",
       "      <td>basal dendrite</td>\n",
       "      <td>359792</td>\n",
       "      <td>314608</td>\n",
       "      <td>51390</td>\n",
       "      <td>mg1</td>\n",
       "      <td>lf</td>\n",
       "    </tr>\n",
       "    <tr>\n",
       "      <th>4</th>\n",
       "      <td>126618353</td>\n",
       "      <td>213605530</td>\n",
       "      <td>basal dendrite</td>\n",
       "      <td>360096</td>\n",
       "      <td>313808</td>\n",
       "      <td>51390</td>\n",
       "      <td>mg1</td>\n",
       "      <td>mg2</td>\n",
       "    </tr>\n",
       "    <tr>\n",
       "      <th>...</th>\n",
       "      <td>...</td>\n",
       "      <td>...</td>\n",
       "      <td>...</td>\n",
       "      <td>...</td>\n",
       "      <td>...</td>\n",
       "      <td>...</td>\n",
       "      <td>...</td>\n",
       "      <td>...</td>\n",
       "    </tr>\n",
       "    <tr>\n",
       "      <th>9522</th>\n",
       "      <td>648567066</td>\n",
       "      <td>645162652</td>\n",
       "      <td>basal dendrite</td>\n",
       "      <td>222320</td>\n",
       "      <td>293280</td>\n",
       "      <td>92280</td>\n",
       "      <td>sg2</td>\n",
       "      <td>lg</td>\n",
       "    </tr>\n",
       "    <tr>\n",
       "      <th>9523</th>\n",
       "      <td>648567066</td>\n",
       "      <td>645162652</td>\n",
       "      <td>basal dendrite</td>\n",
       "      <td>225152</td>\n",
       "      <td>290064</td>\n",
       "      <td>92310</td>\n",
       "      <td>sg2</td>\n",
       "      <td>lg</td>\n",
       "    </tr>\n",
       "    <tr>\n",
       "      <th>9524</th>\n",
       "      <td>648567066</td>\n",
       "      <td>559258918</td>\n",
       "      <td>basal dendrite</td>\n",
       "      <td>225792</td>\n",
       "      <td>289984</td>\n",
       "      <td>92310</td>\n",
       "      <td>sg2</td>\n",
       "      <td>sg1</td>\n",
       "    </tr>\n",
       "    <tr>\n",
       "      <th>9525</th>\n",
       "      <td>648567066</td>\n",
       "      <td>645162652</td>\n",
       "      <td>basal dendrite</td>\n",
       "      <td>225360</td>\n",
       "      <td>287248</td>\n",
       "      <td>92130</td>\n",
       "      <td>sg2</td>\n",
       "      <td>lg</td>\n",
       "    </tr>\n",
       "    <tr>\n",
       "      <th>9526</th>\n",
       "      <td>648567066</td>\n",
       "      <td>559289471</td>\n",
       "      <td>basal dendrite</td>\n",
       "      <td>226464</td>\n",
       "      <td>285968</td>\n",
       "      <td>92130</td>\n",
       "      <td>sg2</td>\n",
       "      <td>sg1</td>\n",
       "    </tr>\n",
       "  </tbody>\n",
       "</table>\n",
       "<p>9527 rows × 8 columns</p>\n",
       "</div>"
      ],
      "text/plain": [
       "            pre       post       structure       x       y      z pre_type  \\\n",
       "0     126618353  387850816  basal dendrite  369584  313776  52260      mg1   \n",
       "1     126618353  303212610  basal dendrite  368736  314784  52560      mg1   \n",
       "2     126618353  394686712         unknown  370112  314832  52620      mg1   \n",
       "3     126618353  394686712  basal dendrite  359792  314608  51390      mg1   \n",
       "4     126618353  213605530  basal dendrite  360096  313808  51390      mg1   \n",
       "...         ...        ...             ...     ...     ...    ...      ...   \n",
       "9522  648567066  645162652  basal dendrite  222320  293280  92280      sg2   \n",
       "9523  648567066  645162652  basal dendrite  225152  290064  92310      sg2   \n",
       "9524  648567066  559258918  basal dendrite  225792  289984  92310      sg2   \n",
       "9525  648567066  645162652  basal dendrite  225360  287248  92130      sg2   \n",
       "9526  648567066  559289471  basal dendrite  226464  285968  92130      sg2   \n",
       "\n",
       "     post_type  \n",
       "0          mg2  \n",
       "1          mg2  \n",
       "2           lf  \n",
       "3           lf  \n",
       "4          mg2  \n",
       "...        ...  \n",
       "9522        lg  \n",
       "9523        lg  \n",
       "9524       sg1  \n",
       "9525        lg  \n",
       "9526       sg1  \n",
       "\n",
       "[9527 rows x 8 columns]"
      ]
     },
     "execution_count": 64,
     "metadata": {},
     "output_type": "execute_result"
    }
   ],
   "source": [
    "df_syn"
   ]
  },
  {
   "cell_type": "code",
   "execution_count": null,
   "id": "ae8cb3d7-16c4-44ed-aeb9-76d04d6e729e",
   "metadata": {},
   "outputs": [],
   "source": []
  },
  {
   "cell_type": "code",
   "execution_count": null,
   "id": "7fa1c801-b701-405f-815e-bd96e19e137d",
   "metadata": {},
   "outputs": [],
   "source": []
  }
 ],
 "metadata": {
  "kernelspec": {
   "display_name": "Python 3 (ipykernel)",
   "language": "python",
   "name": "python3"
  },
  "language_info": {
   "codemirror_mode": {
    "name": "ipython",
    "version": 3
   },
   "file_extension": ".py",
   "mimetype": "text/x-python",
   "name": "python",
   "nbconvert_exporter": "python",
   "pygments_lexer": "ipython3",
   "version": "3.8.13"
  },
  "widgets": {
   "application/vnd.jupyter.widget-state+json": {
    "state": {},
    "version_major": 2,
    "version_minor": 0
   }
  }
 },
 "nbformat": 4,
 "nbformat_minor": 5
}
