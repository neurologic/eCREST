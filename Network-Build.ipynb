{
 "cells": [
  {
   "cell_type": "markdown",
   "id": "7053c443-29f1-4b33-b0c2-d4d9b88626ef",
   "metadata": {},
   "source": [
    "# Setup"
   ]
  },
  {
   "cell_type": "code",
   "execution_count": 1,
   "id": "2670ad87-b5c5-4b81-a59f-f190444ea0e3",
   "metadata": {},
   "outputs": [
    {
     "name": "stdout",
     "output_type": "stream",
     "text": [
      "Intel MKL WARNING: Support of Intel(R) Streaming SIMD Extensions 4.2 (Intel(R) SSE4.2) enabled only processors has been deprecated. Intel oneAPI Math Kernel Library 2025.0 will require Intel(R) Advanced Vector Extensions (Intel(R) AVX) instructions.\n",
      "Intel MKL WARNING: Support of Intel(R) Streaming SIMD Extensions 4.2 (Intel(R) SSE4.2) enabled only processors has been deprecated. Intel oneAPI Math Kernel Library 2025.0 will require Intel(R) Advanced Vector Extensions (Intel(R) AVX) instructions.\n"
     ]
    }
   ],
   "source": [
    "############################################################################################################################ \n",
    "# Get the latest CREST files for each ID within the target folder (dirname)\n",
    "\n",
    "from pathlib import Path\n",
    "import json\n",
    "from sqlite3 import connect as sqlite3_connect\n",
    "from sqlite3 import DatabaseError\n",
    "from igraph import Graph as ig_Graph\n",
    "from igraph import plot as ig_plot\n",
    "from scipy.spatial.distance import cdist\n",
    "from random import choice as random_choice\n",
    "from itertools import combinations\n",
    "from numpy import array, unravel_index, argmin, mean\n",
    "import random\n",
    "import numpy as np\n",
    "from copy import deepcopy\n",
    "import itertools\n",
    "from datetime import datetime\n",
    "from time import time\n",
    "import neuroglancer\n",
    "from webbrowser import open as wb_open\n",
    "from webbrowser import open_new as wb_open_new\n",
    "import pandas as pd\n",
    "import seaborn as sns\n",
    "from matplotlib import pyplot as plt\n",
    "from tqdm import tqdm\n",
    "\n",
    "# from eCREST_cli_beta import ecrest, import_settings\n",
    "from eCREST_cli import ecrest, import_settings, get_cell_filepaths"
   ]
  },
  {
   "cell_type": "markdown",
   "id": "5b80dbd2-d1cc-4b77-ac6a-c0d2be029283",
   "metadata": {},
   "source": [
    "The 'ecrest' class has been imported from eCREST_cli.py\n",
    "\n",
    "An instance of this object will be able to:\n",
    "- open an neuroglancer viewer for proofrieading (see \"Proofread using CREST\")\n",
    "    - add-remove segments (using graph feature for efficiency)\n",
    "    - format itself and save itself as a CREST-style .json\n",
    "- convert from neuroglancer json (see \"Convert From Neuroglancer to eCREST\")\n",
    "    - format itself and save itself as a CREST-style .json\n",
    "    \n"
   ]
  },
  {
   "cell_type": "markdown",
   "id": "84104779-a505-4e08-9fd4-1fb7407ff520",
   "metadata": {},
   "source": [
    "### Import settings\n",
    "\n",
    "If you save a copy of settings_dict.json (found in the \"under construction\" directory of eCREST repo) locally somewhere outside the repo (like in your save_dir), then you can use the following code cell to import. This avoids needing to re-type the save_dir and db_path each time you \"git pull\" updates from the repo to this notebook."
   ]
  },
  {
   "cell_type": "code",
   "execution_count": 11,
   "id": "0e188fd4-b913-4e89-bcc2-4c083653845f",
   "metadata": {},
   "outputs": [],
   "source": [
    "path_to_settings_json = '/Users/kperks/Documents/ell-connectome/eCREST-local-files/settings_dict.json'\n",
    "settings_dict = import_settings(path_to_settings_json)"
   ]
  },
  {
   "cell_type": "code",
   "execution_count": 12,
   "id": "18bee53b-c283-4779-86b6-dace6e455d1d",
   "metadata": {},
   "outputs": [],
   "source": [
    "dirpath = Path(settings_dict['save_dir'])\n",
    "# dirpath = \"/Users/kperks/Documents/gdrive/.shortcut-targets-by-id/16q1BuOMfD2ta0Cwq8CjMlRe4rDvbuWC5/ELL_connectome/CREST_reconstructions/mg-network\""
   ]
  },
  {
   "cell_type": "markdown",
   "id": "8faf5b84-32b7-4721-ac80-c82d1f772a5f",
   "metadata": {},
   "source": [
    "# Get all cells info"
   ]
  },
  {
   "cell_type": "markdown",
   "id": "0528f288-ee47-4c25-8ba5-c40d2f05a101",
   "metadata": {},
   "source": [
    "## Cell Types"
   ]
  },
  {
   "cell_type": "code",
   "execution_count": 27,
   "id": "faaac27a-07fd-4c0e-a187-3720d3d7ed08",
   "metadata": {
    "tags": []
   },
   "outputs": [],
   "source": [
    "nodefiles = get_cell_filepaths(dirpath)"
   ]
  },
  {
   "cell_type": "code",
   "execution_count": 28,
   "id": "751107c2-6c3f-4154-a958-690d9544ea5b",
   "metadata": {},
   "outputs": [
    {
     "name": "stdout",
     "output_type": "stream",
     "text": [
      "the following cells are not typed in the main network\n",
      "[]\n"
     ]
    }
   ],
   "source": [
    "cell_type = {}\n",
    "not_typed = []\n",
    "for x in nodefiles.keys():\n",
    "    cell = ecrest(settings_dict,filepath = nodefiles[x],launch_viewer=False)\n",
    "    cell_type[x] = cell.get_ctype('manual') \n",
    "    if (cell.get_ctype('manual') == []) | (cell.get_ctype('manual') == ''):\n",
    "        cell_type[x]='none'\n",
    "        not_typed.append(x)# print(f'cell {x} is not cell-typed in json')\n",
    "        \n",
    "print('the following cells are not typed in the main network')\n",
    "print(not_typed)        \n",
    "        "
   ]
  },
  {
   "cell_type": "code",
   "execution_count": 20,
   "id": "5171b47c-8d1f-44b1-ac86-64bd90976397",
   "metadata": {},
   "outputs": [
    {
     "data": {
      "text/plain": [
       "set()"
      ]
     },
     "execution_count": 20,
     "metadata": {},
     "output_type": "execute_result"
    }
   ],
   "source": [
    "set([k for k,v in cell_type.items() if v in 'grc'])"
   ]
  },
  {
   "cell_type": "markdown",
   "id": "552e2f37-bd6d-4086-a92b-8d27a9fbfeed",
   "metadata": {},
   "source": [
    "## Base Segments"
   ]
  },
  {
   "cell_type": "code",
   "execution_count": 29,
   "id": "23ce080b-d192-417c-ad41-0a40ce7f5d1e",
   "metadata": {},
   "outputs": [],
   "source": [
    "# Create a base_segments dictionary of all reconstructed cells \n",
    "\n",
    "base_segments = {}\n",
    "for x,f in nodefiles.items():\n",
    "    # if cell_type[x] in network_types: # if do this, you can't check if the post-syn segments exist as a reconstruction\n",
    "    cell = ecrest(settings_dict,filepath = f)#,launch_viewer=False)\n",
    "    base_segments[cell.cell_data['metadata']['main_seg']['base']] = cell.cell_data['base_segments']\n",
    "    \n",
    "    try:\n",
    "        assert cell.cell_data['metadata']['main_seg']['base'] == x\n",
    "    except:\n",
    "        print(x,cell.cell_data['metadata']['main_seg']['base'])"
   ]
  },
  {
   "cell_type": "markdown",
   "id": "1a53be21-b74e-47da-b02c-844f5dc47635",
   "metadata": {},
   "source": [
    "## Cell structure labeling checks"
   ]
  },
  {
   "cell_type": "code",
   "execution_count": null,
   "id": "4c5867b8-43e0-4d75-935e-7f4470880002",
   "metadata": {},
   "outputs": [],
   "source": [
    "print('need labeling for:')\n",
    "\n",
    "for x,segs in base_segments.items():\n",
    "    if (len(segs['unknown']) == len([s for k,v in segs.items() for s in v])) & (cell_type[x] in ['lf','lg']):\n",
    "        print(f'{x} {cell_type[x]}')"
   ]
  },
  {
   "cell_type": "markdown",
   "id": "475e5070-1940-4d94-b716-acc17460851c",
   "metadata": {},
   "source": [
    "# Build Graph"
   ]
  },
  {
   "cell_type": "code",
   "execution_count": 16,
   "id": "99bcd175-f3b9-462a-9308-372463f2252d",
   "metadata": {},
   "outputs": [],
   "source": [
    "network_types = set([v for v in cell_type.values()])#['mg1','mg2','lg','lf','sg1','sg2','sgx','grc','aff']"
   ]
  },
  {
   "cell_type": "code",
   "execution_count": 24,
   "id": "09a62a04-9ff4-42eb-aca1-4fdbc503cb0e",
   "metadata": {},
   "outputs": [
    {
     "name": "stderr",
     "output_type": "stream",
     "text": [
      "100%|█████████████████████████████████████████████████████████████████████████████████████████████████| 3784/3784 [16:55<00:00,  3.73it/s]\n"
     ]
    }
   ],
   "source": [
    "synanno_type = 'pre-synaptic'\n",
    "vx_sizes = [16, 16, 30]\n",
    "\n",
    "## find edges and set the cell-structure attribute of the edge based on which part of the cell the edge goes to\n",
    "edge_list = []\n",
    "\n",
    "with tqdm(total=len(nodefiles.keys())) as pbar:\n",
    "    for x_pre in nodefiles.keys():\n",
    "        pbar.update(1)\n",
    "        # if cell_type[x_pre] in network_types:\n",
    "            \n",
    "        # if the node has post-synaptic annotations (the current cell is assumed pre-synaptic)\n",
    "        pre = ecrest(settings_dict,filepath = nodefiles[x_pre])#,launch_viewer=False)\n",
    "        if pre.cell_data['end_points'][synanno_type] != []:\n",
    "            # for each synapse\n",
    "            for syn_ in pre.cell_data['end_points'][synanno_type]:\n",
    "                '''assumes that the annotation is a point annotation stored in the list as ([x,y,z,segment_id],'annotatePoint')\n",
    "                previous ot Jan 25 2024, it was just [x,y,z,segment_id]'''\n",
    "                syn_ = syn_[0]\n",
    "                try:\n",
    "                    post_seg = syn_[3]\n",
    "                    syn_ = array([int(syn_[i]) for i in range(3)]) # synapses annotations exported as nanometers, so do not need to convert\n",
    "\n",
    "                    # go through each other nodes\n",
    "                    for x_post in nodefiles.keys():\n",
    "                        if cell_type[x_post] in network_types:\n",
    "                            post = base_segments[x_post] \n",
    "                            for k,v in post.items():\n",
    "                                for v_ in list(v): #find keys (can be multiple on the same cell) for matching segment ids\n",
    "                                    if post_seg == v_: \n",
    "                                        # add edge to the graph between current node and matching node\n",
    "                                        \n",
    "                                        edge_list.append([x_pre,x_post,k,syn_[0],syn_[1],syn_[2]])\n",
    "                                        \n",
    "\n",
    "                except IndexError as msg:\n",
    "                    cellid = x_pre\n",
    "                    print(msg, f'for cell {cellid} synapse at {array([int(syn_[i]/vx_sizes[i]) for i in range(3)])} voxels has no segment id')\n",
    "\n",
    "        else:\n",
    "            continue\n"
   ]
  },
  {
   "cell_type": "markdown",
   "id": "cac52cb2-1e61-41f0-a464-4a19f57af569",
   "metadata": {},
   "source": [
    "## Specific cell(S)"
   ]
  },
  {
   "cell_type": "code",
   "execution_count": 43,
   "id": "62a8fac1-c3df-4bbe-8cd4-f31cbc0af8bd",
   "metadata": {},
   "outputs": [],
   "source": [
    "edge_list = []\n",
    "cell_list = ['59297712']\n",
    "synanno_type = 'pre-synaptic'\n",
    "\n",
    "for x_pre in cell_list:\n",
    "    pre = ecrest(settings_dict,filepath = nodefiles[x_pre])\n",
    "    if pre.cell_data['end_points'][synanno_type] != []:\n",
    "        # for each synapse\n",
    "        for syn_ in pre.cell_data['end_points'][synanno_type]:\n",
    "            '''assumes that the annotation is a point annotation stored in the list as ([x,y,z,segment_id],'annotatePoint')\n",
    "            previous ot Jan 25 2024, it was just [x,y,z,segment_id]'''\n",
    "            syn_ = syn_[0]\n",
    "            try:\n",
    "                post_seg = syn_[3]\n",
    "                syn_ = array([int(syn_[i]) for i in range(3)]) # synapses annotations exported as nanometers, so do not need to convert\n",
    "\n",
    "                # go through each other nodes\n",
    "                for x_post in nodefiles.keys():\n",
    "                    if cell_type[x_post] in network_types:\n",
    "                        post = base_segments[x_post] \n",
    "                        for k,v in post.items():\n",
    "                            for v_ in list(v): #find keys (can be multiple on the same cell) for matching segment ids\n",
    "                                if post_seg == v_: \n",
    "                                    # add edge to the graph between current node and matching node\n",
    "                                    \n",
    "                                    edge_list.append([x_pre,x_post,k,syn_[0],syn_[1],syn_[2]])\n",
    "                                    \n",
    "\n",
    "            except IndexError as msg:\n",
    "                cellid = x_pre\n",
    "                print(msg, f'for cell {cellid} synapse at {array([int(syn_[i]/vx_sizes[i]) for i in range(3)])} voxels has no segment id')\n",
    "\n",
    "    else:\n",
    "        continue\n",
    "\n"
   ]
  },
  {
   "cell_type": "markdown",
   "id": "133d0d9b-fae5-488a-bdcf-13b95c34ed75",
   "metadata": {},
   "source": [
    "# Synapses dataframe"
   ]
  },
  {
   "cell_type": "code",
   "execution_count": 44,
   "id": "12b74970-19b2-4c79-8a1f-6615c6c27304",
   "metadata": {},
   "outputs": [],
   "source": [
    "df_syn = pd.DataFrame(edge_list,columns = ['pre','post','structure','x','y','z'])\n",
    "\n",
    "for i,r in df_syn.iterrows():\n",
    "    df_syn.loc[i,'pre_type']=cell_type[df_syn.loc[i,'pre']]\n",
    "    df_syn.loc[i,'post_type']=cell_type[df_syn.loc[i,'post']]"
   ]
  },
  {
   "cell_type": "code",
   "execution_count": 45,
   "id": "a54187b5-4a54-4ae6-9cac-1a022261c4da",
   "metadata": {},
   "outputs": [
    {
     "data": {
      "text/html": [
       "<div>\n",
       "<style scoped>\n",
       "    .dataframe tbody tr th:only-of-type {\n",
       "        vertical-align: middle;\n",
       "    }\n",
       "\n",
       "    .dataframe tbody tr th {\n",
       "        vertical-align: top;\n",
       "    }\n",
       "\n",
       "    .dataframe thead th {\n",
       "        text-align: right;\n",
       "    }\n",
       "</style>\n",
       "<table border=\"1\" class=\"dataframe\">\n",
       "  <thead>\n",
       "    <tr style=\"text-align: right;\">\n",
       "      <th></th>\n",
       "      <th>pre</th>\n",
       "      <th>post</th>\n",
       "      <th>structure</th>\n",
       "      <th>x</th>\n",
       "      <th>y</th>\n",
       "      <th>z</th>\n",
       "    </tr>\n",
       "  </thead>\n",
       "  <tbody>\n",
       "  </tbody>\n",
       "</table>\n",
       "</div>"
      ],
      "text/plain": [
       "Empty DataFrame\n",
       "Columns: [pre, post, structure, x, y, z]\n",
       "Index: []"
      ]
     },
     "execution_count": 45,
     "metadata": {},
     "output_type": "execute_result"
    }
   ],
   "source": [
    "df_syn"
   ]
  },
  {
   "cell_type": "markdown",
   "id": "b8323d6d-35a9-4d4d-bcc0-e4f23fb940f4",
   "metadata": {},
   "source": [
    "## If want to peak at df_Edges"
   ]
  },
  {
   "cell_type": "code",
   "execution_count": 39,
   "id": "4796a795-91f5-45c5-9595-3c005dc50fc3",
   "metadata": {},
   "outputs": [
    {
     "ename": "KeyError",
     "evalue": "\"['pre_type', 'post_type'] not in index\"",
     "output_type": "error",
     "traceback": [
      "\u001b[0;31m---------------------------------------------------------------------------\u001b[0m",
      "\u001b[0;31mKeyError\u001b[0m                                  Traceback (most recent call last)",
      "Cell \u001b[0;32mIn[39], line 1\u001b[0m\n\u001b[0;32m----> 1\u001b[0m df_edges \u001b[38;5;241m=\u001b[39m df_syn[[\u001b[38;5;124m'\u001b[39m\u001b[38;5;124mpre\u001b[39m\u001b[38;5;124m'\u001b[39m,\u001b[38;5;124m'\u001b[39m\u001b[38;5;124mpost\u001b[39m\u001b[38;5;124m'\u001b[39m,\u001b[38;5;124m'\u001b[39m\u001b[38;5;124mpre_type\u001b[39m\u001b[38;5;124m'\u001b[39m,\u001b[38;5;124m'\u001b[39m\u001b[38;5;124mpost_type\u001b[39m\u001b[38;5;124m'\u001b[39m]]\u001b[38;5;241m.\u001b[39mvalue_counts()\u001b[38;5;241m.\u001b[39mreset_index(name\u001b[38;5;241m=\u001b[39m\u001b[38;5;124m'\u001b[39m\u001b[38;5;124mweight\u001b[39m\u001b[38;5;124m'\u001b[39m)\n",
      "File \u001b[0;32m~/opt/anaconda3/envs/ell-cv/lib/python3.11/site-packages/pandas/core/frame.py:4096\u001b[0m, in \u001b[0;36mDataFrame.__getitem__\u001b[0;34m(self, key)\u001b[0m\n\u001b[1;32m   4094\u001b[0m     \u001b[38;5;28;01mif\u001b[39;00m is_iterator(key):\n\u001b[1;32m   4095\u001b[0m         key \u001b[38;5;241m=\u001b[39m \u001b[38;5;28mlist\u001b[39m(key)\n\u001b[0;32m-> 4096\u001b[0m     indexer \u001b[38;5;241m=\u001b[39m \u001b[38;5;28mself\u001b[39m\u001b[38;5;241m.\u001b[39mcolumns\u001b[38;5;241m.\u001b[39m_get_indexer_strict(key, \u001b[38;5;124m\"\u001b[39m\u001b[38;5;124mcolumns\u001b[39m\u001b[38;5;124m\"\u001b[39m)[\u001b[38;5;241m1\u001b[39m]\n\u001b[1;32m   4098\u001b[0m \u001b[38;5;66;03m# take() does not accept boolean indexers\u001b[39;00m\n\u001b[1;32m   4099\u001b[0m \u001b[38;5;28;01mif\u001b[39;00m \u001b[38;5;28mgetattr\u001b[39m(indexer, \u001b[38;5;124m\"\u001b[39m\u001b[38;5;124mdtype\u001b[39m\u001b[38;5;124m\"\u001b[39m, \u001b[38;5;28;01mNone\u001b[39;00m) \u001b[38;5;241m==\u001b[39m \u001b[38;5;28mbool\u001b[39m:\n",
      "File \u001b[0;32m~/opt/anaconda3/envs/ell-cv/lib/python3.11/site-packages/pandas/core/indexes/base.py:6200\u001b[0m, in \u001b[0;36mIndex._get_indexer_strict\u001b[0;34m(self, key, axis_name)\u001b[0m\n\u001b[1;32m   6197\u001b[0m \u001b[38;5;28;01melse\u001b[39;00m:\n\u001b[1;32m   6198\u001b[0m     keyarr, indexer, new_indexer \u001b[38;5;241m=\u001b[39m \u001b[38;5;28mself\u001b[39m\u001b[38;5;241m.\u001b[39m_reindex_non_unique(keyarr)\n\u001b[0;32m-> 6200\u001b[0m \u001b[38;5;28mself\u001b[39m\u001b[38;5;241m.\u001b[39m_raise_if_missing(keyarr, indexer, axis_name)\n\u001b[1;32m   6202\u001b[0m keyarr \u001b[38;5;241m=\u001b[39m \u001b[38;5;28mself\u001b[39m\u001b[38;5;241m.\u001b[39mtake(indexer)\n\u001b[1;32m   6203\u001b[0m \u001b[38;5;28;01mif\u001b[39;00m \u001b[38;5;28misinstance\u001b[39m(key, Index):\n\u001b[1;32m   6204\u001b[0m     \u001b[38;5;66;03m# GH 42790 - Preserve name from an Index\u001b[39;00m\n",
      "File \u001b[0;32m~/opt/anaconda3/envs/ell-cv/lib/python3.11/site-packages/pandas/core/indexes/base.py:6252\u001b[0m, in \u001b[0;36mIndex._raise_if_missing\u001b[0;34m(self, key, indexer, axis_name)\u001b[0m\n\u001b[1;32m   6249\u001b[0m     \u001b[38;5;28;01mraise\u001b[39;00m \u001b[38;5;167;01mKeyError\u001b[39;00m(\u001b[38;5;124mf\u001b[39m\u001b[38;5;124m\"\u001b[39m\u001b[38;5;124mNone of [\u001b[39m\u001b[38;5;132;01m{\u001b[39;00mkey\u001b[38;5;132;01m}\u001b[39;00m\u001b[38;5;124m] are in the [\u001b[39m\u001b[38;5;132;01m{\u001b[39;00maxis_name\u001b[38;5;132;01m}\u001b[39;00m\u001b[38;5;124m]\u001b[39m\u001b[38;5;124m\"\u001b[39m)\n\u001b[1;32m   6251\u001b[0m not_found \u001b[38;5;241m=\u001b[39m \u001b[38;5;28mlist\u001b[39m(ensure_index(key)[missing_mask\u001b[38;5;241m.\u001b[39mnonzero()[\u001b[38;5;241m0\u001b[39m]]\u001b[38;5;241m.\u001b[39munique())\n\u001b[0;32m-> 6252\u001b[0m \u001b[38;5;28;01mraise\u001b[39;00m \u001b[38;5;167;01mKeyError\u001b[39;00m(\u001b[38;5;124mf\u001b[39m\u001b[38;5;124m\"\u001b[39m\u001b[38;5;132;01m{\u001b[39;00mnot_found\u001b[38;5;132;01m}\u001b[39;00m\u001b[38;5;124m not in index\u001b[39m\u001b[38;5;124m\"\u001b[39m)\n",
      "\u001b[0;31mKeyError\u001b[0m: \"['pre_type', 'post_type'] not in index\""
     ]
    }
   ],
   "source": [
    "df_edges = df_syn[['pre','post','pre_type','post_type']].value_counts().reset_index(name='weight') #'structure',"
   ]
  },
  {
   "cell_type": "code",
   "execution_count": null,
   "id": "b617190d-5145-408e-9c83-7d85582fc793",
   "metadata": {},
   "outputs": [],
   "source": [
    "df_edges#[df_edges['post_type'].isin(['mg2','lg'])]"
   ]
  },
  {
   "cell_type": "code",
   "execution_count": 40,
   "id": "d6bd96d3-f54c-4628-b700-389e79f0bbea",
   "metadata": {},
   "outputs": [
    {
     "data": {
      "text/plain": [
       "post_type\n",
       "grc-d    6\n",
       "sg1      3\n",
       "sg2      1\n",
       "sgx1     1\n",
       "sgx2     1\n",
       "Name: pre, dtype: int64"
      ]
     },
     "metadata": {},
     "output_type": "display_data"
    }
   ],
   "source": [
    "display(df_edges[['pre','post_type']].groupby('post_type')['pre'].count())"
   ]
  },
  {
   "cell_type": "code",
   "execution_count": 19,
   "id": "e0f941c8-995a-4ad9-8397-f71f31c0da8d",
   "metadata": {},
   "outputs": [],
   "source": [
    "for i,r in df_edges.iterrows():\n",
    "    df_edges.loc[i,'pre_diam']=soma_diam[str(df_edges.loc[i,'pre'])]\n",
    "    df_edges.loc[i,'post_diam']=soma_diam[str(df_edges.loc[i,'post'])]\n",
    "\n",
    "df_edges.loc[:,'diam_diff'] = (df_edges['post_diam']-df_edges['pre_diam'])/df_edges['pre_diam']"
   ]
  },
  {
   "cell_type": "code",
   "execution_count": null,
   "id": "8cd85316-ec49-44cf-a87d-55620dfa2e36",
   "metadata": {},
   "outputs": [],
   "source": [
    "# df_edges\n",
    "\n",
    "focal_cell_id = df_edges['post'].unique()\n",
    "display(df_syn[df_syn['pre']==focal_cell_id][['post','post_type']].value_counts().reset_index(\n",
    "    name='weight')['post_type'].value_counts().reset_index(name='ncells'))"
   ]
  },
  {
   "cell_type": "markdown",
   "id": "bcf5886c-f9d0-43b6-89aa-a84f85a36f0d",
   "metadata": {},
   "source": [
    "# save df_syn"
   ]
  },
  {
   "cell_type": "code",
   "execution_count": 26,
   "id": "5e54d001-9758-4c67-a706-7bcb2d06af34",
   "metadata": {},
   "outputs": [],
   "source": [
    "savepath = Path('/Users/kperks/Library/CloudStorage/GoogleDrive-kperky@gmail.com/.shortcut-targets-by-id/16q1BuOMfD2ta0Cwq8CjMlRe4rDvbuWC5/ELL_connectome/CREST_reconstructions/mg-network/graphs')\n",
    "\n",
    "df_syn.to_csv(savepath / 'df_presyn.csv')"
   ]
  },
  {
   "cell_type": "code",
   "execution_count": null,
   "id": "4fea9a07-130b-4c6c-9501-82b7c0ffa461",
   "metadata": {},
   "outputs": [],
   "source": [
    "df_syn"
   ]
  },
  {
   "cell_type": "code",
   "execution_count": null,
   "id": "ae8cb3d7-16c4-44ed-aeb9-76d04d6e729e",
   "metadata": {},
   "outputs": [],
   "source": []
  },
  {
   "cell_type": "code",
   "execution_count": null,
   "id": "7fa1c801-b701-405f-815e-bd96e19e137d",
   "metadata": {},
   "outputs": [],
   "source": []
  }
 ],
 "metadata": {
  "kernelspec": {
   "display_name": "Python 3 (ipykernel)",
   "language": "python",
   "name": "python3"
  },
  "language_info": {
   "codemirror_mode": {
    "name": "ipython",
    "version": 3
   },
   "file_extension": ".py",
   "mimetype": "text/x-python",
   "name": "python",
   "nbconvert_exporter": "python",
   "pygments_lexer": "ipython3",
   "version": "3.11.7"
  },
  "widgets": {
   "application/vnd.jupyter.widget-state+json": {
    "state": {},
    "version_major": 2,
    "version_minor": 0
   }
  }
 },
 "nbformat": 4,
 "nbformat_minor": 5
}
