{
 "cells": [
  {
   "cell_type": "markdown",
   "id": "7053c443-29f1-4b33-b0c2-d4d9b88626ef",
   "metadata": {},
   "source": [
    "# Setup"
   ]
  },
  {
   "cell_type": "code",
   "execution_count": 2,
   "id": "2670ad87-b5c5-4b81-a59f-f190444ea0e3",
   "metadata": {},
   "outputs": [],
   "source": [
    "############################################################################################################################ \n",
    "# Get the latest CREST files for each ID within the target folder (dirname)\n",
    "\n",
    "from pathlib import Path\n",
    "import json\n",
    "from sqlite3 import connect as sqlite3_connect\n",
    "from sqlite3 import DatabaseError\n",
    "from igraph import Graph as ig_Graph\n",
    "from igraph import plot as ig_plot\n",
    "from scipy.spatial.distance import cdist\n",
    "from random import choice as random_choice\n",
    "from itertools import combinations\n",
    "from numpy import array, unravel_index, argmin, mean\n",
    "import random\n",
    "import numpy as np\n",
    "from copy import deepcopy\n",
    "import itertools\n",
    "from datetime import datetime\n",
    "from time import time\n",
    "import neuroglancer\n",
    "from webbrowser import open as wb_open\n",
    "from webbrowser import open_new as wb_open_new\n",
    "import pandas as pd\n",
    "import seaborn as sns\n",
    "from matplotlib import pyplot as plt\n",
    "from tqdm import tqdm\n",
    "\n",
    "# from eCREST_cli_beta import ecrest, import_settings\n",
    "from eCREST_cli import ecrest, import_settings"
   ]
  },
  {
   "cell_type": "markdown",
   "id": "5b80dbd2-d1cc-4b77-ac6a-c0d2be029283",
   "metadata": {},
   "source": [
    "The 'ecrest' class has been imported from eCREST_cli.py\n",
    "\n",
    "An instance of this object will be able to:\n",
    "- open an neuroglancer viewer for proofrieading (see \"Proofread using CREST\")\n",
    "    - add-remove segments (using graph feature for efficiency)\n",
    "    - format itself and save itself as a CREST-style .json\n",
    "- convert from neuroglancer json (see \"Convert From Neuroglancer to eCREST\")\n",
    "    - format itself and save itself as a CREST-style .json\n",
    "    \n"
   ]
  },
  {
   "cell_type": "markdown",
   "id": "84104779-a505-4e08-9fd4-1fb7407ff520",
   "metadata": {},
   "source": [
    "### Import settings\n",
    "\n",
    "If you save a copy of settings_dict.json (found in the \"under construction\" directory of eCREST repo) locally somewhere outside the repo (like in your save_dir), then you can use the following code cell to import. This avoids needing to re-type the save_dir and db_path each time you \"git pull\" updates from the repo to this notebook."
   ]
  },
  {
   "cell_type": "code",
   "execution_count": 3,
   "id": "0e188fd4-b913-4e89-bcc2-4c083653845f",
   "metadata": {},
   "outputs": [],
   "source": [
    "path_to_settings_json = '/Users/kperks/Documents/ell-connectome/eCREST-local-files/settings_dict.json'\n",
    "settings_dict = import_settings(path_to_settings_json)"
   ]
  },
  {
   "cell_type": "code",
   "execution_count": 4,
   "id": "18bee53b-c283-4779-86b6-dace6e455d1d",
   "metadata": {},
   "outputs": [],
   "source": [
    "dirpath = Path(settings_dict['save_dir'])\n",
    "# dirpath = \"/Users/kperks/Documents/gdrive/.shortcut-targets-by-id/16q1BuOMfD2ta0Cwq8CjMlRe4rDvbuWC5/ELL_connectome/CREST_reconstructions/mg-network\""
   ]
  },
  {
   "cell_type": "markdown",
   "id": "8faf5b84-32b7-4721-ac80-c82d1f772a5f",
   "metadata": {},
   "source": [
    "## Get all cells info"
   ]
  },
  {
   "cell_type": "code",
   "execution_count": 103,
   "id": "faaac27a-07fd-4c0e-a187-3720d3d7ed08",
   "metadata": {
    "tags": []
   },
   "outputs": [],
   "source": [
    "nodes = [child.name.split('_')[2] for child in sorted(dirpath.iterdir()) \n",
    "         if (child.name[0]!='.') & (child.is_file())] # ignore hidden files]\n",
    "\n",
    "nodefiles = dict()\n",
    "for child in sorted(dirpath.iterdir()):\n",
    "    if (child.name[0]!='.') & (child.is_file()):\n",
    "        nodefiles[child.name.split('_')[2]] = child"
   ]
  },
  {
   "cell_type": "code",
   "execution_count": 104,
   "id": "751107c2-6c3f-4154-a958-690d9544ea5b",
   "metadata": {},
   "outputs": [
    {
     "name": "stdout",
     "output_type": "stream",
     "text": [
      "the following cells are not typed in the main network\n",
      "['214799227', '214799227', '215988767', '215988767', '300643106', '300643106', '308504510', '45356019', '45444904', '47537491', '48619460']\n"
     ]
    }
   ],
   "source": [
    "cell_type = {}\n",
    "not_typed = []\n",
    "for x in nodes:\n",
    "    cell = ecrest(settings_dict,filepath = nodefiles[x],launch_viewer=False)\n",
    "    cell_type[x] = cell.get_ctype('manual') \n",
    "    if (cell.get_ctype('manual') == []) | (cell.get_ctype('manual') == ''):\n",
    "        cell_type[x]=''\n",
    "        not_typed.append(x)# print(f'cell {x} is not cell-typed in json')\n",
    "        \n",
    "print('the following cells are not typed in the main network')\n",
    "print(not_typed)        \n",
    "        "
   ]
  },
  {
   "cell_type": "code",
   "execution_count": 22,
   "id": "f50b79aa-163c-4016-a4be-f2ece66c6c8a",
   "metadata": {},
   "outputs": [],
   "source": [
    "# [(k,v) for k,v in cell_type.items() if v == 'grc']"
   ]
  },
  {
   "cell_type": "code",
   "execution_count": null,
   "id": "6faae4e0-33e4-4256-a27d-57fa02e58184",
   "metadata": {},
   "outputs": [],
   "source": [
    "file_size = {}\n",
    "for x in nodes:\n",
    "    file_size[x] = nodefiles[x].stat().st_size\n",
    "    "
   ]
  },
  {
   "cell_type": "code",
   "execution_count": null,
   "id": "732ffd52-def2-4bae-ba57-13cb8ef50ec1",
   "metadata": {},
   "outputs": [],
   "source": [
    "soma_size = {}\n",
    "for x in nodes:\n",
    "    cell = ecrest(settings_dict,filepath = nodefiles[x],launch_viewer=False)\n",
    "    all_segs = [a for b in cell.cell_data['base_segments'].values() for a in b]\n",
    "    if len(cell.cell_data['base_segments']['unknown']) < len(all_segs):\n",
    "        soma_size[x]=len(cell.cell_data['base_segments']['unknown'])\n",
    "    if len(cell.cell_data['base_segments']['unknown']) == len(all_segs):\n",
    "        soma_size[x]=np.NaN\n",
    "        # print(f'structures not labeled for {cell.cell_data[\"metadata\"][\"main_seg\"][\"base\"]}')\n",
    "\n"
   ]
  },
  {
   "cell_type": "code",
   "execution_count": 1056,
   "id": "6ecf5ae4-d42b-4624-a0a7-67be03cb16d9",
   "metadata": {},
   "outputs": [
    {
     "data": {
      "text/plain": [
       "<AxesSubplot:xlabel='type', ylabel='f_size'>"
      ]
     },
     "execution_count": 1056,
     "metadata": {},
     "output_type": "execute_result"
    },
    {
     "data": {
      "image/png": "[encoded data removed]",
      "text/plain": [
       "<Figure size 640x480 with 1 Axes>"
      ]
     },
     "metadata": {},
     "output_type": "display_data"
    }
   ],
   "source": [
    "df = pd.DataFrame.from_dict(file_size,orient='index',columns=['f_size']).reset_index()\n",
    "\n",
    "type_list=[]\n",
    "for k in df['index']:\n",
    "    type_list.append(cell_type[k])\n",
    "\n",
    "df['type'] = type_list\n",
    "\n",
    "network_types = ['mg1','mg2','sg1','sg2','grc']\n",
    "df = df[df['type'].isin(network_types)]\n",
    "\n",
    "sns.stripplot(data=df, y=\"f_size\", x=\"type\",jitter=0.25)"
   ]
  },
  {
   "cell_type": "code",
   "execution_count": 16,
   "id": "79793b23-6bfc-4266-bbb9-ab9349e4d5bb",
   "metadata": {},
   "outputs": [
    {
     "data": {
      "text/plain": [
       "<AxesSubplot:xlabel='type', ylabel='soma_size'>"
      ]
     },
     "execution_count": 16,
     "metadata": {},
     "output_type": "execute_result"
    },
    {
     "data": {
      "image/png": "[encoded data removed]",
      "text/plain": [
       "<Figure size 640x480 with 1 Axes>"
      ]
     },
     "metadata": {},
     "output_type": "display_data"
    }
   ],
   "source": [
    "df = pd.DataFrame.from_dict(soma_size,orient='index',columns=['soma_size']).reset_index()\n",
    "\n",
    "type_list=[]\n",
    "for k in df['index']:\n",
    "    type_list.append(cell_type[k])\n",
    "\n",
    "df['type'] = type_list\n",
    "\n",
    "network_types = ['mg1','mg2','sg1','sg2','grc']\n",
    "df = df[df['type'].isin(network_types)]\n",
    "\n",
    "sns.stripplot(data=df, y=\"soma_size\", x=\"type\",jitter=0.25)"
   ]
  },
  {
   "cell_type": "code",
   "execution_count": 6,
   "id": "8a1f36ec-a0ec-4a85-9db6-0993cdf6a263",
   "metadata": {},
   "outputs": [],
   "source": [
    "# [k for k,v in cell_type.items() if v == 'sgx']"
   ]
  },
  {
   "cell_type": "code",
   "execution_count": null,
   "id": "d1e89ba2-2321-4c16-bf1b-c6e5bc84109d",
   "metadata": {},
   "outputs": [],
   "source": [
    "# # # IF NEED TO CELL TYPE....\n",
    "\n",
    "\n",
    "# json_path = Path(settings_dict['save_dir'])\n",
    "# filename = 'cell_graph_644143297__2023-04-18 20.22.35.json'\n",
    "# filepath = json_path / filename\n",
    "\n",
    "# crest = ecrest(settings_dict,filepath= filepath)#, launch_viewer=False)\n",
    "\n",
    "\n",
    "# # Assign the cell type and which method you are using (manual or auto)\n",
    "# cell_type = 'mg1'\n",
    "# method = 'manual'\n",
    "\n",
    "# ## Do not edit\n",
    "# crest.define_ctype(cell_type,method)\n",
    "\n",
    "# crest.save_cell_graph(directory_path = filepath.parent, file_name=filepath.name, save_to_cloud=False); "
   ]
  },
  {
   "cell_type": "code",
   "execution_count": 96,
   "id": "018eed21-9ff9-4005-b10a-d483c6352ec6",
   "metadata": {},
   "outputs": [
    {
     "data": {
      "text/plain": [
       "{}"
      ]
     },
     "execution_count": 96,
     "metadata": {},
     "output_type": "execute_result"
    }
   ],
   "source": [
    "search_key = 'Gran'\n",
    "dict(filter(lambda item: search_key in item[1], cell_type.items()))"
   ]
  },
  {
   "cell_type": "code",
   "execution_count": 95,
   "id": "3633db19-7667-44bb-bb83-423f53405371",
   "metadata": {},
   "outputs": [
    {
     "data": {
      "text/plain": [
       "{}"
      ]
     },
     "execution_count": 95,
     "metadata": {},
     "output_type": "execute_result"
    }
   ],
   "source": [
    "search_key = 'gran'\n",
    "dict(filter(lambda item: search_key in item[1], cell_type.items()))\n",
    "# [val for key, val in cell_type.items() if val in search_key]"
   ]
  },
  {
   "cell_type": "markdown",
   "id": "552e2f37-bd6d-4086-a92b-8d27a9fbfeed",
   "metadata": {},
   "source": [
    "## Get all segments"
   ]
  },
  {
   "cell_type": "code",
   "execution_count": 105,
   "id": "23ce080b-d192-417c-ad41-0a40ce7f5d1e",
   "metadata": {},
   "outputs": [],
   "source": [
    "# Create a base_segments dictionary of all reconstructed cells \n",
    "\n",
    "base_segments = {}\n",
    "for x in nodes:\n",
    "    # if cell_type[x] in network_types: # if do this, you can't check if the post-syn segments exist as a reconstruction\n",
    "    cell = ecrest(settings_dict,filepath = nodefiles[x])#,launch_viewer=False)\n",
    "    base_segments[cell.cell_data['metadata']['main_seg']['base']] = cell.cell_data['base_segments']\n",
    "    try:\n",
    "        assert cell.cell_data['metadata']['main_seg']['base'] == x\n",
    "    except:\n",
    "        print(x,cell.cell_data['metadata']['main_seg']['base'])"
   ]
  },
  {
   "cell_type": "markdown",
   "id": "475e5070-1940-4d94-b716-acc17460851c",
   "metadata": {},
   "source": [
    "## Build Graph"
   ]
  },
  {
   "cell_type": "code",
   "execution_count": 106,
   "id": "99bcd175-f3b9-462a-9308-372463f2252d",
   "metadata": {},
   "outputs": [],
   "source": [
    "network_types = set([v for v in cell_type.values()])#['mg1','mg2','lg','lf','sg1','sg2','sgx','grc','aff']"
   ]
  },
  {
   "cell_type": "code",
   "execution_count": 107,
   "id": "09a62a04-9ff4-42eb-aca1-4fdbc503cb0e",
   "metadata": {},
   "outputs": [
    {
     "name": "stderr",
     "output_type": "stream",
     "text": [
      "100%|██████████████████████████████████████████████████████████████| 1374/1374 [05:31<00:00,  4.14it/s]\n"
     ]
    }
   ],
   "source": [
    "synanno_type = 'pre-synaptic'\n",
    "vx_sizes = [16, 16, 30]\n",
    "\n",
    "## find edges and set the cell-structure attribute of the edge based on which part of the cell the edge goes to\n",
    "edge_list = []\n",
    "\n",
    "with tqdm(total=len(nodes)) as pbar:\n",
    "    for x_pre in nodes:\n",
    "        pbar.update(1)\n",
    "        if cell_type[x_pre] in network_types:\n",
    "            \n",
    "            # if the node has post-synaptic annotations (the current cell is assumed pre-synaptic)\n",
    "            pre = ecrest(settings_dict,filepath = nodefiles[x_pre])#,launch_viewer=False)\n",
    "            if pre.cell_data['end_points'][synanno_type] != []:\n",
    "                # for each synapse\n",
    "                for syn_ in pre.cell_data['end_points'][synanno_type]:\n",
    "                    try:\n",
    "                        post_seg = syn_[3]\n",
    "                        syn_ = array([int(syn_[i]/vx_sizes[i]) for i in range(3)])\n",
    "\n",
    "                        # go through each other nodes\n",
    "                        for x_post in nodes:\n",
    "                            if cell_type[x_post] in network_types:\n",
    "                                post = base_segments[x_post] \n",
    "                                for k,v in post.items():\n",
    "                                    for v_ in list(v): #find keys (can be multiple on the same cell) for matching segment ids\n",
    "                                        if post_seg == v_: \n",
    "                                            # add edge to the graph between current node and matching node\n",
    "                                            \n",
    "                                            edge_list.append([x_pre,x_post,k,syn_[0],syn_[1],syn_[2]])\n",
    "                                            \n",
    "\n",
    "                    except IndexError as msg:\n",
    "                        cellid = x_pre\n",
    "                        print(msg, f'for cell {cellid} synapse at {array([int(syn_[i]/vx_sizes[i]) for i in range(3)])} has no segment id')\n",
    "\n",
    "            else:\n",
    "                continue\n"
   ]
  },
  {
   "cell_type": "markdown",
   "id": "133d0d9b-fae5-488a-bdcf-13b95c34ed75",
   "metadata": {},
   "source": [
    "### Synapses dataframe"
   ]
  },
  {
   "cell_type": "code",
   "execution_count": 108,
   "id": "12b74970-19b2-4c79-8a1f-6615c6c27304",
   "metadata": {},
   "outputs": [],
   "source": [
    "df_syn = pd.DataFrame(edge_list,columns = ['pre','post','structure','x','y','z'])\n",
    "\n",
    "for i,r in df_syn.iterrows():\n",
    "    df_syn.loc[i,'pre_type']=cell_type[df_syn.loc[i,'pre']]\n",
    "    df_syn.loc[i,'post_type']=cell_type[df_syn.loc[i,'post']]"
   ]
  },
  {
   "cell_type": "markdown",
   "id": "c35a5727-4782-4d82-9ea6-e9b5ec55dd73",
   "metadata": {},
   "source": [
    "#### Ignore cell structure\n",
    "\n",
    "If just want different cell pairs to count as unique (ignore morphology), use the following cell"
   ]
  },
  {
   "cell_type": "code",
   "execution_count": 109,
   "id": "6a260443-d673-480e-a39f-768f3177b4ba",
   "metadata": {},
   "outputs": [],
   "source": [
    "df_syn.drop(['structure'],axis=1, inplace=True)\n"
   ]
  },
  {
   "cell_type": "markdown",
   "id": "bcf5886c-f9d0-43b6-89aa-a84f85a36f0d",
   "metadata": {},
   "source": [
    "#### save df_syn"
   ]
  },
  {
   "cell_type": "code",
   "execution_count": 110,
   "id": "5e54d001-9758-4c67-a706-7bcb2d06af34",
   "metadata": {},
   "outputs": [],
   "source": [
    "savepath = Path('/Users/kperks/Documents/gdrive/.shortcut-targets-by-id/16q1BuOMfD2ta0Cwq8CjMlRe4rDvbuWC5/ELL_connectome/CREST_reconstructions/mg-network/graphs/')\n",
    "\n",
    "df_syn.to_csv(savepath / 'df_presyn.csv')"
   ]
  },
  {
   "cell_type": "code",
   "execution_count": null,
   "id": "4fea9a07-130b-4c6c-9501-82b7c0ffa461",
   "metadata": {},
   "outputs": [],
   "source": []
  }
 ],
 "metadata": {
  "kernelspec": {
   "display_name": "Python 3 (ipykernel)",
   "language": "python",
   "name": "python3"
  },
  "language_info": {
   "codemirror_mode": {
    "name": "ipython",
    "version": 3
   },
   "file_extension": ".py",
   "mimetype": "text/x-python",
   "name": "python",
   "nbconvert_exporter": "python",
   "pygments_lexer": "ipython3",
   "version": "3.8.13"
  },
  "widgets": {
   "application/vnd.jupyter.widget-state+json": {
    "state": {},
    "version_major": 2,
    "version_minor": 0
   }
  }
 },
 "nbformat": 4,
 "nbformat_minor": 5
}
