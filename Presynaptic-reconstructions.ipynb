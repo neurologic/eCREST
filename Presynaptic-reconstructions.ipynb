{
 "cells": [
  {
   "cell_type": "markdown",
   "id": "a2be670f-c4a6-40d5-83a1-6498d55a2205",
   "metadata": {},
   "source": [
    "# Presynaptic reconstructions"
   ]
  },
  {
   "cell_type": "markdown",
   "id": "aee1b16f-76db-4df0-8fe2-55b2c1ee3cac",
   "metadata": {},
   "source": [
    "## Setup\n",
    "\n",
    "Run the following code cell to import the necessary packages and modules. \n",
    "\n",
    "The 'ecrest' class will be imported from eCREST_cli.py"
   ]
  },
  {
   "cell_type": "code",
   "execution_count": 2,
   "id": "2bd03028-d3d1-46c9-b640-03c0e23d88ae",
   "metadata": {},
   "outputs": [],
   "source": [
    "from pathlib import Path\n",
    "import json\n",
    "from sqlite3 import connect as sqlite3_connect\n",
    "from sqlite3 import DatabaseError\n",
    "from igraph import Graph as ig_Graph\n",
    "from igraph import plot as ig_plot\n",
    "from scipy.spatial.distance import cdist\n",
    "from random import choice as random_choice\n",
    "from itertools import combinations\n",
    "from numpy import array, unravel_index, argmin, mean,unique,nan\n",
    "import pandas as pd\n",
    "from copy import deepcopy\n",
    "from datetime import datetime\n",
    "from time import time\n",
    "import neuroglancer\n",
    "from webbrowser import open as wb_open\n",
    "from webbrowser import open_new as wb_open_new\n",
    "import neuroglancer\n",
    "from eCREST_cli import ecrest, import_settings"
   ]
  },
  {
   "cell_type": "markdown",
   "id": "fa063060-89c7-413e-81f4-86dc0e47cf08",
   "metadata": {},
   "source": [
    "## Import settings\n",
    "\n",
    "Save a copy of settings_dict.json (found in the \"under construction\" directory of eCREST repo) locally somewhere outside the repo (like in your save_dir) and change the directory paths to match your setup. Then use the following code cell to import those specs. This avoids needing to re-type the save_dir and db_path each time you \"git pull\" updates from the repo to this notebook (because everyone has different directory paths).\n",
    "\n",
    "You will, however, need to change the \"path_to_settings_json\" before running the code cell if you git pull. "
   ]
  },
  {
   "cell_type": "code",
   "execution_count": 3,
   "id": "297836d0-b0e8-4d3a-b310-0f1b54660753",
   "metadata": {},
   "outputs": [],
   "source": [
    "path_to_settings_json = '/Users/kperks/Documents/ell-connectome/eCREST-local-files/settings_dict.json'\n",
    "\n",
    "settings_dict = import_settings(path_to_settings_json)"
   ]
  },
  {
   "cell_type": "markdown",
   "id": "dfaaf77f-ac2e-494b-bcb5-acc751d37844",
   "metadata": {},
   "source": [
    "## EDIT reconstruction from file\n",
    "\n",
    "Use the following code cell to launch an editable reconstruction from an existing eCREST json file.\n",
    "\n",
    "Note that you can also initialize an editable reconstruction using any of the following:\n",
    "- (segment_id, segment_list): the main_base_id from the neuroglancer file you are converting and a list of base_segments.\n",
    "- (segment_id): a \"main_base_id\"\n",
    "- (filepath): an existing CREST json file"
   ]
  },
  {
   "cell_type": "code",
   "execution_count": null,
   "id": "a0226f67-47fe-47b6-a163-efe3c022350d",
   "metadata": {},
   "outputs": [],
   "source": [
    "json_path = Path(settings_dict['save_dir']) / 'todo_presynaptic/sg1'\n",
    "filename = 'cell_graph_127686443__2023-06-09 16.28.21.json'\n",
    "\n",
    "# This next line launches the reconstruction in neuroglancer\n",
    "crest = ecrest(settings_dict,filepath= json_path / filename, launch_viewer=True)\n",
    "\n",
    "'''\n",
    "Uncomment the following code block to change the key/function pairings so that you do not have to double click to add new segments\n",
    "'''\n",
    "# with crest.viewer.config_state.txn() as s:\n",
    "#     s.input_event_bindings.data_view[\"alt+mousedown0\"]=\"add-or-remove-seg\"\n",
    "#     s.input_event_bindings.data_view[\"alt+mousedown2\"]=\"mark-branch-in-colour\"\n",
    "#     print(s.input_event_bindings.data_view)"
   ]
  },
  {
   "cell_type": "markdown",
   "id": "36e5dc3a-ccd4-4cc6-a366-84741ac23ec1",
   "metadata": {},
   "source": [
    "## check for duplicates\n",
    "\n",
    "Check if the open reconstruction in progress overlaps with any existing cells in a directory"
   ]
  },
  {
   "cell_type": "code",
   "execution_count": null,
   "id": "10541458-132e-4968-a7f0-402276831813",
   "metadata": {},
   "outputs": [],
   "source": [
    "directory_to_check = Path(settings_dict['save_dir']) / 'todo_presynaptic/sg1'\n",
    "\n",
    "base_segments = crest.get_base_segments_dict(directory_to_check)\n",
    "df = crest.check_duplicates(base_segments)\n",
    "display(df)"
   ]
  },
  {
   "cell_type": "markdown",
   "id": "8942bc39-11dd-420d-9e8c-c649c6326575",
   "metadata": {},
   "source": [
    "## Assign cell type"
   ]
  },
  {
   "cell_type": "code",
   "execution_count": 973,
   "id": "5af43312-bfdd-46d6-a069-66c126e1b234",
   "metadata": {},
   "outputs": [],
   "source": [
    "# Assign the cell type then run the code cell\n",
    "cell_type = 'uk'\n",
    "\n",
    "## Do not edit\n",
    "method = 'manual' # define which method you are using (manual or auto)\n",
    "crest.define_ctype(cell_type,method)"
   ]
  },
  {
   "cell_type": "markdown",
   "id": "75f40d90-3bc9-41eb-88ab-39c335cf6ec8",
   "metadata": {},
   "source": [
    "## SAVE YOUR WORK BEFORE CLOSING NEUROGLANCER! "
   ]
  },
  {
   "cell_type": "code",
   "execution_count": null,
   "id": "546322db-1e68-4bd2-b8f5-cf49c5fdac44",
   "metadata": {},
   "outputs": [],
   "source": [
    "savedir = settings_dict['save_dir']) / 'todo_presynaptic/sg1'\n",
    "\n",
    "crest.save_cell_graph(directory_path = Path(savedir)"
   ]
  },
  {
   "cell_type": "markdown",
   "id": "0efe2745-6b30-484f-a68a-7e13a770950b",
   "metadata": {},
   "source": [
    "If you want to re-write the file you opened instead of saving with a new timestamp in the filename, you can specify the following function input variables:\n",
    "- directory_path (= savedir)\n",
    "- file_name (= current filename for that cell)\n",
    "\n",
    "Otherwise, the save_cell_graph function automatically creates a new file name with a different timestamp in the name (and you need to manually delete the old one)"
   ]
  },
  {
   "cell_type": "markdown",
   "id": "f0ea2c60-e184-4e7f-8b11-0192d04c1cbe",
   "metadata": {},
   "source": [
    "## Cell typing\n",
    "\n",
    "You can check if the reconstruction already has a cell type defined (and what the cell type was defined as).  "
   ]
  },
  {
   "cell_type": "code",
   "execution_count": null,
   "id": "dd1a9aad-d4a4-49c6-939f-962ede2e3cb7",
   "metadata": {},
   "outputs": [],
   "source": [
    "# Assign which method you are using (manual or auto)\n",
    "method = 'manual'\n",
    "\n",
    "## Do not edit\n",
    "crest.get_ctype(method)"
   ]
  },
  {
   "cell_type": "markdown",
   "id": "f5e4bbcd-5a9c-4b7d-ab38-b98a5ff50fa9",
   "metadata": {},
   "source": [
    "If not defined (or defined incorrectly), then define it using the code cell below.\n",
    "> OPTIONS: mg1, mg2, mgx, lg, lf, lx, mli, gc, gran, sg1, sg2, sgx\n",
    "\n",
    "After you are finished defining the cell type:  \n",
    "**DONT FORGET TO SAVE YOUR WORK!**. "
   ]
  },
  {
   "cell_type": "code",
   "execution_count": 111,
   "id": "c1469f38-76da-4369-a110-6647372a8897",
   "metadata": {},
   "outputs": [],
   "source": [
    "# Assign the cell type and which method you are using (manual or auto)\n",
    "cell_type = 'lf'\n",
    "\n",
    "## Do not edit\n",
    "method = 'manual'\n",
    "crest.define_ctype(cell_type,method)"
   ]
  }
 ],
 "metadata": {
  "kernelspec": {
   "display_name": "Python 3 (ipykernel)",
   "language": "python",
   "name": "python3"
  },
  "language_info": {
   "codemirror_mode": {
    "name": "ipython",
    "version": 3
   },
   "file_extension": ".py",
   "mimetype": "text/x-python",
   "name": "python",
   "nbconvert_exporter": "python",
   "pygments_lexer": "ipython3",
   "version": "3.8.13"
  },
  "widgets": {
   "application/vnd.jupyter.widget-state+json": {
    "state": {},
    "version_major": 2,
    "version_minor": 0
   }
  }
 },
 "nbformat": 4,
 "nbformat_minor": 5
}
