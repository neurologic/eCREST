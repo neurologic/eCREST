{
 "cells": [
  {
   "cell_type": "code",
   "execution_count": 2,
   "id": "3af1cfce-475b-4261-8187-cc13759b5a54",
   "metadata": {},
   "outputs": [],
   "source": [
    "import json\n",
    "import pandas as pd"
   ]
  },
  {
   "cell_type": "markdown",
   "id": "3f80cf44-0197-4f00-80b1-434a3aa6bc27",
   "metadata": {},
   "source": [
    "# neuroglancer to list of segments\n",
    "\n",
    "need to look through manually to determine which cell of the dictionary corresponds to the annotations wanted"
   ]
  },
  {
   "cell_type": "code",
   "execution_count": 2,
   "id": "03485d2f-7917-45a9-a447-0680f123435c",
   "metadata": {},
   "outputs": [],
   "source": [
    "# read file\n",
    "with open('Nate_afferent-priority-list_state - 2023-02-28T125005.541.json', 'r') as myfile:\n",
    "    data=myfile.read()"
   ]
  },
  {
   "cell_type": "code",
   "execution_count": 4,
   "id": "82627280-8b5d-41d2-976c-4e2d6b96ef89",
   "metadata": {},
   "outputs": [],
   "source": [
    "# parse file\n",
    "obj = json.loads(data)"
   ]
  },
  {
   "cell_type": "code",
   "execution_count": 22,
   "id": "7ab680ef-0012-40b2-a028-8c460e1ffc7a",
   "metadata": {},
   "outputs": [],
   "source": [
    "segment_ids = [i['segments'][0][0] for i in obj['layers'][5]['annotations']]"
   ]
  },
  {
   "cell_type": "code",
   "execution_count": null,
   "id": "e64d4d8d-ab25-4d2d-af47-e946c2d102e5",
   "metadata": {},
   "outputs": [],
   "source": [
    "segment_ids"
   ]
  },
  {
   "cell_type": "code",
   "execution_count": 25,
   "id": "f21eddb5-c2ca-4701-ad07-b250565f4780",
   "metadata": {},
   "outputs": [],
   "source": [
    "segment_check = {}\n",
    "\n",
    "for s in segment_ids:\n",
    "    segment_check[s] = 'unchecked'"
   ]
  },
  {
   "cell_type": "code",
   "execution_count": 27,
   "id": "650fdef5-98bb-4b15-970a-200821a2645a",
   "metadata": {},
   "outputs": [],
   "source": [
    "segment_check['id'] = ''\n",
    "\n",
    "with open(\"segment_check_Nate_afferent-priority-list.json\", \"w\") as outfile:\n",
    "    json.dump(segment_check, outfile, indent = 4)"
   ]
  },
  {
   "cell_type": "markdown",
   "id": "9db6808e-c6f8-4a20-8436-3ea20b7d15cb",
   "metadata": {},
   "source": [
    "# Json to spreadsheet"
   ]
  },
  {
   "cell_type": "code",
   "execution_count": 17,
   "id": "94fdc09d-a653-40a6-91fc-4bdccc33da16",
   "metadata": {},
   "outputs": [],
   "source": [
    "filepath = \"Afferent-Synapses-1/segment_check_Nate_afferent-priority-list.json\""
   ]
  },
  {
   "cell_type": "code",
   "execution_count": 16,
   "id": "3dc1eead-d351-4d45-a598-dc6ab1f2c3b8",
   "metadata": {},
   "outputs": [
    {
     "data": {
      "text/plain": [
       "'D:\\\\CREST\\\\in-progress'"
      ]
     },
     "execution_count": 16,
     "metadata": {},
     "output_type": "execute_result"
    }
   ],
   "source": [
    "pwd"
   ]
  },
  {
   "cell_type": "code",
   "execution_count": 18,
   "id": "63ce5a78-1b63-4b7c-854b-e55fdd64d7e3",
   "metadata": {},
   "outputs": [],
   "source": [
    "with open(filepath, 'r') as myfile:\n",
    "    data=myfile.read()\n",
    "    \n",
    "obj = json.loads(data)"
   ]
  },
  {
   "cell_type": "code",
   "execution_count": 21,
   "id": "ff3c3756-ecec-4672-b3a5-ade2cec54a4f",
   "metadata": {},
   "outputs": [],
   "source": [
    "df = pd.DataFrame.from_dict(obj,orient='index')"
   ]
  },
  {
   "cell_type": "code",
   "execution_count": 24,
   "id": "a3e6c64b-e510-46d9-b7f9-35723378ad83",
   "metadata": {},
   "outputs": [],
   "source": [
    "pd.DataFrame.to_csv(df,'priority-list.csv')"
   ]
  }
 ],
 "metadata": {
  "kernelspec": {
   "display_name": "Python 3",
   "language": "python",
   "name": "python3"
  },
  "language_info": {
   "codemirror_mode": {
    "name": "ipython",
    "version": 3
   },
   "file_extension": ".py",
   "mimetype": "text/x-python",
   "name": "python",
   "nbconvert_exporter": "python",
   "pygments_lexer": "ipython3",
   "version": "3.8.8"
  }
 },
 "nbformat": 4,
 "nbformat_minor": 5
}
