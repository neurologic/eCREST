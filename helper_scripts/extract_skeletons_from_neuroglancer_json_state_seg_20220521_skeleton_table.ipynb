{
 "cells": [
  {
   "cell_type": "code",
   "execution_count": 1,
   "metadata": {},
   "outputs": [
    {
     "name": "stdout",
     "output_type": "stream",
     "text": [
      "working on:lafferent2...1/1cells\n",
      "done!\n"
     ]
    }
   ],
   "source": [
    "#Set environment variables for your notebook\n",
    "import os \n",
    "import numpy as np\n",
    "os.environ['GOOGLE_APPLICATION_CREDENTIALS'] = 'C:/Users/mpetkova/Dropbox/CREST/mariela_fish_credentials.json'\n",
    "\n",
    "#Imports google cloud client library and initiates BQ service\n",
    "from google.cloud import bigquery\n",
    "bigquery_client = bigquery.Client()\n",
    "\n",
    "# \n",
    "# Collects information from json states in a folder and a specific naming pattern\n",
    "path2dir = '../';\n",
    "names = os.listdir(path2dir);\n",
    "cellid = list();\n",
    "cellid_filename=list();\n",
    "for ind in range(len(names)):\n",
    "    content = names[ind].split('_')\n",
    "    if ('state' in content):\n",
    "        content[1]=content[1].replace(\".json\",\"\")\n",
    "        cellid.append(content[1])\n",
    "        cellid_filename.append(names[ind])\n",
    "        \n",
    "#s save the skeletons with the same ids to the skeletons folder\n",
    "import json\n",
    "import pandas as pd \n",
    "\n",
    "for ind in range(len(cellid)):\n",
    "    f = open(path2dir+cellid_filename[ind])\n",
    "    data = json.load(f)\n",
    "    \n",
    "    # find the index of the segmentation layer\n",
    "    seg_layer_idx = [];\n",
    "    for i in range(len(data['layers'])):\n",
    "        if data['layers'][i]['type']=='segmentation':\n",
    "            seg_layer_idx = i\n",
    "    # get the list of segment    \n",
    "    base_seg_list = data['layers'][seg_layer_idx]['segments']\n",
    "    base_seg_str = ', '.join(str(x) for x in base_seg_list)\n",
    "    savename_and_path = \"skeleton_\"+cellid[ind]+\".csv\";\n",
    "\n",
    "    if not os.path.exists(savename_and_path):\n",
    "        print(\"working on:\" +cellid[ind]+\"...\"+str(ind+1)+\"/\"+str(len(cellid))+\"cells\")\n",
    "        df = pd.DataFrame()\n",
    "\n",
    "        QUERY = \"\"\"\n",
    "        SELECT\n",
    "            cast(skeletons.id as INT64) as seg_id, \n",
    "            nodes.position.x*2 as x,\n",
    "            nodes.position.y*2 as y,\n",
    "            nodes.position.z as z\n",
    "        FROM\n",
    "        `engert-goog-connectomics.raw_20211023_seg_20220521.skeletons` as skeletons,UNNEST(nodes) as nodes\n",
    "        WHERE skeletons.id in {}\n",
    "        \"\"\".format('('+base_seg_str+')')\n",
    "\n",
    "        df = bigquery_client.query(QUERY).to_dataframe()\n",
    "        df = df.drop_duplicates(subset=['seg_id'])\n",
    "        df.to_csv(savename_and_path, index=False)\n",
    "print(\"done!\")"
   ]
  },
  {
   "cell_type": "code",
   "execution_count": null,
   "metadata": {},
   "outputs": [],
   "source": [
    "QUERY = f\"\"\"SELECT cast(skeletons.id as INT64) as seg_id, nodes.position.x*2 as x, nodes.position.y*2 as y, nodes.position.z as z FROM `engert-goog-connectomics.raw_20211023_seg_20220521.skeletons` as skeletons,UNNEST(nodes) as nodes WHERE skeletons.id in ({base_seg_str})\"\"\""
   ]
  },
  {
   "cell_type": "code",
   "execution_count": null,
   "metadata": {},
   "outputs": [],
   "source": [
    "query = f\"\"\"SELECT cast(skeletons.id as INT64), nodes.position.x*2 as x, nodes.position.y*2 as y, nodes.position.z as z FROM base_location as skeletons,UNNEST(nodes) as nodes WHERE seg_id IN ({q})\"\"\""
   ]
  }
 ],
 "metadata": {
  "kernelspec": {
   "display_name": "Python 3 (ipykernel)",
   "language": "python",
   "name": "python3"
  },
  "language_info": {
   "codemirror_mode": {
    "name": "ipython",
    "version": 3
   },
   "file_extension": ".py",
   "mimetype": "text/x-python",
   "name": "python",
   "nbconvert_exporter": "python",
   "pygments_lexer": "ipython3",
   "version": "3.11.7"
  },
  "widgets": {
   "application/vnd.jupyter.widget-state+json": {
    "state": {},
    "version_major": 2,
    "version_minor": 0
   }
  }
 },
 "nbformat": 4,
 "nbformat_minor": 4
}
