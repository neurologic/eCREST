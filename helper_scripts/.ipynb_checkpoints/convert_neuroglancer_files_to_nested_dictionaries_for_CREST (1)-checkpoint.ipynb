{
 "cells": [
  {
   "cell_type": "code",
   "execution_count": 3,
   "metadata": {},
   "outputs": [],
   "source": [
    "#Set environment variables for your notebook\n",
    "import os \n",
    "import numpy as np\n",
    "\n",
    "# MODIFY THE PATHS \n",
    "path2statesdir = 'C:/Users/EngertLab/Dropbox/U19_zebrafish/EMfullres/LateralLineCurlDetector/Neuroglancer/left/';\n",
    "\n",
    "#collectthe names of the reconstructed cells \n",
    "names = os.listdir(path2statesdir);\n",
    "cellid_filename=list();\n",
    "for ind in range(len(names)):\n",
    "    if ('state' in names[ind]):\n",
    "              cellid_filename.append(names[ind])\n",
    "\n",
    "        \n",
    "#extract the base segments\n",
    "import json\n",
    "import pandas as pd \n",
    "\n",
    "neuron_dictionary = {};\n",
    "segment_type_key = 'unknown';\n",
    "cell_filename_to_anchor_id_lookup = list();\n",
    "\n",
    "for ind in range(len(cellid_filename)):\n",
    "    f = open(path2statesdir+cellid_filename[ind])\n",
    "    data = json.load(f)\n",
    "    \n",
    "    # find the index of the segmentation layer\n",
    "    seg_layer_idx = [];\n",
    "    for i in range(len(data['layers'])):\n",
    "        if data['layers'][i]['type']=='segmentation':\n",
    "            seg_layer_idx = i\n",
    "    # get the list of segment    \n",
    "    base_seg_list = data['layers'][seg_layer_idx]['segments']\n",
    "    neuron_dictionary[base_seg_list[0]] = {segment_type_key:base_seg_list}\n",
    "    cell_filename_to_anchor_id_lookup.append(base_seg_list[0])\n",
    "    \n",
    "with open(path2statesdir+\"toCrest.json\", \"w\") as outfile:\n",
    "    json.dump(neuron_dictionary, outfile)"
   ]
  },
  {
   "cell_type": "code",
   "execution_count": 29,
   "metadata": {},
   "outputs": [
    {
     "ename": "IndexError",
     "evalue": "list index out of range",
     "output_type": "error",
     "traceback": [
      "\u001b[1;31m---------------------------------------------------------------------------\u001b[0m",
      "\u001b[1;31mIndexError\u001b[0m                                Traceback (most recent call last)",
      "\u001b[1;32m<ipython-input-29-1c0966cb7acf>\u001b[0m in \u001b[0;36m<module>\u001b[1;34m\u001b[0m\n\u001b[0;32m      1\u001b[0m \u001b[0mn\u001b[0m\u001b[1;33m=\u001b[0m\u001b[1;36m20\u001b[0m\u001b[1;33m\u001b[0m\u001b[1;33m\u001b[0m\u001b[0m\n\u001b[1;32m----> 2\u001b[1;33m \u001b[0mprint\u001b[0m\u001b[1;33m(\u001b[0m\u001b[0mcell_filename_to_anchor_id_lookup\u001b[0m\u001b[1;33m[\u001b[0m\u001b[0mn\u001b[0m\u001b[1;33m]\u001b[0m\u001b[1;33m)\u001b[0m\u001b[1;33m\u001b[0m\u001b[1;33m\u001b[0m\u001b[0m\n\u001b[0m\u001b[0;32m      3\u001b[0m \u001b[0mprint\u001b[0m\u001b[1;33m(\u001b[0m\u001b[0mcellid_filename\u001b[0m\u001b[1;33m[\u001b[0m\u001b[0mn\u001b[0m\u001b[1;33m]\u001b[0m\u001b[1;33m)\u001b[0m\u001b[1;33m\u001b[0m\u001b[1;33m\u001b[0m\u001b[0m\n",
      "\u001b[1;31mIndexError\u001b[0m: list index out of range"
     ]
    }
   ],
   "source": [
    "n=20\n",
    "print(cell_filename_to_anchor_id_lookup[n])\n",
    "print(cellid_filename[n])"
   ]
  },
  {
   "cell_type": "markdown",
   "metadata": {},
   "source": [
    "### "
   ]
  }
 ],
 "metadata": {
  "kernelspec": {
   "display_name": "Python 3",
   "language": "python",
   "name": "python3"
  },
  "language_info": {
   "codemirror_mode": {
    "name": "ipython",
    "version": 3
   },
   "file_extension": ".py",
   "mimetype": "text/x-python",
   "name": "python",
   "nbconvert_exporter": "python",
   "pygments_lexer": "ipython3",
   "version": "3.7.6"
  }
 },
 "nbformat": 4,
 "nbformat_minor": 4
}
