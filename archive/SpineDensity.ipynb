{
 "cells": [
  {
   "cell_type": "markdown",
   "id": "7053c443-29f1-4b33-b0c2-d4d9b88626ef",
   "metadata": {},
   "source": [
    "# Setup"
   ]
  },
  {
   "cell_type": "code",
   "execution_count": 1,
   "id": "2670ad87-b5c5-4b81-a59f-f190444ea0e3",
   "metadata": {},
   "outputs": [
    {
     "name": "stdout",
     "output_type": "stream",
     "text": [
      "Intel MKL WARNING: Support of Intel(R) Streaming SIMD Extensions 4.2 (Intel(R) SSE4.2) enabled only processors has been deprecated. Intel oneAPI Math Kernel Library 2025.0 will require Intel(R) Advanced Vector Extensions (Intel(R) AVX) instructions.\n",
      "Intel MKL WARNING: Support of Intel(R) Streaming SIMD Extensions 4.2 (Intel(R) SSE4.2) enabled only processors has been deprecated. Intel oneAPI Math Kernel Library 2025.0 will require Intel(R) Advanced Vector Extensions (Intel(R) AVX) instructions.\n"
     ]
    }
   ],
   "source": [
    "############################################################################################################################ \n",
    "# Get the latest CREST files for each ID within the target folder (dirname)\n",
    "\n",
    "from pathlib import Path\n",
    "import json\n",
    "from sqlite3 import connect as sqlite3_connect\n",
    "from sqlite3 import DatabaseError\n",
    "from igraph import Graph as ig_Graph\n",
    "from igraph import plot as ig_plot\n",
    "from scipy.spatial.distance import cdist\n",
    "from random import choice as random_choice\n",
    "from itertools import combinations\n",
    "from numpy import array, unravel_index, argmin, mean\n",
    "import random\n",
    "import numpy as np\n",
    "from copy import deepcopy\n",
    "import itertools\n",
    "from datetime import datetime\n",
    "from time import time\n",
    "import neuroglancer\n",
    "from webbrowser import open as wb_open\n",
    "from webbrowser import open_new as wb_open_new\n",
    "import pandas as pd\n",
    "import seaborn as sns\n",
    "from matplotlib import pyplot as plt\n",
    "from tqdm import tqdm\n",
    "\n",
    "# from eCREST_cli_beta import ecrest, import_settings\n",
    "from eCREST_cli import ecrest, import_settings, get_cell_filepaths"
   ]
  },
  {
   "cell_type": "markdown",
   "id": "5b80dbd2-d1cc-4b77-ac6a-c0d2be029283",
   "metadata": {},
   "source": [
    "The 'ecrest' class has been imported from eCREST_cli.py\n",
    "\n",
    "An instance of this object will be able to:\n",
    "- open an neuroglancer viewer for proofrieading (see \"Proofread using CREST\")\n",
    "    - add-remove segments (using graph feature for efficiency)\n",
    "    - format itself and save itself as a CREST-style .json\n",
    "- convert from neuroglancer json (see \"Convert From Neuroglancer to eCREST\")\n",
    "    - format itself and save itself as a CREST-style .json\n",
    "    \n"
   ]
  },
  {
   "cell_type": "markdown",
   "id": "84104779-a505-4e08-9fd4-1fb7407ff520",
   "metadata": {},
   "source": [
    "### Import settings\n",
    "\n",
    "If you save a copy of settings_dict.json (found in the \"under construction\" directory of eCREST repo) locally somewhere outside the repo (like in your save_dir), then you can use the following code cell to import. This avoids needing to re-type the save_dir and db_path each time you \"git pull\" updates from the repo to this notebook."
   ]
  },
  {
   "cell_type": "code",
   "execution_count": 2,
   "id": "0e188fd4-b913-4e89-bcc2-4c083653845f",
   "metadata": {},
   "outputs": [],
   "source": [
    "path_to_settings_json = '/Users/kperks/Documents/ell-connectome/eCREST-local-files/settings_dict.json'\n",
    "settings_dict = import_settings(path_to_settings_json)"
   ]
  },
  {
   "cell_type": "markdown",
   "id": "bc9f2dfc-0ba5-4c80-9811-d6a71cfeecbd",
   "metadata": {},
   "source": [
    "# Transfer annotations from Mark to MAIN"
   ]
  },
  {
   "cell_type": "code",
   "execution_count": 5,
   "id": "18bee53b-c283-4779-86b6-dace6e455d1d",
   "metadata": {},
   "outputs": [],
   "source": [
    "# directory_path = Path(settings_dict['save_dir'])\n",
    "directory_path_mark = Path('/Users/kperks/Library/CloudStorage/GoogleDrive-sawtelllab@gmail.com/My Drive/ELL_connectome/CREST_reconstructions/Spine_Density_Annotation/from_mark')#annotated cells from local desktop')#returned from main network folder/')#474111084/')\n",
    "directory_path_hannah = Path('/Users/kperks/Library/CloudStorage/GoogleDrive-sawtelllab@gmail.com/My Drive/ELL_connectome/CREST_reconstructions/Spine_Density_Annotation/from_main')\n"
   ]
  },
  {
   "cell_type": "code",
   "execution_count": 6,
   "id": "13877be7-e17f-4ce5-a1ea-ff17e081dc0e",
   "metadata": {},
   "outputs": [],
   "source": [
    "cell_filepaths_mark = get_cell_filepaths(directory_path_mark) # gets filepaths for all cells in a directory\"\n",
    "cell_filepaths_hannah = get_cell_filepaths(directory_path_hannah) # gets filepaths for all cells in a directory\""
   ]
  },
  {
   "cell_type": "markdown",
   "id": "6d831056-6bee-4be1-af75-de77fd65a8ff",
   "metadata": {},
   "source": [
    "cells to do:\n",
    "<!-- ['128737253', -->\n",
    " '214581797',\n",
    " '299249397',\n",
    " '299496636',\n",
    " '300474334',\n",
    " '301787806',\n",
    " '307418797',\n",
    " '386117124',\n",
    " '386224676',\n",
    " '393325331',\n",
    " '394115741',\n",
    " '472392041']"
   ]
  },
  {
   "cell_type": "markdown",
   "id": "eff2b699-a462-461c-bf5c-e09500842393",
   "metadata": {},
   "source": [
    "## open the cell from each location\n",
    "\n",
    "Only create a neuroglancer instance for the cell that you will be importing annotations into"
   ]
  },
  {
   "cell_type": "code",
   "execution_count": null,
   "id": "fee06cf1-c353-4ef1-bf8e-df5cff9a5ff7",
   "metadata": {},
   "outputs": [],
   "source": [
    "id_ = '472392041'\n",
    "\n",
    "crest_mark = ecrest(settings_dict,filepath = cell_filepaths_mark[id_], launch_viewer=False)\n",
    "crest_hannah = ecrest(settings_dict,filepath = cell_filepaths_hannah[id_], launch_viewer=True)"
   ]
  },
  {
   "cell_type": "markdown",
   "id": "dde63edf-59b6-44f5-8dc1-3a9edeb9206f",
   "metadata": {},
   "source": [
    "### create annotation layers"
   ]
  },
  {
   "cell_type": "code",
   "execution_count": null,
   "id": "6832fbae-b683-4af0-8ca9-9729af7935e6",
   "metadata": {},
   "outputs": [],
   "source": [
    "# add annotation layers for spine data\n",
    "crest_hannah.add_endpoint_annotation_layers(['spineD pts','spineD loc'],link=False) # "
   ]
  },
  {
   "cell_type": "code",
   "execution_count": null,
   "id": "080255f2-2969-4038-b90a-efca35da33fa",
   "metadata": {},
   "outputs": [],
   "source": [
    "## use this if made a mistake and need to remove an annotation layer\n",
    "# crest_main.del_endpoint_annotation_layers(['spine_inputs'])"
   ]
  },
  {
   "cell_type": "markdown",
   "id": "b9451a0f-a60f-4097-b68e-93410bfd3e21",
   "metadata": {},
   "source": [
    "### spineD loc"
   ]
  },
  {
   "cell_type": "code",
   "execution_count": null,
   "id": "edc590cc-8273-4bdb-9108-6843a5a0ff41",
   "metadata": {},
   "outputs": [],
   "source": [
    "# loop through each sphere annotation in spineD loc and add the annotation \n",
    "for p in crest_mark.cell_data['end_points']['spineD loc']:\n",
    "    # print(p)\n",
    "    try:\n",
    "        if p[2] == 'annotateSphere':\n",
    "            c = [p_/i for p_,i in zip(p[0],[16,16,30])]\n",
    "            r = [p_/i for p_,i in zip(p[1],[16,16,30])]\n",
    "            # print(p,c,r)\n",
    "            crest_hannah.add_endpoint_annotation('spineD loc',to_vox=False, center = c, radii = r) # 'center' is in middle of dendrite in voxels\n",
    "    except:\n",
    "        print(p)\n",
    "        "
   ]
  },
  {
   "cell_type": "code",
   "execution_count": null,
   "id": "6a41077d-a050-4a58-a627-562d6ba3d66e",
   "metadata": {},
   "outputs": [],
   "source": [
    "## You can use this code to check out any annotation locations that are not spheres (maybe it was meant to be but was missing?)\n",
    "# loc = [232288.0, 246720.0, 17820.0]\n",
    "# [p_/i for p_,i in zip(loc,[16,16,30])]"
   ]
  },
  {
   "cell_type": "markdown",
   "id": "f7368ce1-4686-44a5-a204-9793e18b25cc",
   "metadata": {},
   "source": [
    "### spineD pts"
   ]
  },
  {
   "cell_type": "code",
   "execution_count": null,
   "id": "9fa4636f-fa12-48f9-97f3-fd32bd4ed61e",
   "metadata": {},
   "outputs": [],
   "source": [
    "# for the point annotations, they should be able to be added all at once\n",
    "crest_hannah.cell_data['end_points']['spineD pts']= crest_mark.cell_data['end_points']['spineD pts']\n",
    "crest_hannah.load_annotation_layer_points() # need to actually load them from cell_data"
   ]
  },
  {
   "cell_type": "markdown",
   "id": "0f1b7a52-0562-46fd-9d28-ffbedbe28ab0",
   "metadata": {},
   "source": [
    "### Save if annotations loaded properly"
   ]
  },
  {
   "cell_type": "code",
   "execution_count": null,
   "id": "f0edf560-04af-4391-9249-14858a3390c5",
   "metadata": {},
   "outputs": [],
   "source": [
    "crest_hannah.save_cell_graph(directory_path = directory_path_hannah)"
   ]
  },
  {
   "cell_type": "markdown",
   "id": "e074f11a-6782-4eb4-ac6c-fd7487318511",
   "metadata": {},
   "source": [
    "### MAKE CORRECTIONS, THEN SAVE AGAIN\n",
    "\n",
    "This includes adding segments to reconstructions if the apical dendritic tree is incomplete"
   ]
  },
  {
   "cell_type": "code",
   "execution_count": null,
   "id": "f4743ede-631f-41d5-8e07-a95e86efecbc",
   "metadata": {},
   "outputs": [],
   "source": [
    "crest_hannah.save_cell_graph(directory_path = directory_path_hannah)"
   ]
  },
  {
   "cell_type": "markdown",
   "id": "475e5070-1940-4d94-b716-acc17460851c",
   "metadata": {},
   "source": [
    "# Analysis of the data\n",
    "\n",
    "This is just a draft of some basic functions to get it started... needs to be tailored to actual questions and split by cell type, etc"
   ]
  },
  {
   "cell_type": "code",
   "execution_count": null,
   "id": "5439c8b4-0a34-4e15-bd81-450cc3093f4b",
   "metadata": {},
   "outputs": [],
   "source": [
    "cell_filepaths_hannah = get_cell_filepaths(directory_path_hannah) # gets filepaths for all cells in a directory\""
   ]
  },
  {
   "cell_type": "code",
   "execution_count": null,
   "id": "ada7f841-1a2b-4748-99d4-585b8362290f",
   "metadata": {},
   "outputs": [],
   "source": [
    "cellids = list(cell_filepaths.keys())"
   ]
  },
  {
   "cell_type": "code",
   "execution_count": 7,
   "id": "06060367-de74-4342-8969-885850b58222",
   "metadata": {},
   "outputs": [
    {
     "name": "stdout",
     "output_type": "stream",
     "text": [
      "updating viewer status message: Current Base Segment Counts: unknown: 6771, axon: 137, basal dendrite: 26, apical dendrite: 350, dendrite: 0, multiple: 731\n"
     ]
    }
   ],
   "source": [
    "id_ = '472392041'\n",
    "cell = ecrest(settings_dict,filepath = cell_filepaths_mark[id_], launch_viewer=True)"
   ]
  },
  {
   "cell_type": "code",
   "execution_count": null,
   "id": "e620bf5a-e7ca-43b0-9e30-e3116ce1407e",
   "metadata": {},
   "outputs": [],
   "source": [
    "anno_loc = 'spineD loc'\n",
    "anno_pts = 'spineD pts'\n",
    "vx_sizes = [16, 16, 30]\n",
    "'''assumes that the annotation is a point annotation stored in the list as ([x,y,z,segment_id],'annotatePoint')\n",
    "                previous ot Jan 25 2024, it was just [x,y,z,segment_id]'''\n",
    "\n",
    "data = []\n",
    "\n",
    "for id_ in cellids:\n",
    "    # id_ = cellids[0]\n",
    "    \n",
    "    cell = ecrest(settings_dict,filepath = cell_filepaths[id_])\n",
    "    \n",
    "    ctype = cell.get_ctype(\"manual\")\n",
    "    \n",
    "\n",
    "    \n",
    "    for loc_ in cell.cell_data['end_points'][anno_loc]:\n",
    "        x,y,z = [p/1000 for p in loc_[0]]             \n",
    "    \n",
    "        d = [np.linalg.norm(np.array(pt_[0]) - np.array(loc_[0])) for pt_ in cell.cell_data['end_points'][anno_pts] if (np.linalg.norm(np.array(pt_[0]) - np.array(loc_[0])))<5100]\n",
    "        \n",
    "        data.append({'id': id_, 'cell_type': ctype, 'x': x, 'y': y, 'z': z, 'n': len(d)})#, ignore_index=True)\n",
    "\n",
    "df = pd.DataFrame(data)"
   ]
  },
  {
   "cell_type": "code",
   "execution_count": null,
   "id": "b362355c-d88d-4fe5-ba6d-fad207c39d92",
   "metadata": {},
   "outputs": [],
   "source": [
    "ax = sns.scatterplot(data=df,x='x',y='y',size='n',hue='id',sizes=(2, 200),legend=False)\n",
    "# ax.set_aspect('equal', adjustable='datalim')\n",
    "ax.set_ylim(0,300)\n",
    "ax.set_xlim(0,500)\n",
    "# for y_ in [2365*16, 4344*16, 8432*16, 11138*16, 13021*16, 15045*16, 15700*16]:\n",
    "#     ax.axhline(y=y_/1000,color = 'black',linestyle='--')\n",
    "ax.invert_yaxis()\n"
   ]
  },
  {
   "cell_type": "code",
   "execution_count": null,
   "id": "6e814faf-6151-4771-89d0-8dbb345a87a2",
   "metadata": {},
   "outputs": [],
   "source": [
    "sns.kdeplot(data=df,x='n',hue='id',cut=0)"
   ]
  },
  {
   "cell_type": "code",
   "execution_count": null,
   "id": "1fe8d1b4-91ac-46e7-ac91-4c3e4dde78b8",
   "metadata": {},
   "outputs": [],
   "source": [
    "ax = sns.scatterplot(data=df,x='n',y='y',hue='id')#,legend=False)\n",
    "# ax.set_aspect('equal', adjustable='datalim') \n",
    "ax.invert_yaxis()\n",
    "for y_ in [2365*16, 4344*16, 8432*16, 11138*16, 13021*16, 15045*16, 15700*16]:\n",
    "    ax.axhline(y=y_/1000,color = 'black',linestyle='--')"
   ]
  },
  {
   "cell_type": "code",
   "execution_count": null,
   "id": "e6fcc87b-ea0d-47bf-91d3-e059202b68b9",
   "metadata": {},
   "outputs": [],
   "source": [
    "edges = array([2365, 4344, 8432, 11138, 13021, 15045, 15700])*16/1000\n",
    "\n",
    "for i,v in enumerate(edges[0:-1]):\n",
    "    w = edges[i+1]\n",
    "    u = df[(df['y']>v) & (df['y']<w)]['n'].mean()\n",
    "    print(f'{u} spines per 5microns from {v} to {w} microns in molec layer')"
   ]
  },
  {
   "cell_type": "code",
   "execution_count": null,
   "id": "ae8cb3d7-16c4-44ed-aeb9-76d04d6e729e",
   "metadata": {},
   "outputs": [],
   "source": [
    "df['y']"
   ]
  }
 ],
 "metadata": {
  "kernelspec": {
   "display_name": "Python 3 (ipykernel)",
   "language": "python",
   "name": "python3"
  },
  "language_info": {
   "codemirror_mode": {
    "name": "ipython",
    "version": 3
   },
   "file_extension": ".py",
   "mimetype": "text/x-python",
   "name": "python",
   "nbconvert_exporter": "python",
   "pygments_lexer": "ipython3",
   "version": "3.11.7"
  },
  "widgets": {
   "application/vnd.jupyter.widget-state+json": {
    "state": {},
    "version_major": 2,
    "version_minor": 0
   }
  }
 },
 "nbformat": 4,
 "nbformat_minor": 5
}
