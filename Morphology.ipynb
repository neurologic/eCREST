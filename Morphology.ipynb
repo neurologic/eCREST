{
 "cells": [
  {
   "cell_type": "markdown",
   "id": "d49e3b01-ebe5-4d07-abed-cd2397860aa7",
   "metadata": {},
   "source": [
    "# Setup\n",
    "\n",
    "Do the following two setup steps regardless of how you will be using this script. \n",
    "\n",
    "## Packages\n",
    "\n",
    "Run the following code cell to import the necessary packages and modules. "
   ]
  },
  {
   "cell_type": "code",
   "execution_count": null,
   "id": "d21ce4fc-31b1-4269-b695-9d244fd5119e",
   "metadata": {},
   "outputs": [],
   "source": [
    "############################################################################################################################ \n",
    "# Get the latest CREST files for each ID within the target folder (dirname)\n",
    "\n",
    "from pathlib import Path\n",
    "import json\n",
    "from sqlite3 import connect as sqlite3_connect\n",
    "from sqlite3 import DatabaseError\n",
    "from igraph import Graph as ig_Graph\n",
    "from igraph import plot as ig_plot\n",
    "from scipy.spatial.distance import cdist\n",
    "from random import choice as random_choice\n",
    "from itertools import combinations\n",
    "from numpy import array, unravel_index, argmin, mean,unique,nan\n",
    "import pandas as pd\n",
    "from copy import deepcopy\n",
    "from datetime import datetime\n",
    "from time import time\n",
    "import neuroglancer\n",
    "from webbrowser import open as wb_open\n",
    "from webbrowser import open_new as wb_open_new\n",
    "import neuroglancer\n",
    "\n",
    "# from eCREST_cli_beta import ecrest, import_settings\n",
    "from eCREST_cli import ecrest, import_settings"
   ]
  },
  {
   "cell_type": "markdown",
   "id": "3c551bc8-c237-4f70-aca4-6f31b14083e1",
   "metadata": {},
   "source": [
    "## settings\n",
    "\n",
    "If you save a copy of settings_dict.json (found in the \"under construction\" directory of eCREST repo) locally somewhere outside the repo (like in your save_dir), then you can use the following code cell to import. This avoids needing to re-type the save_dir and db_path each time you \"git pull\" updates from the repo to this notebook."
   ]
  },
  {
   "cell_type": "code",
   "execution_count": null,
   "id": "2c706652-1c91-48da-8262-d6a92f8e9464",
   "metadata": {},
   "outputs": [],
   "source": [
    "path_to_settings_json = '/Users/kperks/Documents/ell-connectome/eCREST-local-files/settings_dict.json'\n",
    "settings_dict = import_settings(path_to_settings_json)"
   ]
  },
  {
   "cell_type": "markdown",
   "id": "bd05e15b-cd6b-4d12-b12a-faf0f5e472ee",
   "metadata": {},
   "source": [
    "## files\n",
    "\n",
    "(only works if you use the google drive desktop app to work from directly)"
   ]
  },
  {
   "cell_type": "code",
   "execution_count": null,
   "id": "3214f3f7-df96-4a91-a7e3-b27b814636ed",
   "metadata": {},
   "outputs": [],
   "source": [
    "dirpath = Path(settings_dict['save_dir'])\n",
    "\n",
    "nodefiles = dict()\n",
    "for child in sorted(dirpath.iterdir()):\n",
    "    if (child.name[0]!='.') & (child.is_file()):\n",
    "        nodefiles[child.name.split('_')[2]] = child"
   ]
  },
  {
   "cell_type": "markdown",
   "id": "fc210db1-78bf-4de2-9981-080dbd2bbcb9",
   "metadata": {},
   "source": [
    "You can keep track of a list of IDs todo... and use that to get the file rather than copy and paste\n",
    "\n",
    "Otherwise... use the old way you have been doing it. "
   ]
  },
  {
   "cell_type": "markdown",
   "id": "097722fb-dc36-47e5-8a4b-5c59e13566cb",
   "metadata": {},
   "source": [
    "## cell types"
   ]
  },
  {
   "cell_type": "code",
   "execution_count": null,
   "id": "44937e63-08a5-408f-aab0-35ad48aa1859",
   "metadata": {},
   "outputs": [],
   "source": [
    "cell_type = {}\n",
    "not_typed = []\n",
    "for x in nodefiles.keys():\n",
    "    cell = ecrest(settings_dict,filepath = nodefiles[x],launch_viewer=False)\n",
    "    cell_type[x] = cell.get_ctype('manual') \n",
    "    if (cell.get_ctype('manual') == []) | (cell.get_ctype('manual') == ''):\n",
    "        cell_type[x]=''\n",
    "        not_typed.append(x)# print(f'cell {x} is not cell-typed in json')\n",
    "        \n",
    "print('the following cells are not typed in the main network')\n",
    "print(not_typed)        \n",
    "        "
   ]
  },
  {
   "cell_type": "code",
   "execution_count": null,
   "id": "9167a1d0-444d-4ff6-be98-eecff0927494",
   "metadata": {},
   "outputs": [],
   "source": [
    "[(k,v) for k,v in cell_type.items() if 'sg' in v]"
   ]
  },
  {
   "cell_type": "code",
   "execution_count": null,
   "id": "ffc7e31f-1f52-469c-9b35-edbec62685d6",
   "metadata": {},
   "outputs": [],
   "source": [
    "cell_id = '127641472'\n",
    "\n",
    "crest = ecrest(settings_dict,filepath= nodefiles[cell_id], launch_viewer=True)"
   ]
  },
  {
   "cell_type": "markdown",
   "id": "76926daf-21ca-4f9f-bccc-9557cb89d25c",
   "metadata": {
    "tags": []
   },
   "source": [
    "# Add annotation layers for morphology\n",
    "\n",
    "**Only add layers that are needed! Some might have already been done for your cell**\n",
    "\n",
    "Options include:\n",
    "- 'soma'\n",
    "- 'apical-branch'\n",
    "- 'apical-spines'\n",
    "- 'apical-tip'"
   ]
  },
  {
   "cell_type": "code",
   "execution_count": null,
   "id": "266f6b2a-2db8-40c2-a883-c88a8327e8c7",
   "metadata": {},
   "outputs": [],
   "source": [
    "# you can run this cell to get a list of annotation layers (or look at the neuroglancer tab for the cell you just opened)\n",
    "\n",
    "crest.cell_data['end_points'].keys()"
   ]
  },
  {
   "cell_type": "code",
   "execution_count": null,
   "id": "db27df76-c2db-4af7-beb7-3162fa329dcc",
   "metadata": {},
   "outputs": [],
   "source": [
    "crest.add_endpoint_annotation_layers([])"
   ]
  },
  {
   "cell_type": "markdown",
   "id": "8e4abaf5-ad0c-49b7-ade5-cde7d2299000",
   "metadata": {},
   "source": [
    "# Save cell with annotations\n",
    "\n",
    "Before saving, remove any bounding box annotations used for visualization purposes (but keep the corner points)"
   ]
  },
  {
   "cell_type": "code",
   "execution_count": null,
   "id": "1e2b49b2-1f3c-4796-a540-ea174d31a2cd",
   "metadata": {},
   "outputs": [],
   "source": [
    "crest.save_cell_graph(directory_path = Path(settings_dict['save_dir']))"
   ]
  },
  {
   "cell_type": "markdown",
   "id": "f3894346-0775-4c88-8d8b-f559102e6041",
   "metadata": {},
   "source": [
    "# DELETE OLD FILE \n",
    "\n",
    "Do this step manually (before deleting the old one, you can double check that your new file saved correctly by re-opening it)"
   ]
  },
  {
   "cell_type": "code",
   "execution_count": null,
   "id": "e6125367-db01-403f-802e-c649f265d454",
   "metadata": {},
   "outputs": [],
   "source": []
  }
 ],
 "metadata": {
  "kernelspec": {
   "display_name": "Python 3 (ipykernel)",
   "language": "python",
   "name": "python3"
  },
  "language_info": {
   "codemirror_mode": {
    "name": "ipython",
    "version": 3
   },
   "file_extension": ".py",
   "mimetype": "text/x-python",
   "name": "python",
   "nbconvert_exporter": "python",
   "pygments_lexer": "ipython3",
   "version": "3.8.13"
  },
  "widgets": {
   "application/vnd.jupyter.widget-state+json": {
    "state": {},
    "version_major": 2,
    "version_minor": 0
   }
  }
 },
 "nbformat": 4,
 "nbformat_minor": 5
}
