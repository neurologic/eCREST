{
 "cells": [
  {
   "cell_type": "markdown",
   "id": "b4361375-878a-4ba4-9a29-f52ec0506f28",
   "metadata": {},
   "source": [
    "# Network eCREST\n",
    "\n"
   ]
  },
  {
   "cell_type": "markdown",
   "id": "6c6feb00-73b2-4036-b52a-1c3686b50a5d",
   "metadata": {},
   "source": [
    "# Setup\n",
    "\n",
    "Do the following two setup steps regardless of how you will be using this script. \n",
    "\n",
    "## 1. Imports\n",
    "\n",
    "Run the following code cell to import the necessary packages and modules. "
   ]
  },
  {
   "cell_type": "code",
   "execution_count": 1,
   "id": "f5b787d1-3dd0-4536-a36f-8abe42352826",
   "metadata": {},
   "outputs": [],
   "source": [
    "############################################################################################################################ \n",
    "# Get the latest CREST files for each ID within the target folder (dirname)\n",
    "\n",
    "from pathlib import Path\n",
    "import json\n",
    "from sqlite3 import connect as sqlite3_connect\n",
    "from sqlite3 import DatabaseError\n",
    "from igraph import Graph as ig_Graph\n",
    "from igraph import plot as ig_plot\n",
    "from scipy.spatial.distance import cdist\n",
    "import random\n",
    "from random import choice as random_choice\n",
    "from itertools import combinations\n",
    "import itertools\n",
    "from numpy import array, unravel_index, argmin, mean,unique\n",
    "import matplotlib\n",
    "import pandas as pd\n",
    "import numpy as np\n",
    "from copy import deepcopy\n",
    "from datetime import datetime\n",
    "from time import time, sleep\n",
    "import neuroglancer\n",
    "from webbrowser import open as wb_open\n",
    "from webbrowser import open_new as wb_open_new\n",
    "import matplotlib.pyplot as plt\n",
    "import seaborn as sns\n",
    "\n",
    "from eCREST_cli import ecrest, import_settings, get_cell_filepaths"
   ]
  },
  {
   "cell_type": "code",
   "execution_count": 2,
   "id": "c439d3df-c5a8-4227-9390-a7522ea9c9b4",
   "metadata": {},
   "outputs": [],
   "source": [
    "vx_sizes = [16, 16, 30]\n",
    "\n",
    "def get_viewer(backgnd_color = \"black\"):\n",
    "    viewer = neuroglancer.Viewer()\n",
    "    viewer.set_state({})\n",
    "\n",
    "    location=[17000,17000,1500]\n",
    "\n",
    "    with viewer.config_state.txn() as s:\n",
    "        s.show_layer_panel = True ###\n",
    "\n",
    "    with viewer.txn(overwrite=True) as s:\n",
    "\n",
    "        dimensions = neuroglancer.CoordinateSpace(\n",
    "            scales=vx_sizes,# self.vx_sizes['em'],\n",
    "            units='nm',\n",
    "            names=['x', 'y', 'z']   )\n",
    "\n",
    "        s.showSlices = False\n",
    "        s.dimensions = dimensions\n",
    "        s.position = array(location)\n",
    "        s.layout = \"3d\"\n",
    "        s.projectionScale = 30000\n",
    "        s.projection_background_color= matplotlib.colors.cnames[backgnd_color]#\"#000000\"\n",
    "        # s.projection_background_color= \"#ffffff\"\n",
    "        s.showSlices = False\n",
    "\n",
    "    with viewer.txn(overwrite=True) as s:\n",
    "        wb_open(str(viewer))\n",
    "    \n",
    "    return viewer\n",
    "\n",
    "def bkgnd_color(viewer,backgnd_color):\n",
    "    with viewer.txn(overwrite=True) as s:\n",
    "        s.projection_background_color= matplotlib.colors.cnames[backgnd_color]\n",
    "\n",
    "def create_baseseg_layer(viewer, source, lname, visible = False, objectAlpha = 1):\n",
    "    with viewer.txn(overwrite=True) as s:\n",
    "        s.layers[lname] = neuroglancer.SegmentationLayer(source = source, segments=[], segment_colors={})\n",
    "        s.layers[lname].ignoreNullVisibleSet = False\n",
    "        s.layers[lname].pick = True\n",
    "        s.layers[lname].selectedAlpha = 0.5 #For 2D\n",
    "        s.layers[lname].objectAlpha = objectAlpha\n",
    "        s.layers[lname].visible = visible\n",
    "                 \n",
    "\n",
    "def create_em_layer(viewer, source = 'brainmaps://10393113184:ell:roi450um_xyz'):\n",
    "    with viewer.txn(overwrite=True) as s:\n",
    "        s.layers['em'] = neuroglancer.ImageLayer(source = source)\n",
    "\n",
    "def create_mesh_layer(viewer, source, lname):\n",
    "#     source = = 'precomputed://gs+ngauth+https://ngauth-goog.appspot.com/fish-ell/roi450um_seg32fb16fb_220930'\n",
    "#precomputed://gs+ngauth+https://ngauth-goog.appspot.com/h01-release/data/20210601/c3\n",
    "#gs://fish-ell/roi450um_seg32fb16fb_220930\n",
    "    # lname = 'skel'\n",
    "    with viewer.txn(overwrite=True) as s:\n",
    "        s.layers[lname] = neuroglancer.SegmentationLayer(source = source, segments=[], segment_colors={})\n",
    "        s.layers[lname].ignoreNullVisibleSet = False\n",
    "        s.layers[lname].pick = True\n",
    "        s.layers[lname].selectedAlpha = 0.5 #For 2D\n",
    "        s.layers[lname].meshSilhouetteRendering = 4.2\n",
    "        s.layers[lname].objectAlpha = 1 #objectAlpha\n",
    "        s.layers[lname].visible = False #visible\n",
    "\n",
    "def clear_baseseg_layer(viewer, lname):\n",
    "    displayed_segs = set([str(x) for x in viewer.state.layers[lname].segments])\n",
    "\n",
    "    # REMOVE SEGMENTS FROM NGviewer\n",
    "    remove_segs = displayed_segs\n",
    "\n",
    "    with viewer.txn(overwrite=True) as s:\n",
    "        for bs in remove_segs:\n",
    "            if int(bs) in s.layers[lname].segments:\n",
    "                s.layers[lname].segments.remove(int(bs))"
   ]
  },
  {
   "cell_type": "markdown",
   "id": "62e304ed-6b4b-4fa4-a6b9-2cb0e6782d6a",
   "metadata": {},
   "source": [
    "The 'ecrest' class has been imported from eCREST_cli.py\n",
    "\n",
    "An instance of this object will be able to:\n",
    "- open an neuroglancer viewer for proofrieading (see \"Proofread using CREST\")\n",
    "    - add-remove segments (using graph feature for efficiency)\n",
    "    - format itself and save itself as a CREST-style .json\n",
    "- convert from neuroglancer json (see \"Convert From Neuroglancer to eCREST\")\n",
    "    - format itself and save itself as a CREST-style .json\n",
    "    \n"
   ]
  },
  {
   "cell_type": "markdown",
   "id": "270a5341-ee1e-4082-8fe0-bbd974a6d5a3",
   "metadata": {},
   "source": [
    "## 2. Settings and files"
   ]
  },
  {
   "cell_type": "code",
   "execution_count": 3,
   "id": "a1699b04-52fd-4a6c-a93d-df89286446b7",
   "metadata": {},
   "outputs": [],
   "source": [
    "path_to_settings_json = '/Users/kperks/Documents/ell-connectome/eCREST-local-files/settings_dict.json'\n",
    "settings_dict = import_settings(path_to_settings_json)\n",
    "\n",
    "db_cursors = sqlite3_connect(settings_dict['db_path'], check_same_thread=False).cursor()\n",
    "\n",
    "a = ', '.join(['base_address'])\n",
    "\n",
    "db_cursors.execute(f'''SELECT {a} FROM addresses_table LIMIT 1''')\n",
    "\n",
    "[base_seg] = db_cursors.fetchall()[0]\n"
   ]
  },
  {
   "cell_type": "code",
   "execution_count": 4,
   "id": "40f18d69-2231-40ea-8c37-e2c5f6d62d24",
   "metadata": {},
   "outputs": [],
   "source": [
    "mesh_seg = 'precomputed://gs+ngauth+https://ngauth-goog.appspot.com/fish-ell/roi450um_seg32fb16fb_220930'"
   ]
  },
  {
   "cell_type": "code",
   "execution_count": 5,
   "id": "512b982f-59ec-4ceb-b79f-bd4e6fcf1251",
   "metadata": {},
   "outputs": [],
   "source": [
    "path_to_settings_json = '/Users/kperks/Documents/ell-connectome/eCREST-local-files/settings_dict.json'\n",
    "settings_dict = import_settings(path_to_settings_json)"
   ]
  },
  {
   "cell_type": "markdown",
   "id": "234c4dec-acfe-4b95-aac9-9e53a958f3a3",
   "metadata": {},
   "source": [
    "# em viewer"
   ]
  },
  {
   "cell_type": "code",
   "execution_count": 30,
   "id": "3d333936-bc55-40f6-985d-9945965cc1b7",
   "metadata": {},
   "outputs": [],
   "source": [
    "viewer = get_viewer(backgnd_color=\"black\")\n",
    "create_em_layer(viewer)"
   ]
  },
  {
   "cell_type": "code",
   "execution_count": 6,
   "id": "e6fdf5a5-414b-44b4-b792-895a717cd88a",
   "metadata": {},
   "outputs": [],
   "source": [
    "point_type = 'reconstruct'\n",
    "with viewer.txn(overwrite=True) as s:\n",
    "    s.layers[point_type] = neuroglancer.AnnotationLayer()\n",
    "    s.layers[point_type].annotationColor = '#888888'"
   ]
  },
  {
   "cell_type": "markdown",
   "id": "37119497-2d15-406e-9799-81cf53d4d3fd",
   "metadata": {},
   "source": [
    "## add mesh layer"
   ]
  },
  {
   "cell_type": "code",
   "execution_count": 31,
   "id": "6c07c6e8-4dfd-45c5-89fb-3333581a9010",
   "metadata": {},
   "outputs": [],
   "source": [
    "create_mesh_layer(viewer,source = 'precomputed://gs+ngauth+https://ngauth-goog.appspot.com/h01-release/data/20210601/c3', lname='skel')"
   ]
  },
  {
   "cell_type": "markdown",
   "id": "960c0e7d-5605-47bc-b57b-c8c0d9571b44",
   "metadata": {},
   "source": [
    "### add segments to mesh"
   ]
  },
  {
   "cell_type": "code",
   "execution_count": 16,
   "id": "703ee620-6555-426f-a52d-81cd5a2fb9cc",
   "metadata": {},
   "outputs": [],
   "source": [
    "segs = ['133378529']\n",
    "lname = 'skel'\n",
    "with viewer.txn(overwrite=True) as s:\n",
    "    for bs in segs:\n",
    "        s.layers[lname].segments.add(int(bs))\n",
    "        s.layers[lname].segment_colors[int(bs)] = '#00ff00' #'#ffffff'# blue"
   ]
  },
  {
   "cell_type": "code",
   "execution_count": 7,
   "id": "47b75c72-bd2d-4716-af6e-487c329f1588",
   "metadata": {},
   "outputs": [],
   "source": [
    "create_baseseg_layer(viewer, base_seg, 'base_segs')"
   ]
  },
  {
   "cell_type": "markdown",
   "id": "2bd82a50-66a2-40a1-bb31-e9e39824a383",
   "metadata": {},
   "source": [
    "# Vizualize sensory versus negative image input"
   ]
  },
  {
   "cell_type": "code",
   "execution_count": 52,
   "id": "1b7b4952-a0ea-411a-ac3d-fcbbe03d258f",
   "metadata": {},
   "outputs": [],
   "source": [
    "path_to_settings_json = '/Users/kperks/Documents/ell-connectome/eCREST-local-files/settings_dict.json'\n",
    "settings_dict = import_settings(path_to_settings_json)\n",
    "\n",
    "dirpath = Path(settings_dict['save_dir'])\n",
    "\n",
    "nodefiles = get_cell_filepaths(dirpath)\n",
    "                    "
   ]
  },
  {
   "cell_type": "markdown",
   "id": "e2c603f6-8a65-488b-b68c-aeba5dd674f5",
   "metadata": {
    "tags": []
   },
   "source": [
    "## Load graph dataframes "
   ]
  },
  {
   "cell_type": "code",
   "execution_count": 51,
   "id": "597b3cf3-5f3c-48b9-b383-39a56f97b3b4",
   "metadata": {},
   "outputs": [],
   "source": [
    "savepath = Path('/Users/kperks/Library/CloudStorage/GoogleDrive-kperky@gmail.com/.shortcut-targets-by-id/16q1BuOMfD2ta0Cwq8CjMlRe4rDvbuWC5/ELL_connectome/CREST_reconstructions/mg-network/graphs')\n",
    "\n",
    "df_syn_pre = pd.read_csv(savepath / 'df_presyn.csv')\n",
    "df_syn_post = pd.read_csv(savepath / 'df_postsyn.csv')\n",
    "\n",
    "# df_syn_post.loc[df_syn_post['pre']==285761792,'pre_type']='pe'"
   ]
  },
  {
   "cell_type": "code",
   "execution_count": 29,
   "id": "94eda5a5-cb2d-44dd-84f9-443aa3d22709",
   "metadata": {},
   "outputs": [],
   "source": [
    "# network_types = ['mg1','mg2','lg','lf','sg1','sg2','grc','aff']\n",
    "\n",
    "# df_syn_post = df_syn_post[(df_syn_post['pre_type'].isin(network_types))&(df_syn_post['post_type'].isin(network_types))]\n",
    "# df_syn_pre = df_syn_pre[(df_syn_pre['pre_type'].isin(network_types))&(df_syn_pre['post_type'].isin(network_types))]"
   ]
  },
  {
   "cell_type": "code",
   "execution_count": 84,
   "id": "7aa12d59-4926-4ada-80cb-2bf1fde63339",
   "metadata": {},
   "outputs": [],
   "source": [
    "focal_cell_id = 214581797 # mg2 # 393325331 # lf # 299496636 #mg1 # 301787806 # lg # sg2-mg2like #  285761792 #   386392158 # partial mg2 #    299392199 # partial mg1 #  61319896 # grc-s # 385234105 # dml #  128832297 # sg1 # 50786130 # sg2 # 392042360 # grc-s #   392042360 # grc-s #218095913 #sg2 # "
   ]
  },
  {
   "cell_type": "code",
   "execution_count": 85,
   "id": "cc67dc3c-de4d-4b13-8bc5-a41ef91dfade",
   "metadata": {},
   "outputs": [
    {
     "data": {
      "text/plain": [
       "array(['mg1', 'dml', 'grc-s', 'fov', 'grc-d', 'uk', 'mli', 'pe', 'tsd',\n",
       "       'pf', 'sgx1', 'sg1', 'aff', 'mg2'], dtype=object)"
      ]
     },
     "execution_count": 85,
     "metadata": {},
     "output_type": "execute_result"
    }
   ],
   "source": [
    "df_syn_pre[df_syn_pre['pre']==focal_cell_id]['post_type'].unique()"
   ]
  },
  {
   "cell_type": "code",
   "execution_count": 21,
   "id": "0ae3e065-70c9-41bc-a86a-07952eacc4cd",
   "metadata": {},
   "outputs": [
    {
     "data": {
      "text/plain": [
       "array(['uk', 'lf', 'mg2', 'mg1', 'sgx2'], dtype=object)"
      ]
     },
     "execution_count": 21,
     "metadata": {},
     "output_type": "execute_result"
    }
   ],
   "source": [
    "df_syn_post[df_syn_post['pre']==focal_cell_id]['post_type'].unique()"
   ]
  },
  {
   "cell_type": "markdown",
   "id": "847f31c3-8fec-44ad-84d6-90b26cff5337",
   "metadata": {},
   "source": [
    "## load focal cell"
   ]
  },
  {
   "cell_type": "code",
   "execution_count": 86,
   "id": "3e2887be-a742-4df5-873a-98b7aeacf54e",
   "metadata": {},
   "outputs": [],
   "source": [
    "dirpath = Path(settings_dict['save_dir'])\n",
    "focal_cell_fname = nodefiles[str(focal_cell_id)]#'cell_graph_214581797__2023-07-17 12.58.20.json'\n",
    "\n",
    "cell = ecrest(settings_dict,filepath = dirpath / focal_cell_fname, launch_viewer=False)"
   ]
  },
  {
   "cell_type": "markdown",
   "id": "9e22ab2d-7be9-4d6a-ad55-fb78a13dc7b8",
   "metadata": {},
   "source": [
    "## create viewer"
   ]
  },
  {
   "cell_type": "code",
   "execution_count": 73,
   "id": "9ca8e98c-6a21-4e3f-a03d-2636201d5455",
   "metadata": {},
   "outputs": [],
   "source": [
    "viewer = get_viewer(backgnd_color=\"white\")\n",
    "create_em_layer(viewer)"
   ]
  },
  {
   "cell_type": "code",
   "execution_count": 69,
   "id": "af852ed3-a9b1-4e2f-8c30-ed967d16fe5f",
   "metadata": {},
   "outputs": [],
   "source": [
    "bkgnd_color(viewer,'white')"
   ]
  },
  {
   "cell_type": "markdown",
   "id": "221b4ca5-a3a5-4819-b822-5b11972cc9e8",
   "metadata": {},
   "source": [
    "### mesh layer with focal cell"
   ]
  },
  {
   "cell_type": "code",
   "execution_count": 75,
   "id": "c01a6f55-8178-4a9b-9b34-6c84736eb9f6",
   "metadata": {},
   "outputs": [],
   "source": [
    "lname = 'focal_cell_' + str(focal_cell_id) + ' mesh'\n",
    "create_mesh_layer(viewer, mesh_seg, lname)\n",
    "\n",
    "structure_colors = {'unknown': '#d2b48c',\n",
    "                    'multiple': '#9c661f',\n",
    "                    'axon': '#008000',\n",
    "                    'basal dendrite': '#cd4b00',\n",
    "                    'apical dendrite': '#ff8000'\n",
    "                   } \n",
    "\n",
    "with viewer.txn(overwrite=True) as s:\n",
    "    for dtype in cell.cell_data['base_segments'].keys():\n",
    "        for bs in cell.cell_data['base_segments'][dtype]:\n",
    "            s.layers[lname].segments.add(int(bs))\n",
    "            s.layers[lname].segment_colors[int(bs)] = structure_colors[dtype] #'#ffffff'# blue"
   ]
  },
  {
   "cell_type": "markdown",
   "id": "0ff5b84f-38f4-47bc-b002-83e484fb222b",
   "metadata": {},
   "source": [
    "### base segs layer with focal cell"
   ]
  },
  {
   "cell_type": "code",
   "execution_count": 74,
   "id": "57403a33-c0ce-45b8-9e32-256db1a3d7f9",
   "metadata": {},
   "outputs": [],
   "source": [
    "lname = 'focal_cell_' + str(focal_cell_id)\n",
    "create_baseseg_layer(viewer, base_seg, lname, objectAlpha=1)\n",
    "\n",
    "\n",
    "# structure_colors = {'unknown': '#4d4d4d',\n",
    "#                     'multiple': '#4d4d4d',\n",
    "#                     'axon': '#b3b3b3',\n",
    "#                     'basal dendrite': '#4d4d4d',\n",
    "#                     'apical dendrite': '#4d4d4d'\n",
    "#                    } \n",
    "\n",
    "structure_colors = {'unknown': '#d2b48c',\n",
    "                    'multiple': '#9c661f',\n",
    "                    'axon': '#008000',\n",
    "                    'basal dendrite': '#cd4b00',\n",
    "                    'apical dendrite': '#ff8000'\n",
    "                   } \n",
    "\n",
    "with viewer.txn(overwrite=True) as s:\n",
    "    for dtype in cell.cell_data['base_segments'].keys():\n",
    "        for bs in cell.cell_data['base_segments'][dtype]:\n",
    "            s.layers[lname].segments.add(int(bs))\n",
    "            s.layers[lname].segment_colors[int(bs)] = structure_colors[dtype] #'#ffffff'# blue"
   ]
  },
  {
   "cell_type": "code",
   "execution_count": 40,
   "id": "2134f67b-63d7-4f9d-98d9-675b7f1c7d8e",
   "metadata": {},
   "outputs": [],
   "source": [
    "point_type = 'pre-synaptic'\n",
    "p_name = 'all_pre'\n",
    "\n",
    "with viewer.txn(overwrite=True) as s:\n",
    "    s.layers[p_name] = neuroglancer.AnnotationLayer()\n",
    "    s.layers[p_name].annotationColor = '#ffffff'\n",
    "    \n",
    "\n",
    "    for pos, point in enumerate(cell.cell_data['end_points'][point_type]):\n",
    "        point_array = array([int(point[x]/vx_sizes[x]) for x in range(3)])\n",
    "        point_id = f'{point_type}_{pos}'\n",
    "        pa = neuroglancer.PointAnnotation(id=point_id, point = point_array)\n",
    "        s.layers[p_name].annotations.append(pa)    "
   ]
  },
  {
   "cell_type": "code",
   "execution_count": 76,
   "id": "d2eaa646-7910-4df5-b6eb-6fde2ae54946",
   "metadata": {},
   "outputs": [
    {
     "name": "stdout",
     "output_type": "stream",
     "text": [
      "478 total input synapses\n",
      "478 input synapses that are reconstructed within network_types cell types\n"
     ]
    }
   ],
   "source": [
    "point_type = 'pre-synaptic'\n",
    "print(f'{len(cell.cell_data[\"end_points\"][point_type])} total input synapses')\n",
    "print(f'{len(df_syn_pre[df_syn_pre[\"pre\"]==focal_cell_id])} input synapses that are reconstructed within network_types cell types')"
   ]
  },
  {
   "cell_type": "code",
   "execution_count": 77,
   "id": "65f9d4ab-562c-47df-beb3-d08e3925520b",
   "metadata": {},
   "outputs": [
    {
     "data": {
      "text/html": [
       "<div>\n",
       "<style scoped>\n",
       "    .dataframe tbody tr th:only-of-type {\n",
       "        vertical-align: middle;\n",
       "    }\n",
       "\n",
       "    .dataframe tbody tr th {\n",
       "        vertical-align: top;\n",
       "    }\n",
       "\n",
       "    .dataframe thead th {\n",
       "        text-align: right;\n",
       "    }\n",
       "</style>\n",
       "<table border=\"1\" class=\"dataframe\">\n",
       "  <thead>\n",
       "    <tr style=\"text-align: right;\">\n",
       "      <th></th>\n",
       "      <th>pre_type</th>\n",
       "      <th>count</th>\n",
       "      <th>weight</th>\n",
       "    </tr>\n",
       "  </thead>\n",
       "  <tbody>\n",
       "    <tr>\n",
       "      <th>0</th>\n",
       "      <td>dml</td>\n",
       "      <td>11</td>\n",
       "      <td>21</td>\n",
       "    </tr>\n",
       "    <tr>\n",
       "      <th>1</th>\n",
       "      <td>fov</td>\n",
       "      <td>66</td>\n",
       "      <td>85</td>\n",
       "    </tr>\n",
       "    <tr>\n",
       "      <th>2</th>\n",
       "      <td>grc-d</td>\n",
       "      <td>87</td>\n",
       "      <td>112</td>\n",
       "    </tr>\n",
       "    <tr>\n",
       "      <th>3</th>\n",
       "      <td>mg2</td>\n",
       "      <td>18</td>\n",
       "      <td>39</td>\n",
       "    </tr>\n",
       "    <tr>\n",
       "      <th>4</th>\n",
       "      <td>mli</td>\n",
       "      <td>11</td>\n",
       "      <td>24</td>\n",
       "    </tr>\n",
       "    <tr>\n",
       "      <th>5</th>\n",
       "      <td>pe</td>\n",
       "      <td>36</td>\n",
       "      <td>51</td>\n",
       "    </tr>\n",
       "    <tr>\n",
       "      <th>6</th>\n",
       "      <td>pf</td>\n",
       "      <td>27</td>\n",
       "      <td>28</td>\n",
       "    </tr>\n",
       "    <tr>\n",
       "      <th>7</th>\n",
       "      <td>sg2</td>\n",
       "      <td>54</td>\n",
       "      <td>99</td>\n",
       "    </tr>\n",
       "    <tr>\n",
       "      <th>8</th>\n",
       "      <td>sgx2</td>\n",
       "      <td>10</td>\n",
       "      <td>13</td>\n",
       "    </tr>\n",
       "    <tr>\n",
       "      <th>9</th>\n",
       "      <td>uk</td>\n",
       "      <td>4</td>\n",
       "      <td>6</td>\n",
       "    </tr>\n",
       "  </tbody>\n",
       "</table>\n",
       "</div>"
      ],
      "text/plain": [
       "  pre_type  count  weight\n",
       "0      dml     11      21\n",
       "1      fov     66      85\n",
       "2    grc-d     87     112\n",
       "3      mg2     18      39\n",
       "4      mli     11      24\n",
       "5       pe     36      51\n",
       "6       pf     27      28\n",
       "7      sg2     54      99\n",
       "8     sgx2     10      13\n",
       "9       uk      4       6"
      ]
     },
     "execution_count": 77,
     "metadata": {},
     "output_type": "execute_result"
    }
   ],
   "source": [
    "df = df_syn_pre[df_syn_pre['pre']==focal_cell_id][['post','post_type']].value_counts().reset_index(name='weight').rename(columns={'post_type': 'pre_type'})\n",
    "\n",
    "df.groupby('pre_type').agg({'pre_type': 'count', 'weight': 'sum'}).rename(columns={'pre_type': 'count'}).reset_index()"
   ]
  },
  {
   "cell_type": "code",
   "execution_count": 63,
   "id": "6aea572b-efa4-4620-8044-811cf39adc2f",
   "metadata": {},
   "outputs": [
    {
     "data": {
      "text/html": [
       "<div>\n",
       "<style scoped>\n",
       "    .dataframe tbody tr th:only-of-type {\n",
       "        vertical-align: middle;\n",
       "    }\n",
       "\n",
       "    .dataframe tbody tr th {\n",
       "        vertical-align: top;\n",
       "    }\n",
       "\n",
       "    .dataframe thead th {\n",
       "        text-align: right;\n",
       "    }\n",
       "</style>\n",
       "<table border=\"1\" class=\"dataframe\">\n",
       "  <thead>\n",
       "    <tr style=\"text-align: right;\">\n",
       "      <th></th>\n",
       "      <th>post</th>\n",
       "      <th>post_type</th>\n",
       "      <th>weight</th>\n",
       "    </tr>\n",
       "  </thead>\n",
       "  <tbody>\n",
       "    <tr>\n",
       "      <th>0</th>\n",
       "      <td>214827705</td>\n",
       "      <td>sg2</td>\n",
       "      <td>18</td>\n",
       "    </tr>\n",
       "    <tr>\n",
       "      <th>1</th>\n",
       "      <td>128879866</td>\n",
       "      <td>sg2</td>\n",
       "      <td>16</td>\n",
       "    </tr>\n",
       "    <tr>\n",
       "      <th>2</th>\n",
       "      <td>472437904</td>\n",
       "      <td>sg2</td>\n",
       "      <td>12</td>\n",
       "    </tr>\n",
       "    <tr>\n",
       "      <th>3</th>\n",
       "      <td>389998392</td>\n",
       "      <td>sg2</td>\n",
       "      <td>11</td>\n",
       "    </tr>\n",
       "    <tr>\n",
       "      <th>4</th>\n",
       "      <td>309743149</td>\n",
       "      <td>sg2</td>\n",
       "      <td>9</td>\n",
       "    </tr>\n",
       "  </tbody>\n",
       "</table>\n",
       "</div>"
      ],
      "text/plain": [
       "        post post_type  weight\n",
       "0  214827705       sg2      18\n",
       "1  128879866       sg2      16\n",
       "2  472437904       sg2      12\n",
       "3  389998392       sg2      11\n",
       "4  309743149       sg2       9"
      ]
     },
     "execution_count": 63,
     "metadata": {},
     "output_type": "execute_result"
    }
   ],
   "source": [
    "df_syn_pre[df_syn_pre['pre']==focal_cell_id][['post','post_type']].value_counts().reset_index(name='weight').head()\n",
    "\n",
    "# display(df_syn_pre[df_syn_pre['pre']==focal_cell_id][['post','post_type']].value_counts().reset_index(\n",
    "#     name='weight')['post_type'].value_counts().reset_index(name='ncells'))"
   ]
  },
  {
   "cell_type": "code",
   "execution_count": 127,
   "id": "9e10220b-4147-4155-96de-0e9b366e5912",
   "metadata": {},
   "outputs": [],
   "source": [
    "df_syn_pre[(df_syn_pre['pre']==focal_cell_id) & (df_syn_pre['post_type'].isin(['sgx2']))]"
   ]
  },
  {
   "cell_type": "code",
   "execution_count": 83,
   "id": "68659231-7ef3-49da-a54a-dc7b9c6889bf",
   "metadata": {},
   "outputs": [],
   "source": [
    "point_type = 'post-synaptic'\n",
    "p_name = 'all_post'\n",
    "\n",
    "with viewer.txn(overwrite=True) as s:\n",
    "    s.layers[p_name] = neuroglancer.AnnotationLayer()\n",
    "    s.layers[p_name].annotationColor = '#ffffff'\n",
    "    \n",
    "\n",
    "    for pos, point in enumerate(cell.cell_data['end_points'][point_type]):\n",
    "        point_array = array([int(point[x]/vx_sizes[x]) for x in range(3)])\n",
    "        point_id = f'{point_type}_{pos}'\n",
    "        pa = neuroglancer.PointAnnotation(id=point_id, point = point_array)\n",
    "        s.layers[p_name].annotations.append(pa)    "
   ]
  },
  {
   "cell_type": "code",
   "execution_count": 38,
   "id": "ee139a6d-c603-4bce-8b0a-347783ef2da8",
   "metadata": {},
   "outputs": [
    {
     "name": "stdout",
     "output_type": "stream",
     "text": [
      "29 total output synapses\n",
      "29 output synapses that are reconstructed within network_types cell types\n"
     ]
    }
   ],
   "source": [
    "point_type = 'post-synaptic'\n",
    "print(f'{len(cell.cell_data[\"end_points\"][point_type])} total output synapses')\n",
    "print(f'{len(df_syn_post[df_syn_post[\"pre\"]==focal_cell_id])} output synapses that are reconstructed within network_types cell types')"
   ]
  },
  {
   "cell_type": "code",
   "execution_count": 39,
   "id": "e9da695a-a87b-47d2-90a6-5607173cba92",
   "metadata": {},
   "outputs": [
    {
     "data": {
      "text/html": [
       "<div>\n",
       "<style scoped>\n",
       "    .dataframe tbody tr th:only-of-type {\n",
       "        vertical-align: middle;\n",
       "    }\n",
       "\n",
       "    .dataframe tbody tr th {\n",
       "        vertical-align: top;\n",
       "    }\n",
       "\n",
       "    .dataframe thead th {\n",
       "        text-align: right;\n",
       "    }\n",
       "</style>\n",
       "<table border=\"1\" class=\"dataframe\">\n",
       "  <thead>\n",
       "    <tr style=\"text-align: right;\">\n",
       "      <th></th>\n",
       "      <th>post_type</th>\n",
       "      <th>count</th>\n",
       "      <th>weight</th>\n",
       "    </tr>\n",
       "  </thead>\n",
       "  <tbody>\n",
       "    <tr>\n",
       "      <th>0</th>\n",
       "      <td>fov</td>\n",
       "      <td>1</td>\n",
       "      <td>1</td>\n",
       "    </tr>\n",
       "    <tr>\n",
       "      <th>1</th>\n",
       "      <td>lg</td>\n",
       "      <td>7</td>\n",
       "      <td>26</td>\n",
       "    </tr>\n",
       "    <tr>\n",
       "      <th>2</th>\n",
       "      <td>tsd</td>\n",
       "      <td>1</td>\n",
       "      <td>1</td>\n",
       "    </tr>\n",
       "    <tr>\n",
       "      <th>3</th>\n",
       "      <td>uk</td>\n",
       "      <td>1</td>\n",
       "      <td>1</td>\n",
       "    </tr>\n",
       "  </tbody>\n",
       "</table>\n",
       "</div>"
      ],
      "text/plain": [
       "  post_type  count  weight\n",
       "0       fov      1       1\n",
       "1        lg      7      26\n",
       "2       tsd      1       1\n",
       "3        uk      1       1"
      ]
     },
     "execution_count": 39,
     "metadata": {},
     "output_type": "execute_result"
    }
   ],
   "source": [
    "df = df_syn_post[df_syn_post['pre']==focal_cell_id][['post','post_type']].value_counts().reset_index(name='weight')\n",
    "\n",
    "df.groupby('post_type').agg({'post_type': 'count', 'weight': 'sum'}).rename(columns={'post_type': 'count'}).reset_index()"
   ]
  },
  {
   "cell_type": "code",
   "execution_count": 116,
   "id": "3eca5270-5066-4a54-8db2-6ed06d064180",
   "metadata": {},
   "outputs": [
    {
     "data": {
      "text/html": [
       "<div>\n",
       "<style scoped>\n",
       "    .dataframe tbody tr th:only-of-type {\n",
       "        vertical-align: middle;\n",
       "    }\n",
       "\n",
       "    .dataframe tbody tr th {\n",
       "        vertical-align: top;\n",
       "    }\n",
       "\n",
       "    .dataframe thead th {\n",
       "        text-align: right;\n",
       "    }\n",
       "</style>\n",
       "<table border=\"1\" class=\"dataframe\">\n",
       "  <thead>\n",
       "    <tr style=\"text-align: right;\">\n",
       "      <th></th>\n",
       "      <th>post</th>\n",
       "      <th>post_type</th>\n",
       "      <th>weight</th>\n",
       "    </tr>\n",
       "  </thead>\n",
       "  <tbody>\n",
       "    <tr>\n",
       "      <th>0</th>\n",
       "      <td>300474334</td>\n",
       "      <td>lg</td>\n",
       "      <td>17</td>\n",
       "    </tr>\n",
       "    <tr>\n",
       "      <th>1</th>\n",
       "      <td>128770984</td>\n",
       "      <td>lg</td>\n",
       "      <td>15</td>\n",
       "    </tr>\n",
       "    <tr>\n",
       "      <th>2</th>\n",
       "      <td>301727988</td>\n",
       "      <td>lg</td>\n",
       "      <td>10</td>\n",
       "    </tr>\n",
       "    <tr>\n",
       "      <th>3</th>\n",
       "      <td>42968640</td>\n",
       "      <td>fov</td>\n",
       "      <td>8</td>\n",
       "    </tr>\n",
       "    <tr>\n",
       "      <th>4</th>\n",
       "      <td>47378810</td>\n",
       "      <td>fov</td>\n",
       "      <td>6</td>\n",
       "    </tr>\n",
       "  </tbody>\n",
       "</table>\n",
       "</div>"
      ],
      "text/plain": [
       "        post post_type  weight\n",
       "0  300474334        lg      17\n",
       "1  128770984        lg      15\n",
       "2  301727988        lg      10\n",
       "3   42968640       fov       8\n",
       "4   47378810       fov       6"
      ]
     },
     "execution_count": 116,
     "metadata": {},
     "output_type": "execute_result"
    }
   ],
   "source": [
    "df_syn_post[df_syn_post['pre']==focal_cell_id][['post','post_type']].value_counts().reset_index(name='weight').head()\n"
   ]
  },
  {
   "cell_type": "markdown",
   "id": "d8162683-4433-4b48-8ad3-afd86e1388c3",
   "metadata": {},
   "source": [
    "## synapse annotation colors"
   ]
  },
  {
   "cell_type": "code",
   "execution_count": 64,
   "id": "cf88ff5e-e524-4a3e-8f3e-b6f403f09d27",
   "metadata": {},
   "outputs": [],
   "source": [
    "syn_colors = {\n",
    "    'sgx1':'#996633',\n",
    "    'sgx2':'#996633',\n",
    "    'sg1':'#00ffff',\n",
    "    'sg2':'#ff9900',\n",
    "    'grc-d':'#33cc33',\n",
    "    'grc-s':'#e6e600',\n",
    "    'dml':'#a6a6a6',\n",
    "    'mli':'#a6a6a6',\n",
    "    'mg1':'#0000ff',\n",
    "    'mg2':'#ff0000',\n",
    "    'lg':'#ff00ff',\n",
    "    'lf':'#ff00ff',\n",
    "    'aff':'#ffffff'\n",
    "}"
   ]
  },
  {
   "cell_type": "markdown",
   "id": "b4516fb7-f15f-4c77-a22d-2ef36889ae47",
   "metadata": {},
   "source": [
    "## presynaptic"
   ]
  },
  {
   "cell_type": "code",
   "execution_count": 65,
   "id": "dac8b5ee-a59e-4071-b04a-41c57f62efd5",
   "metadata": {},
   "outputs": [
    {
     "data": {
      "text/plain": [
       "array(['fov', 'grc-d', 'uk', 'sg2', 'sgx2', 'mg2', 'lg', 'mli', 'grc-s',\n",
       "       'pf', 'pe'], dtype=object)"
      ]
     },
     "execution_count": 65,
     "metadata": {},
     "output_type": "execute_result"
    }
   ],
   "source": [
    "df_syn_pre[df_syn_pre['pre']==focal_cell_id]['post_type'].dropna().unique()"
   ]
  },
  {
   "cell_type": "code",
   "execution_count": 78,
   "id": "a5999673-b5aa-49dc-b5cb-a332fd8daf0e",
   "metadata": {},
   "outputs": [],
   "source": [
    "\n",
    "for p in df_syn_pre[df_syn_pre['pre']==focal_cell_id]['post_type'].dropna().unique():\n",
    "    with viewer.txn(overwrite=True) as s:\n",
    "        s.layers[p + '_pre'] = neuroglancer.AnnotationLayer()\n",
    "        try:\n",
    "            s.layers[p + '_pre'].annotationColor = syn_colors[p]\n",
    "        except:\n",
    "            s.layers[p + '_pre'].annotationColor = '#000000'\n",
    "\n",
    "# with viewer.txn(overwrite=True) as s:\n",
    "        for pos, point in df_syn_pre[(df_syn_pre['pre']==focal_cell_id) & (df_syn_pre['post_type']==p)].dropna().iterrows():\n",
    "            point_array = array([point[x]/vx_sizes[i] for i,x in zip(range(3),['x','y','z'])])# array([int(point[x]/vx_sizes[i]) for i,x in enumerate(['x','y','z'])])\n",
    "            point_id = f'{p}_{pos}'\n",
    "            # print(point_array)\n",
    "\n",
    "            pa = neuroglancer.PointAnnotation(id=point_id, point = point_array)\n",
    "            s.layers[p + '_pre'].annotations.append(pa)   \n",
    "    sleep(1)"
   ]
  },
  {
   "cell_type": "code",
   "execution_count": 35,
   "id": "529b4b68-0d73-42df-b949-418ffd909e43",
   "metadata": {},
   "outputs": [],
   "source": [
    "lname = 'reciprocal_pre'\n",
    "with viewer.txn(overwrite=True) as s:\n",
    "    s.layers[lname] = neuroglancer.AnnotationLayer()\n",
    "    s.layers[lname].annotationColor = '#ff0000'\n",
    "    \n",
    "    for pos, point in df_syn_pre[df_syn_pre['pre']==focal_cell_id].dropna().iterrows():\n",
    "        if point['post'] in df_syn_post[df_syn_post['pre']==focal_cell_id]['post'].dropna().unique():\n",
    "            point_array = array([point[x] for x in ['x','y','z']]) #array([int(point[x]/vx_sizes[i]) for i,x in enumerate(['x','y','z'])])\n",
    "            point_id = f'{point[\"post_type\"]}_{pos}'\n",
    "            # print(point_array)\n",
    "\n",
    "            pa = neuroglancer.PointAnnotation(id=point_id, point = point_array)\n",
    "            s.layers[lname].annotations.append(pa)    "
   ]
  },
  {
   "cell_type": "markdown",
   "id": "876c5939-d460-45c4-a8ed-d09fd7202c47",
   "metadata": {},
   "source": [
    "Make a base segment layer for all segments not reconstructed yet (as long as all file sizes are small)"
   ]
  },
  {
   "cell_type": "code",
   "execution_count": 19,
   "id": "fd40dfa6-74f7-4913-9126-8a1bf526ce85",
   "metadata": {},
   "outputs": [],
   "source": [
    "lname = 'todo'\n",
    "create_baseseg_layer(viewer, base_seg, lname, objectAlpha = 0.5)\n",
    "\n",
    "dirpath = Path(settings_dict['save_dir']) / 'kp/385434515_sg2_premg_presyn'# mg1_299496636' #mg2_214581797' #\n",
    "\n",
    "nodefiles = dict()\n",
    "for child in sorted(dirpath.iterdir()):\n",
    "    if (child.name[0]!='.') & (child.is_file()):\n",
    "        nodefiles[child.name.split('_')[2]] = child"
   ]
  },
  {
   "cell_type": "code",
   "execution_count": 20,
   "id": "dc0b794e-1660-4ae2-b4ce-5d0ed2526f73",
   "metadata": {},
   "outputs": [
    {
     "data": {
      "text/plain": [
       "39"
      ]
     },
     "execution_count": 20,
     "metadata": {},
     "output_type": "execute_result"
    }
   ],
   "source": [
    "len(nodefiles)"
   ]
  },
  {
   "cell_type": "code",
   "execution_count": 21,
   "id": "622332e4-c2f1-4de6-93f0-356aa1f0436a",
   "metadata": {},
   "outputs": [],
   "source": [
    "todo_segs = []\n",
    "\n",
    "for f in nodefiles.values():\n",
    "    todo_cell = ecrest(settings_dict,filepath = f, launch_viewer=False)\n",
    "    todo_segs.extend([a for b in todo_cell.cell_data['base_segments'].values() for a in b])\n",
    "    \n",
    "with viewer.txn(overwrite=True) as s:\n",
    "    # for dtype in todo_cell.cell_data['base_segments'].keys():\n",
    "    for bs in todo_segs:#[a for b in todo_cell.cell_data['base_segments'].values() for a in b]: #todo_cell.cell_data['base_segments'][dtype]:\n",
    "        s.layers[lname].segments.add(int(bs))\n",
    "        s.layers[lname].segment_colors[int(bs)] = '#ff0000' #structure_colors[dtype] # blue"
   ]
  },
  {
   "cell_type": "code",
   "execution_count": 25,
   "id": "c740288a-7478-49c6-84a2-fe103d0d4e92",
   "metadata": {},
   "outputs": [
    {
     "data": {
      "text/plain": [
       "344"
      ]
     },
     "execution_count": 25,
     "metadata": {},
     "output_type": "execute_result"
    }
   ],
   "source": [
    "len(todo_segs)"
   ]
  },
  {
   "cell_type": "markdown",
   "id": "1c71e97c-1ca0-43c6-923a-60e0374d06e9",
   "metadata": {},
   "source": [
    "## postsynaptic"
   ]
  },
  {
   "cell_type": "code",
   "execution_count": 19,
   "id": "1d540ca3-52bc-48cf-8625-f3b34e851cd7",
   "metadata": {},
   "outputs": [
    {
     "data": {
      "text/plain": [
       "array(['mg2', 'sg2', 'lf', 'mg1', 'uk', 'sg1', 'dml', 'tsd', 'lg', 'fov'],\n",
       "      dtype=object)"
      ]
     },
     "execution_count": 19,
     "metadata": {},
     "output_type": "execute_result"
    }
   ],
   "source": [
    "df_syn_post[df_syn_post['pre']==focal_cell_id]['post_type'].unique()"
   ]
  },
  {
   "cell_type": "code",
   "execution_count": null,
   "id": "a00a2180-5060-4a6d-aba5-28447063298a",
   "metadata": {},
   "outputs": [],
   "source": [
    "\n",
    "for p in df_syn_post[df_syn_post['pre']==focal_cell_id]['post_type'].dropna().unique():\n",
    "    with viewer.txn(overwrite=True) as s:\n",
    "        s.layers[p + '_post'] = neuroglancer.AnnotationLayer()\n",
    "        try:\n",
    "            s.layers[p + '_post'].annotationColor = syn_colors[p]\n",
    "        except:\n",
    "            s.layers[p + '_post'].annotationColor = '#000000'\n",
    "\n",
    "# point_type = 'post-synaptic'\n",
    "with viewer.txn(overwrite=True) as s:\n",
    "    for pos, point in df_syn_post[df_syn_post['pre']==focal_cell_id].iterrows():\n",
    "        \n",
    "        point_array = array([point[x]/vx_sizes[i] for i,x in zip(range(3),['x','y','z'])])  #array([point[x] for x in ['x','y','z']]) #\n",
    "        point_id = f'{point[\"post_type\"]}_{pos}'\n",
    "\n",
    "        pa = neuroglancer.PointAnnotation(id=point_id, point = point_array)\n",
    "        s.layers[point[\"post_type\"] + '_post'].annotations.append(pa)    \n",
    "        # print(pa)"
   ]
  },
  {
   "cell_type": "code",
   "execution_count": 586,
   "id": "1bfe7424-6a3c-45eb-9a94-e0c54a3486d2",
   "metadata": {},
   "outputs": [],
   "source": [
    "lname = 'reciprocal_post'\n",
    "with viewer.txn(overwrite=True) as s:\n",
    "    s.layers[lname] = neuroglancer.AnnotationLayer()\n",
    "    s.layers[lname].annotationColor = '#ff0000'\n",
    "    \n",
    "    for pos, point in df_syn_post[df_syn_post['pre']==focal_cell_id].iterrows():\n",
    "        if point['post'] in df_syn_pre[df_syn_pre['pre']==focal_cell_id]['post'].unique():\n",
    "            point_array = array([point[x] for x in ['x','y','z']]) #array([int(point[x]/vx_sizes[i]) for i,x in enumerate(['x','y','z'])])\n",
    "            point_id = f'{point[\"post_type\"]}_{pos}'\n",
    "            # print(point_array)\n",
    "\n",
    "            pa = neuroglancer.PointAnnotation(id=point_id, point = point_array)\n",
    "            s.layers[lname].annotations.append(pa)    \n",
    "            \n",
    "        if point['post'] in df_syn_post[df_syn_post['post']==focal_cell_id]['pre'].unique():\n",
    "            point_array = array([point[x] for x in ['x','y','z']]) #array([int(point[x]/vx_sizes[i]) for i,x in enumerate(['x','y','z'])])\n",
    "            point_id = f'{point[\"post_type\"]}_{pos}'\n",
    "            # print(point_array)\n",
    "\n",
    "            pa = neuroglancer.PointAnnotation(id=point_id, point = point_array)\n",
    "            s.layers[lname].annotations.append(pa)    "
   ]
  },
  {
   "cell_type": "markdown",
   "id": "3386ea13-5f31-4d8e-a7df-7ac7c28002f3",
   "metadata": {},
   "source": [
    "## Find segment in network"
   ]
  },
  {
   "cell_type": "code",
   "execution_count": 40,
   "id": "ae1a5c6b-3b42-4c4a-933b-01bd326c3544",
   "metadata": {},
   "outputs": [],
   "source": [
    "nodefiles = dict()\n",
    "for child in sorted(dirpath.iterdir()):\n",
    "    if (child.name[0]!='.') & (child.is_file()):\n",
    "        nodefiles[child.name.split('_')[2]] = child\n",
    "                    "
   ]
  },
  {
   "cell_type": "code",
   "execution_count": 41,
   "id": "e7458a5e-2e88-4022-a24f-5bd313a5614e",
   "metadata": {},
   "outputs": [],
   "source": [
    "crest = ecrest(settings_dict,launch_viewer=False)\n",
    "base_segments = crest.get_base_segments_dict(Path(dirpath))"
   ]
  },
  {
   "cell_type": "code",
   "execution_count": 42,
   "id": "de7c8ed6-6ca2-405f-a496-4b109fae4cb3",
   "metadata": {},
   "outputs": [
    {
     "data": {
      "text/plain": [
       "['128813171']"
      ]
     },
     "execution_count": 42,
     "metadata": {},
     "output_type": "execute_result"
    }
   ],
   "source": [
    "segid_to_find = '41811495'\n",
    "[k for k,v in base_segments.items() if segid_to_find in v]"
   ]
  },
  {
   "cell_type": "code",
   "execution_count": 36,
   "id": "59effe55-6fb7-4f62-ad59-c31266ce5400",
   "metadata": {},
   "outputs": [
    {
     "name": "stdout",
     "output_type": "stream",
     "text": [
      "updating viewer status message: Current Base Segment Counts: unknown: 248, axon: 28, basal dendrite: 58, apical dendrite: 13, dendrite: 0, multiple: 0\n"
     ]
    }
   ],
   "source": [
    "c_id = '136801845'\n",
    "cell = ecrest(settings_dict,filepath = dirpath / nodefiles[c_id], launch_viewer=True)"
   ]
  },
  {
   "cell_type": "code",
   "execution_count": 37,
   "id": "c0d8daa2-4f67-4248-8057-61b1f99ade8f",
   "metadata": {},
   "outputs": [
    {
     "data": {
      "text/plain": [
       "{'main_seg': {'agglo': {'brainmaps://10393113184:ell:roi450um_seg32fb16fb_220930:v230111c_16_strict_only_spl': '220385169'},\n",
       "  'base': '136801845'},\n",
       " 'data_sources': {'em': 'brainmaps://10393113184:ell:roi450um_xyz',\n",
       "  'base': 'brainmaps://10393113184:ell:roi450um_seg32fb16fb_220930',\n",
       "  'agglo': 'brainmaps://10393113184:ell:roi450um_seg32fb16fb_220930:v230111c_16_strict_only_spl'},\n",
       " 'timing': [1.6637643178304036e-05, 4.5664907693862915, 0.6177784522374471],\n",
       " 'completion': [],\n",
       " 'cell-type': {'manual': 'grc-d', 'auto': []},\n",
       " 'old-anchor': ['221514452', '136801534']}"
      ]
     },
     "execution_count": 37,
     "metadata": {},
     "output_type": "execute_result"
    }
   ],
   "source": [
    "cell.cell_data['metadata']"
   ]
  },
  {
   "cell_type": "code",
   "execution_count": 28,
   "id": "d28a698d-3e1a-4648-b22a-e0e59d7a44fe",
   "metadata": {},
   "outputs": [],
   "source": [
    "cell.add_endpoint_annotation_layers(['soma'])"
   ]
  },
  {
   "cell_type": "code",
   "execution_count": 38,
   "id": "2cb9f7c4-b850-4e71-af25-500baab15ddb",
   "metadata": {},
   "outputs": [
    {
     "data": {
      "text/plain": [
       "'grc-d'"
      ]
     },
     "execution_count": 38,
     "metadata": {},
     "output_type": "execute_result"
    }
   ],
   "source": [
    "cell.get_ctype('manual')"
   ]
  },
  {
   "cell_type": "code",
   "execution_count": 39,
   "id": "0c0399f5-1fac-4f34-91ec-682baccd15e6",
   "metadata": {},
   "outputs": [
    {
     "name": "stdout",
     "output_type": "stream",
     "text": [
      "Saved cell 136801845 reconstruction locally at 2023-09-25 20.30.01\n"
     ]
    }
   ],
   "source": [
    "cell.save_cell_graph()"
   ]
  },
  {
   "cell_type": "markdown",
   "id": "6275aff8-25cb-498a-af58-b5688cebf2f2",
   "metadata": {},
   "source": [
    "## Add other cells to visualization\n"
   ]
  },
  {
   "cell_type": "code",
   "execution_count": 48,
   "id": "46dffa07-c37d-4744-98da-a452bb12010b",
   "metadata": {},
   "outputs": [],
   "source": [
    "# cells_to_add =['558238428','558189118','128708970','214627855','213699579','386470356']\n",
    "# cells_to_add = ['127672247','386409916','386488569','473336431','388914881','47194079']\n",
    "# cells_to_add =  ['214581797','299496636','301787806','393325331']\n",
    "# cells_to_add =  ['216977942', '219161561', '305020954', '305051491', '306242528',\n",
    "#        '389812730', '392042360', '45120720', '565013265']\n",
    "# cells_to_add = ['310839225',\n",
    "#  '397827768',\n",
    "#  '568543816',\n",
    "#  '568525178',\n",
    "#  '567365263',\n",
    "#  '481507678',\n",
    "#  '481505952',\n",
    "#  '396744989',\n",
    "#  '567364173',\n",
    "#  '481489597']\n",
    "# cells_to_add = ['301787806','393325331'] # lg and lf example pre cells\n",
    "# cells_to_add = ['299496636','214581797'] #mg1 and mg2 example pre cells\n",
    "cells_to_add = ['290280494', '385234105', '457217192', '383050900', '559257305',\n",
    "       '473274862'] # mlis have syn for"
   ]
  },
  {
   "cell_type": "code",
   "execution_count": 88,
   "id": "b7219b71-1623-44f3-82b7-e3aef5ddb070",
   "metadata": {},
   "outputs": [
    {
     "name": "stdout",
     "output_type": "stream",
     "text": [
      "62\n"
     ]
    },
    {
     "data": {
      "text/plain": [
       "['127564518',\n",
       " '126417773',\n",
       " '214599116',\n",
       " '39240401',\n",
       " '479093739',\n",
       " '49669732',\n",
       " '49637513',\n",
       " '49683939',\n",
       " '49671528',\n",
       " '43912525',\n",
       " '49762763',\n",
       " '49761246',\n",
       " '49763399',\n",
       " '49745916',\n",
       " '565077044',\n",
       " '650998764',\n",
       " '648708832',\n",
       " '45243261',\n",
       " '136829335',\n",
       " '48693765',\n",
       " '47517717',\n",
       " '46372702',\n",
       " '44051682',\n",
       " '49807644',\n",
       " '48635578',\n",
       " '46388119',\n",
       " '651924541',\n",
       " '50705118',\n",
       " '50705123',\n",
       " '50705280',\n",
       " '50705113',\n",
       " '48415135',\n",
       " '49591028',\n",
       " '50627691',\n",
       " '480114002',\n",
       " '478967935',\n",
       " '651802315',\n",
       " '564721106',\n",
       " '651787747',\n",
       " '651788071',\n",
       " '651786103',\n",
       " '651786747',\n",
       " '651786836',\n",
       " '651772620',\n",
       " '651787755',\n",
       " '651787817',\n",
       " '646124613',\n",
       " '651756459',\n",
       " '646032023',\n",
       " '649482269',\n",
       " '650596471',\n",
       " '646169108',\n",
       " '646154095',\n",
       " '648538255',\n",
       " '643912426',\n",
       " '645087098',\n",
       " '648585121',\n",
       " '649730667',\n",
       " '648569614',\n",
       " '649745732',\n",
       " '650828721',\n",
       " '649698441']"
      ]
     },
     "execution_count": 88,
     "metadata": {},
     "output_type": "execute_result"
    }
   ],
   "source": [
    "p = ['fov']\n",
    "df = df_syn_pre\n",
    "cells_to_add = df[(df['pre']==focal_cell_id) & (df['post_type'].isin(p))]['post'].unique()#\n",
    "cells_to_add = [str(c) for c in cells_to_add]\n",
    "print(len(cells_to_add))\n",
    "cells_to_add#[0:20]"
   ]
  },
  {
   "cell_type": "code",
   "execution_count": null,
   "id": "d37424d1-5ea3-4fde-a6ea-2551e71b7708",
   "metadata": {},
   "outputs": [],
   "source": []
  },
  {
   "cell_type": "code",
   "execution_count": 39,
   "id": "5b084d0f-6565-4e44-b7f8-f10316071660",
   "metadata": {},
   "outputs": [],
   "source": [
    "color_structure = {'axon':'#008000','basal dendrite':'#cd4b00','apical dendrite':'#ff8000','unknown':'#d2b48c','multiple':'#9c661f','dendrite':'#ffff00'}\n",
    "segs_to_add = {}\n",
    "cell_types = {}\n",
    "for c_id in cells_to_add[0:20]: #random.sample(cells_to_add,k=10):\n",
    "    cell = ecrest(settings_dict,filepath = dirpath / nodefiles[c_id], launch_viewer=False)\n",
    "    segs_to_add[c_id] = cell.cell_data['base_segments'] #[a for b in cell.cell_data['base_segments'].values() for a in b]\n",
    "    cell_types[c_id]=cell.get_ctype('manual')\n",
    "\n",
    "# each cell to a different tab    \n",
    "for c_id in segs_to_add:\n",
    "    lname = c_id + '_' + cell_types[c_id]#cell.get_ctype('manual')\n",
    "    create_baseseg_layer(viewer, base_seg, lname, objectAlpha = 1)\n",
    "    with viewer.txn(overwrite=True) as s:\n",
    "        for dtype,keys in segs_to_add[c_id].items(): #segs_to_add[c_id]:\n",
    "            # if dtype == 'apical dendrite':\n",
    "            for bs in keys: \n",
    "                s.layers[lname].segments.add(int(bs))\n",
    "                s.layers[lname].segment_colors[int(bs)] = color_structure[dtype] # syn_colors[cell_types[c_id]]# #'#996633' #structure_colors[dtype] # blue\n",
    "    sleep(2)"
   ]
  },
  {
   "cell_type": "code",
   "execution_count": 77,
   "id": "5320a7dc-4f54-48f0-8af2-ff3a230faab0",
   "metadata": {},
   "outputs": [],
   "source": [
    "color_structure = {'axon':'#008000','basal dendrite':'#cd4b00','apical dendrite':'#ff8000','unknown':'#d2b48c','multiple':'#9c661f','dendrite':'#ffff00'}\n",
    "segs_to_add = {}\n",
    "cell_types = {}\n",
    "for c_id in cells_to_add: #random.sample(cells_to_add,k=10):\n",
    "    cell = ecrest(settings_dict,filepath = dirpath / nodefiles[c_id], launch_viewer=False)\n",
    "    segs_to_add[c_id] = cell.cell_data['base_segments'] #[a for b in cell.cell_data['base_segments'].values() for a in b]\n",
    "    cell_types[c_id]=cell.get_ctype('manual')\n",
    "\n",
    "# each cell to a different tab    \n",
    "for c_id in segs_to_add:\n",
    "    lname = c_id + '_' + cell_types[c_id]\n",
    "    create_baseseg_layer(viewer, base_seg, lname, objectAlpha = 1)\n",
    "    with viewer.txn(overwrite=True) as s:\n",
    "        for dtype,keys in segs_to_add[c_id].items(): #segs_to_add[c_id]:\n",
    "            # if dtype in ['apical dendrite']:\n",
    "            for bs in keys: \n",
    "                s.layers[lname].segments.add(int(bs))\n",
    "                s.layers[lname].segment_colors[int(bs)] = '#000000' #color_structure[dtype]#'#996633' #structure_colors[dtype] # blue\n",
    "    sleep(2)"
   ]
  },
  {
   "cell_type": "code",
   "execution_count": 44,
   "id": "2c8c15c1-a4c6-4561-915c-46537dba80f4",
   "metadata": {},
   "outputs": [],
   "source": [
    "# all cells to same tab\n",
    "lname = 'cells added'\n",
    "create_baseseg_layer(viewer, base_seg, lname, objectAlpha = 1)#0.5)\n",
    "for c_id in segs_to_add:\n",
    "    # lname = c_id #+ '_' + cell.get_ctype('manual')\n",
    "    # create_baseseg_layer(viewer, base_seg, lname, objectAlpha = 1)#0.5)\n",
    "    with viewer.txn(overwrite=True) as s:\n",
    "        for dtype,keys in segs_to_add[c_id].items(): #segs_to_add[c_id]:\n",
    "            for bs in keys: \n",
    "                    s.layers[lname].segments.add(int(bs))\n",
    "                    s.layers[lname].segment_colors[int(bs)] = '#000000' #color_structure[dtype]#'#996633' #structure_colors[dtype] # blue\n",
    "    sleep(2)"
   ]
  },
  {
   "cell_type": "markdown",
   "id": "25e2891b-1de6-46ed-ab86-215d390ba861",
   "metadata": {},
   "source": [
    "### cell type change"
   ]
  },
  {
   "cell_type": "code",
   "execution_count": null,
   "id": "4cc9c386-049d-466b-8ffe-a0389bfd4969",
   "metadata": {},
   "outputs": [],
   "source": [
    "[, '', '', '', '', '']"
   ]
  },
  {
   "cell_type": "code",
   "execution_count": 217,
   "id": "fcac3ca1-52a8-4314-a843-5600dfbc1a6c",
   "metadata": {},
   "outputs": [
    {
     "name": "stdout",
     "output_type": "stream",
     "text": [
      "Saved cell 485096532 reconstruction locally at 2023-09-01 09.58.50\n"
     ]
    }
   ],
   "source": [
    "c_id = '485096532'\n",
    "cell_type = 'lf'\n",
    "\n",
    "filepath = nodefiles[c_id]\n",
    "crest = ecrest(settings_dict,filepath= filepath, launch_viewer=False)\n",
    "\n",
    "method = 'manual' # define which method you are using (manual or auto)\n",
    "crest.define_ctype(cell_type,method)\n",
    "\n",
    "crest.save_cell_graph(directory_path = Path(settings_dict['save_dir']), file_name = nodefiles[c_id])"
   ]
  },
  {
   "cell_type": "markdown",
   "id": "3e82b6a7-b6b0-45c8-b262-e69720ca578d",
   "metadata": {},
   "source": [
    "# Visualize Soma locations by annotation"
   ]
  },
  {
   "cell_type": "code",
   "execution_count": 6,
   "id": "73bbb617-f641-4c1e-8e53-d68fdec0299e",
   "metadata": {},
   "outputs": [],
   "source": [
    "path_to_settings_json = '/Users/kperks/Documents/ell-connectome/eCREST-local-files/settings_dict.json'\n",
    "settings_dict = import_settings(path_to_settings_json)\n",
    "\n",
    "dirpath = Path(settings_dict['save_dir'])\n",
    "\n",
    "nodefiles = dict()\n",
    "for child in sorted(dirpath.iterdir()):\n",
    "    if (child.name[0]!='.') & (child.is_file()):\n",
    "        nodefiles[child.name.split('_')[2]] = child\n"
   ]
  },
  {
   "cell_type": "code",
   "execution_count": 15,
   "id": "a42eb497-423e-444b-affb-bab532a6c00d",
   "metadata": {},
   "outputs": [],
   "source": [
    "soma_diam = {}\n",
    "soma_loc = {}\n",
    "cell_type = {}\n",
    "for x,f in nodefiles.items():\n",
    "    cell = ecrest(settings_dict,filepath = f,launch_viewer=False)\n",
    "    \n",
    "    \n",
    "    if 'soma' in cell.cell_data['end_points'].keys():\n",
    "        if cell.cell_data['end_points']['soma']!= []:\n",
    "            soma_anno = cell.cell_data['end_points']['soma']\n",
    "            xpts = [p[0][0] for p in soma_anno]\n",
    "            ypts = [p[0][1] for p in soma_anno]\n",
    "            zpts = [p[0][2] for p in soma_anno]\n",
    "\n",
    "            soma_diam[x] = np.mean([int((np.max(xpts)-np.min(xpts))/16),int((np.max(zpts)-np.min(zpts))/16)])/100\n",
    "\n",
    "            soma_loc[x] = [np.mean(xpts)/16,np.mean(ypts)/16,np.mean(zpts)/30]\n",
    "\n",
    "            cell_type[x] = cell.get_ctype('manual') "
   ]
  },
  {
   "cell_type": "code",
   "execution_count": 16,
   "id": "ef921602-1576-4a01-8482-5e3ba69d9789",
   "metadata": {},
   "outputs": [],
   "source": [
    "df_loc = pd.DataFrame(soma_loc).T\n",
    "df_loc.columns=['x','y','z']\n",
    "\n",
    "dict_list = [soma_diam, cell_type]\n",
    "\n",
    "dfs = [pd.DataFrame(d.values()) for d in dict_list]\n",
    "\n",
    "df_ = pd.concat(dfs, axis=1)\n",
    "\n",
    "df_.columns = ['soma_diam','cell_type']\n",
    "df_.index = soma_diam.keys()\n",
    "\n",
    "df_soma = pd.concat([df_,df_loc],axis=1)"
   ]
  },
  {
   "cell_type": "code",
   "execution_count": 17,
   "id": "8c797c30-0407-43ca-96f3-98c350fafb97",
   "metadata": {},
   "outputs": [
    {
     "data": {
      "text/html": [
       "<div>\n",
       "<style scoped>\n",
       "    .dataframe tbody tr th:only-of-type {\n",
       "        vertical-align: middle;\n",
       "    }\n",
       "\n",
       "    .dataframe tbody tr th {\n",
       "        vertical-align: top;\n",
       "    }\n",
       "\n",
       "    .dataframe thead th {\n",
       "        text-align: right;\n",
       "    }\n",
       "</style>\n",
       "<table border=\"1\" class=\"dataframe\">\n",
       "  <thead>\n",
       "    <tr style=\"text-align: right;\">\n",
       "      <th></th>\n",
       "      <th>soma_diam</th>\n",
       "      <th>cell_type</th>\n",
       "      <th>x</th>\n",
       "      <th>y</th>\n",
       "      <th>z</th>\n",
       "    </tr>\n",
       "  </thead>\n",
       "  <tbody>\n",
       "    <tr>\n",
       "      <th>109502641</th>\n",
       "      <td>3.620</td>\n",
       "      <td>mli</td>\n",
       "      <td>20908.000000</td>\n",
       "      <td>9104.750000</td>\n",
       "      <td>504.500000</td>\n",
       "    </tr>\n",
       "    <tr>\n",
       "      <th>111485407</th>\n",
       "      <td>3.840</td>\n",
       "      <td>mli</td>\n",
       "      <td>12003.174316</td>\n",
       "      <td>9938.935303</td>\n",
       "      <td>629.942612</td>\n",
       "    </tr>\n",
       "    <tr>\n",
       "      <th>112695037</th>\n",
       "      <td>3.865</td>\n",
       "      <td>mli</td>\n",
       "      <td>13916.340576</td>\n",
       "      <td>10285.098633</td>\n",
       "      <td>818.555222</td>\n",
       "    </tr>\n",
       "    <tr>\n",
       "      <th>114085246</th>\n",
       "      <td>3.425</td>\n",
       "      <td>mli</td>\n",
       "      <td>20845.193359</td>\n",
       "      <td>10853.154053</td>\n",
       "      <td>651.634033</td>\n",
       "    </tr>\n",
       "    <tr>\n",
       "      <th>117519746</th>\n",
       "      <td>3.770</td>\n",
       "      <td>mli</td>\n",
       "      <td>20697.667969</td>\n",
       "      <td>11892.386230</td>\n",
       "      <td>629.224121</td>\n",
       "    </tr>\n",
       "    <tr>\n",
       "      <th>...</th>\n",
       "      <td>...</td>\n",
       "      <td>...</td>\n",
       "      <td>...</td>\n",
       "      <td>...</td>\n",
       "      <td>...</td>\n",
       "    </tr>\n",
       "    <tr>\n",
       "      <th>653520339</th>\n",
       "      <td>7.520</td>\n",
       "      <td>lf</td>\n",
       "      <td>24809.000000</td>\n",
       "      <td>20159.333333</td>\n",
       "      <td>3354.333333</td>\n",
       "    </tr>\n",
       "    <tr>\n",
       "      <th>655220273</th>\n",
       "      <td>4.920</td>\n",
       "      <td>uk</td>\n",
       "      <td>8018.500000</td>\n",
       "      <td>21142.750000</td>\n",
       "      <td>3124.750000</td>\n",
       "    </tr>\n",
       "    <tr>\n",
       "      <th>655670854</th>\n",
       "      <td>4.135</td>\n",
       "      <td>grc-d</td>\n",
       "      <td>20957.982422</td>\n",
       "      <td>20718.627441</td>\n",
       "      <td>3382.194519</td>\n",
       "    </tr>\n",
       "    <tr>\n",
       "      <th>657791522</th>\n",
       "      <td>4.255</td>\n",
       "      <td>uk</td>\n",
       "      <td>16336.944987</td>\n",
       "      <td>21851.411458</td>\n",
       "      <td>3433.261556</td>\n",
       "    </tr>\n",
       "    <tr>\n",
       "      <th>657977227</th>\n",
       "      <td>3.850</td>\n",
       "      <td>uk</td>\n",
       "      <td>21573.487630</td>\n",
       "      <td>21849.511068</td>\n",
       "      <td>3465.982015</td>\n",
       "    </tr>\n",
       "  </tbody>\n",
       "</table>\n",
       "<p>1046 rows × 5 columns</p>\n",
       "</div>"
      ],
      "text/plain": [
       "           soma_diam cell_type             x             y            z\n",
       "109502641      3.620       mli  20908.000000   9104.750000   504.500000\n",
       "111485407      3.840       mli  12003.174316   9938.935303   629.942612\n",
       "112695037      3.865       mli  13916.340576  10285.098633   818.555222\n",
       "114085246      3.425       mli  20845.193359  10853.154053   651.634033\n",
       "117519746      3.770       mli  20697.667969  11892.386230   629.224121\n",
       "...              ...       ...           ...           ...          ...\n",
       "653520339      7.520        lf  24809.000000  20159.333333  3354.333333\n",
       "655220273      4.920        uk   8018.500000  21142.750000  3124.750000\n",
       "655670854      4.135     grc-d  20957.982422  20718.627441  3382.194519\n",
       "657791522      4.255        uk  16336.944987  21851.411458  3433.261556\n",
       "657977227      3.850        uk  21573.487630  21849.511068  3465.982015\n",
       "\n",
       "[1046 rows x 5 columns]"
      ]
     },
     "execution_count": 17,
     "metadata": {},
     "output_type": "execute_result"
    }
   ],
   "source": [
    "df_soma"
   ]
  },
  {
   "cell_type": "code",
   "execution_count": 18,
   "id": "0fd38a12-e083-4abe-b325-512bf8bcf757",
   "metadata": {},
   "outputs": [
    {
     "data": {
      "image/png": "[encoded data removed]",
      "text/plain": [
       "<Figure size 1000x800 with 1 Axes>"
      ]
     },
     "metadata": {},
     "output_type": "display_data"
    }
   ],
   "source": [
    "hfig,ax = plt.subplots(1,figsize=(10,8))\n",
    "sns.scatterplot(data=df_soma,x='x',y='y',hue='cell_type',size='soma_diam',alpha = 0.75)\n",
    "for y_ in [22000, 19500, 17650, 15700]:\n",
    "    ax.axhline(y=y_,color = 'black',linestyle='--')\n",
    "sns.move_legend(ax, \"upper right\", bbox_to_anchor=(1.3, 1))\n",
    "ax.set_ylim(15000,22500)\n",
    "ax.invert_yaxis()\n"
   ]
  },
  {
   "cell_type": "code",
   "execution_count": 19,
   "id": "2f541077-d010-44f3-8a9b-b7304516beb4",
   "metadata": {},
   "outputs": [
    {
     "data": {
      "image/png": "[encoded data removed]",
      "text/plain": [
       "<Figure size 500x800 with 1 Axes>"
      ]
     },
     "metadata": {},
     "output_type": "display_data"
    }
   ],
   "source": [
    "hfig,ax = plt.subplots(1,figsize=(5,8))\n",
    "sns.scatterplot(data=df_soma,x='z',y='y',hue='cell_type',size='soma_diam',alpha = 0.75)\n",
    "for y_ in [22000, 19500, 17650, 15700]:\n",
    "    ax.axhline(y=y_,color = 'black',linestyle='--')\n",
    "sns.move_legend(ax, \"upper right\", bbox_to_anchor=(1.4, 1))\n",
    "ax.invert_yaxis()"
   ]
  },
  {
   "cell_type": "markdown",
   "id": "ed8fd1b9-5052-4e7b-ba4f-41dfb9eeb208",
   "metadata": {},
   "source": [
    "# vizualize all post-synaptic annotations"
   ]
  },
  {
   "cell_type": "markdown",
   "id": "a1789412-6c60-4f46-b77d-d212b6304446",
   "metadata": {},
   "source": [
    "## color by whether the segment is part of a current reconstrution or not"
   ]
  },
  {
   "cell_type": "code",
   "execution_count": null,
   "id": "76cf1eaa-4fe2-495e-8c5a-39b576d569ca",
   "metadata": {},
   "outputs": [],
   "source": [
    "path_to_settings_json = '/Users/kperks/Documents/ell-connectome/eCREST-local-files/settings_dict.json'\n",
    "settings_dict = import_settings(path_to_settings_json)\n",
    "\n",
    "dirpath = Path(settings_dict['save_dir'])\n",
    "# dirpath = \"/Users/kperks/Documents/gdrive/.shortcut-targets-by-id/16q1BuOMfD2ta0Cwq8CjMlRe4rDvbuWC5/ELL_connectome/CREST_reconstructions/mg-network\"\n",
    "\n",
    "\n",
    "nodefiles = get_cell_filepaths(dirpath)\n",
    "                    \n",
    "all_base_seg = []\n",
    "for x in nodefiles.keys():\n",
    "    cell = ecrest(settings_dict,filepath = nodefiles[x],launch_viewer=False)\n",
    "    all_base_seg.extend([a for b in cell.cell_data['base_segments'].values() for a in b])"
   ]
  },
  {
   "cell_type": "code",
   "execution_count": 144,
   "id": "1b35e386-d39e-4b5b-9447-55c00978f4cb",
   "metadata": {},
   "outputs": [],
   "source": [
    "all_syn = []\n",
    "\n",
    "for x_pre in nodefiles.keys():\n",
    "    pre = ecrest(settings_dict,filepath = nodefiles[x_pre],launch_viewer=False)\n",
    "\n",
    "    # report if the cell is not cell-typed\n",
    "    if (pre.get_ctype('manual') == []) | (pre.get_ctype('manual') == ''):\n",
    "        print(f'cell {x_pre} is not cell-typed in json')\n",
    "    \n",
    "    # check if the cell is an mg cell and if it has post-synaptic segments labeled\n",
    "    if (pre.get_ctype('manual') in ['mg1','mg2']) & (pre.cell_data['end_points']['post-synaptic'] != []):\n",
    "        try:\n",
    "            all_syn.extend(pre.cell_data['end_points']['post-synaptic'])\n",
    "            \n",
    "        except IndexError as msg:\n",
    "                # cellid = x_pre['name']\n",
    "                print(msg, f'for cell {pre.cell_data[\"metadata\"][\"main_seg\"][\"base\"]} -- at least one synapse has no segment id')\n",
    "\n",
    "df = pd.DataFrame(all_syn, columns = ['x','y','z','segid'])\n",
    "\n",
    "syn_missing = set(set(df['segid'].values)).difference(set(all_base_seg))\n",
    "\n",
    "syn_found = set(df['segid'].values).difference(syn_missing)"
   ]
  },
  {
   "cell_type": "code",
   "execution_count": 146,
   "id": "ea807bb4-a324-4fa2-be1c-f8f5ab8177d9",
   "metadata": {},
   "outputs": [],
   "source": [
    "viewer = get_viewer(backgnd_color=\"white\")\n",
    "create_baseseg_layer(viewer, base_seg, 'volume')"
   ]
  },
  {
   "cell_type": "code",
   "execution_count": 148,
   "id": "60b12900-5e14-4c51-b697-7fd0a5cea752",
   "metadata": {},
   "outputs": [],
   "source": [
    "\n",
    "\n",
    "point_type = 'reconstructed'\n",
    "with viewer.txn(overwrite=True) as s:\n",
    "    s.layers[point_type] = neuroglancer.AnnotationLayer()\n",
    "    s.layers[point_type].annotationColor = '#ff0000'\n",
    "    \n",
    "    for pos,r in df[df['segid'].isin(list(syn_found))][['x','y','z']].iterrows():\n",
    "        point = [r[0],r[1],r[2]]\n",
    "    # for pos, point in enumerate(self.cell_data['end_points'][point_type]):\n",
    "        point_array = array([int(point[x]/vx_sizes[x]) for x in range(3)])\n",
    "        point_id = f'{point_type}_{pos}'\n",
    "        pa = neuroglancer.PointAnnotation(id=point_id, point = point_array)\n",
    "        s.layers[point_type].annotations.append(pa)    \n",
    "\n",
    "point_type = 'missing'\n",
    "with viewer.txn(overwrite=True) as s:\n",
    "    s.layers[point_type] = neuroglancer.AnnotationLayer()\n",
    "    s.layers[point_type].annotationColor = '#228b22'\n",
    "\n",
    "    for pos,r in df[df['segid'].isin(list(syn_missing))][['x','y','z']].iterrows():\n",
    "        point = [r[0],r[1],r[2]]\n",
    "    # for pos, point in enumerate(self.cell_data['end_points'][point_type]):\n",
    "        point_array = array([int(point[x]/vx_sizes[x]) for x in range(3)])\n",
    "        point_id = f'{point_type}_{pos}'\n",
    "        pa = neuroglancer.PointAnnotation(id=point_id, point = point_array)\n",
    "        s.layers[point_type].annotations.append(pa)    \n"
   ]
  },
  {
   "cell_type": "markdown",
   "id": "2ca0fa2f-1189-4fd6-9b32-28b0672b5d97",
   "metadata": {},
   "source": [
    "## annotation layers of synapses by cell type"
   ]
  },
  {
   "cell_type": "code",
   "execution_count": 80,
   "id": "a1e65e23-dac9-4d6c-a979-2ce1db1be64e",
   "metadata": {},
   "outputs": [
    {
     "name": "stdout",
     "output_type": "stream",
     "text": [
      "cell 125487414 is not cell-typed in json\n",
      "cell 130919950 is not cell-typed in json\n",
      "cell 302935179 is not cell-typed in json\n"
     ]
    }
   ],
   "source": [
    "path_to_settings_json = '/Users/kperks/Documents/ell-connectome/eCREST-local-files/settings_dict.json'\n",
    "settings_dict = import_settings(path_to_settings_json)\n",
    "\n",
    "dirpath = Path(settings_dict['save_dir'])\n",
    "\n",
    "nodefiles = get_cell_filepaths(dirpath)\n",
    "\n",
    "cell_type = {}\n",
    "for x,f in nodefiles.items():\n",
    "    cell = ecrest(settings_dict,filepath = f,launch_viewer=False)\n",
    "    cell_type[x] = cell.get_ctype('manual') \n",
    "    if (cell.get_ctype('manual') == []) | (cell.get_ctype('manual') == ''):\n",
    "        print(f'cell {x} is not cell-typed in json')"
   ]
  },
  {
   "cell_type": "code",
   "execution_count": 81,
   "id": "5593b499-77d1-4b14-9432-40daebdfad3a",
   "metadata": {},
   "outputs": [],
   "source": [
    "syn_colors = {\n",
    "    'sgx1':'#00ffff', #'#996633',\n",
    "    'sgx2':'#ff9900', #'#996633',\n",
    "    'sg1':'#00ffff',\n",
    "    'sg2':'#ff9900',\n",
    "    'grc-d':'#33cc33',\n",
    "    'grc-s':'#e6e600',\n",
    "    'dml':'#a6a6a6',\n",
    "    'mg1':'#0000ff',\n",
    "    'mg2':'#ff0000',\n",
    "    'lg':'#ff00ff',\n",
    "    'lf':'#ff00ff',\n",
    "    'aff':'#ffffff'\n",
    "}"
   ]
  },
  {
   "cell_type": "code",
   "execution_count": 82,
   "id": "9bb40962-7573-44ae-9870-c3e6cd4ec4ff",
   "metadata": {},
   "outputs": [],
   "source": [
    "viewer = get_viewer(backgnd_color=\"white\")\n",
    "# create_baseseg_layer(viewer, base_seg, 'volume')\n",
    "create_em_layer(viewer)"
   ]
  },
  {
   "cell_type": "code",
   "execution_count": 83,
   "id": "03247b3d-001b-4725-96a0-7c40e196da6f",
   "metadata": {},
   "outputs": [],
   "source": [
    "\n",
    "point_type = ['grc-s']\n",
    "\n",
    "for lname_ in point_type:\n",
    "    all_syn = []\n",
    "    for x,f in nodefiles.items():\n",
    "        if cell_type[x] in [lname_]:\n",
    "            cell = ecrest(settings_dict,filepath = f,launch_viewer=False)\n",
    "            all_syn.extend(cell.cell_data['end_points']['post-synaptic'])\n",
    "\n",
    "    with viewer.txn(overwrite=True) as s:\n",
    "        s.layers[lname_] = neuroglancer.AnnotationLayer()\n",
    "        s.layers[lname_].annotationColor = syn_colors[lname_]#'#000000'# '#7300e6' # purple\n",
    "\n",
    "        for pos, point in enumerate(all_syn):\n",
    "            point_array = array([int(point[x]/vx_sizes[x]) for x in range(3)])\n",
    "            point_id = f'{lname_}_{pos}'\n",
    "            pa = neuroglancer.PointAnnotation(id=point_id, point = point_array)\n",
    "            s.layers[lname_].annotations.append(pa)   "
   ]
  },
  {
   "cell_type": "markdown",
   "id": "11bb72ba-6798-401d-95f6-79805313d9e0",
   "metadata": {},
   "source": [
    "## soma locations"
   ]
  },
  {
   "cell_type": "code",
   "execution_count": 6,
   "id": "b4861017-eaec-42b3-b733-2297c07f2cf5",
   "metadata": {},
   "outputs": [],
   "source": [
    "path_to_settings_json = '/Users/kperks/Documents/ell-connectome/eCREST-local-files/settings_dict.json'\n",
    "settings_dict = import_settings(path_to_settings_json)\n",
    "\n",
    "dirpath = Path(settings_dict['save_dir'])\n",
    "\n",
    "nodefiles = get_cell_filepaths(dirpath)\n"
   ]
  },
  {
   "cell_type": "code",
   "execution_count": 29,
   "id": "22f84e35-e313-46d1-adc2-837c135da4b2",
   "metadata": {},
   "outputs": [],
   "source": [
    "soma_diam = {}\n",
    "soma_loc = {}\n",
    "cell_type = {}\n",
    "for x,f in nodefiles.items():\n",
    "    cell = ecrest(settings_dict,filepath = f,launch_viewer=False)\n",
    "    \n",
    "    \n",
    "    if 'soma' in cell.cell_data['end_points'].keys():\n",
    "        soma_anno = cell.cell_data['end_points']['soma']\n",
    "        xpts = [p[0] for p in soma_anno]\n",
    "        ypts = [p[1] for p in soma_anno]\n",
    "        zpts = [p[2] for p in soma_anno]\n",
    "\n",
    "        soma_diam[x] = np.mean([int((np.max(xpts)-np.min(xpts))/16),int((np.max(zpts)-np.min(zpts))/16)])/100\n",
    "        \n",
    "        soma_loc[x] = [np.mean(xpts)/16,np.mean(ypts)/16,np.mean(zpts)/30]\n",
    "        \n",
    "        cell_type[x] = cell.get_ctype('manual') "
   ]
  },
  {
   "cell_type": "code",
   "execution_count": 30,
   "id": "ee60c748-0e5d-44ec-a851-582c683fe8ce",
   "metadata": {},
   "outputs": [],
   "source": [
    "df_loc = pd.DataFrame(soma_loc).T\n",
    "df_loc.columns=['x','y','z']\n",
    "\n",
    "dict_list = [soma_diam, cell_type]\n",
    "\n",
    "dfs = [pd.DataFrame(d.values()) for d in dict_list]\n",
    "\n",
    "df_ = pd.concat(dfs, axis=1)\n",
    "\n",
    "df_.columns = ['soma_diam','cell_type']\n",
    "df_.index = soma_diam.keys()\n",
    "\n",
    "df_soma = pd.concat([df_,df_loc],axis=1)"
   ]
  },
  {
   "cell_type": "code",
   "execution_count": 49,
   "id": "273218fe-92ab-47a0-9328-86f1dfdf29dc",
   "metadata": {},
   "outputs": [
    {
     "data": {
      "text/html": [
       "<div>\n",
       "<style scoped>\n",
       "    .dataframe tbody tr th:only-of-type {\n",
       "        vertical-align: middle;\n",
       "    }\n",
       "\n",
       "    .dataframe tbody tr th {\n",
       "        vertical-align: top;\n",
       "    }\n",
       "\n",
       "    .dataframe thead th {\n",
       "        text-align: right;\n",
       "    }\n",
       "</style>\n",
       "<table border=\"1\" class=\"dataframe\">\n",
       "  <thead>\n",
       "    <tr style=\"text-align: right;\">\n",
       "      <th></th>\n",
       "      <th>soma_diam</th>\n",
       "      <th>cell_type</th>\n",
       "      <th>x</th>\n",
       "      <th>y</th>\n",
       "      <th>z</th>\n",
       "    </tr>\n",
       "  </thead>\n",
       "  <tbody>\n",
       "    <tr>\n",
       "      <th>126618353</th>\n",
       "      <td>6.730</td>\n",
       "      <td>mg1</td>\n",
       "      <td>19513.727539</td>\n",
       "      <td>15712.367920</td>\n",
       "      <td>701.868210</td>\n",
       "    </tr>\n",
       "    <tr>\n",
       "      <th>126649726</th>\n",
       "      <td>8.805</td>\n",
       "      <td>mg2</td>\n",
       "      <td>20084.000000</td>\n",
       "      <td>15854.750000</td>\n",
       "      <td>851.000000</td>\n",
       "    </tr>\n",
       "    <tr>\n",
       "      <th>127607174</th>\n",
       "      <td>6.290</td>\n",
       "      <td>mg2</td>\n",
       "      <td>14666.599854</td>\n",
       "      <td>16033.227051</td>\n",
       "      <td>557.405136</td>\n",
       "    </tr>\n",
       "    <tr>\n",
       "      <th>127641472</th>\n",
       "      <td>4.185</td>\n",
       "      <td>sg1</td>\n",
       "      <td>15585.595703</td>\n",
       "      <td>16044.378418</td>\n",
       "      <td>745.750000</td>\n",
       "    </tr>\n",
       "    <tr>\n",
       "      <th>127672247</th>\n",
       "      <td>6.150</td>\n",
       "      <td>sg2</td>\n",
       "      <td>16382.405029</td>\n",
       "      <td>15899.806641</td>\n",
       "      <td>859.074707</td>\n",
       "    </tr>\n",
       "    <tr>\n",
       "      <th>...</th>\n",
       "      <td>...</td>\n",
       "      <td>...</td>\n",
       "      <td>...</td>\n",
       "      <td>...</td>\n",
       "      <td>...</td>\n",
       "    </tr>\n",
       "    <tr>\n",
       "      <th>644205547</th>\n",
       "      <td>6.230</td>\n",
       "      <td>mg2</td>\n",
       "      <td>20434.858887</td>\n",
       "      <td>16653.431152</td>\n",
       "      <td>3387.518738</td>\n",
       "    </tr>\n",
       "    <tr>\n",
       "      <th>644853727</th>\n",
       "      <td>5.910</td>\n",
       "      <td>sg1</td>\n",
       "      <td>6618.575439</td>\n",
       "      <td>17172.023926</td>\n",
       "      <td>3317.648315</td>\n",
       "    </tr>\n",
       "    <tr>\n",
       "      <th>646633319</th>\n",
       "      <td>8.685</td>\n",
       "      <td>mg1</td>\n",
       "      <td>23965.501465</td>\n",
       "      <td>17287.995117</td>\n",
       "      <td>3292.038696</td>\n",
       "    </tr>\n",
       "    <tr>\n",
       "      <th>647421579</th>\n",
       "      <td>3.560</td>\n",
       "      <td>sgx1</td>\n",
       "      <td>14540.198486</td>\n",
       "      <td>17841.958496</td>\n",
       "      <td>3132.432434</td>\n",
       "    </tr>\n",
       "    <tr>\n",
       "      <th>648567066</th>\n",
       "      <td>4.180</td>\n",
       "      <td>sg2</td>\n",
       "      <td>14401.308105</td>\n",
       "      <td>18377.874512</td>\n",
       "      <td>3250.869202</td>\n",
       "    </tr>\n",
       "  </tbody>\n",
       "</table>\n",
       "<p>248 rows × 5 columns</p>\n",
       "</div>"
      ],
      "text/plain": [
       "           soma_diam cell_type             x             y            z\n",
       "126618353      6.730       mg1  19513.727539  15712.367920   701.868210\n",
       "126649726      8.805       mg2  20084.000000  15854.750000   851.000000\n",
       "127607174      6.290       mg2  14666.599854  16033.227051   557.405136\n",
       "127641472      4.185       sg1  15585.595703  16044.378418   745.750000\n",
       "127672247      6.150       sg2  16382.405029  15899.806641   859.074707\n",
       "...              ...       ...           ...           ...          ...\n",
       "644205547      6.230       mg2  20434.858887  16653.431152  3387.518738\n",
       "644853727      5.910       sg1   6618.575439  17172.023926  3317.648315\n",
       "646633319      8.685       mg1  23965.501465  17287.995117  3292.038696\n",
       "647421579      3.560      sgx1  14540.198486  17841.958496  3132.432434\n",
       "648567066      4.180       sg2  14401.308105  18377.874512  3250.869202\n",
       "\n",
       "[248 rows x 5 columns]"
      ]
     },
     "execution_count": 49,
     "metadata": {},
     "output_type": "execute_result"
    }
   ],
   "source": [
    "df_soma"
   ]
  },
  {
   "cell_type": "code",
   "execution_count": 32,
   "id": "3ea73f0f-d4a5-4640-9d21-f30a41c711c5",
   "metadata": {},
   "outputs": [],
   "source": [
    "point_type = ['mg2','mg1','sg2','sg1']#,'sgx1','sgx2','grc-s','grc-d','aff','lf','lg']\n",
    "for lname_ in point_type:\n",
    "    all_soma = []\n",
    "    for i,r in df_soma.iterrows():\n",
    "        if r['cell_type'] in [lname_]:\n",
    "            \n",
    "            all_soma.append(r[['x','y','z']])\n",
    "\n",
    "    with viewer.txn(overwrite=True) as s:\n",
    "        s.layers[lname_] = neuroglancer.AnnotationLayer()\n",
    "        s.layers[lname_].annotationColor = syn_colors[lname_]#'#000000'# '#7300e6' # purple\n",
    "\n",
    "        for pos, point in enumerate(all_soma):\n",
    "            point_array = point #array([int(point[x]/vx_sizes[x]) for x in range(3)])\n",
    "            point_id = f'{lname_}_{pos}'\n",
    "            pa = neuroglancer.PointAnnotation(id=point_id, point = point_array)\n",
    "            s.layers[lname_].annotations.append(pa)   "
   ]
  },
  {
   "cell_type": "markdown",
   "id": "005ce072-906a-44e9-bbeb-8dd75677f29d",
   "metadata": {},
   "source": [
    "# Vizualize locations of segments for each structure and cell type"
   ]
  },
  {
   "cell_type": "code",
   "execution_count": null,
   "id": "4d238733-6acb-435b-af8e-bff6abcdd20b",
   "metadata": {},
   "outputs": [],
   "source": [
    "results = {}\n",
    "batch_size=1000\n",
    "base_segs = all_base_segs[0:10]\n",
    "\n",
    "if len(base_segs) > 0:\n",
    "\n",
    "    num_batches = int(len(base_segs)/batch_size)\n",
    "\n",
    "    for batch in range(num_batches+1):\n",
    "\n",
    "        q = ','.join([str(x) for x in base_segs[batch*batch_size:(batch+1)*batch_size]])\n",
    "\n",
    "        # query = f\"\"\"SELECT seg_id, x, y, z FROM base_location WHERE seg_id IN ({q})\"\"\"\n",
    "        QUERY = f\"\"\"\n",
    "        SELECT\n",
    "            cast(objects.id as INT64) as seg_id,\n",
    "            sample_voxel.x as x,\n",
    "            sample_voxel.y as y,\n",
    "            sample_voxel.z as z,\n",
    "        FROM\n",
    "            `lcht-goog-connectomics.ell_roi450um_seg32fb16fb_220930.objinfo` as objects\n",
    "        WHERE objects.id IN ({q})\n",
    "        \"\"\"\n",
    "        main_cell.db_cursors.execute(query)\n",
    "\n",
    "        this_batch = {str(x[0]): (int(x[1]), int(x[2]), int(x[3])) for x in main_cell.db_cursors.fetchall()}\n",
    "\n",
    "        results.update(this_batch)\n"
   ]
  },
  {
   "cell_type": "markdown",
   "id": "b5baeb7a-acc3-4c98-87f9-772ddd4bd15e",
   "metadata": {},
   "source": [
    "# visualize overlapping segments for duplicates"
   ]
  },
  {
   "cell_type": "code",
   "execution_count": 40,
   "id": "16c83cc2-6bc3-4f45-a8e5-2827734f4c82",
   "metadata": {},
   "outputs": [],
   "source": [
    "overlapping_cells = ['387368998','644824967']"
   ]
  },
  {
   "cell_type": "code",
   "execution_count": 41,
   "id": "5f48cd9f-0b42-4c20-92d2-8439a94ca1ba",
   "metadata": {},
   "outputs": [],
   "source": [
    "path_to_settings_json = '/Users/kperks/Documents/ell-connectome/eCREST-local-files/settings_dict.json'\n",
    "settings_dict = import_settings(path_to_settings_json)\n",
    "\n",
    "dirpath = Path(settings_dict['save_dir'])\n",
    "# dirpath = \"/Users/kperks/Documents/gdrive/.shortcut-targets-by-id/16q1BuOMfD2ta0Cwq8CjMlRe4rDvbuWC5/ELL_connectome/CREST_reconstructions/mg-network\"\n",
    "\n",
    "nodes = [child.name.split('_')[2] for child in sorted(dirpath.iterdir()) \n",
    "         if (child.name[0]!='.') & (child.is_file())] # ignore hidden files]\n",
    "\n",
    "nodefiles = dict()\n",
    "for child in sorted(dirpath.iterdir()):\n",
    "    if (child.name[0]!='.') & (child.is_file()):\n",
    "        nodefiles[child.name.split('_')[2]] = child\n",
    "                    \n",
    "# Create a base_segments dictionary of all cells\n",
    "base_segments = {}\n",
    "cell_type={}\n",
    "for x in [n for n in nodes if n in overlapping_cells]:\n",
    "    cell = ecrest(settings_dict,filepath = nodefiles[x],launch_viewer=False)\n",
    "    base_segments[cell.cell_data['metadata']['main_seg']['base']] = cell.cell_data['base_segments']\n",
    "    cell_type[cell.cell_data['metadata']['main_seg']['base']] = cell.get_ctype('manual')"
   ]
  },
  {
   "cell_type": "code",
   "execution_count": 42,
   "id": "6ec4cd55-1080-4397-b2d8-2e67265e3803",
   "metadata": {},
   "outputs": [
    {
     "name": "stdout",
     "output_type": "stream",
     "text": [
      "6115 segments in cell 1 that are not in cell 2\n",
      "2390 segments in cell 2 that are not in cell 1\n",
      "0 segments in both\n"
     ]
    }
   ],
   "source": [
    "segs_1 = set([a for b in base_segments[overlapping_cells[0]].values() for a in b])\n",
    "segs_2 = set([a for b in base_segments[overlapping_cells[1]].values() for a in b])\n",
    "\n",
    "print(f'{len(segs_1.difference(segs_2))} segments in cell 1 that are not in cell 2')\n",
    "print(f'{len(segs_2.difference(segs_1))} segments in cell 2 that are not in cell 1')\n",
    "\n",
    "overlap_seg_list = segs_1 & segs_2\n",
    "print(f'{len(overlap_seg_list)} segments in both')"
   ]
  },
  {
   "cell_type": "code",
   "execution_count": 43,
   "id": "91d02c95-53d8-4161-aa9f-9f7c31fbc5cd",
   "metadata": {},
   "outputs": [],
   "source": [
    "viewer = get_viewer()\n",
    "lname = 'base_segs'\n",
    "create_baseseg_layer(viewer, base_seg, lname)"
   ]
  },
  {
   "cell_type": "code",
   "execution_count": 44,
   "id": "b34965ba-7948-403f-91af-7b31eeceee07",
   "metadata": {},
   "outputs": [
    {
     "name": "stdout",
     "output_type": "stream",
     "text": [
      "387368998 #33cc33\n",
      "644824967 #cc33ff\n"
     ]
    }
   ],
   "source": [
    "#vizualize cells\n",
    "cell_color=['#33cc33','#cc33ff']\n",
    "for i,n in enumerate(base_segments.keys()):\n",
    "    with viewer.txn(overwrite=True) as s:\n",
    "        color_structure = cell_color[i] # blue\n",
    "        print(n,color_structure)\n",
    "        for bs in [a for b in base_segments[n].values() for a in b]:\n",
    "            s.layers[lname].segments.add(int(bs))\n",
    "            s.layers[lname].segment_colors[int(bs)] = color_structure \n",
    "\n",
    "# visualize overlapping segemtns\n",
    "color_structure='#ff0000' #red\n",
    "with viewer.txn(overwrite=True) as s:\n",
    "    for bs in list(overlap_seg_list):\n",
    "        # s.layers[lname].segments.add(int(bs)) # should already be in layer because part of both cells\n",
    "        s.layers[lname].segment_colors[int(bs)] = color_structure "
   ]
  },
  {
   "cell_type": "markdown",
   "id": "d98ea56f-0637-4f03-ac81-b8cb213243d7",
   "metadata": {},
   "source": [
    "# visualize anchor seg by type\n",
    "\n",
    "requires cell structure labeling to be done because uses \"unknown\" to identify soma"
   ]
  },
  {
   "cell_type": "markdown",
   "id": "c12043de-93e5-4c4a-be6b-7ed625e4f878",
   "metadata": {},
   "source": [
    "just plot the anchor segment (so does not require cell structure labeling)"
   ]
  },
  {
   "cell_type": "code",
   "execution_count": 20,
   "id": "c1f9c9a2-b715-4b4c-8445-aa53d71d00e7",
   "metadata": {},
   "outputs": [],
   "source": [
    "path_to_settings_json = '/Users/kperks/Documents/ell-connectome/eCREST-local-files/settings_dict.json'\n",
    "settings_dict = import_settings(path_to_settings_json)\n",
    "\n",
    "dirpath = Path(settings_dict['save_dir'])\n",
    "\n",
    "nodes = [child.name.split('_')[2] for child in sorted(dirpath.iterdir()) \n",
    "         if (child.name[0]!='.') & (child.is_file())] # ignore hidden files]\n",
    "\n",
    "nodefiles = dict()\n",
    "for child in sorted(dirpath.iterdir()):\n",
    "    if (child.name[0]!='.') & (child.is_file()):\n",
    "        nodefiles[child.name.split('_')[2]] = child\n",
    "\n",
    "cell_type = {}\n",
    "for x in nodes:\n",
    "    cell = ecrest(settings_dict,filepath = nodefiles[x],launch_viewer=False)\n",
    "    cell_type[x] = cell.get_ctype('manual') \n",
    "    if (cell.get_ctype('manual') == []) | (cell.get_ctype('manual') == ''):\n",
    "        print(f'cell {x} is not cell-typed in json')"
   ]
  },
  {
   "cell_type": "code",
   "execution_count": 21,
   "id": "e0833d35-1cdd-4710-a00f-28eaa049db40",
   "metadata": {},
   "outputs": [],
   "source": [
    "viewer = get_viewer(backgnd_color=\"white\")\n",
    "\n",
    "create_em_layer(viewer)"
   ]
  },
  {
   "cell_type": "code",
   "execution_count": 22,
   "id": "af603425-892f-49c1-a72f-b0c2b26dd5d9",
   "metadata": {},
   "outputs": [],
   "source": [
    "\n",
    "c_type = {\n",
    "    'mg2': '#ff0000',\n",
    "    'mg1': '#0000ff',\n",
    "    'sg2': '#ff9900',\n",
    "    'sg1': '#00ffff',\n",
    "    'grc': '#000000',\n",
    "    'lf': '#c80080',\n",
    "    'lg': '#8000c8'\n",
    "        }\n",
    "\n",
    "\n",
    "for lname_, col_ in c_type.items():\n",
    "    create_baseseg_layer(viewer, base_seg, lname_)\n",
    "    all_seg = []\n",
    "    for x in nodes:\n",
    "        if cell_type[x] == lname_:\n",
    "            cell = ecrest(settings_dict,filepath = nodefiles[x],launch_viewer=False)\n",
    "            all_seg.append(cell.cell_data['metadata']['main_seg']['base'])\n",
    "\n",
    "    with viewer.txn(overwrite=True) as s:\n",
    "        for bs in all_seg:\n",
    "            s.layers[lname_].segments.add(int(bs))\n",
    "            s.layers[lname_].segment_colors[int(bs)] = col_#color_structure # blue"
   ]
  },
  {
   "cell_type": "markdown",
   "id": "3350527f-ca02-441b-97f5-5ec854d16f41",
   "metadata": {},
   "source": [
    "If want to use soma (and pick random selection from soma to plot so don't overload it), use the following code cell"
   ]
  },
  {
   "cell_type": "code",
   "execution_count": 23,
   "id": "0512bae1-73e3-464e-8a5f-225c85e9d96e",
   "metadata": {},
   "outputs": [],
   "source": [
    "viewer = get_viewer(backgnd_color=\"white\")\n",
    "create_baseseg_layer(viewer, base_seg, 'output')"
   ]
  },
  {
   "cell_type": "code",
   "execution_count": 24,
   "id": "7f4afed8-cf28-4751-97be-d7669455e442",
   "metadata": {},
   "outputs": [],
   "source": [
    "# color_structure = {'lf':'#ff0000','lg':'#0000ff'}\n",
    "\n",
    "toplot=[]\n",
    "for x in nodes:\n",
    "    if cell_type[x] in ['mg2','lg']:\n",
    "        cell = ecrest(settings_dict,filepath = nodefiles[x],launch_viewer=False)\n",
    "        try:\n",
    "            assert len(cell.cell_data['base_segments']['unknown']) < len([a for b in cell.cell_data['base_segments'].values() for a in b])\n",
    "            # toplot.append(x)\n",
    "            with viewer.txn(overwrite=True) as s:\n",
    "\n",
    "                for bs in random.choices(list(cell.cell_data['base_segments']['unknown']),k=50):\n",
    "                    s.layers['output'].segments.add(int(bs))\n",
    "                    s.layers['output'].segment_colors[int(bs)] = color_structure[cell_type[x]]\n",
    "        except: \n",
    "            continue\n",
    "            # print(f'no cell structures labeled for {x} yet')\n",
    "\n",
    "# cell_color={'lf':'#ff0000','lg':'#0000ff'}\n",
    "# for out_cell in toplot:\n",
    "#     with viewer.txn(overwrite=True) as s:\n",
    "#         color_structure = cell_color[cell_type[out_cell]] # blue\n",
    "\n",
    "#         for bs in random.choices(list(base_segments[out_cell]['unknown']),k=50):\n",
    "#             s.layers['base_segs'].segments.add(int(bs))\n",
    "#             s.layers['base_segs'].segment_colors[int(bs)] = color_structure # blue"
   ]
  },
  {
   "cell_type": "code",
   "execution_count": 138,
   "id": "05645991-5be7-480e-a268-d7e2432fe232",
   "metadata": {},
   "outputs": [],
   "source": [
    "create_em_layer(viewer)"
   ]
  },
  {
   "cell_type": "markdown",
   "id": "7b9f7d85-f06f-449a-bb64-8f3be4195e98",
   "metadata": {},
   "source": [
    "# visualize cell structure by type\n",
    "\n",
    "requires cell structure labeling to be done "
   ]
  },
  {
   "cell_type": "code",
   "execution_count": 307,
   "id": "2e1d2e49-3d72-4dcb-82ec-0e673e0692c1",
   "metadata": {},
   "outputs": [],
   "source": [
    "path_to_settings_json = '/Users/kperks/Documents/ell-connectome/eCREST-local-files/settings_dict.json'\n",
    "settings_dict = import_settings(path_to_settings_json)\n",
    "\n",
    "dirpath = Path(settings_dict['save_dir'])\n",
    "\n",
    "nodes = [child.name.split('_')[2] for child in sorted(dirpath.iterdir()) \n",
    "         if (child.name[0]!='.') & (child.is_file())] # ignore hidden files]\n",
    "\n",
    "nodefiles = dict()\n",
    "for child in sorted(dirpath.iterdir()):\n",
    "    if (child.name[0]!='.') & (child.is_file()):\n",
    "        nodefiles[child.name.split('_')[2]] = child\n",
    "\n",
    "cell_type = {}\n",
    "for x in nodes:\n",
    "    cell = ecrest(settings_dict,filepath = nodefiles[x],launch_viewer=False)\n",
    "    cell_type[x] = cell.get_ctype('manual') \n",
    "    if (cell.get_ctype('manual') == []) | (cell.get_ctype('manual') == ''):\n",
    "        print(f'cell {x} is not cell-typed in json')"
   ]
  },
  {
   "cell_type": "code",
   "execution_count": 353,
   "id": "f036c5dd-96b5-4a81-a58a-3e5f8447ec44",
   "metadata": {},
   "outputs": [],
   "source": [
    "structure_label = 'axon'\n",
    "base_segments = {'mg1':[]}#{'sg1':[],'sg2':[],'mg1':[],'mg2':[]} #{'mg1':[],'mg2':[]}\n",
    "# cell_count = {'sgx':0} #{'mg1':0,'mg2':0}\n",
    "for t in base_segments.keys():\n",
    "    for x in random.choices([k for k,v in cell_type.items() if v == t],k=15):\n",
    "        if cell_type[x] == t:\n",
    "            cell = ecrest(settings_dict,filepath = nodefiles[x],launch_viewer=False)\n",
    "            if cell.cell_data['base_segments'][structure_label] != set():\n",
    "                base_segments[t].extend(cell.cell_data['base_segments'][structure_label])\n",
    "                # cell_count[t] += 1"
   ]
  },
  {
   "cell_type": "code",
   "execution_count": 332,
   "id": "c7cdca49-bd48-49ca-8178-bf43a6d7df58",
   "metadata": {},
   "outputs": [],
   "source": [
    "cell_colors = {\n",
    "    'mg2' : '#ff0000',\n",
    "    'mg1' : '#0000ff',\n",
    "    'lg' : '#ff0000',\n",
    "    'lf' : '#0000ff',\n",
    "    'sgx' : '#b3b3b3',\n",
    "    'sg2' : '#ff9900',\n",
    "    'sg1' : '#00ccff',\n",
    "    'grc' : '#000000',\n",
    "    'aff' : '#b3b3b3',    \n",
    "}\n"
   ]
  },
  {
   "cell_type": "code",
   "execution_count": 349,
   "id": "facfc6a3-5794-4a52-9b65-7c222b61f492",
   "metadata": {},
   "outputs": [],
   "source": [
    "viewer = get_viewer(backgnd_color=\"white\")\n",
    "\n",
    "create_em_layer(viewer)"
   ]
  },
  {
   "cell_type": "code",
   "execution_count": 354,
   "id": "fa6c5375-2f1a-406b-8097-26c5412ae9e4",
   "metadata": {},
   "outputs": [],
   "source": [
    "for k,v in base_segments.items():\n",
    "    create_baseseg_layer(viewer, base_seg, k + '_' + structure_label)\n",
    "    sleep(3)\n",
    "\n",
    "    with viewer.txn(overwrite=True) as s:\n",
    "        for bs in v: #random.choices(list(v),k=int(len(v)*0.5)):\n",
    "            s.layers[k + '_' + structure_label].segments.add(int(bs))\n",
    "            s.layers[k + '_' + structure_label].segment_colors[int(bs)] = cell_colors[k] # blue\n",
    "    sleep(3)"
   ]
  },
  {
   "cell_type": "markdown",
   "id": "6940bfaf-9192-4144-81a5-d6dfb28405f2",
   "metadata": {},
   "source": [
    "## Add synapse annotations for each cell type"
   ]
  },
  {
   "cell_type": "code",
   "execution_count": 345,
   "id": "5449aba0-3125-41eb-a476-b6576b2efc6b",
   "metadata": {},
   "outputs": [],
   "source": [
    "\n",
    "point_type = ['mg2','mg1','sg2','sg1','grc','aff']\n",
    "\n",
    "for lname_ in point_type:\n",
    "    all_syn = []\n",
    "    for x in nodes:\n",
    "        if cell_type[x] in [lname_]:\n",
    "            cell = ecrest(settings_dict,filepath = nodefiles[x],launch_viewer=False)\n",
    "            all_syn.extend(cell.cell_data['end_points']['post-synaptic'])\n",
    "    sleep(3)\n",
    "    with viewer.txn(overwrite=True) as s:\n",
    "        s.layers[lname_] = neuroglancer.AnnotationLayer()\n",
    "        s.layers[lname_].annotationColor = cell_colors[lname_]\n",
    "        \n",
    "        sleep(1)\n",
    "\n",
    "        for pos, point in enumerate(all_syn):\n",
    "            point_array = array([int(point[x]/vx_sizes[x]) for x in range(3)])\n",
    "            point_id = f'{lname_}_{pos}'\n",
    "            pa = neuroglancer.PointAnnotation(id=point_id, point = point_array)\n",
    "            s.layers[lname_].annotations.append(pa)   "
   ]
  },
  {
   "cell_type": "code",
   "execution_count": null,
   "id": "6fa4de40-cfdf-4846-87fc-2f20c834ffa2",
   "metadata": {},
   "outputs": [],
   "source": []
  },
  {
   "cell_type": "markdown",
   "id": "4b3f08d6-d7b4-448b-9419-f63c2b4699c8",
   "metadata": {},
   "source": [
    "# MG-Output convergence"
   ]
  },
  {
   "cell_type": "code",
   "execution_count": 449,
   "id": "d007c7fc-aa83-455c-be27-af7ec4c82bf1",
   "metadata": {},
   "outputs": [],
   "source": [
    "path_to_settings_json = '/Users/kperks/Documents/ell-connectome/eCREST-local-files/settings_dict.json'\n",
    "settings_dict = import_settings(path_to_settings_json)\n",
    "\n",
    "dirpath = Path(settings_dict['save_dir'])\n",
    "\n",
    "nodes = [child.name.split('_')[2] for child in sorted(dirpath.iterdir()) \n",
    "         if (child.name[0]!='.') & (child.is_file())] # ignore hidden files]\n",
    "\n",
    "nodefiles = dict()\n",
    "for child in sorted(dirpath.iterdir()):\n",
    "    if (child.name[0]!='.') & (child.is_file()):\n",
    "        nodefiles[child.name.split('_')[2]] = child\n",
    "\n"
   ]
  },
  {
   "cell_type": "code",
   "execution_count": 457,
   "id": "30ef1fe6-c071-4188-acb6-8540d23fe319",
   "metadata": {},
   "outputs": [],
   "source": [
    "# network = {'lf': ['393063300'],#['307591597']\n",
    "#            'mg1':['128737253','300210608','386224676','474236060'],#low synapse ['214412684','41579854','472175645','643848637'] # high synapse weight\n",
    "#            'lg':['215526370'],\n",
    "#            'mg2':['472051969','301308616','129512755','128473437']}#['128473437','215572949','300316308','386117124','472051969','644825148']}\n",
    "\n",
    "examples = {'mg1': ['127870654'],#,'299530386','41579854']}\n",
    "            'mg2': ['300689181','299249397']}\n",
    "\n",
    "color_structure = {'mg1':'#fd9400', 'mg2':'#9934ff', 'lg':'#0000ff', 'lf':'#ff0000',\n",
    "                  'axon':'#008000','basal dendrite':'#cd4b00','apical dendrite':'#ff8000','unknown':'#d2b48c','multiple':'#9c661f'} #'#ff471a'  #7300e6\n"
   ]
  },
  {
   "cell_type": "code",
   "execution_count": 459,
   "id": "2b59c024-6784-453b-9a9a-7921f5a54cfc",
   "metadata": {},
   "outputs": [],
   "source": [
    "viewer = get_viewer(backgnd_color=\"white\")\n",
    "sleep(1)\n",
    "for cell_type in ['mg2']:\n",
    "    for cell_ in examples[cell_type]:\n",
    "        create_baseseg_layer(viewer, base_seg, cell_)\n",
    "        sleep(3)\n",
    "        cell = ecrest(settings_dict,filepath = nodefiles[cell_],launch_viewer=False)\n",
    "        sleep(3)\n",
    "        with viewer.txn(overwrite=True) as s:\n",
    "            for k,v in cell.cell_data['base_segments'].items():\n",
    "                for bs in v:\n",
    "                    s.layers[cell_].segments.add(int(bs))\n",
    "                    # s.layers[cell_].segment_colors[int(bs)] = color_structure[k] # for cell structures different colors   \n",
    "                    s.layers[cell_].segment_colors[int(bs)] = color_structure[cell_type] # for uniform cell color\n",
    "                    if k=='axon':\n",
    "                        s.layers[cell_].segment_colors[int(bs)] = color_structure[k]#'#808080'\n",
    "  \n",
    "        sleep(3)"
   ]
  },
  {
   "cell_type": "code",
   "execution_count": 411,
   "id": "7d67d38f-25e5-41ac-b1e2-17962c96ab6c",
   "metadata": {},
   "outputs": [],
   "source": [
    "download_path = Path('/Users/kperks/Downloads')\n",
    "filepath = download_path / 'mg2.png'\n",
    "\n",
    "s = viewer.screenshot()\n",
    "with open(filepath, 'wb') as f:\n",
    "    f.write(s.screenshot.image)"
   ]
  },
  {
   "cell_type": "markdown",
   "id": "4f1fcc5d-9788-40a5-81e0-6163079f1e9e",
   "metadata": {},
   "source": [
    "# MG-MG reciprocal"
   ]
  },
  {
   "cell_type": "code",
   "execution_count": 53,
   "id": "664a7251-9ed9-4ee7-97ea-5112e8b1299d",
   "metadata": {},
   "outputs": [],
   "source": [
    "path_to_settings_json = '/Users/kperks/Documents/ell-connectome/eCREST-local-files/settings_dict.json'\n",
    "settings_dict = import_settings(path_to_settings_json)\n",
    "\n",
    "dirpath = Path(settings_dict['save_dir']) #/ 'todo_pre-synaptic/basal-dendrite_mg2'\n",
    "# dirpath = \"/Users/kperks/Documents/gdrive/.shortcut-targets-by-id/16q1BuOMfD2ta0Cwq8CjMlRe4rDvbuWC5/ELL_connectome/CREST_reconstructions/mg-network\"\n",
    "\n",
    "nodes = [child.name.split('_')[2] for child in sorted(dirpath.iterdir()) \n",
    "         if (child.name[0]!='.') & (child.is_file())] # ignore hidden files]\n",
    "\n",
    "nodefiles = dict()\n",
    "for child in sorted(dirpath.iterdir()):\n",
    "    if (child.name[0]!='.') & (child.is_file()):\n",
    "        nodefiles[child.name.split('_')[2]] = child\n",
    "\n",
    "dirpath = Path(settings_dict['save_dir'])\n",
    "# for child in sorted(dirpath.iterdir()):\n",
    "#     if '386392158' in child.name:\n",
    "#         nodefiles[child.name.split('_')[2]] = child"
   ]
  },
  {
   "cell_type": "code",
   "execution_count": 52,
   "id": "88c8b96f-14ec-4a08-9c9c-551e908ad038",
   "metadata": {},
   "outputs": [],
   "source": [
    "cells = {\n",
    "    'sg1': '42676894',\n",
    "    'sg2': '218095913'}\n",
    "#     'mg1':'386224676',\n",
    "#     'mg2':'214581797'\n",
    "# }\n",
    "    # 386224676\t214581797\n",
    "    # 42632020\t301339154\n",
    "\n",
    "color_structure = {'mg1':'#fd9400', 'mg2':'#9934ff', 'sg':'#d2b48c','sg1':'#fd9400', 'sg2':'#9934ff'}"
   ]
  },
  {
   "cell_type": "code",
   "execution_count": 54,
   "id": "b96aa344-2327-4d33-8225-f058f26fd5de",
   "metadata": {},
   "outputs": [],
   "source": [
    "viewer = get_viewer(backgnd_color=\"white\")\n",
    "\n",
    "create_em_layer(viewer)\n",
    "\n",
    "vx_sizes = [16, 16, 30]\n",
    "\n",
    "for type_,cell_ in cells.items():\n",
    "\n",
    "    create_baseseg_layer(viewer, base_seg, type_)\n",
    "    sleep(3)\n",
    "    cell = ecrest(settings_dict,filepath = nodefiles[cell_],launch_viewer=False)\n",
    "    sleep(3)\n",
    "    with viewer.txn(overwrite=True) as s:\n",
    "        for k,v in cell.cell_data['base_segments'].items():\n",
    "            for bs in v:\n",
    "                s.layers[type_].segments.add(int(bs))\n",
    "                # s.layers['base_segs'].segment_colors[int(bs)] = color_structure[k] # for cell structures different colors   \n",
    "                s.layers[type_].segment_colors[int(bs)] = color_structure[type_] # for uniform cell color\n",
    "                if k=='axon':\n",
    "                    if type_=='mg1':\n",
    "                        s.layers[type_].segment_colors[int(bs)] = '#ff4d00'\n",
    "                    if type_=='mg2':\n",
    "                        s.layers[type_].segment_colors[int(bs)] = '#ff00ff'\n",
    "        sleep(2)\n",
    "        \n",
    "        s.layers[cell_] = neuroglancer.AnnotationLayer()\n",
    "        s.layers[cell_].annotationColor = '#ff00ff'\n",
    "\n",
    "        for pos, point in enumerate(cell.cell_data['end_points']['post-synaptic']):\n",
    "            point_array = array([int(point[x]/vx_sizes[x]) for x in range(3)])\n",
    "            point_id = f'{point_type}_{pos}'\n",
    "            pa = neuroglancer.PointAnnotation(id=point_id, point = point_array)\n",
    "            s.layers[cell_].annotations.append(pa)    \n",
    "\n",
    "        sleep(2)"
   ]
  },
  {
   "cell_type": "code",
   "execution_count": 447,
   "id": "c0cd7e2a-f380-464d-804e-48d91196ba64",
   "metadata": {},
   "outputs": [
    {
     "name": "stdout",
     "output_type": "stream",
     "text": [
      "mg1 makes contact at 214598283\n",
      "mg1 makes contact at 213452352\n",
      "mg1 makes contact at 213451217\n",
      "mg1 makes contact at 127564960\n",
      "mg1 makes contact at 127564960\n",
      "mg2 makes contact at 133163355\n",
      "mg2 makes contact at 387368998\n"
     ]
    }
   ],
   "source": [
    "cell = ecrest(settings_dict,filepath = nodefiles[cells['mg1']],launch_viewer=False)\n",
    "mg1_segs = [a for b in cell.cell_data['base_segments'].values() for a in b]\n",
    "\n",
    "cell = ecrest(settings_dict,filepath = nodefiles[cells['mg2']],launch_viewer=False)\n",
    "mg2_segs = [a for b in cell.cell_data['base_segments'].values() for a in b]\n",
    "    \n",
    "type_ = 'mg1'\n",
    "cell_ =cells[type_]\n",
    "layer_name = f'{type_} makes contact'\n",
    "\n",
    "cell = ecrest(settings_dict,filepath = nodefiles[cell_],launch_viewer=False)\n",
    "with viewer.txn(overwrite=True) as s:       \n",
    "    s.layers[layer_name] = neuroglancer.AnnotationLayer()\n",
    "    s.layers[layer_name].annotationColor = '#00ff00'\n",
    "\n",
    "    for pos, point in enumerate(cell.cell_data['end_points']['post-synaptic']):\n",
    "        if point[3] in mg2_segs:\n",
    "            print(f'{type_} makes contact at {point[3]}')\n",
    "            point_array = array([int(point[x]/vx_sizes[x]) for x in range(3)])\n",
    "            point_id = f'{point_type}_{pos}'\n",
    "            pa = neuroglancer.PointAnnotation(id=point_id, point = point_array)\n",
    "            s.layers[layer_name].annotations.append(pa)  \n",
    "sleep(2)\n",
    "\n",
    "type_ = 'mg2'\n",
    "cell_ =cells[type_]\n",
    "layer_name = f'{type_} makes contact'\n",
    "\n",
    "cell = ecrest(settings_dict,filepath = nodefiles[cell_],launch_viewer=False)\n",
    "with viewer.txn(overwrite=True) as s:       \n",
    "    s.layers[layer_name] = neuroglancer.AnnotationLayer()\n",
    "    s.layers[layer_name].annotationColor = '#00ff00'\n",
    "\n",
    "    for pos, point in enumerate(cell.cell_data['end_points']['post-synaptic']):\n",
    "        if point[3] in mg1_segs:\n",
    "            print(f'{type_} makes contact at {point[3]}')\n",
    "            point_array = array([int(point[x]/vx_sizes[x]) for x in range(3)])\n",
    "            point_id = f'{point_type}_{pos}'\n",
    "            pa = neuroglancer.PointAnnotation(id=point_id, point = point_array)\n",
    "            s.layers[layer_name].annotations.append(pa)          \n",
    "\n",
    "         "
   ]
  },
  {
   "cell_type": "code",
   "execution_count": null,
   "id": "2dd10c80-dbb6-47c4-ab60-66b1f614bf4c",
   "metadata": {},
   "outputs": [],
   "source": [
    "download_path = Path('/Users/kperks/Downloads')\n",
    "filepath = download_path / 'mg-reciproc.png'\n",
    "\n",
    "s = viewer.screenshot()\n",
    "with open(filepath, 'wb') as f:\n",
    "    f.write(s.screenshot.image)"
   ]
  },
  {
   "cell_type": "markdown",
   "id": "a255cb0b-9b07-4b90-94f0-8848293a7973",
   "metadata": {
    "tags": []
   },
   "source": [
    "# MG synaptic partners with annotations"
   ]
  },
  {
   "cell_type": "code",
   "execution_count": 30,
   "id": "77f6dadc-a4fa-4416-acbd-44b3eb70f53a",
   "metadata": {},
   "outputs": [],
   "source": [
    "point_type = 'post-synaptic'\n",
    "with viewer.txn(overwrite=True) as s:\n",
    "    s.layers[point_type] = neuroglancer.AnnotationLayer()\n",
    "    s.layers[point_type].annotationColor = '#ff0000'\n",
    "\n",
    "vx_sizes = [16, 16, 30]"
   ]
  },
  {
   "cell_type": "code",
   "execution_count": 36,
   "id": "5398fd4c-ccf2-474e-854e-7d3b9ac85c17",
   "metadata": {},
   "outputs": [],
   "source": [
    "pre_innet = ['387368998']\n",
    "post_innet = ['302453434']"
   ]
  },
  {
   "cell_type": "code",
   "execution_count": 32,
   "id": "ff43c004-d369-4cc7-9dab-3ebba7b4403a",
   "metadata": {},
   "outputs": [],
   "source": [
    "path_to_settings_json = '/Users/kperks/Documents/ell-connectome/eCREST-local-files/settings_dict.json'\n",
    "settings_dict = import_settings(path_to_settings_json)\n",
    "\n",
    "dirpath = Path(settings_dict['save_dir'])\n",
    "# dirpath = \"/Users/kperks/Documents/gdrive/.shortcut-targets-by-id/16q1BuOMfD2ta0Cwq8CjMlRe4rDvbuWC5/ELL_connectome/CREST_reconstructions/mg-network\"\n",
    "\n",
    "nodes = [child.name.split('_')[2] for child in sorted(dirpath.iterdir()) \n",
    "         if (child.name[0]!='.') & (child.is_file())] # ignore hidden files]\n",
    "\n",
    "nodefiles = dict()\n",
    "for child in sorted(dirpath.iterdir()):\n",
    "    if (child.name[0]!='.') & (child.is_file()):\n",
    "        nodefiles[child.name.split('_')[2]] = child\n",
    "                    "
   ]
  },
  {
   "cell_type": "code",
   "execution_count": 43,
   "id": "b08af4cd-e7f7-489d-9cc7-2f3c0385bb1f",
   "metadata": {},
   "outputs": [],
   "source": [
    "cell_color = {\n",
    "    'axon': '#008000',\n",
    "    'basal dendrite': '#cd4b00',\n",
    "    'apical dendrite': '#ff8000',\n",
    "    'unknown': '#d2b48c',\n",
    "    'multiple': '#9c661f'\n",
    "}\n",
    "\n",
    "for cell_id in pre_innet:\n",
    "    cell = ecrest(settings_dict,filepath = nodefiles[cell_id],launch_viewer=False)\n",
    "    this_cell = cell.cell_data['base_segments']\n",
    "    # all_segs = [a for b in this_cell.values() for a in b]\n",
    "\n",
    "    with viewer.txn(overwrite=True) as s:\n",
    "        for dtype in this_cell.keys():\n",
    "            if this_cell[dtype]!=set():\n",
    "                if dtype=='axon':\n",
    "                    color_structure = cell_color[dtype] # blue\n",
    "                    for bs in this_cell[dtype]:\n",
    "                        s.layers['base_segs'].segments.add(int(bs))\n",
    "                        s.layers['base_segs'].segment_colors[int(bs)] = color_structure # blue\n",
    "                # if dtype!='axon':\n",
    "                #     color_structure = '#d2b48c'\n",
    "\n",
    "\n",
    "    \n",
    "    point_type = 'post-synaptic'\n",
    "    with viewer.txn(overwrite=True) as s:\n",
    "        for pos, point in enumerate(cell.cell_data['end_points'][point_type]):\n",
    "            point_array = array([int(point[x]/vx_sizes[x]) for x in range(3)])\n",
    "            point_id = f'{point_type}_{pos}'\n",
    "            pa = neuroglancer.PointAnnotation(id=point_id, point = point_array)\n",
    "            s.layers[point_type].annotations.append(pa)    \n"
   ]
  },
  {
   "cell_type": "code",
   "execution_count": 44,
   "id": "02dab168-fd95-483c-b0a7-cef00cf90ab5",
   "metadata": {},
   "outputs": [],
   "source": [
    "for cell_id in post_innet:\n",
    "    cell = ecrest(settings_dict,filepath = nodefiles[cell_id],launch_viewer=False)\n",
    "    this_cell = cell.cell_data['base_segments']\n",
    "    # all_segs = [a for b in this_cell.values() for a in b]\n",
    "\n",
    "    with viewer.txn(overwrite=True) as s:\n",
    "        for dtype in this_cell.keys():\n",
    "            if this_cell[dtype]!=set():\n",
    "                color_structure = cell_color[dtype] # blue\n",
    "                for bs in this_cell[dtype]:\n",
    "                    s.layers['base_segs'].segments.add(int(bs))\n",
    "                    s.layers['base_segs'].segment_colors[int(bs)] = color_structure # blue\n",
    "    "
   ]
  },
  {
   "cell_type": "markdown",
   "id": "e5fd137d-f894-4bef-b63f-8211f6014da1",
   "metadata": {},
   "source": [
    "# remove displayed segments"
   ]
  },
  {
   "cell_type": "code",
   "execution_count": null,
   "id": "d9150198-c4fb-40bd-8ee7-9eb71ed06cb2",
   "metadata": {},
   "outputs": [],
   "source": [
    "displayed_segs = set([str(x) for x in viewer.state.layers['base_segs'].segments])"
   ]
  },
  {
   "cell_type": "code",
   "execution_count": null,
   "id": "eb5e5537-e0e2-42ca-802f-1e909039a479",
   "metadata": {},
   "outputs": [],
   "source": [
    "# REMOVE SEGMENTS FROM NGviewer\n",
    "remove_segs = displayed_segs\n",
    "\n",
    "with viewer.txn(overwrite=True) as s:\n",
    "    for bs in remove_segs:\n",
    "        if int(bs) in s.layers['base_segs'].segments:\n",
    "            s.layers['base_segs'].segments.remove(int(bs))"
   ]
  },
  {
   "cell_type": "markdown",
   "id": "cc6c139f-1d87-4217-8c8f-048f3552b953",
   "metadata": {},
   "source": [
    "# Pre-synaptic"
   ]
  },
  {
   "cell_type": "markdown",
   "id": "a3fa905e-71ee-493e-8f6e-09c539b15c98",
   "metadata": {},
   "source": [
    "## MG2"
   ]
  },
  {
   "cell_type": "code",
   "execution_count": 517,
   "id": "066fca6c-8d13-409d-bbec-3aca441463d6",
   "metadata": {},
   "outputs": [],
   "source": [
    "path_to_settings_json = '/Users/kperks/Documents/ell-connectome/eCREST-local-files/settings_dict.json'\n",
    "settings_dict = import_settings(path_to_settings_json)\n",
    "\n",
    "dirpath = Path(settings_dict['save_dir']) #/ 'todo_pre-synaptic/basal-dendrite_mg2'\n",
    "\n",
    "point_type = 'pre-synaptic'\n",
    "\n",
    "nodefiles = dict()\n",
    "for child in sorted(dirpath.iterdir()):\n",
    "    if (child.name[0]!='.') & (child.is_file()):\n",
    "        nodefiles[child.name.split('_')[2]] = child\n",
    "\n",
    "\n",
    "filename = 'cell_graph_299496636__2023-08-01 16.35.22.json' #'cell_graph_386392158__2023-05-22 14.40.21.json'\n",
    "cell = ecrest(settings_dict,filepath= Path(settings_dict['save_dir']) / filename, launch_viewer=False)\n",
    "syn_to_find = set([syn_[3] for syn_ in cell.cell_data['end_points'][point_type]])# if int(syn_[1]/vx_sizes[1])])"
   ]
  },
  {
   "cell_type": "code",
   "execution_count": 518,
   "id": "c4262af6-52ac-47a0-b75c-5354de901468",
   "metadata": {},
   "outputs": [],
   "source": [
    "base_segments = cell.get_base_segments_dict(Path(settings_dict['save_dir']))"
   ]
  },
  {
   "cell_type": "code",
   "execution_count": 519,
   "id": "e43f9f7d-52b7-4c1b-92cb-e2af9f7847d8",
   "metadata": {},
   "outputs": [
    {
     "name": "stdout",
     "output_type": "stream",
     "text": [
      "cell 131262091 is not cell-typed in json\n",
      "cell 395785887 is not cell-typed in json\n"
     ]
    },
    {
     "ename": "KeyboardInterrupt",
     "evalue": "",
     "output_type": "error",
     "traceback": [
      "\u001b[0;31m---------------------------------------------------------------------------\u001b[0m",
      "\u001b[0;31mKeyboardInterrupt\u001b[0m                         Traceback (most recent call last)",
      "\u001b[0;32m/var/folders/4n/x3rls3t16fn723p1tbd7w7fr0000gn/T/ipykernel_17026/3186392273.py\u001b[0m in \u001b[0;36m<module>\u001b[0;34m\u001b[0m\n\u001b[1;32m      9\u001b[0m \u001b[0mcell_type\u001b[0m \u001b[0;34m=\u001b[0m \u001b[0;34m{\u001b[0m\u001b[0;34m}\u001b[0m\u001b[0;34m\u001b[0m\u001b[0;34m\u001b[0m\u001b[0m\n\u001b[1;32m     10\u001b[0m \u001b[0;32mfor\u001b[0m \u001b[0mx\u001b[0m \u001b[0;32min\u001b[0m \u001b[0mnodes\u001b[0m\u001b[0;34m:\u001b[0m\u001b[0;34m\u001b[0m\u001b[0;34m\u001b[0m\u001b[0m\n\u001b[0;32m---> 11\u001b[0;31m     \u001b[0mcell\u001b[0m \u001b[0;34m=\u001b[0m \u001b[0mecrest\u001b[0m\u001b[0;34m(\u001b[0m\u001b[0msettings_dict\u001b[0m\u001b[0;34m,\u001b[0m\u001b[0mfilepath\u001b[0m \u001b[0;34m=\u001b[0m \u001b[0mnodefiles\u001b[0m\u001b[0;34m[\u001b[0m\u001b[0mx\u001b[0m\u001b[0;34m]\u001b[0m\u001b[0;34m,\u001b[0m\u001b[0mlaunch_viewer\u001b[0m\u001b[0;34m=\u001b[0m\u001b[0;32mFalse\u001b[0m\u001b[0;34m)\u001b[0m\u001b[0;34m\u001b[0m\u001b[0;34m\u001b[0m\u001b[0m\n\u001b[0m\u001b[1;32m     12\u001b[0m     \u001b[0mcell_type\u001b[0m\u001b[0;34m[\u001b[0m\u001b[0mx\u001b[0m\u001b[0;34m]\u001b[0m \u001b[0;34m=\u001b[0m \u001b[0mcell\u001b[0m\u001b[0;34m.\u001b[0m\u001b[0mget_ctype\u001b[0m\u001b[0;34m(\u001b[0m\u001b[0;34m'manual'\u001b[0m\u001b[0;34m)\u001b[0m\u001b[0;34m\u001b[0m\u001b[0;34m\u001b[0m\u001b[0m\n\u001b[1;32m     13\u001b[0m     \u001b[0;32mif\u001b[0m \u001b[0;34m(\u001b[0m\u001b[0mcell\u001b[0m\u001b[0;34m.\u001b[0m\u001b[0mget_ctype\u001b[0m\u001b[0;34m(\u001b[0m\u001b[0;34m'manual'\u001b[0m\u001b[0;34m)\u001b[0m \u001b[0;34m==\u001b[0m \u001b[0;34m[\u001b[0m\u001b[0;34m]\u001b[0m\u001b[0;34m)\u001b[0m \u001b[0;34m|\u001b[0m \u001b[0;34m(\u001b[0m\u001b[0mcell\u001b[0m\u001b[0;34m.\u001b[0m\u001b[0mget_ctype\u001b[0m\u001b[0;34m(\u001b[0m\u001b[0;34m'manual'\u001b[0m\u001b[0;34m)\u001b[0m \u001b[0;34m==\u001b[0m \u001b[0;34m''\u001b[0m\u001b[0;34m)\u001b[0m\u001b[0;34m:\u001b[0m\u001b[0;34m\u001b[0m\u001b[0;34m\u001b[0m\u001b[0m\n",
      "\u001b[0;32m~/Documents/ell-connectome/eCREST/eCREST_cli.py\u001b[0m in \u001b[0;36m__init__\u001b[0;34m(self, settings_dict, segment_id, segment_list, filepath, launch_viewer)\u001b[0m\n\u001b[1;32m     61\u001b[0m         \u001b[0;32mif\u001b[0m \u001b[0mfilepath\u001b[0m\u001b[0;34m!=\u001b[0m\u001b[0;32mNone\u001b[0m\u001b[0;34m:\u001b[0m\u001b[0;34m\u001b[0m\u001b[0;34m\u001b[0m\u001b[0m\n\u001b[1;32m     62\u001b[0m             \u001b[0;31m# initialize from file (crest .json state)\u001b[0m\u001b[0;34m\u001b[0m\u001b[0;34m\u001b[0m\u001b[0;34m\u001b[0m\u001b[0m\n\u001b[0;32m---> 63\u001b[0;31m             \u001b[0mself\u001b[0m\u001b[0;34m.\u001b[0m\u001b[0mload_from_file\u001b[0m\u001b[0;34m(\u001b[0m\u001b[0mfilepath\u001b[0m\u001b[0;34m)\u001b[0m\u001b[0;34m\u001b[0m\u001b[0;34m\u001b[0m\u001b[0m\n\u001b[0m\u001b[1;32m     64\u001b[0m         \u001b[0;31m#####\u001b[0m\u001b[0;34m\u001b[0m\u001b[0;34m\u001b[0m\u001b[0;34m\u001b[0m\u001b[0m\n\u001b[1;32m     65\u001b[0m \u001b[0;34m\u001b[0m\u001b[0m\n",
      "\u001b[0;32m~/Documents/ell-connectome/eCREST/eCREST_cli.py\u001b[0m in \u001b[0;36mload_from_file\u001b[0;34m(self, filepath)\u001b[0m\n\u001b[1;32m    206\u001b[0m \u001b[0;34m\u001b[0m\u001b[0m\n\u001b[1;32m    207\u001b[0m         \u001b[0;32mwith\u001b[0m \u001b[0mopen\u001b[0m\u001b[0;34m(\u001b[0m\u001b[0mfilepath\u001b[0m\u001b[0;34m,\u001b[0m \u001b[0;34m'r'\u001b[0m\u001b[0;34m)\u001b[0m \u001b[0;32mas\u001b[0m \u001b[0mmyfile\u001b[0m\u001b[0;34m:\u001b[0m \u001b[0;31m# 'p' is the dirpath and 'f' is the filename from the created 'd' dictionary\u001b[0m\u001b[0;34m\u001b[0m\u001b[0;34m\u001b[0m\u001b[0m\n\u001b[0;32m--> 208\u001b[0;31m             \u001b[0mcell_data\u001b[0m\u001b[0;34m=\u001b[0m\u001b[0mmyfile\u001b[0m\u001b[0;34m.\u001b[0m\u001b[0mread\u001b[0m\u001b[0;34m(\u001b[0m\u001b[0;34m)\u001b[0m\u001b[0;34m\u001b[0m\u001b[0;34m\u001b[0m\u001b[0m\n\u001b[0m\u001b[1;32m    209\u001b[0m             \u001b[0mself\u001b[0m\u001b[0;34m.\u001b[0m\u001b[0mcell_data\u001b[0m \u001b[0;34m=\u001b[0m \u001b[0mjson\u001b[0m\u001b[0;34m.\u001b[0m\u001b[0mloads\u001b[0m\u001b[0;34m(\u001b[0m\u001b[0mcell_data\u001b[0m\u001b[0;34m)\u001b[0m\u001b[0;34m\u001b[0m\u001b[0;34m\u001b[0m\u001b[0m\n\u001b[1;32m    210\u001b[0m \u001b[0;34m\u001b[0m\u001b[0m\n",
      "\u001b[0;32m~/opt/anaconda3/envs/ell/lib/python3.8/codecs.py\u001b[0m in \u001b[0;36mdecode\u001b[0;34m(self, input, final)\u001b[0m\n\u001b[1;32m    317\u001b[0m         \u001b[0;32mraise\u001b[0m \u001b[0mNotImplementedError\u001b[0m\u001b[0;34m\u001b[0m\u001b[0;34m\u001b[0m\u001b[0m\n\u001b[1;32m    318\u001b[0m \u001b[0;34m\u001b[0m\u001b[0m\n\u001b[0;32m--> 319\u001b[0;31m     \u001b[0;32mdef\u001b[0m \u001b[0mdecode\u001b[0m\u001b[0;34m(\u001b[0m\u001b[0mself\u001b[0m\u001b[0;34m,\u001b[0m \u001b[0minput\u001b[0m\u001b[0;34m,\u001b[0m \u001b[0mfinal\u001b[0m\u001b[0;34m=\u001b[0m\u001b[0;32mFalse\u001b[0m\u001b[0;34m)\u001b[0m\u001b[0;34m:\u001b[0m\u001b[0;34m\u001b[0m\u001b[0;34m\u001b[0m\u001b[0m\n\u001b[0m\u001b[1;32m    320\u001b[0m         \u001b[0;31m# decode input (taking the buffer into account)\u001b[0m\u001b[0;34m\u001b[0m\u001b[0;34m\u001b[0m\u001b[0;34m\u001b[0m\u001b[0m\n\u001b[1;32m    321\u001b[0m         \u001b[0mdata\u001b[0m \u001b[0;34m=\u001b[0m \u001b[0mself\u001b[0m\u001b[0;34m.\u001b[0m\u001b[0mbuffer\u001b[0m \u001b[0;34m+\u001b[0m \u001b[0minput\u001b[0m\u001b[0;34m\u001b[0m\u001b[0;34m\u001b[0m\u001b[0m\n",
      "\u001b[0;31mKeyboardInterrupt\u001b[0m: "
     ]
    }
   ],
   "source": [
    "nodes = []\n",
    "for k,v in base_segments.items():\n",
    "    if syn_to_find & v != set():\n",
    "        nodes.append(k)\n",
    "\n",
    "# nodes = [child.name.split('_')[2] for child in sorted(dirpath.iterdir()) \n",
    "#          if (child.name[0]!='.') & (child.is_file())] # ignore hidden files]\n",
    "\n",
    "cell_type = {}\n",
    "for x in nodes:\n",
    "    cell = ecrest(settings_dict,filepath = nodefiles[x],launch_viewer=False)\n",
    "    cell_type[x] = cell.get_ctype('manual') \n",
    "    if (cell.get_ctype('manual') == []) | (cell.get_ctype('manual') == ''):\n",
    "        print(f'cell {x} is not cell-typed in json')"
   ]
  },
  {
   "cell_type": "code",
   "execution_count": 438,
   "id": "126adc23-75de-4234-98f3-208cdeeb3889",
   "metadata": {},
   "outputs": [
    {
     "name": "stdout",
     "output_type": "stream",
     "text": [
      "96 pre-synaptic cells reconstructed\n",
      "aff: 1.0%\n",
      "grc: 5.2%\n",
      "sg untyped: 0.0%\n",
      "sg1: 35.4%\n",
      "sg2: 0.0%\n",
      "sgx: 2.1%\n",
      "mg1: 10.4%\n",
      "mg2: 1.0%\n",
      "uk: 32.3%\n"
     ]
    }
   ],
   "source": [
    "print(f'{len(cell_type)} pre-synaptic cells reconstructed')\n",
    "print(f'aff: {np.round(100*list(cell_type.values()).count(\"aff\")/len(cell_type),1)}%')\n",
    "print(f'grc: {np.round(100*list(cell_type.values()).count(\"grc\")/len(cell_type),1)}%')\n",
    "print(f'sg untyped: {np.round(100*list(cell_type.values()).count(\"sg\")/len(cell_type),1)}%')\n",
    "print(f'sg1: {np.round(100*list(cell_type.values()).count(\"sg1\")/len(cell_type),1)}%')\n",
    "print(f'sg2: {np.round(100*list(cell_type.values()).count(\"sg2\")/len(cell_type),1)}%')\n",
    "print(f'sgx: {np.round(100*list(cell_type.values()).count(\"sgx\")/len(cell_type),1)}%')\n",
    "print(f'mg1: {np.round(100*list(cell_type.values()).count(\"mg1\")/len(cell_type),1)}%')\n",
    "print(f'mg2: {np.round(100*list(cell_type.values()).count(\"mg2\")/len(cell_type),1)}%')\n",
    "print(f'uk: {np.round(100*list(cell_type.values()).count(\"uk\")/len(cell_type),1)}%')"
   ]
  },
  {
   "cell_type": "code",
   "execution_count": 7,
   "id": "ec13accf-1dde-4f5b-9715-89d2c9922787",
   "metadata": {},
   "outputs": [
    {
     "data": {
      "text/plain": [
       "[]"
      ]
     },
     "execution_count": 7,
     "metadata": {},
     "output_type": "execute_result"
    }
   ],
   "source": [
    "[key for key, val in cell_type.items() if 'sg' == val]"
   ]
  },
  {
   "cell_type": "code",
   "execution_count": 439,
   "id": "cfa417ea-98a5-4470-b32a-3dfecc9a8618",
   "metadata": {},
   "outputs": [],
   "source": [
    "viewer = get_viewer(backgnd_color='white')\n",
    "\n",
    "# filename = 'cell_graph_386392158__2023-05-22 14.40.21.json'\n",
    "cell = ecrest(settings_dict,filepath= Path(settings_dict['save_dir']) / filename, launch_viewer=False)\n",
    "main_seg = cell.cell_data['metadata']['main_seg']['base']\n",
    "\n",
    "lname = 'post-synaptic_' + cell.get_ctype('manual') + '_' + main_seg\n",
    "\n",
    "create_baseseg_layer(viewer, base_seg, lname, visible=True)\n",
    "\n",
    "with viewer.txn(overwrite=True) as s:\n",
    "    for bs in set([str(a) for b in cell.cell_data['base_segments'].values() for a in b]):\n",
    "        s.layers[lname].segments.add(int(bs))\n",
    "        s.layers[lname].segment_colors[int(bs)] = '#ffffff'#'#7300e6'#\n",
    "    \n",
    "    for bs in cell.cell_data['base_segments']['basal dendrite']:\n",
    "        s.layers[lname].segment_colors[int(bs)] = '#cd4b00'\n",
    "\n",
    "point_type = 'pre-synaptic'\n",
    "with viewer.txn(overwrite=True) as s:\n",
    "    s.layers[point_type] = neuroglancer.AnnotationLayer()\n",
    "    s.layers[point_type].annotationColor = '#00eeee'\n",
    "\n",
    "with viewer.txn(overwrite=True) as s:\n",
    "    for pos, point in enumerate(cell.cell_data['end_points'][point_type]):\n",
    "        if int(point[1]/vx_sizes[1])>17070:\n",
    "            point_array = array([int(point[x]/vx_sizes[x]) for x in range(3)])\n",
    "            point_id = f'{point_type}_{pos}'\n",
    "            pa = neuroglancer.PointAnnotation(id=point_id, point = point_array)\n",
    "            s.layers[point_type].annotations.append(pa)   "
   ]
  },
  {
   "cell_type": "code",
   "execution_count": 423,
   "id": "6a7e479b-257d-45ef-9fec-5ae15c6bac5f",
   "metadata": {},
   "outputs": [],
   "source": [
    "create_em_layer(viewer)"
   ]
  },
  {
   "cell_type": "code",
   "execution_count": 425,
   "id": "88abe4b4-806a-44f2-9422-4f64a556a3fd",
   "metadata": {},
   "outputs": [
    {
     "name": "stdout",
     "output_type": "stream",
     "text": [
      "grc_41_219161561\n",
      "grc_44_226019332\n",
      "grc_52_305020954\n",
      "grc_60_392042360\n",
      "grc_66_45120720\n"
     ]
    }
   ],
   "source": [
    "for i,x in enumerate(nodes):# = nodes[0]\n",
    "    if cell_type[x] in ['grc']:\n",
    "        lname = cell_type[x] + '_' + str(i+4) + '_' + x\n",
    "        create_baseseg_layer(viewer, base_seg, lname)#, objectAlpha = 0.5)\n",
    "        sleep(3)\n",
    "        print(lname)\n",
    "\n",
    "        cell = ecrest(settings_dict,filepath = nodefiles[x],launch_viewer=False)\n",
    "        sleep(2)\n",
    "        with viewer.txn(overwrite=True) as s:\n",
    "            for bs in set([str(a) for b in cell.cell_data['base_segments'].values() for a in b]):\n",
    "                s.layers[lname].segments.add(int(bs))\n",
    "                s.layers[lname].segment_colors[int(bs)] = '#00ccff'#'#d2b48c' # blue"
   ]
  },
  {
   "cell_type": "markdown",
   "id": "e264500d-0b22-4424-8092-cf7a938672be",
   "metadata": {},
   "source": [
    "## MG1"
   ]
  },
  {
   "cell_type": "code",
   "execution_count": 427,
   "id": "9006d69c-9c81-4d94-b423-6e07d9f006b2",
   "metadata": {},
   "outputs": [],
   "source": [
    "path_to_settings_json = '/Users/kperks/Documents/ell-connectome/eCREST-local-files/settings_dict.json'\n",
    "settings_dict = import_settings(path_to_settings_json)\n",
    "\n",
    "dirpath = Path(settings_dict['save_dir']) #/ 'todo_pre-synaptic/basal-dendrite_mg1'\n",
    "\n",
    "point_type = 'pre-synaptic'\n",
    "\n",
    "nodefiles = dict()\n",
    "for child in sorted(dirpath.iterdir()):\n",
    "    if (child.name[0]!='.') & (child.is_file()):\n",
    "        nodefiles[child.name.split('_')[2]] = child\n",
    "\n",
    "\n",
    "filename = 'cell_graph_299496636__2023-07-18 21.25.19.json' #'cell_graph_299392199__2023-05-19 15.23.56.json'\n",
    "cell = ecrest(settings_dict,filepath= Path(settings_dict['save_dir']) / filename, launch_viewer=False)\n",
    "syn_to_find = set([syn_[3] for syn_ in cell.cell_data['end_points'][point_type] if int(syn_[1]/vx_sizes[1])])"
   ]
  },
  {
   "cell_type": "code",
   "execution_count": 428,
   "id": "2176eaeb-4691-419e-afbc-d2c8e4806be2",
   "metadata": {},
   "outputs": [],
   "source": [
    "base_segments = cell.get_base_segments_dict(Path(settings_dict['save_dir']))\n",
    "\n",
    "nodes = []\n",
    "for k,v in base_segments.items():\n",
    "    if syn_to_find & v != set():\n",
    "        nodes.append(k)\n",
    "\n",
    "# nodes = [child.name.split('_')[2] for child in sorted(dirpath.iterdir()) \n",
    "#          if (child.name[0]!='.') & (child.is_file())] # ignore hidden files]\n",
    "\n",
    "cell_type = {}\n",
    "for x in nodes:\n",
    "    cell = ecrest(settings_dict,filepath = nodefiles[x],launch_viewer=False)\n",
    "    cell_type[x] = cell.get_ctype('manual') \n",
    "    if (cell.get_ctype('manual') == []) | (cell.get_ctype('manual') == ''):\n",
    "        print(f'cell {x} is not cell-typed in json')"
   ]
  },
  {
   "cell_type": "code",
   "execution_count": 429,
   "id": "b9bf850e-b32e-44dd-9464-4b40a1ecaabd",
   "metadata": {},
   "outputs": [
    {
     "name": "stdout",
     "output_type": "stream",
     "text": [
      "134 pre-synaptic cells reconstructed\n",
      "aff: 0.0%\n",
      "grc: 28.4%\n",
      "sg untyped: 0.0%\n",
      "sg1: 0.0%\n",
      "sg2: 17.9%\n",
      "sgx: 11.2%\n",
      "mg1: 0.0%\n",
      "mg2: 14.2%\n",
      "uk: 17.2%\n"
     ]
    }
   ],
   "source": [
    "print(f'{len(cell_type)} pre-synaptic cells reconstructed')\n",
    "print(f'aff: {np.round(100*list(cell_type.values()).count(\"aff\")/len(cell_type),1)}%')\n",
    "print(f'grc: {np.round(100*list(cell_type.values()).count(\"grc\")/len(cell_type),1)}%')\n",
    "print(f'sg untyped: {np.round(100*list(cell_type.values()).count(\"sg\")/len(cell_type),1)}%')\n",
    "print(f'sg1: {np.round(100*list(cell_type.values()).count(\"sg1\")/len(cell_type),1)}%')\n",
    "print(f'sg2: {np.round(100*list(cell_type.values()).count(\"sg2\")/len(cell_type),1)}%')\n",
    "print(f'sgx: {np.round(100*list(cell_type.values()).count(\"sgx\")/len(cell_type),1)}%')\n",
    "print(f'mg1: {np.round(100*list(cell_type.values()).count(\"mg1\")/len(cell_type),1)}%')\n",
    "print(f'mg2: {np.round(100*list(cell_type.values()).count(\"mg2\")/len(cell_type),1)}%')\n",
    "print(f'uk: {np.round(100*list(cell_type.values()).count(\"uk\")/len(cell_type),1)}%')"
   ]
  },
  {
   "cell_type": "code",
   "execution_count": 44,
   "id": "4cb8700f-ca85-44a3-b4d5-8fda3667a387",
   "metadata": {},
   "outputs": [
    {
     "data": {
      "text/plain": [
       "['389891028', '45139623', '473491444']"
      ]
     },
     "execution_count": 44,
     "metadata": {},
     "output_type": "execute_result"
    }
   ],
   "source": [
    "[key for key, val in cell_type.items() if 'sg' == val]"
   ]
  },
  {
   "cell_type": "code",
   "execution_count": 430,
   "id": "af06d4b6-9b64-42d7-b1f9-cffad5eb2244",
   "metadata": {},
   "outputs": [],
   "source": [
    "viewer = get_viewer(backgnd_color='white')"
   ]
  },
  {
   "cell_type": "code",
   "execution_count": 432,
   "id": "4e9ed6ef-8c50-41aa-bed2-488a93a0b160",
   "metadata": {},
   "outputs": [],
   "source": [
    "# filename = 'cell_graph_299392199__2023-05-19 15.23.56.json'\n",
    "cell = ecrest(settings_dict,filepath= Path(settings_dict['save_dir']) / filename, launch_viewer=False)\n",
    "main_seg = cell.cell_data['metadata']['main_seg']['base']\n",
    "\n",
    "lname = 'post-synaptic_' + cell.get_ctype('manual') + '_' + main_seg\n",
    "\n",
    "create_baseseg_layer(viewer, base_seg, lname, visible=False)\n",
    "\n",
    "with viewer.txn(overwrite=True) as s:\n",
    "    for bs in set([str(a) for b in cell.cell_data['base_segments'].values() for a in b]):\n",
    "        s.layers[lname].segments.add(int(bs))\n",
    "        s.layers[lname].segment_colors[int(bs)] = '#ffffff'#'#7300e6'#'#ff471a'\n",
    "    \n",
    "    for bs in cell.cell_data['base_segments']['basal dendrite']:\n",
    "        s.layers[lname].segment_colors[int(bs)] = '#cd4b00'\n",
    "\n",
    "point_type = 'pre-synaptic'\n",
    "with viewer.txn(overwrite=True) as s:\n",
    "    s.layers[point_type] = neuroglancer.AnnotationLayer()\n",
    "    s.layers[point_type].annotationColor = '#00eeee'\n",
    "\n",
    "with viewer.txn(overwrite=True) as s:\n",
    "    for pos, point in enumerate(cell.cell_data['end_points'][point_type]):\n",
    "        point_array = array([int(point[x]/vx_sizes[x]) for x in range(3)])\n",
    "        point_id = f'{point_type}_{pos}'\n",
    "        pa = neuroglancer.PointAnnotation(id=point_id, point = point_array)\n",
    "        s.layers[point_type].annotations.append(pa)   "
   ]
  },
  {
   "cell_type": "code",
   "execution_count": 433,
   "id": "1b9ed65c-1f02-4b19-a21b-bd8d3591e513",
   "metadata": {},
   "outputs": [],
   "source": [
    "create_em_layer(viewer)"
   ]
  },
  {
   "cell_type": "code",
   "execution_count": 434,
   "id": "37f18919-0def-4116-894c-b95dacc7912d",
   "metadata": {},
   "outputs": [
    {
     "name": "stdout",
     "output_type": "stream",
     "text": [
      "mg2_6_129030308\n",
      "mg2_30_213545590\n",
      "mg2_33_214581797\n",
      "mg2_34_215988767\n",
      "mg2_57_300689181\n",
      "mg2_58_302544942\n",
      "mg2_60_303166992\n",
      "mg2_80_386392158\n",
      "mg2_81_387382792\n",
      "mg2_83_389998392\n",
      "mg2_93_41809137\n",
      "mg2_94_42015852\n",
      "mg2_97_45184254\n",
      "mg2_108_472051969\n",
      "mg2_109_472284925\n",
      "mg2_110_472361842\n",
      "mg2_111_472517114\n",
      "mg2_113_474839189\n",
      "mg2_129_558300217\n"
     ]
    }
   ],
   "source": [
    "for i,x in enumerate(nodes):# = nodes[0]\n",
    "    if cell_type[x] in ['mg2']:\n",
    "        lname = cell_type[x] + '_' + str(i+4) + '_' + x\n",
    "        create_baseseg_layer(viewer, base_seg, lname)#, objectAlpha = 0.5)\n",
    "        sleep(2)\n",
    "        print(lname)\n",
    "\n",
    "        cell = ecrest(settings_dict,filepath = nodefiles[x],launch_viewer=False)\n",
    "        sleep(2)\n",
    "        with viewer.txn(overwrite=True) as s:\n",
    "            for bs in set([str(a) for b in cell.cell_data['base_segments'].values() for a in b]):\n",
    "                s.layers[lname].segments.add(int(bs))\n",
    "                s.layers[lname].segment_colors[int(bs)] = '#0000ff'#'#d2b48c' # blue"
   ]
  },
  {
   "cell_type": "markdown",
   "id": "6f9e0431-c1c8-439c-8690-0c583dd2d41e",
   "metadata": {},
   "source": [
    "## SG2\n",
    "\n",
    "Cell ID = 218095913"
   ]
  },
  {
   "cell_type": "code",
   "execution_count": 9,
   "id": "ff8d794b-09e3-453d-8f8d-98e6ced1433c",
   "metadata": {},
   "outputs": [],
   "source": [
    "path_to_settings_json = '/Users/kperks/Documents/ell-connectome/eCREST-local-files/settings_dict.json'\n",
    "settings_dict = import_settings(path_to_settings_json)\n",
    "\n",
    "dirpath = Path(settings_dict['save_dir']) #/ 'todo_pre-synaptic/basal-dendrite_mg1'\n",
    "\n",
    "point_type = 'pre-synaptic'\n",
    "\n",
    "nodefiles = dict()\n",
    "for child in sorted(dirpath.iterdir()):\n",
    "    if (child.name[0]!='.') & (child.is_file()):\n",
    "        nodefiles[child.name.split('_')[2]] = child\n",
    "\n",
    "\n",
    "filename = 'cell_graph_218095913__2023-06-04 20.44.42.json'\n",
    "cell = ecrest(settings_dict,filepath= Path(settings_dict['save_dir']) / filename, launch_viewer=False)\n",
    "syn_to_find = set([syn_[3] for syn_ in cell.cell_data['end_points'][point_type] if int(syn_[1]/vx_sizes[1])])"
   ]
  },
  {
   "cell_type": "code",
   "execution_count": 10,
   "id": "075a483f-27b8-4937-9bd5-ee81969ef2ba",
   "metadata": {},
   "outputs": [],
   "source": [
    "base_segments = cell.get_base_segments_dict(Path(settings_dict['save_dir']))\n",
    "\n",
    "nodes = []\n",
    "for k,v in base_segments.items():\n",
    "    if syn_to_find & v != set():\n",
    "        nodes.append(k)\n",
    "\n",
    "# nodes = [child.name.split('_')[2] for child in sorted(dirpath.iterdir()) \n",
    "#          if (child.name[0]!='.') & (child.is_file())] # ignore hidden files]\n",
    "\n",
    "cell_type = {}\n",
    "for x in nodes:\n",
    "    cell = ecrest(settings_dict,filepath = nodefiles[x],launch_viewer=False)\n",
    "    cell_type[x] = cell.get_ctype('manual') \n",
    "    if (cell.get_ctype('manual') == []) | (cell.get_ctype('manual') == ''):\n",
    "        print(f'cell {x} is not cell-typed in json')"
   ]
  },
  {
   "cell_type": "code",
   "execution_count": 11,
   "id": "1a6e5ba1-b809-4276-9db6-7df77c6b2c8f",
   "metadata": {},
   "outputs": [
    {
     "name": "stdout",
     "output_type": "stream",
     "text": [
      "48 pre-synaptic cells reconstructed\n",
      "aff: 2.1%\n",
      "grc: 0.0%\n",
      "sg untyped: 0.0%\n",
      "sg1: 14.6%\n",
      "sg2: 0.0%\n",
      "sgx: 16.7%\n",
      "mg1: 0.0%\n",
      "mg2: 0.0%\n",
      "uk: 66.7%\n"
     ]
    }
   ],
   "source": [
    "print(f'{len(cell_type)} pre-synaptic cells reconstructed')\n",
    "print(f'aff: {np.round(100*list(cell_type.values()).count(\"aff\")/len(cell_type),1)}%')\n",
    "print(f'grc: {np.round(100*list(cell_type.values()).count(\"grc\")/len(cell_type),1)}%')\n",
    "print(f'sg untyped: {np.round(100*list(cell_type.values()).count(\"sg\")/len(cell_type),1)}%')\n",
    "print(f'sg1: {np.round(100*list(cell_type.values()).count(\"sg1\")/len(cell_type),1)}%')\n",
    "print(f'sg2: {np.round(100*list(cell_type.values()).count(\"sg2\")/len(cell_type),1)}%')\n",
    "print(f'sgx: {np.round(100*list(cell_type.values()).count(\"sgx\")/len(cell_type),1)}%')\n",
    "print(f'mg1: {np.round(100*list(cell_type.values()).count(\"mg1\")/len(cell_type),1)}%')\n",
    "print(f'mg2: {np.round(100*list(cell_type.values()).count(\"mg2\")/len(cell_type),1)}%')\n",
    "print(f'uk: {np.round(100*list(cell_type.values()).count(\"uk\")/len(cell_type),1)}%')"
   ]
  },
  {
   "cell_type": "code",
   "execution_count": 44,
   "id": "ead7bdc1-ebed-4a09-b68e-89b9725bbb04",
   "metadata": {},
   "outputs": [
    {
     "data": {
      "text/plain": [
       "['389891028', '45139623', '473491444']"
      ]
     },
     "execution_count": 44,
     "metadata": {},
     "output_type": "execute_result"
    }
   ],
   "source": [
    "[key for key, val in cell_type.items() if 'sg' == val]"
   ]
  },
  {
   "cell_type": "code",
   "execution_count": 12,
   "id": "35a7ae7c-3339-449f-b0f6-730c4116dbb9",
   "metadata": {},
   "outputs": [],
   "source": [
    "viewer = get_viewer(backgnd_color='white')"
   ]
  },
  {
   "cell_type": "code",
   "execution_count": 13,
   "id": "e12e2042-a9aa-413b-9593-e9bf5e1fdb13",
   "metadata": {},
   "outputs": [],
   "source": [
    "filename = 'cell_graph_218095913__2023-06-04 20.44.42.json'\n",
    "cell = ecrest(settings_dict,filepath= Path(settings_dict['save_dir']) / filename, launch_viewer=False)\n",
    "main_seg = cell.cell_data['metadata']['main_seg']['base']\n",
    "\n",
    "lname = 'post-synaptic_' + cell.get_ctype('manual') + '_' + main_seg\n",
    "\n",
    "create_baseseg_layer(viewer, base_seg, lname, visible=False)\n",
    "\n",
    "with viewer.txn(overwrite=True) as s:\n",
    "    for bs in set([str(a) for b in cell.cell_data['base_segments'].values() for a in b]):\n",
    "        s.layers[lname].segments.add(int(bs))\n",
    "        s.layers[lname].segment_colors[int(bs)] = '#ffffff'#'#7300e6'#'#ff471a'\n",
    "    \n",
    "    for bs in cell.cell_data['base_segments']['basal dendrite']:\n",
    "        s.layers[lname].segment_colors[int(bs)] = '#cd4b00'\n",
    "\n",
    "point_type = 'pre-synaptic'\n",
    "with viewer.txn(overwrite=True) as s:\n",
    "    s.layers[point_type] = neuroglancer.AnnotationLayer()\n",
    "    s.layers[point_type].annotationColor = '#00eeee'\n",
    "\n",
    "with viewer.txn(overwrite=True) as s:\n",
    "    for pos, point in enumerate(cell.cell_data['end_points'][point_type]):\n",
    "        point_array = array([int(point[x]/vx_sizes[x]) for x in range(3)])\n",
    "        point_id = f'{point_type}_{pos}'\n",
    "        pa = neuroglancer.PointAnnotation(id=point_id, point = point_array)\n",
    "        s.layers[point_type].annotations.append(pa)   "
   ]
  },
  {
   "cell_type": "code",
   "execution_count": 494,
   "id": "b76df3fa-41ed-4eb5-891d-4f9157071d7a",
   "metadata": {},
   "outputs": [],
   "source": [
    "create_em_layer(viewer)"
   ]
  },
  {
   "cell_type": "code",
   "execution_count": 14,
   "id": "fdb23699-49fb-4adc-aeab-46e4cdefbc4d",
   "metadata": {},
   "outputs": [
    {
     "name": "stdout",
     "output_type": "stream",
     "text": [
      "sgx_4_131119431\n",
      "sgx_5_131121644\n",
      "sgx_6_133409526\n",
      "uk_7_134569813\n",
      "uk_8_136829335\n",
      "uk_9_137930984\n",
      "uk_10_137946477\n",
      "aff_11_139041402\n",
      "uk_12_139057883\n",
      "uk_13_139073758\n",
      "sg1_14_214753816\n",
      "sg1_15_215820918\n",
      "uk_16_215822620\n",
      "sg1_17_215835078\n",
      "sg1_18_216949671\n",
      "uk_19_216950312\n",
      "uk_20_216951258\n",
      "uk_21_216966146\n",
      "uk_22_216966306\n",
      "sgx_23_216977942\n",
      "sgx_24_216993571\n",
      "uk_25_218095146\n",
      "uk_26_218096691\n",
      "uk_27_218109951\n",
      "uk_28_218111841\n",
      "uk_29_219238897\n",
      "uk_30_219254767\n",
      "sgx_31_219255202\n",
      "uk_32_219256490\n",
      "uk_33_220341622\n",
      "uk_34_220383275\n",
      "sg1_35_220398612\n",
      "uk_36_220399756\n",
      "uk_37_221559187\n",
      "uk_38_221574057\n",
      "uk_39_222673388\n",
      "sg1_40_300565422\n",
      "uk_41_305116146\n",
      "uk_42_306289985\n",
      "uk_43_306290102\n",
      "uk_44_310871239\n",
      "sgx_45_388682967\n",
      "uk_46_390957492\n",
      "sg1_47_45233468\n",
      "uk_48_47520559\n",
      "uk_49_47521306\n"
     ]
    }
   ],
   "source": [
    "for i,x in enumerate(nodes):# = nodes[0]\n",
    "    # if cell_type[x] in ['grc']:\n",
    "    lname = cell_type[x] + '_' + str(i+4) + '_' + x\n",
    "    create_baseseg_layer(viewer, base_seg, lname, objectAlpha = 0.5)\n",
    "    sleep(2)\n",
    "    print(lname)\n",
    "\n",
    "    cell = ecrest(settings_dict,filepath = nodefiles[x],launch_viewer=False)\n",
    "    sleep(2)\n",
    "    with viewer.txn(overwrite=True) as s:\n",
    "        for bs in set([str(a) for b in cell.cell_data['base_segments'].values() for a in b]):\n",
    "            s.layers[lname].segments.add(int(bs))\n",
    "            s.layers[lname].segment_colors[int(bs)] = '#0000ff'#'#d2b48c' # blue"
   ]
  },
  {
   "cell_type": "markdown",
   "id": "aecf013d-7eeb-4532-800c-39f5052a3dec",
   "metadata": {},
   "source": [
    "## SG1\n",
    "\n",
    "Cell ID = 128832297"
   ]
  },
  {
   "cell_type": "code",
   "execution_count": 9,
   "id": "312d5704-0faf-43a9-9b33-3b5d9c8e78f8",
   "metadata": {},
   "outputs": [],
   "source": [
    "path_to_settings_json = '/Users/kperks/Documents/ell-connectome/eCREST-local-files/settings_dict.json'\n",
    "settings_dict = import_settings(path_to_settings_json)\n",
    "\n",
    "dirpath = Path(settings_dict['save_dir']) #/ 'todo_pre-synaptic/basal-dendrite_mg1'\n",
    "\n",
    "point_type = 'pre-synaptic'\n",
    "\n",
    "nodefiles = dict()\n",
    "for child in sorted(dirpath.iterdir()):\n",
    "    if (child.name[0]!='.') & (child.is_file()):\n",
    "        nodefiles[child.name.split('_')[2]] = child\n",
    "\n",
    "\n",
    "filename = 'cell_graph_128832297__2023-05-22 14.57.12.json'\n",
    "cell = ecrest(settings_dict,filepath= Path(settings_dict['save_dir']) / filename, launch_viewer=False)\n",
    "syn_to_find = set([syn_[3] for syn_ in cell.cell_data['end_points'][point_type] if int(syn_[1]/vx_sizes[1])])"
   ]
  },
  {
   "cell_type": "code",
   "execution_count": 10,
   "id": "707cdbc0-408c-4e4f-84c1-3970b96a2f0e",
   "metadata": {},
   "outputs": [],
   "source": [
    "base_segments = cell.get_base_segments_dict(Path(settings_dict['save_dir']))\n",
    "\n",
    "nodes = []\n",
    "for k,v in base_segments.items():\n",
    "    if syn_to_find & v != set():\n",
    "        nodes.append(k)\n",
    "\n",
    "# nodes = [child.name.split('_')[2] for child in sorted(dirpath.iterdir()) \n",
    "#          if (child.name[0]!='.') & (child.is_file())] # ignore hidden files]\n",
    "\n",
    "cell_type = {}\n",
    "for x in nodes:\n",
    "    cell = ecrest(settings_dict,filepath = nodefiles[x],launch_viewer=False)\n",
    "    cell_type[x] = cell.get_ctype('manual') \n",
    "    if (cell.get_ctype('manual') == []) | (cell.get_ctype('manual') == ''):\n",
    "        print(f'cell {x} is not cell-typed in json')"
   ]
  },
  {
   "cell_type": "code",
   "execution_count": null,
   "id": "a16aa404-264c-47b5-ab7f-2e37a37e6f16",
   "metadata": {},
   "outputs": [],
   "source": [
    "print(f'{len(cell_type)} pre-synaptic cells reconstructed')\n",
    "print(f'aff: {np.round(100*list(cell_type.values()).count(\"aff\")/len(cell_type),1)}%')\n",
    "print(f'grc: {np.round(100*list(cell_type.values()).count(\"grc\")/len(cell_type),1)}%')\n",
    "print(f'sg untyped: {np.round(100*list(cell_type.values()).count(\"sg\")/len(cell_type),1)}%')\n",
    "print(f'sg1: {np.round(100*list(cell_type.values()).count(\"sg1\")/len(cell_type),1)}%')\n",
    "print(f'sg2: {np.round(100*list(cell_type.values()).count(\"sg2\")/len(cell_type),1)}%')\n",
    "print(f'sgx: {np.round(100*list(cell_type.values()).count(\"sgx\")/len(cell_type),1)}%')\n",
    "print(f'mg1: {np.round(100*list(cell_type.values()).count(\"mg1\")/len(cell_type),1)}%')\n",
    "print(f'mg2: {np.round(100*list(cell_type.values()).count(\"mg2\")/len(cell_type),1)}%')\n",
    "print(f'uk: {np.round(100*list(cell_type.values()).count(\"uk\")/len(cell_type),1)}%')"
   ]
  },
  {
   "cell_type": "code",
   "execution_count": null,
   "id": "145cb086-7868-4855-9fe8-05b7900d6df8",
   "metadata": {},
   "outputs": [],
   "source": [
    "[key for key, val in cell_type.items() if 'sg' == val]"
   ]
  },
  {
   "cell_type": "code",
   "execution_count": 12,
   "id": "534192ff-858f-429a-a8de-700a51e318b7",
   "metadata": {},
   "outputs": [],
   "source": [
    "viewer = get_viewer(backgnd_color='white')"
   ]
  },
  {
   "cell_type": "code",
   "execution_count": 13,
   "id": "128c06e8-03c2-4945-aed6-86e519f9ed21",
   "metadata": {},
   "outputs": [],
   "source": [
    "filename = 'cell_graph_218095913__2023-06-04 20.44.42.json'\n",
    "cell = ecrest(settings_dict,filepath= Path(settings_dict['save_dir']) / filename, launch_viewer=False)\n",
    "main_seg = cell.cell_data['metadata']['main_seg']['base']\n",
    "\n",
    "lname = 'post-synaptic_' + cell.get_ctype('manual') + '_' + main_seg\n",
    "\n",
    "create_baseseg_layer(viewer, base_seg, lname, visible=False)\n",
    "\n",
    "with viewer.txn(overwrite=True) as s:\n",
    "    for bs in set([str(a) for b in cell.cell_data['base_segments'].values() for a in b]):\n",
    "        s.layers[lname].segments.add(int(bs))\n",
    "        s.layers[lname].segment_colors[int(bs)] = '#ffffff'#'#7300e6'#'#ff471a'\n",
    "    \n",
    "    for bs in cell.cell_data['base_segments']['basal dendrite']:\n",
    "        s.layers[lname].segment_colors[int(bs)] = '#cd4b00'\n",
    "\n",
    "point_type = 'pre-synaptic'\n",
    "with viewer.txn(overwrite=True) as s:\n",
    "    s.layers[point_type] = neuroglancer.AnnotationLayer()\n",
    "    s.layers[point_type].annotationColor = '#00eeee'\n",
    "\n",
    "with viewer.txn(overwrite=True) as s:\n",
    "    for pos, point in enumerate(cell.cell_data['end_points'][point_type]):\n",
    "        point_array = array([int(point[x]/vx_sizes[x]) for x in range(3)])\n",
    "        point_id = f'{point_type}_{pos}'\n",
    "        pa = neuroglancer.PointAnnotation(id=point_id, point = point_array)\n",
    "        s.layers[point_type].annotations.append(pa)   "
   ]
  },
  {
   "cell_type": "code",
   "execution_count": 494,
   "id": "99c558dd-29d0-4640-9001-9fd915363694",
   "metadata": {},
   "outputs": [],
   "source": [
    "create_em_layer(viewer)"
   ]
  },
  {
   "cell_type": "code",
   "execution_count": 14,
   "id": "df2b3dbd-3595-41fd-872c-71bc5dc7ecbd",
   "metadata": {},
   "outputs": [
    {
     "name": "stdout",
     "output_type": "stream",
     "text": [
      "sgx_4_131119431\n",
      "sgx_5_131121644\n",
      "sgx_6_133409526\n",
      "uk_7_134569813\n",
      "uk_8_136829335\n",
      "uk_9_137930984\n",
      "uk_10_137946477\n",
      "aff_11_139041402\n",
      "uk_12_139057883\n",
      "uk_13_139073758\n",
      "sg1_14_214753816\n",
      "sg1_15_215820918\n",
      "uk_16_215822620\n",
      "sg1_17_215835078\n",
      "sg1_18_216949671\n",
      "uk_19_216950312\n",
      "uk_20_216951258\n",
      "uk_21_216966146\n",
      "uk_22_216966306\n",
      "sgx_23_216977942\n",
      "sgx_24_216993571\n",
      "uk_25_218095146\n",
      "uk_26_218096691\n",
      "uk_27_218109951\n",
      "uk_28_218111841\n",
      "uk_29_219238897\n",
      "uk_30_219254767\n",
      "sgx_31_219255202\n",
      "uk_32_219256490\n",
      "uk_33_220341622\n",
      "uk_34_220383275\n",
      "sg1_35_220398612\n",
      "uk_36_220399756\n",
      "uk_37_221559187\n",
      "uk_38_221574057\n",
      "uk_39_222673388\n",
      "sg1_40_300565422\n",
      "uk_41_305116146\n",
      "uk_42_306289985\n",
      "uk_43_306290102\n",
      "uk_44_310871239\n",
      "sgx_45_388682967\n",
      "uk_46_390957492\n",
      "sg1_47_45233468\n",
      "uk_48_47520559\n",
      "uk_49_47521306\n"
     ]
    }
   ],
   "source": [
    "for i,x in enumerate(nodes):# = nodes[0]\n",
    "    # if cell_type[x] in ['grc']:\n",
    "    lname = cell_type[x] + '_' + str(i+4) + '_' + x\n",
    "    create_baseseg_layer(viewer, base_seg, lname, objectAlpha = 0.5)\n",
    "    sleep(2)\n",
    "    print(lname)\n",
    "\n",
    "    cell = ecrest(settings_dict,filepath = nodefiles[x],launch_viewer=False)\n",
    "    sleep(2)\n",
    "    with viewer.txn(overwrite=True) as s:\n",
    "        for bs in set([str(a) for b in cell.cell_data['base_segments'].values() for a in b]):\n",
    "            s.layers[lname].segments.add(int(bs))\n",
    "            s.layers[lname].segment_colors[int(bs)] = '#0000ff'#'#d2b48c' # blue"
   ]
  },
  {
   "cell_type": "markdown",
   "id": "65b95c4a-0e41-41a5-b945-c63f2e91ab7c",
   "metadata": {},
   "source": [
    "## Meta\n",
    "\n",
    "MG1\n",
    "\n",
    "53 pre-synaptic cells reconstructed\n",
    "\n",
    "aff: 0.0%\n",
    "grc: 35.8%\n",
    "sg untyped: 0.0%\n",
    "sg1: 0.0%\n",
    "sg2: 26.4%\n",
    "sgx: 1.9%\n",
    "mg1: 0.0%\n",
    "mg2: 11.3%\n",
    "uk: 24.5%\n",
    "\n",
    "MG2\n",
    "\n",
    "65 pre-synaptic cells reconstructed\n",
    "aff: 3.1%\n",
    "grc: 10.8%\n",
    "sg untyped: 0.0%\n",
    "sg1: 29.2%\n",
    "sg2: 0.0%\n",
    "sgx: 13.8%\n",
    "mg1: 3.1%\n",
    "mg2: 0.0%\n",
    "uk: 38.5%\n",
    "\n",
    "**SG2**\n",
    "\n",
    "48 pre-synaptic cells reconstructed\n",
    "\n",
    "aff: 2.1%\n",
    "grc: 0.0%\n",
    "sg untyped: 0.0%\n",
    "sg1: 14.6%\n",
    "sg2: 0.0%\n",
    "sgx: 16.7%\n",
    "mg1: 0.0%\n",
    "mg2: 0.0%\n",
    "uk: 66.7%"
   ]
  },
  {
   "cell_type": "code",
   "execution_count": 12,
   "id": "5900bf0b-bb4e-4f40-86dc-0bda338623c2",
   "metadata": {},
   "outputs": [
    {
     "data": {
      "image/png": "[encoded data removed]",
      "text/plain": [
       "<Figure size 640x480 with 1 Axes>"
      ]
     },
     "metadata": {},
     "output_type": "display_data"
    }
   ],
   "source": [
    "fig = plt.figure()\n",
    "ax = plt.subplot(111)\n",
    "\n",
    "pre_type = pd.DataFrame({'afferent': [0,3.1,2.1],\n",
    "                         'granular': [35.8,10.8,0],\n",
    "                         'sg1': [0,29.2,14.6],\n",
    "                         'sg2': [26.4,0,0],\n",
    "                         'sgx': [1.9,13.8,16.7],\n",
    "                         'mg1': [0,3.1,0],\n",
    "                         'mg2':[11.3,0,0],\n",
    "                         'unknown':[24.5,38.5,66.7]},\n",
    "                        index=['mg1', 'mg2', 'sg2'])\n",
    " \n",
    " \n",
    "pre_type.plot(kind='bar', stacked=True, ax=ax)\n",
    "ax.legend(bbox_to_anchor=(1.1, 1.05));\n",
    "\n",
    "# # Add Title and Labels\n",
    "# plt.title('Intermediate Students Pass %')\n",
    "# plt.xlabel('Year')\n",
    "# plt.ylabel('Percentage Ranges')"
   ]
  },
  {
   "cell_type": "code",
   "execution_count": 13,
   "id": "2440f3b9-862b-4f27-b877-b4db2c370880",
   "metadata": {},
   "outputs": [],
   "source": [
    "pre_type = pre_type.melt(ignore_index = False).reset_index()"
   ]
  },
  {
   "cell_type": "code",
   "execution_count": 14,
   "id": "207a26e4-075b-45bb-a989-f5059fab0b5d",
   "metadata": {},
   "outputs": [
    {
     "data": {
      "text/plain": [
       "Text(0, 0.5, 'Percent pre-synaptic cells')"
      ]
     },
     "execution_count": 14,
     "metadata": {},
     "output_type": "execute_result"
    },
    {
     "data": {
      "image/png": "[encoded data removed]",
      "text/plain": [
       "<Figure size 640x480 with 1 Axes>"
      ]
     },
     "metadata": {},
     "output_type": "display_data"
    }
   ],
   "source": [
    "colors = [\"#fd9400\", \"#9934ff\",\"000000\"] #color_structure = {'mg1':'#fd9400', 'mg2':'#9934ff'}\n",
    "# Set your custom color palette\n",
    "sns.set_palette(sns.color_palette(colors))\n",
    "sns.barplot(data=pre_type, x=\"variable\", y=\"value\", hue=\"index\")\n",
    "plt.xlabel('type')\n",
    "plt.ylabel('Percent pre-synaptic cells')"
   ]
  },
  {
   "cell_type": "markdown",
   "id": "fda032b8-0d2d-4a7c-924a-d41721c38fdb",
   "metadata": {},
   "source": [
    "# Channels"
   ]
  },
  {
   "cell_type": "markdown",
   "id": "ad5cceb4-7603-44cf-83f5-bea7bbf631f0",
   "metadata": {},
   "source": [
    "## DisInhibition"
   ]
  },
  {
   "cell_type": "code",
   "execution_count": null,
   "id": "351e67b0-549b-4501-a618-34092a2b5134",
   "metadata": {},
   "outputs": [],
   "source": [
    "# cell_colors = {\n",
    "#     'mg2' : '#0000ff',\n",
    "#     'lf' : '#ff0000',\n",
    "#     'mg1' : '#0000ff',\n",
    "#     'lg' : '#ff0000',\n",
    "#     'sgx' : '#0000ff',\n",
    "#     'sg2' : '#0000ff',\n",
    "#     'sg1' : '#0000ff',\n",
    "#     'grc' : '#0000ff',\n",
    "#     'aff' : '#ff0000',    \n",
    "# }\n"
   ]
  },
  {
   "cell_type": "code",
   "execution_count": 16,
   "id": "950f9209-75ea-4750-9644-fa1459cbbd36",
   "metadata": {},
   "outputs": [],
   "source": [
    "path_to_settings_json = '/Users/kperks/Documents/ell-connectome/eCREST-local-files/settings_dict.json'\n",
    "settings_dict = import_settings(path_to_settings_json)\n",
    "\n",
    "dirpath = Path(settings_dict['save_dir']) #/ 'todo_pre-synaptic/basal-dendrite_mg2'\n",
    "\n",
    "nodefiles = dict()\n",
    "for child in sorted(dirpath.iterdir()):\n",
    "    if (child.name[0]!='.') & (child.is_file()):\n",
    "        nodefiles[child.name.split('_')[2]] = child\n",
    "\n",
    "cell = ecrest(settings_dict,launch_viewer=False)\n",
    "\n",
    "base_segments = cell.get_base_segments_dict(Path(settings_dict['save_dir']))"
   ]
  },
  {
   "cell_type": "code",
   "execution_count": 173,
   "id": "1f456aa0-1fd5-40e3-ac91-87263e205d68",
   "metadata": {},
   "outputs": [],
   "source": [
    "# nodes = ['214581797',\n",
    "#          # '299249397',\n",
    "#         '135497190',\n",
    "#         # '134492570',\n",
    "#         #'302714728',\n",
    "#         #'308471538',\n",
    "#         '305051491',\n",
    "#         '228321391',\n",
    "#         '56569586']\n",
    "\n",
    "nodes = ['134492570',\n",
    "         '386392158',\n",
    "         '389812730',\n",
    "        '403522169',\n",
    "        '313068329',\n",
    "        '668081112']\n",
    "\n",
    "cell_colors = {\n",
    "    '134492570' : '#9400D3', \n",
    "    '386392158' : '#0000ff',\n",
    "    '389812730' : '#00FF00',\n",
    "    '403522169' : '#ffdd00',\n",
    "    '313068329' : '#ffdd00',#'#ffbf00',#'#FF7F00',\n",
    "    '668081112' : '#ff0000',    \n",
    "}\n",
    "\n",
    "cell_type = {}\n",
    "for x in nodes:\n",
    "    cell = ecrest(settings_dict,filepath = nodefiles[x],launch_viewer=False)\n",
    "    cell_type[x] = cell.get_ctype('manual') \n",
    "    if (cell.get_ctype('manual') == []) | (cell.get_ctype('manual') == ''):\n",
    "        print(f'cell {x} is not cell-typed in json')"
   ]
  },
  {
   "cell_type": "code",
   "execution_count": 160,
   "id": "2c088fc5-378d-4784-a11b-5ee01ed7db9d",
   "metadata": {},
   "outputs": [],
   "source": [
    "viewer = get_viewer(backgnd_color='white')\n",
    "\n",
    "create_em_layer(viewer)"
   ]
  },
  {
   "cell_type": "code",
   "execution_count": 20,
   "id": "4cde6698-f64f-408e-85ed-86ad45382522",
   "metadata": {},
   "outputs": [],
   "source": [
    "cells_to_add = ['61319896']#['484864533','483689146','476864694']"
   ]
  },
  {
   "cell_type": "code",
   "execution_count": 21,
   "id": "2fe54589-6bd6-41a6-a308-2760f8e4c46b",
   "metadata": {},
   "outputs": [
    {
     "name": "stdout",
     "output_type": "stream",
     "text": [
      "aff_4_61319896\n"
     ]
    }
   ],
   "source": [
    "\n",
    "for i,x in enumerate(cells_to_add):# = nodes[0]\n",
    "    cell = ecrest(settings_dict,filepath = nodefiles[x],launch_viewer=False)\n",
    "    \n",
    "    lname = cell.get_ctype('manual') + '_' + str(i+4) + '_' + x\n",
    "    create_baseseg_layer(viewer, base_seg, lname, objectAlpha = 0.5)\n",
    "    sleep(3)\n",
    "    print(lname)\n",
    "\n",
    "    \n",
    "    sleep(2)\n",
    "    with viewer.txn(overwrite=True) as s:\n",
    "        for bs in set([str(a) for b in cell.cell_data['base_segments'].values() for a in b]):\n",
    "            s.layers[lname].segments.add(int(bs))\n",
    "            s.layers[lname].segment_colors[int(bs)] = syn_colors[cell.get_ctype('manual')]#'#808080'#gray\n",
    "        # for bs in cell.cell_data['base_segments']['axon']:\n",
    "        #     s.layers[lname].segment_colors[int(bs)] = cell_colors[cell_type[x]]"
   ]
  },
  {
   "cell_type": "code",
   "execution_count": 167,
   "id": "0737194c-6319-4d0a-95b6-d2f530501dcc",
   "metadata": {},
   "outputs": [],
   "source": [
    "point_type = 'post-synaptic'\n",
    "\n",
    "syn_plot = set()\n",
    "for n in nodes:\n",
    "    cell = ecrest(settings_dict,filepath= nodefiles[n], launch_viewer=False)\n",
    "    syn_to_find = set([point[3] for point in cell.cell_data['end_points'][point_type]])\n",
    "    \n",
    "    for n_ in nodes:\n",
    "        syn_plot=syn_plot.union(syn_to_find.intersection(base_segments[n_]))\n",
    "\n",
    "\n",
    "\n",
    "syn_all = []\n",
    "for n in nodes:\n",
    "    cell = ecrest(settings_dict,filepath= nodefiles[n], launch_viewer=False)\n",
    "    syn_all.extend([point for point in cell.cell_data['end_points'][point_type] if point[3] in syn_plot])\n",
    "\n",
    "\n",
    "with viewer.txn(overwrite=True) as s:\n",
    "    s.layers[point_type] = neuroglancer.AnnotationLayer()\n",
    "    s.layers[point_type].annotationColor = '#ffffff'#'#ff00ff'\n",
    "\n",
    "with viewer.txn(overwrite=True) as s:\n",
    "    for pos, point in enumerate(syn_all):\n",
    "        point_array = array([int(point[x]/vx_sizes[x]) for x in range(3)])\n",
    "        point_id = f'{point_type}_{pos}'\n",
    "        pa = neuroglancer.PointAnnotation(id=point_id, point = point_array)\n",
    "        s.layers[point_type].annotations.append(pa)   \n",
    "\n"
   ]
  },
  {
   "cell_type": "code",
   "execution_count": null,
   "id": "2cce2b91-7ea0-4f58-b2b4-c8e6e105ca33",
   "metadata": {},
   "outputs": [],
   "source": [
    "point_type = 'pre-synaptic'\n",
    "\n",
    "syn_plot = set()\n",
    "for n in nodes:\n",
    "    cell = ecrest(settings_dict,filepath= nodefiles[n], launch_viewer=False)\n",
    "    syn_to_find = set([point[3] for point in cell.cell_data['end_points'][point_type]])\n",
    "    \n",
    "    for n_ in nodes:\n",
    "        syn_plot=syn_plot.union(syn_to_find.intersection(base_segments[n_]))\n",
    "\n",
    "\n",
    "\n",
    "syn_all = []\n",
    "for n in nodes:\n",
    "    cell = ecrest(settings_dict,filepath= nodefiles[n], launch_viewer=False)\n",
    "    syn_all.extend([point for point in cell.cell_data['end_points'][point_type] if point[3] in syn_plot])\n",
    "\n",
    "\n",
    "with viewer.txn(overwrite=True) as s:\n",
    "    s.layers[point_type] = neuroglancer.AnnotationLayer()\n",
    "    s.layers[point_type].annotationColor = '#ffffff'#'#00eeee'\n",
    "\n",
    "with viewer.txn(overwrite=True) as s:\n",
    "    for pos, point in enumerate(syn_all):\n",
    "        point_array = array([int(point[x]/vx_sizes[x]) for x in range(3)])\n",
    "        point_id = f'{point_type}_{pos}'\n",
    "        pa = neuroglancer.PointAnnotation(id=point_id, point = point_array)\n",
    "        s.layers[point_type].annotations.append(pa)   \n",
    "\n"
   ]
  },
  {
   "cell_type": "markdown",
   "id": "88c0e86f-9180-4a26-84e5-8fea79c59024",
   "metadata": {},
   "source": [
    "## Inhibition"
   ]
  },
  {
   "cell_type": "code",
   "execution_count": 115,
   "id": "c7fffa3b-4182-4d1a-a870-59033b2a0588",
   "metadata": {},
   "outputs": [],
   "source": [
    "path_to_settings_json = '/Users/kperks/Documents/ell-connectome/eCREST-local-files/settings_dict.json'\n",
    "settings_dict = import_settings(path_to_settings_json)\n",
    "\n",
    "dirpath = Path(settings_dict['save_dir']) #/ 'todo_pre-synaptic/basal-dendrite_mg2'\n",
    "\n",
    "nodefiles = dict()\n",
    "for child in sorted(dirpath.iterdir()):\n",
    "    if (child.name[0]!='.') & (child.is_file()):\n",
    "        nodefiles[child.name.split('_')[2]] = child\n",
    "\n",
    "\n",
    "filename = 'cell_graph_306242528__2023-07-03 09.54.17.json'\n",
    "cell = ecrest(settings_dict,filepath= Path(settings_dict['save_dir']) / filename, launch_viewer=False)\n",
    "\n",
    "base_segments = cell.get_base_segments_dict(Path(settings_dict['save_dir']))"
   ]
  },
  {
   "cell_type": "code",
   "execution_count": 140,
   "id": "8ec54d42-7b4d-4794-b1a8-2f250be776c8",
   "metadata": {},
   "outputs": [],
   "source": [
    "nodes = [#'387539479',\n",
    "         #'389845032',\n",
    "        '128770984',\n",
    "        '213501262',\n",
    "        '228366816',\n",
    "        '56569586']\n",
    "\n",
    "cell_type = {}\n",
    "for x in nodes:\n",
    "    cell = ecrest(settings_dict,filepath = nodefiles[x],launch_viewer=False)\n",
    "    cell_type[x] = cell.get_ctype('manual') \n",
    "    if (cell.get_ctype('manual') == []) | (cell.get_ctype('manual') == ''):\n",
    "        print(f'cell {x} is not cell-typed in json')"
   ]
  },
  {
   "cell_type": "code",
   "execution_count": 141,
   "id": "42782b6d-5924-4652-8713-c276c45b9442",
   "metadata": {},
   "outputs": [],
   "source": [
    "viewer = get_viewer(backgnd_color='white')\n",
    "\n",
    "create_em_layer(viewer)"
   ]
  },
  {
   "cell_type": "code",
   "execution_count": 142,
   "id": "71997213-7816-49b0-9060-f02b69d2bed3",
   "metadata": {},
   "outputs": [
    {
     "name": "stdout",
     "output_type": "stream",
     "text": [
      "lg_4_128770984\n",
      "mg1_5_213501262\n",
      "grc_6_228366816\n",
      "aff_7_56569586\n"
     ]
    }
   ],
   "source": [
    "# cell_colors = {\n",
    "#     'mg2' : '#0000ff',\n",
    "#     'lf' : '#ff0000',\n",
    "#     'mg1' : '#0000ff',\n",
    "#     'lg' : '#ff0000',\n",
    "#     'sg2' : '#0000ff',\n",
    "#     'sg1' : '#0000ff',\n",
    "#     'grc' : '#0000ff',\n",
    "#     'aff' : '#ff0000',    \n",
    "# }\n",
    "cell_colors = {\n",
    "    '213501262' : '#0000ff', \n",
    "    '128770984' : '#9400D3',\n",
    "    # '305051491' : '#00FF00',\n",
    "    '228366816' : '#ffdd00',#'#ffbf00',#'#FF7F00',\n",
    "    '56569586' : '#ff0000',    \n",
    "}\n",
    "\n",
    "for i,x in enumerate(nodes):# = nodes[0]\n",
    "    lname = cell_type[x] + '_' + str(i+4) + '_' + x\n",
    "    create_baseseg_layer(viewer, base_seg, lname, objectAlpha = 0.5)\n",
    "    sleep(3)\n",
    "    print(lname)\n",
    "\n",
    "    cell = ecrest(settings_dict,filepath = nodefiles[x],launch_viewer=False)\n",
    "    sleep(2)\n",
    "    with viewer.txn(overwrite=True) as s:\n",
    "        for bs in set([str(a) for b in cell.cell_data['base_segments'].values() for a in b]):\n",
    "            s.layers[lname].segments.add(int(bs))\n",
    "            s.layers[lname].segment_colors[int(bs)] = cell_colors[x]#'#808080'#'#d2b48c' # blue\n",
    "        # for bs in cell.cell_data['base_segments']['axon']:\n",
    "        #     s.layers[lname].segment_colors[int(bs)] = cell_colors[cell_type[x]]"
   ]
  },
  {
   "cell_type": "code",
   "execution_count": 143,
   "id": "dd3af56d-6d17-4d76-a3a5-98f6f66cd824",
   "metadata": {},
   "outputs": [],
   "source": [
    "point_type = 'post-synaptic'\n",
    "\n",
    "syn_plot = set()\n",
    "for n in nodes:\n",
    "    cell = ecrest(settings_dict,filepath= nodefiles[n], launch_viewer=False)\n",
    "    syn_to_find = set([point[3] for point in cell.cell_data['end_points'][point_type]])\n",
    "    \n",
    "    for n_ in nodes:\n",
    "        syn_plot=syn_plot.union(syn_to_find.intersection(base_segments[n_]))\n",
    "\n",
    "\n",
    "\n",
    "syn_all = []\n",
    "for n in nodes:\n",
    "    cell = ecrest(settings_dict,filepath= nodefiles[n], launch_viewer=False)\n",
    "    syn_all.extend([point for point in cell.cell_data['end_points'][point_type] if point[3] in syn_plot])\n",
    "\n",
    "\n",
    "with viewer.txn(overwrite=True) as s:\n",
    "    s.layers[point_type] = neuroglancer.AnnotationLayer()\n",
    "    s.layers[point_type].annotationColor = '#00ff00'#'#ff00ff'\n",
    "\n",
    "with viewer.txn(overwrite=True) as s:\n",
    "    for pos, point in enumerate(syn_all):\n",
    "        point_array = array([int(point[x]/vx_sizes[x]) for x in range(3)])\n",
    "        point_id = f'{point_type}_{pos}'\n",
    "        pa = neuroglancer.PointAnnotation(id=point_id, point = point_array)\n",
    "        s.layers[point_type].annotations.append(pa)   \n",
    "\n"
   ]
  },
  {
   "cell_type": "code",
   "execution_count": 144,
   "id": "6a209273-0746-4e58-b4af-7db694120737",
   "metadata": {},
   "outputs": [],
   "source": [
    "point_type = 'pre-synaptic'\n",
    "\n",
    "syn_plot = set()\n",
    "for n in nodes:\n",
    "    cell = ecrest(settings_dict,filepath= nodefiles[n], launch_viewer=False)\n",
    "    syn_to_find = set([point[3] for point in cell.cell_data['end_points'][point_type]])\n",
    "    \n",
    "    for n_ in nodes:\n",
    "        syn_plot=syn_plot.union(syn_to_find.intersection(base_segments[n_]))\n",
    "\n",
    "\n",
    "\n",
    "syn_all = []\n",
    "for n in nodes:\n",
    "    cell = ecrest(settings_dict,filepath= nodefiles[n], launch_viewer=False)\n",
    "    syn_all.extend([point for point in cell.cell_data['end_points'][point_type] if point[3] in syn_plot])\n",
    "\n",
    "\n",
    "with viewer.txn(overwrite=True) as s:\n",
    "    s.layers[point_type] = neuroglancer.AnnotationLayer()\n",
    "    s.layers[point_type].annotationColor = '#00ff00'#'#00eeee'\n",
    "\n",
    "with viewer.txn(overwrite=True) as s:\n",
    "    for pos, point in enumerate(syn_all):\n",
    "        point_array = array([int(point[x]/vx_sizes[x]) for x in range(3)])\n",
    "        point_id = f'{point_type}_{pos}'\n",
    "        pa = neuroglancer.PointAnnotation(id=point_id, point = point_array)\n",
    "        s.layers[point_type].annotations.append(pa)   \n",
    "\n"
   ]
  },
  {
   "cell_type": "markdown",
   "id": "779869e6-a2f7-4d90-87e6-9ce3fae0825f",
   "metadata": {},
   "source": [
    "# Cell Types Examples"
   ]
  },
  {
   "cell_type": "code",
   "execution_count": 61,
   "id": "4c83313e-e4d8-48a4-9b76-5958a2b374f0",
   "metadata": {},
   "outputs": [],
   "source": [
    "cell_colors = {\n",
    "    'mg2' : '#ff0000',\n",
    "    'mg1' : '#0000ff',\n",
    "    'lg' : '#ff0000',\n",
    "    'lf' : '#0000ff',\n",
    "    'sgx' : '#b3b3b3',\n",
    "    'sg2' : '#ff9900',\n",
    "    'sg1' : '#00ccff',\n",
    "    'grc' : '#000000',\n",
    "    'aff' : '#b3b3b3',    \n",
    "}\n",
    "\n",
    "structure_colors = {'unknown': '#d2b48c',\n",
    "                    'multiple': '#9c661f',\n",
    "                    'axon': '#008000',\n",
    "                    'basal dendrite': '#cd4b00',\n",
    "                    'apical dendrite': '#ff8000'\n",
    "                   } "
   ]
  },
  {
   "cell_type": "code",
   "execution_count": 58,
   "id": "f627c460-9e5e-4364-bd84-653c322f8691",
   "metadata": {},
   "outputs": [],
   "source": [
    "path_to_settings_json = '/Users/kperks/Documents/ell-connectome/eCREST-local-files/settings_dict.json'\n",
    "settings_dict = import_settings(path_to_settings_json)\n",
    "\n",
    "dirpath = Path(settings_dict['save_dir']) #/ 'todo_pre-synaptic/basal-dendrite_mg2'\n",
    "\n",
    "nodefiles = dict()\n",
    "for child in sorted(dirpath.iterdir()):\n",
    "    if (child.name[0]!='.') & (child.is_file()):\n",
    "        nodefiles[child.name.split('_')[2]] = child\n",
    "\n",
    "cell = ecrest(settings_dict, launch_viewer=False)\n",
    "base_segments = cell.get_base_segments_dict(Path(settings_dict['save_dir']))"
   ]
  },
  {
   "cell_type": "code",
   "execution_count": 83,
   "id": "3b1434b0-0ef4-4bbd-85ef-b48dee425bdd",
   "metadata": {},
   "outputs": [],
   "source": [
    "# nodes = [\n",
    "#     '216004541',\n",
    "#     '229531331',\n",
    "#     '310793592',\n",
    "#     '141117281',\n",
    "#     '313285240',\n",
    "#     '216977942', \n",
    "#     '219161561', \n",
    "#     '305051491', \n",
    "#     '306242528',\n",
    "#     '389812730', \n",
    "#     '392042360', \n",
    "#     '45120720', \n",
    "#     '565013265',\n",
    "#     '305020954',\n",
    "#     '47366615',\n",
    "#     '302668963',\n",
    "#     '50786130',\n",
    "#     '473723476',\n",
    "#     '299530386',\n",
    "#     '386117124',\n",
    "#     '52008345',\n",
    "#     '475920954',\n",
    "#     '214581797',\n",
    "#     '301787806',\n",
    "#     '393325331']\n",
    "nodes = ['306461085',\n",
    "        '477962738']\n",
    "nodes = ['394470350']\n",
    "nodes = ['127672247', '130781211', '216004541', '216952227', '218095913',\n",
    "       '220275752', '221326165', '300829569', '302714728', '306461085',\n",
    "       '308471538', '309693374', '309743149', '386409916', '386488569',\n",
    "       '393482133', '473491444', '476677382', '476801247', '477962738',\n",
    "       '480081746', '480469318', '50786130', '648567066']\n",
    "nodes = ['214581797']\n",
    "\n",
    "\n",
    "cell_type = {}\n",
    "for x in nodes:\n",
    "    cell = ecrest(settings_dict,filepath = nodefiles[x],launch_viewer=False)\n",
    "    cell_type[x] = cell.get_ctype('manual') \n",
    "    if (cell.get_ctype('manual') == []) | (cell.get_ctype('manual') == ''):\n",
    "        print(f'cell {x} is not cell-typed in json')"
   ]
  },
  {
   "cell_type": "code",
   "execution_count": 71,
   "id": "ecbf180d-3ec1-4dba-a555-bf307ec5a875",
   "metadata": {},
   "outputs": [],
   "source": [
    "# cell_type "
   ]
  },
  {
   "cell_type": "code",
   "execution_count": 63,
   "id": "8786306f-a62e-4d3c-9e88-d24481167fb3",
   "metadata": {},
   "outputs": [],
   "source": [
    "viewer = get_viewer(backgnd_color='white')\n",
    "\n",
    "create_em_layer(viewer)"
   ]
  },
  {
   "cell_type": "code",
   "execution_count": 84,
   "id": "9161c6e4-039d-4e61-9559-42587c935fdf",
   "metadata": {},
   "outputs": [
    {
     "name": "stdout",
     "output_type": "stream",
     "text": [
      "mg2_214581797\n"
     ]
    }
   ],
   "source": [
    "\n",
    "for i,x in cell_type.items():# = nodes[0]\n",
    "    lname = x + '_' + i \n",
    "    create_baseseg_layer(viewer, base_seg, lname, objectAlpha = 1)\n",
    "    sleep(3)\n",
    "    print(lname)\n",
    "\n",
    "    cell = ecrest(settings_dict,filepath = nodefiles[i],launch_viewer=False)\n",
    "    sleep(2)\n",
    "    with viewer.txn(overwrite=True) as s:\n",
    "        for dtype,seglist in cell.cell_data['base_segments'].items():\n",
    "            for bs in seglist:\n",
    "                s.layers[lname].segments.add(int(bs))\n",
    "                s.layers[lname].segment_colors[int(bs)] = structure_colors[dtype]\n",
    "        # for bs in set([str(a) for b in cell.cell_data['base_segments'].values() for a in b]):\n",
    "        #     s.layers[lname].segments.add(int(bs))\n",
    "        #     s.layers[lname].segment_colors[int(bs)] = cell_colors[cell_type[x]]#'#808080'#gray\n",
    "        # # for bs in cell.cell_data['base_segments']['axon']:\n",
    "        # #     s.layers[lname].segment_colors[int(bs)] = cell_colors[cell_type[x]]"
   ]
  },
  {
   "cell_type": "markdown",
   "id": "5144cf4f-2b87-4ce4-aefc-5642747f3d81",
   "metadata": {},
   "source": [
    "# Development"
   ]
  },
  {
   "cell_type": "code",
   "execution_count": 183,
   "id": "c8c3914a-d2a6-4cfa-9b35-fe70f986bb35",
   "metadata": {},
   "outputs": [],
   "source": [
    "path_to_settings_json = '/Users/kperks/Documents/ell-connectome/eCREST-local-files/settings_dict.json'\n",
    "settings_dict = import_settings(path_to_settings_json)\n",
    "\n",
    "dirpath = Path(settings_dict['save_dir']) #/ 'todo_pre-synaptic/basal-dendrite_mg2'\n",
    "\n",
    "nodefiles = dict()\n",
    "for child in sorted(dirpath.iterdir()):\n",
    "    if (child.name[0]!='.') & (child.is_file()):\n",
    "        nodefiles[child.name.split('_')[2]] = child\n",
    "\n",
    "\n",
    "\n",
    "cell = ecrest(settings_dict,launch_viewer=False)\n",
    "\n",
    "base_segments = cell.get_base_segments_dict(Path(settings_dict['save_dir']))"
   ]
  },
  {
   "cell_type": "code",
   "execution_count": 185,
   "id": "1dd85b52-be04-4864-a7fd-c0f6f2d61edb",
   "metadata": {},
   "outputs": [],
   "source": [
    "nodes = ['304031639',\n",
    "         '303953883',\n",
    "         '306242528',\n",
    "         '305051491',\n",
    "         '387539479',\n",
    "         '389845032',\n",
    "        '213501262',\n",
    "        '308471538',\n",
    "         '302714728',\n",
    "         '214581797',\n",
    "        '228321391',\n",
    "        '228366816',\n",
    "        '389812730',\n",
    "        '403522169',\n",
    "        '313068329',\n",
    "        '299496636',\n",
    "        '668081112']\n",
    "\n",
    "cell_type = {}\n",
    "for x in nodes:\n",
    "    cell = ecrest(settings_dict,filepath = nodefiles[x],launch_viewer=False)\n",
    "    cell_type[x] = cell.get_ctype('manual') \n",
    "    if (cell.get_ctype('manual') == []) | (cell.get_ctype('manual') == ''):\n",
    "        print(f'cell {x} is not cell-typed in json')"
   ]
  },
  {
   "cell_type": "code",
   "execution_count": 178,
   "id": "c284f65c-4840-4852-8300-95efd068a282",
   "metadata": {},
   "outputs": [],
   "source": [
    "viewer = get_viewer(backgnd_color='white')\n",
    "\n",
    "create_em_layer(viewer)"
   ]
  },
  {
   "cell_type": "code",
   "execution_count": 186,
   "id": "4b772eaa-5658-467d-8c75-7f76c03f69c8",
   "metadata": {},
   "outputs": [
    {
     "name": "stdout",
     "output_type": "stream",
     "text": [
      "aff_4_668081112\n"
     ]
    }
   ],
   "source": [
    "# cell_colors = {\n",
    "#     'mg2' : '#0000ff',\n",
    "#     'lf' : '#ff0000',\n",
    "#     'mg1' : '#0000ff',\n",
    "#     'lg' : '#ff0000',\n",
    "#     'sgx' : '#0000ff',\n",
    "#     'sg2' : '#0000ff',\n",
    "#     'sg1' : '#0000ff',\n",
    "#     'grc' : '#0000ff',\n",
    "#     'aff' : '#ff0000',    \n",
    "# }\n",
    "cell_colors = {\n",
    "    'mg2' : '#0000ff',\n",
    "    'lf' : '#ff0000',\n",
    "    'mg1' : '#0000ff',\n",
    "    'lg' : '#ff0000',\n",
    "    'sgx' : '#0000ff',\n",
    "    'sg2' : '#0000ff',\n",
    "    'sg1' : '#0000ff',\n",
    "    'grc' : '#0000ff',\n",
    "    'aff' : '#ff0000',    \n",
    "}\n",
    "\n",
    "\n",
    "for i,x in enumerate(['668081112']):# = nodes[0]\n",
    "    lname = cell_type[x] + '_' + str(i+4) + '_' + x\n",
    "    create_baseseg_layer(viewer, base_seg, lname, objectAlpha = 1)\n",
    "    sleep(3)\n",
    "    print(lname)\n",
    "\n",
    "    cell = ecrest(settings_dict,filepath = nodefiles[x],launch_viewer=False)\n",
    "    sleep(2)\n",
    "    with viewer.txn(overwrite=True) as s:\n",
    "        for bs in set([str(a) for b in cell.cell_data['base_segments'].values() for a in b]):\n",
    "            s.layers[lname].segments.add(int(bs))\n",
    "            s.layers[lname].segment_colors[int(bs)] = '#000000'#'#808080'#'#d2b48c' # blue\n",
    "        for bs in cell.cell_data['base_segments']['axon']:\n",
    "            s.layers[lname].segment_colors[int(bs)] = cell_colors[cell_type[x]]"
   ]
  },
  {
   "cell_type": "markdown",
   "id": "ee1f05c3-36f6-45bb-8591-d67202d653c5",
   "metadata": {},
   "source": [
    "# Volume subsample reconstruction"
   ]
  },
  {
   "cell_type": "markdown",
   "id": "c4d93d0c-d778-4680-a234-9543b17a7d3f",
   "metadata": {},
   "source": [
    "### segments from an NG json into an existing CREST"
   ]
  },
  {
   "cell_type": "code",
   "execution_count": 508,
   "id": "e871ce9d-1da0-4da2-ac68-d356b79125a1",
   "metadata": {},
   "outputs": [],
   "source": [
    "neuroglancer_path = '/Users/kperks/Documents/gdrive/.shortcut-targets-by-id/16q1BuOMfD2ta0Cwq8CjMlRe4rDvbuWC5/ELL_connectome/CREST_reconstructions/mg-network/volume-subsample-all'\n",
    "filename = 'base_segs_revised.json'\n",
    "neuroglancer_path = Path(neuroglancer_path) / filename\n",
    "\n",
    "with open(Path(neuroglancer_path), 'r') as myfile: # 'p' is the dirpath and 'f' is the filename from the created 'd' dictionary\n",
    "    neuroglancer_data = json.load(myfile)"
   ]
  },
  {
   "cell_type": "code",
   "execution_count": 509,
   "id": "5269d2f9-6044-4e92-99be-f56fb6dabe0e",
   "metadata": {},
   "outputs": [],
   "source": [
    "segmentation_layer = next((item for item in neuroglancer_data['layers'] if item[\"source\"] == 'brainmaps://10393113184:ell:roi450um_seg32fb16fb_220930'), None)\n",
    "base_segment_list_ng = set(segmentation_layer['segments'])\n",
    "\n"
   ]
  },
  {
   "cell_type": "code",
   "execution_count": 510,
   "id": "bc15510d-8246-4794-b52c-7dd8aa8b93b2",
   "metadata": {},
   "outputs": [],
   "source": [
    "crest = ecrest(settings_dict,launch_viewer=False)\n",
    "\n",
    "base_segments = crest.get_base_segments_dict(Path(settings_dict['save_dir']))"
   ]
  },
  {
   "cell_type": "code",
   "execution_count": 511,
   "id": "ef66f0a6-fd55-4fe4-b32a-be7d3a022c62",
   "metadata": {},
   "outputs": [],
   "source": [
    "topop=set()\n",
    "in_volume=[]\n",
    "for k,v in base_segments.items():\n",
    "    if base_segment_list_ng & v != set():\n",
    "        # print(f'use reconstruction {k}')\n",
    "        in_volume.append(k)\n",
    "        topop = topop.union(base_segment_list_ng & v)\n",
    "\n",
    "in_volume = np.unique(in_volume)"
   ]
  },
  {
   "cell_type": "code",
   "execution_count": 512,
   "id": "866b0660-b0db-4477-94fc-826695f9ad88",
   "metadata": {},
   "outputs": [
    {
     "data": {
      "text/plain": [
       "399"
      ]
     },
     "execution_count": 512,
     "metadata": {},
     "output_type": "execute_result"
    }
   ],
   "source": [
    "len(topop)"
   ]
  },
  {
   "cell_type": "code",
   "execution_count": 513,
   "id": "2af5e86c-46ee-499e-b388-2bcaee22b309",
   "metadata": {},
   "outputs": [],
   "source": [
    "base_segment_list_ng = base_segment_list_ng.difference(topop)"
   ]
  },
  {
   "cell_type": "code",
   "execution_count": 514,
   "id": "f1d03c4f-7204-46e2-b66d-6c83dee2f497",
   "metadata": {},
   "outputs": [],
   "source": [
    "todo_dict = {}\n",
    "for seedseg in list(base_segment_list_ng):\n",
    "    cell = ecrest(settings_dict,segment_id = seedseg,launch_viewer=False)\n",
    "    todo_dict[seedseg] = set(cell.cell_data['base_segments']['unknown'])\n",
    "    # post_segs_without_cell+=1\n",
    "    "
   ]
  },
  {
   "cell_type": "code",
   "execution_count": 515,
   "id": "70596fe3-dcec-4386-83ae-f2a2e4a45582",
   "metadata": {},
   "outputs": [
    {
     "data": {
      "text/plain": [
       "0"
      ]
     },
     "execution_count": 515,
     "metadata": {},
     "output_type": "execute_result"
    }
   ],
   "source": [
    "len(todo_dict)"
   ]
  },
  {
   "cell_type": "code",
   "execution_count": 372,
   "id": "a13a2b63-00d2-44bd-a0b3-ff9741d89bd8",
   "metadata": {},
   "outputs": [],
   "source": [
    "topop=[]\n",
    "\n",
    "todo_inds = list(todo_dict.keys())\n",
    "for k,k_ in itertools.combinations(todo_inds,2):\n",
    "    if todo_dict[k]&todo_dict[k_]!=set():\n",
    "        # then they share segments\n",
    "        topop.append(k_)\n",
    "topop = np.unique(topop)"
   ]
  },
  {
   "cell_type": "code",
   "execution_count": 373,
   "id": "73b927d8-67b6-4646-b0b9-731f3ad2f36e",
   "metadata": {},
   "outputs": [
    {
     "data": {
      "text/plain": [
       "0"
      ]
     },
     "execution_count": 373,
     "metadata": {},
     "output_type": "execute_result"
    }
   ],
   "source": [
    "len(topop)"
   ]
  },
  {
   "cell_type": "code",
   "execution_count": 326,
   "id": "bbffe362-68cc-4a12-8c31-75db692de85c",
   "metadata": {},
   "outputs": [],
   "source": [
    "for segid in topop:\n",
    "    todo_dict.pop(segid)\n",
    "    "
   ]
  },
  {
   "cell_type": "code",
   "execution_count": 374,
   "id": "70a6e9ad-3ed0-4546-98fb-ddf1fbf35bd8",
   "metadata": {},
   "outputs": [
    {
     "data": {
      "text/plain": [
       "1"
      ]
     },
     "execution_count": 374,
     "metadata": {},
     "output_type": "execute_result"
    }
   ],
   "source": [
    "len(todo_dict)"
   ]
  },
  {
   "cell_type": "code",
   "execution_count": null,
   "id": "20e08ae3-2f25-4ffe-9cbb-c9b7cf1677d0",
   "metadata": {},
   "outputs": [],
   "source": [
    "for segment_id in sorted(list(todo_dict.keys())):\n",
    "\n",
    "    cell = ecrest(settings_dict,segment_id = segment_id, launch_viewer=False)\n",
    "    cell.save_cell_graph(directory_path = Path(settings_dict['save_dir']) / 'volume-subsample-all/in_progress')\n",
    "    \n",
    "\n"
   ]
  },
  {
   "cell_type": "markdown",
   "id": "69040ec0-04d7-4471-98a1-03a41c4b8c2e",
   "metadata": {},
   "source": [
    "### VIsualize cells in subvolume\n"
   ]
  },
  {
   "cell_type": "code",
   "execution_count": null,
   "id": "b423dedd-c4be-4fdc-be23-6f72cd96dbb4",
   "metadata": {},
   "outputs": [],
   "source": []
  },
  {
   "cell_type": "code",
   "execution_count": 522,
   "id": "75fbc865-62e4-4242-9f95-e4d247441ea0",
   "metadata": {},
   "outputs": [],
   "source": [
    "nodefiles = get_cell_filepaths(dirpath)"
   ]
  },
  {
   "cell_type": "code",
   "execution_count": 523,
   "id": "c93fe5b9-e7a3-4f54-8e15-a0a347c130ff",
   "metadata": {},
   "outputs": [
    {
     "data": {
      "text/plain": [
       "179"
      ]
     },
     "execution_count": 523,
     "metadata": {},
     "output_type": "execute_result"
    }
   ],
   "source": [
    "len(in_volume)"
   ]
  },
  {
   "cell_type": "code",
   "execution_count": 524,
   "id": "19c472f7-ef9a-47eb-85bf-9bdb2c17b118",
   "metadata": {},
   "outputs": [],
   "source": [
    "color_structure = {'axon':'#008000','basal dendrite':'#cd4b00','apical dendrite':'#ff8000','unknown':'#d2b48c','multiple':'#9c661f','dendrite':'#ffff00'}\n",
    "segs_in_volume = {}\n",
    "for c_id in in_volume: #random.sample(cells_to_add,k=10):\n",
    "    cell = ecrest(settings_dict,filepath = dirpath / nodefiles[c_id], launch_viewer=False)\n",
    "    segs_in_volume[c_id]={}\n",
    "    segs_in_volume[c_id]['seg_dict'] = cell.cell_data['base_segments'] #[a for b in cell.cell_data['base_segments'].values() for a in b]\n",
    "    segs_in_volume[c_id]['type']=cell.get_ctype('manual')\n",
    "    \n",
    "    soma_diam = []\n",
    "    soma_loc=[]\n",
    "    if 'soma' in cell.cell_data['end_points'].keys():\n",
    "        soma_anno = cell.cell_data['end_points']['soma']\n",
    "        if len(soma_anno)==4:\n",
    "            xpts = [p[0] for p in soma_anno]\n",
    "            ypts = [p[1] for p in soma_anno]\n",
    "            zpts = [p[2] for p in soma_anno]\n",
    "            soma_diam = np.mean([int((np.max(xpts)-np.min(xpts))),int((np.max(zpts)-np.min(zpts)))])/1000\n",
    "            soma_loc = (np.mean([np.max(xpts),np.min(xpts)])/1000,np.mean(ypts)/1000,np.mean([np.max(zpts),np.min(zpts)])/1000)\n",
    "            \n",
    "        if len(soma_anno)!=4:\n",
    "            soma_diam = np.NaN\n",
    "            soma_loc = np.NaN\n",
    "    \n",
    "    if 'soma' not in cell.cell_data['end_points'].keys():\n",
    "        soma_diam = np.NaN\n",
    "        soma_loc = np.NaN\n",
    "        \n",
    "    segs_in_volume[c_id]['soma_diam']=soma_diam\n",
    "    segs_in_volume[c_id]['soma_loc'] = soma_loc"
   ]
  },
  {
   "cell_type": "code",
   "execution_count": 525,
   "id": "2f17c8a0-ecad-4ef1-9420-aa2138deb391",
   "metadata": {},
   "outputs": [],
   "source": [
    "df_in_volume = pd.DataFrame([(i,c_id['type'],c_id['soma_loc'],c_id['soma_diam']) for i,c_id in segs_in_volume.items()],columns =['cid','type','soma_loc','soma_diam'])"
   ]
  },
  {
   "cell_type": "code",
   "execution_count": 526,
   "id": "55031686-84ea-4f0b-aa17-4df54b86f1e6",
   "metadata": {},
   "outputs": [],
   "source": [
    "df_in_volume[['x', 'y', 'z']] = df_in_volume['soma_loc'].apply(lambda loc: pd.Series(loc))\n",
    "df_in_volume.drop(columns=['soma_loc'], inplace=True)"
   ]
  },
  {
   "cell_type": "code",
   "execution_count": 527,
   "id": "7fa3034e-a7a0-46e8-a366-741f5c04aabb",
   "metadata": {},
   "outputs": [
    {
     "data": {
      "text/plain": [
       "array([], dtype=object)"
      ]
     },
     "execution_count": 527,
     "metadata": {},
     "output_type": "execute_result"
    }
   ],
   "source": [
    "df_in_volume[df_in_volume['soma_diam'].isin([np.NaN])]['cid'].values"
   ]
  },
  {
   "cell_type": "code",
   "execution_count": 528,
   "id": "cdc49c23-d7fc-4b57-a18d-445f61dc195c",
   "metadata": {},
   "outputs": [],
   "source": [
    "df_in_volume=df_in_volume[df_in_volume['type']!='aff']"
   ]
  },
  {
   "cell_type": "code",
   "execution_count": 529,
   "id": "76b6d3c5-3bec-4e71-a283-28deaa2cf868",
   "metadata": {},
   "outputs": [],
   "source": [
    "syn_colors = {\n",
    "    'sgx1':'#adebeb', #'#996633',\n",
    "    'sgx2':'#cc9900',\n",
    "    'sg1':'#00ffff',\n",
    "    'sg2':'#ff9900',\n",
    "    'grc-d':'#33cc33',\n",
    "    'grc-s':'#e6e600',\n",
    "    'dml':'#cccccc',\n",
    "    'mg1':'#0000ff',\n",
    "    'mg2':'#ff0000',\n",
    "    'lg':'#8000c8',\n",
    "    'lf':'#c80080',\n",
    "    'aff':'#ffc0cb',\n",
    "    'tsd':'#ccccff',\n",
    "    'uk':'#000000',\n",
    "    'fov':'#000000',\n",
    "    'focal types':'#33cc33',\n",
    "    'glia':'#ffffff'\n",
    "}"
   ]
  },
  {
   "cell_type": "code",
   "execution_count": 530,
   "id": "14dd4935-a9ed-4f8a-82a5-b4d894753364",
   "metadata": {},
   "outputs": [
    {
     "data": {
      "image/png": "[encoded data removed]",
      "text/plain": [
       "<Figure size 300x800 with 1 Axes>"
      ]
     },
     "metadata": {},
     "output_type": "display_data"
    }
   ],
   "source": [
    "hfig,ax = plt.subplots(1,figsize=(3,8))\n",
    "sns.scatterplot(data=df_in_volume,x='x',y='y',hue='type',size='soma_diam',sizes=(10, 300),\n",
    "                alpha = 0.75,palette=syn_colors,edgecolor='black')\n",
    "for y_ in [22000*16/1000, 19500*16/1000, 17650*16/1000, 15700*16/1000]:\n",
    "    ax.axhline(y=y_,color = 'black',linestyle='--')\n",
    "sns.move_legend(ax, \"upper right\", bbox_to_anchor=(1.6, 1))\n",
    "ax.invert_yaxis()\n",
    "\n",
    "plt.axis('equal');\n",
    "# ax.set_xlim(240,285)\n"
   ]
  },
  {
   "cell_type": "code",
   "execution_count": 531,
   "id": "9ded8527-b6b3-495f-af2d-051b514eeca8",
   "metadata": {},
   "outputs": [
    {
     "data": {
      "image/png": "[encoded data removed]",
      "text/plain": [
       "<Figure size 200x800 with 1 Axes>"
      ]
     },
     "metadata": {},
     "output_type": "display_data"
    }
   ],
   "source": [
    "hfig,ax = plt.subplots(1,figsize=(2,8))\n",
    "sns.scatterplot(data=df_in_volume,x='z',y='y',hue='type',size='soma_diam',sizes=(10, 300),\n",
    "                alpha = 0.75,palette=syn_colors,edgecolor='black')\n",
    "for y_ in [22000*16/1000, 19500*16/1000, 17650*16/1000, 15700*16/1000]:\n",
    "    ax.axhline(y=y_,color = 'black',linestyle='--')\n",
    "sns.move_legend(ax, \"upper right\", bbox_to_anchor=(1.9, 1))\n",
    "ax.invert_yaxis()\n",
    "plt.axis('equal');\n",
    "# ax.set_xlim(35,65)"
   ]
  },
  {
   "cell_type": "code",
   "execution_count": 534,
   "id": "1e425ee9-8d50-4b63-9f5b-b0e59f17a02b",
   "metadata": {},
   "outputs": [
    {
     "data": {
      "text/html": [
       "<div>\n",
       "<style scoped>\n",
       "    .dataframe tbody tr th:only-of-type {\n",
       "        vertical-align: middle;\n",
       "    }\n",
       "\n",
       "    .dataframe tbody tr th {\n",
       "        vertical-align: top;\n",
       "    }\n",
       "\n",
       "    .dataframe thead th {\n",
       "        text-align: right;\n",
       "    }\n",
       "</style>\n",
       "<table border=\"1\" class=\"dataframe\">\n",
       "  <thead>\n",
       "    <tr style=\"text-align: right;\">\n",
       "      <th></th>\n",
       "      <th>cid</th>\n",
       "    </tr>\n",
       "    <tr>\n",
       "      <th>type</th>\n",
       "      <th></th>\n",
       "    </tr>\n",
       "  </thead>\n",
       "  <tbody>\n",
       "    <tr>\n",
       "      <th>grc-d</th>\n",
       "      <td>73</td>\n",
       "    </tr>\n",
       "    <tr>\n",
       "      <th>grc-s</th>\n",
       "      <td>9</td>\n",
       "    </tr>\n",
       "    <tr>\n",
       "      <th>sgx1</th>\n",
       "      <td>10</td>\n",
       "    </tr>\n",
       "    <tr>\n",
       "      <th>sgx2</th>\n",
       "      <td>1</td>\n",
       "    </tr>\n",
       "    <tr>\n",
       "      <th>sg1</th>\n",
       "      <td>11</td>\n",
       "    </tr>\n",
       "    <tr>\n",
       "      <th>sg2</th>\n",
       "      <td>5</td>\n",
       "    </tr>\n",
       "    <tr>\n",
       "      <th>mg1</th>\n",
       "      <td>4</td>\n",
       "    </tr>\n",
       "    <tr>\n",
       "      <th>mg2</th>\n",
       "      <td>1</td>\n",
       "    </tr>\n",
       "    <tr>\n",
       "      <th>lg</th>\n",
       "      <td>1</td>\n",
       "    </tr>\n",
       "    <tr>\n",
       "      <th>lf</th>\n",
       "      <td>1</td>\n",
       "    </tr>\n",
       "    <tr>\n",
       "      <th>tsd</th>\n",
       "      <td>2</td>\n",
       "    </tr>\n",
       "    <tr>\n",
       "      <th>dml</th>\n",
       "      <td>5</td>\n",
       "    </tr>\n",
       "    <tr>\n",
       "      <th>uk</th>\n",
       "      <td>44</td>\n",
       "    </tr>\n",
       "    <tr>\n",
       "      <th>glia</th>\n",
       "      <td>11</td>\n",
       "    </tr>\n",
       "  </tbody>\n",
       "</table>\n",
       "</div>"
      ],
      "text/plain": [
       "       cid\n",
       "type      \n",
       "grc-d   73\n",
       "grc-s    9\n",
       "sgx1    10\n",
       "sgx2     1\n",
       "sg1     11\n",
       "sg2      5\n",
       "mg1      4\n",
       "mg2      1\n",
       "lg       1\n",
       "lf       1\n",
       "tsd      2\n",
       "dml      5\n",
       "uk      44\n",
       "glia    11"
      ]
     },
     "execution_count": 534,
     "metadata": {},
     "output_type": "execute_result"
    }
   ],
   "source": [
    "df_in_volume.groupby(['type']).count().loc[order_pre,['cid']]#/179*100"
   ]
  },
  {
   "cell_type": "code",
   "execution_count": 536,
   "id": "af2d7c61-2a07-42a2-9571-fc4d6fa8a60c",
   "metadata": {},
   "outputs": [
    {
     "data": {
      "image/png": "[encoded data removed]",
      "text/plain": [
       "<Figure size 200x500 with 1 Axes>"
      ]
     },
     "metadata": {},
     "output_type": "display_data"
    }
   ],
   "source": [
    "order_pre = ['grc-d','grc-s','sgx1','sgx2','sg1','sg2','mg1','mg2','lg','lf','tsd','dml','uk','glia']\n",
    "\n",
    "ax = df_in_volume.groupby(['type']).count().loc[order_pre,['cid']].T.plot.bar(stacked=True,color = syn_colors,figsize=(2,5),edgecolor='black',linewidth=0.5)\n",
    "\n",
    "for p in ax.patches:\n",
    "    width, height = p.get_width(), p.get_height()\n",
    "    x, y = p.get_xy() \n",
    "    if height >= 5:\n",
    "        t = ax.text(x+width/2, \n",
    "                y+height/2, \n",
    "                f'{height:.0f}', \n",
    "                horizontalalignment='center', \n",
    "                verticalalignment='center')\n",
    "        t.set_bbox(dict(facecolor='white', alpha=0.5, edgecolor = 'None'))\n",
    "sns.move_legend(ax, \"upper right\", bbox_to_anchor=(1.7, 1))"
   ]
  },
  {
   "cell_type": "code",
   "execution_count": 537,
   "id": "3890c37d-7c1a-4f7f-82d4-9c98d3ccdfb0",
   "metadata": {},
   "outputs": [
    {
     "data": {
      "text/html": [
       "<div>\n",
       "<style scoped>\n",
       "    .dataframe tbody tr th:only-of-type {\n",
       "        vertical-align: middle;\n",
       "    }\n",
       "\n",
       "    .dataframe tbody tr th {\n",
       "        vertical-align: top;\n",
       "    }\n",
       "\n",
       "    .dataframe thead th {\n",
       "        text-align: right;\n",
       "    }\n",
       "</style>\n",
       "<table border=\"1\" class=\"dataframe\">\n",
       "  <thead>\n",
       "    <tr style=\"text-align: right;\">\n",
       "      <th></th>\n",
       "      <th>cid</th>\n",
       "      <th>type</th>\n",
       "      <th>soma_diam</th>\n",
       "      <th>x</th>\n",
       "      <th>y</th>\n",
       "      <th>z</th>\n",
       "    </tr>\n",
       "  </thead>\n",
       "  <tbody>\n",
       "    <tr>\n",
       "      <th>0</th>\n",
       "      <td>211241128</td>\n",
       "      <td>glia</td>\n",
       "      <td>5.2990</td>\n",
       "      <td>259.789625</td>\n",
       "      <td>241.933648</td>\n",
       "      <td>35.047808</td>\n",
       "    </tr>\n",
       "    <tr>\n",
       "      <th>1</th>\n",
       "      <td>213563250</td>\n",
       "      <td>uk</td>\n",
       "      <td>5.1560</td>\n",
       "      <td>268.970031</td>\n",
       "      <td>255.447184</td>\n",
       "      <td>39.254152</td>\n",
       "    </tr>\n",
       "    <tr>\n",
       "      <th>2</th>\n",
       "      <td>213577795</td>\n",
       "      <td>dml</td>\n",
       "      <td>5.8605</td>\n",
       "      <td>275.319344</td>\n",
       "      <td>258.320016</td>\n",
       "      <td>39.418621</td>\n",
       "    </tr>\n",
       "    <tr>\n",
       "      <th>3</th>\n",
       "      <td>214707822</td>\n",
       "      <td>sg1</td>\n",
       "      <td>8.3680</td>\n",
       "      <td>271.352000</td>\n",
       "      <td>264.084000</td>\n",
       "      <td>35.610000</td>\n",
       "    </tr>\n",
       "    <tr>\n",
       "      <th>4</th>\n",
       "      <td>215805462</td>\n",
       "      <td>uk</td>\n",
       "      <td>4.4995</td>\n",
       "      <td>249.758328</td>\n",
       "      <td>268.736367</td>\n",
       "      <td>36.358374</td>\n",
       "    </tr>\n",
       "    <tr>\n",
       "      <th>...</th>\n",
       "      <td>...</td>\n",
       "      <td>...</td>\n",
       "      <td>...</td>\n",
       "      <td>...</td>\n",
       "      <td>...</td>\n",
       "      <td>...</td>\n",
       "    </tr>\n",
       "    <tr>\n",
       "      <th>173</th>\n",
       "      <td>395567735</td>\n",
       "      <td>uk</td>\n",
       "      <td>7.5845</td>\n",
       "      <td>249.048797</td>\n",
       "      <td>315.855750</td>\n",
       "      <td>53.345964</td>\n",
       "    </tr>\n",
       "    <tr>\n",
       "      <th>174</th>\n",
       "      <td>396697514</td>\n",
       "      <td>grc-d</td>\n",
       "      <td>4.8430</td>\n",
       "      <td>245.369516</td>\n",
       "      <td>327.196695</td>\n",
       "      <td>55.005211</td>\n",
       "    </tr>\n",
       "    <tr>\n",
       "      <th>175</th>\n",
       "      <td>396728194</td>\n",
       "      <td>grc-d</td>\n",
       "      <td>5.3665</td>\n",
       "      <td>255.309383</td>\n",
       "      <td>327.463070</td>\n",
       "      <td>52.923463</td>\n",
       "    </tr>\n",
       "    <tr>\n",
       "      <th>176</th>\n",
       "      <td>396759154</td>\n",
       "      <td>grc-d</td>\n",
       "      <td>6.6625</td>\n",
       "      <td>270.971094</td>\n",
       "      <td>323.540813</td>\n",
       "      <td>56.872745</td>\n",
       "    </tr>\n",
       "    <tr>\n",
       "      <th>177</th>\n",
       "      <td>400147658</td>\n",
       "      <td>grc-d</td>\n",
       "      <td>6.2320</td>\n",
       "      <td>249.185906</td>\n",
       "      <td>346.992570</td>\n",
       "      <td>55.900633</td>\n",
       "    </tr>\n",
       "  </tbody>\n",
       "</table>\n",
       "<p>178 rows × 6 columns</p>\n",
       "</div>"
      ],
      "text/plain": [
       "           cid   type  soma_diam           x           y          z\n",
       "0    211241128   glia     5.2990  259.789625  241.933648  35.047808\n",
       "1    213563250     uk     5.1560  268.970031  255.447184  39.254152\n",
       "2    213577795    dml     5.8605  275.319344  258.320016  39.418621\n",
       "3    214707822    sg1     8.3680  271.352000  264.084000  35.610000\n",
       "4    215805462     uk     4.4995  249.758328  268.736367  36.358374\n",
       "..         ...    ...        ...         ...         ...        ...\n",
       "173  395567735     uk     7.5845  249.048797  315.855750  53.345964\n",
       "174  396697514  grc-d     4.8430  245.369516  327.196695  55.005211\n",
       "175  396728194  grc-d     5.3665  255.309383  327.463070  52.923463\n",
       "176  396759154  grc-d     6.6625  270.971094  323.540813  56.872745\n",
       "177  400147658  grc-d     6.2320  249.185906  346.992570  55.900633\n",
       "\n",
       "[178 rows x 6 columns]"
      ]
     },
     "execution_count": 537,
     "metadata": {},
     "output_type": "execute_result"
    }
   ],
   "source": [
    "df_in_volume#"
   ]
  },
  {
   "cell_type": "code",
   "execution_count": 538,
   "id": "70812c6e-ee9c-46b8-b789-d5bed8b1849d",
   "metadata": {},
   "outputs": [
    {
     "data": {
      "text/html": [
       "<div>\n",
       "<style scoped>\n",
       "    .dataframe tbody tr th:only-of-type {\n",
       "        vertical-align: middle;\n",
       "    }\n",
       "\n",
       "    .dataframe tbody tr th {\n",
       "        vertical-align: top;\n",
       "    }\n",
       "\n",
       "    .dataframe thead tr th {\n",
       "        text-align: left;\n",
       "    }\n",
       "\n",
       "    .dataframe thead tr:last-of-type th {\n",
       "        text-align: right;\n",
       "    }\n",
       "</style>\n",
       "<table border=\"1\" class=\"dataframe\">\n",
       "  <thead>\n",
       "    <tr>\n",
       "      <th></th>\n",
       "      <th colspan=\"8\" halign=\"left\">soma_diam</th>\n",
       "    </tr>\n",
       "    <tr>\n",
       "      <th></th>\n",
       "      <th>count</th>\n",
       "      <th>mean</th>\n",
       "      <th>std</th>\n",
       "      <th>min</th>\n",
       "      <th>25%</th>\n",
       "      <th>50%</th>\n",
       "      <th>75%</th>\n",
       "      <th>max</th>\n",
       "    </tr>\n",
       "    <tr>\n",
       "      <th>type</th>\n",
       "      <th></th>\n",
       "      <th></th>\n",
       "      <th></th>\n",
       "      <th></th>\n",
       "      <th></th>\n",
       "      <th></th>\n",
       "      <th></th>\n",
       "      <th></th>\n",
       "    </tr>\n",
       "  </thead>\n",
       "  <tbody>\n",
       "    <tr>\n",
       "      <th>grc-d</th>\n",
       "      <td>73.0</td>\n",
       "      <td>5.747466</td>\n",
       "      <td>0.561498</td>\n",
       "      <td>3.8960</td>\n",
       "      <td>5.40850</td>\n",
       "      <td>5.84050</td>\n",
       "      <td>6.110000</td>\n",
       "      <td>7.2460</td>\n",
       "    </tr>\n",
       "    <tr>\n",
       "      <th>grc-s</th>\n",
       "      <td>9.0</td>\n",
       "      <td>5.717000</td>\n",
       "      <td>0.435607</td>\n",
       "      <td>5.0055</td>\n",
       "      <td>5.32500</td>\n",
       "      <td>5.79750</td>\n",
       "      <td>6.065000</td>\n",
       "      <td>6.2735</td>\n",
       "    </tr>\n",
       "    <tr>\n",
       "      <th>sgx1</th>\n",
       "      <td>10.0</td>\n",
       "      <td>5.909500</td>\n",
       "      <td>0.270168</td>\n",
       "      <td>5.5535</td>\n",
       "      <td>5.72575</td>\n",
       "      <td>5.88325</td>\n",
       "      <td>6.014875</td>\n",
       "      <td>6.3700</td>\n",
       "    </tr>\n",
       "    <tr>\n",
       "      <th>sgx2</th>\n",
       "      <td>1.0</td>\n",
       "      <td>5.012500</td>\n",
       "      <td>NaN</td>\n",
       "      <td>5.0125</td>\n",
       "      <td>5.01250</td>\n",
       "      <td>5.01250</td>\n",
       "      <td>5.012500</td>\n",
       "      <td>5.0125</td>\n",
       "    </tr>\n",
       "    <tr>\n",
       "      <th>sg1</th>\n",
       "      <td>11.0</td>\n",
       "      <td>6.843500</td>\n",
       "      <td>0.641107</td>\n",
       "      <td>6.0025</td>\n",
       "      <td>6.42500</td>\n",
       "      <td>6.71300</td>\n",
       "      <td>7.034500</td>\n",
       "      <td>8.3680</td>\n",
       "    </tr>\n",
       "    <tr>\n",
       "      <th>sg2</th>\n",
       "      <td>5.0</td>\n",
       "      <td>6.918800</td>\n",
       "      <td>0.915212</td>\n",
       "      <td>5.9130</td>\n",
       "      <td>6.43250</td>\n",
       "      <td>6.78400</td>\n",
       "      <td>7.115500</td>\n",
       "      <td>8.3490</td>\n",
       "    </tr>\n",
       "    <tr>\n",
       "      <th>mg1</th>\n",
       "      <td>4.0</td>\n",
       "      <td>11.349625</td>\n",
       "      <td>1.192521</td>\n",
       "      <td>10.4280</td>\n",
       "      <td>10.66950</td>\n",
       "      <td>10.94275</td>\n",
       "      <td>11.622875</td>\n",
       "      <td>13.0850</td>\n",
       "    </tr>\n",
       "    <tr>\n",
       "      <th>mg2</th>\n",
       "      <td>1.0</td>\n",
       "      <td>14.083000</td>\n",
       "      <td>NaN</td>\n",
       "      <td>14.0830</td>\n",
       "      <td>14.08300</td>\n",
       "      <td>14.08300</td>\n",
       "      <td>14.083000</td>\n",
       "      <td>14.0830</td>\n",
       "    </tr>\n",
       "    <tr>\n",
       "      <th>lg</th>\n",
       "      <td>1.0</td>\n",
       "      <td>18.611000</td>\n",
       "      <td>NaN</td>\n",
       "      <td>18.6110</td>\n",
       "      <td>18.61100</td>\n",
       "      <td>18.61100</td>\n",
       "      <td>18.611000</td>\n",
       "      <td>18.6110</td>\n",
       "    </tr>\n",
       "    <tr>\n",
       "      <th>lf</th>\n",
       "      <td>1.0</td>\n",
       "      <td>18.001500</td>\n",
       "      <td>NaN</td>\n",
       "      <td>18.0015</td>\n",
       "      <td>18.00150</td>\n",
       "      <td>18.00150</td>\n",
       "      <td>18.001500</td>\n",
       "      <td>18.0015</td>\n",
       "    </tr>\n",
       "    <tr>\n",
       "      <th>tsd</th>\n",
       "      <td>2.0</td>\n",
       "      <td>9.697500</td>\n",
       "      <td>0.341533</td>\n",
       "      <td>9.4560</td>\n",
       "      <td>9.57675</td>\n",
       "      <td>9.69750</td>\n",
       "      <td>9.818250</td>\n",
       "      <td>9.9390</td>\n",
       "    </tr>\n",
       "    <tr>\n",
       "      <th>dml</th>\n",
       "      <td>5.0</td>\n",
       "      <td>5.700900</td>\n",
       "      <td>0.436124</td>\n",
       "      <td>5.0040</td>\n",
       "      <td>5.67450</td>\n",
       "      <td>5.77050</td>\n",
       "      <td>5.860500</td>\n",
       "      <td>6.1950</td>\n",
       "    </tr>\n",
       "    <tr>\n",
       "      <th>uk</th>\n",
       "      <td>44.0</td>\n",
       "      <td>5.800523</td>\n",
       "      <td>1.593184</td>\n",
       "      <td>3.6955</td>\n",
       "      <td>4.83250</td>\n",
       "      <td>5.41150</td>\n",
       "      <td>6.955500</td>\n",
       "      <td>12.8315</td>\n",
       "    </tr>\n",
       "    <tr>\n",
       "      <th>glia</th>\n",
       "      <td>11.0</td>\n",
       "      <td>6.762091</td>\n",
       "      <td>1.522866</td>\n",
       "      <td>5.0990</td>\n",
       "      <td>5.57225</td>\n",
       "      <td>6.07700</td>\n",
       "      <td>7.738000</td>\n",
       "      <td>9.5695</td>\n",
       "    </tr>\n",
       "  </tbody>\n",
       "</table>\n",
       "</div>"
      ],
      "text/plain": [
       "      soma_diam                                                               \\\n",
       "          count       mean       std      min       25%       50%        75%   \n",
       "type                                                                           \n",
       "grc-d      73.0   5.747466  0.561498   3.8960   5.40850   5.84050   6.110000   \n",
       "grc-s       9.0   5.717000  0.435607   5.0055   5.32500   5.79750   6.065000   \n",
       "sgx1       10.0   5.909500  0.270168   5.5535   5.72575   5.88325   6.014875   \n",
       "sgx2        1.0   5.012500       NaN   5.0125   5.01250   5.01250   5.012500   \n",
       "sg1        11.0   6.843500  0.641107   6.0025   6.42500   6.71300   7.034500   \n",
       "sg2         5.0   6.918800  0.915212   5.9130   6.43250   6.78400   7.115500   \n",
       "mg1         4.0  11.349625  1.192521  10.4280  10.66950  10.94275  11.622875   \n",
       "mg2         1.0  14.083000       NaN  14.0830  14.08300  14.08300  14.083000   \n",
       "lg          1.0  18.611000       NaN  18.6110  18.61100  18.61100  18.611000   \n",
       "lf          1.0  18.001500       NaN  18.0015  18.00150  18.00150  18.001500   \n",
       "tsd         2.0   9.697500  0.341533   9.4560   9.57675   9.69750   9.818250   \n",
       "dml         5.0   5.700900  0.436124   5.0040   5.67450   5.77050   5.860500   \n",
       "uk         44.0   5.800523  1.593184   3.6955   4.83250   5.41150   6.955500   \n",
       "glia       11.0   6.762091  1.522866   5.0990   5.57225   6.07700   7.738000   \n",
       "\n",
       "                \n",
       "           max  \n",
       "type            \n",
       "grc-d   7.2460  \n",
       "grc-s   6.2735  \n",
       "sgx1    6.3700  \n",
       "sgx2    5.0125  \n",
       "sg1     8.3680  \n",
       "sg2     8.3490  \n",
       "mg1    13.0850  \n",
       "mg2    14.0830  \n",
       "lg     18.6110  \n",
       "lf     18.0015  \n",
       "tsd     9.9390  \n",
       "dml     6.1950  \n",
       "uk     12.8315  \n",
       "glia    9.5695  "
      ]
     },
     "execution_count": 538,
     "metadata": {},
     "output_type": "execute_result"
    }
   ],
   "source": [
    "df_in_volume.groupby(['type']).describe().loc[order_pre,['soma_diam']]"
   ]
  },
  {
   "cell_type": "code",
   "execution_count": 539,
   "id": "d0c4620d-0350-4159-a7a2-dfdc8681f439",
   "metadata": {},
   "outputs": [
    {
     "data": {
      "text/plain": [
       "<AxesSubplot:xlabel='type', ylabel='soma_diam'>"
      ]
     },
     "execution_count": 539,
     "metadata": {},
     "output_type": "execute_result"
    },
    {
     "data": {
      "image/png": "[encoded data removed]",
      "text/plain": [
       "<Figure size 800x400 with 1 Axes>"
      ]
     },
     "metadata": {},
     "output_type": "display_data"
    }
   ],
   "source": [
    "hfig,ax = plt.subplots(1,figsize=(8,4))\n",
    "sns.stripplot(df_in_volume,x='type',y='soma_diam',order = order_pre,facecolor = 'white',edgecolor='black',linewidth=1,ax=ax,alpha=0.5)\n",
    "sns.pointplot(df_in_volume,x='type',y='soma_diam',order = order_pre, join=False, errorbar=('ci', 0), capsize=.7, scale=0,ax=ax)"
   ]
  },
  {
   "cell_type": "code",
   "execution_count": 542,
   "id": "c1ae496b-04d5-4449-bd3a-f8d204acb251",
   "metadata": {},
   "outputs": [],
   "source": [
    "viewer = get_viewer(backgnd_color=\"white\")\n",
    "create_em_layer(viewer)"
   ]
  },
  {
   "cell_type": "code",
   "execution_count": 547,
   "id": "8e9224b1-9fca-4bf1-b492-3501a1baaed3",
   "metadata": {},
   "outputs": [],
   "source": [
    "# Define the dimensions of the annotation box\n",
    "x_start = 15300 #15316\n",
    "x_end = 17500 #17527\n",
    "y_start = 15000\n",
    "y_end = 25000\n",
    "z_start = 1250\n",
    "z_end = 1850\n",
    "\n",
    "lname_ = 'bounding_box'\n",
    "\n",
    "with viewer.txn(overwrite=True) as s:\n",
    "    s.layers[lname_] = neuroglancer.AnnotationLayer()\n",
    "    s.layers[lname_].annotationColor = '#000000'\n",
    "\n",
    "    \n",
    "    point_array = point #array([int(point[x]/vx_sizes[x]) for x in range(3)])\n",
    "    point_id = f'{lname_}_1'\n",
    "    pa = neuroglancer.AxisAlignedBoundingBoxAnnotation(id=point_id, \n",
    "                                      point_a = (x_start, y_start, z_start),point_b=(x_end, y_end, z_end))\n",
    "    s.layers[lname_].annotations.append(pa)   \n",
    "            \n"
   ]
  },
  {
   "cell_type": "code",
   "execution_count": 544,
   "id": "5894a3e1-b175-4a14-9650-45848d1308a7",
   "metadata": {},
   "outputs": [],
   "source": [
    "neuroglancer_path = '/Users/kperks/Documents/gdrive/.shortcut-targets-by-id/16q1BuOMfD2ta0Cwq8CjMlRe4rDvbuWC5/ELL_connectome/CREST_reconstructions/mg-network/volume-subsample-all'\n",
    "filename = 'base_segs_revised.json'\n",
    "neuroglancer_path = Path(neuroglancer_path) / filename\n",
    "\n",
    "with open(Path(neuroglancer_path), 'r') as myfile: # 'p' is the dirpath and 'f' is the filename from the created 'd' dictionary\n",
    "    neuroglancer_data = json.load(myfile)\n",
    "\n",
    "segmentation_layer = next((item for item in neuroglancer_data['layers'] if item[\"source\"] == 'brainmaps://10393113184:ell:roi450um_seg32fb16fb_220930'), None)\n",
    "base_segment_list_ng = set(segmentation_layer['segments'])\n",
    "\n"
   ]
  },
  {
   "cell_type": "code",
   "execution_count": 545,
   "id": "8b5b07a5-0c2a-4dbb-b98c-5e5f4c968f09",
   "metadata": {},
   "outputs": [],
   "source": [
    "# each cell to a different tab    \n",
    "lname = 'marked somas'\n",
    "create_baseseg_layer(viewer, base_seg, lname, objectAlpha = 1)\n",
    "with viewer.txn(overwrite=True) as s:\n",
    "    for bs in base_segment_list_ng:\n",
    "        s.layers[lname].segments.add(int(bs))\n",
    "        s.layers[lname].segment_colors[int(bs)] = '#0000ff'\n",
    "# sleep(2)"
   ]
  },
  {
   "cell_type": "code",
   "execution_count": 456,
   "id": "340a884c-2e7c-4bfe-9114-7982e4e6f929",
   "metadata": {},
   "outputs": [
    {
     "data": {
      "text/html": [
       "<div>\n",
       "<style scoped>\n",
       "    .dataframe tbody tr th:only-of-type {\n",
       "        vertical-align: middle;\n",
       "    }\n",
       "\n",
       "    .dataframe tbody tr th {\n",
       "        vertical-align: top;\n",
       "    }\n",
       "\n",
       "    .dataframe thead th {\n",
       "        text-align: right;\n",
       "    }\n",
       "</style>\n",
       "<table border=\"1\" class=\"dataframe\">\n",
       "  <thead>\n",
       "    <tr style=\"text-align: right;\">\n",
       "      <th></th>\n",
       "      <th>cid</th>\n",
       "      <th>type</th>\n",
       "      <th>soma_diam</th>\n",
       "      <th>x</th>\n",
       "      <th>y</th>\n",
       "      <th>z</th>\n",
       "    </tr>\n",
       "  </thead>\n",
       "  <tbody>\n",
       "    <tr>\n",
       "      <th>6</th>\n",
       "      <td>218157341</td>\n",
       "      <td>grc-s</td>\n",
       "      <td>5.7975</td>\n",
       "      <td>279.740156</td>\n",
       "      <td>283.961242</td>\n",
       "      <td>40.674688</td>\n",
       "    </tr>\n",
       "    <tr>\n",
       "      <th>7</th>\n",
       "      <td>219256490</td>\n",
       "      <td>grc-s</td>\n",
       "      <td>5.6295</td>\n",
       "      <td>256.933070</td>\n",
       "      <td>288.912617</td>\n",
       "      <td>39.102664</td>\n",
       "    </tr>\n",
       "    <tr>\n",
       "      <th>48</th>\n",
       "      <td>301682826</td>\n",
       "      <td>grc-s</td>\n",
       "      <td>5.3250</td>\n",
       "      <td>250.755109</td>\n",
       "      <td>273.898594</td>\n",
       "      <td>54.546414</td>\n",
       "    </tr>\n",
       "    <tr>\n",
       "      <th>58</th>\n",
       "      <td>305116146</td>\n",
       "      <td>grc-s</td>\n",
       "      <td>12.3145</td>\n",
       "      <td>249.370281</td>\n",
       "      <td>293.739078</td>\n",
       "      <td>48.549435</td>\n",
       "    </tr>\n",
       "    <tr>\n",
       "      <th>62</th>\n",
       "      <td>305176846</td>\n",
       "      <td>grc-s</td>\n",
       "      <td>5.0055</td>\n",
       "      <td>276.853344</td>\n",
       "      <td>292.021578</td>\n",
       "      <td>50.143171</td>\n",
       "    </tr>\n",
       "    <tr>\n",
       "      <th>66</th>\n",
       "      <td>306274968</td>\n",
       "      <td>grc-s</td>\n",
       "      <td>6.0650</td>\n",
       "      <td>254.551109</td>\n",
       "      <td>302.357453</td>\n",
       "      <td>49.595054</td>\n",
       "    </tr>\n",
       "    <tr>\n",
       "      <th>68</th>\n",
       "      <td>306289985</td>\n",
       "      <td>grc-s</td>\n",
       "      <td>6.1505</td>\n",
       "      <td>261.452539</td>\n",
       "      <td>300.188836</td>\n",
       "      <td>47.026571</td>\n",
       "    </tr>\n",
       "    <tr>\n",
       "      <th>69</th>\n",
       "      <td>306290102</td>\n",
       "      <td>grc-s</td>\n",
       "      <td>5.9190</td>\n",
       "      <td>265.923719</td>\n",
       "      <td>298.251008</td>\n",
       "      <td>46.931153</td>\n",
       "    </tr>\n",
       "    <tr>\n",
       "      <th>160</th>\n",
       "      <td>391049801</td>\n",
       "      <td>grc-s</td>\n",
       "      <td>5.2875</td>\n",
       "      <td>276.234812</td>\n",
       "      <td>290.813648</td>\n",
       "      <td>53.931326</td>\n",
       "    </tr>\n",
       "  </tbody>\n",
       "</table>\n",
       "</div>"
      ],
      "text/plain": [
       "           cid   type  soma_diam           x           y          z\n",
       "6    218157341  grc-s     5.7975  279.740156  283.961242  40.674688\n",
       "7    219256490  grc-s     5.6295  256.933070  288.912617  39.102664\n",
       "48   301682826  grc-s     5.3250  250.755109  273.898594  54.546414\n",
       "58   305116146  grc-s    12.3145  249.370281  293.739078  48.549435\n",
       "62   305176846  grc-s     5.0055  276.853344  292.021578  50.143171\n",
       "66   306274968  grc-s     6.0650  254.551109  302.357453  49.595054\n",
       "68   306289985  grc-s     6.1505  261.452539  300.188836  47.026571\n",
       "69   306290102  grc-s     5.9190  265.923719  298.251008  46.931153\n",
       "160  391049801  grc-s     5.2875  276.234812  290.813648  53.931326"
      ]
     },
     "execution_count": 456,
     "metadata": {},
     "output_type": "execute_result"
    }
   ],
   "source": [
    "df_in_volume[df_in_volume['type']=='grc-s']"
   ]
  },
  {
   "cell_type": "code",
   "execution_count": 454,
   "id": "7098ad98-528f-41ae-b41b-36f315a92856",
   "metadata": {},
   "outputs": [],
   "source": [
    "# each cell to a different tab    \n",
    "for i,c_id in segs_in_volume.items():\n",
    "    if i in df_in_volume[df_in_volume['type']=='grc-s']['cid'].values:\n",
    "        # print(c_id['type'])\n",
    "        # break\n",
    "        ctype = c_id['type']\n",
    "        lname = i + '_' + ctype\n",
    "        create_baseseg_layer(viewer, base_seg, lname, objectAlpha = 1)\n",
    "        with viewer.txn(overwrite=True) as s:\n",
    "            for dtype,keys in c_id['seg_dict'].items(): #segs_to_add[c_id]:\n",
    "                for bs in keys: \n",
    "                    s.layers[lname].segments.add(int(bs))\n",
    "                    try:\n",
    "                        s.layers[lname].segment_colors[int(bs)] = color_structure[dtype] #syn_colors[ctype]#'#996633' # blue\n",
    "                    except: \n",
    "                        s.layers[lname].segment_colors[int(bs)] = '#000000'\n",
    "        sleep(2)"
   ]
  },
  {
   "cell_type": "code",
   "execution_count": null,
   "id": "60288036-1382-4a17-8d16-f7a73e010d91",
   "metadata": {},
   "outputs": [],
   "source": []
  }
 ],
 "metadata": {
  "kernelspec": {
   "display_name": "Python 3 (ipykernel)",
   "language": "python",
   "name": "python3"
  },
  "language_info": {
   "codemirror_mode": {
    "name": "ipython",
    "version": 3
   },
   "file_extension": ".py",
   "mimetype": "text/x-python",
   "name": "python",
   "nbconvert_exporter": "python",
   "pygments_lexer": "ipython3",
   "version": "3.8.13"
  },
  "widgets": {
   "application/vnd.jupyter.widget-state+json": {
    "state": {},
    "version_major": 2,
    "version_minor": 0
   }
  }
 },
 "nbformat": 4,
 "nbformat_minor": 5
}
