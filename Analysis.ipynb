{
 "cells": [
  {
   "cell_type": "markdown",
   "id": "a31a75a1-680b-42f7-a979-b3fc38bd326f",
   "metadata": {},
   "source": [
    "# Analysis"
   ]
  },
  {
   "cell_type": "markdown",
   "id": "db72bbd0-2eff-4e39-a363-90aca421ec6e",
   "metadata": {},
   "source": [
    "## Setup"
   ]
  },
  {
   "cell_type": "code",
   "execution_count": 1,
   "id": "76e65463-c950-47ce-a195-f61b5fc3faad",
   "metadata": {},
   "outputs": [],
   "source": [
    "############################################################################################################################ \n",
    "# Get the latest CREST files for each ID within the target folder (dirname)\n",
    "\n",
    "from pathlib import Path\n",
    "import json\n",
    "from sqlite3 import connect as sqlite3_connect\n",
    "from sqlite3 import DatabaseError\n",
    "from igraph import Graph as ig_Graph\n",
    "from igraph import plot as ig_plot\n",
    "from scipy.spatial.distance import cdist\n",
    "from random import choice as random_choice\n",
    "from itertools import combinations\n",
    "from numpy import array, unravel_index, argmin, mean\n",
    "import numpy as np\n",
    "from copy import deepcopy\n",
    "import itertools\n",
    "from datetime import datetime\n",
    "from time import time\n",
    "import neuroglancer\n",
    "from webbrowser import open as wb_open\n",
    "from webbrowser import open_new as wb_open_new\n",
    "import pandas as pd\n",
    "\n",
    "from eCREST_cli import ecrest, import_settings"
   ]
  },
  {
   "cell_type": "markdown",
   "id": "dcac7e55-2d59-458b-ac9f-3df36df4a3f1",
   "metadata": {},
   "source": [
    "The 'ecrest' class has been imported from eCREST_cli.py\n",
    "\n",
    "An instance of this object will be able to:\n",
    "- open an neuroglancer viewer for proofrieading (see \"Proofread using CREST\")\n",
    "    - add-remove segments (using graph feature for efficiency)\n",
    "    - format itself and save itself as a CREST-style .json\n",
    "- convert from neuroglancer json (see \"Convert From Neuroglancer to eCREST\")\n",
    "    - format itself and save itself as a CREST-style .json\n",
    "    \n"
   ]
  },
  {
   "cell_type": "markdown",
   "id": "129c2185-2363-4dd2-a4ec-ed4c691e794b",
   "metadata": {},
   "source": [
    "### Import settings\n",
    "\n",
    "If you save a copy of settings_dict.json (found in the \"under construction\" directory of eCREST repo) locally somewhere outside the repo (like in your save_dir), then you can use the following code cell to import. This avoids needing to re-type the save_dir and db_path each time you \"git pull\" updates from the repo to this notebook."
   ]
  },
  {
   "cell_type": "code",
   "execution_count": 2,
   "id": "8e594867-f9ad-4514-aae8-78127c6afb50",
   "metadata": {},
   "outputs": [],
   "source": [
    "path_to_settings_json = '/Users/kperks/Documents/ell-connectome/eCREST-local-files/settings_dict.json'\n",
    "settings_dict = import_settings(path_to_settings_json)"
   ]
  },
  {
   "cell_type": "markdown",
   "id": "f6ee76f1-7249-4add-9d08-ebba36c4d6c9",
   "metadata": {},
   "source": [
    "## Build connectivity graph"
   ]
  },
  {
   "cell_type": "code",
   "execution_count": 3,
   "id": "66307f56-b982-42bf-acf6-2f878db555d2",
   "metadata": {},
   "outputs": [],
   "source": [
    "dirpath = \"/Users/kperks/Documents/gdrive/.shortcut-targets-by-id/16q1BuOMfD2ta0Cwq8CjMlRe4rDvbuWC5/ELL_connectome/CREST_reconstructions/mg-network\""
   ]
  },
  {
   "cell_type": "code",
   "execution_count": 13,
   "id": "2aad7187-2ce8-4145-9a73-8920508de0c8",
   "metadata": {},
   "outputs": [],
   "source": [
    "nodes = [child.name.split('_')[2] for child in sorted(Path(dirpath).iterdir()) \n",
    "         if (child.name[0]!='.') & (child.is_file())] # ignore hidden files]"
   ]
  },
  {
   "cell_type": "code",
   "execution_count": 14,
   "id": "0067d9f0-3b06-4352-ba0b-9c7ad87e9747",
   "metadata": {},
   "outputs": [],
   "source": [
    "nodefiles = dict()\n",
    "for child in sorted(Path(dirpath).iterdir()):\n",
    "    if (child.name[0]!='.') & (child.is_file()):\n",
    "        nodefiles[child.name.split('_')[2]] = child\n",
    "                    \n"
   ]
  },
  {
   "cell_type": "code",
   "execution_count": 16,
   "id": "f3ca4fa4-40af-4f4d-8e5a-2e0b811bd7b5",
   "metadata": {},
   "outputs": [],
   "source": [
    "ell = ig_Graph(directed = True) \n",
    "ell.add_vertices(nodes)"
   ]
  },
  {
   "cell_type": "code",
   "execution_count": 17,
   "id": "cab17c50-b195-4950-99ae-6d2c25d2a7dc",
   "metadata": {},
   "outputs": [],
   "source": [
    "# assign cell types to each node\n",
    "for x in ell.vs:\n",
    "    cell = ecrest(settings_dict,filepath = nodefiles[x['name']],launch_viewer=False)\n",
    "    x['cell_type'] = cell.get_ctype('manual') \n",
    "    if (cell.get_ctype('manual') == []) | (cell.get_ctype('manual') == ''):\n",
    "        print(f'cell {x['name']} is not typed in json')'"
   ]
  },
  {
   "cell_type": "code",
   "execution_count": 18,
   "id": "6e275a77-3027-4054-b2ad-671bfabfd42f",
   "metadata": {},
   "outputs": [],
   "source": [
    "# Create a base_segments dictionary of all cells\n",
    "\n",
    "base_segments = {}\n",
    "for x in ell.vs:\n",
    "    cell = ecrest(settings_dict,filepath = nodefiles[x['name']],launch_viewer=False)\n",
    "    base_segments[cell.cell_data['metadata']['main_seg']['base']] = cell.cell_data['base_segments']"
   ]
  },
  {
   "cell_type": "code",
   "execution_count": 19,
   "id": "8d209a20-a82a-4ca3-845f-19a7fb9aadd8",
   "metadata": {},
   "outputs": [
    {
     "name": "stdout",
     "output_type": "stream",
     "text": [
      "21 lf cells.\n",
      "19 lg cells.\n",
      "13 mg1 cells.\n",
      "13 mg2 cells.\n",
      "0 lx cells.\n",
      "0 mgx cells.\n"
     ]
    }
   ],
   "source": [
    "for ctype in ['lf','lg','mg1','mg2','lx','mgx']:\n",
    "    these_cells = ell.vs.select(lambda v: ctype in v['cell_type'])\n",
    "    print(f'{len(these_cells)} {ctype} cells.')# {len(ell.vs.select(lambda v: 'lg' in v['cell_type']))} lg cells. {len(e"
   ]
  },
  {
   "cell_type": "code",
   "execution_count": 20,
   "id": "622663cb-0f17-427c-93f6-020f719f4676",
   "metadata": {},
   "outputs": [
    {
     "name": "stdout",
     "output_type": "stream",
     "text": [
      "list index out of range for cell 213605530 synapse at syn_ has no segment id\n",
      "list index out of range for cell 472161980 synapse at syn_ has no segment id\n"
     ]
    }
   ],
   "source": [
    "## find edges and set the cell-structure attribute of the edge based on which part of the cell the edge goes to\n",
    "edge_list = []\n",
    "cells_with_synapses = []\n",
    "cells_without_synapses = []\n",
    "# for each node,\n",
    "for x_pre in ell.vs:\n",
    "# x_pre = ell.vs.find('128473437')\n",
    "\n",
    "    # if the node has post-synaptic annotations (the current cell is assumed pre-synaptic)\n",
    "    pre = ecrest(settings_dict,filepath = nodefiles[x_pre['name']],launch_viewer=False)\n",
    "    if pre.cell_data['end_points']['post-synaptic'] != []:\n",
    "        \n",
    "        cells_with_synapses.append([x_pre['name'],x_pre['cell_type'],len(pre.cell_data['end_points']['post-synaptic'])])\n",
    "        \n",
    "        # for each synapse\n",
    "        for syn_ in pre.cell_data['end_points']['post-synaptic']:\n",
    "            try:\n",
    "                post_seg = syn_[3]\n",
    "\n",
    "                # go through each other nodes\n",
    "                for x_post in ell.vs:\n",
    "                # x_post = ell.vs.find('387368998')\n",
    "\n",
    "                    post = base_segments[x_post['name']] #ecrest(settings_dict,filepath = nodefiles[x_post['name']],launch_viewer=False)\n",
    "\n",
    "\n",
    "                    for k,v in post.items():\n",
    "\n",
    "                        for v_ in list(v): #find keys (can be multiple on the same cell) for matching segment ids\n",
    "\n",
    "                            if post_seg == v_: \n",
    "\n",
    "                            # add edge to the graph between current node and matching node\n",
    "                                edge_list.append([x_pre['name'],x_post['name'],k])\n",
    "\n",
    "                            # what happens if the edge already exists? can you \"add another\" or does the \"strength\" attribute increase?\n",
    "\n",
    "                            # set edge attribute for cell structure of edge\n",
    "\n",
    "                            # ****HOW MAKE THIS DIRECTED?\n",
    "            except IndexError as msg:\n",
    "                cellid = x_pre['name']\n",
    "                print(msg, f'for cell {cellid} synapse at syn_ has no segment id')\n",
    "\n",
    "    else:\n",
    "        cells_without_synapses.append([x_pre['name'],x_pre['cell_type'],len(pre.cell_data['end_points']['post-synaptic'])])\n",
    "        cellid = x_pre['name']\n",
    "        # print(f'no synapses for {cellid}')\n",
    "        "
   ]
  },
  {
   "cell_type": "code",
   "execution_count": 21,
   "id": "5b2688ae-653b-41b0-bd4f-a86290a87eb6",
   "metadata": {},
   "outputs": [
    {
     "data": {
      "text/plain": [
       "[['128473437', 'mg2', 69],\n",
       " ['213605530', 'mg2', 93],\n",
       " ['213669553', 'mg1', 89],\n",
       " ['214412684', 'mg1', 56],\n",
       " ['214550811', 'mg1', 68],\n",
       " ['214581797', 'mg2', 46],\n",
       " ['215572949', 'mg2', 70],\n",
       " ['216129202', 'mg2', 88],\n",
       " ['220275752', 'gran', 54],\n",
       " ['297178666', 'mli', 84],\n",
       " ['299497999', 'mg1', 9],\n",
       " ['299589324', 'sg', 59],\n",
       " ['300210608', 'mg1', 42],\n",
       " ['300316308', 'mg2', 74],\n",
       " ['300380579', 'mg1', 46],\n",
       " ['302143252', 'mg1', 70],\n",
       " ['305035439', 'gran', 45],\n",
       " ['31102601', 'gran', 168],\n",
       " ['386117124', 'mg2', 74],\n",
       " ['386300356', 'mg2', 1],\n",
       " ['387368998', 'mg1', 42],\n",
       " ['392213717', 'gran', 61],\n",
       " ['42800051', 'mg2', 36],\n",
       " ['471233236', 'mg2', 64],\n",
       " ['472051969', 'mg2', 114],\n",
       " ['472161980', 'uk', 35],\n",
       " ['472175645', 'mg1', 70],\n",
       " ['472409584', 'mg1', 28],\n",
       " ['49530373', 'uk', 44],\n",
       " ['644825148', 'mg2', 56]]"
      ]
     },
     "execution_count": 21,
     "metadata": {},
     "output_type": "execute_result"
    }
   ],
   "source": [
    "cells_with_synapses"
   ]
  },
  {
   "cell_type": "code",
   "execution_count": 23,
   "id": "8dc44022-3dea-4137-a898-574353ad0a70",
   "metadata": {},
   "outputs": [],
   "source": [
    "df_allsyn = pd.DataFrame(cells_with_synapses)"
   ]
  },
  {
   "cell_type": "code",
   "execution_count": 24,
   "id": "d01431fc-4809-406d-90a0-424731dc9b77",
   "metadata": {},
   "outputs": [
    {
     "data": {
      "text/plain": [
       "1305"
      ]
     },
     "execution_count": 24,
     "metadata": {},
     "output_type": "execute_result"
    }
   ],
   "source": [
    "df_allsyn[df_allsyn[1].str.contains(\"mg\")][2].sum()"
   ]
  },
  {
   "cell_type": "code",
   "execution_count": 22,
   "id": "9bde4262-d9ab-49ce-8364-07c49f24f802",
   "metadata": {},
   "outputs": [
    {
     "data": {
      "text/plain": [
       "[['110418632', 'uk', 0],\n",
       " ['115945511', 'uk', 0],\n",
       " ['119793391', 'lg', 0],\n",
       " ['126635405', 'mg1', 0],\n",
       " ['126649726', 'mg', 0],\n",
       " ['129838223', 'lg', 0],\n",
       " ['133378529', 'lg', 0],\n",
       " ['134492570', 'lf', 0],\n",
       " ['134616493', 'lf', 0],\n",
       " ['135514741', 'lf', 0],\n",
       " ['208812182', 'mli', 0],\n",
       " ['214503199', 'lg', 0],\n",
       " ['215403551', 'lg', 0],\n",
       " ['215526370', 'lg', 0],\n",
       " ['218515759', 'uk', 0],\n",
       " ['220213102', 'uk', 0],\n",
       " ['299404889', 'mg2', 0],\n",
       " ['300474334', 'lg', 0],\n",
       " ['300796727', 'lg', 0],\n",
       " ['30117125', 'lf', 0],\n",
       " ['301787806', 'lg', 0],\n",
       " ['305332461', 'lg', 0],\n",
       " ['307418797', 'lf', 0],\n",
       " ['307591597', 'lf', 0],\n",
       " ['388406692', 'lg', 0],\n",
       " ['389085521', 'mg1', 0],\n",
       " ['390542812', 'lg', 0],\n",
       " ['391902729', 'gran', 0],\n",
       " ['392072123', 'lf', 0],\n",
       " ['392814322', 'lf', 0],\n",
       " ['393063300', 'lf', 0],\n",
       " ['393325331', 'lf', 0],\n",
       " ['393355752', 'lf', 0],\n",
       " ['394686712', 'lf', 0],\n",
       " ['43235451', 'lg', 0],\n",
       " ['45955972', 'lg', 0],\n",
       " ['472114046', 'mg1', 0],\n",
       " ['473274862', 'gran', 0],\n",
       " ['474898913', 'lg', 0],\n",
       " ['476971816', 'uk', 0],\n",
       " ['480081746', 'gran', 0],\n",
       " ['48573302', 'lf', 0],\n",
       " ['48929295', 'lf', 0],\n",
       " ['49453764', 'lf', 0],\n",
       " ['557818053', 'lg', 0],\n",
       " ['558020412', 'lg', 0],\n",
       " ['561826647', 'lg', 0],\n",
       " ['563840037', 'lf', 0],\n",
       " ['564860219', 'lf', 0],\n",
       " ['645162652', 'lg', 0],\n",
       " ['650610061', 'lf', 0],\n",
       " ['650953193', 'lf', 0],\n",
       " ['652266299', 'lf', 0],\n",
       " ['653504340', 'lf', 0]]"
      ]
     },
     "execution_count": 22,
     "metadata": {},
     "output_type": "execute_result"
    }
   ],
   "source": [
    "cells_without_synapses"
   ]
  },
  {
   "cell_type": "code",
   "execution_count": 25,
   "id": "82896044-84a3-435b-b94a-eb2a4cc0ea92",
   "metadata": {},
   "outputs": [],
   "source": [
    "df = pd.DataFrame(edge_list,columns = ['pre','post','structure'])\n",
    "df_edges = deepcopy(df.value_counts().reset_index(name='weight'))"
   ]
  },
  {
   "cell_type": "code",
   "execution_count": 29,
   "id": "1f689979-5e87-49d7-a6ae-785274bd17a9",
   "metadata": {},
   "outputs": [
    {
     "data": {
      "text/html": [
       "<div>\n",
       "<style scoped>\n",
       "    .dataframe tbody tr th:only-of-type {\n",
       "        vertical-align: middle;\n",
       "    }\n",
       "\n",
       "    .dataframe tbody tr th {\n",
       "        vertical-align: top;\n",
       "    }\n",
       "\n",
       "    .dataframe thead th {\n",
       "        text-align: right;\n",
       "    }\n",
       "</style>\n",
       "<table border=\"1\" class=\"dataframe\">\n",
       "  <thead>\n",
       "    <tr style=\"text-align: right;\">\n",
       "      <th></th>\n",
       "      <th>pre</th>\n",
       "      <th>post</th>\n",
       "      <th>structure</th>\n",
       "      <th>weight</th>\n",
       "    </tr>\n",
       "  </thead>\n",
       "  <tbody>\n",
       "    <tr>\n",
       "      <th>0</th>\n",
       "      <td>472175645</td>\n",
       "      <td>393063300</td>\n",
       "      <td>unknown</td>\n",
       "      <td>20</td>\n",
       "    </tr>\n",
       "    <tr>\n",
       "      <th>1</th>\n",
       "      <td>472051969</td>\n",
       "      <td>215526370</td>\n",
       "      <td>unknown</td>\n",
       "      <td>16</td>\n",
       "    </tr>\n",
       "    <tr>\n",
       "      <th>2</th>\n",
       "      <td>472051969</td>\n",
       "      <td>558020412</td>\n",
       "      <td>unknown</td>\n",
       "      <td>15</td>\n",
       "    </tr>\n",
       "    <tr>\n",
       "      <th>3</th>\n",
       "      <td>213669553</td>\n",
       "      <td>307591597</td>\n",
       "      <td>unknown</td>\n",
       "      <td>14</td>\n",
       "    </tr>\n",
       "    <tr>\n",
       "      <th>4</th>\n",
       "      <td>214412684</td>\n",
       "      <td>393063300</td>\n",
       "      <td>unknown</td>\n",
       "      <td>12</td>\n",
       "    </tr>\n",
       "    <tr>\n",
       "      <th>...</th>\n",
       "      <td>...</td>\n",
       "      <td>...</td>\n",
       "      <td>...</td>\n",
       "      <td>...</td>\n",
       "    </tr>\n",
       "    <tr>\n",
       "      <th>166</th>\n",
       "      <td>42800051</td>\n",
       "      <td>214412684</td>\n",
       "      <td>basal dendrite</td>\n",
       "      <td>1</td>\n",
       "    </tr>\n",
       "    <tr>\n",
       "      <th>167</th>\n",
       "      <td>214581797</td>\n",
       "      <td>472175645</td>\n",
       "      <td>unknown</td>\n",
       "      <td>1</td>\n",
       "    </tr>\n",
       "    <tr>\n",
       "      <th>168</th>\n",
       "      <td>214581797</td>\n",
       "      <td>387368998</td>\n",
       "      <td>unknown</td>\n",
       "      <td>1</td>\n",
       "    </tr>\n",
       "    <tr>\n",
       "      <th>169</th>\n",
       "      <td>214581797</td>\n",
       "      <td>387368998</td>\n",
       "      <td>axon</td>\n",
       "      <td>1</td>\n",
       "    </tr>\n",
       "    <tr>\n",
       "      <th>170</th>\n",
       "      <td>128473437</td>\n",
       "      <td>115945511</td>\n",
       "      <td>unknown</td>\n",
       "      <td>1</td>\n",
       "    </tr>\n",
       "  </tbody>\n",
       "</table>\n",
       "<p>171 rows × 4 columns</p>\n",
       "</div>"
      ],
      "text/plain": [
       "           pre       post       structure  weight\n",
       "0    472175645  393063300         unknown      20\n",
       "1    472051969  215526370         unknown      16\n",
       "2    472051969  558020412         unknown      15\n",
       "3    213669553  307591597         unknown      14\n",
       "4    214412684  393063300         unknown      12\n",
       "..         ...        ...             ...     ...\n",
       "166   42800051  214412684  basal dendrite       1\n",
       "167  214581797  472175645         unknown       1\n",
       "168  214581797  387368998         unknown       1\n",
       "169  214581797  387368998            axon       1\n",
       "170  128473437  115945511         unknown       1\n",
       "\n",
       "[171 rows x 4 columns]"
      ]
     },
     "execution_count": 29,
     "metadata": {},
     "output_type": "execute_result"
    }
   ],
   "source": [
    "df_edges"
   ]
  },
  {
   "cell_type": "code",
   "execution_count": 31,
   "id": "5840d441-0b19-4831-8db0-eaf7582939b9",
   "metadata": {},
   "outputs": [
    {
     "name": "stdout",
     "output_type": "stream",
     "text": [
      "650 total synapses in current network\n",
      "29 unique pre synaptic cells - to - 67 unique post-synaptic cells (counts different structures on same cell as different)\n",
      "171 unique edges in the network\n"
     ]
    }
   ],
   "source": [
    "print(f'{len(df)} total synapses in current network')\n",
    "print(f'{len(df[\"pre\"].unique())} unique pre synaptic cells - to - {len(df[\"post\"].unique())} unique post-synaptic cells (counts different structures on same cell as different)')\n",
    "\n",
    "print(f'{len(df_edges)} unique edges in the network')"
   ]
  },
  {
   "cell_type": "code",
   "execution_count": 32,
   "id": "bdf19e71-9b34-409b-8b8b-244f39c8d07f",
   "metadata": {},
   "outputs": [],
   "source": [
    "# for each unique edge, get the cell-type pair and structure\n",
    "\n",
    "for i,r in df_edges.iterrows():\n",
    "    df_edges.loc[i,'pre_type']=ell.vs.find(r['pre'])['cell_type']\n",
    "    df_edges.loc[i,'post_type']=ell.vs.find(r['post'])['cell_type']\n",
    "    # print(ell.vs.find(r['pre'])['cell_type'])\n",
    "    # print(ell.vs.find(r['post'])['cell_type'])\n"
   ]
  },
  {
   "cell_type": "code",
   "execution_count": 56,
   "id": "85697521-68c3-4ece-a473-88d2e2e9c936",
   "metadata": {},
   "outputs": [
    {
     "name": "stdout",
     "output_type": "stream",
     "text": [
      "10 mg1 cells\n",
      "248 total synapses labeled in these mg1\n"
     ]
    }
   ],
   "source": [
    "print(f'{len(np.unique(df_edges[df_edges[\"pre_type\"]==\"mg1\"][\"pre\"]))} mg1 cells')\n",
    "print(f'{df_edges[df_edges[\"pre_type\"]==\"mg1\"][\"weight\"].sum()} total synapses labeled in these mg1')"
   ]
  },
  {
   "cell_type": "code",
   "execution_count": 57,
   "id": "0ada4876-72a5-4f67-a84c-b572588e4928",
   "metadata": {},
   "outputs": [
    {
     "name": "stdout",
     "output_type": "stream",
     "text": [
      "12 mg2 cells\n",
      "321 total synapses labeled in these mg2\n"
     ]
    }
   ],
   "source": [
    "print(f'{len(np.unique(df_edges[df_edges[\"pre_type\"]==\"mg2\"][\"pre\"]))} mg2 cells')\n",
    "print(f'{df_edges[df_edges[\"pre_type\"]==\"mg2\"][\"weight\"].sum()} total synapses labeled in these mg2')"
   ]
  },
  {
   "cell_type": "code",
   "execution_count": 33,
   "id": "7a4e79db-5dbe-44a4-b648-cce51a64c741",
   "metadata": {},
   "outputs": [
    {
     "data": {
      "text/plain": [
       "569"
      ]
     },
     "execution_count": 33,
     "metadata": {},
     "output_type": "execute_result"
    }
   ],
   "source": [
    "df_edges[df_edges['pre_type'].str.contains(\"mg\")]['weight'].sum()"
   ]
  },
  {
   "cell_type": "code",
   "execution_count": 34,
   "id": "af082ada-55cd-4e38-80ee-3134e18ffd6e",
   "metadata": {},
   "outputs": [
    {
     "data": {
      "text/html": [
       "<div>\n",
       "<style scoped>\n",
       "    .dataframe tbody tr th:only-of-type {\n",
       "        vertical-align: middle;\n",
       "    }\n",
       "\n",
       "    .dataframe tbody tr th {\n",
       "        vertical-align: top;\n",
       "    }\n",
       "\n",
       "    .dataframe thead th {\n",
       "        text-align: right;\n",
       "    }\n",
       "</style>\n",
       "<table border=\"1\" class=\"dataframe\">\n",
       "  <thead>\n",
       "    <tr style=\"text-align: right;\">\n",
       "      <th></th>\n",
       "      <th>pre_type</th>\n",
       "      <th>weight</th>\n",
       "    </tr>\n",
       "  </thead>\n",
       "  <tbody>\n",
       "    <tr>\n",
       "      <th>0</th>\n",
       "      <td>mg1</td>\n",
       "      <td>20</td>\n",
       "    </tr>\n",
       "    <tr>\n",
       "      <th>1</th>\n",
       "      <td>mg2</td>\n",
       "      <td>16</td>\n",
       "    </tr>\n",
       "    <tr>\n",
       "      <th>2</th>\n",
       "      <td>mg2</td>\n",
       "      <td>15</td>\n",
       "    </tr>\n",
       "    <tr>\n",
       "      <th>3</th>\n",
       "      <td>mg1</td>\n",
       "      <td>14</td>\n",
       "    </tr>\n",
       "    <tr>\n",
       "      <th>4</th>\n",
       "      <td>mg1</td>\n",
       "      <td>12</td>\n",
       "    </tr>\n",
       "    <tr>\n",
       "      <th>...</th>\n",
       "      <td>...</td>\n",
       "      <td>...</td>\n",
       "    </tr>\n",
       "    <tr>\n",
       "      <th>166</th>\n",
       "      <td>mg2</td>\n",
       "      <td>1</td>\n",
       "    </tr>\n",
       "    <tr>\n",
       "      <th>167</th>\n",
       "      <td>mg2</td>\n",
       "      <td>1</td>\n",
       "    </tr>\n",
       "    <tr>\n",
       "      <th>168</th>\n",
       "      <td>mg2</td>\n",
       "      <td>1</td>\n",
       "    </tr>\n",
       "    <tr>\n",
       "      <th>169</th>\n",
       "      <td>mg2</td>\n",
       "      <td>1</td>\n",
       "    </tr>\n",
       "    <tr>\n",
       "      <th>170</th>\n",
       "      <td>mg2</td>\n",
       "      <td>1</td>\n",
       "    </tr>\n",
       "  </tbody>\n",
       "</table>\n",
       "<p>146 rows × 2 columns</p>\n",
       "</div>"
      ],
      "text/plain": [
       "    pre_type  weight\n",
       "0        mg1      20\n",
       "1        mg2      16\n",
       "2        mg2      15\n",
       "3        mg1      14\n",
       "4        mg1      12\n",
       "..       ...     ...\n",
       "166      mg2       1\n",
       "167      mg2       1\n",
       "168      mg2       1\n",
       "169      mg2       1\n",
       "170      mg2       1\n",
       "\n",
       "[146 rows x 2 columns]"
      ]
     },
     "metadata": {},
     "output_type": "display_data"
    }
   ],
   "source": [
    "with pd.option_context('display.max_rows', 10):\n",
    "    display(df_edges[df_edges['pre_type'].str.contains(\"mg\")][['pre_type','weight']])"
   ]
  },
  {
   "cell_type": "code",
   "execution_count": 35,
   "id": "fe08b8fd-54a6-45f1-81fe-36e15eee924a",
   "metadata": {},
   "outputs": [
    {
     "data": {
      "text/plain": [
       "650"
      ]
     },
     "execution_count": 35,
     "metadata": {},
     "output_type": "execute_result"
    }
   ],
   "source": [
    "df_edges['weight'].sum()"
   ]
  },
  {
   "cell_type": "code",
   "execution_count": 65,
   "id": "28c993d7-d9c3-4b3f-b9a1-ff7de30deb12",
   "metadata": {},
   "outputs": [
    {
     "data": {
      "text/html": [
       "<div>\n",
       "<style scoped>\n",
       "    .dataframe tbody tr th:only-of-type {\n",
       "        vertical-align: middle;\n",
       "    }\n",
       "\n",
       "    .dataframe tbody tr th {\n",
       "        vertical-align: top;\n",
       "    }\n",
       "\n",
       "    .dataframe thead th {\n",
       "        text-align: right;\n",
       "    }\n",
       "</style>\n",
       "<table border=\"1\" class=\"dataframe\">\n",
       "  <thead>\n",
       "    <tr style=\"text-align: right;\">\n",
       "      <th></th>\n",
       "      <th>pre_type</th>\n",
       "      <th>post_type</th>\n",
       "      <th>structure</th>\n",
       "    </tr>\n",
       "  </thead>\n",
       "  <tbody>\n",
       "    <tr>\n",
       "      <th>0</th>\n",
       "      <td>mg1</td>\n",
       "      <td>lf</td>\n",
       "      <td>unknown</td>\n",
       "    </tr>\n",
       "    <tr>\n",
       "      <th>1</th>\n",
       "      <td>mg2</td>\n",
       "      <td>lg</td>\n",
       "      <td>unknown</td>\n",
       "    </tr>\n",
       "    <tr>\n",
       "      <th>2</th>\n",
       "      <td>mg2</td>\n",
       "      <td>lg</td>\n",
       "      <td>unknown</td>\n",
       "    </tr>\n",
       "    <tr>\n",
       "      <th>3</th>\n",
       "      <td>mg1</td>\n",
       "      <td>lf</td>\n",
       "      <td>unknown</td>\n",
       "    </tr>\n",
       "    <tr>\n",
       "      <th>4</th>\n",
       "      <td>mg1</td>\n",
       "      <td>lf</td>\n",
       "      <td>unknown</td>\n",
       "    </tr>\n",
       "    <tr>\n",
       "      <th>...</th>\n",
       "      <td>...</td>\n",
       "      <td>...</td>\n",
       "      <td>...</td>\n",
       "    </tr>\n",
       "    <tr>\n",
       "      <th>166</th>\n",
       "      <td>mg2</td>\n",
       "      <td>mg1</td>\n",
       "      <td>basal dendrite</td>\n",
       "    </tr>\n",
       "    <tr>\n",
       "      <th>167</th>\n",
       "      <td>mg2</td>\n",
       "      <td>mg1</td>\n",
       "      <td>unknown</td>\n",
       "    </tr>\n",
       "    <tr>\n",
       "      <th>168</th>\n",
       "      <td>mg2</td>\n",
       "      <td>mg1</td>\n",
       "      <td>unknown</td>\n",
       "    </tr>\n",
       "    <tr>\n",
       "      <th>169</th>\n",
       "      <td>mg2</td>\n",
       "      <td>mg1</td>\n",
       "      <td>axon</td>\n",
       "    </tr>\n",
       "    <tr>\n",
       "      <th>170</th>\n",
       "      <td>mg2</td>\n",
       "      <td>uk</td>\n",
       "      <td>unknown</td>\n",
       "    </tr>\n",
       "  </tbody>\n",
       "</table>\n",
       "<p>171 rows × 3 columns</p>\n",
       "</div>"
      ],
      "text/plain": [
       "    pre_type post_type       structure\n",
       "0        mg1        lf         unknown\n",
       "1        mg2        lg         unknown\n",
       "2        mg2        lg         unknown\n",
       "3        mg1        lf         unknown\n",
       "4        mg1        lf         unknown\n",
       "..       ...       ...             ...\n",
       "166      mg2       mg1  basal dendrite\n",
       "167      mg2       mg1         unknown\n",
       "168      mg2       mg1         unknown\n",
       "169      mg2       mg1            axon\n",
       "170      mg2        uk         unknown\n",
       "\n",
       "[171 rows x 3 columns]"
      ]
     },
     "execution_count": 65,
     "metadata": {},
     "output_type": "execute_result"
    }
   ],
   "source": [
    "df_edges[['pre_type','post_type','structure']]"
   ]
  },
  {
   "cell_type": "code",
   "execution_count": 41,
   "id": "afd125cc-9a3a-4ea5-9a4a-38faad6ed2f8",
   "metadata": {},
   "outputs": [],
   "source": [
    "df_edge_counts = df_edges[['pre_type','post_type','structure']].value_counts().reset_index(name='counts')"
   ]
  },
  {
   "cell_type": "code",
   "execution_count": 64,
   "id": "468a5c1f-4d4e-4acb-8adc-74d5dfd4bb93",
   "metadata": {},
   "outputs": [
    {
     "data": {
      "text/html": [
       "<div>\n",
       "<style scoped>\n",
       "    .dataframe tbody tr th:only-of-type {\n",
       "        vertical-align: middle;\n",
       "    }\n",
       "\n",
       "    .dataframe tbody tr th {\n",
       "        vertical-align: top;\n",
       "    }\n",
       "\n",
       "    .dataframe thead th {\n",
       "        text-align: right;\n",
       "    }\n",
       "</style>\n",
       "<table border=\"1\" class=\"dataframe\">\n",
       "  <thead>\n",
       "    <tr style=\"text-align: right;\">\n",
       "      <th></th>\n",
       "      <th>pre_type</th>\n",
       "      <th>post_type</th>\n",
       "      <th>structure</th>\n",
       "      <th>counts</th>\n",
       "    </tr>\n",
       "  </thead>\n",
       "  <tbody>\n",
       "    <tr>\n",
       "      <th>0</th>\n",
       "      <td>mg2</td>\n",
       "      <td>lg</td>\n",
       "      <td>unknown</td>\n",
       "      <td>47</td>\n",
       "    </tr>\n",
       "    <tr>\n",
       "      <th>1</th>\n",
       "      <td>mg1</td>\n",
       "      <td>lf</td>\n",
       "      <td>unknown</td>\n",
       "      <td>39</td>\n",
       "    </tr>\n",
       "    <tr>\n",
       "      <th>2</th>\n",
       "      <td>mg2</td>\n",
       "      <td>mg1</td>\n",
       "      <td>unknown</td>\n",
       "      <td>11</td>\n",
       "    </tr>\n",
       "    <tr>\n",
       "      <th>3</th>\n",
       "      <td>mg1</td>\n",
       "      <td>mg2</td>\n",
       "      <td>basal dendrite</td>\n",
       "      <td>9</td>\n",
       "    </tr>\n",
       "    <tr>\n",
       "      <th>4</th>\n",
       "      <td>mg2</td>\n",
       "      <td>mg1</td>\n",
       "      <td>basal dendrite</td>\n",
       "      <td>7</td>\n",
       "    </tr>\n",
       "    <tr>\n",
       "      <th>5</th>\n",
       "      <td>gran</td>\n",
       "      <td>lg</td>\n",
       "      <td>unknown</td>\n",
       "      <td>6</td>\n",
       "    </tr>\n",
       "    <tr>\n",
       "      <th>6</th>\n",
       "      <td>mg2</td>\n",
       "      <td>uk</td>\n",
       "      <td>unknown</td>\n",
       "      <td>6</td>\n",
       "    </tr>\n",
       "    <tr>\n",
       "      <th>7</th>\n",
       "      <td>gran</td>\n",
       "      <td>mg1</td>\n",
       "      <td>basal dendrite</td>\n",
       "      <td>5</td>\n",
       "    </tr>\n",
       "    <tr>\n",
       "      <th>8</th>\n",
       "      <td>mg1</td>\n",
       "      <td>mg2</td>\n",
       "      <td>unknown</td>\n",
       "      <td>4</td>\n",
       "    </tr>\n",
       "    <tr>\n",
       "      <th>9</th>\n",
       "      <td>mg1</td>\n",
       "      <td>lf</td>\n",
       "      <td>apical dendrite</td>\n",
       "      <td>4</td>\n",
       "    </tr>\n",
       "    <tr>\n",
       "      <th>10</th>\n",
       "      <td>gran</td>\n",
       "      <td>lf</td>\n",
       "      <td>unknown</td>\n",
       "      <td>4</td>\n",
       "    </tr>\n",
       "    <tr>\n",
       "      <th>11</th>\n",
       "      <td>mg1</td>\n",
       "      <td>lf</td>\n",
       "      <td>basal dendrite</td>\n",
       "      <td>3</td>\n",
       "    </tr>\n",
       "    <tr>\n",
       "      <th>12</th>\n",
       "      <td>mg1</td>\n",
       "      <td>uk</td>\n",
       "      <td>unknown</td>\n",
       "      <td>3</td>\n",
       "    </tr>\n",
       "    <tr>\n",
       "      <th>13</th>\n",
       "      <td>mg1</td>\n",
       "      <td>lf</td>\n",
       "      <td>multiple</td>\n",
       "      <td>2</td>\n",
       "    </tr>\n",
       "    <tr>\n",
       "      <th>14</th>\n",
       "      <td>mg1</td>\n",
       "      <td>mg2</td>\n",
       "      <td>axon</td>\n",
       "      <td>2</td>\n",
       "    </tr>\n",
       "    <tr>\n",
       "      <th>15</th>\n",
       "      <td>mg1</td>\n",
       "      <td>mg2</td>\n",
       "      <td>multiple</td>\n",
       "      <td>2</td>\n",
       "    </tr>\n",
       "    <tr>\n",
       "      <th>16</th>\n",
       "      <td>mg1</td>\n",
       "      <td>gran</td>\n",
       "      <td>unknown</td>\n",
       "      <td>2</td>\n",
       "    </tr>\n",
       "    <tr>\n",
       "      <th>17</th>\n",
       "      <td>mli</td>\n",
       "      <td>mg1</td>\n",
       "      <td>apical dendrite</td>\n",
       "      <td>2</td>\n",
       "    </tr>\n",
       "    <tr>\n",
       "      <th>18</th>\n",
       "      <td>sg</td>\n",
       "      <td>lf</td>\n",
       "      <td>unknown</td>\n",
       "      <td>1</td>\n",
       "    </tr>\n",
       "    <tr>\n",
       "      <th>19</th>\n",
       "      <td>mli</td>\n",
       "      <td>mg</td>\n",
       "      <td>apical dendrite</td>\n",
       "      <td>1</td>\n",
       "    </tr>\n",
       "    <tr>\n",
       "      <th>20</th>\n",
       "      <td>mli</td>\n",
       "      <td>mg2</td>\n",
       "      <td>multiple</td>\n",
       "      <td>1</td>\n",
       "    </tr>\n",
       "    <tr>\n",
       "      <th>21</th>\n",
       "      <td>mli</td>\n",
       "      <td>mg2</td>\n",
       "      <td>apical dendrite</td>\n",
       "      <td>1</td>\n",
       "    </tr>\n",
       "    <tr>\n",
       "      <th>22</th>\n",
       "      <td>sg</td>\n",
       "      <td>mg</td>\n",
       "      <td>basal dendrite</td>\n",
       "      <td>1</td>\n",
       "    </tr>\n",
       "    <tr>\n",
       "      <th>23</th>\n",
       "      <td>mg2</td>\n",
       "      <td>lg</td>\n",
       "      <td>apical dendrite</td>\n",
       "      <td>1</td>\n",
       "    </tr>\n",
       "    <tr>\n",
       "      <th>24</th>\n",
       "      <td>mli</td>\n",
       "      <td>lg</td>\n",
       "      <td>unknown</td>\n",
       "      <td>1</td>\n",
       "    </tr>\n",
       "    <tr>\n",
       "      <th>25</th>\n",
       "      <td>mg2</td>\n",
       "      <td>mg1</td>\n",
       "      <td>multiple</td>\n",
       "      <td>1</td>\n",
       "    </tr>\n",
       "    <tr>\n",
       "      <th>26</th>\n",
       "      <td>mg2</td>\n",
       "      <td>mg1</td>\n",
       "      <td>axon</td>\n",
       "      <td>1</td>\n",
       "    </tr>\n",
       "    <tr>\n",
       "      <th>27</th>\n",
       "      <td>mg2</td>\n",
       "      <td>lg</td>\n",
       "      <td>basal dendrite</td>\n",
       "      <td>1</td>\n",
       "    </tr>\n",
       "    <tr>\n",
       "      <th>28</th>\n",
       "      <td>mg1</td>\n",
       "      <td>mg2</td>\n",
       "      <td>apical dendrite</td>\n",
       "      <td>1</td>\n",
       "    </tr>\n",
       "    <tr>\n",
       "      <th>29</th>\n",
       "      <td>gran</td>\n",
       "      <td>mg2</td>\n",
       "      <td>apical dendrite</td>\n",
       "      <td>1</td>\n",
       "    </tr>\n",
       "    <tr>\n",
       "      <th>30</th>\n",
       "      <td>uk</td>\n",
       "      <td>lf</td>\n",
       "      <td>unknown</td>\n",
       "      <td>1</td>\n",
       "    </tr>\n",
       "  </tbody>\n",
       "</table>\n",
       "</div>"
      ],
      "text/plain": [
       "   pre_type post_type        structure  counts\n",
       "0       mg2        lg          unknown      47\n",
       "1       mg1        lf          unknown      39\n",
       "2       mg2       mg1          unknown      11\n",
       "3       mg1       mg2   basal dendrite       9\n",
       "4       mg2       mg1   basal dendrite       7\n",
       "5      gran        lg          unknown       6\n",
       "6       mg2        uk          unknown       6\n",
       "7      gran       mg1   basal dendrite       5\n",
       "8       mg1       mg2          unknown       4\n",
       "9       mg1        lf  apical dendrite       4\n",
       "10     gran        lf          unknown       4\n",
       "11      mg1        lf   basal dendrite       3\n",
       "12      mg1        uk          unknown       3\n",
       "13      mg1        lf         multiple       2\n",
       "14      mg1       mg2             axon       2\n",
       "15      mg1       mg2         multiple       2\n",
       "16      mg1      gran          unknown       2\n",
       "17      mli       mg1  apical dendrite       2\n",
       "18       sg        lf          unknown       1\n",
       "19      mli        mg  apical dendrite       1\n",
       "20      mli       mg2         multiple       1\n",
       "21      mli       mg2  apical dendrite       1\n",
       "22       sg        mg   basal dendrite       1\n",
       "23      mg2        lg  apical dendrite       1\n",
       "24      mli        lg          unknown       1\n",
       "25      mg2       mg1         multiple       1\n",
       "26      mg2       mg1             axon       1\n",
       "27      mg2        lg   basal dendrite       1\n",
       "28      mg1       mg2  apical dendrite       1\n",
       "29     gran       mg2  apical dendrite       1\n",
       "30       uk        lf          unknown       1"
      ]
     },
     "execution_count": 64,
     "metadata": {},
     "output_type": "execute_result"
    }
   ],
   "source": [
    "df_edge_counts"
   ]
  },
  {
   "cell_type": "code",
   "execution_count": 72,
   "id": "821c25aa-100c-492f-9692-26465fe159a1",
   "metadata": {},
   "outputs": [
    {
     "data": {
      "text/html": [
       "<div>\n",
       "<style scoped>\n",
       "    .dataframe tbody tr th:only-of-type {\n",
       "        vertical-align: middle;\n",
       "    }\n",
       "\n",
       "    .dataframe tbody tr th {\n",
       "        vertical-align: top;\n",
       "    }\n",
       "\n",
       "    .dataframe thead th {\n",
       "        text-align: right;\n",
       "    }\n",
       "</style>\n",
       "<table border=\"1\" class=\"dataframe\">\n",
       "  <thead>\n",
       "    <tr style=\"text-align: right;\">\n",
       "      <th></th>\n",
       "      <th>pre_type</th>\n",
       "      <th>post_type</th>\n",
       "      <th>structure</th>\n",
       "      <th>counts</th>\n",
       "    </tr>\n",
       "  </thead>\n",
       "  <tbody>\n",
       "    <tr>\n",
       "      <th>1</th>\n",
       "      <td>mg1</td>\n",
       "      <td>lf</td>\n",
       "      <td>unknown</td>\n",
       "      <td>39</td>\n",
       "    </tr>\n",
       "    <tr>\n",
       "      <th>9</th>\n",
       "      <td>mg1</td>\n",
       "      <td>lf</td>\n",
       "      <td>apical dendrite</td>\n",
       "      <td>4</td>\n",
       "    </tr>\n",
       "    <tr>\n",
       "      <th>11</th>\n",
       "      <td>mg1</td>\n",
       "      <td>lf</td>\n",
       "      <td>basal dendrite</td>\n",
       "      <td>3</td>\n",
       "    </tr>\n",
       "    <tr>\n",
       "      <th>13</th>\n",
       "      <td>mg1</td>\n",
       "      <td>lf</td>\n",
       "      <td>multiple</td>\n",
       "      <td>2</td>\n",
       "    </tr>\n",
       "  </tbody>\n",
       "</table>\n",
       "</div>"
      ],
      "text/plain": [
       "   pre_type post_type        structure  counts\n",
       "1       mg1        lf          unknown      39\n",
       "9       mg1        lf  apical dendrite       4\n",
       "11      mg1        lf   basal dendrite       3\n",
       "13      mg1        lf         multiple       2"
      ]
     },
     "metadata": {},
     "output_type": "display_data"
    }
   ],
   "source": [
    "mask = df_edge_counts['pre_type'].str.lower().isin(['mg1']) & df_edge_counts['post_type'].str.lower().isin(['lf'])\n",
    "\n",
    "display(df_edge_counts[mask])"
   ]
  },
  {
   "cell_type": "code",
   "execution_count": 81,
   "id": "1dd122b4-2d79-4513-80eb-38db3df09171",
   "metadata": {},
   "outputs": [
    {
     "data": {
      "text/html": [
       "<div>\n",
       "<style scoped>\n",
       "    .dataframe tbody tr th:only-of-type {\n",
       "        vertical-align: middle;\n",
       "    }\n",
       "\n",
       "    .dataframe tbody tr th {\n",
       "        vertical-align: top;\n",
       "    }\n",
       "\n",
       "    .dataframe thead th {\n",
       "        text-align: right;\n",
       "    }\n",
       "</style>\n",
       "<table border=\"1\" class=\"dataframe\">\n",
       "  <thead>\n",
       "    <tr style=\"text-align: right;\">\n",
       "      <th></th>\n",
       "      <th></th>\n",
       "      <th></th>\n",
       "      <th>weight</th>\n",
       "    </tr>\n",
       "    <tr>\n",
       "      <th>pre_type</th>\n",
       "      <th>post_type</th>\n",
       "      <th>structure</th>\n",
       "      <th></th>\n",
       "    </tr>\n",
       "  </thead>\n",
       "  <tbody>\n",
       "    <tr>\n",
       "      <th rowspan=\"4\" valign=\"top\">mg1</th>\n",
       "      <th rowspan=\"4\" valign=\"top\">lf</th>\n",
       "      <th>apical dendrite</th>\n",
       "      <td>16</td>\n",
       "    </tr>\n",
       "    <tr>\n",
       "      <th>basal dendrite</th>\n",
       "      <td>6</td>\n",
       "    </tr>\n",
       "    <tr>\n",
       "      <th>multiple</th>\n",
       "      <td>5</td>\n",
       "    </tr>\n",
       "    <tr>\n",
       "      <th>unknown</th>\n",
       "      <td>171</td>\n",
       "    </tr>\n",
       "  </tbody>\n",
       "</table>\n",
       "</div>"
      ],
      "text/plain": [
       "                                    weight\n",
       "pre_type post_type structure              \n",
       "mg1      lf        apical dendrite      16\n",
       "                   basal dendrite        6\n",
       "                   multiple              5\n",
       "                   unknown             171"
      ]
     },
     "execution_count": 81,
     "metadata": {},
     "output_type": "execute_result"
    }
   ],
   "source": [
    "mask = df_edges['pre_type'].str.lower().isin(['mg1']) & df_edges['post_type'].str.lower().isin(['lf'])\n",
    "df_edges[mask].groupby(['pre_type','post_type','structure']).sum(numeric_only=True)"
   ]
  },
  {
   "cell_type": "code",
   "execution_count": 62,
   "id": "5280e206-a783-4e2f-b10e-9f9752355669",
   "metadata": {},
   "outputs": [
    {
     "data": {
      "text/html": [
       "<div>\n",
       "<style scoped>\n",
       "    .dataframe tbody tr th:only-of-type {\n",
       "        vertical-align: middle;\n",
       "    }\n",
       "\n",
       "    .dataframe tbody tr th {\n",
       "        vertical-align: top;\n",
       "    }\n",
       "\n",
       "    .dataframe thead th {\n",
       "        text-align: right;\n",
       "    }\n",
       "</style>\n",
       "<table border=\"1\" class=\"dataframe\">\n",
       "  <thead>\n",
       "    <tr style=\"text-align: right;\">\n",
       "      <th></th>\n",
       "      <th>pre_type</th>\n",
       "      <th>post_type</th>\n",
       "      <th>structure</th>\n",
       "      <th>counts</th>\n",
       "    </tr>\n",
       "  </thead>\n",
       "  <tbody>\n",
       "    <tr>\n",
       "      <th>0</th>\n",
       "      <td>mg2</td>\n",
       "      <td>lg</td>\n",
       "      <td>unknown</td>\n",
       "      <td>47</td>\n",
       "    </tr>\n",
       "    <tr>\n",
       "      <th>23</th>\n",
       "      <td>mg2</td>\n",
       "      <td>lg</td>\n",
       "      <td>apical dendrite</td>\n",
       "      <td>1</td>\n",
       "    </tr>\n",
       "    <tr>\n",
       "      <th>27</th>\n",
       "      <td>mg2</td>\n",
       "      <td>lg</td>\n",
       "      <td>basal dendrite</td>\n",
       "      <td>1</td>\n",
       "    </tr>\n",
       "  </tbody>\n",
       "</table>\n",
       "</div>"
      ],
      "text/plain": [
       "   pre_type post_type        structure  counts\n",
       "0       mg2        lg          unknown      47\n",
       "23      mg2        lg  apical dendrite       1\n",
       "27      mg2        lg   basal dendrite       1"
      ]
     },
     "metadata": {},
     "output_type": "display_data"
    }
   ],
   "source": [
    "mask = df_edge_counts['pre_type'].str.lower().isin(['mg2']) & df_edge_counts['post_type'].str.lower().isin(['lg'])\n",
    "\n",
    "display(df_edge_counts[mask])"
   ]
  },
  {
   "cell_type": "code",
   "execution_count": 80,
   "id": "60625b6c-ba95-49ac-977f-62c0273d24ed",
   "metadata": {},
   "outputs": [
    {
     "data": {
      "text/html": [
       "<div>\n",
       "<style scoped>\n",
       "    .dataframe tbody tr th:only-of-type {\n",
       "        vertical-align: middle;\n",
       "    }\n",
       "\n",
       "    .dataframe tbody tr th {\n",
       "        vertical-align: top;\n",
       "    }\n",
       "\n",
       "    .dataframe thead th {\n",
       "        text-align: right;\n",
       "    }\n",
       "</style>\n",
       "<table border=\"1\" class=\"dataframe\">\n",
       "  <thead>\n",
       "    <tr style=\"text-align: right;\">\n",
       "      <th></th>\n",
       "      <th></th>\n",
       "      <th></th>\n",
       "      <th>weight</th>\n",
       "    </tr>\n",
       "    <tr>\n",
       "      <th>pre_type</th>\n",
       "      <th>post_type</th>\n",
       "      <th>structure</th>\n",
       "      <th></th>\n",
       "    </tr>\n",
       "  </thead>\n",
       "  <tbody>\n",
       "    <tr>\n",
       "      <th rowspan=\"3\" valign=\"top\">mg2</th>\n",
       "      <th rowspan=\"3\" valign=\"top\">lg</th>\n",
       "      <th>apical dendrite</th>\n",
       "      <td>2</td>\n",
       "    </tr>\n",
       "    <tr>\n",
       "      <th>basal dendrite</th>\n",
       "      <td>4</td>\n",
       "    </tr>\n",
       "    <tr>\n",
       "      <th>unknown</th>\n",
       "      <td>264</td>\n",
       "    </tr>\n",
       "  </tbody>\n",
       "</table>\n",
       "</div>"
      ],
      "text/plain": [
       "                                    weight\n",
       "pre_type post_type structure              \n",
       "mg2      lg        apical dendrite       2\n",
       "                   basal dendrite        4\n",
       "                   unknown             264"
      ]
     },
     "execution_count": 80,
     "metadata": {},
     "output_type": "execute_result"
    }
   ],
   "source": [
    "mask = df_edges['pre_type'].str.lower().isin(['mg2']) & df_edges['post_type'].str.lower().isin(['lg'])\n",
    "df_edges[mask].groupby(['pre_type','post_type','structure']).sum(numeric_only=True)"
   ]
  },
  {
   "cell_type": "code",
   "execution_count": 37,
   "id": "6da3acb9-9de2-411f-9326-ab5443b5bed7",
   "metadata": {},
   "outputs": [
    {
     "data": {
      "text/plain": [
       "171"
      ]
     },
     "execution_count": 37,
     "metadata": {},
     "output_type": "execute_result"
    }
   ],
   "source": [
    "df_edges[['pre_type','post_type','structure']].value_counts().reset_index(name='counts')['counts'].sum()"
   ]
  },
  {
   "cell_type": "code",
   "execution_count": 38,
   "id": "f22293d2-6f7b-44bc-a9c7-920c66853919",
   "metadata": {},
   "outputs": [],
   "source": [
    "for i,r in df_edges.iterrows():\n",
    "    ell.add_edge(r['pre'],r['post'],weight = r['weight'])"
   ]
  },
  {
   "cell_type": "code",
   "execution_count": 39,
   "id": "53b1ad9e-77e7-4a94-8d77-640864f3da24",
   "metadata": {},
   "outputs": [],
   "source": [
    "color_dict = {\"mg1\": \"orange\", \"lf\": \"red\", \"mg2\": \"purple\", \"lg\": \"blue\"}\n",
    "\n",
    "# for cell_type in ell.vs[\"cell_type\"]:\n",
    "\n",
    "for v in ell.vs:\n",
    "    try:\n",
    "        v[\"color\"] = color_dict[v['cell_type']]\n",
    "    except:\n",
    "        v[\"color\"] = 'black'\n",
    "# ell.vs[\"color\"] = [try: color_dict[cell_type] except: 'black' for cell_type in ell.vs[\"cell_type\"]]"
   ]
  },
  {
   "cell_type": "code",
   "execution_count": 40,
   "id": "0439fae9-e67b-49be-820f-7c3fcd5c1e75",
   "metadata": {},
   "outputs": [
    {
     "data": {
      "image/svg+xml": [
       "<?xml version=\"1.0\" encoding=\"UTF-8\"?>\n",
       "<svg xmlns=\"http://www.w3.org/2000/svg\" xmlns:xlink=\"http://www.w3.org/1999/xlink\" width=\"600pt\" height=\"600pt\" viewBox=\"0 0 600 600\" version=\"1.1\">\n",
       "<g id=\"surface2\">\n",
       "<rect x=\"0\" y=\"0\" width=\"600\" height=\"600\" style=\"fill:rgb(100%,100%,100%);fill-opacity:1;stroke:none;\"/>\n",
       "<path style=\"fill:none;stroke-width:20;stroke-linecap:butt;stroke-linejoin:miter;stroke:rgb(26.666667%,26.666667%,26.666667%);stroke-opacity:1;stroke-miterlimit:10;\" d=\"M 359.007812 206.539062 L 411.652344 246.277344 \"/>\n",
       "<path style=\" stroke:none;fill-rule:nonzero;fill:rgb(26.666667%,26.666667%,26.666667%);fill-opacity:1;\" d=\"M 423.039062 254.871094 L 408.859375 249.976562 L 414.445312 242.578125 L 423.039062 254.871094 \"/>\n",
       "<path style=\"fill:none;stroke-width:16;stroke-linecap:butt;stroke-linejoin:miter;stroke:rgb(26.666667%,26.666667%,26.666667%);stroke-opacity:1;stroke-miterlimit:10;\" d=\"M 421.101562 377.226562 L 475.863281 386.609375 \"/>\n",
       "<path style=\" stroke:none;fill-rule:nonzero;fill:rgb(26.666667%,26.666667%,26.666667%);fill-opacity:1;\" d=\"M 489.921875 389.019531 L 475.078125 391.179688 L 476.644531 382.042969 L 489.921875 389.019531 \"/>\n",
       "<path style=\"fill:none;stroke-width:15;stroke-linecap:butt;stroke-linejoin:miter;stroke:rgb(26.666667%,26.666667%,26.666667%);stroke-opacity:1;stroke-miterlimit:10;\" d=\"M 421.101562 377.226562 L 369.679688 394.886719 \"/>\n",
       "<path style=\" stroke:none;fill-rule:nonzero;fill:rgb(26.666667%,26.666667%,26.666667%);fill-opacity:1;\" d=\"M 356.1875 399.519531 L 368.175781 390.5 L 371.183594 399.269531 L 356.1875 399.519531 \"/>\n",
       "<path style=\"fill:none;stroke-width:14;stroke-linecap:butt;stroke-linejoin:miter;stroke:rgb(26.666667%,26.666667%,26.666667%);stroke-opacity:1;stroke-miterlimit:10;\" d=\"M 196.882812 171.464844 C 210.941406 161.359375 218.675781 145.726562 209.320312 131.8125 \"/>\n",
       "<path style=\" stroke:none;fill-rule:nonzero;fill:rgb(26.666667%,26.666667%,26.666667%);fill-opacity:1;\" d=\"M 201.359375 119.972656 L 213.164062 129.226562 L 205.472656 134.398438 L 201.359375 119.972656 \"/>\n",
       "<path style=\"fill:none;stroke-width:12;stroke-linecap:butt;stroke-linejoin:miter;stroke:rgb(26.666667%,26.666667%,26.666667%);stroke-opacity:1;stroke-miterlimit:10;\" d=\"M 486.675781 297.4375 L 451.304688 274.214844 \"/>\n",
       "<path style=\" stroke:none;fill-rule:nonzero;fill:rgb(26.666667%,26.666667%,26.666667%);fill-opacity:1;\" d=\"M 439.378906 266.386719 L 453.847656 270.339844 L 448.761719 278.089844 L 439.378906 266.386719 \"/>\n",
       "<path style=\"fill:none;stroke-width:12;stroke-linecap:butt;stroke-linejoin:miter;stroke:rgb(26.666667%,26.666667%,26.666667%);stroke-opacity:1;stroke-miterlimit:10;\" d=\"M 423.058594 357.613281 L 426.226562 357.691406 \"/>\n",
       "<path style=\" stroke:none;fill-rule:nonzero;fill:rgb(26.666667%,26.666667%,26.666667%);fill-opacity:1;\" d=\"M 440.488281 358.042969 L 426.113281 362.324219 L 426.339844 353.058594 L 440.488281 358.042969 \"/>\n",
       "<path style=\"fill:none;stroke-width:12;stroke-linecap:butt;stroke-linejoin:miter;stroke:rgb(26.666667%,26.666667%,26.666667%);stroke-opacity:1;stroke-miterlimit:10;\" d=\"M 522.394531 362.648438 L 515.007812 371.816406 \"/>\n",
       "<path style=\" stroke:none;fill-rule:nonzero;fill:rgb(26.666667%,26.666667%,26.666667%);fill-opacity:1;\" d=\"M 506.054688 382.921875 L 511.398438 368.90625 L 518.617188 374.722656 L 506.054688 382.921875 \"/>\n",
       "<path style=\"fill:none;stroke-width:12;stroke-linecap:butt;stroke-linejoin:miter;stroke:rgb(26.666667%,26.666667%,26.666667%);stroke-opacity:1;stroke-miterlimit:10;\" d=\"M 509.289062 340.648438 L 473.726562 351.316406 \"/>\n",
       "<path style=\" stroke:none;fill-rule:nonzero;fill:rgb(26.666667%,26.666667%,26.666667%);fill-opacity:1;\" d=\"M 460.0625 355.414062 L 472.394531 346.875 L 475.058594 355.753906 L 460.0625 355.414062 \"/>\n",
       "<path style=\"fill:none;stroke-width:12;stroke-linecap:butt;stroke-linejoin:miter;stroke:rgb(26.666667%,26.666667%,26.666667%);stroke-opacity:1;stroke-miterlimit:10;\" d=\"M 470.066406 372.128906 L 479.207031 377.84375 \"/>\n",
       "<path style=\" stroke:none;fill-rule:nonzero;fill:rgb(26.666667%,26.666667%,26.666667%);fill-opacity:1;\" d=\"M 491.300781 385.40625 L 476.746094 381.773438 L 481.664062 373.914062 L 491.300781 385.40625 \"/>\n",
       "<path style=\"fill:none;stroke-width:10;stroke-linecap:butt;stroke-linejoin:miter;stroke:rgb(26.666667%,26.666667%,26.666667%);stroke-opacity:1;stroke-miterlimit:10;\" d=\"M 359.007812 206.539062 L 382.625 153.976562 \"/>\n",
       "<path style=\" stroke:none;fill-rule:nonzero;fill:rgb(26.666667%,26.666667%,26.666667%);fill-opacity:1;\" d=\"M 388.46875 140.964844 L 386.851562 155.875 L 378.394531 152.078125 L 388.46875 140.964844 \"/>\n",
       "<path style=\"fill:none;stroke-width:9;stroke-linecap:butt;stroke-linejoin:miter;stroke:rgb(26.666667%,26.666667%,26.666667%);stroke-opacity:1;stroke-miterlimit:10;\" d=\"M 479.53125 437.730469 L 490.183594 412.996094 \"/>\n",
       "<path style=\" stroke:none;fill-rule:nonzero;fill:rgb(26.666667%,26.666667%,26.666667%);fill-opacity:1;\" d=\"M 495.824219 399.894531 L 494.441406 414.828125 L 485.925781 411.164062 L 495.824219 399.894531 \"/>\n",
       "<path style=\"fill:none;stroke-width:9;stroke-linecap:butt;stroke-linejoin:miter;stroke:rgb(26.666667%,26.666667%,26.666667%);stroke-opacity:1;stroke-miterlimit:10;\" d=\"M 343.523438 379.296875 L 396.613281 393.519531 \"/>\n",
       "<path style=\" stroke:none;fill-rule:nonzero;fill:rgb(26.666667%,26.666667%,26.666667%);fill-opacity:1;\" d=\"M 410.394531 397.210938 L 395.414062 397.996094 L 397.8125 389.042969 L 410.394531 397.210938 \"/>\n",
       "<path style=\"fill:none;stroke-width:9;stroke-linecap:butt;stroke-linejoin:miter;stroke:rgb(26.666667%,26.666667%,26.666667%);stroke-opacity:1;stroke-miterlimit:10;\" d=\"M 507.019531 160.53125 L 472.875 201.652344 \"/>\n",
       "<path style=\" stroke:none;fill-rule:nonzero;fill:rgb(26.666667%,26.666667%,26.666667%);fill-opacity:1;\" d=\"M 463.761719 212.625 L 469.308594 198.691406 L 476.441406 204.613281 L 463.761719 212.625 \"/>\n",
       "<path style=\"fill:none;stroke-width:9;stroke-linecap:butt;stroke-linejoin:miter;stroke:rgb(26.666667%,26.666667%,26.666667%);stroke-opacity:1;stroke-miterlimit:10;\" d=\"M 350.804688 296.460938 L 312.3125 256.625 \"/>\n",
       "<path style=\" stroke:none;fill-rule:nonzero;fill:rgb(26.666667%,26.666667%,26.666667%);fill-opacity:1;\" d=\"M 302.402344 246.367188 L 315.648438 253.40625 L 308.980469 259.847656 L 302.402344 246.367188 \"/>\n",
       "<path style=\"fill:none;stroke-width:9;stroke-linecap:butt;stroke-linejoin:miter;stroke:rgb(26.666667%,26.666667%,26.666667%);stroke-opacity:1;stroke-miterlimit:10;\" d=\"M 350.804688 296.460938 L 429.863281 345.496094 \"/>\n",
       "<path style=\" stroke:none;fill-rule:nonzero;fill:rgb(26.666667%,26.666667%,26.666667%);fill-opacity:1;\" d=\"M 441.984375 353.015625 L 427.417969 349.433594 L 432.304688 341.558594 L 441.984375 353.015625 \"/>\n",
       "<path style=\"fill:none;stroke-width:8;stroke-linecap:butt;stroke-linejoin:miter;stroke:rgb(26.666667%,26.666667%,26.666667%);stroke-opacity:1;stroke-miterlimit:10;\" d=\"M 196.882812 171.464844 C 182.394531 161.984375 173.980469 146.710938 182.714844 132.398438 \"/>\n",
       "<path style=\" stroke:none;fill-rule:nonzero;fill:rgb(26.666667%,26.666667%,26.666667%);fill-opacity:1;\" d=\"M 190.148438 120.21875 L 186.671875 134.8125 L 178.757812 129.984375 L 190.148438 120.21875 \"/>\n",
       "<path style=\"fill:none;stroke-width:8;stroke-linecap:butt;stroke-linejoin:miter;stroke:rgb(26.666667%,26.666667%,26.666667%);stroke-opacity:1;stroke-miterlimit:10;\" d=\"M 470.066406 372.128906 L 470.296875 372.292969 \"/>\n",
       "<path style=\" stroke:none;fill-rule:nonzero;fill:rgb(26.666667%,26.666667%,26.666667%);fill-opacity:1;\" d=\"M 458.648438 364.058594 L 472.972656 368.507812 L 467.621094 376.078125 L 458.648438 364.058594 \"/>\n",
       "<path style=\"fill:none;stroke-width:8;stroke-linecap:butt;stroke-linejoin:miter;stroke:rgb(26.666667%,26.666667%,26.666667%);stroke-opacity:1;stroke-miterlimit:10;\" d=\"M 382.117188 248.320312 L 364.035156 276.121094 \"/>\n",
       "<path style=\" stroke:none;fill-rule:nonzero;fill:rgb(26.666667%,26.666667%,26.666667%);fill-opacity:1;\" d=\"M 356.257812 288.078125 L 360.148438 273.59375 L 367.921875 278.648438 L 356.257812 288.078125 \"/>\n",
       "<path style=\"fill:none;stroke-width:8;stroke-linecap:butt;stroke-linejoin:miter;stroke:rgb(26.666667%,26.666667%,26.666667%);stroke-opacity:1;stroke-miterlimit:10;\" d=\"M 470.066406 372.128906 L 508.128906 390.59375 \"/>\n",
       "<path style=\" stroke:none;fill-rule:nonzero;fill:rgb(26.666667%,26.666667%,26.666667%);fill-opacity:1;\" d=\"M 520.960938 396.824219 L 506.105469 394.765625 L 510.148438 386.425781 L 520.960938 396.824219 \"/>\n",
       "<path style=\"fill:none;stroke-width:8;stroke-linecap:butt;stroke-linejoin:miter;stroke:rgb(26.666667%,26.666667%,26.666667%);stroke-opacity:1;stroke-miterlimit:10;\" d=\"M 75.925781 189.433594 L 132.71875 198.554688 \"/>\n",
       "<path style=\" stroke:none;fill-rule:nonzero;fill:rgb(26.666667%,26.666667%,26.666667%);fill-opacity:1;\" d=\"M 146.804688 200.816406 L 131.984375 203.132812 L 133.453125 193.976562 L 146.804688 200.816406 \"/>\n",
       "<path style=\"fill:none;stroke-width:7;stroke-linecap:butt;stroke-linejoin:miter;stroke:rgb(26.666667%,26.666667%,26.666667%);stroke-opacity:1;stroke-miterlimit:10;\" d=\"M 522.394531 362.648438 L 500.5625 381.46875 \"/>\n",
       "<path style=\" stroke:none;fill-rule:nonzero;fill:rgb(26.666667%,26.666667%,26.666667%);fill-opacity:1;\" d=\"M 489.757812 390.78125 L 497.535156 377.957031 L 503.589844 384.976562 L 489.757812 390.78125 \"/>\n",
       "<path style=\"fill:none;stroke-width:7;stroke-linecap:butt;stroke-linejoin:miter;stroke:rgb(26.666667%,26.666667%,26.666667%);stroke-opacity:1;stroke-miterlimit:10;\" d=\"M 479.53125 437.730469 L 458.816406 381.078125 \"/>\n",
       "<path style=\" stroke:none;fill-rule:nonzero;fill:rgb(26.666667%,26.666667%,26.666667%);fill-opacity:1;\" d=\"M 453.917969 367.679688 L 463.171875 379.484375 L 454.464844 382.667969 L 453.917969 367.679688 \"/>\n",
       "<path style=\"fill:none;stroke-width:7;stroke-linecap:butt;stroke-linejoin:miter;stroke:rgb(26.666667%,26.666667%,26.666667%);stroke-opacity:1;stroke-miterlimit:10;\" d=\"M 85.867188 293.339844 L 110.3125 250.347656 \"/>\n",
       "<path style=\" stroke:none;fill-rule:nonzero;fill:rgb(26.666667%,26.666667%,26.666667%);fill-opacity:1;\" d=\"M 117.363281 237.945312 L 114.339844 252.636719 L 106.28125 248.054688 L 117.363281 237.945312 \"/>\n",
       "<path style=\"fill:none;stroke-width:7;stroke-linecap:butt;stroke-linejoin:miter;stroke:rgb(26.666667%,26.666667%,26.666667%);stroke-opacity:1;stroke-miterlimit:10;\" d=\"M 252.664062 341.210938 L 299.019531 327.554688 \"/>\n",
       "<path style=\" stroke:none;fill-rule:nonzero;fill:rgb(26.666667%,26.666667%,26.666667%);fill-opacity:1;\" d=\"M 312.703125 323.523438 L 300.332031 332 L 297.710938 323.105469 L 312.703125 323.523438 \"/>\n",
       "<path style=\"fill:none;stroke-width:7;stroke-linecap:butt;stroke-linejoin:miter;stroke:rgb(26.666667%,26.666667%,26.666667%);stroke-opacity:1;stroke-miterlimit:10;\" d=\"M 74.15625 356.089844 C 71.757812 346.902344 64.050781 338.34375 56.324219 341.902344 \"/>\n",
       "<path style=\" stroke:none;fill-rule:nonzero;fill:rgb(26.666667%,26.666667%,26.666667%);fill-opacity:1;\" d=\"M 43.367188 347.871094 L 54.386719 337.695312 L 58.265625 346.113281 L 43.367188 347.871094 \"/>\n",
       "<path style=\"fill:none;stroke-width:7;stroke-linecap:butt;stroke-linejoin:miter;stroke:rgb(26.666667%,26.666667%,26.666667%);stroke-opacity:1;stroke-miterlimit:10;\" d=\"M 491.308594 359.953125 L 513.363281 383.484375 \"/>\n",
       "<path style=\" stroke:none;fill-rule:nonzero;fill:rgb(26.666667%,26.666667%,26.666667%);fill-opacity:1;\" d=\"M 523.121094 393.890625 L 509.980469 386.652344 L 516.746094 380.3125 L 523.121094 393.890625 \"/>\n",
       "<path style=\"fill:none;stroke-width:7;stroke-linecap:butt;stroke-linejoin:miter;stroke:rgb(26.666667%,26.666667%,26.666667%);stroke-opacity:1;stroke-miterlimit:10;\" d=\"M 165.03125 249.332031 L 226.226562 269.902344 \"/>\n",
       "<path style=\" stroke:none;fill-rule:nonzero;fill:rgb(26.666667%,26.666667%,26.666667%);fill-opacity:1;\" d=\"M 239.75 274.449219 L 224.75 274.296875 L 227.703125 265.507812 L 239.75 274.449219 \"/>\n",
       "<path style=\"fill:none;stroke-width:6;stroke-linecap:butt;stroke-linejoin:miter;stroke:rgb(26.666667%,26.666667%,26.666667%);stroke-opacity:1;stroke-miterlimit:10;\" d=\"M 74.15625 356.089844 C 92.695312 357.789062 109.664062 350.582031 112.191406 332.65625 \"/>\n",
       "<path style=\" stroke:none;fill-rule:nonzero;fill:rgb(26.666667%,26.666667%,26.666667%);fill-opacity:1;\" d=\"M 114.183594 318.527344 L 116.78125 333.300781 L 107.601562 332.007812 L 114.183594 318.527344 \"/>\n",
       "<path style=\"fill:none;stroke-width:6;stroke-linecap:butt;stroke-linejoin:miter;stroke:rgb(26.666667%,26.666667%,26.666667%);stroke-opacity:1;stroke-miterlimit:10;\" d=\"M 486.675781 297.4375 L 519.289062 284.792969 \"/>\n",
       "<path style=\" stroke:none;fill-rule:nonzero;fill:rgb(26.666667%,26.666667%,26.666667%);fill-opacity:1;\" d=\"M 532.589844 279.636719 L 520.964844 289.117188 L 517.613281 280.472656 L 532.589844 279.636719 \"/>\n",
       "<path style=\"fill:none;stroke-width:6;stroke-linecap:butt;stroke-linejoin:miter;stroke:rgb(26.666667%,26.666667%,26.666667%);stroke-opacity:1;stroke-miterlimit:10;\" d=\"M 359.007812 206.539062 L 372.496094 194.304688 \"/>\n",
       "<path style=\" stroke:none;fill-rule:nonzero;fill:rgb(26.666667%,26.666667%,26.666667%);fill-opacity:1;\" d=\"M 383.0625 184.71875 L 375.613281 197.734375 L 369.382812 190.871094 L 383.0625 184.71875 \"/>\n",
       "<path style=\"fill:none;stroke-width:6;stroke-linecap:butt;stroke-linejoin:miter;stroke:rgb(26.666667%,26.666667%,26.666667%);stroke-opacity:1;stroke-miterlimit:10;\" d=\"M 253.058594 191.003906 L 180.777344 199.550781 \"/>\n",
       "<path style=\" stroke:none;fill-rule:nonzero;fill:rgb(26.666667%,26.666667%,26.666667%);fill-opacity:1;\" d=\"M 166.609375 201.226562 L 180.230469 194.949219 L 181.320312 204.15625 L 166.609375 201.226562 \"/>\n",
       "<path style=\"fill:none;stroke-width:6;stroke-linecap:butt;stroke-linejoin:miter;stroke:rgb(26.666667%,26.666667%,26.666667%);stroke-opacity:1;stroke-miterlimit:10;\" d=\"M 491.308594 359.953125 L 474.730469 359.277344 \"/>\n",
       "<path style=\" stroke:none;fill-rule:nonzero;fill:rgb(26.666667%,26.666667%,26.666667%);fill-opacity:1;\" d=\"M 460.476562 358.695312 L 474.917969 354.644531 L 474.539062 363.90625 L 460.476562 358.695312 \"/>\n",
       "<path style=\"fill:none;stroke-width:6;stroke-linecap:butt;stroke-linejoin:miter;stroke:rgb(26.666667%,26.666667%,26.666667%);stroke-opacity:1;stroke-miterlimit:10;\" d=\"M 196.882812 171.464844 C 191.402344 177.101562 181.570312 180.160156 178.242188 174.390625 \"/>\n",
       "<path style=\" stroke:none;fill-rule:nonzero;fill:rgb(26.666667%,26.666667%,26.666667%);fill-opacity:1;\" d=\"M 171.121094 162.03125 L 182.257812 172.078125 L 174.226562 176.707031 L 171.121094 162.03125 \"/>\n",
       "<path style=\"fill:none;stroke-width:6;stroke-linecap:butt;stroke-linejoin:miter;stroke:rgb(26.666667%,26.666667%,26.666667%);stroke-opacity:1;stroke-miterlimit:10;\" d=\"M 106.152344 486.945312 L 96.261719 458.417969 \"/>\n",
       "<path style=\" stroke:none;fill-rule:nonzero;fill:rgb(26.666667%,26.666667%,26.666667%);fill-opacity:1;\" d=\"M 91.585938 444.9375 L 100.640625 456.898438 L 91.882812 459.933594 L 91.585938 444.9375 \"/>\n",
       "<path style=\"fill:none;stroke-width:6;stroke-linecap:butt;stroke-linejoin:miter;stroke:rgb(26.666667%,26.666667%,26.666667%);stroke-opacity:1;stroke-miterlimit:10;\" d=\"M 350.804688 296.460938 L 347.660156 378.519531 \"/>\n",
       "<path style=\" stroke:none;fill-rule:nonzero;fill:rgb(26.666667%,26.666667%,26.666667%);fill-opacity:1;\" d=\"M 347.113281 392.773438 L 343.027344 378.339844 L 352.289062 378.695312 L 347.113281 392.773438 \"/>\n",
       "<path style=\"fill:none;stroke-width:5;stroke-linecap:butt;stroke-linejoin:miter;stroke:rgb(26.666667%,26.666667%,26.666667%);stroke-opacity:1;stroke-miterlimit:10;\" d=\"M 491.308594 359.953125 L 493.335938 367.316406 \"/>\n",
       "<path style=\" stroke:none;fill-rule:nonzero;fill:rgb(26.666667%,26.666667%,26.666667%);fill-opacity:1;\" d=\"M 497.125 381.066406 L 488.867188 368.546875 L 497.804688 366.082031 L 497.125 381.066406 \"/>\n",
       "<path style=\"fill:none;stroke-width:5;stroke-linecap:butt;stroke-linejoin:miter;stroke:rgb(26.666667%,26.666667%,26.666667%);stroke-opacity:1;stroke-miterlimit:10;\" d=\"M 408.824219 314.199219 L 407.089844 287.128906 \"/>\n",
       "<path style=\" stroke:none;fill-rule:nonzero;fill:rgb(26.666667%,26.666667%,26.666667%);fill-opacity:1;\" d=\"M 406.179688 272.890625 L 411.714844 286.832031 L 402.464844 287.425781 L 406.179688 272.890625 \"/>\n",
       "<path style=\"fill:none;stroke-width:5;stroke-linecap:butt;stroke-linejoin:miter;stroke:rgb(26.666667%,26.666667%,26.666667%);stroke-opacity:1;stroke-miterlimit:10;\" d=\"M 253.058594 191.003906 L 335 203.019531 \"/>\n",
       "<path style=\" stroke:none;fill-rule:nonzero;fill:rgb(26.666667%,26.666667%,26.666667%);fill-opacity:1;\" d=\"M 349.113281 205.089844 L 334.328125 207.605469 L 335.671875 198.433594 L 349.113281 205.089844 \"/>\n",
       "<path style=\"fill:none;stroke-width:5;stroke-linecap:butt;stroke-linejoin:miter;stroke:rgb(26.666667%,26.666667%,26.666667%);stroke-opacity:1;stroke-miterlimit:10;\" d=\"M 479.53125 437.730469 L 480.59375 421.523438 \"/>\n",
       "<path style=\" stroke:none;fill-rule:nonzero;fill:rgb(26.666667%,26.666667%,26.666667%);fill-opacity:1;\" d=\"M 481.527344 407.289062 L 485.21875 421.828125 L 475.96875 421.222656 L 481.527344 407.289062 \"/>\n",
       "<path style=\"fill:none;stroke-width:5;stroke-linecap:butt;stroke-linejoin:miter;stroke:rgb(26.666667%,26.666667%,26.666667%);stroke-opacity:1;stroke-miterlimit:10;\" d=\"M 509.289062 340.648438 L 497.925781 318.9375 \"/>\n",
       "<path style=\" stroke:none;fill-rule:nonzero;fill:rgb(26.666667%,26.666667%,26.666667%);fill-opacity:1;\" d=\"M 491.3125 306.296875 L 502.03125 316.789062 L 493.820312 321.085938 L 491.3125 306.296875 \"/>\n",
       "<path style=\"fill:none;stroke-width:5;stroke-linecap:butt;stroke-linejoin:miter;stroke:rgb(26.666667%,26.666667%,26.666667%);stroke-opacity:1;stroke-miterlimit:10;\" d=\"M 408.824219 314.199219 L 427.3125 297.238281 \"/>\n",
       "<path style=\" stroke:none;fill-rule:nonzero;fill:rgb(26.666667%,26.666667%,26.666667%);fill-opacity:1;\" d=\"M 437.824219 287.59375 L 430.445312 300.652344 L 424.179688 293.820312 L 437.824219 287.59375 \"/>\n",
       "<path style=\"fill:none;stroke-width:5;stroke-linecap:butt;stroke-linejoin:miter;stroke:rgb(26.666667%,26.666667%,26.666667%);stroke-opacity:1;stroke-miterlimit:10;\" d=\"M 350.804688 296.460938 L 273.085938 282.058594 \"/>\n",
       "<path style=\" stroke:none;fill-rule:nonzero;fill:rgb(26.666667%,26.666667%,26.666667%);fill-opacity:1;\" d=\"M 259.058594 279.457031 L 273.929688 277.5 L 272.242188 286.613281 L 259.058594 279.457031 \"/>\n",
       "<path style=\"fill:none;stroke-width:5;stroke-linecap:butt;stroke-linejoin:miter;stroke:rgb(26.666667%,26.666667%,26.666667%);stroke-opacity:1;stroke-miterlimit:10;\" d=\"M 106.152344 486.945312 L 115.882812 500.8125 \"/>\n",
       "<path style=\" stroke:none;fill-rule:nonzero;fill:rgb(26.666667%,26.666667%,26.666667%);fill-opacity:1;\" d=\"M 124.078125 512.492188 L 112.089844 503.476562 L 119.675781 498.152344 L 124.078125 512.492188 \"/>\n",
       "<path style=\"fill:none;stroke-width:5;stroke-linecap:butt;stroke-linejoin:miter;stroke:rgb(26.666667%,26.666667%,26.666667%);stroke-opacity:1;stroke-miterlimit:10;\" d=\"M 287.089844 388.289062 L 265.121094 398.960938 \"/>\n",
       "<path style=\" stroke:none;fill-rule:nonzero;fill:rgb(26.666667%,26.666667%,26.666667%);fill-opacity:1;\" d=\"M 252.289062 405.195312 L 263.097656 394.792969 L 267.148438 403.128906 L 252.289062 405.195312 \"/>\n",
       "<path style=\"fill:none;stroke-width:5;stroke-linecap:butt;stroke-linejoin:miter;stroke:rgb(26.666667%,26.666667%,26.666667%);stroke-opacity:1;stroke-miterlimit:10;\" d=\"M 196.882812 171.464844 L 254.644531 166.632812 \"/>\n",
       "<path style=\" stroke:none;fill-rule:nonzero;fill:rgb(26.666667%,26.666667%,26.666667%);fill-opacity:1;\" d=\"M 268.859375 165.441406 L 255.03125 171.253906 L 254.257812 162.015625 L 268.859375 165.441406 \"/>\n",
       "<path style=\"fill:none;stroke-width:5;stroke-linecap:butt;stroke-linejoin:miter;stroke:rgb(26.666667%,26.666667%,26.666667%);stroke-opacity:1;stroke-miterlimit:10;\" d=\"M 522.394531 362.648438 L 525.285156 377.375 \"/>\n",
       "<path style=\" stroke:none;fill-rule:nonzero;fill:rgb(26.666667%,26.666667%,26.666667%);fill-opacity:1;\" d=\"M 528.035156 391.375 L 520.738281 378.269531 L 529.835938 376.484375 L 528.035156 391.375 \"/>\n",
       "<path style=\"fill:none;stroke-width:5;stroke-linecap:butt;stroke-linejoin:miter;stroke:rgb(26.666667%,26.666667%,26.666667%);stroke-opacity:1;stroke-miterlimit:10;\" d=\"M 359.007812 206.539062 L 390.09375 244.199219 \"/>\n",
       "<path style=\" stroke:none;fill-rule:nonzero;fill:rgb(26.666667%,26.666667%,26.666667%);fill-opacity:1;\" d=\"M 399.171875 255.199219 L 386.515625 247.148438 L 393.667969 241.246094 L 399.171875 255.199219 \"/>\n",
       "<path style=\"fill:none;stroke-width:5;stroke-linecap:butt;stroke-linejoin:miter;stroke:rgb(26.666667%,26.666667%,26.666667%);stroke-opacity:1;stroke-miterlimit:10;\" d=\"M 486.675781 297.4375 L 464.742188 263.40625 \"/>\n",
       "<path style=\" stroke:none;fill-rule:nonzero;fill:rgb(26.666667%,26.666667%,26.666667%);fill-opacity:1;\" d=\"M 457.015625 251.414062 L 468.636719 260.894531 L 460.847656 265.917969 L 457.015625 251.414062 \"/>\n",
       "<path style=\"fill:none;stroke-width:4;stroke-linecap:butt;stroke-linejoin:miter;stroke:rgb(26.666667%,26.666667%,26.666667%);stroke-opacity:1;stroke-miterlimit:10;\" d=\"M 408.824219 314.199219 L 421.691406 283.296875 \"/>\n",
       "<path style=\" stroke:none;fill-rule:nonzero;fill:rgb(26.666667%,26.666667%,26.666667%);fill-opacity:1;\" d=\"M 427.175781 270.128906 L 425.972656 285.078125 L 417.414062 281.515625 L 427.175781 270.128906 \"/>\n",
       "<path style=\"fill:none;stroke-width:4;stroke-linecap:butt;stroke-linejoin:miter;stroke:rgb(26.666667%,26.666667%,26.666667%);stroke-opacity:1;stroke-miterlimit:10;\" d=\"M 479.53125 437.730469 L 470.011719 486.804688 \"/>\n",
       "<path style=\" stroke:none;fill-rule:nonzero;fill:rgb(26.666667%,26.666667%,26.666667%);fill-opacity:1;\" d=\"M 467.292969 500.808594 L 465.460938 485.921875 L 474.5625 487.6875 L 467.292969 500.808594 \"/>\n",
       "<path style=\"fill:none;stroke-width:4;stroke-linecap:butt;stroke-linejoin:miter;stroke:rgb(26.666667%,26.666667%,26.666667%);stroke-opacity:1;stroke-miterlimit:10;\" d=\"M 491.308594 359.953125 L 481.175781 335.578125 \"/>\n",
       "<path style=\" stroke:none;fill-rule:nonzero;fill:rgb(26.666667%,26.666667%,26.666667%);fill-opacity:1;\" d=\"M 475.699219 322.40625 L 485.457031 333.800781 L 476.894531 337.355469 L 475.699219 322.40625 \"/>\n",
       "<path style=\"fill:none;stroke-width:4;stroke-linecap:butt;stroke-linejoin:miter;stroke:rgb(26.666667%,26.666667%,26.666667%);stroke-opacity:1;stroke-miterlimit:10;\" d=\"M 479.53125 437.730469 L 424.300781 432.160156 \"/>\n",
       "<path style=\" stroke:none;fill-rule:nonzero;fill:rgb(26.666667%,26.666667%,26.666667%);fill-opacity:1;\" d=\"M 410.105469 430.730469 L 424.765625 427.550781 L 423.835938 436.773438 L 410.105469 430.730469 \"/>\n",
       "<path style=\"fill:none;stroke-width:4;stroke-linecap:butt;stroke-linejoin:miter;stroke:rgb(26.666667%,26.666667%,26.666667%);stroke-opacity:1;stroke-miterlimit:10;\" d=\"M 479.53125 437.730469 L 510.308594 415.425781 \"/>\n",
       "<path style=\" stroke:none;fill-rule:nonzero;fill:rgb(26.666667%,26.666667%,26.666667%);fill-opacity:1;\" d=\"M 521.863281 407.054688 L 513.03125 419.179688 L 507.589844 411.671875 L 521.863281 407.054688 \"/>\n",
       "<path style=\"fill:none;stroke-width:4;stroke-linecap:butt;stroke-linejoin:miter;stroke:rgb(26.666667%,26.666667%,26.666667%);stroke-opacity:1;stroke-miterlimit:10;\" d=\"M 470.066406 372.128906 L 426.453125 330.875 \"/>\n",
       "<path style=\" stroke:none;fill-rule:nonzero;fill:rgb(26.666667%,26.666667%,26.666667%);fill-opacity:1;\" d=\"M 416.089844 321.070312 L 429.636719 327.507812 L 423.269531 334.242188 L 416.089844 321.070312 \"/>\n",
       "<path style=\"fill:none;stroke-width:4;stroke-linecap:butt;stroke-linejoin:miter;stroke:rgb(26.666667%,26.666667%,26.666667%);stroke-opacity:1;stroke-miterlimit:10;\" d=\"M 343.523438 379.296875 L 382.035156 413.589844 \"/>\n",
       "<path style=\" stroke:none;fill-rule:nonzero;fill:rgb(26.666667%,26.666667%,26.666667%);fill-opacity:1;\" d=\"M 392.6875 423.078125 L 378.949219 417.050781 L 385.117188 410.128906 L 392.6875 423.078125 \"/>\n",
       "<path style=\"fill:none;stroke-width:4;stroke-linecap:butt;stroke-linejoin:miter;stroke:rgb(26.666667%,26.666667%,26.666667%);stroke-opacity:1;stroke-miterlimit:10;\" d=\"M 491.308594 359.953125 L 441.230469 387.957031 \"/>\n",
       "<path style=\" stroke:none;fill-rule:nonzero;fill:rgb(26.666667%,26.666667%,26.666667%);fill-opacity:1;\" d=\"M 428.78125 394.917969 L 438.96875 383.910156 L 443.496094 392 L 428.78125 394.917969 \"/>\n",
       "<path style=\"fill:none;stroke-width:4;stroke-linecap:butt;stroke-linejoin:miter;stroke:rgb(26.666667%,26.666667%,26.666667%);stroke-opacity:1;stroke-miterlimit:10;\" d=\"M 184.039062 209.855469 L 173.4375 176.449219 \"/>\n",
       "<path style=\" stroke:none;fill-rule:nonzero;fill:rgb(26.666667%,26.666667%,26.666667%);fill-opacity:1;\" d=\"M 169.125 162.851562 L 177.855469 175.046875 L 169.019531 177.847656 L 169.125 162.851562 \"/>\n",
       "<path style=\"fill:none;stroke-width:4;stroke-linecap:butt;stroke-linejoin:miter;stroke:rgb(26.666667%,26.666667%,26.666667%);stroke-opacity:1;stroke-miterlimit:10;\" d=\"M 486.675781 297.4375 L 467.71875 289.851562 \"/>\n",
       "<path style=\" stroke:none;fill-rule:nonzero;fill:rgb(26.666667%,26.666667%,26.666667%);fill-opacity:1;\" d=\"M 454.476562 284.546875 L 469.441406 285.546875 L 466 294.152344 L 454.476562 284.546875 \"/>\n",
       "<path style=\"fill:none;stroke-width:4;stroke-linecap:butt;stroke-linejoin:miter;stroke:rgb(26.666667%,26.666667%,26.666667%);stroke-opacity:1;stroke-miterlimit:10;\" d=\"M 74.15625 356.089844 L 84.054688 411.601562 \"/>\n",
       "<path style=\" stroke:none;fill-rule:nonzero;fill:rgb(26.666667%,26.666667%,26.666667%);fill-opacity:1;\" d=\"M 86.558594 425.644531 L 79.488281 412.414062 L 88.617188 410.785156 L 86.558594 425.644531 \"/>\n",
       "<path style=\"fill:none;stroke-width:4;stroke-linecap:butt;stroke-linejoin:miter;stroke:rgb(26.666667%,26.666667%,26.666667%);stroke-opacity:1;stroke-miterlimit:10;\" d=\"M 423.058594 357.613281 L 421.777344 375.59375 \"/>\n",
       "<path style=\" stroke:none;fill-rule:nonzero;fill:rgb(26.666667%,26.666667%,26.666667%);fill-opacity:1;\" d=\"M 420.765625 389.824219 L 417.15625 375.265625 L 426.402344 375.921875 L 420.765625 389.824219 \"/>\n",
       "<path style=\"fill:none;stroke-width:4;stroke-linecap:butt;stroke-linejoin:miter;stroke:rgb(26.666667%,26.666667%,26.666667%);stroke-opacity:1;stroke-miterlimit:10;\" d=\"M 486.675781 297.4375 C 477.863281 318.78125 480.433594 340.53125 500.492188 351.101562 \"/>\n",
       "<path style=\" stroke:none;fill-rule:nonzero;fill:rgb(26.666667%,26.666667%,26.666667%);fill-opacity:1;\" d=\"M 513.113281 357.753906 L 498.332031 355.203125 L 502.65625 347.003906 L 513.113281 357.753906 \"/>\n",
       "<path style=\"fill:none;stroke-width:4;stroke-linecap:butt;stroke-linejoin:miter;stroke:rgb(26.666667%,26.666667%,26.666667%);stroke-opacity:1;stroke-miterlimit:10;\" d=\"M 252.664062 341.210938 L 181.777344 266.890625 \"/>\n",
       "<path style=\" stroke:none;fill-rule:nonzero;fill:rgb(26.666667%,26.666667%,26.666667%);fill-opacity:1;\" d=\"M 171.933594 256.570312 L 185.132812 263.691406 L 178.421875 270.089844 L 171.933594 256.570312 \"/>\n",
       "<path style=\"fill:none;stroke-width:4;stroke-linecap:butt;stroke-linejoin:miter;stroke:rgb(26.666667%,26.666667%,26.666667%);stroke-opacity:1;stroke-miterlimit:10;\" d=\"M 196.882812 171.464844 L 264.027344 154.320312 \"/>\n",
       "<path style=\" stroke:none;fill-rule:nonzero;fill:rgb(26.666667%,26.666667%,26.666667%);fill-opacity:1;\" d=\"M 277.851562 150.792969 L 265.175781 158.8125 L 262.882812 149.832031 L 277.851562 150.792969 \"/>\n",
       "<path style=\"fill:none;stroke-width:4;stroke-linecap:butt;stroke-linejoin:miter;stroke:rgb(26.666667%,26.666667%,26.666667%);stroke-opacity:1;stroke-miterlimit:10;\" d=\"M 264.132812 114.886719 L 219.796875 112.597656 \"/>\n",
       "<path style=\" stroke:none;fill-rule:nonzero;fill:rgb(26.666667%,26.666667%,26.666667%);fill-opacity:1;\" d=\"M 205.546875 111.863281 L 220.035156 107.96875 L 219.554688 117.226562 L 205.546875 111.863281 \"/>\n",
       "<path style=\"fill:none;stroke-width:4;stroke-linecap:butt;stroke-linejoin:miter;stroke:rgb(26.666667%,26.666667%,26.666667%);stroke-opacity:1;stroke-miterlimit:10;\" d=\"M 252.664062 341.210938 C 241.453125 334.558594 227.300781 333.6875 221.554688 344.578125 \"/>\n",
       "<path style=\" stroke:none;fill-rule:nonzero;fill:rgb(26.666667%,26.666667%,26.666667%);fill-opacity:1;\" d=\"M 214.902344 357.199219 L 217.457031 342.417969 L 225.65625 346.742188 L 214.902344 357.199219 \"/>\n",
       "<path style=\"fill:none;stroke-width:4;stroke-linecap:butt;stroke-linejoin:miter;stroke:rgb(26.666667%,26.666667%,26.666667%);stroke-opacity:1;stroke-miterlimit:10;\" d=\"M 75.925781 189.433594 L 79.855469 206.558594 \"/>\n",
       "<path style=\" stroke:none;fill-rule:nonzero;fill:rgb(26.666667%,26.666667%,26.666667%);fill-opacity:1;\" d=\"M 83.050781 220.464844 L 75.339844 207.597656 L 84.375 205.523438 L 83.050781 220.464844 \"/>\n",
       "<path style=\"fill:none;stroke-width:4;stroke-linecap:butt;stroke-linejoin:miter;stroke:rgb(26.666667%,26.666667%,26.666667%);stroke-opacity:1;stroke-miterlimit:10;\" d=\"M 74.15625 356.089844 C 69.835938 337.984375 74.554688 320.160156 91.9375 315.105469 \"/>\n",
       "<path style=\" stroke:none;fill-rule:nonzero;fill:rgb(26.666667%,26.666667%,26.666667%);fill-opacity:1;\" d=\"M 105.632812 311.121094 L 93.230469 319.554688 L 90.640625 310.65625 L 105.632812 311.121094 \"/>\n",
       "<path style=\"fill:none;stroke-width:4;stroke-linecap:butt;stroke-linejoin:miter;stroke:rgb(26.666667%,26.666667%,26.666667%);stroke-opacity:1;stroke-miterlimit:10;\" d=\"M 264.132812 114.886719 C 258.765625 106.707031 248.546875 100.945312 242.050781 106.914062 \"/>\n",
       "<path style=\" stroke:none;fill-rule:nonzero;fill:rgb(26.666667%,26.666667%,26.666667%);fill-opacity:1;\" d=\"M 231.550781 116.570312 L 238.914062 103.503906 L 245.1875 110.328125 L 231.550781 116.570312 \"/>\n",
       "<path style=\"fill:none;stroke-width:3;stroke-linecap:butt;stroke-linejoin:miter;stroke:rgb(26.666667%,26.666667%,26.666667%);stroke-opacity:1;stroke-miterlimit:10;\" d=\"M 253.058594 191.003906 L 279.421875 220.960938 \"/>\n",
       "<path style=\" stroke:none;fill-rule:nonzero;fill:rgb(26.666667%,26.666667%,26.666667%);fill-opacity:1;\" d=\"M 288.847656 231.667969 L 275.941406 224.023438 L 282.902344 217.898438 L 288.847656 231.667969 \"/>\n",
       "<path style=\"fill:none;stroke-width:3;stroke-linecap:butt;stroke-linejoin:miter;stroke:rgb(26.666667%,26.666667%,26.666667%);stroke-opacity:1;stroke-miterlimit:10;\" d=\"M 264.132812 114.886719 C 262.574219 124.542969 255.605469 133.980469 247.234375 131.183594 \"/>\n",
       "<path style=\" stroke:none;fill-rule:nonzero;fill:rgb(26.666667%,26.666667%,26.666667%);fill-opacity:1;\" d=\"M 233.707031 126.664062 L 248.703125 126.785156 L 245.765625 135.578125 L 233.707031 126.664062 \"/>\n",
       "<path style=\"fill:none;stroke-width:3;stroke-linecap:butt;stroke-linejoin:miter;stroke:rgb(26.666667%,26.666667%,26.666667%);stroke-opacity:1;stroke-miterlimit:10;\" d=\"M 264.132812 114.886719 L 271.949219 141.339844 \"/>\n",
       "<path style=\" stroke:none;fill-rule:nonzero;fill:rgb(26.666667%,26.666667%,26.666667%);fill-opacity:1;\" d=\"M 275.992188 155.019531 L 267.503906 142.652344 L 276.394531 140.023438 L 275.992188 155.019531 \"/>\n",
       "<path style=\"fill:none;stroke-width:3;stroke-linecap:butt;stroke-linejoin:miter;stroke:rgb(26.666667%,26.666667%,26.666667%);stroke-opacity:1;stroke-miterlimit:10;\" d=\"M 408.824219 314.199219 L 470.085938 348.183594 \"/>\n",
       "<path style=\" stroke:none;fill-rule:nonzero;fill:rgb(26.666667%,26.666667%,26.666667%);fill-opacity:1;\" d=\"M 482.5625 355.101562 L 467.839844 352.238281 L 472.335938 344.128906 L 482.5625 355.101562 \"/>\n",
       "<path style=\"fill:none;stroke-width:3;stroke-linecap:butt;stroke-linejoin:miter;stroke:rgb(26.666667%,26.666667%,26.666667%);stroke-opacity:1;stroke-miterlimit:10;\" d=\"M 470.066406 372.128906 L 441.285156 388.050781 \"/>\n",
       "<path style=\" stroke:none;fill-rule:nonzero;fill:rgb(26.666667%,26.666667%,26.666667%);fill-opacity:1;\" d=\"M 428.804688 394.957031 L 439.042969 383.996094 L 443.53125 392.109375 L 428.804688 394.957031 \"/>\n",
       "<path style=\"fill:none;stroke-width:3;stroke-linecap:butt;stroke-linejoin:miter;stroke:rgb(26.666667%,26.666667%,26.666667%);stroke-opacity:1;stroke-miterlimit:10;\" d=\"M 264.132812 114.886719 L 273.621094 128.441406 \"/>\n",
       "<path style=\" stroke:none;fill-rule:nonzero;fill:rgb(26.666667%,26.666667%,26.666667%);fill-opacity:1;\" d=\"M 281.804688 140.128906 L 269.824219 131.101562 L 277.417969 125.78125 L 281.804688 140.128906 \"/>\n",
       "<path style=\"fill:none;stroke-width:3;stroke-linecap:butt;stroke-linejoin:miter;stroke:rgb(26.666667%,26.666667%,26.666667%);stroke-opacity:1;stroke-miterlimit:10;\" d=\"M 382.117188 248.320312 L 423.625 269.714844 \"/>\n",
       "<path style=\" stroke:none;fill-rule:nonzero;fill:rgb(26.666667%,26.666667%,26.666667%);fill-opacity:1;\" d=\"M 436.304688 276.25 L 421.5 273.832031 L 425.746094 265.59375 L 436.304688 276.25 \"/>\n",
       "<path style=\"fill:none;stroke-width:3;stroke-linecap:butt;stroke-linejoin:miter;stroke:rgb(26.666667%,26.666667%,26.666667%);stroke-opacity:1;stroke-miterlimit:10;\" d=\"M 479.53125 437.730469 L 524.46875 435.332031 \"/>\n",
       "<path style=\" stroke:none;fill-rule:nonzero;fill:rgb(26.666667%,26.666667%,26.666667%);fill-opacity:1;\" d=\"M 538.714844 434.570312 L 524.71875 439.960938 L 524.222656 430.703125 L 538.714844 434.570312 \"/>\n",
       "<path style=\"fill:none;stroke-width:3;stroke-linecap:butt;stroke-linejoin:miter;stroke:rgb(26.666667%,26.666667%,26.666667%);stroke-opacity:1;stroke-miterlimit:10;\" d=\"M 491.308594 359.953125 L 487.941406 373.738281 \"/>\n",
       "<path style=\" stroke:none;fill-rule:nonzero;fill:rgb(26.666667%,26.666667%,26.666667%);fill-opacity:1;\" d=\"M 484.554688 387.597656 L 483.4375 372.636719 L 492.445312 374.835938 L 484.554688 387.597656 \"/>\n",
       "<path style=\"fill:none;stroke-width:3;stroke-linecap:butt;stroke-linejoin:miter;stroke:rgb(26.666667%,26.666667%,26.666667%);stroke-opacity:1;stroke-miterlimit:10;\" d=\"M 408.824219 314.199219 L 446.226562 241.875 \"/>\n",
       "<path style=\" stroke:none;fill-rule:nonzero;fill:rgb(26.666667%,26.666667%,26.666667%);fill-opacity:1;\" d=\"M 452.78125 229.203125 L 450.34375 244.003906 L 442.109375 239.746094 L 452.78125 229.203125 \"/>\n",
       "<path style=\"fill:none;stroke-width:3;stroke-linecap:butt;stroke-linejoin:miter;stroke:rgb(26.666667%,26.666667%,26.666667%);stroke-opacity:1;stroke-miterlimit:10;\" d=\"M 522.394531 362.648438 L 540.3125 411.269531 \"/>\n",
       "<path style=\" stroke:none;fill-rule:nonzero;fill:rgb(26.666667%,26.666667%,26.666667%);fill-opacity:1;\" d=\"M 545.242188 424.65625 L 535.960938 412.871094 L 544.660156 409.664062 L 545.242188 424.65625 \"/>\n",
       "<path style=\"fill:none;stroke-width:3;stroke-linecap:butt;stroke-linejoin:miter;stroke:rgb(26.666667%,26.666667%,26.666667%);stroke-opacity:1;stroke-miterlimit:10;\" d=\"M 408.824219 314.199219 C 395.144531 320.042969 380.167969 321.246094 368.980469 311.800781 \"/>\n",
       "<path style=\" stroke:none;fill-rule:nonzero;fill:rgb(26.666667%,26.666667%,26.666667%);fill-opacity:1;\" d=\"M 358.078125 302.601562 L 371.96875 308.257812 L 365.988281 315.34375 L 358.078125 302.601562 \"/>\n",
       "<path style=\"fill:none;stroke-width:3;stroke-linecap:butt;stroke-linejoin:miter;stroke:rgb(26.666667%,26.666667%,26.666667%);stroke-opacity:1;stroke-miterlimit:10;\" d=\"M 423.058594 357.613281 L 407.5 406.601562 \"/>\n",
       "<path style=\" stroke:none;fill-rule:nonzero;fill:rgb(26.666667%,26.666667%,26.666667%);fill-opacity:1;\" d=\"M 403.183594 420.195312 L 403.082031 405.199219 L 411.917969 408.003906 L 403.183594 420.195312 \"/>\n",
       "<path style=\"fill:none;stroke-width:3;stroke-linecap:butt;stroke-linejoin:miter;stroke:rgb(26.666667%,26.666667%,26.666667%);stroke-opacity:1;stroke-miterlimit:10;\" d=\"M 522.394531 362.648438 L 474.707031 359.753906 \"/>\n",
       "<path style=\" stroke:none;fill-rule:nonzero;fill:rgb(26.666667%,26.666667%,26.666667%);fill-opacity:1;\" d=\"M 460.464844 358.890625 L 474.984375 355.128906 L 474.425781 364.382812 L 460.464844 358.890625 \"/>\n",
       "<path style=\"fill:none;stroke-width:3;stroke-linecap:butt;stroke-linejoin:miter;stroke:rgb(26.666667%,26.666667%,26.666667%);stroke-opacity:1;stroke-miterlimit:10;\" d=\"M 509.289062 340.648438 L 491.421875 327.53125 \"/>\n",
       "<path style=\" stroke:none;fill-rule:nonzero;fill:rgb(26.666667%,26.666667%,26.666667%);fill-opacity:1;\" d=\"M 479.921875 319.089844 L 494.164062 323.792969 L 488.679688 331.269531 L 479.921875 319.089844 \"/>\n",
       "<path style=\"fill:none;stroke-width:3;stroke-linecap:butt;stroke-linejoin:miter;stroke:rgb(26.666667%,26.666667%,26.666667%);stroke-opacity:1;stroke-miterlimit:10;\" d=\"M 74.15625 356.089844 L 41.78125 371.992188 \"/>\n",
       "<path style=\" stroke:none;fill-rule:nonzero;fill:rgb(26.666667%,26.666667%,26.666667%);fill-opacity:1;\" d=\"M 28.976562 378.285156 L 39.738281 367.832031 L 43.824219 376.15625 L 28.976562 378.285156 \"/>\n",
       "<path style=\"fill:none;stroke-width:3;stroke-linecap:butt;stroke-linejoin:miter;stroke:rgb(26.666667%,26.666667%,26.666667%);stroke-opacity:1;stroke-miterlimit:10;\" d=\"M 509.289062 340.648438 L 492.652344 375.421875 \"/>\n",
       "<path style=\" stroke:none;fill-rule:nonzero;fill:rgb(26.666667%,26.666667%,26.666667%);fill-opacity:1;\" d=\"M 486.496094 388.289062 L 488.472656 373.417969 L 496.835938 377.421875 L 486.496094 388.289062 \"/>\n",
       "<path style=\"fill:none;stroke-width:3;stroke-linecap:butt;stroke-linejoin:miter;stroke:rgb(26.666667%,26.666667%,26.666667%);stroke-opacity:1;stroke-miterlimit:10;\" d=\"M 471.859375 313.171875 C 480.816406 324.265625 485.925781 337.824219 480.042969 350.546875 \"/>\n",
       "<path style=\" stroke:none;fill-rule:nonzero;fill:rgb(26.666667%,26.666667%,26.666667%);fill-opacity:1;\" d=\"M 474.058594 363.496094 L 475.835938 348.601562 L 484.25 352.492188 L 474.058594 363.496094 \"/>\n",
       "<path style=\"fill:none;stroke-width:3;stroke-linecap:butt;stroke-linejoin:miter;stroke:rgb(26.666667%,26.666667%,26.666667%);stroke-opacity:1;stroke-miterlimit:10;\" d=\"M 165.03125 249.332031 L 108.886719 235.867188 \"/>\n",
       "<path style=\" stroke:none;fill-rule:nonzero;fill:rgb(26.666667%,26.666667%,26.666667%);fill-opacity:1;\" d=\"M 95.011719 232.542969 L 109.964844 231.363281 L 107.804688 240.375 L 95.011719 232.542969 \"/>\n",
       "<path style=\"fill:none;stroke-width:3;stroke-linecap:butt;stroke-linejoin:miter;stroke:rgb(26.666667%,26.666667%,26.666667%);stroke-opacity:1;stroke-miterlimit:10;\" d=\"M 144.371094 186.488281 L 173.550781 178.140625 \"/>\n",
       "<path style=\" stroke:none;fill-rule:nonzero;fill:rgb(26.666667%,26.666667%,26.666667%);fill-opacity:1;\" d=\"M 187.269531 174.214844 L 174.828125 182.597656 L 172.277344 173.683594 L 187.269531 174.214844 \"/>\n",
       "<path style=\"fill:none;stroke-width:3;stroke-linecap:butt;stroke-linejoin:miter;stroke:rgb(26.666667%,26.666667%,26.666667%);stroke-opacity:1;stroke-miterlimit:10;\" d=\"M 471.859375 313.171875 C 462.246094 323.699219 456.324219 336.925781 461.421875 349.980469 \"/>\n",
       "<path style=\" stroke:none;fill-rule:nonzero;fill:rgb(26.666667%,26.666667%,26.666667%);fill-opacity:1;\" d=\"M 466.609375 363.269531 L 457.101562 351.667969 L 465.738281 348.296875 L 466.609375 363.269531 \"/>\n",
       "<path style=\"fill:none;stroke-width:3;stroke-linecap:butt;stroke-linejoin:miter;stroke:rgb(26.666667%,26.666667%,26.666667%);stroke-opacity:1;stroke-miterlimit:10;\" d=\"M 471.859375 313.171875 C 490.488281 322.011719 499.921875 339.957031 486.542969 354.375 \"/>\n",
       "<path style=\" stroke:none;fill-rule:nonzero;fill:rgb(26.666667%,26.666667%,26.666667%);fill-opacity:1;\" d=\"M 476.835938 364.832031 L 483.144531 351.222656 L 489.9375 357.527344 L 476.835938 364.832031 \"/>\n",
       "<path style=\"fill:none;stroke-width:3;stroke-linecap:butt;stroke-linejoin:miter;stroke:rgb(26.666667%,26.666667%,26.666667%);stroke-opacity:1;stroke-miterlimit:10;\" d=\"M 252.664062 341.210938 L 217.089844 384.941406 \"/>\n",
       "<path style=\" stroke:none;fill-rule:nonzero;fill:rgb(26.666667%,26.666667%,26.666667%);fill-opacity:1;\" d=\"M 208.089844 396.007812 L 213.496094 382.015625 L 220.6875 387.863281 L 208.089844 396.007812 \"/>\n",
       "<path style=\"fill:none;stroke-width:3;stroke-linecap:butt;stroke-linejoin:miter;stroke:rgb(26.666667%,26.666667%,26.666667%);stroke-opacity:1;stroke-miterlimit:10;\" d=\"M 471.859375 313.171875 L 520.476562 287.390625 \"/>\n",
       "<path style=\" stroke:none;fill-rule:nonzero;fill:rgb(26.666667%,26.666667%,26.666667%);fill-opacity:1;\" d=\"M 533.078125 280.707031 L 522.648438 291.488281 L 518.304688 283.296875 L 533.078125 280.707031 \"/>\n",
       "<path style=\"fill:none;stroke-width:3;stroke-linecap:butt;stroke-linejoin:miter;stroke:rgb(26.666667%,26.666667%,26.666667%);stroke-opacity:1;stroke-miterlimit:10;\" d=\"M 470.066406 372.128906 L 471.660156 375.445312 \"/>\n",
       "<path style=\" stroke:none;fill-rule:nonzero;fill:rgb(26.666667%,26.666667%,26.666667%);fill-opacity:1;\" d=\"M 477.847656 388.300781 L 467.484375 377.453125 L 475.835938 373.433594 L 477.847656 388.300781 \"/>\n",
       "<path style=\"fill:none;stroke-width:2;stroke-linecap:butt;stroke-linejoin:miter;stroke:rgb(26.666667%,26.666667%,26.666667%);stroke-opacity:1;stroke-miterlimit:10;\" d=\"M 196.882812 171.464844 C 199.160156 163.941406 197.078125 153.855469 190.417969 153.742188 \"/>\n",
       "<path style=\" stroke:none;fill-rule:nonzero;fill:rgb(26.666667%,26.666667%,26.666667%);fill-opacity:1;\" d=\"M 176.152344 153.492188 L 190.5 149.105469 L 190.335938 158.375 L 176.152344 153.492188 \"/>\n",
       "<path style=\"fill:none;stroke-width:2;stroke-linecap:butt;stroke-linejoin:miter;stroke:rgb(26.666667%,26.666667%,26.666667%);stroke-opacity:1;stroke-miterlimit:10;\" d=\"M 408.824219 314.199219 C 400.75 301.707031 389.007812 292.332031 374.449219 293.90625 \"/>\n",
       "<path style=\" stroke:none;fill-rule:nonzero;fill:rgb(26.666667%,26.666667%,26.666667%);fill-opacity:1;\" d=\"M 360.265625 295.4375 L 373.953125 289.296875 L 374.949219 298.515625 L 360.265625 295.4375 \"/>\n",
       "<path style=\"fill:none;stroke-width:2;stroke-linecap:butt;stroke-linejoin:miter;stroke:rgb(26.666667%,26.666667%,26.666667%);stroke-opacity:1;stroke-miterlimit:10;\" d=\"M 359.007812 206.539062 L 417.039062 207.203125 \"/>\n",
       "<path style=\" stroke:none;fill-rule:nonzero;fill:rgb(26.666667%,26.666667%,26.666667%);fill-opacity:1;\" d=\"M 431.304688 207.363281 L 416.988281 211.835938 L 417.09375 202.566406 L 431.304688 207.363281 \"/>\n",
       "<path style=\"fill:none;stroke-width:2;stroke-linecap:butt;stroke-linejoin:miter;stroke:rgb(26.666667%,26.666667%,26.666667%);stroke-opacity:1;stroke-miterlimit:10;\" d=\"M 408.824219 314.199219 L 346.496094 318.878906 \"/>\n",
       "<path style=\" stroke:none;fill-rule:nonzero;fill:rgb(26.666667%,26.666667%,26.666667%);fill-opacity:1;\" d=\"M 332.269531 319.945312 L 346.148438 314.257812 L 346.839844 323.5 L 332.269531 319.945312 \"/>\n",
       "<path style=\"fill:none;stroke-width:2;stroke-linecap:butt;stroke-linejoin:miter;stroke:rgb(26.666667%,26.666667%,26.666667%);stroke-opacity:1;stroke-miterlimit:10;\" d=\"M 196.882812 171.464844 C 212.195312 170.746094 225.949219 162.726562 225.246094 148.027344 \"/>\n",
       "<path style=\" stroke:none;fill-rule:nonzero;fill:rgb(26.666667%,26.666667%,26.666667%);fill-opacity:1;\" d=\"M 224.566406 133.777344 L 229.875 147.808594 L 220.617188 148.25 L 224.566406 133.777344 \"/>\n",
       "<path style=\"fill:none;stroke-width:2;stroke-linecap:butt;stroke-linejoin:miter;stroke:rgb(26.666667%,26.666667%,26.666667%);stroke-opacity:1;stroke-miterlimit:10;\" d=\"M 359.007812 206.539062 L 300.328125 175.855469 \"/>\n",
       "<path style=\" stroke:none;fill-rule:nonzero;fill:rgb(26.666667%,26.666667%,26.666667%);fill-opacity:1;\" d=\"M 287.6875 169.242188 L 302.476562 171.746094 L 298.179688 179.960938 L 287.6875 169.242188 \"/>\n",
       "<path style=\"fill:none;stroke-width:2;stroke-linecap:butt;stroke-linejoin:miter;stroke:rgb(26.666667%,26.666667%,26.666667%);stroke-opacity:1;stroke-miterlimit:10;\" d=\"M 359.007812 206.539062 L 306.355469 163.644531 \"/>\n",
       "<path style=\" stroke:none;fill-rule:nonzero;fill:rgb(26.666667%,26.666667%,26.666667%);fill-opacity:1;\" d=\"M 295.292969 154.636719 L 309.28125 160.050781 L 303.425781 167.238281 L 295.292969 154.636719 \"/>\n",
       "<path style=\"fill:none;stroke-width:2;stroke-linecap:butt;stroke-linejoin:miter;stroke:rgb(26.666667%,26.666667%,26.666667%);stroke-opacity:1;stroke-miterlimit:10;\" d=\"M 74.15625 356.089844 C 91.167969 348.058594 102.210938 333.105469 95.253906 316.175781 \"/>\n",
       "<path style=\" stroke:none;fill-rule:nonzero;fill:rgb(26.666667%,26.666667%,26.666667%);fill-opacity:1;\" d=\"M 89.832031 302.980469 L 99.539062 314.414062 L 90.964844 317.9375 L 89.832031 302.980469 \"/>\n",
       "<path style=\"fill:none;stroke-width:2;stroke-linecap:butt;stroke-linejoin:miter;stroke:rgb(26.666667%,26.666667%,26.666667%);stroke-opacity:1;stroke-miterlimit:10;\" d=\"M 253.058594 191.003906 L 207.445312 203.460938 \"/>\n",
       "<path style=\" stroke:none;fill-rule:nonzero;fill:rgb(26.666667%,26.666667%,26.666667%);fill-opacity:1;\" d=\"M 193.683594 207.21875 L 206.226562 198.988281 L 208.667969 207.933594 L 193.683594 207.21875 \"/>\n",
       "<path style=\"fill:none;stroke-width:2;stroke-linecap:butt;stroke-linejoin:miter;stroke:rgb(26.666667%,26.666667%,26.666667%);stroke-opacity:1;stroke-miterlimit:10;\" d=\"M 471.859375 313.171875 L 424.878906 277.570312 \"/>\n",
       "<path style=\" stroke:none;fill-rule:nonzero;fill:rgb(26.666667%,26.666667%,26.666667%);fill-opacity:1;\" d=\"M 413.507812 268.953125 L 427.679688 273.875 L 422.078125 281.261719 L 413.507812 268.953125 \"/>\n",
       "<path style=\"fill:none;stroke-width:2;stroke-linecap:butt;stroke-linejoin:miter;stroke:rgb(26.666667%,26.666667%,26.666667%);stroke-opacity:1;stroke-miterlimit:10;\" d=\"M 253.058594 191.003906 L 260.640625 138.898438 \"/>\n",
       "<path style=\" stroke:none;fill-rule:nonzero;fill:rgb(26.666667%,26.666667%,26.666667%);fill-opacity:1;\" d=\"M 262.691406 124.78125 L 265.226562 139.566406 L 256.050781 138.230469 L 262.691406 124.78125 \"/>\n",
       "<path style=\"fill:none;stroke-width:2;stroke-linecap:butt;stroke-linejoin:miter;stroke:rgb(26.666667%,26.666667%,26.666667%);stroke-opacity:1;stroke-miterlimit:10;\" d=\"M 165.03125 249.332031 C 140.683594 249.285156 120.773438 260.476562 118.210938 284.300781 \"/>\n",
       "<path style=\" stroke:none;fill-rule:nonzero;fill:rgb(26.666667%,26.666667%,26.666667%);fill-opacity:1;\" d=\"M 116.683594 298.484375 L 113.601562 283.804688 L 122.820312 284.796875 L 116.683594 298.484375 \"/>\n",
       "<path style=\"fill:none;stroke-width:2;stroke-linecap:butt;stroke-linejoin:miter;stroke:rgb(26.666667%,26.666667%,26.666667%);stroke-opacity:1;stroke-miterlimit:10;\" d=\"M 509.289062 340.648438 L 504.308594 366.871094 \"/>\n",
       "<path style=\" stroke:none;fill-rule:nonzero;fill:rgb(26.666667%,26.666667%,26.666667%);fill-opacity:1;\" d=\"M 501.644531 380.882812 L 499.753906 366.003906 L 508.863281 367.734375 L 501.644531 380.882812 \"/>\n",
       "<path style=\"fill:none;stroke-width:2;stroke-linecap:butt;stroke-linejoin:miter;stroke:rgb(26.666667%,26.666667%,26.666667%);stroke-opacity:1;stroke-miterlimit:10;\" d=\"M 486.675781 297.4375 L 452.230469 229.144531 \"/>\n",
       "<path style=\" stroke:none;fill-rule:nonzero;fill:rgb(26.666667%,26.666667%,26.666667%);fill-opacity:1;\" d=\"M 445.808594 216.40625 L 456.371094 227.058594 L 448.09375 231.234375 L 445.808594 216.40625 \"/>\n",
       "<path style=\"fill:none;stroke-width:2;stroke-linecap:butt;stroke-linejoin:miter;stroke:rgb(26.666667%,26.666667%,26.666667%);stroke-opacity:1;stroke-miterlimit:10;\" d=\"M 359.007812 206.539062 L 340.714844 150.761719 \"/>\n",
       "<path style=\" stroke:none;fill-rule:nonzero;fill:rgb(26.666667%,26.666667%,26.666667%);fill-opacity:1;\" d=\"M 336.269531 137.203125 L 345.121094 149.316406 L 336.3125 152.203125 L 336.269531 137.203125 \"/>\n",
       "<path style=\"fill:none;stroke-width:2;stroke-linecap:butt;stroke-linejoin:miter;stroke:rgb(26.666667%,26.666667%,26.666667%);stroke-opacity:1;stroke-miterlimit:10;\" d=\"M 75.925781 189.433594 L 50.398438 181.988281 \"/>\n",
       "<path style=\" stroke:none;fill-rule:nonzero;fill:rgb(26.666667%,26.666667%,26.666667%);fill-opacity:1;\" d=\"M 36.707031 177.992188 L 51.699219 177.539062 L 49.101562 186.4375 L 36.707031 177.992188 \"/>\n",
       "<path style=\"fill:none;stroke-width:2;stroke-linecap:butt;stroke-linejoin:miter;stroke:rgb(26.666667%,26.666667%,26.666667%);stroke-opacity:1;stroke-miterlimit:10;\" d=\"M 421.101562 377.226562 L 430.089844 371.433594 \"/>\n",
       "<path style=\" stroke:none;fill-rule:nonzero;fill:rgb(26.666667%,26.666667%,26.666667%);fill-opacity:1;\" d=\"M 442.078125 363.703125 L 432.597656 375.328125 L 427.578125 367.539062 L 442.078125 363.703125 \"/>\n",
       "<path style=\"fill:none;stroke-width:2;stroke-linecap:butt;stroke-linejoin:miter;stroke:rgb(26.666667%,26.666667%,26.666667%);stroke-opacity:1;stroke-miterlimit:10;\" d=\"M 252.664062 341.210938 L 246.589844 385.523438 \"/>\n",
       "<path style=\" stroke:none;fill-rule:nonzero;fill:rgb(26.666667%,26.666667%,26.666667%);fill-opacity:1;\" d=\"M 244.652344 399.65625 L 241.996094 384.890625 L 251.183594 386.152344 L 244.652344 399.65625 \"/>\n",
       "<path style=\"fill:none;stroke-width:2;stroke-linecap:butt;stroke-linejoin:miter;stroke:rgb(26.666667%,26.666667%,26.666667%);stroke-opacity:1;stroke-miterlimit:10;\" d=\"M 165.03125 249.332031 C 169.3125 273.300781 161.753906 294.851562 138.738281 301.519531 \"/>\n",
       "<path style=\" stroke:none;fill-rule:nonzero;fill:rgb(26.666667%,26.666667%,26.666667%);fill-opacity:1;\" d=\"M 125.035156 305.488281 L 137.449219 297.066406 L 140.027344 305.972656 L 125.035156 305.488281 \"/>\n",
       "<path style=\"fill:none;stroke-width:2;stroke-linecap:butt;stroke-linejoin:miter;stroke:rgb(26.666667%,26.666667%,26.666667%);stroke-opacity:1;stroke-miterlimit:10;\" d=\"M 421.101562 377.226562 C 403.910156 369.226562 392.722656 354.234375 399.609375 337.105469 \"/>\n",
       "<path style=\" stroke:none;fill-rule:nonzero;fill:rgb(26.666667%,26.666667%,26.666667%);fill-opacity:1;\" d=\"M 404.933594 323.871094 L 403.910156 338.835938 L 395.308594 335.378906 L 404.933594 323.871094 \"/>\n",
       "<path style=\"fill:none;stroke-width:2;stroke-linecap:butt;stroke-linejoin:miter;stroke:rgb(26.666667%,26.666667%,26.666667%);stroke-opacity:1;stroke-miterlimit:10;\" d=\"M 421.101562 377.226562 L 459.128906 389.730469 \"/>\n",
       "<path style=\" stroke:none;fill-rule:nonzero;fill:rgb(26.666667%,26.666667%,26.666667%);fill-opacity:1;\" d=\"M 472.683594 394.1875 L 457.683594 394.132812 L 460.578125 385.328125 L 472.683594 394.1875 \"/>\n",
       "<path style=\"fill:none;stroke-width:2;stroke-linecap:butt;stroke-linejoin:miter;stroke:rgb(26.666667%,26.666667%,26.666667%);stroke-opacity:1;stroke-miterlimit:10;\" d=\"M 85.867188 293.339844 C 68.859375 301.371094 57.816406 316.324219 64.773438 333.253906 \"/>\n",
       "<path style=\" stroke:none;fill-rule:nonzero;fill:rgb(26.666667%,26.666667%,26.666667%);fill-opacity:1;\" d=\"M 70.195312 346.449219 L 60.484375 335.015625 L 69.058594 331.492188 L 70.195312 346.449219 \"/>\n",
       "<path style=\"fill:none;stroke-width:2;stroke-linecap:butt;stroke-linejoin:miter;stroke:rgb(26.666667%,26.666667%,26.666667%);stroke-opacity:1;stroke-miterlimit:10;\" d=\"M 382.117188 248.320312 L 337.757812 301.992188 \"/>\n",
       "<path style=\" stroke:none;fill-rule:nonzero;fill:rgb(26.666667%,26.666667%,26.666667%);fill-opacity:1;\" d=\"M 328.667969 312.988281 L 334.183594 299.039062 L 341.328125 304.945312 L 328.667969 312.988281 \"/>\n",
       "<path style=\"fill:none;stroke-width:2;stroke-linecap:butt;stroke-linejoin:miter;stroke:rgb(26.666667%,26.666667%,26.666667%);stroke-opacity:1;stroke-miterlimit:10;\" d=\"M 382.117188 248.320312 L 434.628906 228.78125 \"/>\n",
       "<path style=\" stroke:none;fill-rule:nonzero;fill:rgb(26.666667%,26.666667%,26.666667%);fill-opacity:1;\" d=\"M 448 223.808594 L 436.246094 233.125 L 433.015625 224.4375 L 448 223.808594 \"/>\n",
       "<path style=\"fill:none;stroke-width:2;stroke-linecap:butt;stroke-linejoin:miter;stroke:rgb(26.666667%,26.666667%,26.666667%);stroke-opacity:1;stroke-miterlimit:10;\" d=\"M 144.371094 186.488281 L 141.835938 183.207031 \"/>\n",
       "<path style=\" stroke:none;fill-rule:nonzero;fill:rgb(26.666667%,26.666667%,26.666667%);fill-opacity:1;\" d=\"M 150.5625 194.492188 L 138.167969 186.042969 L 145.503906 180.371094 L 150.5625 194.492188 \"/>\n",
       "<path style=\"fill:none;stroke-width:2;stroke-linecap:butt;stroke-linejoin:miter;stroke:rgb(26.666667%,26.666667%,26.666667%);stroke-opacity:1;stroke-miterlimit:10;\" d=\"M 382.117188 248.320312 L 387.609375 202.09375 \"/>\n",
       "<path style=\" stroke:none;fill-rule:nonzero;fill:rgb(26.666667%,26.666667%,26.666667%);fill-opacity:1;\" d=\"M 389.289062 187.929688 L 392.210938 202.640625 L 383.003906 201.546875 L 389.289062 187.929688 \"/>\n",
       "<path style=\"fill:none;stroke-width:2;stroke-linecap:butt;stroke-linejoin:miter;stroke:rgb(26.666667%,26.666667%,26.666667%);stroke-opacity:1;stroke-miterlimit:10;\" d=\"M 184.039062 209.855469 C 191.027344 218.171875 193.835938 230.398438 185.480469 235.890625 \"/>\n",
       "<path style=\" stroke:none;fill-rule:nonzero;fill:rgb(26.666667%,26.666667%,26.666667%);fill-opacity:1;\" d=\"M 173.558594 243.726562 L 182.933594 232.015625 L 188.023438 239.765625 L 173.558594 243.726562 \"/>\n",
       "<path style=\"fill:none;stroke-width:2;stroke-linecap:butt;stroke-linejoin:miter;stroke:rgb(26.666667%,26.666667%,26.666667%);stroke-opacity:1;stroke-miterlimit:10;\" d=\"M 165.03125 249.332031 L 160.929688 226.292969 \"/>\n",
       "<path style=\" stroke:none;fill-rule:nonzero;fill:rgb(26.666667%,26.666667%,26.666667%);fill-opacity:1;\" d=\"M 158.429688 212.246094 L 165.492188 225.480469 L 156.367188 227.105469 L 158.429688 212.246094 \"/>\n",
       "<path style=\"fill:none;stroke-width:2;stroke-linecap:butt;stroke-linejoin:miter;stroke:rgb(26.666667%,26.666667%,26.666667%);stroke-opacity:1;stroke-miterlimit:10;\" d=\"M 85.867188 293.339844 L 48.949219 291.339844 \"/>\n",
       "<path style=\" stroke:none;fill-rule:nonzero;fill:rgb(26.666667%,26.666667%,26.666667%);fill-opacity:1;\" d=\"M 34.703125 290.566406 L 49.199219 286.710938 L 48.699219 295.96875 L 34.703125 290.566406 \"/>\n",
       "<path style=\"fill:none;stroke-width:2;stroke-linecap:butt;stroke-linejoin:miter;stroke:rgb(26.666667%,26.666667%,26.666667%);stroke-opacity:1;stroke-miterlimit:10;\" d=\"M 287.089844 388.289062 L 311.085938 342.21875 \"/>\n",
       "<path style=\" stroke:none;fill-rule:nonzero;fill:rgb(26.666667%,26.666667%,26.666667%);fill-opacity:1;\" d=\"M 317.675781 329.5625 L 315.199219 344.359375 L 306.976562 340.074219 L 317.675781 329.5625 \"/>\n",
       "<path style=\"fill:none;stroke-width:2;stroke-linecap:butt;stroke-linejoin:miter;stroke:rgb(26.666667%,26.666667%,26.666667%);stroke-opacity:1;stroke-miterlimit:10;\" d=\"M 165.03125 249.332031 C 190.875 240.433594 207.390625 221.441406 201.835938 195.03125 \"/>\n",
       "<path style=\" stroke:none;fill-rule:nonzero;fill:rgb(26.666667%,26.666667%,26.666667%);fill-opacity:1;\" d=\"M 198.902344 181.070312 L 206.371094 194.078125 L 197.300781 195.984375 L 198.902344 181.070312 \"/>\n",
       "<path style=\"fill:none;stroke-width:2;stroke-linecap:butt;stroke-linejoin:miter;stroke:rgb(26.666667%,26.666667%,26.666667%);stroke-opacity:1;stroke-miterlimit:10;\" d=\"M 471.859375 313.171875 C 452.730469 320.863281 442.222656 338.203125 454.703125 353.40625 \"/>\n",
       "<path style=\" stroke:none;fill-rule:nonzero;fill:rgb(26.666667%,26.666667%,26.666667%);fill-opacity:1;\" d=\"M 463.75 364.433594 L 451.117188 356.347656 L 458.285156 350.464844 L 463.75 364.433594 \"/>\n",
       "<path style=\"fill:none;stroke-width:2;stroke-linecap:butt;stroke-linejoin:miter;stroke:rgb(26.666667%,26.666667%,26.666667%);stroke-opacity:1;stroke-miterlimit:10;\" d=\"M 471.859375 313.171875 L 460.632812 299.554688 \"/>\n",
       "<path style=\" stroke:none;fill-rule:nonzero;fill:rgb(26.666667%,26.666667%,26.666667%);fill-opacity:1;\" d=\"M 451.554688 288.546875 L 464.207031 296.605469 L 457.054688 302.503906 L 451.554688 288.546875 \"/>\n",
       "<path style=\"fill:none;stroke-width:2;stroke-linecap:butt;stroke-linejoin:miter;stroke:rgb(26.666667%,26.666667%,26.666667%);stroke-opacity:1;stroke-miterlimit:10;\" d=\"M 165.03125 249.332031 C 152.832031 224.871094 154.363281 199.75 176.832031 184.804688 \"/>\n",
       "<path style=\" stroke:none;fill-rule:nonzero;fill:rgb(26.666667%,26.666667%,26.666667%);fill-opacity:1;\" d=\"M 188.710938 176.902344 L 179.398438 188.664062 L 174.265625 180.945312 L 188.710938 176.902344 \"/>\n",
       "<path style=\"fill:none;stroke-width:2;stroke-linecap:butt;stroke-linejoin:miter;stroke:rgb(26.666667%,26.666667%,26.666667%);stroke-opacity:1;stroke-miterlimit:10;\" d=\"M 471.859375 313.171875 L 445.960938 280.019531 \"/>\n",
       "<path style=\" stroke:none;fill-rule:nonzero;fill:rgb(26.666667%,26.666667%,26.666667%);fill-opacity:1;\" d=\"M 437.175781 268.777344 L 449.613281 277.164062 L 442.308594 282.871094 L 437.175781 268.777344 \"/>\n",
       "<path style=\"fill:none;stroke-width:1;stroke-linecap:butt;stroke-linejoin:miter;stroke:rgb(26.666667%,26.666667%,26.666667%);stroke-opacity:1;stroke-miterlimit:10;\" d=\"M 252.664062 341.210938 L 328.726562 306.527344 \"/>\n",
       "<path style=\" stroke:none;fill-rule:nonzero;fill:rgb(26.666667%,26.666667%,26.666667%);fill-opacity:1;\" d=\"M 341.707031 300.609375 L 330.648438 310.746094 L 326.800781 302.3125 L 341.707031 300.609375 \"/>\n",
       "<path style=\"fill:none;stroke-width:1;stroke-linecap:butt;stroke-linejoin:miter;stroke:rgb(26.666667%,26.666667%,26.666667%);stroke-opacity:1;stroke-miterlimit:10;\" d=\"M 470.066406 372.128906 L 462.636719 436.234375 \"/>\n",
       "<path style=\" stroke:none;fill-rule:nonzero;fill:rgb(26.666667%,26.666667%,26.666667%);fill-opacity:1;\" d=\"M 460.992188 450.402344 L 458.03125 435.699219 L 467.238281 436.765625 L 460.992188 450.402344 \"/>\n",
       "<path style=\"fill:none;stroke-width:1;stroke-linecap:butt;stroke-linejoin:miter;stroke:rgb(26.666667%,26.666667%,26.666667%);stroke-opacity:1;stroke-miterlimit:10;\" d=\"M 359.007812 206.539062 C 379.21875 228.53125 384.953125 255.078125 366.144531 277.871094 \"/>\n",
       "<path style=\" stroke:none;fill-rule:nonzero;fill:rgb(26.666667%,26.666667%,26.666667%);fill-opacity:1;\" d=\"M 357.066406 288.875 L 362.570312 274.917969 L 369.71875 280.820312 L 357.066406 288.875 \"/>\n",
       "<path style=\"fill:none;stroke-width:1;stroke-linecap:butt;stroke-linejoin:miter;stroke:rgb(26.666667%,26.666667%,26.666667%);stroke-opacity:1;stroke-miterlimit:10;\" d=\"M 165.03125 249.332031 L 155.730469 271.503906 \"/>\n",
       "<path style=\" stroke:none;fill-rule:nonzero;fill:rgb(26.666667%,26.666667%,26.666667%);fill-opacity:1;\" d=\"M 150.210938 284.660156 L 151.453125 269.710938 L 160.003906 273.296875 L 150.210938 284.660156 \"/>\n",
       "<path style=\"fill:none;stroke-width:1;stroke-linecap:butt;stroke-linejoin:miter;stroke:rgb(26.666667%,26.666667%,26.666667%);stroke-opacity:1;stroke-miterlimit:10;\" d=\"M 196.882812 171.464844 C 189.621094 157.964844 189.421875 142.046875 202.386719 135.085938 \"/>\n",
       "<path style=\" stroke:none;fill-rule:nonzero;fill:rgb(26.666667%,26.666667%,26.666667%);fill-opacity:1;\" d=\"M 214.953125 128.339844 L 204.578125 139.167969 L 200.191406 131 L 214.953125 128.339844 \"/>\n",
       "<path style=\"fill:none;stroke-width:1;stroke-linecap:butt;stroke-linejoin:miter;stroke:rgb(26.666667%,26.666667%,26.666667%);stroke-opacity:1;stroke-miterlimit:10;\" d=\"M 491.308594 359.953125 L 488.46875 321.636719 \"/>\n",
       "<path style=\" stroke:none;fill-rule:nonzero;fill:rgb(26.666667%,26.666667%,26.666667%);fill-opacity:1;\" d=\"M 487.414062 307.410156 L 493.089844 321.292969 L 483.84375 321.980469 L 487.414062 307.410156 \"/>\n",
       "<path style=\"fill:none;stroke-width:1;stroke-linecap:butt;stroke-linejoin:miter;stroke:rgb(26.666667%,26.666667%,26.666667%);stroke-opacity:1;stroke-miterlimit:10;\" d=\"M 491.308594 359.953125 L 502.660156 402.523438 \"/>\n",
       "<path style=\" stroke:none;fill-rule:nonzero;fill:rgb(26.666667%,26.666667%,26.666667%);fill-opacity:1;\" d=\"M 506.335938 416.308594 L 498.183594 403.71875 L 507.140625 401.328125 L 506.335938 416.308594 \"/>\n",
       "<path style=\"fill:none;stroke-width:1;stroke-linecap:butt;stroke-linejoin:miter;stroke:rgb(26.666667%,26.666667%,26.666667%);stroke-opacity:1;stroke-miterlimit:10;\" d=\"M 491.308594 359.953125 L 556.042969 349.5 \"/>\n",
       "<path style=\" stroke:none;fill-rule:nonzero;fill:rgb(26.666667%,26.666667%,26.666667%);fill-opacity:1;\" d=\"M 570.128906 347.226562 L 556.785156 354.074219 L 555.304688 344.925781 L 570.128906 347.226562 \"/>\n",
       "<path style=\"fill:none;stroke-width:1;stroke-linecap:butt;stroke-linejoin:miter;stroke:rgb(26.666667%,26.666667%,26.666667%);stroke-opacity:1;stroke-miterlimit:10;\" d=\"M 359.007812 206.539062 L 429.019531 234.117188 \"/>\n",
       "<path style=\" stroke:none;fill-rule:nonzero;fill:rgb(26.666667%,26.666667%,26.666667%);fill-opacity:1;\" d=\"M 442.292969 239.34375 L 427.320312 238.429688 L 430.71875 229.804688 L 442.292969 239.34375 \"/>\n",
       "<path style=\"fill:none;stroke-width:1;stroke-linecap:butt;stroke-linejoin:miter;stroke:rgb(26.666667%,26.666667%,26.666667%);stroke-opacity:1;stroke-miterlimit:10;\" d=\"M 196.882812 171.464844 L 141.488281 214.390625 \"/>\n",
       "<path style=\" stroke:none;fill-rule:nonzero;fill:rgb(26.666667%,26.666667%,26.666667%);fill-opacity:1;\" d=\"M 130.210938 223.128906 L 138.648438 210.726562 L 144.324219 218.054688 L 130.210938 223.128906 \"/>\n",
       "<path style=\"fill:none;stroke-width:1;stroke-linecap:butt;stroke-linejoin:miter;stroke:rgb(26.666667%,26.666667%,26.666667%);stroke-opacity:1;stroke-miterlimit:10;\" d=\"M 264.132812 114.886719 L 309.296875 123.273438 \"/>\n",
       "<path style=\" stroke:none;fill-rule:nonzero;fill:rgb(26.666667%,26.666667%,26.666667%);fill-opacity:1;\" d=\"M 323.320312 125.878906 L 308.449219 127.828125 L 310.140625 118.714844 L 323.320312 125.878906 \"/>\n",
       "<path style=\"fill:none;stroke-width:1;stroke-linecap:butt;stroke-linejoin:miter;stroke:rgb(26.666667%,26.666667%,26.666667%);stroke-opacity:1;stroke-miterlimit:10;\" d=\"M 264.132812 114.886719 C 276.953125 110.710938 287.171875 100.402344 282.738281 88.410156 \"/>\n",
       "<path style=\" stroke:none;fill-rule:nonzero;fill:rgb(26.666667%,26.666667%,26.666667%);fill-opacity:1;\" d=\"M 277.792969 75.027344 L 287.085938 86.800781 L 278.390625 90.015625 L 277.792969 75.027344 \"/>\n",
       "<path style=\"fill:none;stroke-width:1;stroke-linecap:butt;stroke-linejoin:miter;stroke:rgb(26.666667%,26.666667%,26.666667%);stroke-opacity:1;stroke-miterlimit:10;\" d=\"M 264.132812 114.886719 C 253.964844 106.027344 248.597656 92.542969 257.371094 83.238281 \"/>\n",
       "<path style=\" stroke:none;fill-rule:nonzero;fill:rgb(26.666667%,26.666667%,26.666667%);fill-opacity:1;\" d=\"M 267.15625 72.863281 L 260.742188 86.421875 L 253.996094 80.058594 L 267.15625 72.863281 \"/>\n",
       "<path style=\"fill:none;stroke-width:1;stroke-linecap:butt;stroke-linejoin:miter;stroke:rgb(26.666667%,26.666667%,26.666667%);stroke-opacity:1;stroke-miterlimit:10;\" d=\"M 471.859375 313.171875 L 458.332031 266.320312 \"/>\n",
       "<path style=\" stroke:none;fill-rule:nonzero;fill:rgb(26.666667%,26.666667%,26.666667%);fill-opacity:1;\" d=\"M 454.371094 252.617188 L 462.785156 265.035156 L 453.878906 267.609375 L 454.371094 252.617188 \"/>\n",
       "<path style=\"fill:none;stroke-width:1;stroke-linecap:butt;stroke-linejoin:miter;stroke:rgb(26.666667%,26.666667%,26.666667%);stroke-opacity:1;stroke-miterlimit:10;\" d=\"M 421.101562 377.226562 C 434.035156 363.355469 438.777344 345.261719 425.964844 331.972656 \"/>\n",
       "<path style=\" stroke:none;fill-rule:nonzero;fill:rgb(26.666667%,26.666667%,26.666667%);fill-opacity:1;\" d=\"M 416.0625 321.703125 L 429.300781 328.757812 L 422.628906 335.191406 L 416.0625 321.703125 \"/>\n",
       "<path style=\"fill:none;stroke-width:1;stroke-linecap:butt;stroke-linejoin:miter;stroke:rgb(26.666667%,26.666667%,26.666667%);stroke-opacity:1;stroke-miterlimit:10;\" d=\"M 479.53125 437.730469 L 475.777344 442.039062 \"/>\n",
       "<path style=\" stroke:none;fill-rule:nonzero;fill:rgb(26.666667%,26.666667%,26.666667%);fill-opacity:1;\" d=\"M 466.410156 452.796875 L 472.28125 438.996094 L 479.273438 445.085938 L 466.410156 452.796875 \"/>\n",
       "<path style=\"fill:none;stroke-width:1;stroke-linecap:butt;stroke-linejoin:miter;stroke:rgb(26.666667%,26.666667%,26.666667%);stroke-opacity:1;stroke-miterlimit:10;\" d=\"M 522.394531 362.648438 C 531.207031 341.304688 528.632812 319.554688 508.578125 308.980469 \"/>\n",
       "<path style=\" stroke:none;fill-rule:nonzero;fill:rgb(26.666667%,26.666667%,26.666667%);fill-opacity:1;\" d=\"M 495.957031 302.328125 L 510.738281 304.878906 L 506.414062 313.082031 L 495.957031 302.328125 \"/>\n",
       "<path style=\"fill:none;stroke-width:1;stroke-linecap:butt;stroke-linejoin:miter;stroke:rgb(26.666667%,26.666667%,26.666667%);stroke-opacity:1;stroke-miterlimit:10;\" d=\"M 287.089844 388.289062 L 319.558594 383.117188 \"/>\n",
       "<path style=\" stroke:none;fill-rule:nonzero;fill:rgb(26.666667%,26.666667%,26.666667%);fill-opacity:1;\" d=\"M 333.648438 380.871094 L 320.289062 387.695312 L 318.832031 378.539062 L 333.648438 380.871094 \"/>\n",
       "<path style=\"fill:none;stroke-width:1;stroke-linecap:butt;stroke-linejoin:miter;stroke:rgb(26.666667%,26.666667%,26.666667%);stroke-opacity:1;stroke-miterlimit:10;\" d=\"M 85.867188 293.339844 L 143.820312 261.121094 \"/>\n",
       "<path style=\" stroke:none;fill-rule:nonzero;fill:rgb(26.666667%,26.666667%,26.666667%);fill-opacity:1;\" d=\"M 156.289062 254.191406 L 146.074219 265.175781 L 141.570312 257.070312 L 156.289062 254.191406 \"/>\n",
       "<path style=\"fill:none;stroke-width:1;stroke-linecap:butt;stroke-linejoin:miter;stroke:rgb(26.666667%,26.666667%,26.666667%);stroke-opacity:1;stroke-miterlimit:10;\" d=\"M 149.992188 77.3125 L 176.121094 96.828125 \"/>\n",
       "<path style=\" stroke:none;fill-rule:nonzero;fill:rgb(26.666667%,26.666667%,26.666667%);fill-opacity:1;\" d=\"M 187.550781 105.363281 L 173.347656 100.542969 L 178.894531 93.113281 L 187.550781 105.363281 \"/>\n",
       "<path style=\"fill:none;stroke-width:1;stroke-linecap:butt;stroke-linejoin:miter;stroke:rgb(26.666667%,26.666667%,26.666667%);stroke-opacity:1;stroke-miterlimit:10;\" d=\"M 149.992188 77.3125 L 134.199219 98.335938 \"/>\n",
       "<path style=\" stroke:none;fill-rule:nonzero;fill:rgb(26.666667%,26.666667%,26.666667%);fill-opacity:1;\" d=\"M 125.628906 109.742188 L 130.492188 95.550781 L 137.90625 101.121094 L 125.628906 109.742188 \"/>\n",
       "<path style=\"fill:none;stroke-width:1;stroke-linecap:butt;stroke-linejoin:miter;stroke:rgb(26.666667%,26.666667%,26.666667%);stroke-opacity:1;stroke-miterlimit:10;\" d=\"M 184.039062 209.855469 C 173.175781 209.578125 161.867188 215.003906 162.785156 224.964844 \"/>\n",
       "<path style=\" stroke:none;fill-rule:nonzero;fill:rgb(26.666667%,26.666667%,26.666667%);fill-opacity:1;\" d=\"M 164.09375 239.171875 L 158.167969 225.390625 L 167.402344 224.539062 L 164.09375 239.171875 \"/>\n",
       "<path style=\"fill:none;stroke-width:1;stroke-linecap:butt;stroke-linejoin:miter;stroke:rgb(26.666667%,26.666667%,26.666667%);stroke-opacity:1;stroke-miterlimit:10;\" d=\"M 479.53125 437.730469 L 486.386719 434.988281 \"/>\n",
       "<path style=\" stroke:none;fill-rule:nonzero;fill:rgb(26.666667%,26.666667%,26.666667%);fill-opacity:1;\" d=\"M 499.628906 429.6875 L 488.109375 439.289062 L 484.664062 430.683594 L 499.628906 429.6875 \"/>\n",
       "<path style=\"fill:none;stroke-width:1;stroke-linecap:butt;stroke-linejoin:miter;stroke:rgb(26.666667%,26.666667%,26.666667%);stroke-opacity:1;stroke-miterlimit:10;\" d=\"M 184.039062 209.855469 L 175.554688 227.46875 \"/>\n",
       "<path style=\" stroke:none;fill-rule:nonzero;fill:rgb(26.666667%,26.666667%,26.666667%);fill-opacity:1;\" d=\"M 169.367188 240.324219 L 171.378906 225.457031 L 179.734375 229.480469 L 169.367188 240.324219 \"/>\n",
       "<path style=\"fill:none;stroke-width:1;stroke-linecap:butt;stroke-linejoin:miter;stroke:rgb(26.666667%,26.666667%,26.666667%);stroke-opacity:1;stroke-miterlimit:10;\" d=\"M 144.371094 186.488281 L 163.128906 197.539062 \"/>\n",
       "<path style=\" stroke:none;fill-rule:nonzero;fill:rgb(26.666667%,26.666667%,26.666667%);fill-opacity:1;\" d=\"M 175.421875 204.777344 L 160.777344 201.53125 L 165.480469 193.542969 L 175.421875 204.777344 \"/>\n",
       "<path style=\"fill:none;stroke-width:1;stroke-linecap:butt;stroke-linejoin:miter;stroke:rgb(26.666667%,26.666667%,26.666667%);stroke-opacity:1;stroke-miterlimit:10;\" d=\"M 144.371094 186.488281 C 163.113281 192.726562 176.308594 206.832031 171.367188 225.453125 \"/>\n",
       "<path style=\" stroke:none;fill-rule:nonzero;fill:rgb(26.666667%,26.666667%,26.666667%);fill-opacity:1;\" d=\"M 167.707031 239.242188 L 166.886719 224.265625 L 175.847656 226.640625 L 167.707031 239.242188 \"/>\n",
       "<path style=\"fill:none;stroke-width:1;stroke-linecap:butt;stroke-linejoin:miter;stroke:rgb(26.666667%,26.666667%,26.666667%);stroke-opacity:1;stroke-miterlimit:10;\" d=\"M 144.371094 186.488281 C 132.992188 202.628906 130.734375 221.808594 145.761719 233.867188 \"/>\n",
       "<path style=\" stroke:none;fill-rule:nonzero;fill:rgb(26.666667%,26.666667%,26.666667%);fill-opacity:1;\" d=\"M 156.886719 242.796875 L 142.859375 237.484375 L 148.664062 230.253906 L 156.886719 242.796875 \"/>\n",
       "<path style=\"fill:none;stroke-width:1;stroke-linecap:butt;stroke-linejoin:miter;stroke:rgb(26.666667%,26.666667%,26.666667%);stroke-opacity:1;stroke-miterlimit:10;\" d=\"M 144.371094 186.488281 L 127.84375 140.566406 \"/>\n",
       "<path style=\" stroke:none;fill-rule:nonzero;fill:rgb(26.666667%,26.666667%,26.666667%);fill-opacity:1;\" d=\"M 123.011719 127.144531 L 132.203125 138.996094 L 123.480469 142.136719 L 123.011719 127.144531 \"/>\n",
       "<path style=\"fill:none;stroke-width:1;stroke-linecap:butt;stroke-linejoin:miter;stroke:rgb(26.666667%,26.666667%,26.666667%);stroke-opacity:1;stroke-miterlimit:10;\" d=\"M 317.628906 475.4375 L 337.710938 425.292969 \"/>\n",
       "<path style=\" stroke:none;fill-rule:nonzero;fill:rgb(26.666667%,26.666667%,26.666667%);fill-opacity:1;\" d=\"M 343.011719 412.050781 L 342.011719 427.015625 L 333.40625 423.570312 L 343.011719 412.050781 \"/>\n",
       "<path style=\"fill:none;stroke-width:1;stroke-linecap:butt;stroke-linejoin:miter;stroke:rgb(26.666667%,26.666667%,26.666667%);stroke-opacity:1;stroke-miterlimit:10;\" d=\"M 252.664062 341.210938 C 253.054688 354.242188 246.960938 367.042969 234.648438 366.792969 \"/>\n",
       "<path style=\" stroke:none;fill-rule:nonzero;fill:rgb(26.666667%,26.666667%,26.666667%);fill-opacity:1;\" d=\"M 220.386719 366.503906 L 234.742188 362.160156 L 234.554688 371.429688 L 220.386719 366.503906 \"/>\n",
       "<path style=\"fill:none;stroke-width:1;stroke-linecap:butt;stroke-linejoin:miter;stroke:rgb(26.666667%,26.666667%,26.666667%);stroke-opacity:1;stroke-miterlimit:10;\" d=\"M 343.523438 379.296875 L 391.640625 331.332031 \"/>\n",
       "<path style=\" stroke:none;fill-rule:nonzero;fill:rgb(26.666667%,26.666667%,26.666667%);fill-opacity:1;\" d=\"M 401.742188 321.257812 L 394.914062 334.613281 L 388.367188 328.046875 L 401.742188 321.257812 \"/>\n",
       "<path style=\"fill:none;stroke-width:1;stroke-linecap:butt;stroke-linejoin:miter;stroke:rgb(26.666667%,26.666667%,26.666667%);stroke-opacity:1;stroke-miterlimit:10;\" d=\"M 343.523438 379.296875 L 275.042969 350.59375 \"/>\n",
       "<path style=\" stroke:none;fill-rule:nonzero;fill:rgb(26.666667%,26.666667%,26.666667%);fill-opacity:1;\" d=\"M 261.886719 345.078125 L 276.832031 346.316406 L 273.25 354.867188 L 261.886719 345.078125 \"/>\n",
       "<path style=\"fill:none;stroke-width:1;stroke-linecap:butt;stroke-linejoin:miter;stroke:rgb(26.666667%,26.666667%,26.666667%);stroke-opacity:1;stroke-miterlimit:10;\" d=\"M 74.15625 356.089844 L 57.433594 387.378906 \"/>\n",
       "<path style=\" stroke:none;fill-rule:nonzero;fill:rgb(26.666667%,26.666667%,26.666667%);fill-opacity:1;\" d=\"M 50.710938 399.960938 L 53.347656 385.195312 L 61.523438 389.566406 L 50.710938 399.960938 \"/>\n",
       "<path style=\"fill:none;stroke-width:1;stroke-linecap:butt;stroke-linejoin:miter;stroke:rgb(26.666667%,26.666667%,26.666667%);stroke-opacity:1;stroke-miterlimit:10;\" d=\"M 74.15625 356.089844 L 80.214844 377.40625 \"/>\n",
       "<path style=\" stroke:none;fill-rule:nonzero;fill:rgb(26.666667%,26.666667%,26.666667%);fill-opacity:1;\" d=\"M 84.113281 391.128906 L 75.753906 378.671875 L 84.671875 376.140625 L 84.113281 391.128906 \"/>\n",
       "<path style=\"fill:none;stroke-width:1;stroke-linecap:butt;stroke-linejoin:miter;stroke:rgb(26.666667%,26.666667%,26.666667%);stroke-opacity:1;stroke-miterlimit:10;\" d=\"M 408.824219 314.199219 L 415.5 334.554688 \"/>\n",
       "<path style=\" stroke:none;fill-rule:nonzero;fill:rgb(26.666667%,26.666667%,26.666667%);fill-opacity:1;\" d=\"M 419.945312 348.113281 L 411.09375 336 L 419.902344 333.113281 L 419.945312 348.113281 \"/>\n",
       "<path style=\"fill:none;stroke-width:1;stroke-linecap:butt;stroke-linejoin:miter;stroke:rgb(26.666667%,26.666667%,26.666667%);stroke-opacity:1;stroke-miterlimit:10;\" d=\"M 408.824219 314.199219 L 375.867188 333.03125 \"/>\n",
       "<path style=\" stroke:none;fill-rule:nonzero;fill:rgb(26.666667%,26.666667%,26.666667%);fill-opacity:1;\" d=\"M 363.480469 340.109375 L 373.566406 329.007812 L 378.164062 337.054688 L 363.480469 340.109375 \"/>\n",
       "<path style=\"fill:none;stroke-width:1;stroke-linecap:butt;stroke-linejoin:miter;stroke:rgb(26.666667%,26.666667%,26.666667%);stroke-opacity:1;stroke-miterlimit:10;\" d=\"M 408.824219 314.199219 L 473.238281 271.027344 \"/>\n",
       "<path style=\" stroke:none;fill-rule:nonzero;fill:rgb(26.666667%,26.666667%,26.666667%);fill-opacity:1;\" d=\"M 485.089844 263.085938 L 475.820312 274.878906 L 470.660156 267.175781 L 485.089844 263.085938 \"/>\n",
       "<path style=\"fill:none;stroke-width:1;stroke-linecap:butt;stroke-linejoin:miter;stroke:rgb(26.666667%,26.666667%,26.666667%);stroke-opacity:1;stroke-miterlimit:10;\" d=\"M 74.15625 356.089844 C 69.996094 364.625 60.757812 371.5 53.882812 366.492188 \"/>\n",
       "<path style=\" stroke:none;fill-rule:nonzero;fill:rgb(26.666667%,26.666667%,26.666667%);fill-opacity:1;\" d=\"M 42.351562 358.089844 L 56.609375 362.742188 L 51.152344 370.238281 L 42.351562 358.089844 \"/>\n",
       "<path style=\"fill:none;stroke-width:1;stroke-linecap:butt;stroke-linejoin:miter;stroke:rgb(26.666667%,26.666667%,26.666667%);stroke-opacity:1;stroke-miterlimit:10;\" d=\"M 423.058594 357.613281 L 469.046875 314.113281 \"/>\n",
       "<path style=\" stroke:none;fill-rule:nonzero;fill:rgb(26.666667%,26.666667%,26.666667%);fill-opacity:1;\" d=\"M 479.410156 304.308594 L 472.230469 317.480469 L 465.859375 310.746094 L 479.410156 304.308594 \"/>\n",
       "<path style=\"fill:none;stroke-width:1;stroke-linecap:butt;stroke-linejoin:miter;stroke:rgb(26.666667%,26.666667%,26.666667%);stroke-opacity:1;stroke-miterlimit:10;\" d=\"M 350.804688 296.460938 C 330.59375 274.46875 324.859375 247.925781 343.667969 225.128906 \"/>\n",
       "<path style=\" stroke:none;fill-rule:nonzero;fill:rgb(26.666667%,26.666667%,26.666667%);fill-opacity:1;\" d=\"M 352.75 214.128906 L 347.246094 228.082031 L 340.09375 222.179688 L 352.75 214.128906 \"/>\n",
       "<path style=\"fill:none;stroke-width:1;stroke-linecap:butt;stroke-linejoin:miter;stroke:rgb(26.666667%,26.666667%,26.666667%);stroke-opacity:1;stroke-miterlimit:10;\" d=\"M 350.804688 296.460938 C 353.546875 317.664062 368.066406 332.542969 386.722656 324.148438 \"/>\n",
       "<path style=\" stroke:none;fill-rule:nonzero;fill:rgb(26.666667%,26.666667%,26.666667%);fill-opacity:1;\" d=\"M 399.730469 318.292969 L 388.625 328.375 L 384.820312 319.921875 L 399.730469 318.292969 \"/>\n",
       "<path style=\"fill:none;stroke-width:1;stroke-linecap:butt;stroke-linejoin:miter;stroke:rgb(26.666667%,26.666667%,26.666667%);stroke-opacity:1;stroke-miterlimit:10;\" d=\"M 350.804688 296.460938 C 364.933594 280.417969 385.292969 276.199219 396.0625 293.59375 \"/>\n",
       "<path style=\" stroke:none;fill-rule:nonzero;fill:rgb(26.666667%,26.666667%,26.666667%);fill-opacity:1;\" d=\"M 403.574219 305.722656 L 392.121094 296.03125 L 400.003906 291.152344 L 403.574219 305.722656 \"/>\n",
       "<path style=\"fill:none;stroke-width:1;stroke-linecap:butt;stroke-linejoin:miter;stroke:rgb(26.666667%,26.666667%,26.666667%);stroke-opacity:1;stroke-miterlimit:10;\" d=\"M 470.066406 372.128906 L 494.714844 406.292969 \"/>\n",
       "<path style=\" stroke:none;fill-rule:nonzero;fill:rgb(26.666667%,26.666667%,26.666667%);fill-opacity:1;\" d=\"M 503.0625 417.859375 L 490.957031 409.003906 L 498.472656 403.582031 L 503.0625 417.859375 \"/>\n",
       "<path style=\"fill-rule:nonzero;fill:rgb(0%,0%,0%);fill-opacity:1;stroke-width:1;stroke-linecap:butt;stroke-linejoin:miter;stroke:rgb(0%,0%,0%);stroke-opacity:1;stroke-miterlimit:10;\" d=\"M 590 345.632812 C 590 351.152344 585.523438 355.632812 580 355.632812 C 574.476562 355.632812 570 351.152344 570 345.632812 C 570 340.109375 574.476562 335.632812 580 335.632812 C 585.523438 335.632812 590 340.109375 590 345.632812 \"/>\n",
       "<path style=\"fill-rule:nonzero;fill:rgb(0%,0%,0%);fill-opacity:1;stroke-width:1;stroke-linecap:butt;stroke-linejoin:miter;stroke:rgb(0%,0%,0%);stroke-opacity:1;stroke-miterlimit:10;\" d=\"M 518.914062 425.972656 C 518.914062 431.492188 514.4375 435.972656 508.914062 435.972656 C 503.390625 435.972656 498.914062 431.492188 498.914062 425.972656 C 498.914062 420.449219 503.390625 415.972656 508.914062 415.972656 C 514.4375 415.972656 518.914062 420.449219 518.914062 425.972656 \"/>\n",
       "<path style=\"fill-rule:nonzero;fill:rgb(0%,0%,100%);fill-opacity:1;stroke-width:1;stroke-linecap:butt;stroke-linejoin:miter;stroke:rgb(0%,0%,0%);stroke-opacity:1;stroke-miterlimit:10;\" d=\"M 95.289062 230.210938 C 95.289062 235.734375 90.8125 240.210938 85.289062 240.210938 C 79.765625 240.210938 75.289062 235.734375 75.289062 230.210938 C 75.289062 224.6875 79.765625 220.210938 85.289062 220.210938 C 90.8125 220.210938 95.289062 224.6875 95.289062 230.210938 \"/>\n",
       "<path style=\"fill-rule:nonzero;fill:rgb(100%,64.705882%,0%);fill-opacity:1;stroke-width:1;stroke-linecap:butt;stroke-linejoin:miter;stroke:rgb(0%,0%,0%);stroke-opacity:1;stroke-miterlimit:10;\" d=\"M 156.34375 293.882812 C 156.34375 299.40625 151.863281 303.882812 146.34375 303.882812 C 140.820312 303.882812 136.34375 299.40625 136.34375 293.882812 C 136.34375 288.359375 140.820312 283.882812 146.34375 283.882812 C 151.863281 283.882812 156.34375 288.359375 156.34375 293.882812 \"/>\n",
       "<path style=\"fill-rule:nonzero;fill:rgb(0%,0%,0%);fill-opacity:1;stroke-width:1;stroke-linecap:butt;stroke-linejoin:miter;stroke:rgb(0%,0%,0%);stroke-opacity:1;stroke-miterlimit:10;\" d=\"M 129.625 117.734375 C 129.625 123.257812 125.144531 127.734375 119.625 127.734375 C 114.101562 127.734375 109.625 123.257812 109.625 117.734375 C 109.625 112.214844 114.101562 107.734375 119.625 107.734375 C 125.144531 107.734375 129.625 112.214844 129.625 117.734375 \"/>\n",
       "<path style=\"fill-rule:nonzero;fill:rgb(62.745098%,12.54902%,94.117647%);fill-opacity:1;stroke-width:1;stroke-linecap:butt;stroke-linejoin:miter;stroke:rgb(0%,0%,0%);stroke-opacity:1;stroke-miterlimit:10;\" d=\"M 480.066406 372.128906 C 480.066406 377.652344 475.589844 382.128906 470.066406 382.128906 C 464.542969 382.128906 460.066406 377.652344 460.066406 372.128906 C 460.066406 366.605469 464.542969 362.128906 470.066406 362.128906 C 475.589844 362.128906 480.066406 366.605469 480.066406 372.128906 \"/>\n",
       "<path style=\"fill-rule:nonzero;fill:rgb(0%,0%,100%);fill-opacity:1;stroke-width:1;stroke-linecap:butt;stroke-linejoin:miter;stroke:rgb(0%,0%,0%);stroke-opacity:1;stroke-miterlimit:10;\" d=\"M 430.054688 399.796875 C 430.054688 405.320312 425.574219 409.796875 420.054688 409.796875 C 414.53125 409.796875 410.054688 405.320312 410.054688 399.796875 C 410.054688 394.277344 414.53125 389.796875 420.054688 389.796875 C 425.574219 389.796875 430.054688 394.277344 430.054688 399.796875 \"/>\n",
       "<path style=\"fill-rule:nonzero;fill:rgb(0%,0%,100%);fill-opacity:1;stroke-width:1;stroke-linecap:butt;stroke-linejoin:miter;stroke:rgb(0%,0%,0%);stroke-opacity:1;stroke-miterlimit:10;\" d=\"M 166.679688 202.402344 C 166.679688 207.925781 162.203125 212.402344 156.679688 212.402344 C 151.15625 212.402344 146.679688 207.925781 146.679688 202.402344 C 146.679688 196.878906 151.15625 192.402344 156.679688 192.402344 C 162.203125 192.402344 166.679688 196.878906 166.679688 202.402344 \"/>\n",
       "<path style=\"fill-rule:nonzero;fill:rgb(100%,0%,0%);fill-opacity:1;stroke-width:1;stroke-linecap:butt;stroke-linejoin:miter;stroke:rgb(0%,0%,0%);stroke-opacity:1;stroke-miterlimit:10;\" d=\"M 332.296875 320.695312 C 332.296875 326.21875 327.820312 330.695312 322.296875 330.695312 C 316.773438 330.695312 312.296875 326.21875 312.296875 320.695312 C 312.296875 315.171875 316.773438 310.695312 322.296875 310.695312 C 327.820312 310.695312 332.296875 315.171875 332.296875 320.695312 \"/>\n",
       "<path style=\"fill-rule:nonzero;fill:rgb(100%,0%,0%);fill-opacity:1;stroke-width:1;stroke-linecap:butt;stroke-linejoin:miter;stroke:rgb(0%,0%,0%);stroke-opacity:1;stroke-miterlimit:10;\" d=\"M 176.097656 153.316406 C 176.097656 158.839844 171.621094 163.316406 166.097656 163.316406 C 160.578125 163.316406 156.097656 158.839844 156.097656 153.316406 C 156.097656 147.796875 160.578125 143.316406 166.097656 143.316406 C 171.621094 143.316406 176.097656 147.796875 176.097656 153.316406 \"/>\n",
       "<path style=\"fill-rule:nonzero;fill:rgb(100%,0%,0%);fill-opacity:1;stroke-width:1;stroke-linecap:butt;stroke-linejoin:miter;stroke:rgb(0%,0%,0%);stroke-opacity:1;stroke-miterlimit:10;\" d=\"M 467.375 220.320312 C 467.375 225.84375 462.894531 230.320312 457.375 230.320312 C 451.851562 230.320312 447.375 225.84375 447.375 220.320312 C 447.375 214.796875 451.851562 210.320312 457.375 210.320312 C 462.894531 210.320312 467.375 214.796875 467.375 220.320312 \"/>\n",
       "<path style=\"fill-rule:nonzero;fill:rgb(0%,0%,0%);fill-opacity:1;stroke-width:1;stroke-linecap:butt;stroke-linejoin:miter;stroke:rgb(0%,0%,0%);stroke-opacity:1;stroke-miterlimit:10;\" d=\"M 397.417969 20 C 397.417969 25.523438 392.941406 30 387.417969 30 C 381.894531 30 377.417969 25.523438 377.417969 20 C 377.417969 14.476562 381.894531 10 387.417969 10 C 392.941406 10 397.417969 14.476562 397.417969 20 \"/>\n",
       "<path style=\"fill-rule:nonzero;fill:rgb(62.745098%,12.54902%,94.117647%);fill-opacity:1;stroke-width:1;stroke-linecap:butt;stroke-linejoin:miter;stroke:rgb(0%,0%,0%);stroke-opacity:1;stroke-miterlimit:10;\" d=\"M 175.03125 249.332031 C 175.03125 254.855469 170.554688 259.332031 165.03125 259.332031 C 159.507812 259.332031 155.03125 254.855469 155.03125 249.332031 C 155.03125 243.808594 159.507812 239.332031 165.03125 239.332031 C 170.554688 239.332031 175.03125 243.808594 175.03125 249.332031 \"/>\n",
       "<path style=\"fill-rule:nonzero;fill:rgb(100%,64.705882%,0%);fill-opacity:1;stroke-width:1;stroke-linecap:butt;stroke-linejoin:miter;stroke:rgb(0%,0%,0%);stroke-opacity:1;stroke-miterlimit:10;\" d=\"M 206.882812 171.464844 C 206.882812 176.988281 202.40625 181.464844 196.882812 181.464844 C 191.359375 181.464844 186.882812 176.988281 186.882812 171.464844 C 186.882812 165.945312 191.359375 161.464844 196.882812 161.464844 C 202.40625 161.464844 206.882812 165.945312 206.882812 171.464844 \"/>\n",
       "<path style=\"fill-rule:nonzero;fill:rgb(100%,64.705882%,0%);fill-opacity:1;stroke-width:1;stroke-linecap:butt;stroke-linejoin:miter;stroke:rgb(0%,0%,0%);stroke-opacity:1;stroke-miterlimit:10;\" d=\"M 496.675781 297.4375 C 496.675781 302.960938 492.195312 307.4375 486.675781 307.4375 C 481.152344 307.4375 476.675781 302.960938 476.675781 297.4375 C 476.675781 291.914062 481.152344 287.4375 486.675781 287.4375 C 492.195312 287.4375 496.675781 291.914062 496.675781 297.4375 \"/>\n",
       "<path style=\"fill-rule:nonzero;fill:rgb(0%,0%,100%);fill-opacity:1;stroke-width:1;stroke-linecap:butt;stroke-linejoin:miter;stroke:rgb(0%,0%,0%);stroke-opacity:1;stroke-miterlimit:10;\" d=\"M 460.484375 358.285156 C 460.484375 363.808594 456.007812 368.285156 450.484375 368.285156 C 444.960938 368.285156 440.484375 363.808594 440.484375 358.285156 C 440.484375 352.761719 444.960938 348.285156 450.484375 348.285156 C 456.007812 348.285156 460.484375 352.761719 460.484375 358.285156 \"/>\n",
       "<path style=\"fill-rule:nonzero;fill:rgb(100%,64.705882%,0%);fill-opacity:1;stroke-width:1;stroke-linecap:butt;stroke-linejoin:miter;stroke:rgb(0%,0%,0%);stroke-opacity:1;stroke-miterlimit:10;\" d=\"M 262.664062 341.210938 C 262.664062 346.734375 258.183594 351.210938 252.664062 351.210938 C 247.140625 351.210938 242.664062 346.734375 242.664062 341.210938 C 242.664062 335.6875 247.140625 331.210938 252.664062 331.210938 C 258.183594 331.210938 262.664062 335.6875 262.664062 341.210938 \"/>\n",
       "<path style=\"fill-rule:nonzero;fill:rgb(62.745098%,12.54902%,94.117647%);fill-opacity:1;stroke-width:1;stroke-linecap:butt;stroke-linejoin:miter;stroke:rgb(0%,0%,0%);stroke-opacity:1;stroke-miterlimit:10;\" d=\"M 360.804688 296.460938 C 360.804688 301.984375 356.328125 306.460938 350.804688 306.460938 C 345.28125 306.460938 340.804688 301.984375 340.804688 296.460938 C 340.804688 290.9375 345.28125 286.460938 350.804688 286.460938 C 356.328125 286.460938 360.804688 290.9375 360.804688 296.460938 \"/>\n",
       "<path style=\"fill-rule:nonzero;fill:rgb(0%,0%,100%);fill-opacity:1;stroke-width:1;stroke-linecap:butt;stroke-linejoin:miter;stroke:rgb(0%,0%,0%);stroke-opacity:1;stroke-miterlimit:10;\" d=\"M 475.390625 510.625 C 475.390625 516.148438 470.910156 520.625 465.390625 520.625 C 459.867188 520.625 455.390625 516.148438 455.390625 510.625 C 455.390625 505.101562 459.867188 500.625 465.390625 500.625 C 470.910156 500.625 475.390625 505.101562 475.390625 510.625 \"/>\n",
       "<path style=\"fill-rule:nonzero;fill:rgb(0%,0%,100%);fill-opacity:1;stroke-width:1;stroke-linecap:butt;stroke-linejoin:miter;stroke:rgb(0%,0%,0%);stroke-opacity:1;stroke-miterlimit:10;\" d=\"M 509.78125 390.710938 C 509.78125 396.230469 505.304688 400.710938 499.78125 400.710938 C 494.257812 400.710938 489.78125 396.230469 489.78125 390.710938 C 489.78125 385.1875 494.257812 380.710938 499.78125 380.710938 C 505.304688 380.710938 509.78125 385.1875 509.78125 390.710938 \"/>\n",
       "<path style=\"fill-rule:nonzero;fill:rgb(62.745098%,12.54902%,94.117647%);fill-opacity:1;stroke-width:1;stroke-linecap:butt;stroke-linejoin:miter;stroke:rgb(0%,0%,0%);stroke-opacity:1;stroke-miterlimit:10;\" d=\"M 519.289062 340.648438 C 519.289062 346.171875 514.8125 350.648438 509.289062 350.648438 C 503.765625 350.648438 499.289062 346.171875 499.289062 340.648438 C 499.289062 335.125 503.765625 330.648438 509.289062 330.648438 C 514.8125 330.648438 519.289062 335.125 519.289062 340.648438 \"/>\n",
       "<path style=\"fill-rule:nonzero;fill:rgb(62.745098%,12.54902%,94.117647%);fill-opacity:1;stroke-width:1;stroke-linecap:butt;stroke-linejoin:miter;stroke:rgb(0%,0%,0%);stroke-opacity:1;stroke-miterlimit:10;\" d=\"M 84.15625 356.089844 C 84.15625 361.613281 79.679688 366.089844 74.15625 366.089844 C 68.632812 366.089844 64.15625 361.613281 64.15625 356.089844 C 64.15625 350.566406 68.632812 346.089844 74.15625 346.089844 C 79.679688 346.089844 84.15625 350.566406 84.15625 356.089844 \"/>\n",
       "<path style=\"fill-rule:nonzero;fill:rgb(0%,0%,0%);fill-opacity:1;stroke-width:1;stroke-linecap:butt;stroke-linejoin:miter;stroke:rgb(0%,0%,0%);stroke-opacity:1;stroke-miterlimit:10;\" d=\"M 30 382.691406 C 30 388.214844 25.523438 392.691406 20 392.691406 C 14.476562 392.691406 10 388.214844 10 382.691406 C 10 377.171875 14.476562 372.691406 20 372.691406 C 25.523438 372.691406 30 377.171875 30 382.691406 \"/>\n",
       "<path style=\"fill-rule:nonzero;fill:rgb(0%,0%,0%);fill-opacity:1;stroke-width:1;stroke-linecap:butt;stroke-linejoin:miter;stroke:rgb(0%,0%,0%);stroke-opacity:1;stroke-miterlimit:10;\" d=\"M 253.292969 409.5625 C 253.292969 415.085938 248.816406 419.5625 243.292969 419.5625 C 237.773438 419.5625 233.292969 415.085938 233.292969 409.5625 C 233.292969 404.039062 237.773438 399.5625 243.292969 399.5625 C 248.816406 399.5625 253.292969 404.039062 253.292969 409.5625 \"/>\n",
       "<path style=\"fill-rule:nonzero;fill:rgb(0%,0%,0%);fill-opacity:1;stroke-width:1;stroke-linecap:butt;stroke-linejoin:miter;stroke:rgb(0%,0%,0%);stroke-opacity:1;stroke-miterlimit:10;\" d=\"M 353.523438 379.296875 C 353.523438 384.820312 349.046875 389.296875 343.523438 389.296875 C 338 389.296875 333.523438 384.820312 333.523438 379.296875 C 333.523438 373.777344 338 369.296875 343.523438 369.296875 C 349.046875 369.296875 353.523438 373.777344 353.523438 379.296875 \"/>\n",
       "<path style=\"fill-rule:nonzero;fill:rgb(0%,0%,0%);fill-opacity:1;stroke-width:1;stroke-linecap:butt;stroke-linejoin:miter;stroke:rgb(0%,0%,0%);stroke-opacity:1;stroke-miterlimit:10;\" d=\"M 154.371094 186.488281 C 154.371094 192.011719 149.894531 196.488281 144.371094 196.488281 C 138.851562 196.488281 134.371094 192.011719 134.371094 186.488281 C 134.371094 180.964844 138.851562 176.488281 144.371094 176.488281 C 149.894531 176.488281 154.371094 180.964844 154.371094 186.488281 \"/>\n",
       "<path style=\"fill-rule:nonzero;fill:rgb(62.745098%,12.54902%,94.117647%);fill-opacity:1;stroke-width:1;stroke-linecap:butt;stroke-linejoin:miter;stroke:rgb(0%,0%,0%);stroke-opacity:1;stroke-miterlimit:10;\" d=\"M 211.777344 403.765625 C 211.777344 409.285156 207.300781 413.765625 201.777344 413.765625 C 196.253906 413.765625 191.777344 409.285156 191.777344 403.765625 C 191.777344 398.242188 196.253906 393.765625 201.777344 393.765625 C 207.300781 393.765625 211.777344 398.242188 211.777344 403.765625 \"/>\n",
       "<path style=\"fill-rule:nonzero;fill:rgb(100%,64.705882%,0%);fill-opacity:1;stroke-width:1;stroke-linecap:butt;stroke-linejoin:miter;stroke:rgb(0%,0%,0%);stroke-opacity:1;stroke-miterlimit:10;\" d=\"M 194.039062 209.855469 C 194.039062 215.378906 189.558594 219.855469 184.039062 219.855469 C 178.515625 219.855469 174.039062 215.378906 174.039062 209.855469 C 174.039062 204.332031 178.515625 199.855469 184.039062 199.855469 C 189.558594 199.855469 194.039062 204.332031 194.039062 209.855469 \"/>\n",
       "<path style=\"fill-rule:nonzero;fill:rgb(0%,0%,0%);fill-opacity:1;stroke-width:1;stroke-linecap:butt;stroke-linejoin:miter;stroke:rgb(0%,0%,0%);stroke-opacity:1;stroke-miterlimit:10;\" d=\"M 159.992188 77.3125 C 159.992188 82.835938 155.515625 87.3125 149.992188 87.3125 C 144.46875 87.3125 139.992188 82.835938 139.992188 77.3125 C 139.992188 71.789062 144.46875 67.3125 149.992188 67.3125 C 155.515625 67.3125 159.992188 71.789062 159.992188 77.3125 \"/>\n",
       "<path style=\"fill-rule:nonzero;fill:rgb(100%,64.705882%,0%);fill-opacity:1;stroke-width:1;stroke-linecap:butt;stroke-linejoin:miter;stroke:rgb(0%,0%,0%);stroke-opacity:1;stroke-miterlimit:10;\" d=\"M 481.859375 313.171875 C 481.859375 318.695312 477.382812 323.171875 471.859375 323.171875 C 466.339844 323.171875 461.859375 318.695312 461.859375 313.171875 C 461.859375 307.648438 466.339844 303.171875 471.859375 303.171875 C 477.382812 303.171875 481.859375 307.648438 481.859375 313.171875 \"/>\n",
       "<path style=\"fill-rule:nonzero;fill:rgb(62.745098%,12.54902%,94.117647%);fill-opacity:1;stroke-width:1;stroke-linecap:butt;stroke-linejoin:miter;stroke:rgb(0%,0%,0%);stroke-opacity:1;stroke-miterlimit:10;\" d=\"M 532.394531 362.648438 C 532.394531 368.171875 527.917969 372.648438 522.394531 372.648438 C 516.871094 372.648438 512.394531 368.171875 512.394531 362.648438 C 512.394531 357.125 516.871094 352.648438 522.394531 352.648438 C 527.917969 352.648438 532.394531 357.125 532.394531 362.648438 \"/>\n",
       "<path style=\"fill-rule:nonzero;fill:rgb(100%,64.705882%,0%);fill-opacity:1;stroke-width:1;stroke-linecap:butt;stroke-linejoin:miter;stroke:rgb(0%,0%,0%);stroke-opacity:1;stroke-miterlimit:10;\" d=\"M 297.089844 388.289062 C 297.089844 393.8125 292.613281 398.289062 287.089844 398.289062 C 281.566406 398.289062 277.089844 393.8125 277.089844 388.289062 C 277.089844 382.765625 281.566406 378.289062 287.089844 378.289062 C 292.613281 378.289062 297.089844 382.765625 297.089844 388.289062 \"/>\n",
       "<path style=\"fill-rule:nonzero;fill:rgb(0%,0%,100%);fill-opacity:1;stroke-width:1;stroke-linecap:butt;stroke-linejoin:miter;stroke:rgb(0%,0%,0%);stroke-opacity:1;stroke-miterlimit:10;\" d=\"M 410.15625 429.726562 C 410.15625 435.25 405.679688 439.726562 400.15625 439.726562 C 394.632812 439.726562 390.15625 435.25 390.15625 429.726562 C 390.15625 424.203125 394.632812 419.726562 400.15625 419.726562 C 405.679688 419.726562 410.15625 424.203125 410.15625 429.726562 \"/>\n",
       "<path style=\"fill-rule:nonzero;fill:rgb(0%,0%,100%);fill-opacity:1;stroke-width:1;stroke-linecap:butt;stroke-linejoin:miter;stroke:rgb(0%,0%,0%);stroke-opacity:1;stroke-miterlimit:10;\" d=\"M 139.820312 520.675781 C 139.820312 526.199219 135.34375 530.675781 129.820312 530.675781 C 124.300781 530.675781 119.820312 526.199219 119.820312 520.675781 C 119.820312 515.152344 124.300781 510.675781 129.820312 510.675781 C 135.34375 510.675781 139.820312 515.152344 139.820312 520.675781 \"/>\n",
       "<path style=\"fill-rule:nonzero;fill:rgb(100%,0%,0%);fill-opacity:1;stroke-width:1;stroke-linecap:butt;stroke-linejoin:miter;stroke:rgb(0%,0%,0%);stroke-opacity:1;stroke-miterlimit:10;\" d=\"M 455.191406 280.832031 C 455.191406 286.355469 450.714844 290.832031 445.191406 290.832031 C 439.667969 290.832031 435.191406 286.355469 435.191406 280.832031 C 435.191406 275.308594 439.667969 270.832031 445.191406 270.832031 C 450.714844 270.832031 455.191406 275.308594 455.191406 280.832031 \"/>\n",
       "<path style=\"fill-rule:nonzero;fill:rgb(0%,0%,100%);fill-opacity:1;stroke-width:1;stroke-linecap:butt;stroke-linejoin:miter;stroke:rgb(0%,0%,0%);stroke-opacity:1;stroke-miterlimit:10;\" d=\"M 259.226562 277.636719 C 259.226562 283.15625 254.75 287.636719 249.226562 287.636719 C 243.703125 287.636719 239.226562 283.15625 239.226562 277.636719 C 239.226562 272.113281 243.703125 267.636719 249.226562 267.636719 C 254.75 267.636719 259.226562 272.113281 259.226562 277.636719 \"/>\n",
       "<path style=\"fill-rule:nonzero;fill:rgb(100%,64.705882%,0%);fill-opacity:1;stroke-width:1;stroke-linecap:butt;stroke-linejoin:miter;stroke:rgb(0%,0%,0%);stroke-opacity:1;stroke-miterlimit:10;\" d=\"M 95.867188 293.339844 C 95.867188 298.863281 91.390625 303.339844 85.867188 303.339844 C 80.347656 303.339844 75.867188 298.863281 75.867188 293.339844 C 75.867188 287.816406 80.347656 283.339844 85.867188 283.339844 C 91.390625 283.339844 95.867188 287.816406 95.867188 293.339844 \"/>\n",
       "<path style=\"fill-rule:nonzero;fill:rgb(0%,0%,0%);fill-opacity:1;stroke-width:1;stroke-linecap:butt;stroke-linejoin:miter;stroke:rgb(0%,0%,0%);stroke-opacity:1;stroke-miterlimit:10;\" d=\"M 392.117188 248.320312 C 392.117188 253.839844 387.640625 258.320312 382.117188 258.320312 C 376.597656 258.320312 372.117188 253.839844 372.117188 248.320312 C 372.117188 242.796875 376.597656 238.320312 382.117188 238.320312 C 387.640625 238.320312 392.117188 242.796875 392.117188 248.320312 \"/>\n",
       "<path style=\"fill-rule:nonzero;fill:rgb(0%,0%,100%);fill-opacity:1;stroke-width:1;stroke-linecap:butt;stroke-linejoin:miter;stroke:rgb(0%,0%,0%);stroke-opacity:1;stroke-miterlimit:10;\" d=\"M 125.640625 308.210938 C 125.640625 313.734375 121.160156 318.210938 115.640625 318.210938 C 110.117188 318.210938 105.640625 313.734375 105.640625 308.210938 C 105.640625 302.6875 110.117188 298.210938 115.640625 298.210938 C 121.160156 298.210938 125.640625 302.6875 125.640625 308.210938 \"/>\n",
       "<path style=\"fill-rule:nonzero;fill:rgb(100%,0%,0%);fill-opacity:1;stroke-width:1;stroke-linecap:butt;stroke-linejoin:miter;stroke:rgb(0%,0%,0%);stroke-opacity:1;stroke-miterlimit:10;\" d=\"M 343.152344 127.703125 C 343.152344 133.226562 338.675781 137.703125 333.152344 137.703125 C 327.628906 137.703125 323.152344 133.226562 323.152344 127.703125 C 323.152344 122.179688 327.628906 117.703125 333.152344 117.703125 C 338.675781 117.703125 343.152344 122.179688 343.152344 127.703125 \"/>\n",
       "<path style=\"fill-rule:nonzero;fill:rgb(100%,0%,0%);fill-opacity:1;stroke-width:1;stroke-linecap:butt;stroke-linejoin:miter;stroke:rgb(0%,0%,0%);stroke-opacity:1;stroke-miterlimit:10;\" d=\"M 205.5625 111.347656 C 205.5625 116.871094 201.085938 121.347656 195.5625 121.347656 C 190.039062 121.347656 185.5625 116.871094 185.5625 111.347656 C 185.5625 105.828125 190.039062 101.347656 195.5625 101.347656 C 201.085938 101.347656 205.5625 105.828125 205.5625 111.347656 \"/>\n",
       "<path style=\"fill-rule:nonzero;fill:rgb(0%,0%,0%);fill-opacity:1;stroke-width:1;stroke-linecap:butt;stroke-linejoin:miter;stroke:rgb(0%,0%,0%);stroke-opacity:1;stroke-miterlimit:10;\" d=\"M 116.152344 486.945312 C 116.152344 492.46875 111.675781 496.945312 106.152344 496.945312 C 100.628906 496.945312 96.152344 492.46875 96.152344 486.945312 C 96.152344 481.421875 100.628906 476.945312 106.152344 476.945312 C 111.675781 476.945312 116.152344 481.421875 116.152344 486.945312 \"/>\n",
       "<path style=\"fill-rule:nonzero;fill:rgb(62.745098%,12.54902%,94.117647%);fill-opacity:1;stroke-width:1;stroke-linecap:butt;stroke-linejoin:miter;stroke:rgb(0%,0%,0%);stroke-opacity:1;stroke-miterlimit:10;\" d=\"M 489.53125 437.730469 C 489.53125 443.25 485.054688 447.730469 479.53125 447.730469 C 474.011719 447.730469 469.53125 443.25 469.53125 437.730469 C 469.53125 432.207031 474.011719 427.730469 479.53125 427.730469 C 485.054688 427.730469 489.53125 432.207031 489.53125 437.730469 \"/>\n",
       "<path style=\"fill-rule:nonzero;fill:rgb(62.745098%,12.54902%,94.117647%);fill-opacity:1;stroke-width:1;stroke-linecap:butt;stroke-linejoin:miter;stroke:rgb(0%,0%,0%);stroke-opacity:1;stroke-miterlimit:10;\" d=\"M 327.628906 475.4375 C 327.628906 480.957031 323.152344 485.4375 317.628906 485.4375 C 312.109375 485.4375 307.628906 480.957031 307.628906 475.4375 C 307.628906 469.914062 312.109375 465.4375 317.628906 465.4375 C 323.152344 465.4375 327.628906 469.914062 327.628906 475.4375 \"/>\n",
       "<path style=\"fill-rule:nonzero;fill:rgb(100%,64.705882%,0%);fill-opacity:1;stroke-width:1;stroke-linecap:butt;stroke-linejoin:miter;stroke:rgb(0%,0%,0%);stroke-opacity:1;stroke-miterlimit:10;\" d=\"M 418.824219 314.199219 C 418.824219 319.722656 414.347656 324.199219 408.824219 324.199219 C 403.300781 324.199219 398.824219 319.722656 398.824219 314.199219 C 398.824219 308.675781 403.300781 304.199219 408.824219 304.199219 C 414.347656 304.199219 418.824219 308.675781 418.824219 314.199219 \"/>\n",
       "<path style=\"fill-rule:nonzero;fill:rgb(0%,0%,100%);fill-opacity:1;stroke-width:1;stroke-linecap:butt;stroke-linejoin:miter;stroke:rgb(0%,0%,0%);stroke-opacity:1;stroke-miterlimit:10;\" d=\"M 492.183594 397.308594 C 492.183594 402.832031 487.703125 407.308594 482.183594 407.308594 C 476.660156 407.308594 472.183594 402.832031 472.183594 397.308594 C 472.183594 391.789062 476.660156 387.308594 482.183594 387.308594 C 487.703125 387.308594 492.183594 391.789062 492.183594 397.308594 \"/>\n",
       "<path style=\"fill-rule:nonzero;fill:rgb(100%,64.705882%,0%);fill-opacity:1;stroke-width:1;stroke-linecap:butt;stroke-linejoin:miter;stroke:rgb(0%,0%,0%);stroke-opacity:1;stroke-miterlimit:10;\" d=\"M 44.152344 352.117188 C 44.152344 357.636719 39.675781 362.117188 34.152344 362.117188 C 28.628906 362.117188 24.152344 357.636719 24.152344 352.117188 C 24.152344 346.59375 28.628906 342.117188 34.152344 342.117188 C 39.675781 342.117188 44.152344 346.59375 44.152344 352.117188 \"/>\n",
       "<path style=\"fill-rule:nonzero;fill:rgb(0%,0%,100%);fill-opacity:1;stroke-width:1;stroke-linecap:butt;stroke-linejoin:miter;stroke:rgb(0%,0%,0%);stroke-opacity:1;stroke-miterlimit:10;\" d=\"M 539.960938 401.1875 C 539.960938 406.710938 535.480469 411.1875 529.960938 411.1875 C 524.4375 411.1875 519.960938 406.710938 519.960938 401.1875 C 519.960938 395.664062 524.4375 391.1875 529.960938 391.1875 C 535.480469 391.1875 539.960938 395.664062 539.960938 401.1875 \"/>\n",
       "<path style=\"fill-rule:nonzero;fill:rgb(0%,0%,0%);fill-opacity:1;stroke-width:1;stroke-linecap:butt;stroke-linejoin:miter;stroke:rgb(0%,0%,0%);stroke-opacity:1;stroke-miterlimit:10;\" d=\"M 322.300781 580 C 322.300781 585.523438 317.824219 590 312.300781 590 C 306.777344 590 302.300781 585.523438 302.300781 580 C 302.300781 574.476562 306.777344 570 312.300781 570 C 317.824219 570 322.300781 574.476562 322.300781 580 \"/>\n",
       "<path style=\"fill-rule:nonzero;fill:rgb(100%,0%,0%);fill-opacity:1;stroke-width:1;stroke-linecap:butt;stroke-linejoin:miter;stroke:rgb(0%,0%,0%);stroke-opacity:1;stroke-miterlimit:10;\" d=\"M 400.46875 178 C 400.46875 183.519531 395.992188 188 390.46875 188 C 384.945312 188 380.46875 183.519531 380.46875 178 C 380.46875 172.476562 384.945312 168 390.46875 168 C 395.992188 168 400.46875 172.476562 400.46875 178 \"/>\n",
       "<path style=\"fill-rule:nonzero;fill:rgb(0%,0%,0%);fill-opacity:1;stroke-width:1;stroke-linecap:butt;stroke-linejoin:miter;stroke:rgb(0%,0%,0%);stroke-opacity:1;stroke-miterlimit:10;\" d=\"M 263.058594 191.003906 C 263.058594 196.527344 258.582031 201.003906 253.058594 201.003906 C 247.535156 201.003906 243.058594 196.527344 243.058594 191.003906 C 243.058594 185.480469 247.535156 181.003906 253.058594 181.003906 C 258.582031 181.003906 263.058594 185.480469 263.058594 191.003906 \"/>\n",
       "<path style=\"fill-rule:nonzero;fill:rgb(100%,0%,0%);fill-opacity:1;stroke-width:1;stroke-linecap:butt;stroke-linejoin:miter;stroke:rgb(0%,0%,0%);stroke-opacity:1;stroke-miterlimit:10;\" d=\"M 551.914062 276.023438 C 551.914062 281.546875 547.4375 286.023438 541.914062 286.023438 C 536.390625 286.023438 531.914062 281.546875 531.914062 276.023438 C 531.914062 270.5 536.390625 266.023438 541.914062 266.023438 C 547.4375 266.023438 551.914062 270.5 551.914062 276.023438 \"/>\n",
       "<path style=\"fill-rule:nonzero;fill:rgb(100%,0%,0%);fill-opacity:1;stroke-width:1;stroke-linecap:butt;stroke-linejoin:miter;stroke:rgb(0%,0%,0%);stroke-opacity:1;stroke-miterlimit:10;\" d=\"M 441.019531 260.898438 C 441.019531 266.417969 436.542969 270.898438 431.019531 270.898438 C 425.496094 270.898438 421.019531 266.417969 421.019531 260.898438 C 421.019531 255.375 425.496094 250.898438 431.019531 250.898438 C 436.542969 250.898438 441.019531 255.375 441.019531 260.898438 \"/>\n",
       "<path style=\"fill-rule:nonzero;fill:rgb(100%,0%,0%);fill-opacity:1;stroke-width:1;stroke-linecap:butt;stroke-linejoin:miter;stroke:rgb(0%,0%,0%);stroke-opacity:1;stroke-miterlimit:10;\" d=\"M 297.539062 148.320312 C 297.539062 153.84375 293.0625 158.320312 287.539062 158.320312 C 282.015625 158.320312 277.539062 153.84375 277.539062 148.320312 C 277.539062 142.796875 282.015625 138.320312 287.539062 138.320312 C 293.0625 138.320312 297.539062 142.796875 297.539062 148.320312 \"/>\n",
       "<path style=\"fill-rule:nonzero;fill:rgb(100%,0%,0%);fill-opacity:1;stroke-width:1;stroke-linecap:butt;stroke-linejoin:miter;stroke:rgb(0%,0%,0%);stroke-opacity:1;stroke-miterlimit:10;\" d=\"M 288.824219 164.609375 C 288.824219 170.132812 284.347656 174.609375 278.824219 174.609375 C 273.300781 174.609375 268.824219 170.132812 268.824219 164.609375 C 268.824219 159.085938 273.300781 154.609375 278.824219 154.609375 C 284.347656 154.609375 288.824219 159.085938 288.824219 164.609375 \"/>\n",
       "<path style=\"fill-rule:nonzero;fill:rgb(100%,0%,0%);fill-opacity:1;stroke-width:1;stroke-linecap:butt;stroke-linejoin:miter;stroke:rgb(0%,0%,0%);stroke-opacity:1;stroke-miterlimit:10;\" d=\"M 132.304688 229.253906 C 132.304688 234.777344 127.828125 239.253906 122.304688 239.253906 C 116.78125 239.253906 112.304688 234.777344 112.304688 229.253906 C 112.304688 223.730469 116.78125 219.253906 122.304688 219.253906 C 127.828125 219.253906 132.304688 223.730469 132.304688 229.253906 \"/>\n",
       "<path style=\"fill-rule:nonzero;fill:rgb(62.745098%,12.54902%,94.117647%);fill-opacity:1;stroke-width:1;stroke-linecap:butt;stroke-linejoin:miter;stroke:rgb(0%,0%,0%);stroke-opacity:1;stroke-miterlimit:10;\" d=\"M 433.058594 357.613281 C 433.058594 363.136719 428.582031 367.613281 423.058594 367.613281 C 417.535156 367.613281 413.058594 363.136719 413.058594 357.613281 C 413.058594 352.09375 417.535156 347.613281 423.058594 347.613281 C 428.582031 347.613281 433.058594 352.09375 433.058594 357.613281 \"/>\n",
       "<path style=\"fill-rule:nonzero;fill:rgb(0%,0%,100%);fill-opacity:1;stroke-width:1;stroke-linecap:butt;stroke-linejoin:miter;stroke:rgb(0%,0%,0%);stroke-opacity:1;stroke-miterlimit:10;\" d=\"M 98.3125 435.488281 C 98.3125 441.011719 93.835938 445.488281 88.3125 445.488281 C 82.789062 445.488281 78.3125 441.011719 78.3125 435.488281 C 78.3125 429.964844 82.789062 425.488281 88.3125 425.488281 C 93.835938 425.488281 98.3125 429.964844 98.3125 435.488281 \"/>\n",
       "<path style=\"fill-rule:nonzero;fill:rgb(0%,0%,100%);fill-opacity:1;stroke-width:1;stroke-linecap:butt;stroke-linejoin:miter;stroke:rgb(0%,0%,0%);stroke-opacity:1;stroke-miterlimit:10;\" d=\"M 558.699219 434.039062 C 558.699219 439.5625 554.222656 444.039062 548.699219 444.039062 C 543.179688 444.039062 538.699219 439.5625 538.699219 434.039062 C 538.699219 428.515625 543.179688 424.039062 548.699219 424.039062 C 554.222656 424.039062 558.699219 428.515625 558.699219 434.039062 \"/>\n",
       "<path style=\"fill-rule:nonzero;fill:rgb(62.745098%,12.54902%,94.117647%);fill-opacity:1;stroke-width:1;stroke-linecap:butt;stroke-linejoin:miter;stroke:rgb(0%,0%,0%);stroke-opacity:1;stroke-miterlimit:10;\" d=\"M 85.925781 189.433594 C 85.925781 194.957031 81.445312 199.433594 75.925781 199.433594 C 70.402344 199.433594 65.925781 194.957031 65.925781 189.433594 C 65.925781 183.910156 70.402344 179.433594 75.925781 179.433594 C 81.445312 179.433594 85.925781 183.910156 85.925781 189.433594 \"/>\n",
       "<path style=\"fill-rule:nonzero;fill:rgb(62.745098%,12.54902%,94.117647%);fill-opacity:1;stroke-width:1;stroke-linecap:butt;stroke-linejoin:miter;stroke:rgb(0%,0%,0%);stroke-opacity:1;stroke-miterlimit:10;\" d=\"M 431.101562 377.226562 C 431.101562 382.746094 426.625 387.226562 421.101562 387.226562 C 415.578125 387.226562 411.101562 382.746094 411.101562 377.226562 C 411.101562 371.703125 415.578125 367.226562 421.101562 367.226562 C 426.625 367.226562 431.101562 371.703125 431.101562 377.226562 \"/>\n",
       "<path style=\"fill-rule:nonzero;fill:rgb(100%,64.705882%,0%);fill-opacity:1;stroke-width:1;stroke-linecap:butt;stroke-linejoin:miter;stroke:rgb(0%,0%,0%);stroke-opacity:1;stroke-miterlimit:10;\" d=\"M 469.839844 460.335938 C 469.839844 465.859375 465.363281 470.335938 459.839844 470.335938 C 454.316406 470.335938 449.839844 465.859375 449.839844 460.335938 C 449.839844 454.816406 454.316406 450.335938 459.839844 450.335938 C 465.363281 450.335938 469.839844 454.816406 469.839844 460.335938 \"/>\n",
       "<path style=\"fill-rule:nonzero;fill:rgb(0%,0%,0%);fill-opacity:1;stroke-width:1;stroke-linecap:butt;stroke-linejoin:miter;stroke:rgb(0%,0%,0%);stroke-opacity:1;stroke-miterlimit:10;\" d=\"M 517.019531 160.53125 C 517.019531 166.054688 512.542969 170.53125 507.019531 170.53125 C 501.496094 170.53125 497.019531 166.054688 497.019531 160.53125 C 497.019531 155.007812 501.496094 150.53125 507.019531 150.53125 C 512.542969 150.53125 517.019531 155.007812 517.019531 160.53125 \"/>\n",
       "<path style=\"fill-rule:nonzero;fill:rgb(100%,64.705882%,0%);fill-opacity:1;stroke-width:1;stroke-linecap:butt;stroke-linejoin:miter;stroke:rgb(0%,0%,0%);stroke-opacity:1;stroke-miterlimit:10;\" d=\"M 369.007812 206.539062 C 369.007812 212.0625 364.53125 216.539062 359.007812 216.539062 C 353.488281 216.539062 349.007812 212.0625 349.007812 206.539062 C 349.007812 201.015625 353.488281 196.539062 359.007812 196.539062 C 364.53125 196.539062 369.007812 201.015625 369.007812 206.539062 \"/>\n",
       "<path style=\"fill-rule:nonzero;fill:rgb(100%,64.705882%,0%);fill-opacity:1;stroke-width:1;stroke-linecap:butt;stroke-linejoin:miter;stroke:rgb(0%,0%,0%);stroke-opacity:1;stroke-miterlimit:10;\" d=\"M 274.132812 114.886719 C 274.132812 120.410156 269.65625 124.886719 264.132812 124.886719 C 258.609375 124.886719 254.132812 120.410156 254.132812 114.886719 C 254.132812 109.363281 258.609375 104.886719 264.132812 104.886719 C 269.65625 104.886719 274.132812 109.363281 274.132812 114.886719 \"/>\n",
       "<path style=\"fill-rule:nonzero;fill:rgb(0%,0%,0%);fill-opacity:1;stroke-width:1;stroke-linecap:butt;stroke-linejoin:miter;stroke:rgb(0%,0%,0%);stroke-opacity:1;stroke-miterlimit:10;\" d=\"M 259.351562 570.828125 C 259.351562 576.351562 254.875 580.828125 249.351562 580.828125 C 243.828125 580.828125 239.351562 576.351562 239.351562 570.828125 C 239.351562 565.304688 243.828125 560.828125 249.351562 560.828125 C 254.875 560.828125 259.351562 565.304688 259.351562 570.828125 \"/>\n",
       "<path style=\"fill-rule:nonzero;fill:rgb(0%,0%,100%);fill-opacity:1;stroke-width:1;stroke-linecap:butt;stroke-linejoin:miter;stroke:rgb(0%,0%,0%);stroke-opacity:1;stroke-miterlimit:10;\" d=\"M 96.847656 400.746094 C 96.847656 406.269531 92.371094 410.746094 86.847656 410.746094 C 81.324219 410.746094 76.847656 406.269531 76.847656 400.746094 C 76.847656 395.226562 81.324219 390.746094 86.847656 390.746094 C 92.371094 390.746094 96.847656 395.226562 96.847656 400.746094 \"/>\n",
       "<path style=\"fill-rule:nonzero;fill:rgb(0%,0%,0%);fill-opacity:1;stroke-width:1;stroke-linecap:butt;stroke-linejoin:miter;stroke:rgb(0%,0%,0%);stroke-opacity:1;stroke-miterlimit:10;\" d=\"M 37.105469 175.191406 C 37.105469 180.714844 32.628906 185.191406 27.105469 185.191406 C 21.582031 185.191406 17.105469 180.714844 17.105469 175.191406 C 17.105469 169.667969 21.582031 165.191406 27.105469 165.191406 C 32.628906 165.191406 37.105469 169.667969 37.105469 175.191406 \"/>\n",
       "<path style=\"fill-rule:nonzero;fill:rgb(0%,0%,0%);fill-opacity:1;stroke-width:1;stroke-linecap:butt;stroke-linejoin:miter;stroke:rgb(0%,0%,0%);stroke-opacity:1;stroke-miterlimit:10;\" d=\"M 364.796875 345.070312 C 364.796875 350.589844 360.320312 355.070312 354.796875 355.070312 C 349.273438 355.070312 344.796875 350.589844 344.796875 345.070312 C 344.796875 339.546875 349.273438 335.070312 354.796875 335.070312 C 360.320312 335.070312 364.796875 339.546875 364.796875 345.070312 \"/>\n",
       "<path style=\"fill-rule:nonzero;fill:rgb(100%,0%,0%);fill-opacity:1;stroke-width:1;stroke-linecap:butt;stroke-linejoin:miter;stroke:rgb(0%,0%,0%);stroke-opacity:1;stroke-miterlimit:10;\" d=\"M 402.566406 131.839844 C 402.566406 137.363281 398.089844 141.839844 392.566406 141.839844 C 387.042969 141.839844 382.566406 137.363281 382.566406 131.839844 C 382.566406 126.320312 387.042969 121.839844 392.566406 121.839844 C 398.089844 121.839844 402.566406 126.320312 402.566406 131.839844 \"/>\n",
       "<path style=\"fill-rule:nonzero;fill:rgb(100%,0%,0%);fill-opacity:1;stroke-width:1;stroke-linecap:butt;stroke-linejoin:miter;stroke:rgb(0%,0%,0%);stroke-opacity:1;stroke-miterlimit:10;\" d=\"M 204.109375 556.136719 C 204.109375 561.65625 199.632812 566.136719 194.109375 566.136719 C 188.585938 566.136719 184.109375 561.65625 184.109375 556.136719 C 184.109375 550.613281 188.585938 546.136719 194.109375 546.136719 C 199.632812 546.136719 204.109375 550.613281 204.109375 556.136719 \"/>\n",
       "<path style=\"fill-rule:nonzero;fill:rgb(100%,0%,0%);fill-opacity:1;stroke-width:1;stroke-linecap:butt;stroke-linejoin:miter;stroke:rgb(0%,0%,0%);stroke-opacity:1;stroke-miterlimit:10;\" d=\"M 461.597656 243.007812 C 461.597656 248.53125 457.121094 253.007812 451.597656 253.007812 C 446.074219 253.007812 441.597656 248.53125 441.597656 243.007812 C 441.597656 237.488281 446.074219 233.007812 451.597656 233.007812 C 457.121094 233.007812 461.597656 237.488281 461.597656 243.007812 \"/>\n",
       "<path style=\"fill-rule:nonzero;fill:rgb(0%,0%,0%);fill-opacity:1;stroke-width:1;stroke-linecap:butt;stroke-linejoin:miter;stroke:rgb(0%,0%,0%);stroke-opacity:1;stroke-miterlimit:10;\" d=\"M 503.398438 257.515625 C 503.398438 263.039062 498.921875 267.515625 493.398438 267.515625 C 487.875 267.515625 483.398438 263.039062 483.398438 257.515625 C 483.398438 251.992188 487.875 247.515625 493.398438 247.515625 C 498.921875 247.515625 503.398438 251.992188 503.398438 257.515625 \"/>\n",
       "<path style=\"fill-rule:nonzero;fill:rgb(0%,0%,100%);fill-opacity:1;stroke-width:1;stroke-linecap:butt;stroke-linejoin:miter;stroke:rgb(0%,0%,0%);stroke-opacity:1;stroke-miterlimit:10;\" d=\"M 486.03125 54.34375 C 486.03125 59.867188 481.554688 64.34375 476.03125 64.34375 C 470.507812 64.34375 466.03125 59.867188 466.03125 54.34375 C 466.03125 48.820312 470.507812 44.34375 476.03125 44.34375 C 481.554688 44.34375 486.03125 48.820312 486.03125 54.34375 \"/>\n",
       "<path style=\"fill-rule:nonzero;fill:rgb(0%,0%,100%);fill-opacity:1;stroke-width:1;stroke-linecap:butt;stroke-linejoin:miter;stroke:rgb(0%,0%,0%);stroke-opacity:1;stroke-miterlimit:10;\" d=\"M 356.730469 402.765625 C 356.730469 408.289062 352.253906 412.765625 346.730469 412.765625 C 341.207031 412.765625 336.730469 408.289062 336.730469 402.765625 C 336.730469 397.246094 341.207031 392.765625 346.730469 392.765625 C 352.253906 392.765625 356.730469 397.246094 356.730469 402.765625 \"/>\n",
       "<path style=\"fill-rule:nonzero;fill:rgb(0%,0%,100%);fill-opacity:1;stroke-width:1;stroke-linecap:butt;stroke-linejoin:miter;stroke:rgb(0%,0%,0%);stroke-opacity:1;stroke-miterlimit:10;\" d=\"M 55.996094 408.78125 C 55.996094 414.304688 51.519531 418.78125 45.996094 418.78125 C 40.472656 418.78125 35.996094 414.304688 35.996094 408.78125 C 35.996094 403.257812 40.472656 398.78125 45.996094 398.78125 C 51.519531 398.78125 55.996094 403.257812 55.996094 408.78125 \"/>\n",
       "<path style=\"fill-rule:nonzero;fill:rgb(100%,0%,0%);fill-opacity:1;stroke-width:1;stroke-linecap:butt;stroke-linejoin:miter;stroke:rgb(0%,0%,0%);stroke-opacity:1;stroke-miterlimit:10;\" d=\"M 220.105469 366.292969 C 220.105469 371.816406 215.628906 376.292969 210.105469 376.292969 C 204.582031 376.292969 200.105469 371.816406 200.105469 366.292969 C 200.105469 360.769531 204.582031 356.292969 210.105469 356.292969 C 215.628906 356.292969 220.105469 360.769531 220.105469 366.292969 \"/>\n",
       "<path style=\"fill-rule:nonzero;fill:rgb(100%,0%,0%);fill-opacity:1;stroke-width:1;stroke-linecap:butt;stroke-linejoin:miter;stroke:rgb(0%,0%,0%);stroke-opacity:1;stroke-miterlimit:10;\" d=\"M 451.304688 207.480469 C 451.304688 213.003906 446.828125 217.480469 441.304688 217.480469 C 435.78125 217.480469 431.304688 213.003906 431.304688 207.480469 C 431.304688 201.957031 435.78125 197.480469 441.304688 197.480469 C 446.828125 197.480469 451.304688 201.957031 451.304688 207.480469 \"/>\n",
       "<path style=\"fill-rule:nonzero;fill:rgb(62.745098%,12.54902%,94.117647%);fill-opacity:1;stroke-width:1;stroke-linecap:butt;stroke-linejoin:miter;stroke:rgb(0%,0%,0%);stroke-opacity:1;stroke-miterlimit:10;\" d=\"M 501.308594 359.953125 C 501.308594 365.476562 496.832031 369.953125 491.308594 369.953125 C 485.785156 369.953125 481.308594 365.476562 481.308594 359.953125 C 481.308594 354.429688 485.785156 349.953125 491.308594 349.953125 C 496.832031 349.953125 501.308594 354.429688 501.308594 359.953125 \"/>\n",
       "<path style=\"fill-rule:nonzero;fill:rgb(0%,0%,100%);fill-opacity:1;stroke-width:1;stroke-linecap:butt;stroke-linejoin:miter;stroke:rgb(0%,0%,0%);stroke-opacity:1;stroke-miterlimit:10;\" d=\"M 305.453125 239.175781 C 305.453125 244.699219 300.976562 249.175781 295.453125 249.175781 C 289.929688 249.175781 285.453125 244.699219 285.453125 239.175781 C 285.453125 233.652344 289.929688 229.175781 295.453125 229.175781 C 300.976562 229.175781 305.453125 233.652344 305.453125 239.175781 \"/>\n",
       "<path style=\"fill-rule:nonzero;fill:rgb(100%,0%,0%);fill-opacity:1;stroke-width:1;stroke-linecap:butt;stroke-linejoin:miter;stroke:rgb(0%,0%,0%);stroke-opacity:1;stroke-miterlimit:10;\" d=\"M 415.539062 262.914062 C 415.539062 268.4375 411.0625 272.914062 405.539062 272.914062 C 400.015625 272.914062 395.539062 268.4375 395.539062 262.914062 C 395.539062 257.390625 400.015625 252.914062 405.539062 252.914062 C 411.0625 252.914062 415.539062 257.390625 415.539062 262.914062 \"/>\n",
       "<path style=\"fill-rule:nonzero;fill:rgb(100%,0%,0%);fill-opacity:1;stroke-width:1;stroke-linecap:butt;stroke-linejoin:miter;stroke:rgb(0%,0%,0%);stroke-opacity:1;stroke-miterlimit:10;\" d=\"M 284.222656 65.371094 C 284.222656 70.894531 279.746094 75.371094 274.222656 75.371094 C 268.699219 75.371094 264.222656 70.894531 264.222656 65.371094 C 264.222656 59.847656 268.699219 55.371094 274.222656 55.371094 C 279.746094 55.371094 284.222656 59.847656 284.222656 65.371094 \"/>\n",
       "<path style=\"fill-rule:nonzero;fill:rgb(100%,0%,0%);fill-opacity:1;stroke-width:1;stroke-linecap:butt;stroke-linejoin:miter;stroke:rgb(0%,0%,0%);stroke-opacity:1;stroke-miterlimit:10;\" d=\"M 234.070312 123.445312 C 234.070312 128.96875 229.59375 133.445312 224.070312 133.445312 C 218.546875 133.445312 214.070312 128.96875 214.070312 123.445312 C 214.070312 117.921875 218.546875 113.445312 224.070312 113.445312 C 229.59375 113.445312 234.070312 117.921875 234.070312 123.445312 \"/>\n",
       "<path style=\"fill-rule:nonzero;fill:rgb(100%,0%,0%);fill-opacity:1;stroke-width:1;stroke-linecap:butt;stroke-linejoin:miter;stroke:rgb(0%,0%,0%);stroke-opacity:1;stroke-miterlimit:10;\" d=\"M 34.71875 290.027344 C 34.71875 295.550781 30.242188 300.027344 24.71875 300.027344 C 19.195312 300.027344 14.71875 295.550781 14.71875 290.027344 C 14.71875 284.503906 19.195312 280.027344 24.71875 280.027344 C 30.242188 280.027344 34.71875 284.503906 34.71875 290.027344 \"/>\n",
       "</g>\n",
       "</svg>\n"
      ],
      "text/plain": [
       "<igraph.drawing.Plot at 0x7fc1fbbd7a00>"
      ]
     },
     "execution_count": 40,
     "metadata": {},
     "output_type": "execute_result"
    }
   ],
   "source": [
    "ig_plot(ell,edge_width = ell.es['weight'],vertex_color=ell.vs['color'])"
   ]
  },
  {
   "cell_type": "code",
   "execution_count": 32,
   "id": "4f9c706c-97f8-4772-8451-35d29ccbc009",
   "metadata": {},
   "outputs": [
    {
     "ename": "SyntaxError",
     "evalue": "invalid syntax (2532400938.py, line 1)",
     "output_type": "error",
     "traceback": [
      "\u001b[0;36m  File \u001b[0;32m\"/var/folders/4n/x3rls3t16fn723p1tbd7w7fr0000gn/T/ipykernel_90680/2532400938.py\"\u001b[0;36m, line \u001b[0;32m1\u001b[0m\n\u001b[0;31m    vertex_color=['blue' if ell.vs['cell_type'] == 'mg1']\u001b[0m\n\u001b[0m                                                        ^\u001b[0m\n\u001b[0;31mSyntaxError\u001b[0m\u001b[0;31m:\u001b[0m invalid syntax\n"
     ]
    }
   ],
   "source": [
    "vertex_color=['blue' if ell.vs['cell_type'] == 'mg1']"
   ]
  },
  {
   "cell_type": "markdown",
   "id": "8f5fe1d8-debc-45e6-aa56-c7f579b8f249",
   "metadata": {},
   "source": [
    "## create crest files for post-syn segments not in cells"
   ]
  },
  {
   "cell_type": "code",
   "execution_count": 92,
   "id": "dcd092bc-ac1a-44f7-83d4-1f93114c3902",
   "metadata": {},
   "outputs": [],
   "source": [
    "x_pre = ell.vs[2]\n",
    "x_pre['cell_type']\n",
    "\n",
    "# if the node has post-synaptic annotations (the current cell is assumed pre-synaptic)\n",
    "pre = ecrest(settings_dict,filepath = nodefiles[x_pre['name']],launch_viewer=False)"
   ]
  },
  {
   "cell_type": "code",
   "execution_count": 196,
   "id": "e64d1ef4-814b-4c73-8f6d-0930fa4244d4",
   "metadata": {},
   "outputs": [
    {
     "name": "stdout",
     "output_type": "stream",
     "text": [
      "list index out of range for cell 213605530 synapse at syn_ has no segment id\n",
      "list index out of range for cell 472161980 synapse at syn_ has no segment id\n"
     ]
    }
   ],
   "source": [
    "todo_dict= {}\n",
    "post_segs_without_cell = 0\n",
    "post_segs_with_cell = 0\n",
    "for x_pre in ell.vs:\n",
    "    pre = ecrest(settings_dict,filepath = nodefiles[x_pre['name']],launch_viewer=False)\n",
    "    \n",
    "    if pre.cell_data['end_points']['post-synaptic'] != []:\n",
    "\n",
    "        # for each synapse\n",
    "        for syn_ in pre.cell_data['end_points']['post-synaptic']:\n",
    "            post_seg_found=False\n",
    "\n",
    "            try:\n",
    "                post_seg = syn_[3]\n",
    "\n",
    "                # go through each other nodes\n",
    "                for x_post in ell.vs:\n",
    "\n",
    "                    post = base_segments[x_post['name']] #ecrest(settings_dict,filepath = nodefiles[x_post['name']],launch_viewer=False)\n",
    "\n",
    "                    for k,v in post.items():\n",
    "\n",
    "                        for v_ in list(v): #find keys (can be multiple on the same cell) for matching segment ids\n",
    "\n",
    "                            if post_seg == v_: \n",
    "\n",
    "                            # add edge to the graph between current node and matching node\n",
    "                                edge_list.append([x_pre['name'],x_post['name'],k])\n",
    "                                post_seg_found=True\n",
    "                                if 'mg' in x_pre['cell_type']:\n",
    "                                    post_segs_with_cell+=1\n",
    "\n",
    "\n",
    "            except IndexError as msg:\n",
    "                cellid = x_pre['name']\n",
    "                print(msg, f'for cell {cellid} synapse at syn_ has no segment id')\n",
    "            if post_seg_found==False:\n",
    "                if 'mg' in x_pre['cell_type']:\n",
    "                    agglo_seg = pre.get_agglo_seg_of_base_seg(post_seg)\n",
    "                    todo_dict[post_seg] = set(pre.get_base_segs_of_agglo_seg(agglo_seg))\n",
    "                    post_segs_without_cell+=1"
   ]
  },
  {
   "cell_type": "code",
   "execution_count": 187,
   "id": "7a36ca92-bced-44bc-820e-7dc32c5feab6",
   "metadata": {},
   "outputs": [
    {
     "data": {
      "text/plain": [
       "1124"
      ]
     },
     "execution_count": 187,
     "metadata": {},
     "output_type": "execute_result"
    }
   ],
   "source": [
    "post_segs_without_cell"
   ]
  },
  {
   "cell_type": "code",
   "execution_count": 189,
   "id": "0a43738f-f8e7-4b2e-a327-a2f31a5fbac3",
   "metadata": {},
   "outputs": [
    {
     "data": {
      "text/plain": [
       "646"
      ]
     },
     "execution_count": 189,
     "metadata": {},
     "output_type": "execute_result"
    }
   ],
   "source": [
    "post_segs_without_cell"
   ]
  },
  {
   "cell_type": "code",
   "execution_count": 197,
   "id": "d7f37775-befb-43cf-baca-23ff18c4ee7c",
   "metadata": {},
   "outputs": [
    {
     "data": {
      "text/plain": [
       "480"
      ]
     },
     "execution_count": 197,
     "metadata": {},
     "output_type": "execute_result"
    }
   ],
   "source": [
    "post_segs_with_cell"
   ]
  },
  {
   "cell_type": "code",
   "execution_count": 190,
   "id": "76c25cf0-4531-4c8c-a6be-4009ed0bbe88",
   "metadata": {},
   "outputs": [],
   "source": [
    "topop=[]\n",
    "todo_inds = list(todo_dict.keys())\n",
    "for k,k_ in itertools.combinations(todo_inds,2):\n",
    "    if todo_dict[k]&todo_dict[k_]!=set():\n",
    "        # then they share segments\n",
    "        topop.append(k_)\n",
    "# topop=list(set(topop))"
   ]
  },
  {
   "cell_type": "code",
   "execution_count": 237,
   "id": "ac38659d-fd43-4276-95a2-bd4a8d0b151f",
   "metadata": {},
   "outputs": [],
   "source": [
    "for k,v in todo_dict.items():\n",
    "    if v&set(undone)!=set():\n",
    "        print(f'{k} in undone on sheet already')"
   ]
  },
  {
   "cell_type": "code",
   "execution_count": 192,
   "id": "34a128b8-6589-4b9b-96f9-a6040121446b",
   "metadata": {},
   "outputs": [],
   "source": [
    "topop = np.unique(topop)"
   ]
  },
  {
   "cell_type": "code",
   "execution_count": null,
   "id": "b4c3bf22-0184-437c-84a0-2f4e18ae6527",
   "metadata": {},
   "outputs": [],
   "source": [
    "for segid in topop:\n",
    "    todo_dict.pop(segid)\n",
    "    "
   ]
  },
  {
   "cell_type": "markdown",
   "id": "bdffb229-1ec5-4ac3-9e3c-4a30ce036110",
   "metadata": {},
   "source": [
    "create crest files for each of the unidentified post-synaptic partners"
   ]
  },
  {
   "cell_type": "code",
   "execution_count": 268,
   "id": "54617b68-1610-4417-844f-2e06f08259be",
   "metadata": {},
   "outputs": [],
   "source": [
    "path_to_settings_json = '/Users/kperks/Documents/ell-connectome/eCREST-local-files/settings_dict.json'\n",
    "settings_dict = import_settings(path_to_settings_json)"
   ]
  },
  {
   "cell_type": "code",
   "execution_count": null,
   "id": "705df0cd-c31c-458d-9463-93202396f056",
   "metadata": {},
   "outputs": [],
   "source": [
    "\n",
    "\n",
    "for segment_id in sorted(list(todo_dict.keys()))[11:]:\n",
    "\n",
    "    cell = ecrest(settings_dict,segment_id = segment_id, launch_viewer=False)\n",
    "    cell.save_cell_graph()"
   ]
  },
  {
   "cell_type": "markdown",
   "id": "babe93d1-68e4-48b0-801a-8fbf910612ef",
   "metadata": {},
   "source": [
    "check out the cells...\n",
    "after completing one, make sure to check that it is not one of the currenlty \"undone cells\""
   ]
  },
  {
   "cell_type": "code",
   "execution_count": 219,
   "id": "ebb21ee3-ab78-410e-a87e-5b2033e5c1a3",
   "metadata": {},
   "outputs": [],
   "source": [
    "undone=[386224676,\n",
    "472284925,\n",
    "473723476,\n",
    "476167179,\n",
    "477300082,\n",
    "385418384,\n",
    "386145646,\n",
    "386363638,\n",
    "386409916,\n",
    "387909811,\n",
    "472239272,\n",
    "472994717,\n",
    "473041056,\n",
    "134896850,\n",
    "474839189,\n",
    "475518620,\n",
    "475859144,\n",
    "310141521,\n",
    "556783653,\n",
    "556969316,\n",
    "557092670,\n",
    "559041561,\n",
    "559366461,\n",
    "560169807,\n",
    "560681683,\n",
    "560822371,\n",
    "644064285,\n",
    "387152241,\n",
    "556752337,\n",
    "478381378,\n",
    "474236060,\n",
    "300459385,\n",
    "301339154,\n",
    "558129604,\n",
    "474357461,\n",
    "481274292]"
   ]
  },
  {
   "cell_type": "markdown",
   "id": "2f7345de-9158-45e5-bf47-d92307241c20",
   "metadata": {},
   "source": [
    "load one of the cells"
   ]
  },
  {
   "cell_type": "code",
   "execution_count": 275,
   "id": "4fb8049c-9721-4a6c-aa17-9cacd7f879e8",
   "metadata": {},
   "outputs": [
    {
     "name": "stdout",
     "output_type": "stream",
     "text": [
      "updating viewer status message: Current Base Segment Counts: unknown: 966, axon: 161, basal dendrite: 105, apical dendrite: 733, dendrite: 0, multiple: 9\n"
     ]
    }
   ],
   "source": [
    "filename = 'cell_graph_128473437__2023-04-07 19.33.39.json'\n",
    "todo_cell = ecrest(settings_dict,filepath = Path(settings_dict['save_dir'])/filename,launch_viewer=True)\n",
    "\n"
   ]
  },
  {
   "cell_type": "code",
   "execution_count": 270,
   "id": "9d2fe6af-b293-45ed-a25a-ffc6c0b0d306",
   "metadata": {},
   "outputs": [
    {
     "data": {
      "text/plain": [
       "'mg2'"
      ]
     },
     "execution_count": 270,
     "metadata": {},
     "output_type": "execute_result"
    }
   ],
   "source": [
    "todo_cell.define_ctype('lf','manual')\n",
    "todo_cell.get_ctype('manual')"
   ]
  },
  {
   "cell_type": "code",
   "execution_count": 271,
   "id": "c8827d4f-8d11-4f2e-ad41-13bb25e8cfba",
   "metadata": {},
   "outputs": [
    {
     "name": "stdout",
     "output_type": "stream",
     "text": [
      "Saved cell 128473437 reconstruction locally at 2023-04-08 06.08.54\n"
     ]
    }
   ],
   "source": [
    "todo_cell.save_cell_graph()"
   ]
  },
  {
   "cell_type": "code",
   "execution_count": 258,
   "id": "78376c40-f39b-4b31-b4e8-7fc67e0f5eb8",
   "metadata": {},
   "outputs": [
    {
     "data": {
      "text/plain": [
       "{'main_seg': {'agglo': {'brainmaps://10393113184:ell:roi450um_seg32fb16fb_220930:v230111c_16_strict_only_spl': '45057587'},\n",
       "  'base': '472114046'},\n",
       " 'data_sources': {'em': 'brainmaps://10393113184:ell:roi450um_xyz',\n",
       "  'base': 'brainmaps://10393113184:ell:roi450um_seg32fb16fb_220930',\n",
       "  'agglo': 'brainmaps://10393113184:ell:roi450um_seg32fb16fb_220930:v230111c_16_strict_only_spl'},\n",
       " 'timing': [],\n",
       " 'completion': [],\n",
       " 'cell-type': {'manual': [], 'auto': []},\n",
       " 'old-anchor': ['302559454']}"
      ]
     },
     "execution_count": 258,
     "metadata": {},
     "output_type": "execute_result"
    },
    {
     "name": "stdout",
     "output_type": "stream",
     "text": [
      "379 other base segments in the agglo segment; max number can add is 1000\n",
      "Added 379 base segments from agglomerated segment 51850046, linked base segments 391933143 and 136613253, 7901nm apart, \n",
      "2 base segments removed from 2 connected components\n",
      "1 base segments removed from 1 connected components\n",
      "1 base segments removed from 1 connected components\n",
      "1 base segments removed from 1 connected components\n",
      "1 base segments removed from 1 connected components\n",
      "262 base segments removed from 2 connected components\n",
      "1 other base segments in the agglo segment; max number can add is 1000\n",
      "Added 1 base segments from agglomerated segment 646137862, linked base segments 646137527 and 646137862, 2285nm apart, \n",
      "1 other base segments in the agglo segment; max number can add is 1000\n",
      "Added 1 base segments from agglomerated segment 646138530, linked base segments 646137862 and 646138530, 3245nm apart, \n",
      "1 other base segments in the agglo segment; max number can add is 1000\n",
      "Added 1 base segments from agglomerated segment 646139240, linked base segments 646139162 and 646139240, 228nm apart, \n",
      "1 other base segments in the agglo segment; max number can add is 1000\n",
      "Added 1 base segments from agglomerated segment 648337689, linked base segments 648337125 and 648337689, 1517nm apart, \n",
      "1 other base segments in the agglo segment; max number can add is 1000\n",
      "Added 1 base segments from agglomerated segment 391933921, linked base segments 391933551 and 391933921, 785nm apart, \n",
      "323 base segments removed from 189 connected components\n"
     ]
    }
   ],
   "source": [
    "todo_cell.cell_data['metadata']"
   ]
  },
  {
   "cell_type": "markdown",
   "id": "7acb39fd-608e-4e3e-acce-c47084bb25d3",
   "metadata": {},
   "source": [
    "### Check to make sure this cell is not already on the high priority sheet as \"undone\""
   ]
  },
  {
   "cell_type": "code",
   "execution_count": 247,
   "id": "bfc037e8-f5a7-4f62-9e7d-b218a71b2aff",
   "metadata": {},
   "outputs": [],
   "source": [
    "all_segs = [a for b in todo_cell.cell_data['base_segments'].values() for a in b]"
   ]
  },
  {
   "cell_type": "code",
   "execution_count": 248,
   "id": "4a0ae018-e627-4b35-9dbf-84de0e8b9179",
   "metadata": {},
   "outputs": [
    {
     "data": {
      "text/plain": [
       "set()"
      ]
     },
     "execution_count": 248,
     "metadata": {},
     "output_type": "execute_result"
    }
   ],
   "source": [
    "# if it is actually a new cell, this should return an empty set\n",
    "set(all_segs)&set(undone)"
   ]
  },
  {
   "cell_type": "markdown",
   "id": "0d7414c7-1d86-46a7-be25-45a1ba8a5159",
   "metadata": {},
   "source": [
    "## GET most recent files (by filename date) in folder"
   ]
  },
  {
   "cell_type": "code",
   "execution_count": null,
   "id": "ad92ae0f-6fb5-4440-ae11-8ada737d782b",
   "metadata": {},
   "outputs": [],
   "source": [
    "dirname = 'C:/Users/mpetkova/Dropbox/U19_zebrafish/EMfullres/LateralLineCurlDetector/CREST/right_afferents/'\n",
    "# os.environ['GOOGLE_APPLICATION_CREDENTIALS'] = 'C:/Users/EngertLab/Dropbox/CREST/mariela_fish_credentials.json'\n",
    "\n",
    "names = os.listdir(dirname);\n",
    "cellid_filename=list();\n",
    "for ind in range(len(names)):\n",
    "    content = names[ind].split('_')\n",
    "    if ('cell' in content):\n",
    "        cellid_filename.append(names[ind])\n",
    "d={}\n",
    "for name in cellid_filename:\n",
    "    ID,content_type,date=name.split('_')[2], name.split('_')[0], name.split('_')[-1]\n",
    "    date=date[:-5]\n",
    "    #create entry in dict which holds ID, file type (ex: cell_graph) and file path\n",
    "    if ID not in d:\n",
    "        d[ID]=[date, name]\n",
    "        #if there are multiple files with the same ID, keep the info for the newest one\n",
    "    else:\n",
    "        if date>d[ID][0]:\n",
    "            d[ID][0]=date\n",
    "            d[ID][1]=name\n",
    "            \n",
    "############################################################################################################################ \n",
    "# Collect all the base segments for each ID\n",
    "import json\n",
    "\n",
    "base_segs = {}\n",
    "\n",
    "for key in d.keys():\n",
    "    f = open(dirname+d[key][1])\n",
    "    data = json.load(f)\n",
    "    base_segs[key]=sum(data['base_segments'].values(),[])\n",
    "    f.close()\n",
    "\n",
    "############################################################################################################################ \n"
   ]
  },
  {
   "cell_type": "markdown",
   "id": "4ce129b0-73f7-4e94-8985-7f8b17d31adf",
   "metadata": {},
   "source": [
    "## Fix cell_data dictionary keys\n"
   ]
  },
  {
   "cell_type": "code",
   "execution_count": 90,
   "id": "cb9c4d36-43c7-4715-a62c-ae9837921bbb",
   "metadata": {},
   "outputs": [],
   "source": [
    "filepath = Path(\"/Users/kperks/Documents/gdrive/.shortcut-targets-by-id/16q1BuOMfD2ta0Cwq8CjMlRe4rDvbuWC5/ELL_connectome/CREST_reconstructions/mg-network/\")\n",
    "filepath = filepath / \"cell_graph_305332461__2023-04-01 21.04.03.json\""
   ]
  },
  {
   "cell_type": "code",
   "execution_count": 91,
   "id": "b6eec29e-2be3-441a-b196-316373c3d901",
   "metadata": {},
   "outputs": [],
   "source": [
    "cell = ecrest(settings_dict,filepath = filepath,launch_viewer=False)"
   ]
  },
  {
   "cell_type": "code",
   "execution_count": 92,
   "id": "101fbab4-c354-4de4-abd7-96adeb1e5c88",
   "metadata": {},
   "outputs": [
    {
     "data": {
      "text/plain": [
       "{'exit volume': [],\n",
       " 'natural': [],\n",
       " 'bad alignment': [],\n",
       " 'uncorrected split': [],\n",
       " 'artefact': [],\n",
       " 'natural end': [],\n",
       " 'uncertain': [],\n",
       " 'pre-synaptic': [],\n",
       " 'post-synaptic': []}"
      ]
     },
     "execution_count": 92,
     "metadata": {},
     "output_type": "execute_result"
    }
   ],
   "source": [
    "old_points = cell.cell_data['end_points']\n",
    "old_points"
   ]
  },
  {
   "cell_type": "code",
   "execution_count": 93,
   "id": "14c9f900-a71f-402b-89f6-a0ec76625a89",
   "metadata": {},
   "outputs": [],
   "source": [
    "end_points = {}\n",
    "for p in cell.point_types:\n",
    "    # if p not in cell.cell_data['end_points']:\n",
    "    end_points[p] = []\n",
    "        \n",
    "cell.cell_data['end_points'] = end_points"
   ]
  },
  {
   "cell_type": "code",
   "execution_count": 66,
   "id": "76c1f388-7f89-4c08-8769-97c0c5459d95",
   "metadata": {},
   "outputs": [],
   "source": [
    "cell.cell_data['end_points']['natural end'] = old_points['natural']"
   ]
  },
  {
   "cell_type": "code",
   "execution_count": 94,
   "id": "6bcd077e-bc64-400b-9f56-0bbb382498fb",
   "metadata": {},
   "outputs": [
    {
     "data": {
      "text/plain": [
       "dict_keys(['exit volume', 'natural end', 'uncertain', 'pre-synaptic', 'post-synaptic'])"
      ]
     },
     "execution_count": 94,
     "metadata": {},
     "output_type": "execute_result"
    }
   ],
   "source": [
    "# cell.cell_data['end_points'].pop('natural')\n",
    "cell.cell_data['end_points'].keys()"
   ]
  },
  {
   "cell_type": "code",
   "execution_count": 95,
   "id": "bbf6b9bc-1ed2-4e71-be0b-0c7651843936",
   "metadata": {},
   "outputs": [
    {
     "name": "stdout",
     "output_type": "stream",
     "text": [
      "Saved cell 305332461 reconstruction locally at 2023-04-05 11.20.24\n"
     ]
    }
   ],
   "source": [
    "cell.save_cell_graph(directory_path = filepath.parent, file_name=filepath.name, save_to_cloud=False); #rewrites the original, not with a new time stamp"
   ]
  },
  {
   "cell_type": "markdown",
   "id": "9a6b276e-251e-4c16-a30f-bfaab72eebc5",
   "metadata": {},
   "source": [
    "## Figure out what is wrong with a crest file"
   ]
  },
  {
   "cell_type": "code",
   "execution_count": 125,
   "id": "ef7ae9d8-9034-4c22-bff7-c8e39f8c0448",
   "metadata": {},
   "outputs": [],
   "source": [
    "filepath = Path(\"/Users/kperks/Documents/gdrive/.shortcut-targets-by-id/16q1BuOMfD2ta0Cwq8CjMlRe4rDvbuWC5/ELL_connectome/CREST_reconstructions/mg-network/\")\n",
    "filepath = filepath / \"cell_graph_213605530__2023-03-29 22.49.21.json\"\n",
    "cell = ecrest(settings_dict,filepath = filepath,launch_viewer=False)"
   ]
  },
  {
   "cell_type": "code",
   "execution_count": 127,
   "id": "d743ef3b-a049-44dc-8e32-893a87a5fec8",
   "metadata": {},
   "outputs": [
    {
     "data": {
      "text/plain": [
       "[]"
      ]
     },
     "execution_count": 127,
     "metadata": {},
     "output_type": "execute_result"
    }
   ],
   "source": [
    "cell.cell_data['end_points']['post-synaptic']"
   ]
  },
  {
   "cell_type": "markdown",
   "id": "f27f4b2b-e2d0-4998-8d32-caa3d08f5900",
   "metadata": {},
   "source": [
    "## Fix pre-synaptic to be post-synaptic annotation list in converted crest jsons"
   ]
  },
  {
   "cell_type": "code",
   "execution_count": 157,
   "id": "b6ba64bf-cbc9-4778-81ba-8cd635606f2f",
   "metadata": {},
   "outputs": [],
   "source": [
    "json_fix = Path(\"/Users/kperks/Documents/gdrive/.shortcut-targets-by-id/16q1BuOMfD2ta0Cwq8CjMlRe4rDvbuWC5/ELL_connectome/Complete/synapses/to-crest/conversion_specs_synapse_fix.json\")\n",
    "\n",
    "with open(json_fix,'r') as f:\n",
    "    cells_to_fix = f.read()\n",
    "    cells_to_fix = json.loads(cells_to_fix)"
   ]
  },
  {
   "cell_type": "code",
   "execution_count": 158,
   "id": "e78fd2e7-16f0-4b42-9e81-751b1b114c74",
   "metadata": {},
   "outputs": [],
   "source": [
    "cells_to_fix = cells_to_fix['cell_info']"
   ]
  },
  {
   "cell_type": "code",
   "execution_count": 163,
   "id": "e2176837-bbba-4557-a9a8-b9e760b06b83",
   "metadata": {},
   "outputs": [
    {
     "name": "stdout",
     "output_type": "stream",
     "text": [
      "Saved cell 214412684 reconstruction locally at 2023-04-05 12.11.10\n",
      "Saved cell 214550811 reconstruction locally at 2023-04-05 12.11.10\n",
      "Saved cell 215572949 reconstruction locally at 2023-04-05 12.11.10\n",
      "Saved cell 216129202 reconstruction locally at 2023-04-05 12.11.10\n",
      "Saved cell 220275752 reconstruction locally at 2023-04-05 12.11.10\n",
      "Saved cell 297178666 reconstruction locally at 2023-04-05 12.11.10\n",
      "Saved cell 299497999 reconstruction locally at 2023-04-05 12.11.10\n",
      "Saved cell 299589324 reconstruction locally at 2023-04-05 12.11.10\n",
      "Saved cell 300210608 reconstruction locally at 2023-04-05 12.11.10\n",
      "Saved cell 300316308 reconstruction locally at 2023-04-05 12.11.10\n",
      "Saved cell 300380579 reconstruction locally at 2023-04-05 12.11.10\n",
      "\"305035439'\"\n",
      "Saved cell 31102601 reconstruction locally at 2023-04-05 12.11.10\n",
      "Saved cell 387368998 reconstruction locally at 2023-04-05 12.11.10\n",
      "Saved cell 392213717 reconstruction locally at 2023-04-05 12.11.10\n",
      "Saved cell 42802314 reconstruction locally at 2023-04-05 12.11.11\n",
      "'472161980'\n",
      "Saved cell 472175645 reconstruction locally at 2023-04-05 12.11.11\n",
      "Saved cell 472409584 reconstruction locally at 2023-04-05 12.11.11\n",
      "Saved cell 480066826 reconstruction locally at 2023-04-05 12.11.11\n",
      "Saved cell 49530373 reconstruction locally at 2023-04-05 12.11.11\n"
     ]
    }
   ],
   "source": [
    "for k,v in cells_to_fix.items():\n",
    "    try:\n",
    "        filepath = nodefiles[k]\n",
    "        cell = ecrest(settings_dict,filepath = filepath,launch_viewer=False)\n",
    "        cell.cell_data['end_points']['post-synaptic'] = deepcopy(cell.cell_data['end_points']['pre-synaptic'])\n",
    "\n",
    "        cell.cell_data['end_points']['pre-synaptic'] = []\n",
    "        # cell.save_cell_graph(directory_path = filepath.parent / 'original', file_name=filepath.name, save_to_cloud=False); #rewrites the original, not with a new time stamp\n",
    "    except KeyError as msg:\n",
    "        print(msg)\n",
    "        continue\n",
    "        "
   ]
  },
  {
   "cell_type": "code",
   "execution_count": 149,
   "id": "af15d4a1-2c45-4dad-8dc5-ee8b1eb4317e",
   "metadata": {},
   "outputs": [],
   "source": []
  },
  {
   "cell_type": "code",
   "execution_count": 150,
   "id": "bac8b0a7-b6cd-4a56-a155-7cb8f90d2c54",
   "metadata": {},
   "outputs": [
    {
     "data": {
      "text/plain": [
       "{'exit volume': [],\n",
       " 'natural end': [[142609.46875, 275542.6875, 45.0],\n",
       "  [142776.15625, 278173.6875, 2775.0],\n",
       "  [53208.87890625, 271123.09375, 13365.0],\n",
       "  [70813.0859375, 267435.34375, 10044.652404785156],\n",
       "  [51008.359375, 284277.96875, 56675.0830078125],\n",
       "  [68367.4921875, 273829.5625, 31418.91357421875],\n",
       "  [64639.48046875, 274508.65625, 35085.003662109375],\n",
       "  [62399.1796875, 303022.0625, 106049.47265625],\n",
       "  [54059.69921875, 292912.375, 77115.0],\n",
       "  [115337.7109375, 289251.84375, 74204.99267578125],\n",
       "  [140118.015625, 284278.375, 106005.0],\n",
       "  [142204.484375, 284977.09375, 106005.0],\n",
       "  [111865.0390625, 291143.6875, 67154.99267578125],\n",
       "  [110964.0390625, 289608.1875, 66825.0],\n",
       "  [109141.9609375, 289524.5625, 66975.0],\n",
       "  [106861.765625, 289384.875, 68985.0],\n",
       "  [222726.3125, 265308.8125, 60494.996337890625],\n",
       "  [185022.09375, 273914.90625, 45135.0],\n",
       "  [184830.203125, 272752.84375, 52605.0],\n",
       "  [169899.09375, 265474.03125, 13754.999084472656],\n",
       "  [135296.546875, 277537.78125, 40934.996337890625],\n",
       "  [122864.8046875, 270745.4375, 31184.996337890625],\n",
       "  [137723.015625, 312193.65625, 106035.0],\n",
       "  [137060.875, 313303.625, 102337.37548828125],\n",
       "  [140551.875, 311073.71875, 78974.99267578125],\n",
       "  [200516.203125, 311475.6875, 106035.0],\n",
       "  [192419.9375, 310598.125, 96764.99267578125],\n",
       "  [183279.203125, 310559.15625, 93345.0],\n",
       "  [130835.0390625, 192378.203125, 106035.0],\n",
       "  [81289.7109375, 179026.671875, 106035.0],\n",
       "  [90222.59375, 208912.078125, 106035.0],\n",
       "  [192105.296875, 49391.17578125, 9614.999084472656],\n",
       "  [212747.71875, 49180.796875, 61094.99267578125],\n",
       "  [124347.953125, 52019.859375, 106035.0],\n",
       "  [155152.578125, 76213.7265625, 45.0],\n",
       "  [133582.078125, 128614.546875, 106035.0],\n",
       "  [134242.03125, 98370.8203125, 106035.0],\n",
       "  [113433.1484375, 99209.953125, 106035.0],\n",
       "  [182430.203125, 49238.4609375, 34124.996337890625],\n",
       "  [93554.6640625, 73034.8515625, 104906.46240234375],\n",
       "  [88471.875, 119794.3125, 38834.996337890625],\n",
       "  [55033.328125, 84431.0703125, 40455.003662109375],\n",
       "  [67395.7734375, 70934.171875, 65925.00732421875],\n",
       "  [124569.890625, 55806.61328125, 69015.00732421875],\n",
       "  [74379.4140625, 84828.9765625, 45.0],\n",
       "  [83033.75, 86694.6015625, 25305.0],\n",
       "  [91617.828125, 104709.140625, 45.0],\n",
       "  [141076.125, 60318.34375, 106035.0],\n",
       "  [215211.328125, 308878.625, 53954.996337890625],\n",
       "  [214443.046875, 307279.96875, 54344.996337890625],\n",
       "  [215030.859375, 307986.46875, 52575.0],\n",
       "  [214712.859375, 302142.6875, 62385.00732421875],\n",
       "  [214104.203125, 304233.90625, 60854.996337890625],\n",
       "  [189899.59375, 311289.40625, 48975.0],\n",
       "  [183343.78125, 311370.34375, 44205.0],\n",
       "  [181160.03125, 310586.78125, 43245.0],\n",
       "  [170115.796875, 310241.25, 37575.0],\n",
       "  [168698.96875, 311308.71875, 37034.996337890625],\n",
       "  [154350.265625, 313316.1875, 37544.996337890625],\n",
       "  [152391.453125, 310610.8125, 45.0],\n",
       "  [153568.765625, 310708.3125, 2715.000228881836],\n",
       "  [137728.703125, 310831.78125, 33255.003662109375],\n",
       "  [141694.96875, 310141.375, 50775.00732421875],\n",
       "  [162656.5, 323412.5625, 5775.000457763672],\n",
       "  [161882.171875, 324019.03125, 6008.211822509766],\n",
       "  [174081.75, 311736.1875, 4869.499969482422],\n",
       "  [175620.734375, 311505.1875, 11204.999084472656],\n",
       "  [176342.515625, 310904.40625, 8715.0],\n",
       "  [173013.703125, 311588.125, 8327.289733886719],\n",
       "  [171701.1875, 311510.78125, 8654.999084472656],\n",
       "  [169689.0, 310699.90625, 6794.999084472656],\n",
       "  [169953.203125, 311584.03125, 7065.0],\n",
       "  [150787.890625, 329012.25, 32775.0],\n",
       "  [150811.59375, 328484.53125, 34214.996337890625],\n",
       "  [151155.734375, 326433.0, 37514.996337890625],\n",
       "  [144179.609375, 316226.78125, 41535.0],\n",
       "  [126132.1015625, 317534.4375, 27014.998168945312],\n",
       "  [125275.65625, 317271.84375, 26084.998168945312],\n",
       "  [124675.6796875, 318120.6875, 25844.998168945312],\n",
       "  [136838.90625, 311748.375, 4455.0],\n",
       "  [132672.9375, 310965.5, 3705.000228881836],\n",
       "  [134711.140625, 314111.90625, 42495.003662109375],\n",
       "  [137472.484375, 309393.09375, 46785.0],\n",
       "  [78388.6796875, 315089.40625, 106035.0],\n",
       "  [56271.62109375, 318292.40625, 36254.996337890625],\n",
       "  [36406.5625, 318730.25, 59355.003662109375],\n",
       "  [36906.96875, 318733.28125, 58664.996337890625],\n",
       "  [30937.228515625, 320357.75, 62595.0],\n",
       "  [34140.55859375, 321677.53125, 61725.0],\n",
       "  [38609.1953125, 317320.8125, 55395.003662109375],\n",
       "  [39111.91796875, 316482.65625, 51765.003662109375],\n",
       "  [43218.67578125, 316450.96875, 48795.0],\n",
       "  [62954.66796875, 314006.625, 53445.00732421875],\n",
       "  [47927.6875, 317762.5, 69915.0],\n",
       "  [32473.51953125, 324043.25, 84885.0],\n",
       "  [73807.90625, 312036.875, 17924.998168945312],\n",
       "  [64130.23828125, 311797.0625, 13305.0],\n",
       "  [34540.015625, 317452.46875, 6524.999542236328],\n",
       "  [98563.9453125, 310230.6875, 21315.0],\n",
       "  [98442.4296875, 308578.15625, 25005.0],\n",
       "  [101650.9140625, 310098.0, 26985.001831054688],\n",
       "  [106998.640625, 309657.78125, 33675.003662109375],\n",
       "  [106726.640625, 308553.78125, 34095.003662109375],\n",
       "  [104712.7265625, 310591.125, 32595.0],\n",
       "  [105705.3515625, 309894.53125, 32745.003662109375]],\n",
       " 'uncertain': [],\n",
       " 'pre-synaptic': [],\n",
       " 'post-synaptic': [[222438.765625,\n",
       "   266163.84375,\n",
       "   60164.99267578125,\n",
       "   '385188039'],\n",
       "  [222150.640625, 264922.28125, 60225.00732421875, '207761438'],\n",
       "  [222024.890625, 267046.09375, 57765.0, '387491152'],\n",
       "  [221821.09375, 266376.46875, 58124.996337890625, '386346210'],\n",
       "  [221122.375, 267628.375, 57824.996337890625, '299344334'],\n",
       "  [220142.234375, 269705.28125, 57824.996337890625, '385188039'],\n",
       "  [218304.78125, 272044.125, 56085.003662109375, '301603337'],\n",
       "  [219175.921875, 273562.75, 55695.003662109375, '301619421'],\n",
       "  [184640.65625, 274442.0625, 45675.003662109375, '215666697'],\n",
       "  [185299.90625, 274542.125, 45465.003662109375, '302684381'],\n",
       "  [185364.640625, 274118.34375, 46725.0, '301538610'],\n",
       "  [186329.46875, 274646.8125, 51855.0, '302667883'],\n",
       "  [170126.8125, 265266.3125, 13875.0, '41564382'],\n",
       "  [173270.828125, 266121.875, 17505.001831054688, '128612633'],\n",
       "  [174976.484375, 267636.78125, 20595.001831054688, '129758863'],\n",
       "  [176047.40625, 268245.4375, 21195.001831054688, '128612633'],\n",
       "  [174134.953125, 268264.1875, 20925.001831054688, '128612632'],\n",
       "  [175716.90625, 268953.3125, 26715.001831054688, '129744690'],\n",
       "  [175769.859375, 268088.0625, 27945.0, '215647260'],\n",
       "  [175030.609375, 268507.8125, 32265.003662109375, '215633294'],\n",
       "  [134582.828125, 277103.125, 40845.0, '130812329'],\n",
       "  [132883.890625, 276403.46875, 41715.0, '302559454'],\n",
       "  [129092.6171875, 275796.625, 42405.0, '302559664'],\n",
       "  [127891.5546875, 276132.71875, 41895.0, '302559111'],\n",
       "  [123086.421875, 269439.5625, 33945.003662109375, '115945511'],\n",
       "  [122927.5234375, 268533.125, 33945.003662109375, '215525266'],\n",
       "  [123698.5546875, 269569.0625, 34605.0, '130812329'],\n",
       "  [123180.609375, 268391.84375, 35025.0, '215525737'],\n",
       "  [120918.5625, 267548.90625, 37755.003662109375, '130812329'],\n",
       "  [119834.46875, 267233.09375, 40095.003662109375, '215511594'],\n",
       "  [118698.4375, 266762.125, 40035.003662109375, '214366905'],\n",
       "  [118990.890625, 268249.0625, 43065.0, '111345587'],\n",
       "  [118393.8359375, 269207.9375, 44091.01318359375, '301384141'],\n",
       "  [118357.6953125, 267847.09375, 44595.003662109375, '300238999'],\n",
       "  [117708.5625, 270587.0625, 45555.0, '300238999'],\n",
       "  [117996.9765625, 270769.53125, 45045.003662109375, '301384808'],\n",
       "  [70899.265625, 267728.40625, 10065.0, '40229907'],\n",
       "  [64805.5078125, 267682.625, 9255.000915527344, '43637142'],\n",
       "  [61313.9765625, 268318.71875, 9435.000915527344, '43637214'],\n",
       "  [60731.25, 268189.21875, 9225.0, '43620822'],\n",
       "  [56518.765625, 271486.5, 11625.0, '43622129'],\n",
       "  [54586.29296875, 271913.15625, 11655.0, '42476420'],\n",
       "  [54150.72265625, 271147.96875, 11355.000915527344, '41348014'],\n",
       "  [55226.171875, 270553.3125, 10605.000915527344, '41348014'],\n",
       "  [56132.625, 270871.15625, 10275.000915527344, '43621743'],\n",
       "  [54094.2578125, 270927.34375, 13095.001831054688, '43622281'],\n",
       "  [52987.67578125, 270791.96875, 13245.000915527344, '43621993'],\n",
       "  [76980.3359375, 281484.90625, 12794.999084472656, '45958431'],\n",
       "  [78685.75, 282098.96875, 14385.0, '131830315'],\n",
       "  [68648.90625, 274140.65625, 31994.996337890625, '119179690'],\n",
       "  [67494.0703125, 273422.53125, 32984.996337890625, '119179690'],\n",
       "  [64262.49609375, 274684.125, 34875.0, '123804398'],\n",
       "  [65362.77734375, 275698.90625, 36254.996337890625, '119179690'],\n",
       "  [64110.91015625, 276387.9375, 36494.996337890625, '216547178'],\n",
       "  [65411.3125, 277300.15625, 38204.996337890625, '119179690'],\n",
       "  [52007.59765625, 284414.5625, 56714.996337890625, '301247367'],\n",
       "  [51299.17578125, 283929.375, 56684.996337890625, '389393898'],\n",
       "  [51687.35546875, 285045.40625, 55935.0, '389409910'],\n",
       "  [56595.0703125, 279360.3125, 55364.996337890625, '388264713'],\n",
       "  [55925.4609375, 279535.0, 55184.99267578125, '211953945'],\n",
       "  [56195.5859375, 279067.125, 53445.00732421875, '388264300'],\n",
       "  [54498.90625, 293680.34375, 75884.99267578125, '476432190'],\n",
       "  [53945.75, 292399.34375, 76814.99267578125, '476432449'],\n",
       "  [61975.5078125, 291960.90625, 69494.99267578125, '476445559'],\n",
       "  [63790.24609375, 292504.375, 68384.99267578125, '390572721'],\n",
       "  [142478.109375, 284582.59375, 105615.0, '647238132'],\n",
       "  [142206.390625, 286096.46875, 105644.99267578125, '393031999'],\n",
       "  [114504.7734375, 289958.1875, 75224.99267578125, '388422459'],\n",
       "  [114068.0703125, 288978.03125, 74504.99267578125, '476570050'],\n",
       "  [112073.4609375, 291612.40625, 67515.0, '476553358'],\n",
       "  [111209.7734375, 289535.59375, 67454.99267578125, '305889380'],\n",
       "  [108346.90625, 288759.15625, 67454.99267578125, '305889380'],\n",
       "  [105891.6640625, 288574.75, 68625.0, '305889380'],\n",
       "  [103718.8125, 289757.8125, 69824.99267578125, '305889380']]}"
      ]
     },
     "execution_count": 150,
     "metadata": {},
     "output_type": "execute_result"
    }
   ],
   "source": [
    "cell.cell_data['end_points']"
   ]
  },
  {
   "cell_type": "markdown",
   "id": "7e827d5e-6818-4ac7-ad95-8c231650e7d6",
   "metadata": {},
   "source": [
    "## Anatomical Clustering"
   ]
  },
  {
   "cell_type": "code",
   "execution_count": null,
   "id": "18ed8e96-377a-4a21-9eb3-b3a462d669e4",
   "metadata": {},
   "outputs": [],
   "source": []
  }
 ],
 "metadata": {
  "kernelspec": {
   "display_name": "Python 3 (ipykernel)",
   "language": "python",
   "name": "python3"
  },
  "language_info": {
   "codemirror_mode": {
    "name": "ipython",
    "version": 3
   },
   "file_extension": ".py",
   "mimetype": "text/x-python",
   "name": "python",
   "nbconvert_exporter": "python",
   "pygments_lexer": "ipython3",
   "version": "3.8.13"
  },
  "widgets": {
   "application/vnd.jupyter.widget-state+json": {
    "state": {},
    "version_major": 2,
    "version_minor": 0
   }
  }
 },
 "nbformat": 4,
 "nbformat_minor": 5
}
