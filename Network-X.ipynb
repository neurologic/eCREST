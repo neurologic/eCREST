{
 "cells": [
  {
   "cell_type": "markdown",
   "id": "60359062-e4ba-46ad-a8bb-a2feb243a874",
   "metadata": {},
   "source": [
    "# Setup\n",
    "\n",
    "## Import packages"
   ]
  },
  {
   "cell_type": "code",
   "execution_count": 1,
   "id": "91c6fa14-16c4-45ee-97a5-7660f04b4c2b",
   "metadata": {},
   "outputs": [],
   "source": [
    "############################################################################################################################ \n",
    "# Get the latest CREST files for each ID within the target folder (dirname)\n",
    "\n",
    "from pathlib import Path\n",
    "import json\n",
    "from sqlite3 import connect as sqlite3_connect\n",
    "from sqlite3 import DatabaseError\n",
    "import networkx as nx\n",
    "from igraph import Graph as ig_Graph\n",
    "from igraph import plot as ig_plot\n",
    "from scipy.spatial.distance import cdist\n",
    "from random import choice as random_choice\n",
    "from itertools import combinations\n",
    "from numpy import array, unravel_index, argmin, mean\n",
    "import random\n",
    "import numpy as np\n",
    "from copy import deepcopy\n",
    "import itertools\n",
    "from datetime import datetime\n",
    "from time import time\n",
    "import neuroglancer\n",
    "from webbrowser import open as wb_open\n",
    "from webbrowser import open_new as wb_open_new\n",
    "import pandas as pd\n",
    "import seaborn as sns\n",
    "import matplotlib\n",
    "from matplotlib import pyplot as plt\n",
    "from matplotlib import patches\n",
    "from matplotlib.lines import Line2D\n",
    "import matplotlib.lines as mlines\n",
    "from tqdm import tqdm\n",
    "from time import time, sleep\n",
    "\n",
    "# from eCREST_cli_beta import ecrest, import_settings\n",
    "from eCREST_cli import ecrest, import_settings, get_cell_filepaths"
   ]
  },
  {
   "cell_type": "code",
   "execution_count": 2,
   "id": "36ca69b2-139e-4b46-afcf-772864fb8bac",
   "metadata": {},
   "outputs": [],
   "source": [
    "vx_sizes = [16, 16, 30]\n",
    "\n",
    "def get_viewer(backgnd_color = \"black\"):\n",
    "    viewer = neuroglancer.Viewer()\n",
    "    viewer.set_state({})\n",
    "\n",
    "    location=[17000,17000,1500]\n",
    "\n",
    "    with viewer.config_state.txn() as s:\n",
    "        s.show_layer_panel = True ###\n",
    "\n",
    "    with viewer.txn(overwrite=True) as s:\n",
    "\n",
    "        dimensions = neuroglancer.CoordinateSpace(\n",
    "            scales=vx_sizes,# self.vx_sizes['em'],\n",
    "            units='nm',\n",
    "            names=['x', 'y', 'z']   )\n",
    "\n",
    "        s.showSlices = False\n",
    "        s.dimensions = dimensions\n",
    "        s.position = array(location)\n",
    "        s.layout = \"3d\"\n",
    "        s.projectionScale = 30000\n",
    "        s.projection_background_color= matplotlib.colors.cnames[backgnd_color]#\"#000000\"\n",
    "        # s.projection_background_color= \"#ffffff\"\n",
    "        s.showSlices = False\n",
    "\n",
    "    with viewer.txn(overwrite=True) as s:\n",
    "        wb_open(str(viewer))\n",
    "    \n",
    "    return viewer\n",
    "\n",
    "def create_baseseg_layer(viewer, source, lname, visible = False, objectAlpha = 1):\n",
    "    with viewer.txn(overwrite=True) as s:\n",
    "        s.layers[lname] = neuroglancer.SegmentationLayer(source = source, segments=[], segment_colors={})\n",
    "        s.layers[lname].ignoreNullVisibleSet = False\n",
    "        s.layers[lname].pick = True\n",
    "        s.layers[lname].selectedAlpha = 0.5 #For 2D\n",
    "        s.layers[lname].objectAlpha = objectAlpha\n",
    "        s.layers[lname].visible = visible\n",
    "                 \n",
    "\n",
    "def create_em_layer(viewer, source = 'brainmaps://10393113184:ell:roi450um_xyz'):\n",
    "    with viewer.txn(overwrite=True) as s:\n",
    "        s.layers['em'] = neuroglancer.ImageLayer(source = source)\n",
    "\n",
    "def clear_baseseg_layer(viewer, lname):\n",
    "    displayed_segs = set([str(x) for x in viewer.state.layers[lname].segments])\n",
    "\n",
    "    # REMOVE SEGMENTS FROM NGviewer\n",
    "    remove_segs = displayed_segs\n",
    "\n",
    "    with viewer.txn(overwrite=True) as s:\n",
    "        for bs in remove_segs:\n",
    "            if int(bs) in s.layers[lname].segments:\n",
    "                s.layers[lname].segments.remove(int(bs))\n",
    "\n",
    "def point_on_line(u, v, d):\n",
    "    delta_x = v[0] - u[0]\n",
    "    delta_y = v[1] - u[1]\n",
    "    length = (delta_x**2 + delta_y**2)**0.5  # Length of the line segment between u and v\n",
    "    if length == 0:\n",
    "        return u  # Return u if u and v coincide\n",
    "    scaling_factor = d / length\n",
    "    p = (u[0] + scaling_factor * delta_x, u[1] + scaling_factor * delta_y)\n",
    "    return p\n",
    "\n",
    "# Create custom arrow style as a function\n",
    "def arrow_style(posA, posB, mutation_size, linewidth, linestyle, color):\n",
    "    line1 = [(0, 0), (1, 0)]\n",
    "    line2 = [(0, -0.2), (1, 0.2)]\n",
    "    return patches.FancyArrowPatch(posA, posB, arrowstyle=patches.ArrowStyle.Simple(tail_width=linewidth, head_width=mutation_size, head_length=mutation_size * 2),\n",
    "                                   color=color, linewidth=linewidth, linestyle=linestyle, mutation_scale=mutation_size,alpha = 0.5)\n"
   ]
  },
  {
   "cell_type": "markdown",
   "id": "0028411b-c797-40fd-a5bf-b187f4dd049d",
   "metadata": {},
   "source": [
    "## Import settings\n",
    "\n",
    "If you save a copy of settings_dict.json (found in the \"under construction\" directory of eCREST repo) locally somewhere outside the repo (like in your save_dir), then you can use the following code cell to import. This avoids needing to re-type the save_dir and db_path each time you \"git pull\" updates from the repo to this notebook."
   ]
  },
  {
   "cell_type": "code",
   "execution_count": 3,
   "id": "ee6dd1d5-c4a8-4e96-95f1-f077e8cc1064",
   "metadata": {},
   "outputs": [],
   "source": [
    "path_to_settings_json = '/Users/kperks/Documents/ell-connectome/eCREST-local-files/settings_dict.json'\n",
    "settings_dict = import_settings(path_to_settings_json)\n",
    "\n",
    "db_cursors = sqlite3_connect(settings_dict['db_path'], check_same_thread=False).cursor()\n",
    "\n",
    "a = ', '.join(['base_address'])\n",
    "\n",
    "db_cursors.execute(f'''SELECT {a} FROM addresses_table LIMIT 1''')\n",
    "\n",
    "[base_seg] = db_cursors.fetchall()[0]\n"
   ]
  },
  {
   "cell_type": "markdown",
   "id": "5bad67a1-4ea3-4946-a1ac-c8b81b6f0961",
   "metadata": {},
   "source": [
    "## Load files"
   ]
  },
  {
   "cell_type": "code",
   "execution_count": 4,
   "id": "aebbc0be-0fce-4813-91c5-9834be9ec011",
   "metadata": {},
   "outputs": [],
   "source": [
    "dirpath = Path(settings_dict['save_dir'])\n"
   ]
  },
  {
   "cell_type": "code",
   "execution_count": 5,
   "id": "742324c9-c941-4d76-8df1-910e25363d4f",
   "metadata": {},
   "outputs": [],
   "source": [
    "nodefiles = get_cell_filepaths(dirpath)"
   ]
  },
  {
   "cell_type": "code",
   "execution_count": 6,
   "id": "ff34ab8d-05bc-4cbc-b2d4-3e15e58e19d3",
   "metadata": {},
   "outputs": [],
   "source": [
    "df_syn = pd.read_csv(dirpath / 'graphs/df_postsyn.csv')\n",
    "syn = 'post-synaptic'"
   ]
  },
  {
   "cell_type": "markdown",
   "id": "428aa32b-027d-4000-a913-e2e80cc2b763",
   "metadata": {},
   "source": [
    "## Cell features to add\n",
    "\n",
    "### Soma diameter"
   ]
  },
  {
   "cell_type": "code",
   "execution_count": 896,
   "id": "fa6599dc-1db1-4170-bc50-d26475b3c53d",
   "metadata": {},
   "outputs": [],
   "source": [
    "soma_diam = {}\n",
    "for x,f in nodefiles.items():\n",
    "    cell = ecrest(settings_dict,filepath = f,launch_viewer=False)\n",
    "    if 'soma' in cell.cell_data['end_points'].keys():\n",
    "        soma_anno = cell.cell_data['end_points']['soma']\n",
    "        if len(soma_anno)==4:\n",
    "            xpts = [p[0] for p in soma_anno]\n",
    "            zpts = [p[2] for p in soma_anno]\n",
    "            soma_diam[x] = np.mean([int((np.max(xpts)-np.min(xpts))),int((np.max(zpts)-np.min(zpts)))])/1000\n",
    "        if len(soma_anno)!=4:\n",
    "            soma_diam[x] = np.NaN\n",
    "    \n",
    "    if 'soma' not in cell.cell_data['end_points'].keys():\n",
    "        soma_diam[x] = np.NaN\n"
   ]
  },
  {
   "cell_type": "code",
   "execution_count": null,
   "id": "db5f4d85-e9d4-4154-8c7c-c19b07432cfb",
   "metadata": {},
   "outputs": [],
   "source": [
    "\n",
    "for i,r in df_syn.iterrows():\n",
    "    df_syn.loc[i,'pre_diam']=soma_diam[str(df_syn.loc[i,'pre'])]\n",
    "    df_syn.loc[i,'post_diam']=soma_diam[str(df_syn.loc[i,'post'])]\n",
    "df_syn.loc[:,'diam_diff'] = (df_syn['post_diam']-df_syn['pre_diam'])/df_syn['pre_diam']\n"
   ]
  },
  {
   "cell_type": "code",
   "execution_count": 900,
   "id": "353d19eb-626c-4245-9e06-12a123a0cc28",
   "metadata": {},
   "outputs": [
    {
     "data": {
      "text/plain": [
       "9.901"
      ]
     },
     "execution_count": 900,
     "metadata": {},
     "output_type": "execute_result"
    }
   ],
   "source": [
    "soma_diam['216004541']"
   ]
  },
  {
   "cell_type": "markdown",
   "id": "8d71084b-2478-493b-a6a2-1c1e56587d70",
   "metadata": {},
   "source": [
    "# Completeness of synapses"
   ]
  },
  {
   "cell_type": "code",
   "execution_count": 7,
   "id": "c7654639-2a22-4f49-b606-7d0722c42fda",
   "metadata": {},
   "outputs": [],
   "source": [
    "all_types = set(df_syn['pre_type'].unique()) | set(df_syn['post_type'].unique()) #- set(['glia'])\n",
    "c_type_check = all_types #['mg1','mg2','sg1','sg2','grc']\n",
    "\n",
    "df_progress = pd.DataFrame(columns = ['id','type','soma-diam','n_syn','done','todo','completed'])\n",
    "for c in df_syn['pre'].unique():\n",
    "    \n",
    "    if (df_syn[df_syn['pre'] == c]['pre_type'].unique()[0] in c_type_check):\n",
    "\n",
    "        c_df = df_syn[df_syn['pre'].isin([c])]\n",
    "\n",
    "        cell = ecrest(settings_dict,filepath = nodefiles[str(c)],launch_viewer=False)\n",
    "\n",
    "        cell_dict = {\n",
    "            'id': cell.cell_data['metadata']['main_seg']['base'],\n",
    "            'type': cell.get_ctype(\"manual\"),\n",
    "            # 'soma-diam': soma_diam[str(c)],\n",
    "            'n_syn': len(cell.cell_data['end_points'][syn]),\n",
    "            'done': len(c_df),\n",
    "            'todo': len(cell.cell_data['end_points'][syn]) - len(c_df),\n",
    "            'completed': len(c_df) / (len(cell.cell_data['end_points'][syn]))\n",
    "            }\n",
    "\n",
    "        df_progress = pd.concat([df_progress,pd.DataFrame([cell_dict])])"
   ]
  },
  {
   "cell_type": "code",
   "execution_count": 827,
   "id": "b6236f3b-c858-41c8-bd56-a4520df355ee",
   "metadata": {},
   "outputs": [],
   "source": [
    "# df_progress"
   ]
  },
  {
   "cell_type": "markdown",
   "id": "8f144730-891e-49d2-aac7-825c7b2b96ff",
   "metadata": {},
   "source": [
    "# Edges"
   ]
  },
  {
   "cell_type": "markdown",
   "id": "1d9d5242-057d-4895-a58f-bc0777211871",
   "metadata": {},
   "source": [
    "## Filtered df_syn"
   ]
  },
  {
   "cell_type": "code",
   "execution_count": 8,
   "id": "1da5eacf-f718-4e33-afa5-3c63fa1d0e81",
   "metadata": {},
   "outputs": [],
   "source": [
    "# Filter by pre and/or post cell type\n",
    "\n",
    "network_types = (set(df_syn['pre_type'].unique()) | set(df_syn['post_type'].unique())) - set(['glia','uk','fov']) #,'dml','tsd']) #'tsd','dml','sgx1','sgx2'])"
   ]
  },
  {
   "cell_type": "code",
   "execution_count": 9,
   "id": "54883aa4-9330-4fd2-938b-eab675e0e980",
   "metadata": {},
   "outputs": [],
   "source": [
    "df_syn = df_syn[(df_syn['pre_type'].isin(network_types))&(df_syn['post_type'].isin(network_types))] #- set(['lg','lf'])\n",
    "\n",
    "if syn == 'pre-synaptic':\n",
    "    df_syn.drop(df_syn[df_syn['pre'].isin([299392199,386392158,472361842,389085521,227254070,228321391,403522169,313068329,126649726])].index, inplace=True)\n"
   ]
  },
  {
   "cell_type": "code",
   "execution_count": 877,
   "id": "721531bc-0210-4c0e-9bd8-28d3773e776a",
   "metadata": {},
   "outputs": [],
   "source": [
    "# Filter by completeness of synaptic reconstructions\n",
    "\n",
    "if syn=='post':\n",
    "    df_syn_completed = df_syn[df_syn['pre'].isin([int(id_) for id_ in df_progress[df_progress['completed']>0.9]['id'].values])]\n",
    "    df_syn = pd.concat(df_syn_completed,df_syn[df_syn['pre_type'].isin(['aff'])])\n",
    "    \n",
    "    \n",
    "if syn=='pre':\n",
    "    df_syn = df_syn[df_syn['pre'].isin([int(id_) for id_ in df_progress[df_progress['completed']>0.3]['id'].values])]\n",
    "    # df_syn.rename(columns={'pre_type':'post_type','post_type':'pre_type'}, inplace=True)"
   ]
  },
  {
   "cell_type": "markdown",
   "id": "36b43311-9a0a-40c7-9654-ed74a43a8425",
   "metadata": {},
   "source": [
    "## df_syn --> df_edges"
   ]
  },
  {
   "cell_type": "code",
   "execution_count": 10,
   "id": "e34639e8-ff67-45fa-bb22-be4b86456277",
   "metadata": {},
   "outputs": [],
   "source": [
    "# remove structure and soma diameter information if want to\n",
    "\n",
    "df_syn = df_syn.drop(['Unnamed: 0','x','y','z','structure'],axis=1)#,'pre_diam','post_diam','diam_diff'],axis=1)"
   ]
  },
  {
   "cell_type": "code",
   "execution_count": 11,
   "id": "81daf44f-1b9e-46d4-bcdd-c9deaa883f12",
   "metadata": {},
   "outputs": [],
   "source": [
    "df_edges=df_syn.value_counts().reset_index(name='weight')"
   ]
  },
  {
   "cell_type": "markdown",
   "id": "15934d66-9fe0-4b01-8005-7b427fdbb634",
   "metadata": {},
   "source": [
    "## df_edges --> all_connections\n",
    "\n",
    "mean connection quantifications"
   ]
  },
  {
   "cell_type": "code",
   "execution_count": 880,
   "id": "36e63f1d-1f82-40e5-8d46-4466c5782b53",
   "metadata": {},
   "outputs": [],
   "source": [
    "'''\n",
    "# If wanted to do mean among only cells that made each type of connection...\n",
    "\n",
    "# Group by 'pre_type', 'post_type', and 'pre', count unique 'post', then reset index\n",
    "result_df = df_edges.groupby(['pre_type', 'post_type', 'pre'])['post'].nunique().reset_index()\n",
    "\n",
    "# Group by 'pre_type' and 'post_type', calculate the mean of 'post' counts and rename the column\n",
    "result_df.groupby(['pre_type', 'post_type'])['post'].mean().reset_index().rename(columns={'post': 'n_post'})'''\n",
    "\n",
    "\n",
    "# calculates mean by dividing by total number of pre cells (labeled with syn and post reconstructed)\n",
    "\n",
    "result_df = df_edges.groupby(['pre_type', 'post_type'])['weight'].sum().reset_index()\n",
    "\n",
    "n_post = df_edges.groupby(['pre_type', 'post_type']).nunique().reset_index()[['pre_type','post_type','post']].rename(columns={'post':'n_post'})\n",
    "\n",
    "result_df['n_post']=n_post['n_post']\n",
    "\n",
    "n_cells = df_edges.groupby(['pre_type'])['pre'].nunique().reset_index()#res.groupby('pre_type')['weight'].sum()\n",
    "n_cells = n_cells.rename(columns={'pre': 'n_pre'})\n",
    "# np.round(result_df.weight / denom)\n",
    "merged_df = pd.merge(result_df, n_cells, on='pre_type', how='left')\n",
    "\n",
    "n_cells = df_edges.groupby(['post_type'])['post'].nunique().reset_index()#res.groupby('pre_type')['weight'].sum()\n",
    "n_cells = n_cells.rename(columns={'post': 'n_post'})\n",
    "\n",
    "# Calculate the mean weight from pre to post for each pre_type-post_type category\n",
    "merged_df['mean_weight'] = (merged_df['weight'] / merged_df['n_pre'])#.apply(lambda x: '%.1f' % x)\n",
    "\n",
    "merged_df['mean_cells'] =(merged_df['n_post'] / merged_df['n_pre'])#.apply(lambda x: '%.1f' % x)\n",
    "\n",
    "# Drop unnecessary columns if needed\n",
    "final_result = deepcopy(merged_df)#[['pre_type', 'post_type', 'mean_weight','mean_post']])\n",
    "\n",
    "# Display the result\n",
    "# final_result.head()"
   ]
  },
  {
   "cell_type": "markdown",
   "id": "09b329da-4d39-4032-8576-3c5aaecd63b5",
   "metadata": {},
   "source": [
    "For postsynaptic reconstructions, just use result_df"
   ]
  },
  {
   "cell_type": "code",
   "execution_count": 881,
   "id": "7ab464e2-7dd6-481a-bc39-a5036669c18a",
   "metadata": {},
   "outputs": [],
   "source": [
    "final_result.loc[:,'direction']=syn\n",
    "\n",
    "all_connections = final_result"
   ]
  },
  {
   "cell_type": "markdown",
   "id": "e89bbb92-0d73-4d1e-adad-ee95cbd31afe",
   "metadata": {},
   "source": [
    "For presynaptic reconstructions, need to switch pre and post columns of result df"
   ]
  },
  {
   "cell_type": "code",
   "execution_count": 585,
   "id": "714ed72c-f6f2-4d76-9d07-cc53b8a853aa",
   "metadata": {},
   "outputs": [],
   "source": [
    "final_result.loc[:,'direction']=syn\n",
    "final_result.rename(columns={'pre_type':'post_type','post_type':'pre_type','n_post':'n_pre','n_pre':'n_post'}, inplace=True)\n",
    "\n",
    "all_connections = final_result"
   ]
  },
  {
   "cell_type": "code",
   "execution_count": 500,
   "id": "546066b3-7908-4052-b9e7-2f4a0fc8d029",
   "metadata": {},
   "outputs": [],
   "source": [
    "## if merge pre and post results\n",
    "\n",
    "# all_connections = pd.concat([all_connections,result_df])"
   ]
  },
  {
   "cell_type": "markdown",
   "id": "71f55a04-a737-416f-8d1a-40619a93d55a",
   "metadata": {},
   "source": [
    "# Create graph from all_connections"
   ]
  },
  {
   "cell_type": "code",
   "execution_count": 882,
   "id": "bfe31f42-d3c2-4cc3-88c2-58e72c49d766",
   "metadata": {},
   "outputs": [
    {
     "data": {
      "text/html": [
       "<div>\n",
       "<style scoped>\n",
       "    .dataframe tbody tr th:only-of-type {\n",
       "        vertical-align: middle;\n",
       "    }\n",
       "\n",
       "    .dataframe tbody tr th {\n",
       "        vertical-align: top;\n",
       "    }\n",
       "\n",
       "    .dataframe thead th {\n",
       "        text-align: right;\n",
       "    }\n",
       "</style>\n",
       "<table border=\"1\" class=\"dataframe\">\n",
       "  <thead>\n",
       "    <tr style=\"text-align: right;\">\n",
       "      <th></th>\n",
       "      <th>pre_type</th>\n",
       "      <th>post_type</th>\n",
       "      <th>weight</th>\n",
       "      <th>n_post</th>\n",
       "      <th>n_pre</th>\n",
       "      <th>mean_weight</th>\n",
       "      <th>mean_cells</th>\n",
       "      <th>direction</th>\n",
       "    </tr>\n",
       "  </thead>\n",
       "  <tbody>\n",
       "    <tr>\n",
       "      <th>0</th>\n",
       "      <td>aff</td>\n",
       "      <td>grc-d</td>\n",
       "      <td>154</td>\n",
       "      <td>67</td>\n",
       "      <td>1</td>\n",
       "      <td>154.0</td>\n",
       "      <td>67.0</td>\n",
       "      <td>post-synaptic</td>\n",
       "    </tr>\n",
       "    <tr>\n",
       "      <th>1</th>\n",
       "      <td>aff</td>\n",
       "      <td>grc-s</td>\n",
       "      <td>1</td>\n",
       "      <td>1</td>\n",
       "      <td>1</td>\n",
       "      <td>1.0</td>\n",
       "      <td>1.0</td>\n",
       "      <td>post-synaptic</td>\n",
       "    </tr>\n",
       "    <tr>\n",
       "      <th>2</th>\n",
       "      <td>aff</td>\n",
       "      <td>lf</td>\n",
       "      <td>18</td>\n",
       "      <td>6</td>\n",
       "      <td>1</td>\n",
       "      <td>18.0</td>\n",
       "      <td>6.0</td>\n",
       "      <td>post-synaptic</td>\n",
       "    </tr>\n",
       "    <tr>\n",
       "      <th>3</th>\n",
       "      <td>aff</td>\n",
       "      <td>mg2</td>\n",
       "      <td>9</td>\n",
       "      <td>6</td>\n",
       "      <td>1</td>\n",
       "      <td>9.0</td>\n",
       "      <td>6.0</td>\n",
       "      <td>post-synaptic</td>\n",
       "    </tr>\n",
       "    <tr>\n",
       "      <th>4</th>\n",
       "      <td>aff</td>\n",
       "      <td>sg2</td>\n",
       "      <td>15</td>\n",
       "      <td>9</td>\n",
       "      <td>1</td>\n",
       "      <td>15.0</td>\n",
       "      <td>9.0</td>\n",
       "      <td>post-synaptic</td>\n",
       "    </tr>\n",
       "  </tbody>\n",
       "</table>\n",
       "</div>"
      ],
      "text/plain": [
       "  pre_type post_type  weight  n_post  n_pre  mean_weight  mean_cells  \\\n",
       "0      aff     grc-d     154      67      1        154.0        67.0   \n",
       "1      aff     grc-s       1       1      1          1.0         1.0   \n",
       "2      aff        lf      18       6      1         18.0         6.0   \n",
       "3      aff       mg2       9       6      1          9.0         6.0   \n",
       "4      aff       sg2      15       9      1         15.0         9.0   \n",
       "\n",
       "       direction  \n",
       "0  post-synaptic  \n",
       "1  post-synaptic  \n",
       "2  post-synaptic  \n",
       "3  post-synaptic  \n",
       "4  post-synaptic  "
      ]
     },
     "execution_count": 882,
     "metadata": {},
     "output_type": "execute_result"
    }
   ],
   "source": [
    "all_connections.head()#[all_connections['pre_type'].isin(['grc-d'])]"
   ]
  },
  {
   "cell_type": "code",
   "execution_count": 883,
   "id": "df658b7a-66a8-4fbd-a2e2-4acda414173d",
   "metadata": {},
   "outputs": [],
   "source": [
    "\n",
    "G = nx.DiGraph()  # Create a directed graph\n",
    "\n",
    "# nodes_to_add = set(all_connections['pre_type'].unique())|set(all_connections['post_type'].unique())\n",
    "G.add_nodes_from(set(all_connections['pre_type'].unique())|set(all_connections['post_type'].unique()))\n",
    "\n",
    "for index, row in all_connections.iterrows():\n",
    "    pre_type = row['pre_type']\n",
    "    post_type = row['post_type']\n",
    "    n_cells = row['mean_cells']\n",
    "    u_weight = row['mean_weight']#.asfloat()\n",
    "    direction = row['direction']\n",
    "\n",
    "    if direction == 'pre-synaptic':\n",
    "        edge_color = 'purple'\n",
    "    if direction == 'post-synaptic':\n",
    "        edge_color = 'green'\n",
    "\n",
    "    G.add_edge(pre_type, post_type, weight=u_weight, color=edge_color)\n"
   ]
  },
  {
   "cell_type": "markdown",
   "id": "e54e85b6-302f-45f0-ab4e-cc49dbbc710c",
   "metadata": {},
   "source": [
    "If want all pathways in connectivity dataframe"
   ]
  },
  {
   "cell_type": "code",
   "execution_count": 884,
   "id": "1fe40a50-93af-4913-8adc-c96beb7f4cac",
   "metadata": {},
   "outputs": [],
   "source": [
    "subgraph = G"
   ]
  },
  {
   "cell_type": "markdown",
   "id": "55ebd9c1-45aa-4263-8bbe-0733e9813789",
   "metadata": {},
   "source": [
    "If want pathways from only certain origin types"
   ]
  },
  {
   "cell_type": "code",
   "execution_count": 889,
   "id": "18026096-e8cb-4233-860b-f2aeb3408954",
   "metadata": {},
   "outputs": [],
   "source": [
    "selected_origin_types = ['grc-d','grc-s','sg1','sg2','aff','mg1','mg2'] #\n",
    "\n",
    "# Filter edges based on the selected origin types\n",
    "filtered_edges = [(u, v) for u, v in G.edges() if u in selected_origin_types]\n",
    "\n",
    "# Create a subgraph using the filtered edges\n",
    "subgraph = G.edge_subgraph(filtered_edges)"
   ]
  },
  {
   "cell_type": "markdown",
   "id": "9d488027-7219-4dd2-9996-dfbd874b091d",
   "metadata": {},
   "source": [
    "If want a pathway between specific cell types"
   ]
  },
  {
   "cell_type": "code",
   "execution_count": 886,
   "id": "65dbbad9-99b2-4d0d-a458-79f0db3f31ed",
   "metadata": {},
   "outputs": [],
   "source": [
    "# Source and target nodes\n",
    "source = 'aff'\n",
    "target = 'lf'\n",
    "\n",
    "# Find all paths from source to target\n",
    "all_paths = nx.all_simple_paths(subgraph, source=source, target=target, cutoff=3)\n",
    "\n",
    "\n",
    "nodes_in_paths = set()\n",
    "edges_in_paths = set()\n",
    "\n",
    "for path in all_paths:\n",
    "    nodes_in_paths.update(path)\n",
    "    edges_in_paths.update(zip(path[:-1], path[1:]))\n",
    "\n",
    "# Create a new graph and add nodes and edges from the paths\n",
    "subgraph = nx.DiGraph()\n",
    "subgraph.add_nodes_from(nodes_in_paths)\n",
    "subgraph.add_edges_from(edges_in_paths)\n",
    "\n",
    "for u, v in subgraph.edges():\n",
    "    subgraph[u][v]['weight'] = G[u][v]['weight']"
   ]
  },
  {
   "cell_type": "code",
   "execution_count": 894,
   "id": "41789fbe-ca6e-421c-a60d-babefd6f76e7",
   "metadata": {},
   "outputs": [
    {
     "data": {
      "image/png": "[encoded data removed]",
      "text/plain": [
       "<Figure size 1200x1200 with 1 Axes>"
      ]
     },
     "metadata": {},
     "output_type": "display_data"
    }
   ],
   "source": [
    "node_positions = {\n",
    "    'aff': (3.5,1.5),\n",
    "    'grc-s': (2,2.5),\n",
    "    'grc-d': (5,2.5),\n",
    "    'sgx2': (3,4),\n",
    "    'sgx1': (4,4),\n",
    "    'sg2': (1,4),\n",
    "    'sg1': (6,4),\n",
    "    'mg2': (1.5,5.5),\n",
    "    'mg1': (5.5,5.5),\n",
    "    'lg': (3,7),\n",
    "    'lf': (4,7),\n",
    "    'dml': (0.5,4.5),\n",
    "    'tsd': (6.5,4.5),\n",
    "    \n",
    "}\n",
    "\n",
    "# subgraph = G\n",
    "color_spec = {'mg1':'gray',\n",
    "             'sg1':'red',\n",
    "             'grc-s':'red',\n",
    "             'mg2':'gray',\n",
    "             'sg2':'blue',\n",
    "             'grc-d':'blue',\n",
    "             'dml':'gray',\n",
    "             'sgx1':'red',\n",
    "             'sgx2':'blue',\n",
    "             'aff':'red'}\n",
    "\n",
    "# pos = nx.circular_layout(G) #kamada_kawai_layout(G) #spring_layout(G)  # Position nodes using a layout\n",
    "hfig,ax = plt.subplots(1,figsize=(12,12))\n",
    "\n",
    "min_weight = 2\n",
    "weight_scale = 0.25\n",
    "\n",
    "# Draw nodes\n",
    "nx.draw_networkx_nodes(subgraph, pos=node_positions,node_color='yellow', node_size=3000)\n",
    "# Draw node labels\n",
    "node_labels = {node: node for node in subgraph.nodes()}  # Assuming node labels are the same as node names\n",
    "nx.draw_networkx_labels(subgraph, pos=node_positions, labels=node_labels, font_size=12)\n",
    "\n",
    "d_stop_short = 0.3\n",
    "for u, v, d in subgraph.edges(data=True):\n",
    "    if d['weight']>min_weight:\n",
    "        start = node_positions[u]\n",
    "        stop = point_on_line(node_positions[v], node_positions[u], d_stop_short)\n",
    "        \n",
    "        rad_arc = 0.2\n",
    "        if u in ['mg2','sg2','sgx-2','grc-s']: rad_arc = -0.2\n",
    "\n",
    "        # Draw a curved line (without arrowhead) between nodes 'a' and 'b'\n",
    "        arrow = patches.FancyArrowPatch(posA=start,\n",
    "                                posB=stop,\n",
    "                                arrowstyle='-',\n",
    "                                color=color_spec[u],\n",
    "                                linewidth= 2, #d['weight']*weight_scale,\n",
    "                                mutation_scale=20,\n",
    "                                connectionstyle=f\"arc3,rad={rad_arc}\",\n",
    "                                alpha=0.75, zorder=0)\n",
    "        plt.gca().add_patch(arrow)\n",
    "\n",
    "        # Draw a circle at the terminal point (b node) of the edge\n",
    "        circle_radius = 0.075  # Radius of the circle\n",
    "        if u!='aff':\n",
    "            circle_fill=True\n",
    "        if u=='aff':\n",
    "            circle_fill = False  # Set to True for a filled circle, False for an empty circle\n",
    "        circle_edge_width = 1  # Line width of the circle edge\n",
    "\n",
    "        circle = plt.Circle(point_on_line(node_positions[v], node_positions[u], d_stop_short), \n",
    "                            circle_radius, fill=circle_fill, alpha = 0.5, facecolor= 'black', edgecolor='black', linewidth=circle_edge_width, zorder=2)\n",
    "        plt.gca().add_patch(circle)\n",
    "    \n",
    "# Set aspect ratio to be equal to ensure the circle appears as a circle\n",
    "plt.axis('equal')\n",
    "\n",
    "# Set axis limits and turn off axis for a cleaner visualization\n",
    "# plt.xlim(-0.5, 2.5)\n",
    "# plt.ylim(-0.5, 0.5)\n",
    "plt.axis('off')\n",
    "\n",
    "\n",
    "edge_weights = {(u, v): subgraph[u][v]['weight'] for u, v in subgraph.edges() if subgraph[u][v]['weight']>min_weight}\n",
    "\n",
    "# Create a custom legend for edge widths\n",
    "min_weight = min(edge_weights.values())\n",
    "max_weight = max(edge_weights.values())\n",
    "num_levels = 4  # Number of levels in the legend\n",
    "lines = []\n",
    "edges_weight_list=[]\n",
    "for i in range(num_levels):\n",
    "    level_weight = min_weight + (i / (num_levels - 1)) * (max_weight - min_weight)\n",
    "    lines.append(Line2D([],[], linewidth=level_weight*weight_scale, color='black',solid_capstyle='butt'))\n",
    "    edges_weight_list.append(int(level_weight))\n",
    "\n",
    "legend = plt.legend(lines, edges_weight_list, bbox_to_anchor=(1.2,1), frameon=False,labelspacing=3)#,prop={'solid_capstyle':'butt'}) \n",
    "\n",
    "\n",
    "# Show the plot\n",
    "plt.show()\n"
   ]
  },
  {
   "cell_type": "code",
   "execution_count": 598,
   "id": "f3e3b6f6-f38c-4dad-9d42-607594d42d43",
   "metadata": {},
   "outputs": [
    {
     "data": {
      "text/plain": [
       "{('mg1', 'mg2'): 25.5,\n",
       " ('aff', 'mg2'): 6.5,\n",
       " ('aff', 'grc-d'): 21.4,\n",
       " ('aff', 'sg2'): 18.0,\n",
       " ('sg2', 'mg1'): 39.333333333333336,\n",
       " ('grc-s', 'mg2'): 41.0,\n",
       " ('sg1', 'mg2'): 119.0,\n",
       " ('sg1', 'grc-s'): 1.875,\n",
       " ('grc-d', 'mg1'): 33.666666666666664,\n",
       " ('grc-d', 'grc-s'): 25.125,\n",
       " ('grc-d', 'sg1'): 40.75}"
      ]
     },
     "execution_count": 598,
     "metadata": {},
     "output_type": "execute_result"
    }
   ],
   "source": [
    "edge_weights"
   ]
  },
  {
   "cell_type": "markdown",
   "id": "ba636a70-5878-4f6d-b539-3658867daefc",
   "metadata": {},
   "source": [
    "# Graph with individual cells to search paths\n",
    "\n",
    "Uses df_edges"
   ]
  },
  {
   "cell_type": "code",
   "execution_count": 12,
   "id": "d575e3ce-cd45-4cd4-93ed-69cdffd3422e",
   "metadata": {},
   "outputs": [],
   "source": [
    "def find_paths_with_limit(graph, max_steps, source = None, source_type=None, target=None, target_type=None):\n",
    "    paths = []\n",
    "                    \n",
    "    if source_type!=None:\n",
    "        for node in graph.nodes():\n",
    "            if graph.nodes[node]['cell_type'] == source_type:\n",
    "                \n",
    "                if target_type!=None:\n",
    "                    for target_node in find_nodes_by_cell_type(graph, target_type):\n",
    "                        for path in nx.all_simple_paths(graph, source=node, target=target_node, cutoff=max_steps):\n",
    "                            path_with_types = [(n, graph.nodes[n]['cell_type']) for n in path]\n",
    "                            paths.append(path_with_types)\n",
    "                            \n",
    "                if target_type==None:\n",
    "                    for path in nx.all_simple_paths(graph, source=node, target=target, cutoff=max_steps):\n",
    "                        path_with_types = [(n, graph.nodes[n]['cell_type']) for n in path]\n",
    "                        paths.append(path_with_types)\n",
    "                        \n",
    "    if source_type==None:\n",
    "        \n",
    "        if target_type!=None:\n",
    "            for target_node in find_nodes_by_cell_type(graph, target_type):\n",
    "                for path in nx.all_simple_paths(graph, source=source, target=target_node, cutoff=max_steps):\n",
    "                    path_with_types = [(n, graph.nodes[n]['cell_type']) for n in path]\n",
    "                    paths.append(path_with_types)\n",
    "\n",
    "        if target_type==None:\n",
    "            for path in nx.all_simple_paths(graph, source=source, target=target, cutoff=max_steps):\n",
    "                path_with_types = [(n, graph.nodes[n]['cell_type']) for n in path]\n",
    "                paths.append(path_with_types)\n",
    "                   \n",
    "    return paths\n",
    "\n",
    "# Function to find nodes by cell type\n",
    "def find_nodes_by_cell_type(graph, cell_type):\n",
    "    nodes_with_cell_type = []\n",
    "    for node in graph.nodes():\n",
    "        if graph.nodes[node]['cell_type'] == cell_type:\n",
    "            nodes_with_cell_type.append(node)\n",
    "    return nodes_with_cell_type"
   ]
  },
  {
   "cell_type": "code",
   "execution_count": 13,
   "id": "0563b999-b639-4c9d-9c64-7b864caa05e9",
   "metadata": {},
   "outputs": [
    {
     "data": {
      "text/html": [
       "<div>\n",
       "<style scoped>\n",
       "    .dataframe tbody tr th:only-of-type {\n",
       "        vertical-align: middle;\n",
       "    }\n",
       "\n",
       "    .dataframe tbody tr th {\n",
       "        vertical-align: top;\n",
       "    }\n",
       "\n",
       "    .dataframe thead th {\n",
       "        text-align: right;\n",
       "    }\n",
       "</style>\n",
       "<table border=\"1\" class=\"dataframe\">\n",
       "  <thead>\n",
       "    <tr style=\"text-align: right;\">\n",
       "      <th></th>\n",
       "      <th>pre</th>\n",
       "      <th>post</th>\n",
       "      <th>pre_type</th>\n",
       "      <th>post_type</th>\n",
       "      <th>weight</th>\n",
       "    </tr>\n",
       "  </thead>\n",
       "  <tbody>\n",
       "    <tr>\n",
       "      <th>0</th>\n",
       "      <td>306461085</td>\n",
       "      <td>301863996</td>\n",
       "      <td>sg2</td>\n",
       "      <td>lg</td>\n",
       "      <td>32</td>\n",
       "    </tr>\n",
       "    <tr>\n",
       "      <th>1</th>\n",
       "      <td>130781211</td>\n",
       "      <td>215526370</td>\n",
       "      <td>sg2</td>\n",
       "      <td>lg</td>\n",
       "      <td>32</td>\n",
       "    </tr>\n",
       "    <tr>\n",
       "      <th>2</th>\n",
       "      <td>473631846</td>\n",
       "      <td>305332461</td>\n",
       "      <td>mg2</td>\n",
       "      <td>lg</td>\n",
       "      <td>30</td>\n",
       "    </tr>\n",
       "    <tr>\n",
       "      <th>3</th>\n",
       "      <td>41579854</td>\n",
       "      <td>393078033</td>\n",
       "      <td>mg1</td>\n",
       "      <td>lf</td>\n",
       "      <td>29</td>\n",
       "    </tr>\n",
       "    <tr>\n",
       "      <th>4</th>\n",
       "      <td>300131090</td>\n",
       "      <td>392814322</td>\n",
       "      <td>mg1</td>\n",
       "      <td>lf</td>\n",
       "      <td>29</td>\n",
       "    </tr>\n",
       "  </tbody>\n",
       "</table>\n",
       "</div>"
      ],
      "text/plain": [
       "         pre       post pre_type post_type  weight\n",
       "0  306461085  301863996      sg2        lg      32\n",
       "1  130781211  215526370      sg2        lg      32\n",
       "2  473631846  305332461      mg2        lg      30\n",
       "3   41579854  393078033      mg1        lf      29\n",
       "4  300131090  392814322      mg1        lf      29"
      ]
     },
     "execution_count": 13,
     "metadata": {},
     "output_type": "execute_result"
    }
   ],
   "source": [
    "df_edges.head()"
   ]
  },
  {
   "cell_type": "code",
   "execution_count": 14,
   "id": "391a6575-ca24-4747-abad-1e7397cf9bba",
   "metadata": {},
   "outputs": [],
   "source": [
    "cell_types = {}\n",
    "\n",
    "for i,r in df_edges.iterrows():\n",
    "    cell_types[r['pre']]=r['pre_type']\n",
    "    cell_types[r['post']]=r['post_type']\n",
    "    \n"
   ]
  },
  {
   "cell_type": "code",
   "execution_count": 15,
   "id": "8a0aed0c-fc26-46f3-9b3e-af99e349526f",
   "metadata": {},
   "outputs": [],
   "source": [
    "nodes_to_graph = set(df_edges['pre'].unique())|set(df_edges['post'].unique())"
   ]
  },
  {
   "cell_type": "code",
   "execution_count": 16,
   "id": "3580b7e8-0958-44b8-bad8-2a80bb85bf54",
   "metadata": {},
   "outputs": [],
   "source": [
    "\n",
    "G = nx.DiGraph()\n",
    "\n",
    "# Add nodes with unique IDs and cell_type attribute\n",
    "for k in nodes_to_graph:\n",
    "    G.add_node(k, cell_type=cell_types[k])\n",
    "# Add more nodes as needed\n",
    "\n",
    "# Add edges between nodes (neurons\n",
    "for index, row in df_edges.iterrows():\n",
    "    pre_type = row['pre']\n",
    "    post_type = row['post']\n",
    "    weight = row['weight']\n",
    "\n",
    "    if syn == 'pre-synaptic':\n",
    "        G.add_edge(post_type, pre_type, weight=weight)\n",
    "    if syn == 'post-synaptic':\n",
    "        G.add_edge(pre_type, post_type, weight=weight)"
   ]
  },
  {
   "cell_type": "code",
   "execution_count": 862,
   "id": "5134af5d-697a-40e0-bee5-58b9c89a7539",
   "metadata": {},
   "outputs": [],
   "source": [
    "# example cells that are interconnected\n",
    "\n",
    "aff_cells=[61319896,568432342,483689146,309693374,559289471,558160524,561563174,484864533]"
   ]
  },
  {
   "cell_type": "code",
   "execution_count": 29,
   "id": "70e7d5f1-25a1-4b6c-b1a9-e914471f888d",
   "metadata": {},
   "outputs": [
    {
     "name": "stdout",
     "output_type": "stream",
     "text": [
      "[(285761792, 'none'), (44933647, 'lg')]\n",
      "[(285761792, 'none'), (221326165, 'sg2'), (215526370, 'lg')]\n",
      "[(285761792, 'none'), (300316308, 'mg2'), (215526370, 'lg')]\n",
      "[(285761792, 'none'), (128536704, 'mg2'), (215526370, 'lg')]\n",
      "[(285761792, 'none'), (215526370, 'lg')]\n"
     ]
    }
   ],
   "source": [
    "paths = find_paths_with_limit(G, max_steps=2, source=285761792, target_type='lg')\n",
    "for p in paths:\n",
    "    try:\n",
    "        if p[2][0] in [215526370,483687142,393325331,48573302,393078033]: #=='lg') | (p[2][1]==215526370):\n",
    "            print(p)\n",
    "            \n",
    "    except:\n",
    "        if len(p)<3:\n",
    "            print(p)\n",
    "            continue\n",
    "# [p for p in paths if (len(p)>2) & ((p[2][0]==285761792) | (p[2][0]==215526370))]\n",
    "# paths"
   ]
  },
  {
   "cell_type": "code",
   "execution_count": 37,
   "id": "b78eab93-3f3f-461d-b17c-dd1ce3b2131b",
   "metadata": {},
   "outputs": [],
   "source": [
    "grcs_cells = list(set([l[0][0] for l in paths]))"
   ]
  },
  {
   "cell_type": "code",
   "execution_count": 42,
   "id": "4bdf48d4-a658-4df5-a405-19557167a9d1",
   "metadata": {},
   "outputs": [
    {
     "data": {
      "text/plain": [
       "13"
      ]
     },
     "execution_count": 42,
     "metadata": {},
     "output_type": "execute_result"
    }
   ],
   "source": [
    "len(grcs_cells)"
   ]
  },
  {
   "cell_type": "code",
   "execution_count": 19,
   "id": "32c8b06b-1198-4bc3-8104-741b0c801c37",
   "metadata": {},
   "outputs": [],
   "source": [
    "c_id = [l[1][0] for l in paths]\n",
    "c_t = [l[1][1] for l in paths]"
   ]
  },
  {
   "cell_type": "code",
   "execution_count": 28,
   "id": "afc0f886-6f26-4fbc-b89a-e3b9f2674b15",
   "metadata": {},
   "outputs": [
    {
     "data": {
      "text/html": [
       "<div>\n",
       "<style scoped>\n",
       "    .dataframe tbody tr th:only-of-type {\n",
       "        vertical-align: middle;\n",
       "    }\n",
       "\n",
       "    .dataframe tbody tr th {\n",
       "        vertical-align: top;\n",
       "    }\n",
       "\n",
       "    .dataframe thead th {\n",
       "        text-align: right;\n",
       "    }\n",
       "</style>\n",
       "<table border=\"1\" class=\"dataframe\">\n",
       "  <thead>\n",
       "    <tr style=\"text-align: right;\">\n",
       "      <th></th>\n",
       "      <th>id</th>\n",
       "    </tr>\n",
       "    <tr>\n",
       "      <th>type</th>\n",
       "      <th></th>\n",
       "    </tr>\n",
       "  </thead>\n",
       "  <tbody>\n",
       "    <tr>\n",
       "      <th>grc-d</th>\n",
       "      <td>3</td>\n",
       "    </tr>\n",
       "    <tr>\n",
       "      <th>mg2</th>\n",
       "      <td>2</td>\n",
       "    </tr>\n",
       "    <tr>\n",
       "      <th>sg2</th>\n",
       "      <td>2</td>\n",
       "    </tr>\n",
       "    <tr>\n",
       "      <th>sgx2</th>\n",
       "      <td>1</td>\n",
       "    </tr>\n",
       "  </tbody>\n",
       "</table>\n",
       "</div>"
      ],
      "text/plain": [
       "       id\n",
       "type     \n",
       "grc-d   3\n",
       "mg2     2\n",
       "sg2     2\n",
       "sgx2    1"
      ]
     },
     "execution_count": 28,
     "metadata": {},
     "output_type": "execute_result"
    }
   ],
   "source": [
    "pd.DataFrame({'id':c_id,'type':c_t}).drop_duplicates(ignore_index=True).groupby(['type']).count()"
   ]
  },
  {
   "cell_type": "code",
   "execution_count": 46,
   "id": "fb9de6e4-20af-4f65-a0b2-53115cf5654c",
   "metadata": {},
   "outputs": [
    {
     "data": {
      "text/plain": [
       "[[(55472256, 'aff'), (226019332, 'grc-d')],\n",
       " [(55472256, 'aff'), (228366816, 'grc-d')],\n",
       " [(56553977, 'aff'), (226019332, 'grc-d')],\n",
       " [(60129918, 'aff'), (223881844, 'grc-d')],\n",
       " [(60129918, 'aff'), (482680782, 'grc-d')],\n",
       " [(60159066, 'aff'), (482680782, 'grc-d')],\n",
       " [(223835257, 'aff'), (481412554, 'grc-d')],\n",
       " [(223835257, 'aff'), (227254070, 'grc-d')],\n",
       " [(223835257, 'aff'), (482680782, 'grc-d')],\n",
       " [(400258384, 'aff'), (482680782, 'grc-d')],\n",
       " [(60192229, 'aff'), (223881844, 'grc-d')],\n",
       " [(60192229, 'aff'), (482680782, 'grc-d')],\n",
       " [(60081840, 'aff'), (223881844, 'grc-d')],\n",
       " [(60081840, 'aff'), (482680782, 'grc-d')],\n",
       " [(54372224, 'aff'), (226019332, 'grc-d')],\n",
       " [(54372224, 'aff'), (228366816, 'grc-d')],\n",
       " [(666982330, 'aff'), (481412554, 'grc-d')],\n",
       " [(60143700, 'aff'), (483689146, 'grc-d')],\n",
       " [(60143700, 'aff'), (481412554, 'grc-d')],\n",
       " [(57714981, 'aff'), (226019332, 'grc-d')],\n",
       " [(57714981, 'aff'), (228366816, 'grc-d')],\n",
       " [(56662421, 'aff'), (226019332, 'grc-d')],\n",
       " [(56662421, 'aff'), (228366816, 'grc-d')],\n",
       " [(61319896, 'aff'), (483689146, 'grc-d')],\n",
       " [(61319896, 'aff'), (481412554, 'grc-d')],\n",
       " [(668081112, 'aff'), (403522169, 'grc-d')],\n",
       " [(668081112, 'aff'), (483689146, 'grc-d')],\n",
       " [(668081112, 'aff'), (481412554, 'grc-d')],\n",
       " [(668081112, 'aff'), (313068329, 'grc-d')],\n",
       " [(668081112, 'aff'), (227254070, 'grc-d')],\n",
       " [(668081112, 'aff'), (482680782, 'grc-d')],\n",
       " [(55487871, 'aff'), (226019332, 'grc-d')],\n",
       " [(55487871, 'aff'), (228366816, 'grc-d')],\n",
       " [(56569586, 'aff'), (226019332, 'grc-d')],\n",
       " [(56569586, 'aff'), (228321391, 'grc-d')],\n",
       " [(56569586, 'aff'), (228366816, 'grc-d')]]"
      ]
     },
     "execution_count": 46,
     "metadata": {},
     "output_type": "execute_result"
    }
   ],
   "source": [
    "find_paths_with_limit(G, max_steps=1, source_type='aff', target_type = 'grc-d')"
   ]
  },
  {
   "cell_type": "code",
   "execution_count": 47,
   "id": "79dac4a0-0e16-499f-b4a2-f5779b142c38",
   "metadata": {},
   "outputs": [],
   "source": [
    "grc_cells = [483689146,481412554]"
   ]
  },
  {
   "cell_type": "code",
   "execution_count": null,
   "id": "bcf80a4c-14f7-4023-b50c-896389534be7",
   "metadata": {},
   "outputs": [],
   "source": [
    "source_type = 'aff'\n",
    "target_type = 'lg'\n",
    "max_steps = 3  # Maximum number of steps in the path\n",
    "\n",
    "paths = find_paths_with_limit(G, max_steps, source_type=source_type, target_type=target_type)\n",
    "\n",
    "paths"
   ]
  },
  {
   "cell_type": "code",
   "execution_count": 824,
   "id": "6af73f64-3ed1-4350-93e4-9693984931e1",
   "metadata": {},
   "outputs": [],
   "source": [
    "sg2_cells = [l_[0][0] for l_ in paths]"
   ]
  },
  {
   "cell_type": "code",
   "execution_count": null,
   "id": "ba87581c-24e0-4a9a-970f-2f5264cc0ee3",
   "metadata": {},
   "outputs": [],
   "source": [
    "source_type = 'grc-d'\n",
    "target_type = 'lg'\n",
    "max_steps = 1  # Maximum number of steps in the path\n",
    "\n",
    "paths = find_paths_with_limit(G, max_steps, source_type, target_type)\n",
    "paths\n"
   ]
  },
  {
   "cell_type": "code",
   "execution_count": 817,
   "id": "231aa08a-4c32-4854-9a27-5d948ad3761e",
   "metadata": {},
   "outputs": [],
   "source": [
    "grcd_cells = [l_[0][0] for l_ in paths]"
   ]
  },
  {
   "cell_type": "markdown",
   "id": "cbfb7426-8233-49ff-b850-ce800f5d0eb3",
   "metadata": {},
   "source": [
    "## visualize cell structure by type\n",
    "\n",
    "requires cell structure labeling to be done "
   ]
  },
  {
   "cell_type": "code",
   "execution_count": 38,
   "id": "01f74f77-4f71-40d9-bac2-09309a2b757f",
   "metadata": {},
   "outputs": [],
   "source": [
    "syn_colors = {\n",
    "    'sgx1':'#adebeb', #'#996633',\n",
    "    'sgx2':'#cc9900',\n",
    "    'sg1':'#00ffff',\n",
    "    'sg2':'#ff9900',\n",
    "    'grc-d':'#33cc33',\n",
    "    'grc-s':'#e6e600',\n",
    "    'dml':'#cccccc',\n",
    "    'mg1':'#0000ff',\n",
    "    'mg2':'#ff0000',\n",
    "    'lg':'#8000c8',\n",
    "    'lf':'#c80080',\n",
    "    'aff':'#ffffff',#'#ffc0cb',\n",
    "    'tsd':'#737373' \n",
    "}"
   ]
  },
  {
   "cell_type": "code",
   "execution_count": 50,
   "id": "35576018-2a0f-4846-88e6-4abe3135fcd2",
   "metadata": {},
   "outputs": [],
   "source": [
    "viewer = get_viewer(backgnd_color=\"white\")\n",
    "create_em_layer(viewer)"
   ]
  },
  {
   "cell_type": "markdown",
   "id": "3b5dbbe4-f725-47db-8fc9-16b638c77cf9",
   "metadata": {},
   "source": [
    "add pre cell basal dendrites"
   ]
  },
  {
   "cell_type": "code",
   "execution_count": 40,
   "id": "0aa945f0-6140-4c96-ba27-7b9bf2609076",
   "metadata": {},
   "outputs": [],
   "source": [
    "segs_to_add = {}\n",
    "structure_label = 'basal dendrite'\n",
    "for c_id in grc_cells: #random.sample(cells_to_add,k=10):\n",
    "    cell = ecrest(settings_dict,filepath = dirpath / nodefiles[str(c_id)], launch_viewer=False)\n",
    "    if cell.cell_data['base_segments'][structure_label] != set():\n",
    "        segs_to_add[c_id] = cell.cell_data['base_segments'][structure_label] #[a for b in cell.cell_data['base_segments'].values() for a in b]\n",
    "\n",
    "# each cell to same tab\n",
    "lname = str(c_id) + '_' + 'grcs'\n",
    "create_baseseg_layer(viewer, base_seg, lname, objectAlpha = 0.5)\n",
    "\n",
    "# each cell to a different tab    \n",
    "for c_id,b_ in segs_to_add.items():\n",
    "    # lname = str(c_id) + '_' + cell_types[c_id]\n",
    "    # create_baseseg_layer(viewer, base_seg, lname, objectAlpha = 0.5)\n",
    "    with viewer.txn(overwrite=True) as s:\n",
    "        for bs in b_: \n",
    "            s.layers[lname].segments.add(int(bs))\n",
    "            s.layers[lname].segment_colors[int(bs)] = syn_colors[cell_types[c_id]]#'#996633' #structure_colors[dtype] # blue\n",
    "    sleep(2)"
   ]
  },
  {
   "cell_type": "markdown",
   "id": "a999afb3-7d6a-483f-9381-3d1eb5b44ee1",
   "metadata": {},
   "source": [
    "add afferents"
   ]
  },
  {
   "cell_type": "code",
   "execution_count": 48,
   "id": "11520de8-453f-4e82-881e-078801efe4b2",
   "metadata": {},
   "outputs": [],
   "source": [
    "aff_cells = [61319896]\n",
    "aff_cells = grc_cells"
   ]
  },
  {
   "cell_type": "code",
   "execution_count": 49,
   "id": "0f1f99a7-91e2-4825-bdb7-7399aec50640",
   "metadata": {},
   "outputs": [],
   "source": [
    "segs_to_add = {}\n",
    "for c_id in aff_cells: #random.sample(cells_to_add,k=10):\n",
    "    cell = ecrest(settings_dict,filepath = dirpath / nodefiles[str(c_id)], launch_viewer=False)\n",
    "    if cell.cell_data['base_segments'] != set():\n",
    "        segs_to_add[c_id] = cell.cell_data['base_segments'] #[a for b in cell.cell_data['base_segments'].values() for a in b]\n",
    "\n",
    "## add each cell to the same tab\n",
    "# lname = str(c_id) + '_' + 'aff'\n",
    "# create_baseseg_layer(viewer, base_seg, lname, objectAlpha = 0.5)\n",
    "    \n",
    "# each cell to a different tab    \n",
    "for c_id,b_ in segs_to_add.items():\n",
    "    lname = str(c_id) + '_' + cell_types[c_id]\n",
    "    create_baseseg_layer(viewer, base_seg, lname, objectAlpha = 1)\n",
    "    with viewer.txn(overwrite=True) as s:\n",
    "        for k,v in b_.items(): \n",
    "            for bs in v:\n",
    "                s.layers[lname].segments.add(int(bs))\n",
    "                s.layers[lname].segment_colors[int(bs)] = syn_colors[cell_types[c_id]]#'#996633' #structure_colors[dtype] # blue\n",
    "    sleep(2)"
   ]
  },
  {
   "cell_type": "markdown",
   "id": "f9baaa87-8a56-430c-835b-088d5c95adad",
   "metadata": {},
   "source": [
    "add target cell basal dendrites"
   ]
  },
  {
   "cell_type": "code",
   "execution_count": 54,
   "id": "bbfcc357-4305-451f-ad2f-a7de139c0cc8",
   "metadata": {},
   "outputs": [],
   "source": [
    "target_cell = 301787806\n",
    "segs_to_add = {}\n",
    "structure_label = 'basal dendrite'\n",
    "for c_id in [target_cell]: #random.sample(cells_to_add,k=10):\n",
    "    cell = ecrest(settings_dict,filepath = dirpath / nodefiles[str(c_id)], launch_viewer=False)\n",
    "    if cell.cell_data['base_segments'][structure_label] != set():\n",
    "        segs_to_add[c_id] = cell.cell_data['base_segments'][structure_label] #[a for b in cell.cell_data['base_segments'].values() for a in b]\n",
    "    \n",
    "\n",
    "# each cell to a different tab    \n",
    "for c_id,b_ in segs_to_add.items():\n",
    "    lname = str(c_id) #+ '_' + cell.get_ctype('manual')\n",
    "    create_baseseg_layer(viewer, base_seg, lname, objectAlpha = 0.5)\n",
    "    with viewer.txn(overwrite=True) as s:\n",
    "        for bs in b_: \n",
    "            s.layers[lname].segments.add(int(bs))\n",
    "            s.layers[lname].segment_colors[int(bs)] = 'black'#syn_colors[cell_types[c_id]]#'#996633' #structure_colors[dtype] # blue\n",
    "    sleep(2)"
   ]
  },
  {
   "cell_type": "code",
   "execution_count": null,
   "id": "1ff0f3a0-5b4c-4253-a4bd-474680f8f130",
   "metadata": {},
   "outputs": [],
   "source": []
  }
 ],
 "metadata": {
  "kernelspec": {
   "display_name": "Python 3 (ipykernel)",
   "language": "python",
   "name": "python3"
  },
  "language_info": {
   "codemirror_mode": {
    "name": "ipython",
    "version": 3
   },
   "file_extension": ".py",
   "mimetype": "text/x-python",
   "name": "python",
   "nbconvert_exporter": "python",
   "pygments_lexer": "ipython3",
   "version": "3.8.13"
  },
  "widgets": {
   "application/vnd.jupyter.widget-state+json": {
    "state": {},
    "version_major": 2,
    "version_minor": 0
   }
  }
 },
 "nbformat": 4,
 "nbformat_minor": 5
}
