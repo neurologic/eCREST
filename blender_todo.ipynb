{
 "cells": [
  {
   "cell_type": "code",
   "execution_count": null,
   "id": "532e3368-0f63-45bb-b69b-da1c2b812395",
   "metadata": {},
   "outputs": [],
   "source": [
    "with open(f'/Users/kperks/Downloads/mg2_soma.xyz', 'w') as file:\n",
    "    for s in soma_pts:\n",
    "       myfile.write(\"%d\\t %d\\t %d\\t\" %(s[0],s[1],s[2]))\n",
    "\n"
   ]
  }
 ],
 "metadata": {
  "kernelspec": {
   "display_name": "Python 3 (ipykernel)",
   "language": "python",
   "name": "python3"
  },
  "language_info": {
   "codemirror_mode": {
    "name": "ipython",
    "version": 3
   },
   "file_extension": ".py",
   "mimetype": "text/x-python",
   "name": "python",
   "nbconvert_exporter": "python",
   "pygments_lexer": "ipython3",
   "version": "3.8.13"
  },
  "widgets": {
   "application/vnd.jupyter.widget-state+json": {
    "state": {},
    "version_major": 2,
    "version_minor": 0
   }
  }
 },
 "nbformat": 4,
 "nbformat_minor": 5
}
