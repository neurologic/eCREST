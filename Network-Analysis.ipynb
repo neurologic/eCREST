{
 "cells": [
  {
   "cell_type": "markdown",
   "id": "a31a75a1-680b-42f7-a979-b3fc38bd326f",
   "metadata": {},
   "source": [
    "# Analysis"
   ]
  },
  {
   "cell_type": "markdown",
   "id": "db72bbd0-2eff-4e39-a363-90aca421ec6e",
   "metadata": {},
   "source": [
    "## Setup"
   ]
  },
  {
   "cell_type": "code",
   "execution_count": 1,
   "id": "6b45ac04-9ab1-4e4e-9fea-32108c893ef1",
   "metadata": {},
   "outputs": [],
   "source": [
    "############################################################################################################################ \n",
    "# Get the latest CREST files for each ID within the target folder (dirname)\n",
    "\n",
    "from pathlib import Path\n",
    "import json\n",
    "from sqlite3 import connect as sqlite3_connect\n",
    "from sqlite3 import DatabaseError\n",
    "from igraph import Graph as ig_Graph\n",
    "from igraph import plot as ig_plot\n",
    "from scipy.spatial.distance import cdist\n",
    "from random import choice as random_choice\n",
    "from itertools import combinations\n",
    "from numpy import array, unravel_index, argmin, mean\n",
    "import random\n",
    "import numpy as np\n",
    "from copy import deepcopy\n",
    "import itertools\n",
    "from datetime import datetime\n",
    "from time import time\n",
    "import neuroglancer\n",
    "from webbrowser import open as wb_open\n",
    "from webbrowser import open_new as wb_open_new\n",
    "import pandas as pd\n",
    "import seaborn as sns\n",
    "from matplotlib import pyplot as plt\n",
    "from tqdm import tqdm\n",
    "\n",
    "# from eCREST_cli_beta import ecrest, import_settings\n",
    "from eCREST_cli import ecrest, import_settings"
   ]
  },
  {
   "cell_type": "markdown",
   "id": "dcac7e55-2d59-458b-ac9f-3df36df4a3f1",
   "metadata": {},
   "source": [
    "The 'ecrest' class has been imported from eCREST_cli.py\n",
    "\n",
    "An instance of this object will be able to:\n",
    "- open an neuroglancer viewer for proofrieading (see \"Proofread using CREST\")\n",
    "    - add-remove segments (using graph feature for efficiency)\n",
    "    - format itself and save itself as a CREST-style .json\n",
    "- convert from neuroglancer json (see \"Convert From Neuroglancer to eCREST\")\n",
    "    - format itself and save itself as a CREST-style .json\n",
    "    \n"
   ]
  },
  {
   "cell_type": "markdown",
   "id": "129c2185-2363-4dd2-a4ec-ed4c691e794b",
   "metadata": {},
   "source": [
    "### Import settings\n",
    "\n",
    "If you save a copy of settings_dict.json (found in the \"under construction\" directory of eCREST repo) locally somewhere outside the repo (like in your save_dir), then you can use the following code cell to import. This avoids needing to re-type the save_dir and db_path each time you \"git pull\" updates from the repo to this notebook."
   ]
  },
  {
   "cell_type": "code",
   "execution_count": 2,
   "id": "8e594867-f9ad-4514-aae8-78127c6afb50",
   "metadata": {},
   "outputs": [],
   "source": [
    "path_to_settings_json = '/Users/kperks/Documents/ell-connectome/eCREST-local-files/settings_dict.json'\n",
    "settings_dict = import_settings(path_to_settings_json)"
   ]
  },
  {
   "cell_type": "code",
   "execution_count": 3,
   "id": "66307f56-b982-42bf-acf6-2f878db555d2",
   "metadata": {},
   "outputs": [],
   "source": [
    "dirpath = Path(settings_dict['save_dir'])\n",
    "# dirpath = \"/Users/kperks/Documents/gdrive/.shortcut-targets-by-id/16q1BuOMfD2ta0Cwq8CjMlRe4rDvbuWC5/ELL_connectome/CREST_reconstructions/mg-network\""
   ]
  },
  {
   "cell_type": "markdown",
   "id": "0f283571-4114-4d2e-8661-ead61b127702",
   "metadata": {},
   "source": [
    "## Get all cells info"
   ]
  },
  {
   "cell_type": "code",
   "execution_count": 14,
   "id": "6904d5cc-0e9b-4ea1-8e78-81e2b94a2f2a",
   "metadata": {},
   "outputs": [
    {
     "name": "stdout",
     "output_type": "stream",
     "text": [
      "cell 313068145 is not cell-typed in json\n"
     ]
    }
   ],
   "source": [
    "nodes = [child.name.split('_')[2] for child in sorted(dirpath.iterdir()) \n",
    "         if (child.name[0]!='.') & (child.is_file())] # ignore hidden files]\n",
    "\n",
    "nodefiles = dict()\n",
    "for child in sorted(dirpath.iterdir()):\n",
    "    if (child.name[0]!='.') & (child.is_file()):\n",
    "        nodefiles[child.name.split('_')[2]] = child\n",
    "\n",
    "cell_type = {}\n",
    "for x in nodes:\n",
    "    cell = ecrest(settings_dict,filepath = nodefiles[x],launch_viewer=False)\n",
    "    cell_type[x] = cell.get_ctype('manual') \n",
    "    if (cell.get_ctype('manual') == []) | (cell.get_ctype('manual') == ''):\n",
    "        print(f'cell {x} is not cell-typed in json')"
   ]
  },
  {
   "cell_type": "code",
   "execution_count": 259,
   "id": "ae4bda5a-ef1a-4d60-b0c5-5e24a27e8282",
   "metadata": {},
   "outputs": [],
   "source": [
    "# [k for k,v in cell_type.items() if v == 'glia']"
   ]
  },
  {
   "cell_type": "code",
   "execution_count": null,
   "id": "d0e815c1-c1e8-4c69-8c07-e30561486738",
   "metadata": {},
   "outputs": [],
   "source": [
    "# # # IF NEED TO CELL TYPE....\n",
    "\n",
    "\n",
    "# json_path = Path(settings_dict['save_dir'])\n",
    "# filename = 'cell_graph_644143297__2023-04-18 20.22.35.json'\n",
    "# filepath = json_path / filename\n",
    "\n",
    "# crest = ecrest(settings_dict,filepath= filepath)#, launch_viewer=False)\n",
    "\n",
    "\n",
    "# # Assign the cell type and which method you are using (manual or auto)\n",
    "# cell_type = 'mg1'\n",
    "# method = 'manual'\n",
    "\n",
    "# ## Do not edit\n",
    "# crest.define_ctype(cell_type,method)\n",
    "\n",
    "# crest.save_cell_graph(directory_path = filepath.parent, file_name=filepath.name, save_to_cloud=False); "
   ]
  },
  {
   "cell_type": "code",
   "execution_count": 251,
   "id": "47e28865-4cf0-4bbb-9132-1fc267dfe755",
   "metadata": {},
   "outputs": [
    {
     "data": {
      "text/plain": [
       "{}"
      ]
     },
     "execution_count": 251,
     "metadata": {},
     "output_type": "execute_result"
    }
   ],
   "source": [
    "search_key = 'Gran'\n",
    "dict(filter(lambda item: search_key in item[1], cell_type.items()))"
   ]
  },
  {
   "cell_type": "code",
   "execution_count": 254,
   "id": "44872f44-2137-4499-9801-bafacdb8bdeb",
   "metadata": {},
   "outputs": [
    {
     "data": {
      "text/plain": [
       "{}"
      ]
     },
     "execution_count": 254,
     "metadata": {},
     "output_type": "execute_result"
    }
   ],
   "source": [
    "search_key = 'gran'\n",
    "dict(filter(lambda item: search_key in item[1], cell_type.items()))\n",
    "# [val for key, val in cell_type.items() if val in search_key]"
   ]
  },
  {
   "cell_type": "markdown",
   "id": "f6ee76f1-7249-4add-9d08-ebba36c4d6c9",
   "metadata": {},
   "source": [
    "## Get all segments"
   ]
  },
  {
   "cell_type": "code",
   "execution_count": 15,
   "id": "7230c765-4940-4271-a010-205a7062f998",
   "metadata": {},
   "outputs": [],
   "source": [
    "\n",
    "# Create a base_segments dictionary of all reconstructed cells \n",
    "'''\n",
    "when done, can this be saved as a json? maybe quicker to load than to re-go through all cells?\n",
    "'''\n",
    "\n",
    "base_segments = {}\n",
    "for x in nodes:\n",
    "    # if cell_type[x] in network_types: # if do this, you can't check if the post-syn segments exist as a reconstruction\n",
    "    cell = ecrest(settings_dict,filepath = nodefiles[x])#,launch_viewer=False)\n",
    "    base_segments[cell.cell_data['metadata']['main_seg']['base']] = cell.cell_data['base_segments']\n",
    "    try:\n",
    "        assert cell.cell_data['metadata']['main_seg']['base'] == x\n",
    "    except:\n",
    "        print(x,cell.cell_data['metadata']['main_seg']['base'])"
   ]
  },
  {
   "cell_type": "markdown",
   "id": "8ad27180-69f3-4c81-9c8c-a17f80ed5ae6",
   "metadata": {},
   "source": [
    "## Build Graph"
   ]
  },
  {
   "cell_type": "code",
   "execution_count": 16,
   "id": "1fe4710e-2b44-43cb-9629-760e1f844322",
   "metadata": {},
   "outputs": [],
   "source": [
    "network_types = ['mg1','mg2','lg','lf','sg1','sg2','sgx','grc','aff']"
   ]
  },
  {
   "cell_type": "code",
   "execution_count": 17,
   "id": "3c00b14a-27ce-4b72-9feb-d2b179561cf3",
   "metadata": {},
   "outputs": [],
   "source": [
    "ell = ig_Graph(directed = True) \n",
    "ell.add_vertices([n for n in nodes if cell_type[n] in network_types])\n",
    "\n",
    "# assign cell types to each node\n",
    "for x in ell.vs:\n",
    "    x['cell_type'] = cell_type[x['name']]"
   ]
  },
  {
   "cell_type": "code",
   "execution_count": null,
   "id": "3f94ac26-e392-42f6-a81f-c072643e0ac2",
   "metadata": {},
   "outputs": [],
   "source": [
    "# use this code cell to delete some of the vertices (cells)\n",
    "\n",
    "# to_delete_ids = [v.index for v in ell.vs if v['cell_type'] not in ['mg2','lg','mg1','lf','lx','mgx']]\n",
    "# ell.delete_vertices(to_delete_ids)"
   ]
  },
  {
   "cell_type": "code",
   "execution_count": 18,
   "id": "6e39b273-687e-427f-b888-4a998d5a2707",
   "metadata": {},
   "outputs": [
    {
     "name": "stderr",
     "output_type": "stream",
     "text": [
      "100%|██████████████████████████████████████████████████████████████████████████████████████████████████████████████████████████████████████████████████████████████████████████████████████████████████████████| 413/413 [06:49<00:00,  1.01it/s]\n"
     ]
    }
   ],
   "source": [
    "synanno_type = 'post-synaptic'\n",
    "\n",
    "## find edges and set the cell-structure attribute of the edge based on which part of the cell the edge goes to\n",
    "edge_list = []\n",
    "cells_with_synapses = []\n",
    "cells_without_synapses = []\n",
    "# for each node,\n",
    "\n",
    "with tqdm(total=ell.vcount()) as pbar:\n",
    "    for x_pre in ell.vs:\n",
    "        pbar.update(1)\n",
    "    # x_pre = ell.vs.find('128473437')\n",
    "\n",
    "        # if the node has post-synaptic annotations (the current cell is assumed pre-synaptic)\n",
    "        pre = ecrest(settings_dict,filepath = nodefiles[x_pre['name']])#,launch_viewer=False)\n",
    "        if pre.cell_data['end_points'][synanno_type] != []:\n",
    "\n",
    "            cells_with_synapses.append([x_pre['name'],x_pre['cell_type'],len(pre.cell_data['end_points'][synanno_type])])\n",
    "\n",
    "            # for each synapse\n",
    "            for syn_ in pre.cell_data['end_points'][synanno_type]:\n",
    "                try:\n",
    "                    post_seg = syn_[3]\n",
    "\n",
    "                    # go through each other nodes\n",
    "                    for x_post in ell.vs:\n",
    "                        post = base_segments[x_post['name']] #ecrest(settings_dict,filepath = nodefiles[x_post['name']],launch_viewer=False)\n",
    "                    # for x_post in nodes:\n",
    "                    #     post = base_segments[x_post] #ecrest(settings_dict,filepath = nodefiles[x_post['name']],launch_viewer=False)\n",
    "\n",
    "                        for k,v in post.items():\n",
    "\n",
    "                            for v_ in list(v): #find keys (can be multiple on the same cell) for matching segment ids\n",
    "                                if post_seg == v_: \n",
    "                                    # add edge to the graph between current node and matching node\n",
    "                                    edge_list.append([x_pre['name'],x_post['name'],k])\n",
    "                                    # edge_list.append([x_pre['name'],x_post,k])\n",
    "\n",
    "                except IndexError as msg:\n",
    "                    cellid = x_pre['name']\n",
    "                    print(msg, f'for cell {cellid} synapse at syn_ has no segment id')\n",
    "\n",
    "        else:\n",
    "            cells_without_synapses.append([x_pre['name'],x_pre['cell_type'],len(pre.cell_data['end_points'][synanno_type])])\n",
    "            cellid = x_pre['name']\n",
    "            # print(f'no synapses for {cellid}')\n"
   ]
  },
  {
   "cell_type": "code",
   "execution_count": null,
   "id": "9ef8332d-668c-4ae3-b4e4-506a78e592a7",
   "metadata": {},
   "outputs": [],
   "source": []
  },
  {
   "cell_type": "markdown",
   "id": "5a2691ae-29e5-47b8-b716-b1fea0d4232e",
   "metadata": {},
   "source": [
    "### Edges"
   ]
  },
  {
   "cell_type": "markdown",
   "id": "8c8c4e53-72d5-4af6-ad1a-15f83f6f5a19",
   "metadata": {},
   "source": [
    "#### Ignore cell structure\n",
    "\n",
    "If just want different cell pairs to count as unique (ignore morphology), use the following cell"
   ]
  },
  {
   "cell_type": "code",
   "execution_count": 19,
   "id": "794bf1bf-20e9-45f7-ae1b-d1084ea04e15",
   "metadata": {},
   "outputs": [],
   "source": [
    "edge_list_cell_pairs = [[r[0],r[1]] for r in edge_list]\n",
    "\n",
    "edge_scaling = 10\n",
    "df = pd.DataFrame(edge_list_cell_pairs,columns = ['pre','post'])\n",
    "\n",
    "df_edges = deepcopy(df.value_counts().reset_index(name='weight'))\n",
    "# df_edges['weight_norm'] = (df_edges['weight'] / df_edges['weight'].max()) * edge_scaling\n",
    "\n",
    "for i,r in df_edges.iterrows():\n",
    "    df_edges.loc[i,'pre_type']=ell.vs.find(r['pre'])['cell_type']\n",
    "    df_edges.loc[i,'post_type']=ell.vs.find(r['post'])['cell_type']"
   ]
  },
  {
   "cell_type": "code",
   "execution_count": 247,
   "id": "e9ebf881-6b9f-4584-a1a6-e658664f9943",
   "metadata": {},
   "outputs": [],
   "source": [
    "# for each unique edge, get the cell-type pair and structure\n",
    "for i,r in df_edges.iterrows():\n",
    "    ell.add_edge(r['pre'],r['post'],weight = r['weight'])#r['weight_norm'])#,structure = r['structure'])"
   ]
  },
  {
   "cell_type": "code",
   "execution_count": 260,
   "id": "6d9928b0-fc32-4a23-85e2-a230affc45df",
   "metadata": {},
   "outputs": [
    {
     "data": {
      "text/html": [
       "<div>\n",
       "<style scoped>\n",
       "    .dataframe tbody tr th:only-of-type {\n",
       "        vertical-align: middle;\n",
       "    }\n",
       "\n",
       "    .dataframe tbody tr th {\n",
       "        vertical-align: top;\n",
       "    }\n",
       "\n",
       "    .dataframe thead th {\n",
       "        text-align: right;\n",
       "    }\n",
       "</style>\n",
       "<table border=\"1\" class=\"dataframe\">\n",
       "  <thead>\n",
       "    <tr style=\"text-align: right;\">\n",
       "      <th></th>\n",
       "      <th>pre</th>\n",
       "      <th>post</th>\n",
       "      <th>weight</th>\n",
       "      <th>pre_type</th>\n",
       "      <th>post_type</th>\n",
       "    </tr>\n",
       "  </thead>\n",
       "  <tbody>\n",
       "    <tr>\n",
       "      <th>0</th>\n",
       "      <td>481412554</td>\n",
       "      <td>142603072</td>\n",
       "      <td>27</td>\n",
       "      <td>grc</td>\n",
       "      <td>aff</td>\n",
       "    </tr>\n",
       "    <tr>\n",
       "      <th>1</th>\n",
       "      <td>223881844</td>\n",
       "      <td>60081840</td>\n",
       "      <td>17</td>\n",
       "      <td>grc</td>\n",
       "      <td>aff</td>\n",
       "    </tr>\n",
       "    <tr>\n",
       "      <th>2</th>\n",
       "      <td>481412554</td>\n",
       "      <td>223835257</td>\n",
       "      <td>14</td>\n",
       "      <td>grc</td>\n",
       "      <td>aff</td>\n",
       "    </tr>\n",
       "    <tr>\n",
       "      <th>3</th>\n",
       "      <td>386392158</td>\n",
       "      <td>306242528</td>\n",
       "      <td>10</td>\n",
       "      <td>mg2</td>\n",
       "      <td>grc</td>\n",
       "    </tr>\n",
       "    <tr>\n",
       "      <th>4</th>\n",
       "      <td>128832297</td>\n",
       "      <td>139135155</td>\n",
       "      <td>8</td>\n",
       "      <td>sg1</td>\n",
       "      <td>grc</td>\n",
       "    </tr>\n",
       "    <tr>\n",
       "      <th>...</th>\n",
       "      <td>...</td>\n",
       "      <td>...</td>\n",
       "      <td>...</td>\n",
       "      <td>...</td>\n",
       "      <td>...</td>\n",
       "    </tr>\n",
       "    <tr>\n",
       "      <th>228</th>\n",
       "      <td>228321391</td>\n",
       "      <td>56569586</td>\n",
       "      <td>1</td>\n",
       "      <td>grc</td>\n",
       "      <td>aff</td>\n",
       "    </tr>\n",
       "    <tr>\n",
       "      <th>229</th>\n",
       "      <td>299496636</td>\n",
       "      <td>310855106</td>\n",
       "      <td>1</td>\n",
       "      <td>mg1</td>\n",
       "      <td>grc</td>\n",
       "    </tr>\n",
       "    <tr>\n",
       "      <th>230</th>\n",
       "      <td>228366816</td>\n",
       "      <td>139041402</td>\n",
       "      <td>1</td>\n",
       "      <td>grc</td>\n",
       "      <td>aff</td>\n",
       "    </tr>\n",
       "    <tr>\n",
       "      <th>231</th>\n",
       "      <td>299496636</td>\n",
       "      <td>303166992</td>\n",
       "      <td>1</td>\n",
       "      <td>mg1</td>\n",
       "      <td>mg2</td>\n",
       "    </tr>\n",
       "    <tr>\n",
       "      <th>232</th>\n",
       "      <td>565013265</td>\n",
       "      <td>570647001</td>\n",
       "      <td>1</td>\n",
       "      <td>grc</td>\n",
       "      <td>grc</td>\n",
       "    </tr>\n",
       "  </tbody>\n",
       "</table>\n",
       "<p>233 rows × 5 columns</p>\n",
       "</div>"
      ],
      "text/plain": [
       "           pre       post  weight pre_type post_type\n",
       "0    481412554  142603072      27      grc       aff\n",
       "1    223881844   60081840      17      grc       aff\n",
       "2    481412554  223835257      14      grc       aff\n",
       "3    386392158  306242528      10      mg2       grc\n",
       "4    128832297  139135155       8      sg1       grc\n",
       "..         ...        ...     ...      ...       ...\n",
       "228  228321391   56569586       1      grc       aff\n",
       "229  299496636  310855106       1      mg1       grc\n",
       "230  228366816  139041402       1      grc       aff\n",
       "231  299496636  303166992       1      mg1       mg2\n",
       "232  565013265  570647001       1      grc       grc\n",
       "\n",
       "[233 rows x 5 columns]"
      ]
     },
     "execution_count": 260,
     "metadata": {},
     "output_type": "execute_result"
    }
   ],
   "source": [
    "df_edges"
   ]
  },
  {
   "cell_type": "code",
   "execution_count": 261,
   "id": "820fd819-981e-45b6-8527-642ffd4803cd",
   "metadata": {},
   "outputs": [
    {
     "data": {
      "text/plain": [
       "pre_type  post_type\n",
       "sg1       grc          48\n",
       "mg1       grc          27\n",
       "          mg2          26\n",
       "          sg2          26\n",
       "mg2       sg1          19\n",
       "grc       grc          17\n",
       "mg2       sgx          16\n",
       "grc       aff          14\n",
       "sg2       sg1           8\n",
       "          sgx           8\n",
       "mg2       grc           5\n",
       "grc       sg1           4\n",
       "mg1       sgx           3\n",
       "mg2       mg1           3\n",
       "sg2       aff           2\n",
       "mg2       aff           2\n",
       "          mg2           1\n",
       "grc       sgx           1\n",
       "          mg2           1\n",
       "sg1       sg2           1\n",
       "grc       mg1           1\n",
       "dtype: int64"
      ]
     },
     "execution_count": 261,
     "metadata": {},
     "output_type": "execute_result"
    }
   ],
   "source": [
    "df_edges[[\"pre_type\",\"post_type\"]].value_counts()"
   ]
  },
  {
   "cell_type": "code",
   "execution_count": 262,
   "id": "27a5fe87-5e0e-4326-92ac-940a343100eb",
   "metadata": {},
   "outputs": [
    {
     "name": "stdout",
     "output_type": "stream",
     "text": [
      "233 unique edges among:\n",
      "15 unique pre synaptic cells - to - 201 unique post-synaptic cells (counts different structures on same cell as same)\n"
     ]
    }
   ],
   "source": [
    "# print(f'comprising {len(df_edges)} unique edges among:')\n",
    "print(f'{df_edges[[\"pre_type\",\"post_type\"]].value_counts().reset_index(name=\"counts\")[\"counts\"].sum()} unique edges among:')\n",
    "print(f'{len(df[\"pre\"].unique())} unique pre synaptic cells - to - {len(df[\"post\"].unique())} unique post-synaptic cells (counts different structures on same cell as same)')"
   ]
  },
  {
   "cell_type": "code",
   "execution_count": null,
   "id": "3d837d61-ab68-485c-b6be-65635691f2ce",
   "metadata": {},
   "outputs": [],
   "source": [
    "df_edge_counts = df_edges[['pre_type','post_type']].value_counts().reset_index(name='counts')\n",
    "\n",
    "# mask = df_edge_counts['pre_type'].str.lower().isin(['mg1']) & df_edge_counts['post_type'].str.lower().isin(['lf'])\n",
    "# display(df_edge_counts[mask])\n",
    "\n",
    "mask = df_edges['pre_type'].str.lower().isin(['mg1']) & df_edges['post_type'].str.lower().isin(['lf'])\n",
    "display(df_edges[mask].groupby(['pre_type','post_type']).sum(numeric_only=True))\n",
    "\n",
    "# mask = df_edge_counts['pre_type'].str.lower().isin(['mg2']) & df_edge_counts['post_type'].str.lower().isin(['lg'])\n",
    "# display(df_edge_counts[mask])\n",
    "\n",
    "mask = df_edges['pre_type'].str.lower().isin(['mg2']) & df_edges['post_type'].str.lower().isin(['lg'])\n",
    "display(df_edges[mask].groupby(['pre_type','post_type']).sum(numeric_only=True))\n",
    "\n",
    "# mask = df_edge_counts['pre_type'].str.lower().isin(['mg1']) & df_edge_counts['post_type'].str.lower().isin(['mg2'])\n",
    "# display(df_edge_counts[mask])\n",
    "\n",
    "mask = df_edges['pre_type'].str.lower().isin(['mg1']) & df_edges['post_type'].str.lower().isin(['mg2'])\n",
    "display(df_edges[mask].groupby(['pre_type','post_type']).sum(numeric_only=True))\n",
    "\n",
    "# mask = df_edge_counts['pre_type'].str.lower().isin(['mg2']) & df_edge_counts['post_type'].str.lower().isin(['mg1'])\n",
    "# display(df_edge_counts[mask])\n",
    "\n",
    "mask = df_edges['pre_type'].str.lower().isin(['mg2']) & df_edges['post_type'].str.lower().isin(['mg1'])\n",
    "display(df_edges[mask].groupby(['pre_type','post_type']).sum(numeric_only=True))"
   ]
  },
  {
   "cell_type": "markdown",
   "id": "1b8a407a-9bb8-46ff-9b8c-0c6310db5ff6",
   "metadata": {},
   "source": [
    "#### Cell Structures included\n",
    "\n",
    "If want to count different cell structure targets as unique, use the following cell.  \n",
    "\n",
    "If not, ignore it"
   ]
  },
  {
   "cell_type": "code",
   "execution_count": null,
   "id": "c7595171-186e-4157-a0fb-f65452011285",
   "metadata": {},
   "outputs": [],
   "source": [
    "edge_scaling = 10\n",
    "df = pd.DataFrame(edge_list,columns = ['pre','post','structure'])\n",
    "\n",
    "df_edges = deepcopy(df.value_counts().reset_index(name='weight'))\n",
    "df_edges['weight_norm'] = (df_edges['weight'] / df_edges['weight'].max()) * edge_scaling\n",
    "\n",
    "for i,r in df_edges.iterrows():\n",
    "    df_edges.loc[i,'pre_type']=ell.vs.find(r['pre'])['cell_type']\n",
    "    df_edges.loc[i,'post_type']=ell.vs.find(r['post'])['cell_type']"
   ]
  },
  {
   "cell_type": "code",
   "execution_count": null,
   "id": "bfc18e89-6f63-48cb-ba6c-1b19463eef70",
   "metadata": {},
   "outputs": [],
   "source": [
    "# for each unique edge, get the cell-type pair and structure\n",
    "for i,r in df_edges.iterrows():\n",
    "    ell.add_edge(r['pre'],r['post'],weight = r['weight_norm'],structure = r['structure'])"
   ]
  },
  {
   "cell_type": "code",
   "execution_count": null,
   "id": "133b0992-f000-4a9f-9b48-0c04147166eb",
   "metadata": {},
   "outputs": [],
   "source": [
    "# print(f'comprising {len(df_edges)} unique edges among:')\n",
    "print(f'{df_edges[[\"pre_type\",\"post_type\",\"structure\"]].value_counts().reset_index(name=\"counts\")[\"counts\"].sum()} unique edges among:')\n",
    "print(f'{len(df[\"pre\"].unique())} unique pre synaptic cells - to - {len(df[\"post\"].unique())} unique post-synaptic cells (counts different structures on same cell as different)')"
   ]
  },
  {
   "cell_type": "code",
   "execution_count": null,
   "id": "7a497bd6-48ce-4c87-94e9-07d08b582e9e",
   "metadata": {},
   "outputs": [],
   "source": [
    "df_edge_counts = df_edges[['pre_type','post_type','structure']].value_counts().reset_index(name='counts')\n",
    "\n",
    "# mask = df_edge_counts['pre_type'].str.lower().isin(['mg1']) & df_edge_counts['post_type'].str.lower().isin(['lf'])\n",
    "# display(df_edge_counts[mask])\n",
    "\n",
    "mask = df_edges['pre_type'].str.lower().isin(['mg1']) & df_edges['post_type'].str.lower().isin(['lf'])\n",
    "display(df_edges[mask].groupby(['pre_type','post_type','structure']).sum(numeric_only=True))\n",
    "\n",
    "# mask = df_edge_counts['pre_type'].str.lower().isin(['mg2']) & df_edge_counts['post_type'].str.lower().isin(['lg'])\n",
    "# display(df_edge_counts[mask])\n",
    "\n",
    "mask = df_edges['pre_type'].str.lower().isin(['mg2']) & df_edges['post_type'].str.lower().isin(['lg'])\n",
    "display(df_edges[mask].groupby(['pre_type','post_type','structure']).sum(numeric_only=True))\n",
    "\n",
    "# mask = df_edge_counts['pre_type'].str.lower().isin(['mg1']) & df_edge_counts['post_type'].str.lower().isin(['mg2'])\n",
    "# display(df_edge_counts[mask])\n",
    "\n",
    "mask = df_edges['pre_type'].str.lower().isin(['mg1']) & df_edges['post_type'].str.lower().isin(['mg2'])\n",
    "display(df_edges[mask].groupby(['pre_type','post_type','structure']).sum(numeric_only=True))\n",
    "\n",
    "# mask = df_edge_counts['pre_type'].str.lower().isin(['mg2']) & df_edge_counts['post_type'].str.lower().isin(['mg1'])\n",
    "# display(df_edge_counts[mask])\n",
    "\n",
    "mask = df_edges['pre_type'].str.lower().isin(['mg2']) & df_edges['post_type'].str.lower().isin(['mg1'])\n",
    "display(df_edges[mask].groupby(['pre_type','post_type','structure']).sum(numeric_only=True))"
   ]
  },
  {
   "cell_type": "markdown",
   "id": "077b265e-078e-458a-a2a4-acbc0d8a0110",
   "metadata": {},
   "source": [
    "### Check for any synapses on self"
   ]
  },
  {
   "cell_type": "code",
   "execution_count": 17,
   "id": "47585164-4f70-4562-9f1d-48cec853d02a",
   "metadata": {},
   "outputs": [],
   "source": [
    "vx_sizes = [16, 16, 30]\n",
    "\n",
    "for i,r in df_edges.iterrows():\n",
    "    if r['pre']==r['post']:\n",
    "        print(r['pre'])\n",
    "        cell = ecrest(settings_dict,filepath = nodefiles[r['pre']])\n",
    "        for syn_ in cell.cell_data['end_points']['post-synaptic']:\n",
    "            post_seg = syn_[3]\n",
    "            for i,s in enumerate(syn_[0:3]):\n",
    "                syn_[i] = s/vx_sizes[i] \n",
    "            if post_seg in [str(a) for b in base_segments[r['pre']].values() for a in b]:\n",
    "                print(f'delete synapse {syn_}')       \n",
    "        "
   ]
  },
  {
   "cell_type": "code",
   "execution_count": 263,
   "id": "3e20defd-9601-464e-b86a-e575962b1a27",
   "metadata": {},
   "outputs": [
    {
     "name": "stdout",
     "output_type": "stream",
     "text": [
      "411 cells in the network that fall within cell types of interest (nodes in the graph):\n",
      "\n",
      "58 mg1 cells.\n",
      "67 mg2 cells.\n",
      "34 lg cells.\n",
      "37 lf cells.\n",
      "46 sg1 cells.\n",
      "28 sg2 cells.\n",
      "33 sgx cells.\n",
      "93 grc cells.\n",
      "15 aff cells.\n",
      "\n",
      "6 of these are mg cells with post-synaptic segments labeled for their synapses\n",
      "797 total post-synapstic segments labeled from mg_ cells in the network\n",
      "119 mg1/2 cells without labeled synapses\n",
      "\n",
      "3 of these are sg cells with post-synaptic segments labeled for their synapses\n",
      "387 total post-synapstic segments labeled from sg_ cells in the network\n",
      "104 sg_ cells without labeled synapses\n"
     ]
    }
   ],
   "source": [
    "print(f'{len(ell.vs)} cells in the network that fall within cell types of interest (nodes in the graph):')\n",
    "print('')\n",
    "for ctype in network_types:\n",
    "    these_cells = ell.vs.select(lambda v: ctype in v['cell_type'])\n",
    "    print(f'{len(these_cells)} {ctype} cells.')# {len(ell.vs.select(lambda v: 'lg' in v['cell_type']))} lg cells. {len(e\n",
    "print('')\n",
    "\n",
    "df_allsyn = pd.DataFrame(cells_with_synapses)\n",
    "print(f'{len(df_allsyn[df_allsyn[1].isin([\"mg1\",\"mg2\"])])} of these are mg cells with post-synaptic segments labeled for their synapses')\n",
    "# print(f'{len(df_edges[df_edges['pre_type'].str.contains(\"mg\")])} of these are mg_ cells with post-synaptic segments labeled for their synapses')\n",
    "\n",
    "print(f'{df_allsyn[df_allsyn[1].isin([\"mg1\",\"mg2\"])][2].sum()} total post-synapstic segments labeled from mg_ cells in the network')\n",
    "\n",
    "# cells_without_synapses\n",
    "\n",
    "df_nosyn = pd.DataFrame(cells_without_synapses)\n",
    "\n",
    "# print(f'{len(df_nosyn[df_nosyn[1].str.contains([\"mg1\",\"mg2\"])])} mg1/2 cells without labeled synapses')\n",
    "print(f'{len(df_nosyn[df_nosyn[1].isin([\"mg1\",\"mg2\"])])} mg1/2 cells without labeled synapses')\n",
    "\n",
    "\n",
    "######\n",
    "print('')\n",
    "print(f'{len(df_allsyn[df_allsyn[1].isin([\"sg1\",\"sg2\",\"sgx\"])])} of these are sg cells with post-synaptic segments labeled for their synapses')\n",
    "# print(f'{len(df_edges[df_edges['pre_type'].str.contains(\"mg\")])} of these are mg_ cells with post-synaptic segments labeled for their synapses')\n",
    "\n",
    "print(f'{df_allsyn[df_allsyn[1].isin([\"sg1\",\"sg2\",\"sgx\"])][2].sum()} total post-synapstic segments labeled from sg_ cells in the network')\n",
    "\n",
    "# cells_without_synapses\n",
    "\n",
    "df_nosyn = pd.DataFrame(cells_without_synapses)\n",
    "\n",
    "# print(f'{len(df_nosyn[df_nosyn[1].str.contains([\"mg1\",\"mg2\"])])} mg1/2 cells without labeled synapses')\n",
    "print(f'{len(df_nosyn[df_nosyn[1].isin([\"sg1\",\"sg2\",\"sgx\"])])} sg_ cells without labeled synapses')"
   ]
  },
  {
   "cell_type": "markdown",
   "id": "65e5f570-26ce-4364-bba8-527bb07ff965",
   "metadata": {},
   "source": [
    "summary of mg"
   ]
  },
  {
   "cell_type": "code",
   "execution_count": 210,
   "id": "fc640ffd-58f4-4050-8fd7-5d03d6471343",
   "metadata": {},
   "outputs": [
    {
     "name": "stdout",
     "output_type": "stream",
     "text": [
      "4144 synapses with reconstructed partners in current network,\n",
      "1135 unique edges total (of various weights)\n",
      "\n",
      "3287 synapses with reconstructed partners from mg cells pre-synaptically.\n",
      "626 synapses with reconstructed partners from sg cells pre-synaptically.\n",
      "231 synapses with reconstructed partners from grc cells pre-synaptically.\n",
      "\n",
      "36 mg1 cells with \n",
      "1547 connected synapses with a reconstructed partner in these mg1\n",
      "41 mg2 cells\n",
      "1740 connected synapses with a reconstructed partner in these mg2\n",
      "10 sg1 cells with \n",
      "282 connected synapses with a reconstructed partner in these sg1\n",
      "10 sg2 cells\n",
      "328 connected synapses with a reconstructed partner in these sg2\n",
      "1 sgx cells\n",
      "16 connected synapses with a reconstructed partner in these sgx\n",
      "10 grc cells\n",
      "231 connected synapses with a reconstructed partner in these grc\n"
     ]
    }
   ],
   "source": [
    "print(f'{len(df)} synapses with reconstructed partners in current network,')\n",
    "print(f'{len(df_edges)} unique edges total (of various weights)')\n",
    "\n",
    "print('')\n",
    "\n",
    "print(f'{df_edges[df_edges[\"pre_type\"].str.contains(\"mg\")][\"weight\"].sum()} synapses with reconstructed partners from mg cells pre-synaptically.')\n",
    "print(f'{df_edges[df_edges[\"pre_type\"].str.contains(\"sg\")][\"weight\"].sum()} synapses with reconstructed partners from sg cells pre-synaptically.')\n",
    "print(f'{df_edges[df_edges[\"pre_type\"].str.contains(\"grc\")][\"weight\"].sum()} synapses with reconstructed partners from grc cells pre-synaptically.')\n",
    "\n",
    "print('')\n",
    "\n",
    "print(f'{len(np.unique(df_edges[df_edges[\"pre_type\"]==\"mg1\"][\"pre\"]))} mg1 cells with ')\n",
    "print(f'{df_edges[df_edges[\"pre_type\"]==\"mg1\"][\"weight\"].sum()} connected synapses with a reconstructed partner in these mg1')\n",
    "\n",
    "print(f'{len(np.unique(df_edges[df_edges[\"pre_type\"]==\"mg2\"][\"pre\"]))} mg2 cells')\n",
    "print(f'{df_edges[df_edges[\"pre_type\"]==\"mg2\"][\"weight\"].sum()} connected synapses with a reconstructed partner in these mg2')\n",
    "\n",
    "print(f'{len(np.unique(df_edges[df_edges[\"pre_type\"]==\"sg1\"][\"pre\"]))} sg1 cells with ')\n",
    "print(f'{df_edges[df_edges[\"pre_type\"]==\"sg1\"][\"weight\"].sum()} connected synapses with a reconstructed partner in these sg1')\n",
    "\n",
    "print(f'{len(np.unique(df_edges[df_edges[\"pre_type\"]==\"sg2\"][\"pre\"]))} sg2 cells')\n",
    "print(f'{df_edges[df_edges[\"pre_type\"]==\"sg2\"][\"weight\"].sum()} connected synapses with a reconstructed partner in these sg2')\n",
    "\n",
    "print(f'{len(np.unique(df_edges[df_edges[\"pre_type\"]==\"sgx\"][\"pre\"]))} sgx cells')\n",
    "print(f'{df_edges[df_edges[\"pre_type\"]==\"sgx\"][\"weight\"].sum()} connected synapses with a reconstructed partner in these sgx')\n",
    "\n",
    "print(f'{len(np.unique(df_edges[df_edges[\"pre_type\"]==\"grc\"][\"pre\"]))} grc cells')\n",
    "print(f'{df_edges[df_edges[\"pre_type\"]==\"grc\"][\"weight\"].sum()} connected synapses with a reconstructed partner in these grc')\n",
    "\n",
    "# with pd.option_context('display.max_rows', 10):\n",
    "#     display(df_edges)"
   ]
  },
  {
   "cell_type": "markdown",
   "id": "b9bd095a-a8fe-4183-9532-2618f50426af",
   "metadata": {},
   "source": [
    "## If need to delete edges to re-do something..."
   ]
  },
  {
   "cell_type": "code",
   "execution_count": null,
   "id": "ebb68f86-0eff-440d-b2b1-e1b63ff97529",
   "metadata": {},
   "outputs": [],
   "source": [
    "# # if need to delete all edges...\n",
    "# ell.delete_edges(range(len(ell.es)))"
   ]
  },
  {
   "cell_type": "markdown",
   "id": "1de705a8-0a4a-454c-9890-861722b4535e",
   "metadata": {},
   "source": [
    "## querying df_edges"
   ]
  },
  {
   "cell_type": "markdown",
   "id": "f917b608-4640-4db2-b908-c6b811d2db1e",
   "metadata": {},
   "source": [
    "### print out quantifications"
   ]
  },
  {
   "cell_type": "code",
   "execution_count": 153,
   "id": "9184b894-6c49-45eb-97f4-2e97b80530fc",
   "metadata": {},
   "outputs": [
    {
     "data": {
      "text/html": [
       "<div>\n",
       "<style scoped>\n",
       "    .dataframe tbody tr th:only-of-type {\n",
       "        vertical-align: middle;\n",
       "    }\n",
       "\n",
       "    .dataframe tbody tr th {\n",
       "        vertical-align: top;\n",
       "    }\n",
       "\n",
       "    .dataframe thead th {\n",
       "        text-align: right;\n",
       "    }\n",
       "</style>\n",
       "<table border=\"1\" class=\"dataframe\">\n",
       "  <thead>\n",
       "    <tr style=\"text-align: right;\">\n",
       "      <th></th>\n",
       "      <th>pre</th>\n",
       "      <th>post</th>\n",
       "      <th>weight</th>\n",
       "      <th>pre_type</th>\n",
       "      <th>post_type</th>\n",
       "    </tr>\n",
       "  </thead>\n",
       "  <tbody>\n",
       "    <tr>\n",
       "      <th>0</th>\n",
       "      <td>481412554</td>\n",
       "      <td>142603072</td>\n",
       "      <td>20</td>\n",
       "      <td>grc</td>\n",
       "      <td>aff</td>\n",
       "    </tr>\n",
       "    <tr>\n",
       "      <th>1</th>\n",
       "      <td>223881844</td>\n",
       "      <td>60081840</td>\n",
       "      <td>17</td>\n",
       "      <td>grc</td>\n",
       "      <td>aff</td>\n",
       "    </tr>\n",
       "    <tr>\n",
       "      <th>2</th>\n",
       "      <td>481412554</td>\n",
       "      <td>223835257</td>\n",
       "      <td>12</td>\n",
       "      <td>grc</td>\n",
       "      <td>aff</td>\n",
       "    </tr>\n",
       "    <tr>\n",
       "      <th>3</th>\n",
       "      <td>386392158</td>\n",
       "      <td>306242528</td>\n",
       "      <td>10</td>\n",
       "      <td>mg2</td>\n",
       "      <td>grc</td>\n",
       "    </tr>\n",
       "    <tr>\n",
       "      <th>4</th>\n",
       "      <td>128832297</td>\n",
       "      <td>139135155</td>\n",
       "      <td>8</td>\n",
       "      <td>sg1</td>\n",
       "      <td>grc</td>\n",
       "    </tr>\n",
       "    <tr>\n",
       "      <th>...</th>\n",
       "      <td>...</td>\n",
       "      <td>...</td>\n",
       "      <td>...</td>\n",
       "      <td>...</td>\n",
       "      <td>...</td>\n",
       "    </tr>\n",
       "    <tr>\n",
       "      <th>183</th>\n",
       "      <td>223881844</td>\n",
       "      <td>302946801</td>\n",
       "      <td>1</td>\n",
       "      <td>grc</td>\n",
       "      <td>sgx</td>\n",
       "    </tr>\n",
       "    <tr>\n",
       "      <th>184</th>\n",
       "      <td>223881844</td>\n",
       "      <td>301677416</td>\n",
       "      <td>1</td>\n",
       "      <td>grc</td>\n",
       "      <td>sg1</td>\n",
       "    </tr>\n",
       "    <tr>\n",
       "      <th>185</th>\n",
       "      <td>218095913</td>\n",
       "      <td>55442904</td>\n",
       "      <td>1</td>\n",
       "      <td>sg2</td>\n",
       "      <td>aff</td>\n",
       "    </tr>\n",
       "    <tr>\n",
       "      <th>186</th>\n",
       "      <td>218095913</td>\n",
       "      <td>45233468</td>\n",
       "      <td>1</td>\n",
       "      <td>sg2</td>\n",
       "      <td>sg1</td>\n",
       "    </tr>\n",
       "    <tr>\n",
       "      <th>187</th>\n",
       "      <td>565013265</td>\n",
       "      <td>569547308</td>\n",
       "      <td>1</td>\n",
       "      <td>grc</td>\n",
       "      <td>grc</td>\n",
       "    </tr>\n",
       "  </tbody>\n",
       "</table>\n",
       "<p>188 rows × 5 columns</p>\n",
       "</div>"
      ],
      "text/plain": [
       "           pre       post  weight pre_type post_type\n",
       "0    481412554  142603072      20      grc       aff\n",
       "1    223881844   60081840      17      grc       aff\n",
       "2    481412554  223835257      12      grc       aff\n",
       "3    386392158  306242528      10      mg2       grc\n",
       "4    128832297  139135155       8      sg1       grc\n",
       "..         ...        ...     ...      ...       ...\n",
       "183  223881844  302946801       1      grc       sgx\n",
       "184  223881844  301677416       1      grc       sg1\n",
       "185  218095913   55442904       1      sg2       aff\n",
       "186  218095913   45233468       1      sg2       sg1\n",
       "187  565013265  569547308       1      grc       grc\n",
       "\n",
       "[188 rows x 5 columns]"
      ]
     },
     "metadata": {},
     "output_type": "display_data"
    }
   ],
   "source": [
    "with pd.option_context('display.max_rows', 20):\n",
    "    display(df_edges)"
   ]
  },
  {
   "cell_type": "markdown",
   "id": "494fced4-fba7-48b0-ac09-219a38677226",
   "metadata": {},
   "source": [
    "If have structure in edges, can use next cells..."
   ]
  },
  {
   "cell_type": "code",
   "execution_count": null,
   "id": "37955430-15f2-4dae-a518-221540cced9d",
   "metadata": {},
   "outputs": [],
   "source": [
    "mask = df_edges['pre_type'].str.lower().isin(['sg1','mg1']) & df_edges['post_type'].str.lower().isin(['mg2'])\n",
    "hfig,ax = plt.subplots(1,figsize=(10,5))\n",
    "sns.stripplot(ax = ax, x='structure',y='weight',data = df_edges[mask],hue='pre_type', dodge=True, alpha=0.33,jitter=0.33,s=10)\n",
    "ax.tick_params(axis='x', labelrotation = 45)\n",
    "ax.set_ylim(0,15)"
   ]
  },
  {
   "cell_type": "code",
   "execution_count": null,
   "id": "8d14a678-46f0-489d-9a69-a35d6f589ef6",
   "metadata": {},
   "outputs": [],
   "source": [
    "mask = df_edges['pre_type'].str.lower().isin(['mg2','sg2']) & df_edges['post_type'].str.lower().isin(['mg1'])\n",
    "hfig,ax = plt.subplots(1,figsize=(10,5))\n",
    "sns.stripplot(ax = ax, x='structure',y='weight',data = df_edges[mask],hue='pre_type', dodge=True, alpha=0.33,jitter=0.33,s=10)\n",
    "ax.tick_params(axis='x', labelrotation = 45)\n",
    "ax.set_ylim(0,15)"
   ]
  },
  {
   "cell_type": "markdown",
   "id": "97033e0a-8bf7-40df-a22e-f8f9c5c0bfc7",
   "metadata": {},
   "source": [
    "## Graphs"
   ]
  },
  {
   "cell_type": "code",
   "execution_count": 185,
   "id": "4ad7becc-892e-4351-8ff5-a0835041f9fd",
   "metadata": {},
   "outputs": [],
   "source": [
    "# df_edges[df_edges['pre_type']=='grc']"
   ]
  },
  {
   "cell_type": "code",
   "execution_count": 24,
   "id": "a6b6d6a1-c717-4c2b-b077-d7b2ff750df9",
   "metadata": {},
   "outputs": [
    {
     "name": "stdout",
     "output_type": "stream",
     "text": [
      "('218095913',             pre       post  weight pre_type post_type\n",
      "343   218095913  128770984       4      sg2        lg\n",
      "485   218095913  300459385       3      sg2       mg1\n",
      "668   218095913  128813171       2      sg2       mg1\n",
      "672   218095913  299439953       2      sg2       mg1\n",
      "675   218095913  300474334       2      sg2        lg\n",
      "947   218095913  299405462       1      sg2       mg1\n",
      "948   218095913  299392199       1      sg2       mg1\n",
      "949   218095913  214613070       1      sg2       sg1\n",
      "959   218095913  213590737       1      sg2       mg1\n",
      "1004  218095913  213501262       1      sg2       mg1)\n",
      "('220275752',            pre       post  weight pre_type post_type\n",
      "88   220275752  129838223       9      sg2        lg\n",
      "235  220275752  213501262       6      sg2       mg1\n",
      "288  220275752  300409458       5      sg2       mg1\n",
      "398  220275752  300474334       4      sg2        lg\n",
      "678  220275752  214613070       2      sg2       sg1\n",
      "893  220275752  214550811       1      sg2       mg1\n",
      "894  220275752  299392199       1      sg2       mg1\n",
      "895  220275752  299439953       1      sg2       mg1\n",
      "896  220275752  300459385       1      sg2       mg1\n",
      "897  220275752  302637877       1      sg2        lg\n",
      "898  220275752  386224676       1      sg2       mg1\n",
      "899  220275752   42632020       1      sg2       mg1)\n",
      "('308470588',             pre       post  weight pre_type post_type\n",
      "90    308470588  300474334       9      sg2        lg\n",
      "278   308470588  213501262       5      sg2       mg1\n",
      "279   308470588  299392199       5      sg2       mg1\n",
      "736   308470588  213528973       2      sg2       sg1\n",
      "742   308470588  300409458       2      sg2       mg1\n",
      "1116  308470588  128737253       1      sg2       mg1\n",
      "1117  308470588  128770984       1      sg2        lg\n",
      "1118  308470588  136752472       1      sg2       sgx\n",
      "1119  308470588  214535386       1      sg2       mg1\n",
      "1120  308470588  299405462       1      sg2       mg1\n",
      "1121  308470588  300380579       1      sg2       mg1\n",
      "1141  308470588  472175645       1      sg2       mg1)\n",
      "('309693374',             pre       post  weight pre_type post_type\n",
      "81    309693374  386501395      10      sg2       sg1\n",
      "188   309693374  302870802       6      sg2        lg\n",
      "212   309693374  645162652       6      sg2        lg\n",
      "227   309693374  385357762       6      sg2       sg1\n",
      "452   309693374  557092670       3      sg2       mg1\n",
      "735   309693374  386393755       2      sg2       sg1\n",
      "743   309693374  300459385       2      sg2       mg1\n",
      "1142  309693374  214550811       1      sg2       mg1\n",
      "1143  309693374  298228381       1      sg2       mg1\n",
      "1162  309693374  299392199       1      sg2       mg1\n",
      "1164  309693374  299439953       1      sg2       mg1\n",
      "1165  309693374  389845032       1      sg2       sg1\n",
      "1166  309693374  472114046       1      sg2       mg1\n",
      "1167  309693374  472282894       1      sg2       mg1\n",
      "1168  309693374  560450043       1      sg2       sgx)\n",
      "('309743149',             pre       post  weight pre_type post_type\n",
      "410   309743149  385357762       4      sg2       sg1\n",
      "432   309743149  472392041       3      sg2        lg\n",
      "450   309743149  213590737       3      sg2       mg1\n",
      "451   309743149  128813171       3      sg2       mg1\n",
      "630   309743149  299439953       2      sg2       mg1\n",
      "708   309743149  299392199       2      sg2       mg1\n",
      "711   309743149  387710569       2      sg2       sg1\n",
      "713   309743149  301787806       2      sg2        lg\n",
      "714   309743149  299530386       2      sg2       mg1\n",
      "732   309743149  299496636       2      sg2       mg1\n",
      "1169  309743149  128849661       1      sg2       sg1\n",
      "1170  309743149  213669553       1      sg2       mg1\n",
      "1171  309743149  302870802       1      sg2        lg)\n",
      "('392213717',             pre       post  weight pre_type post_type\n",
      "153   392213717  302870802       7      sg2        lg\n",
      "258   392213717  472175645       5      sg2       mg1\n",
      "306   392213717  647516424       4      sg2        lg\n",
      "484   392213717  645162652       3      sg2        lg\n",
      "486   392213717  642905044       3      sg2       mg1\n",
      "489   392213717  472392041       3      sg2        lg\n",
      "597   392213717  472409584       2      sg2       mg1\n",
      "601   392213717  299496636       2      sg2       mg1\n",
      "1094  392213717  214535386       1      sg2       mg1\n",
      "1095  392213717  299392199       1      sg2       mg1\n",
      "1096  392213717  557092670       1      sg2       mg1\n",
      "1097  392213717  644143297       1      sg2       mg1)\n",
      "('473491444',            pre       post  weight pre_type post_type\n",
      "69   473491444  302870802      11      sg2        lg\n",
      "126  473491444  557092670       8      sg2       mg1\n",
      "252  473491444  300459385       5      sg2       mg1\n",
      "253  473491444  299439953       5      sg2       mg1\n",
      "254  473491444  128813171       5      sg2       mg1\n",
      "390  473491444  301787806       4      sg2        lg\n",
      "431  473491444  385357762       3      sg2       sg1\n",
      "464  473491444  128849661       3      sg2       sg1\n",
      "581  473491444  472392041       2      sg2        lg\n",
      "618  473491444  299392199       2      sg2       mg1\n",
      "795  473491444  126618353       1      sg2       mg1\n",
      "810  473491444  215883144       1      sg2       sg1\n",
      "811  473491444  299530386       1      sg2       mg1\n",
      "827  473491444  642905044       1      sg2       mg1)\n",
      "('476801247',            pre       post  weight pre_type post_type\n",
      "98   476801247  300474334       9      sg2        lg\n",
      "204  476801247  213501262       6      sg2       mg1\n",
      "350  476801247  300459385       4      sg2       mg1\n",
      "354  476801247  386393755       4      sg2       sg1\n",
      "542  476801247  214550811       3      sg2       mg1\n",
      "544  476801247  129838223       3      sg2        lg\n",
      "667  476801247  214613070       2      sg2       sg1\n",
      "677  476801247  472175645       2      sg2       mg1\n",
      "688  476801247  557092670       2      sg2       mg1\n",
      "755  476801247  472282894       1      sg2       mg1\n",
      "756  476801247  299392199       1      sg2       mg1\n",
      "759  476801247   42632020       1      sg2       mg1\n",
      "779  476801247  473353228       1      sg2       sg1\n",
      "787  476801247  477962738       1      sg2       sg2\n",
      "844  476801247  213528973       1      sg2       sg1)\n",
      "('477962738',            pre       post  weight pre_type post_type\n",
      "167  477962738  558020412       7      sg2        lg\n",
      "189  477962738   41592495       6      sg2       mg1\n",
      "211  477962738  300474334       6      sg2        lg\n",
      "360  477962738  299392199       4      sg2       mg1\n",
      "387  477962738  472114046       4      sg2       mg1\n",
      "653  477962738  472175645       2      sg2       mg1\n",
      "696  477962738  299405462       2      sg2       mg1\n",
      "745  477962738  647516424       2      sg2        lg\n",
      "753  477962738  474357461       1      sg2       mg1\n",
      "769  477962738  213501262       1      sg2       mg1\n",
      "771  477962738  299496636       1      sg2       mg1\n",
      "780  477962738  128737253       1      sg2       mg1\n",
      "783  477962738  386363638       1      sg2        lg\n",
      "784  477962738  389845032       1      sg2       sg1\n",
      "788  477962738  643848637       1      sg2       mg1)\n",
      "('648567066',             pre       post  weight pre_type post_type\n",
      "146   648567066  645162652       7      sg2        lg\n",
      "768   648567066  472114046       1      sg2       mg1\n",
      "770   648567066  472175645       1      sg2       mg1\n",
      "1179  648567066  647516424       1      sg2        lg)\n"
     ]
    },
    {
     "name": "stderr",
     "output_type": "stream",
     "text": [
      "/var/folders/4n/x3rls3t16fn723p1tbd7w7fr0000gn/T/ipykernel_28853/2940923859.py:1: FutureWarning: In a future version of pandas, a length 1 tuple will be returned when iterating over a groupby with a grouper equal to a list of length 1. Don't supply a list with a single grouper to avoid this warning.\n",
      "  for d_ in df_edges[df_edges['pre_type']=='sg2'].groupby(['pre']):\n"
     ]
    }
   ],
   "source": [
    "for d_ in df_edges[df_edges['pre_type']=='sg2'].groupby(['pre']):\n",
    "    print(d_)"
   ]
  },
  {
   "cell_type": "code",
   "execution_count": 206,
   "id": "0a947cf3-2e05-4396-a728-85a2611cac52",
   "metadata": {},
   "outputs": [
    {
     "data": {
      "text/html": [
       "<div>\n",
       "<style scoped>\n",
       "    .dataframe tbody tr th:only-of-type {\n",
       "        vertical-align: middle;\n",
       "    }\n",
       "\n",
       "    .dataframe tbody tr th {\n",
       "        vertical-align: top;\n",
       "    }\n",
       "\n",
       "    .dataframe thead th {\n",
       "        text-align: right;\n",
       "    }\n",
       "</style>\n",
       "<table border=\"1\" class=\"dataframe\">\n",
       "  <thead>\n",
       "    <tr style=\"text-align: right;\">\n",
       "      <th></th>\n",
       "      <th>post_type</th>\n",
       "      <th>weight</th>\n",
       "    </tr>\n",
       "  </thead>\n",
       "  <tbody>\n",
       "    <tr>\n",
       "      <th>0</th>\n",
       "      <td>grc</td>\n",
       "      <td>6</td>\n",
       "    </tr>\n",
       "    <tr>\n",
       "      <th>1</th>\n",
       "      <td>lf</td>\n",
       "      <td>17</td>\n",
       "    </tr>\n",
       "    <tr>\n",
       "      <th>2</th>\n",
       "      <td>lg</td>\n",
       "      <td>47</td>\n",
       "    </tr>\n",
       "    <tr>\n",
       "      <th>3</th>\n",
       "      <td>mg1</td>\n",
       "      <td>25</td>\n",
       "    </tr>\n",
       "    <tr>\n",
       "      <th>4</th>\n",
       "      <td>mg2</td>\n",
       "      <td>42</td>\n",
       "    </tr>\n",
       "    <tr>\n",
       "      <th>5</th>\n",
       "      <td>sg1</td>\n",
       "      <td>61</td>\n",
       "    </tr>\n",
       "    <tr>\n",
       "      <th>6</th>\n",
       "      <td>sg2</td>\n",
       "      <td>8</td>\n",
       "    </tr>\n",
       "    <tr>\n",
       "      <th>7</th>\n",
       "      <td>sgx</td>\n",
       "      <td>25</td>\n",
       "    </tr>\n",
       "  </tbody>\n",
       "</table>\n",
       "</div>"
      ],
      "text/plain": [
       "  post_type  weight\n",
       "0       grc       6\n",
       "1        lf      17\n",
       "2        lg      47\n",
       "3       mg1      25\n",
       "4       mg2      42\n",
       "5       sg1      61\n",
       "6       sg2       8\n",
       "7       sgx      25"
      ]
     },
     "metadata": {},
     "output_type": "display_data"
    }
   ],
   "source": [
    "# df_map = df_edges.\n",
    "df_map = df_edges[df_edges['pre_type']=='grc'].groupby(['post_type']).sum(numeric_only=True).reset_index()\n",
    "display(df_map)"
   ]
  },
  {
   "cell_type": "code",
   "execution_count": 25,
   "id": "c2ca8562-cab5-4baf-8ec3-e42e644ee078",
   "metadata": {},
   "outputs": [
    {
     "name": "stdout",
     "output_type": "stream",
     "text": [
      "raw weights\n"
     ]
    },
    {
     "data": {
      "text/html": [
       "<div>\n",
       "<style scoped>\n",
       "    .dataframe tbody tr th:only-of-type {\n",
       "        vertical-align: middle;\n",
       "    }\n",
       "\n",
       "    .dataframe tbody tr th {\n",
       "        vertical-align: top;\n",
       "    }\n",
       "\n",
       "    .dataframe thead th {\n",
       "        text-align: right;\n",
       "    }\n",
       "</style>\n",
       "<table border=\"1\" class=\"dataframe\">\n",
       "  <thead>\n",
       "    <tr style=\"text-align: right;\">\n",
       "      <th>post_type</th>\n",
       "      <th>grc</th>\n",
       "      <th>lf</th>\n",
       "      <th>lg</th>\n",
       "      <th>mg1</th>\n",
       "      <th>mg2</th>\n",
       "      <th>sg1</th>\n",
       "      <th>sg2</th>\n",
       "      <th>sgx</th>\n",
       "    </tr>\n",
       "    <tr>\n",
       "      <th>pre_type</th>\n",
       "      <th></th>\n",
       "      <th></th>\n",
       "      <th></th>\n",
       "      <th></th>\n",
       "      <th></th>\n",
       "      <th></th>\n",
       "      <th></th>\n",
       "      <th></th>\n",
       "    </tr>\n",
       "  </thead>\n",
       "  <tbody>\n",
       "    <tr>\n",
       "      <th>grc</th>\n",
       "      <td>3.0</td>\n",
       "      <td>14.0</td>\n",
       "      <td>48.0</td>\n",
       "      <td>28.0</td>\n",
       "      <td>57.0</td>\n",
       "      <td>71.0</td>\n",
       "      <td>16.0</td>\n",
       "      <td>33.0</td>\n",
       "    </tr>\n",
       "    <tr>\n",
       "      <th>mg1</th>\n",
       "      <td>0.0</td>\n",
       "      <td>1066.0</td>\n",
       "      <td>0.0</td>\n",
       "      <td>10.0</td>\n",
       "      <td>494.0</td>\n",
       "      <td>0.0</td>\n",
       "      <td>8.0</td>\n",
       "      <td>0.0</td>\n",
       "    </tr>\n",
       "    <tr>\n",
       "      <th>mg2</th>\n",
       "      <td>0.0</td>\n",
       "      <td>5.0</td>\n",
       "      <td>1203.0</td>\n",
       "      <td>517.0</td>\n",
       "      <td>9.0</td>\n",
       "      <td>3.0</td>\n",
       "      <td>2.0</td>\n",
       "      <td>1.0</td>\n",
       "    </tr>\n",
       "    <tr>\n",
       "      <th>sg1</th>\n",
       "      <td>0.0</td>\n",
       "      <td>123.0</td>\n",
       "      <td>0.0</td>\n",
       "      <td>1.0</td>\n",
       "      <td>152.0</td>\n",
       "      <td>2.0</td>\n",
       "      <td>10.0</td>\n",
       "      <td>2.0</td>\n",
       "    </tr>\n",
       "    <tr>\n",
       "      <th>sg2</th>\n",
       "      <td>0.0</td>\n",
       "      <td>0.0</td>\n",
       "      <td>118.0</td>\n",
       "      <td>160.0</td>\n",
       "      <td>0.0</td>\n",
       "      <td>47.0</td>\n",
       "      <td>1.0</td>\n",
       "      <td>2.0</td>\n",
       "    </tr>\n",
       "    <tr>\n",
       "      <th>sgx</th>\n",
       "      <td>0.0</td>\n",
       "      <td>20.0</td>\n",
       "      <td>0.0</td>\n",
       "      <td>0.0</td>\n",
       "      <td>35.0</td>\n",
       "      <td>0.0</td>\n",
       "      <td>6.0</td>\n",
       "      <td>12.0</td>\n",
       "    </tr>\n",
       "  </tbody>\n",
       "</table>\n",
       "</div>"
      ],
      "text/plain": [
       "post_type  grc      lf      lg    mg1    mg2   sg1   sg2   sgx\n",
       "pre_type                                                      \n",
       "grc        3.0    14.0    48.0   28.0   57.0  71.0  16.0  33.0\n",
       "mg1        0.0  1066.0     0.0   10.0  494.0   0.0   8.0   0.0\n",
       "mg2        0.0     5.0  1203.0  517.0    9.0   3.0   2.0   1.0\n",
       "sg1        0.0   123.0     0.0    1.0  152.0   2.0  10.0   2.0\n",
       "sg2        0.0     0.0   118.0  160.0    0.0  47.0   1.0   2.0\n",
       "sgx        0.0    20.0     0.0    0.0   35.0   0.0   6.0  12.0"
      ]
     },
     "metadata": {},
     "output_type": "display_data"
    },
    {
     "name": "stdout",
     "output_type": "stream",
     "text": [
      "totals across row\n"
     ]
    },
    {
     "data": {
      "text/plain": [
       "pre_type\n",
       "grc     270.0\n",
       "mg1    1578.0\n",
       "mg2    1740.0\n",
       "sg1     290.0\n",
       "sg2     328.0\n",
       "sgx      73.0\n",
       "dtype: float64"
      ]
     },
     "metadata": {},
     "output_type": "display_data"
    }
   ],
   "source": [
    "# df_map = df_edges.groupby(['pre_type','post_type']).count().sort_values('pre_type').reset_index()\n",
    "# df_map\n",
    "\n",
    "df_map = df_edges.groupby(['pre_type','post_type']).sum(numeric_only=True).reset_index().pivot(index='pre_type', columns='post_type', values='weight').fillna(0)\n",
    "print('raw weights')\n",
    "display(df_map)\n",
    "# display(df_map/df_map.sum(axis=1))\n",
    "print('totals across row')\n",
    "display(df_map.sum(axis=1))"
   ]
  },
  {
   "cell_type": "code",
   "execution_count": 71,
   "id": "c34e9071-da36-4282-b98d-8b2ba641d38a",
   "metadata": {},
   "outputs": [
    {
     "data": {
      "text/plain": [
       "<AxesSubplot:xlabel='lf', ylabel='mg2'>"
      ]
     },
     "execution_count": 71,
     "metadata": {},
     "output_type": "execute_result"
    },
    {
     "data": {
      "image/png": "[encoded data removed]",
      "text/plain": [
       "<Figure size 640x480 with 1 Axes>"
      ]
     },
     "metadata": {},
     "output_type": "display_data"
    }
   ],
   "source": [
    "types_ = ['mg1','sg1']\n",
    "df_map = pd.DataFrame()\n",
    "for t in types_:\n",
    "    df_grouped = df_edges[df_edges['pre_type']==t].groupby(\n",
    "        ['pre','pre_type','post_type']).sum(numeric_only=True).reset_index().pivot(\n",
    "        index='pre', columns='post_type', values='weight').fillna(0).reset_index()\n",
    "    df_grouped['pre_type']=t\n",
    "    df_map = pd.concat([df_map,df_grouped])\n",
    "    \n",
    "# for t in types_:\n",
    "#     df_grouped = df_edges[df_edges['pre_type']==t].groupby(\n",
    "#         ['pre','pre_type','post_type']).count().reset_index().pivot(\n",
    "#         index='pre', columns='post_type', values='post').fillna(0).reset_index()\n",
    "#     df_grouped['pre_type']=t\n",
    "#     df_map = pd.concat([df_map,df_grouped])\n",
    "\n",
    "sns.scatterplot(data=df_map,x='lf',y='mg2',hue='pre_type')"
   ]
  },
  {
   "cell_type": "code",
   "execution_count": 70,
   "id": "5c251793-0e19-4438-b0d7-d7cb6f149de7",
   "metadata": {},
   "outputs": [
    {
     "data": {
      "text/plain": [
       "<AxesSubplot:xlabel='lg', ylabel='mg1'>"
      ]
     },
     "execution_count": 70,
     "metadata": {},
     "output_type": "execute_result"
    },
    {
     "data": {
      "image/png": "[encoded data removed]",
      "text/plain": [
       "<Figure size 640x480 with 1 Axes>"
      ]
     },
     "metadata": {},
     "output_type": "display_data"
    }
   ],
   "source": [
    "types_ = ['mg2','sg2']\n",
    "df_map = pd.DataFrame()\n",
    "for t in types_:\n",
    "    df_grouped = df_edges[df_edges['pre_type']==t].groupby(\n",
    "        ['pre','pre_type','post_type']).sum(numeric_only=True).reset_index().pivot(\n",
    "        index='pre', columns='post_type', values='weight').fillna(0).reset_index()\n",
    "    df_grouped['pre_type']=t\n",
    "    df_map = pd.concat([df_map,df_grouped])\n",
    "\n",
    "sns.scatterplot(data=df_map,x='lg',y='mg1',hue='pre_type')"
   ]
  },
  {
   "cell_type": "code",
   "execution_count": 288,
   "id": "0bcc9115-b809-4f66-89fe-b2895e85eb71",
   "metadata": {},
   "outputs": [
    {
     "data": {
      "image/png": "[encoded data removed]",
      "text/plain": [
       "<Figure size 600x100 with 1 Axes>"
      ]
     },
     "metadata": {},
     "output_type": "display_data"
    },
    {
     "data": {
      "image/png": "[encoded data removed]",
      "text/plain": [
       "<Figure size 1000x1000 with 5 Axes>"
      ]
     },
     "metadata": {},
     "output_type": "display_data"
    }
   ],
   "source": [
    "types_ = df_edges['pre_type'].unique()\n",
    "df_map = pd.DataFrame()\n",
    "for t in types_:\n",
    "    df_grouped = df_edges[df_edges['pre_type']==t].groupby(\n",
    "        ['pre','pre_type','post_type']).sum(numeric_only=True).reset_index().pivot(\n",
    "        index='pre', columns='post_type', values='weight').fillna(0).reset_index()\n",
    "    \n",
    "    # df_grouped = df_edges[df_edges['pre_type']==t].groupby(\n",
    "    #     ['pre','pre_type','post_type']).count().reset_index().pivot(\n",
    "    #     index='pre', columns='post_type', values='post').fillna(0).reset_index()\n",
    "    \n",
    "    df_grouped['pre_type']=t\n",
    "    df_map = pd.concat([df_map,df_grouped])\n",
    "df_map = df_map.fillna(0)\n",
    "\n",
    "df_map = df_map.set_index('pre')\n",
    "\n",
    "\n",
    "labels = df_map['pre_type'].unique()\n",
    "color_pal = sns.color_palette(\"deep\", len(labels))\n",
    "# color_dict = dict(zip(labels, color_pal))\n",
    "# sns.palplot(sns.color_palette(\"deep\", len(labels)))\n",
    "\n",
    "color_dict = {\n",
    "    'mg2': '#0000ff',\n",
    "    'mg1': '#ff0000',\n",
    "    'sg2': '#33ccff',\n",
    "    'sg1': '#ff99cc',\n",
    "    'sgx': '#808080',\n",
    "    'grc': '#996633'    \n",
    "}\n",
    "sns.palplot(color_dict.values())\n",
    "ax = plt.gca()\n",
    "ax.tick_params(left=False, bottom=False)\n",
    "\n",
    "for i,v in enumerate(color_dict):\n",
    "    ax.text(i-0.25, 0.1, v,fontsize=16,color='white') \n",
    "\n",
    "data_df = df_map[df_edges['post_type'].unique()].div(df_map[df_edges['post_type'].unique()].sum(axis=1),axis=0).mul(100).round(0)\n",
    "sns.clustermap(data = data_df,\n",
    "               method='average',\n",
    "               col_cluster=False, cmap=\"vlag\", center=50,yticklabels=False,\n",
    "               row_colors = df_map['pre_type'].map(color_dict));\n",
    "\n",
    "# data_df = df_map[df_edges['post_type'].unique()]\n",
    "# cmap = sns.color_palette(\"blend:#d9d9d9,#000000\", as_cmap=True)\n",
    "# cmap.set_under('white')\n",
    "# sns.clustermap(data = data_df,\n",
    "#                method='average',\n",
    "#                col_cluster=False, cmap=cmap, vmin=1, yticklabels=False,\n",
    "#                row_colors = df_map['pre_type'].map(color_dict));\n",
    "\n",
    "\n",
    "# The methods are single, complete, average, weighted, ward, median, centroid\n",
    "# from https://docs.scipy.org/doc/scipy/reference/generated/scipy.cluster.hierarchy.linkage.html#scipy.cluster.hierarchy.linkage\n",
    "# default for seaborn is \"average\""
   ]
  },
  {
   "cell_type": "code",
   "execution_count": 239,
   "id": "856e00b0-9977-4f34-a584-31c445061f28",
   "metadata": {},
   "outputs": [
    {
     "data": {
      "text/html": [
       "<div>\n",
       "<style scoped>\n",
       "    .dataframe tbody tr th:only-of-type {\n",
       "        vertical-align: middle;\n",
       "    }\n",
       "\n",
       "    .dataframe tbody tr th {\n",
       "        vertical-align: top;\n",
       "    }\n",
       "\n",
       "    .dataframe thead th {\n",
       "        text-align: right;\n",
       "    }\n",
       "</style>\n",
       "<table border=\"1\" class=\"dataframe\">\n",
       "  <thead>\n",
       "    <tr style=\"text-align: right;\">\n",
       "      <th>post_type</th>\n",
       "      <th>grc</th>\n",
       "      <th>lf</th>\n",
       "      <th>lg</th>\n",
       "      <th>mg1</th>\n",
       "      <th>mg2</th>\n",
       "      <th>sg1</th>\n",
       "      <th>sg2</th>\n",
       "      <th>sgx</th>\n",
       "    </tr>\n",
       "    <tr>\n",
       "      <th>pre_type</th>\n",
       "      <th></th>\n",
       "      <th></th>\n",
       "      <th></th>\n",
       "      <th></th>\n",
       "      <th></th>\n",
       "      <th></th>\n",
       "      <th></th>\n",
       "      <th></th>\n",
       "    </tr>\n",
       "  </thead>\n",
       "  <tbody>\n",
       "    <tr>\n",
       "      <th>grc</th>\n",
       "      <td>1.0</td>\n",
       "      <td>5.0</td>\n",
       "      <td>18.0</td>\n",
       "      <td>10.0</td>\n",
       "      <td>21.0</td>\n",
       "      <td>26.0</td>\n",
       "      <td>6.0</td>\n",
       "      <td>12.0</td>\n",
       "    </tr>\n",
       "    <tr>\n",
       "      <th>mg1</th>\n",
       "      <td>0.0</td>\n",
       "      <td>68.0</td>\n",
       "      <td>0.0</td>\n",
       "      <td>1.0</td>\n",
       "      <td>31.0</td>\n",
       "      <td>0.0</td>\n",
       "      <td>1.0</td>\n",
       "      <td>0.0</td>\n",
       "    </tr>\n",
       "    <tr>\n",
       "      <th>mg2</th>\n",
       "      <td>0.0</td>\n",
       "      <td>0.0</td>\n",
       "      <td>69.0</td>\n",
       "      <td>30.0</td>\n",
       "      <td>1.0</td>\n",
       "      <td>0.0</td>\n",
       "      <td>0.0</td>\n",
       "      <td>0.0</td>\n",
       "    </tr>\n",
       "    <tr>\n",
       "      <th>sg1</th>\n",
       "      <td>0.0</td>\n",
       "      <td>42.0</td>\n",
       "      <td>0.0</td>\n",
       "      <td>0.0</td>\n",
       "      <td>52.0</td>\n",
       "      <td>1.0</td>\n",
       "      <td>3.0</td>\n",
       "      <td>1.0</td>\n",
       "    </tr>\n",
       "    <tr>\n",
       "      <th>sg2</th>\n",
       "      <td>0.0</td>\n",
       "      <td>0.0</td>\n",
       "      <td>36.0</td>\n",
       "      <td>49.0</td>\n",
       "      <td>0.0</td>\n",
       "      <td>14.0</td>\n",
       "      <td>0.0</td>\n",
       "      <td>1.0</td>\n",
       "    </tr>\n",
       "    <tr>\n",
       "      <th>sgx</th>\n",
       "      <td>0.0</td>\n",
       "      <td>27.0</td>\n",
       "      <td>0.0</td>\n",
       "      <td>0.0</td>\n",
       "      <td>48.0</td>\n",
       "      <td>0.0</td>\n",
       "      <td>8.0</td>\n",
       "      <td>16.0</td>\n",
       "    </tr>\n",
       "  </tbody>\n",
       "</table>\n",
       "</div>"
      ],
      "text/plain": [
       "post_type  grc    lf    lg   mg1   mg2   sg1  sg2   sgx\n",
       "pre_type                                               \n",
       "grc        1.0   5.0  18.0  10.0  21.0  26.0  6.0  12.0\n",
       "mg1        0.0  68.0   0.0   1.0  31.0   0.0  1.0   0.0\n",
       "mg2        0.0   0.0  69.0  30.0   1.0   0.0  0.0   0.0\n",
       "sg1        0.0  42.0   0.0   0.0  52.0   1.0  3.0   1.0\n",
       "sg2        0.0   0.0  36.0  49.0   0.0  14.0  0.0   1.0\n",
       "sgx        0.0  27.0   0.0   0.0  48.0   0.0  8.0  16.0"
      ]
     },
     "metadata": {},
     "output_type": "display_data"
    },
    {
     "data": {
      "text/plain": [
       "Text(50.722222222222214, 0.5, 'pre type')"
      ]
     },
     "execution_count": 239,
     "metadata": {},
     "output_type": "execute_result"
    },
    {
     "data": {
      "image/png": "[encoded data removed]",
      "text/plain": [
       "<Figure size 640x480 with 2 Axes>"
      ]
     },
     "metadata": {},
     "output_type": "display_data"
    }
   ],
   "source": [
    "res = df_edges.groupby(['pre_type','post_type'])[['weight']].sum(numeric_only=True)#.reset_index()\n",
    "\n",
    "denom = res.groupby('pre_type')['weight'].sum()\n",
    "\n",
    "res.weight = np.round(res.weight / denom *100)\n",
    "\n",
    "# res.reset_index().pivot(index='pre_type', columns='post_type', values='weight').fillna(0)\n",
    "\n",
    "display(res.reset_index().pivot(index='pre_type', columns='post_type', values='weight').fillna(0))\n",
    "\n",
    "ax = sns.heatmap(res.reset_index().pivot(index='pre_type', columns='post_type', values='weight').fillna(0),\n",
    "            annot=True,cmap=\"crest_r\",vmin=0,vmax=100,\n",
    "           cbar_kws={'label': 'percent of total synapses (row-wise)'})\n",
    "\n",
    "ax.set_xlabel('post type')\n",
    "ax.set_ylabel('pre type')"
   ]
  },
  {
   "cell_type": "code",
   "execution_count": 37,
   "id": "a1984fc7-7834-45b5-bffb-153bb5bf4f5f",
   "metadata": {},
   "outputs": [],
   "source": [
    "palette ={\"lg\": \"#ff0000\", \"lf\": \"#0000ff\", \"mg1\": \"#fd9400\", \"mg2\": \"#9934ff\", \"sg1\":\"#ffff00\", \"sg2\":\"#ff33cc\", \"sgx\":\"#a6a6a6\", \"grc\":\"#000000\", \"aff\":\"#000000\"}\n",
    "sns.set(font_scale=1.5)"
   ]
  },
  {
   "cell_type": "code",
   "execution_count": null,
   "id": "3eb21214-6820-41cf-9d88-89b71abef062",
   "metadata": {},
   "outputs": [],
   "source": [
    "# colors = [\"#fd9400\", \"#9934ff\"] #color_structure = {'mg1':'#fd9400', 'mg2':'#9934ff'}\n",
    "# # Set your custom color palette\n",
    "# sns.set_palette(sns.color_palette(colors))"
   ]
  },
  {
   "cell_type": "code",
   "execution_count": 211,
   "id": "0a5800db-63e5-4aa6-a57b-7beb2f5d9e05",
   "metadata": {},
   "outputs": [
    {
     "data": {
      "text/plain": [
       "<matplotlib.legend.Legend at 0x7fb6b5c22a30>"
      ]
     },
     "execution_count": 211,
     "metadata": {},
     "output_type": "execute_result"
    },
    {
     "data": {
      "image/png": "[encoded data removed]",
      "text/plain": [
       "<Figure size 2000x600 with 1 Axes>"
      ]
     },
     "metadata": {},
     "output_type": "display_data"
    },
    {
     "data": {
      "image/png": "[encoded data removed]",
      "text/plain": [
       "<Figure size 2000x600 with 1 Axes>"
      ]
     },
     "metadata": {},
     "output_type": "display_data"
    },
    {
     "data": {
      "image/png": "[encoded data removed]",
      "text/plain": [
       "<Figure size 2000x600 with 1 Axes>"
      ]
     },
     "metadata": {},
     "output_type": "display_data"
    }
   ],
   "source": [
    "# with sns.set(font_scale=1.5): # df_edges['weight'].hist(bins=20)\n",
    "plt.figure(figsize=(20,6))\n",
    "sns.stripplot(df_edges[df_edges[\"pre_type\"].str.contains('sg')],x='pre_type',y='weight',hue='post_type', edgecolors=\"black\",linewidth=1,\n",
    "              dodge=True, jitter=0.3,alpha = 0.5,s=10,palette=palette)#,split=True)\n",
    "plt.legend(bbox_to_anchor=(1.05, 1), loc='upper left', borderaxespad=0)\n",
    "# sns.displot(df_edges,x='weight',hue='pre_type',multiple='dodge')\n",
    "\n",
    "plt.figure(figsize=(20,6))\n",
    "sns.stripplot(df_edges[df_edges[\"pre_type\"].str.contains('mg')],x='pre_type',y='weight',hue='post_type', edgecolors=\"black\",linewidth=1,\n",
    "              dodge=True, jitter=0.3,alpha = 0.5,s=10,palette=palette)#,split=True)\n",
    "plt.legend(bbox_to_anchor=(1.05, 1), loc='upper left', borderaxespad=0)\n",
    "# sns.displot(df_edges,x='weight',hue='pre_type',multiple='dodge')\n",
    "\n",
    "plt.figure(figsize=(20,6))\n",
    "sns.stripplot(df_edges[df_edges[\"pre_type\"].str.contains('grc')],x='pre_type',y='weight',hue='post_type', edgecolors=\"black\",linewidth=1,\n",
    "              dodge=True, jitter=0.3,alpha = 0.5,s=10,palette=palette)#,split=True)\n",
    "plt.legend(bbox_to_anchor=(1.05, 1), loc='upper left', borderaxespad=0)\n",
    "# sns.displot(df_edges,x='weight',hue='pre_type',multiple='dodge')"
   ]
  },
  {
   "cell_type": "code",
   "execution_count": null,
   "id": "8fc92e88-1e27-4bcd-974e-fb9e3faaa013",
   "metadata": {},
   "outputs": [],
   "source": [
    "plt.figure(figsize=(10,4))\n",
    "sns.violinplot(df_edges,x='pre_type',y='weight',scale='count',cut=0,palette=palette);\n",
    "# plt.figure(figsize=(10,4))\n",
    "# sns.kdeplot(df_edges,x='weight',hue='pre_type',bw_adjust = 0.5)"
   ]
  },
  {
   "cell_type": "code",
   "execution_count": null,
   "id": "657f0b12-d0fd-4597-a372-0f4eee46d584",
   "metadata": {},
   "outputs": [],
   "source": [
    "plt.figure(figsize=(15,8))\n",
    "sns.violinplot(df_edges,x='post_type',y='weight',scale='count',cut=0,palette=palette)\n",
    "sns.stripplot(df_edges,x='post_type',y='weight',color='black',alpha=0.5,jitter=0.3);\n",
    "# plt.figure(figsize=(10,4))\n",
    "# sns.kdeplot(df_edges,x='weight',hue='post_type',bw_adjust = 0.5)"
   ]
  },
  {
   "cell_type": "code",
   "execution_count": null,
   "id": "2e2375b2-7b96-44dc-b9b9-c6e2db088c81",
   "metadata": {},
   "outputs": [],
   "source": [
    "degree_in = ell.degree(mode=\"in\")\n",
    "degree_out = ell.degree(mode=\"out\")\n",
    "\n",
    "df_degree = pd.DataFrame({\n",
    "    'cell_id': [v['name'] for v in ell.vs],\n",
    "    'converge': degree_in,\n",
    "    'diverge': degree_out,\n",
    "    'type': [cell_type[v['name']] for v in ell.vs]\n",
    "})\n",
    "\n",
    "with pd.option_context('display.max_rows', 4):\n",
    "    display(df_degree)"
   ]
  },
  {
   "cell_type": "code",
   "execution_count": null,
   "id": "6152e946-6411-4194-a347-9618e0c4a8d1",
   "metadata": {},
   "outputs": [],
   "source": [
    "# sns.kdeplot(df_degree,x='converge',hue='type', bw_adjust = 0.75)\n",
    "plt.figure(figsize=(10,6))\n",
    "sns.violinplot(df_degree[(df_degree.converge != 0)],x='type',y='converge',scale='count',cut=0,palette=palette,order=['lg','lf','mg1','mg2','sg1','sg2','sgx'])\n",
    "# plt.figure(figsize=(10,4))\n",
    "sns.swarmplot(df_degree[(df_degree.converge != 0)],x='type',y='converge',color='black',alpha=0.5)#,jitter=0.25)\n",
    "# sns.stripplot(df_degree,x='type',y='converge',alpha=0.5,jitter=0.25)\n",
    "\n",
    "plt.figure(figsize=(10,4))\n",
    "sns.violinplot(df_degree[(df_degree['type'].isin(['mg1','mg2','sg1','sg2','sgx'])) & (df_degree.diverge != 0)],y='diverge',x='type',scale='count',cut=0,palette=palette)\n",
    "# plt.figure(figsize=(10,4))\n",
    "sns.swarmplot(df_degree[(df_degree['type'].isin(['mg1','mg2','sg1','sg2','sgx'])) & (df_degree.diverge != 0)],x='type',y='diverge',color='black',alpha=0.5)"
   ]
  },
  {
   "cell_type": "code",
   "execution_count": null,
   "id": "105051d4-aedc-4768-ae15-91ef5524e282",
   "metadata": {},
   "outputs": [],
   "source": [
    "# sns.displot(df_degree[df_degree['type'].isin(['mg1','mg2','mgx'])],x='diverge',hue='type',multiple='dodge')\n",
    "\n",
    "tmp = df_degree[(df_degree['type'].isin(['mg1','mg2'])) & (df_degree.diverge != 0) & (df_degree.converge != 0)].melt(id_vars=['type'], \n",
    "            value_vars=['converge', 'diverge'])\n",
    "\n",
    "hfig,ax = plt.subplots(figsize=(10,4))\n",
    "sns.violinplot(tmp,y='value',x='type',hue = 'variable',split=True,scale='count',cut=0,palette={\"converge\": \"#808080\", \"diverge\": \"#d0d0d0\"},inner=None)\n",
    "plt.legend(bbox_to_anchor=(1.05, 1), loc='upper left', borderaxespad=0)\n",
    "ax.set(ylim=(0, 40))"
   ]
  },
  {
   "cell_type": "code",
   "execution_count": null,
   "id": "62ec1f68-92da-4303-b313-490a65b9a2d9",
   "metadata": {},
   "outputs": [],
   "source": [
    "display(df_degree[(df_degree['type'].isin(['mg1','mg2']))])"
   ]
  },
  {
   "cell_type": "code",
   "execution_count": null,
   "id": "b082db30-24d5-489f-9abd-7cfe3359d5d1",
   "metadata": {},
   "outputs": [],
   "source": [
    "display(df_degree[(df_degree['type'].isin(['mg1','mg2']))& (df_degree.diverge != 0) & (df_degree.converge != 0)])"
   ]
  },
  {
   "cell_type": "code",
   "execution_count": null,
   "id": "653fac05-9635-4906-ad98-78a134444884",
   "metadata": {},
   "outputs": [],
   "source": [
    "pruned_vs = ell.vs.select([v for v, b in enumerate(ell.vs) if 'mg' in b['cell_type']])\n",
    "\n",
    "pruned_graph = ell.subgraph(pruned_vs)\n",
    "\n",
    "degree_all = pruned_graph.degree(mode=\"out\")\n"
   ]
  },
  {
   "cell_type": "code",
   "execution_count": null,
   "id": "c958293a-7431-4f5e-b21c-a99e1804784f",
   "metadata": {},
   "outputs": [],
   "source": [
    "degree_in = pruned_graph.degree(mode=\"in\")\n",
    "degree_out = pruned_graph.degree(mode=\"out\")\n",
    "\n",
    "df_degree = pd.DataFrame({\n",
    "    'cell_id': [v['name'] for v in pruned_graph.vs],\n",
    "    'converge': degree_in,\n",
    "    'diverge': degree_out,\n",
    "    'type': [cell_type[v['name']] for v in pruned_graph.vs]\n",
    "})\n",
    "\n",
    "with pd.option_context('display.max_rows', 4):\n",
    "    display(df_degree)"
   ]
  },
  {
   "cell_type": "code",
   "execution_count": null,
   "id": "f6c10745-a316-4f9e-9063-1bd50d6ba3db",
   "metadata": {},
   "outputs": [],
   "source": [
    "# sns.displot(df_degree[df_degree['type'].isin(['mg1','mg2','mgx'])],x='diverge',hue='type',multiple='dodge')\n",
    "\n",
    "tmp = df_degree[(df_degree.diverge != 0) & (df_degree.converge != 0)].melt(id_vars=['type'], \n",
    "            value_vars=['converge', 'diverge'])\n",
    "\n",
    "hfig,ax = plt.subplots(figsize=(10,4))\n",
    "sns.violinplot(tmp,y='value',x='type',hue = 'variable',split=True,scale='count',cut=0,palette={\"converge\": \"#808080\", \"diverge\": \"#d0d0d0\"},inner=None)\n",
    "plt.legend(bbox_to_anchor=(1.05, 1), loc='upper left', borderaxespad=0)\n",
    "ax.set(ylim=(0, 40))"
   ]
  },
  {
   "cell_type": "code",
   "execution_count": null,
   "id": "53b1ad9e-77e7-4a94-8d77-640864f3da24",
   "metadata": {},
   "outputs": [],
   "source": [
    "color_dict = {\"mg1\": \"orange\", \"lf\": \"red\", \"mg2\": \"purple\", \"lg\": \"blue\"}\n",
    "\n",
    "# for cell_type in ell.vs[\"cell_type\"]:\n",
    "\n",
    "for v in ell.vs:\n",
    "    try:\n",
    "        v[\"color\"] = color_dict[v['cell_type']]\n",
    "    except:\n",
    "        v[\"color\"] = 'black'\n",
    "# ell.vs[\"color\"] = [try: color_dict[cell_type] except: 'black' for cell_type in ell.vs[\"cell_type\"]]"
   ]
  },
  {
   "cell_type": "code",
   "execution_count": null,
   "id": "7a9c507a-0b82-46b8-adc3-437f39b6d6c7",
   "metadata": {},
   "outputs": [],
   "source": [
    "color_dict = {\"unknown\": \"brown\", \"apical dendrite\": \"red\", \"basal dendrite\": \"orange\", \"axon\": \"green\", \"multiple\":\"gray\"}\n",
    "\n",
    "# for cell_type in ell.vs[\"cell_type\"]:\n",
    "\n",
    "for e in ell.es:\n",
    "    try:\n",
    "        e[\"color\"] = color_dict[e['structure']]\n",
    "    except:\n",
    "        e[\"color\"] = 'black'\n",
    "        # print(e)"
   ]
  },
  {
   "cell_type": "code",
   "execution_count": null,
   "id": "71472d5c-840b-4e36-ace1-48c068d9b456",
   "metadata": {},
   "outputs": [],
   "source": [
    "degree_all = ell.degree(mode=\"in\")\n",
    "\n",
    "# for i,d in enumerate(degree_all):\n",
    "    # print(ell.vs[i]['cell_type'],d)\n",
    "\n",
    "# labels = [n['name'] for n in ell.vs]\n",
    "\n",
    "visual_style = {}\n",
    "# visual_style[\"layout\"] = ell.layout(\"fr\")\n",
    "visual_style[\"vertex_label_size\"] = 12\n",
    "visual_style[\"vertex_label_color\"] = \"white\"\n",
    "visual_style[\"vertex_label\"] = degree_all\n",
    "# visual_style[\"arrow_size\"]=0.1\n",
    "\n",
    "\n",
    "ig_plot(ell,edge_width = ell.es['weight'],\n",
    "        vertex_color=ell.vs['color'],\n",
    "        edge_color = ell.es['color'], \n",
    "        **visual_style)#,vertex_label=labels)"
   ]
  },
  {
   "cell_type": "code",
   "execution_count": null,
   "id": "ede21ed5-feff-4f33-82b3-7ac185279c4f",
   "metadata": {},
   "outputs": [],
   "source": [
    "pruned_vs = ell.vs.select([v for v, b in enumerate(ell.vs) if 'mg' in b['cell_type']])\n",
    "\n",
    "pruned_graph = ell.subgraph(pruned_vs)\n",
    "\n",
    "degree_all = pruned_graph.degree(mode=\"out\")\n",
    "\n",
    "visual_style = {}\n",
    "# visual_style[\"layout\"] = ell.layout(\"fr\")\n",
    "visual_style[\"vertex_label_size\"] = 12\n",
    "visual_style[\"vertex_label_color\"] = \"white\"\n",
    "visual_style[\"vertex_label\"] = degree_all\n",
    "\n",
    "ig_plot(pruned_graph,edge_width = pruned_graph.es['weight'],\n",
    "        vertex_color=pruned_graph.vs['color'],\n",
    "        edge_color = pruned_graph.es['color'],\n",
    "        **visual_style)#,vertex_label=labels)"
   ]
  },
  {
   "cell_type": "code",
   "execution_count": null,
   "id": "9edd8e5f-aeb5-477d-b9ea-2a53e9c6dce2",
   "metadata": {},
   "outputs": [],
   "source": [
    "pruned_vs = ell.vs.select([v for v, b in enumerate(ell.vs) if b['cell_type'] in ['mg2','mgx','lg','lx']])\n",
    "\n",
    "pruned_graph = ell.subgraph(pruned_vs)\n",
    "\n",
    "degree_all = pruned_graph.degree(mode=\"out\")\n",
    "\n",
    "visual_style = {}\n",
    "# visual_style[\"layout\"] = ell.layout(\"fr\")\n",
    "visual_style[\"vertex_label_size\"] = 12\n",
    "visual_style[\"vertex_label_color\"] = \"white\"\n",
    "visual_style[\"vertex_label\"] = degree_all\n",
    "\n",
    "ig_plot(pruned_graph,edge_width = pruned_graph.es['weight'],\n",
    "        vertex_color=pruned_graph.vs['color'],\n",
    "        edge_color = pruned_graph.es['color'], \n",
    "        **visual_style)#,vertex_label=labels)"
   ]
  },
  {
   "cell_type": "code",
   "execution_count": null,
   "id": "2b03eba5-6c82-49de-97f0-23c4b41f01e8",
   "metadata": {},
   "outputs": [],
   "source": [
    "pruned_vs = ell.vs.select([v for v, b in enumerate(ell.vs) if b['cell_type'] in ['mg2','mgx','lf','lx']])\n",
    "\n",
    "pruned_graph = ell.subgraph(pruned_vs)\n",
    "\n",
    "degree_all = pruned_graph.degree(mode=\"in\")\n",
    "\n",
    "visual_style = {}\n",
    "# visual_style[\"layout\"] = ell.layout(\"fr\")\n",
    "visual_style[\"vertex_label_size\"] = 12\n",
    "visual_style[\"vertex_label_color\"] = \"white\"\n",
    "visual_style[\"vertex_label\"] = degree_all\n",
    "\n",
    "ig_plot(pruned_graph,edge_width = pruned_graph.es['weight'],\n",
    "        vertex_color=pruned_graph.vs['color'],\n",
    "        edge_color = pruned_graph.es['color'], \n",
    "        **visual_style)#,vertex_label=labels)"
   ]
  },
  {
   "cell_type": "code",
   "execution_count": null,
   "id": "f0072dbb-d19b-4f6f-9b07-7e4b3feff8ca",
   "metadata": {},
   "outputs": [],
   "source": [
    "pruned_vs = ell.vs.select([v for v, b in enumerate(ell.vs) if b['cell_type'] in ['mg1','mgx','lf','lx']])\n",
    "\n",
    "pruned_graph = ell.subgraph(pruned_vs)\n",
    "\n",
    "degree_all = pruned_graph.degree(mode=\"out\")\n",
    "\n",
    "visual_style = {}\n",
    "# visual_style[\"layout\"] = ell.layout(\"fr\")\n",
    "visual_style[\"vertex_label_size\"] = 12\n",
    "visual_style[\"vertex_label_color\"] = \"white\"\n",
    "visual_style[\"vertex_label\"] = degree_all\n",
    "\n",
    "ig_plot(pruned_graph,edge_width = pruned_graph.es['weight'],\n",
    "        vertex_color=pruned_graph.vs['color'],\n",
    "        edge_color = pruned_graph.es['color'], \n",
    "        **visual_style)#,vertex_label=labels)"
   ]
  },
  {
   "cell_type": "code",
   "execution_count": null,
   "id": "bc39aa81-4943-4a93-83a1-0f99451b47b2",
   "metadata": {},
   "outputs": [],
   "source": [
    "pruned_vs = ell.vs.select([v for v, b in enumerate(ell.vs) if b['cell_type'] in ['mg1','mgx','lg','lx']])\n",
    "\n",
    "pruned_graph = ell.subgraph(pruned_vs)\n",
    "\n",
    "degree_all = pruned_graph.degree(mode=\"in\")\n",
    "\n",
    "visual_style = {}\n",
    "# visual_style[\"layout\"] = ell.layout(\"fr\")\n",
    "visual_style[\"vertex_label_size\"] = 12\n",
    "visual_style[\"vertex_label_color\"] = \"white\"\n",
    "visual_style[\"vertex_label\"] = degree_all\n",
    "\n",
    "ig_plot(pruned_graph,edge_width = pruned_graph.es['weight'],\n",
    "        vertex_color=pruned_graph.vs['color'],\n",
    "        edge_color = pruned_graph.es['color'], \n",
    "        **visual_style)#,vertex_label=labels)"
   ]
  },
  {
   "cell_type": "markdown",
   "id": "995f0102-8300-4d14-aedd-e10587ebf586",
   "metadata": {},
   "source": [
    "## Get all pre-synaptic cells to a specific cellID"
   ]
  },
  {
   "cell_type": "code",
   "execution_count": null,
   "id": "58f8a4a7-35f8-4fc8-aaeb-3f5760a04374",
   "metadata": {},
   "outputs": [],
   "source": [
    "df_edges[df_edges['post']=='393063300'].groupby('pre').sum(numeric_only=True)"
   ]
  },
  {
   "cell_type": "markdown",
   "id": "6e683750-5103-4e22-b58b-76a403550649",
   "metadata": {},
   "source": [
    "## Check for duplicates in mg_network"
   ]
  },
  {
   "cell_type": "code",
   "execution_count": 252,
   "id": "e87ca55e-4792-4016-9e8e-687e1b5bddef",
   "metadata": {},
   "outputs": [],
   "source": [
    "path_to_settings_json = '/Users/kperks/Documents/ell-connectome/eCREST-local-files/settings_dict.json'\n",
    "settings_dict = import_settings(path_to_settings_json)\n",
    "\n",
    "dirpath = Path(settings_dict['save_dir'])\n",
    "# dirpath = \"/Users/kperks/Documents/gdrive/.shortcut-targets-by-id/16q1BuOMfD2ta0Cwq8CjMlRe4rDvbuWC5/ELL_connectome/CREST_reconstructions/mg-network\"\n",
    "\n",
    "nodes = [child.name.split('_')[2] for child in sorted(dirpath.iterdir()) \n",
    "         if (child.name[0]!='.') & (child.is_file())] # ignore hidden files]\n",
    "\n",
    "nodefiles = dict()\n",
    "for child in sorted(dirpath.iterdir()):\n",
    "    if (child.name[0]!='.') & (child.is_file()):\n",
    "        nodefiles[child.name.split('_')[2]] = child\n",
    "                    "
   ]
  },
  {
   "cell_type": "code",
   "execution_count": 253,
   "id": "d6e71fa0-b784-4fb6-a3d1-0c75110656bc",
   "metadata": {},
   "outputs": [],
   "source": [
    "crest = ecrest(settings_dict,launch_viewer=False)\n",
    "\n",
    "base_segments = crest.get_base_segments_dict(dirpath)"
   ]
  },
  {
   "cell_type": "code",
   "execution_count": 254,
   "id": "d2a5f5ca-a62f-4866-827c-8ab7327ab9a2",
   "metadata": {},
   "outputs": [
    {
     "data": {
      "text/html": [
       "<div>\n",
       "<style scoped>\n",
       "    .dataframe tbody tr th:only-of-type {\n",
       "        vertical-align: middle;\n",
       "    }\n",
       "\n",
       "    .dataframe tbody tr th {\n",
       "        vertical-align: top;\n",
       "    }\n",
       "\n",
       "    .dataframe thead th {\n",
       "        text-align: right;\n",
       "    }\n",
       "</style>\n",
       "<table border=\"1\" class=\"dataframe\">\n",
       "  <thead>\n",
       "    <tr style=\"text-align: right;\">\n",
       "      <th></th>\n",
       "      <th>self</th>\n",
       "      <th>dups</th>\n",
       "      <th>overlap-percent</th>\n",
       "      <th>number_seg_lap</th>\n",
       "    </tr>\n",
       "  </thead>\n",
       "  <tbody>\n",
       "    <tr>\n",
       "      <th>309</th>\n",
       "      <td>132543482</td>\n",
       "      <td>303166992</td>\n",
       "      <td>1.000000</td>\n",
       "      <td>2299.0</td>\n",
       "    </tr>\n",
       "    <tr>\n",
       "      <th>610</th>\n",
       "      <td>139041402</td>\n",
       "      <td>55442904</td>\n",
       "      <td>0.913043</td>\n",
       "      <td>189.0</td>\n",
       "    </tr>\n",
       "    <tr>\n",
       "      <th>455</th>\n",
       "      <td>142464507</td>\n",
       "      <td>395567735</td>\n",
       "      <td>0.094911</td>\n",
       "      <td>69.0</td>\n",
       "    </tr>\n",
       "    <tr>\n",
       "      <th>111</th>\n",
       "      <td>143698367</td>\n",
       "      <td>143698547</td>\n",
       "      <td>1.000000</td>\n",
       "      <td>423.0</td>\n",
       "    </tr>\n",
       "    <tr>\n",
       "      <th>110</th>\n",
       "      <td>143698547</td>\n",
       "      <td>143698367</td>\n",
       "      <td>1.000000</td>\n",
       "      <td>423.0</td>\n",
       "    </tr>\n",
       "    <tr>\n",
       "      <th>212</th>\n",
       "      <td>214627855</td>\n",
       "      <td>221559187</td>\n",
       "      <td>0.966667</td>\n",
       "      <td>58.0</td>\n",
       "    </tr>\n",
       "    <tr>\n",
       "      <th>197</th>\n",
       "      <td>220043717</td>\n",
       "      <td>220044275</td>\n",
       "      <td>0.907540</td>\n",
       "      <td>1649.0</td>\n",
       "    </tr>\n",
       "    <tr>\n",
       "      <th>196</th>\n",
       "      <td>220044275</td>\n",
       "      <td>220043717</td>\n",
       "      <td>0.943364</td>\n",
       "      <td>1649.0</td>\n",
       "    </tr>\n",
       "    <tr>\n",
       "      <th>217</th>\n",
       "      <td>220399756</td>\n",
       "      <td>222673388</td>\n",
       "      <td>0.545455</td>\n",
       "      <td>30.0</td>\n",
       "    </tr>\n",
       "    <tr>\n",
       "      <th>136</th>\n",
       "      <td>221559187</td>\n",
       "      <td>214627855</td>\n",
       "      <td>0.044513</td>\n",
       "      <td>58.0</td>\n",
       "    </tr>\n",
       "    <tr>\n",
       "      <th>207</th>\n",
       "      <td>222673388</td>\n",
       "      <td>220399756</td>\n",
       "      <td>0.576923</td>\n",
       "      <td>30.0</td>\n",
       "    </tr>\n",
       "    <tr>\n",
       "      <th>54</th>\n",
       "      <td>303166992</td>\n",
       "      <td>132543482</td>\n",
       "      <td>1.000000</td>\n",
       "      <td>2299.0</td>\n",
       "    </tr>\n",
       "    <tr>\n",
       "      <th>344</th>\n",
       "      <td>308470588</td>\n",
       "      <td>308471538</td>\n",
       "      <td>0.860294</td>\n",
       "      <td>468.0</td>\n",
       "    </tr>\n",
       "    <tr>\n",
       "      <th>343</th>\n",
       "      <td>308471538</td>\n",
       "      <td>308470588</td>\n",
       "      <td>0.997868</td>\n",
       "      <td>468.0</td>\n",
       "    </tr>\n",
       "    <tr>\n",
       "      <th>431</th>\n",
       "      <td>309277229</td>\n",
       "      <td>392814322</td>\n",
       "      <td>1.000000</td>\n",
       "      <td>3468.0</td>\n",
       "    </tr>\n",
       "    <tr>\n",
       "      <th>404</th>\n",
       "      <td>388682967</td>\n",
       "      <td>388699029</td>\n",
       "      <td>0.991379</td>\n",
       "      <td>345.0</td>\n",
       "    </tr>\n",
       "    <tr>\n",
       "      <th>403</th>\n",
       "      <td>388699029</td>\n",
       "      <td>388682967</td>\n",
       "      <td>0.889175</td>\n",
       "      <td>345.0</td>\n",
       "    </tr>\n",
       "    <tr>\n",
       "      <th>348</th>\n",
       "      <td>392814322</td>\n",
       "      <td>309277229</td>\n",
       "      <td>0.312799</td>\n",
       "      <td>3468.0</td>\n",
       "    </tr>\n",
       "    <tr>\n",
       "      <th>450</th>\n",
       "      <td>395492297</td>\n",
       "      <td>395507584</td>\n",
       "      <td>0.961818</td>\n",
       "      <td>529.0</td>\n",
       "    </tr>\n",
       "    <tr>\n",
       "      <th>449</th>\n",
       "      <td>395507584</td>\n",
       "      <td>395492297</td>\n",
       "      <td>0.998113</td>\n",
       "      <td>529.0</td>\n",
       "    </tr>\n",
       "    <tr>\n",
       "      <th>106</th>\n",
       "      <td>395567735</td>\n",
       "      <td>142464507</td>\n",
       "      <td>0.985714</td>\n",
       "      <td>69.0</td>\n",
       "    </tr>\n",
       "    <tr>\n",
       "      <th>87</th>\n",
       "      <td>55442904</td>\n",
       "      <td>139041402</td>\n",
       "      <td>0.935644</td>\n",
       "      <td>189.0</td>\n",
       "    </tr>\n",
       "    <tr>\n",
       "      <th>652</th>\n",
       "      <td>567287534</td>\n",
       "      <td>567287588</td>\n",
       "      <td>0.811966</td>\n",
       "      <td>190.0</td>\n",
       "    </tr>\n",
       "    <tr>\n",
       "      <th>651</th>\n",
       "      <td>567287588</td>\n",
       "      <td>567287534</td>\n",
       "      <td>0.875576</td>\n",
       "      <td>190.0</td>\n",
       "    </tr>\n",
       "  </tbody>\n",
       "</table>\n",
       "</div>"
      ],
      "text/plain": [
       "          self       dups  overlap-percent  number_seg_lap\n",
       "309  132543482  303166992         1.000000          2299.0\n",
       "610  139041402   55442904         0.913043           189.0\n",
       "455  142464507  395567735         0.094911            69.0\n",
       "111  143698367  143698547         1.000000           423.0\n",
       "110  143698547  143698367         1.000000           423.0\n",
       "212  214627855  221559187         0.966667            58.0\n",
       "197  220043717  220044275         0.907540          1649.0\n",
       "196  220044275  220043717         0.943364          1649.0\n",
       "217  220399756  222673388         0.545455            30.0\n",
       "136  221559187  214627855         0.044513            58.0\n",
       "207  222673388  220399756         0.576923            30.0\n",
       "54   303166992  132543482         1.000000          2299.0\n",
       "344  308470588  308471538         0.860294           468.0\n",
       "343  308471538  308470588         0.997868           468.0\n",
       "431  309277229  392814322         1.000000          3468.0\n",
       "404  388682967  388699029         0.991379           345.0\n",
       "403  388699029  388682967         0.889175           345.0\n",
       "348  392814322  309277229         0.312799          3468.0\n",
       "450  395492297  395507584         0.961818           529.0\n",
       "449  395507584  395492297         0.998113           529.0\n",
       "106  395567735  142464507         0.985714            69.0\n",
       "87    55442904  139041402         0.935644           189.0\n",
       "652  567287534  567287588         0.811966           190.0\n",
       "651  567287588  567287534         0.875576           190.0"
      ]
     },
     "metadata": {},
     "output_type": "display_data"
    }
   ],
   "source": [
    "df_all = pd.DataFrame()\n",
    "for k,f in nodefiles.items():\n",
    "    cell = ecrest(settings_dict,filepath = f,launch_viewer=False)\n",
    "    df = cell.check_duplicates(base_segments)\n",
    "    if not df.empty:\n",
    "        df_all = pd.concat([df_all,df]) \n",
    "        \n",
    "display(df_all)"
   ]
  },
  {
   "cell_type": "markdown",
   "id": "8f5fe1d8-debc-45e6-aa56-c7f579b8f249",
   "metadata": {},
   "source": [
    "# create crest files for post-syn segments not in cells"
   ]
  },
  {
   "cell_type": "code",
   "execution_count": 336,
   "id": "56fb13c7-71dd-4604-a50e-e3f6586b5f28",
   "metadata": {},
   "outputs": [],
   "source": [
    "path_to_settings_json = '/Users/kperks/Documents/ell-connectome/eCREST-local-files/settings_dict.json'\n",
    "settings_dict = import_settings(path_to_settings_json)\n",
    "\n",
    "dirpath = Path(settings_dict['save_dir'])\n",
    "# dirpath = \"/Users/kperks/Documents/gdrive/.shortcut-targets-by-id/16q1BuOMfD2ta0Cwq8CjMlRe4rDvbuWC5/ELL_connectome/CREST_reconstructions/mg-network\"\n",
    "\n",
    "nodes = [child.name.split('_')[2] for child in sorted(dirpath.iterdir()) \n",
    "         if (child.name[0]!='.') & (child.is_file())] # ignore hidden files]\n",
    "\n",
    "nodefiles = dict()\n",
    "for child in sorted(dirpath.iterdir()):\n",
    "    if (child.name[0]!='.') & (child.is_file()):\n",
    "        nodefiles[child.name.split('_')[2]] = child\n",
    "                    \n",
    "\n",
    "# Create a base_segments dictionary of all cells\n",
    "\n",
    "base_segments = {}\n",
    "for x in nodes:\n",
    "    cell = ecrest(settings_dict,filepath = nodefiles[x],launch_viewer=False)\n",
    "    base_segments[cell.cell_data['metadata']['main_seg']['base']] = cell.cell_data['base_segments']"
   ]
  },
  {
   "cell_type": "code",
   "execution_count": 337,
   "id": "11e163a5-8170-4206-be89-466ed386e709",
   "metadata": {},
   "outputs": [],
   "source": [
    "pre_type = 'grc'\n",
    "\n",
    "# todo_dict= {}\n",
    "# post_segs_without_cell = 0\n",
    "# post_segs_with_cell = 0\n",
    "df_ = {}\n",
    "\n",
    "all_syn = set()\n",
    "for x_pre in nodes:\n",
    "    pre = ecrest(settings_dict,filepath = nodefiles[x_pre],launch_viewer=False)\n",
    "\n",
    "    # report if the cell is not cell-typed\n",
    "    if (pre.get_ctype('manual') == []) | (pre.get_ctype('manual') == ''):\n",
    "        print(f'cell {x_pre} is not cell-typed in json')\n",
    "    \n",
    "    # check if the cell is a cell of type pre_type and if it has post-synaptic segments labeled\n",
    "    if (pre_type in pre.get_ctype('manual')) & (pre.cell_data['end_points']['post-synaptic'] != []):\n",
    "\n",
    "        try:\n",
    "        # for each synapse\n",
    "            syn_to_find = set([syn_[3] for syn_ in pre.cell_data['end_points']['post-synaptic']])\n",
    "            for x_post in nodes:\n",
    "                post_segs = set([a for b in base_segments[x_post].values() for a in b])    \n",
    "                syn_to_find = syn_to_find.difference(post_segs)\n",
    "\n",
    "            all_syn = all_syn.union(syn_to_find)\n",
    "        \n",
    "        except IndexError as msg:\n",
    "                # cellid = x_pre['name']\n",
    "                print(msg, f'for cell {pre.cell_data[\"metadata\"][\"main_seg\"][\"base\"]} -- at least one synapse has no segment id')\n",
    "                \n",
    "    if (pre_type in pre.get_ctype('manual')) & (pre.cell_data['end_points']['post-synaptic'] == []):\n",
    "        # print(f'{pre.cell_data[\"metadata\"][\"main_seg\"][\"base\"]} is a {pre.get_ctype(\"manual\")} cell and does not have synapses labelled')\n",
    "        df_[pre.cell_data[\"metadata\"][\"main_seg\"][\"base\"]] = pre.get_ctype(\"manual\")\n",
    "        "
   ]
  },
  {
   "cell_type": "code",
   "execution_count": 338,
   "id": "fcb2c448-5bde-4563-b364-91593f803973",
   "metadata": {},
   "outputs": [],
   "source": [
    "# pd.DataFrame.from_dict(df_,orient='index',columns=['type']).reset_index(names='cell')"
   ]
  },
  {
   "cell_type": "code",
   "execution_count": 339,
   "id": "aea46e55-e9cf-41ed-ab5d-106b789be3c7",
   "metadata": {},
   "outputs": [
    {
     "data": {
      "text/plain": [
       "234"
      ]
     },
     "execution_count": 339,
     "metadata": {},
     "output_type": "execute_result"
    }
   ],
   "source": [
    "len(all_syn)"
   ]
  },
  {
   "cell_type": "code",
   "execution_count": 340,
   "id": "cd382f5f-9736-4015-9c7e-7ef3d6dc5d6a",
   "metadata": {},
   "outputs": [],
   "source": [
    "base_segments = crest.get_base_segments_dict(Path(settings_dict['save_dir']) / 'todo_postsynaptic_mg')"
   ]
  },
  {
   "cell_type": "code",
   "execution_count": 341,
   "id": "36996b95-2571-4033-9baa-0fba568578dc",
   "metadata": {},
   "outputs": [],
   "source": [
    "topop=set()\n",
    "for k,v in base_segments.items():\n",
    "    if all_syn & v != set():\n",
    "        # print(f'use reconstruction {k}')\n",
    "        topop = topop.union(all_syn & v)\n",
    "    "
   ]
  },
  {
   "cell_type": "code",
   "execution_count": 342,
   "id": "4504efbd-77e8-4783-83dc-0276201666c8",
   "metadata": {},
   "outputs": [
    {
     "data": {
      "text/plain": [
       "10"
      ]
     },
     "execution_count": 342,
     "metadata": {},
     "output_type": "execute_result"
    }
   ],
   "source": [
    "len(topop)"
   ]
  },
  {
   "cell_type": "code",
   "execution_count": 343,
   "id": "934a1909-1f61-427f-ae43-0e51b3d44a41",
   "metadata": {},
   "outputs": [],
   "source": [
    "all_syn = all_syn.difference(topop)"
   ]
  },
  {
   "cell_type": "code",
   "execution_count": 344,
   "id": "10dd682d-f4f1-43b4-bfec-7dea5d92ea52",
   "metadata": {},
   "outputs": [
    {
     "data": {
      "text/plain": [
       "224"
      ]
     },
     "execution_count": 344,
     "metadata": {},
     "output_type": "execute_result"
    }
   ],
   "source": [
    "len(all_syn)"
   ]
  },
  {
   "cell_type": "code",
   "execution_count": 345,
   "id": "5a8f4837-c792-485e-b790-4dbe2b4c2564",
   "metadata": {},
   "outputs": [],
   "source": [
    "base_segments = crest.get_base_segments_dict(Path(settings_dict['save_dir']) / 'todo_postsynaptic_sg')"
   ]
  },
  {
   "cell_type": "code",
   "execution_count": 346,
   "id": "cc411ad8-608f-49d1-9371-981e43ac44c0",
   "metadata": {},
   "outputs": [],
   "source": [
    "topop=set()\n",
    "for k,v in base_segments.items():\n",
    "    if all_syn & v != set():\n",
    "        # print(f'use reconstruction {k}')\n",
    "        topop = topop.union(all_syn & v)\n",
    "    "
   ]
  },
  {
   "cell_type": "code",
   "execution_count": 347,
   "id": "38e06314-8876-4635-aad1-1724a1fe7473",
   "metadata": {},
   "outputs": [
    {
     "data": {
      "text/plain": [
       "8"
      ]
     },
     "execution_count": 347,
     "metadata": {},
     "output_type": "execute_result"
    }
   ],
   "source": [
    "len(topop)"
   ]
  },
  {
   "cell_type": "code",
   "execution_count": 348,
   "id": "364c57cc-0002-4745-bdb4-8ab629060fbe",
   "metadata": {},
   "outputs": [],
   "source": [
    "all_syn = all_syn.difference(topop)"
   ]
  },
  {
   "cell_type": "code",
   "execution_count": 349,
   "id": "4f6f12a4-e81c-436a-a328-31938363d0ef",
   "metadata": {},
   "outputs": [
    {
     "data": {
      "text/plain": [
       "216"
      ]
     },
     "execution_count": 349,
     "metadata": {},
     "output_type": "execute_result"
    }
   ],
   "source": [
    "len(all_syn)"
   ]
  },
  {
   "cell_type": "code",
   "execution_count": null,
   "id": "7fad207a-6600-4c93-86f6-2a1a3673427b",
   "metadata": {},
   "outputs": [],
   "source": [
    "todo_dict = {}\n",
    "for post_seg in list(all_syn):\n",
    "    post = ecrest(settings_dict,segment_id = post_seg,launch_viewer=False)\n",
    "    todo_dict[post_seg] = set(post.cell_data['base_segments']['unknown'])\n",
    "    # post_segs_without_cell+=1\n",
    "    "
   ]
  },
  {
   "cell_type": "code",
   "execution_count": 351,
   "id": "420b9cf5-2831-4c65-ba2e-5278b152d151",
   "metadata": {},
   "outputs": [
    {
     "data": {
      "text/plain": [
       "216"
      ]
     },
     "execution_count": 351,
     "metadata": {},
     "output_type": "execute_result"
    }
   ],
   "source": [
    "len(todo_dict)"
   ]
  },
  {
   "cell_type": "code",
   "execution_count": 352,
   "id": "d0cd761c-dcba-4420-995d-712f72cfb0f0",
   "metadata": {},
   "outputs": [],
   "source": [
    "topop=[]\n",
    "\n",
    "todo_inds = list(todo_dict.keys())\n",
    "for k,k_ in itertools.combinations(todo_inds,2):\n",
    "    if todo_dict[k]&todo_dict[k_]!=set():\n",
    "        # then they share segments\n",
    "        topop.append(k_)\n",
    "topop = np.unique(topop)"
   ]
  },
  {
   "cell_type": "code",
   "execution_count": 353,
   "id": "d401a7f3-ffcf-4393-92cf-10ad1657198a",
   "metadata": {},
   "outputs": [
    {
     "data": {
      "text/plain": [
       "50"
      ]
     },
     "execution_count": 353,
     "metadata": {},
     "output_type": "execute_result"
    }
   ],
   "source": [
    "len(topop)"
   ]
  },
  {
   "cell_type": "code",
   "execution_count": 354,
   "id": "2c513b12-e673-4610-af6b-92fa03426495",
   "metadata": {},
   "outputs": [],
   "source": [
    "for segid in topop:\n",
    "    todo_dict.pop(segid)\n",
    "    "
   ]
  },
  {
   "cell_type": "code",
   "execution_count": null,
   "id": "87695f53-19be-40b5-9b1f-f4c73361efc9",
   "metadata": {},
   "outputs": [],
   "source": [
    "for segment_id in sorted(list(todo_dict.keys())):\n",
    "\n",
    "    cell = ecrest(settings_dict,segment_id = segment_id, launch_viewer=False)\n",
    "    cell.save_cell_graph(directory_path = Path(settings_dict['save_dir']) / 'todo_postsynaptic_grc')\n",
    "    \n",
    "\n"
   ]
  },
  {
   "cell_type": "markdown",
   "id": "4376bc0a-9cd9-42a8-b8a1-af3b5f1b1f49",
   "metadata": {
    "tags": []
   },
   "source": [
    "# Find & Delete GLIA \"post-synaptic\" segments from jsons\n",
    "\n"
   ]
  },
  {
   "cell_type": "code",
   "execution_count": null,
   "id": "f9a27896-54c7-4d97-a861-a7d0271033f3",
   "metadata": {},
   "outputs": [],
   "source": [
    "path_to_settings_json = '/Users/kperks/Documents/ell-connectome/eCREST-local-files/settings_dict.json'\n",
    "settings_dict = import_settings(path_to_settings_json)\n",
    "\n",
    "dirpath = Path(settings_dict['save_dir'])\n",
    "# dirpath = \"/Users/kperks/Documents/gdrive/.shortcut-targets-by-id/16q1BuOMfD2ta0Cwq8CjMlRe4rDvbuWC5/ELL_connectome/CREST_reconstructions/mg-network\"\n",
    "\n",
    "nodes = [child.name.split('_')[2] for child in sorted(dirpath.iterdir()) \n",
    "         if (child.name[0]!='.') & (child.is_file())] # ignore hidden files]\n",
    "\n",
    "nodefiles = dict()\n",
    "for child in sorted(dirpath.iterdir()):\n",
    "    if (child.name[0]!='.') & (child.is_file()):\n",
    "        nodefiles[child.name.split('_')[2]] = child\n",
    "                    "
   ]
  },
  {
   "cell_type": "code",
   "execution_count": null,
   "id": "0482b992-915e-4a72-af6e-488df48ebfaa",
   "metadata": {},
   "outputs": [],
   "source": [
    "glia_seg = ['479108445']"
   ]
  },
  {
   "cell_type": "code",
   "execution_count": null,
   "id": "e0d2109f-75f9-47d5-8516-36f7c95ad421",
   "metadata": {},
   "outputs": [],
   "source": [
    "anno_to_remove = {}\n",
    "\n",
    "vx_sizes = [16, 16, 30]\n",
    "# for each node,\n",
    "for n in nodes:\n",
    "\n",
    "    # if the node has post-synaptic annotations (the current cell is assumed pre-synaptic)\n",
    "    pre = ecrest(settings_dict,filepath = nodefiles[n],launch_viewer=False)\n",
    "    if pre.cell_data['end_points']['post-synaptic'] != []:\n",
    "        \n",
    "        for syn_ in pre.cell_data['end_points']['post-synaptic']:\n",
    "            try: \n",
    "                if syn_[3] in glia_seg:\n",
    "                    anno_to_remove[nodefiles[n]] = syn_\n",
    "\n",
    "\n",
    "            except IndexError as msg:\n",
    "                # cellid = x_pre['name']\n",
    "                print(msg, f'for cell {pre.cell_data[\"metadata\"][\"main_seg\"][\"base\"]} -- at least one synapse has no segment id')"
   ]
  },
  {
   "cell_type": "code",
   "execution_count": null,
   "id": "1f8465fe-eefe-4dea-84a2-6ce8a8b54873",
   "metadata": {},
   "outputs": [],
   "source": [
    "anno_to_remove"
   ]
  },
  {
   "cell_type": "code",
   "execution_count": null,
   "id": "39068f6b-9b36-4b5c-be52-8b5479f714a0",
   "metadata": {},
   "outputs": [],
   "source": [
    "f = '/Users/kperks/Documents/gdrive/.shortcut-targets-by-id/16q1BuOMfD2ta0Cwq8CjMlRe4rDvbuWC5/ELL_connectome/CREST_reconstructions/mg-network/todo_post-synaptic/glia/cell_graph_43621743__2023-04-20 08.33.58.json'\n",
    "pre = ecrest(settings_dict,filepath = f,launch_viewer=True)"
   ]
  },
  {
   "cell_type": "code",
   "execution_count": null,
   "id": "a35b19c9-08f5-4cf4-88bf-9dbc6dd099c2",
   "metadata": {},
   "outputs": [],
   "source": [
    "# filepath = json_path / filename\n",
    "for f,anno in anno_to_remove.items():\n",
    "    pre = ecrest(settings_dict,filepath = f,launch_viewer=False)\n",
    "    updated_anno = [i for i in pre.cell_data['end_points']['post-synaptic'] if i[3] not in [anno[3]]]\n",
    "    pre.cell_data['end_points']['post-synaptic'] = updated_anno\n",
    "    \n",
    "    # print(f.name)\n",
    "    pre.save_cell_graph(directory_path = f.parent, file_name=f.name, save_to_cloud=False); \n",
    "    # print(len(pre.cell_data['end_points']['post-synaptic']),len(updated_anno))"
   ]
  },
  {
   "cell_type": "markdown",
   "id": "0d7414c7-1d86-46a7-be25-45a1ba8a5159",
   "metadata": {},
   "source": [
    "# GET most recent files (by filename date) in folder"
   ]
  },
  {
   "cell_type": "code",
   "execution_count": 246,
   "id": "ad92ae0f-6fb5-4440-ae11-8ada737d782b",
   "metadata": {},
   "outputs": [],
   "source": [
    "# dirname = 'C:/Users/mpetkova/Dropbox/U19_zebrafish/EMfullres/LateralLineCurlDetector/CREST/right_afferents/'\n",
    "# # os.environ['GOOGLE_APPLICATION_CREDENTIALS'] = 'C:/Users/EngertLab/Dropbox/CREST/mariela_fish_credentials.json'\n",
    "\n",
    "# names = os.listdir(dirname);\n",
    "# cellid_filename=list();\n",
    "# for ind in range(len(names)):\n",
    "#     content = names[ind].split('_')\n",
    "#     if ('cell' in content):\n",
    "#         cellid_filename.append(names[ind])\n",
    "dirpath = Path('/Users/kperks/Documents/gdrive/.shortcut-targets-by-id/16q1BuOMfD2ta0Cwq8CjMlRe4rDvbuWC5/ELL_connectome/CREST_reconstructions/mg-network')#/todo_pre-synaptic/sg2')#/todo_pre-synaptic/basal-dendrite')\n",
    "\n",
    "cellid_filename = [child.name for child in sorted(dirpath.iterdir()) \n",
    "         if (child.name[0]!='.') & (child.is_file())] # ignore hidden files]\n",
    "\n",
    "d={}\n",
    "for name in cellid_filename:\n",
    "    ID,content_type,date=name.split('_')[2], name.split('_')[0], name.split('_')[-1]\n",
    "    date=date[:-5]\n",
    "    #create entry in dict which holds ID, file type (ex: cell_graph) and file path\n",
    "    if ID not in d:\n",
    "        d[ID]=[date, name]\n",
    "        #if there are multiple files with the same ID, keep the info for the newest one\n",
    "    else:\n",
    "        if date>d[ID][0]:\n",
    "            d[ID][0]=date\n",
    "            d[ID][1]=name\n",
    "            print(f'newer file exists for {ID}')\n",
    "            \n",
    "# ############################################################################################################################ \n",
    "# # Collect all the base segments for each ID\n",
    "# import json\n",
    "\n",
    "# base_segs = {}\n",
    "\n",
    "# for key in d.keys():\n",
    "#     f = open(dirname+d[key][1])\n",
    "#     data = json.load(f)\n",
    "#     base_segs[key]=sum(data['base_segments'].values(),[])\n",
    "#     f.close()\n",
    "\n",
    "# ############################################################################################################################ \n"
   ]
  },
  {
   "cell_type": "markdown",
   "id": "dbd305f2-cb73-47a0-b94b-61b93726bbb6",
   "metadata": {},
   "source": [
    "# Pre-synaptic reconstruction from synapses"
   ]
  },
  {
   "cell_type": "code",
   "execution_count": null,
   "id": "a4f2458b-3c97-4abf-8ea3-7872ff54be01",
   "metadata": {},
   "outputs": [],
   "source": [
    "path_to_settings_json = '/Users/kperks/Documents/ell-connectome/eCREST-local-files/settings_dict.json'\n",
    "settings_dict = import_settings(path_to_settings_json)\n"
   ]
  },
  {
   "cell_type": "code",
   "execution_count": 4,
   "id": "a539a705-eafd-4f2e-add3-3213f3070247",
   "metadata": {},
   "outputs": [],
   "source": [
    "json_path = Path(settings_dict['save_dir']) #/ 'todo_post-synaptic' #/ 'check-duplicates' #'CC unsure'\n",
    "filename = 'cell_graph_389812730__2023-07-04 15.33.26.json'\n",
    "\n",
    "crest = ecrest(settings_dict,filepath= json_path / filename, launch_viewer=False)\n"
   ]
  },
  {
   "cell_type": "code",
   "execution_count": 5,
   "id": "127df303-2146-4dc4-9032-bf8342fd792a",
   "metadata": {},
   "outputs": [],
   "source": [
    "vx_sizes = [16, 16, 30]\n",
    "\n",
    "syn_to_find = set([syn_[3] for syn_ in crest.cell_data['end_points']['pre-synaptic'] if int(syn_[1]/vx_sizes[1])])"
   ]
  },
  {
   "cell_type": "code",
   "execution_count": 6,
   "id": "11da9148-aeb3-4dec-8959-99f0fa48486d",
   "metadata": {},
   "outputs": [
    {
     "data": {
      "text/plain": [
       "64"
      ]
     },
     "execution_count": 6,
     "metadata": {},
     "output_type": "execute_result"
    }
   ],
   "source": [
    "len(syn_to_find)"
   ]
  },
  {
   "cell_type": "code",
   "execution_count": 7,
   "id": "53ace13c-eeee-40f6-945f-246cd9e29022",
   "metadata": {},
   "outputs": [],
   "source": [
    "# [np.asarray(syn_[0:2])/16 for syn_ in crest.cell_data['end_points']['pre-synaptic'] if syn_[3] in ['394395122']]"
   ]
  },
  {
   "cell_type": "markdown",
   "id": "8b8a2285-2776-4ef6-9067-912d571f8caf",
   "metadata": {},
   "source": [
    "First, find if any of these post-synaptic segments are already part of reconstructions completed"
   ]
  },
  {
   "cell_type": "code",
   "execution_count": 8,
   "id": "ea6f7214-c00c-4657-9f52-fa979aa144fe",
   "metadata": {},
   "outputs": [],
   "source": [
    "base_segments = crest.get_base_segments_dict(Path(settings_dict['save_dir']) / 'todo_presynaptic')"
   ]
  },
  {
   "cell_type": "code",
   "execution_count": 9,
   "id": "4c61c12b-bdcd-4666-90a4-20a37c1a4b20",
   "metadata": {},
   "outputs": [],
   "source": [
    "topop=set()\n",
    "for k,v in base_segments.items():\n",
    "    if syn_to_find & v != set():\n",
    "        print(f'use reconstruction {k}')\n",
    "        topop = topop.union(syn_to_find & v)\n",
    "    "
   ]
  },
  {
   "cell_type": "code",
   "execution_count": 10,
   "id": "4413914c-9076-489a-b7c9-102325739996",
   "metadata": {},
   "outputs": [],
   "source": [
    "syn_to_find = syn_to_find.difference(topop)"
   ]
  },
  {
   "cell_type": "code",
   "execution_count": 11,
   "id": "1d2fcea2-61fa-4e1c-825e-263ea873713b",
   "metadata": {},
   "outputs": [
    {
     "data": {
      "text/plain": [
       "64"
      ]
     },
     "execution_count": 11,
     "metadata": {},
     "output_type": "execute_result"
    }
   ],
   "source": [
    "len(syn_to_find)"
   ]
  },
  {
   "cell_type": "markdown",
   "id": "aa04c096-eb59-46f3-be73-6874fd43bea1",
   "metadata": {},
   "source": [
    "create crest files for each of the unidentified post-synaptic partners"
   ]
  },
  {
   "cell_type": "code",
   "execution_count": 12,
   "id": "70faf4ec-a0ee-423b-896b-f4dd7a6a2072",
   "metadata": {},
   "outputs": [],
   "source": [
    "path_to_settings_json = '/Users/kperks/Documents/ell-connectome/eCREST-local-files/settings_dict.json'\n",
    "settings_dict = import_settings(path_to_settings_json)\n"
   ]
  },
  {
   "cell_type": "markdown",
   "id": "3abcb03b-fabe-45de-a127-dfdae8d7c242",
   "metadata": {},
   "source": [
    "Save reconstructed_segs as a json to go through manually"
   ]
  },
  {
   "cell_type": "code",
   "execution_count": null,
   "id": "55e2c2e9-065b-4d90-8443-d45dd834c160",
   "metadata": {},
   "outputs": [],
   "source": [
    "for segment_id in sorted(list(syn_to_find)):\n",
    "\n",
    "    cell = ecrest(settings_dict,segment_id = segment_id, launch_viewer=False)\n",
    "    cell.save_cell_graph(directory_path = Path(settings_dict['save_dir']) / 'todo_presynaptic/Krista/grc_386392158')"
   ]
  },
  {
   "cell_type": "markdown",
   "id": "4ccd8046-1d06-4cf3-bad7-72e9260b4d2b",
   "metadata": {},
   "source": [
    "# Other"
   ]
  },
  {
   "cell_type": "markdown",
   "id": "4ce129b0-73f7-4e94-8985-7f8b17d31adf",
   "metadata": {},
   "source": [
    "## Fix cell_data dictionary keys\n"
   ]
  },
  {
   "cell_type": "code",
   "execution_count": null,
   "id": "cb9c4d36-43c7-4715-a62c-ae9837921bbb",
   "metadata": {},
   "outputs": [],
   "source": [
    "filepath = Path(\"/Users/kperks/Documents/gdrive/.shortcut-targets-by-id/16q1BuOMfD2ta0Cwq8CjMlRe4rDvbuWC5/ELL_connectome/CREST_reconstructions/mg-network/\")\n",
    "filepath = filepath / \"cell_graph_228366816__2023-06-14 09.56.22.json\""
   ]
  },
  {
   "cell_type": "code",
   "execution_count": null,
   "id": "b6eec29e-2be3-441a-b196-316373c3d901",
   "metadata": {},
   "outputs": [],
   "source": [
    "cell = ecrest(settings_dict,filepath = filepath,launch_viewer=False)"
   ]
  },
  {
   "cell_type": "code",
   "execution_count": null,
   "id": "101fbab4-c354-4de4-abd7-96adeb1e5c88",
   "metadata": {},
   "outputs": [],
   "source": [
    "old_points = cell.cell_data['end_points']\n",
    "old_points"
   ]
  },
  {
   "cell_type": "code",
   "execution_count": null,
   "id": "14c9f900-a71f-402b-89f6-a0ec76625a89",
   "metadata": {},
   "outputs": [],
   "source": [
    "end_points = {}\n",
    "for p in cell.point_types:\n",
    "    # if p not in cell.cell_data['end_points']:\n",
    "    end_points[p] = []\n",
    "        \n",
    "cell.cell_data['end_points'] = end_points"
   ]
  },
  {
   "cell_type": "code",
   "execution_count": null,
   "id": "76c1f388-7f89-4c08-8769-97c0c5459d95",
   "metadata": {},
   "outputs": [],
   "source": [
    "cell.cell_data['end_points']['natural end'] = old_points['natural']"
   ]
  },
  {
   "cell_type": "code",
   "execution_count": null,
   "id": "6bcd077e-bc64-400b-9f56-0bbb382498fb",
   "metadata": {},
   "outputs": [],
   "source": [
    "# cell.cell_data['end_points'].pop('natural')\n",
    "cell.cell_data['end_points'].keys()"
   ]
  },
  {
   "cell_type": "code",
   "execution_count": null,
   "id": "bbf6b9bc-1ed2-4e71-be0b-0c7651843936",
   "metadata": {},
   "outputs": [],
   "source": [
    "cell.save_cell_graph(directory_path = filepath.parent, file_name=filepath.name, save_to_cloud=False); #rewrites the original, not with a new time stamp"
   ]
  },
  {
   "cell_type": "markdown",
   "id": "9a6b276e-251e-4c16-a30f-bfaab72eebc5",
   "metadata": {},
   "source": [
    "## Figure out what is wrong with a crest file"
   ]
  },
  {
   "cell_type": "code",
   "execution_count": null,
   "id": "ef7ae9d8-9034-4c22-bff7-c8e39f8c0448",
   "metadata": {},
   "outputs": [],
   "source": [
    "filepath = Path(\"/Users/kperks/Documents/gdrive/.shortcut-targets-by-id/16q1BuOMfD2ta0Cwq8CjMlRe4rDvbuWC5/ELL_connectome/CREST_reconstructions/mg-network/\")\n",
    "filepath = filepath / \"cell_graph_213605530__2023-03-29 22.49.21.json\"\n",
    "cell = ecrest(settings_dict,filepath = filepath,launch_viewer=False)"
   ]
  },
  {
   "cell_type": "code",
   "execution_count": null,
   "id": "d743ef3b-a049-44dc-8e32-893a87a5fec8",
   "metadata": {},
   "outputs": [],
   "source": [
    "cell.cell_data['end_points']['post-synaptic']"
   ]
  },
  {
   "cell_type": "markdown",
   "id": "f27f4b2b-e2d0-4998-8d32-caa3d08f5900",
   "metadata": {},
   "source": [
    "## Fix pre-synaptic to be post-synaptic annotation list in converted crest jsons"
   ]
  },
  {
   "cell_type": "code",
   "execution_count": null,
   "id": "b6ba64bf-cbc9-4778-81ba-8cd635606f2f",
   "metadata": {},
   "outputs": [],
   "source": [
    "json_fix = Path(\"/Users/kperks/Documents/gdrive/.shortcut-targets-by-id/16q1BuOMfD2ta0Cwq8CjMlRe4rDvbuWC5/ELL_connectome/Complete/synapses/to-crest/conversion_specs_synapse_fix.json\")\n",
    "\n",
    "with open(json_fix,'r') as f:\n",
    "    cells_to_fix = f.read()\n",
    "    cells_to_fix = json.loads(cells_to_fix)"
   ]
  },
  {
   "cell_type": "code",
   "execution_count": null,
   "id": "e78fd2e7-16f0-4b42-9e81-751b1b114c74",
   "metadata": {},
   "outputs": [],
   "source": [
    "cells_to_fix = cells_to_fix['cell_info']"
   ]
  },
  {
   "cell_type": "code",
   "execution_count": null,
   "id": "e2176837-bbba-4557-a9a8-b9e760b06b83",
   "metadata": {},
   "outputs": [],
   "source": [
    "for k,v in cells_to_fix.items():\n",
    "    try:\n",
    "        filepath = nodefiles[k]\n",
    "        cell = ecrest(settings_dict,filepath = filepath,launch_viewer=False)\n",
    "        cell.cell_data['end_points']['post-synaptic'] = deepcopy(cell.cell_data['end_points']['pre-synaptic'])\n",
    "\n",
    "        cell.cell_data['end_points']['pre-synaptic'] = []\n",
    "        # cell.save_cell_graph(directory_path = filepath.parent / 'original', file_name=filepath.name, save_to_cloud=False); #rewrites the original, not with a new time stamp\n",
    "    except KeyError as msg:\n",
    "        print(msg)\n",
    "        continue\n",
    "        "
   ]
  },
  {
   "cell_type": "markdown",
   "id": "7e827d5e-6818-4ac7-ad95-8c231650e7d6",
   "metadata": {},
   "source": [
    "## Anatomical Clustering"
   ]
  },
  {
   "cell_type": "code",
   "execution_count": null,
   "id": "18ed8e96-377a-4a21-9eb3-b3a462d669e4",
   "metadata": {},
   "outputs": [],
   "source": []
  }
 ],
 "metadata": {
  "kernelspec": {
   "display_name": "Python 3 (ipykernel)",
   "language": "python",
   "name": "python3"
  },
  "language_info": {
   "codemirror_mode": {
    "name": "ipython",
    "version": 3
   },
   "file_extension": ".py",
   "mimetype": "text/x-python",
   "name": "python",
   "nbconvert_exporter": "python",
   "pygments_lexer": "ipython3",
   "version": "3.8.13"
  },
  "widgets": {
   "application/vnd.jupyter.widget-state+json": {
    "state": {},
    "version_major": 2,
    "version_minor": 0
   }
  }
 },
 "nbformat": 4,
 "nbformat_minor": 5
}
