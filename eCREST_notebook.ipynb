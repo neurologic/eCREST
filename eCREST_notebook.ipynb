{
 "cells": [
  {
   "cell_type": "markdown",
   "id": "bd548e97-d216-4bf7-b535-b4bd8d8f6c7c",
   "metadata": {},
   "source": [
    "# eCREST_notebook\n",
    "\n",
    "Basic functions for reconstructing cells.\n",
    "\n",
    "# Setup\n",
    "\n",
    "Do the following two setup steps regardless of how you will be using this script. \n",
    "\n",
    "## 1. Imports\n",
    "\n",
    "Run the following code cell to import the necessary packages and modules. "
   ]
  },
  {
   "cell_type": "code",
   "execution_count": 1,
   "id": "28175797-a93e-416b-a889-3f68e265fe70",
   "metadata": {},
   "outputs": [],
   "source": [
    "############################################################################################################################ \n",
    "# Get the latest CREST files for each ID within the target folder (dirname)\n",
    "\n",
    "from pathlib import Path\n",
    "import json\n",
    "from sqlite3 import connect as sqlite3_connect\n",
    "from sqlite3 import DatabaseError\n",
    "from igraph import Graph as ig_Graph\n",
    "from igraph import plot as ig_plot\n",
    "from scipy.spatial.distance import cdist\n",
    "from random import choice as random_choice\n",
    "from itertools import combinations\n",
    "from numpy import array, unravel_index, argmin, mean,unique,nan\n",
    "import pandas as pd\n",
    "from copy import deepcopy\n",
    "from datetime import datetime\n",
    "from time import time\n",
    "import neuroglancer\n",
    "from webbrowser import open as wb_open\n",
    "from webbrowser import open_new as wb_open_new\n",
    "import neuroglancer\n",
    "\n",
    "# from eCREST_cli_beta import ecrest, import_settings\n",
    "from eCREST_cli import ecrest, import_settings, get_cell_filepaths"
   ]
  },
  {
   "cell_type": "markdown",
   "id": "2832d693-5b15-4b06-ac7a-8721e1adc7d3",
   "metadata": {},
   "source": [
    "The 'ecrest' class has been imported from eCREST_cli.py\n",
    "\n",
    "An instance of this object will be able to do things like:\n",
    "- open an neuroglancer viewer for proofrieading (see \"Proofread using CREST\")\n",
    "    - add-remove segments (using graph feature for efficiency)\n",
    "    - format itself and save itself as a CREST-style .json\n",
    "- add or remove annotation layers (see \"Annotation Layers\")\n",
    "- check for overlap with other .json files in a directory folder (see \"check for overlap\")\n",
    "- label cell structures\n",
    "- add base_segments from a list (see \"add segments\")\n",
    "- import annotations from another file (see \"Annotation Import\")\n",
    "- convert from neuroglancer json (see \"Convert From Neuroglancer to eCREST\")\n",
    "    - format itself and save itself as a CREST-style .json\n",
    "    \n"
   ]
  },
  {
   "cell_type": "markdown",
   "id": "6389865b-9c52-4e0d-9261-f94b8ad49784",
   "metadata": {},
   "source": [
    "## 2. Settings definitions\n",
    "\n",
    "Whether you are converting from neuroglancer or creating a new reconstruction, the settings_dict parameters is needed to create CREST json files with correct formatting. \n",
    "- 'save_dir' : the directory where JSON files are saved \n",
    "- 'cred' and 'db_path' : specify the path to the agglomeration database file on your local computer. "
   ]
  },
  {
   "cell_type": "code",
   "execution_count": 2,
   "id": "1e49e4bd-680e-4d3b-9238-2e658542e1b7",
   "metadata": {},
   "outputs": [],
   "source": [
    "path_to_settings_json = '/Users/kperks/Documents/ell-connectome/eCREST-local-files/settings_dict.json'\n",
    "settings_dict = import_settings(path_to_settings_json)"
   ]
  },
  {
   "cell_type": "markdown",
   "id": "5e22556b-95c5-4a47-b48a-01799430bf8a",
   "metadata": {},
   "source": [
    "# Proofread using (e)CREST\n",
    "\n",
    "The ```ecrest``` class defined in eCREST_cli.py can be used to proofread base_segment reconstructions enhanced by the agglomeration database.\n",
    "\n",
    "An instance of this class can be initialized with either:\n",
    "- ecrest(segment_id): a \"main_base_id\" in *int* format\n",
    "- ecrest(filepath): an existing CREST .json file\n",
    "- ecrest(segment_id, segment_list): the main_base_id from the neuroglancer file you are converting and a list of base_segments.\n",
    "\n",
    "The ```launch_viewer``` flag default is \"False\" so that you can interact with the contents of a reconstruction without actually opening it visually in a neuroglancer tab. **NOTE**: Some ecrest functions require that the ecrest instance is created with ```launch_viewer==True```."
   ]
  },
  {
   "cell_type": "code",
   "execution_count": 3,
   "id": "c85d41ba-0b89-484f-bd07-0e0e4980ab29",
   "metadata": {},
   "outputs": [],
   "source": [
    "todo_f = Path(settings_dict['save_dir']) / 'todo_presynaptic/lg_301787806' #lf_393325331' #"
   ]
  },
  {
   "cell_type": "code",
   "execution_count": 4,
   "id": "a0df023b-c980-4c5d-a529-0e65c4556719",
   "metadata": {},
   "outputs": [
    {
     "data": {
      "text/plain": [
       "100"
      ]
     },
     "execution_count": 4,
     "metadata": {},
     "output_type": "execute_result"
    }
   ],
   "source": [
    "len(get_cell_filepaths(todo_f))"
   ]
  },
  {
   "cell_type": "markdown",
   "id": "9bcf9377-3063-45b5-a6eb-eb9fe97f3037",
   "metadata": {},
   "source": [
    "## NEW reconstruction from segment ID\n",
    "\n",
    "If you wanted to start reconstructing a new cell from a main base segment, you would use the following code block to launch.\n",
    "\n",
    "To change the save location you can specify the ```directory_path``` flag in the ```save_cell_graph()``` module"
   ]
  },
  {
   "cell_type": "code",
   "execution_count": null,
   "id": "ad5cb56d-9c07-4411-a1c0-804429108b6a",
   "metadata": {},
   "outputs": [],
   "source": [
    "segment_id = 475845127\n",
    "crest = ecrest(settings_dict,segment_id = segment_id, launch_viewer=True)\n",
    "\n",
    "crest.change_key_binding({\"alt+mousedown0\" : \"add-or-remove-seg\"})"
   ]
  },
  {
   "cell_type": "code",
   "execution_count": 34,
   "id": "eaf9283c-1066-47aa-905d-d09729be1f2e",
   "metadata": {},
   "outputs": [
    {
     "name": "stdout",
     "output_type": "stream",
     "text": [
      "[]\n"
     ]
    }
   ],
   "source": [
    "crest.add_endpoint_annotation_layers(['soma'],link=True) # spine_inputs\n",
    "print(crest.get_ctype('manual'))"
   ]
  },
  {
   "cell_type": "code",
   "execution_count": 35,
   "id": "0a1c0f79-c431-4e9b-a171-b85758f2f66f",
   "metadata": {},
   "outputs": [
    {
     "name": "stdout",
     "output_type": "stream",
     "text": [
      "overlap in main network:\n"
     ]
    },
    {
     "data": {
      "text/html": [
       "<div>\n",
       "<style scoped>\n",
       "    .dataframe tbody tr th:only-of-type {\n",
       "        vertical-align: middle;\n",
       "    }\n",
       "\n",
       "    .dataframe tbody tr th {\n",
       "        vertical-align: top;\n",
       "    }\n",
       "\n",
       "    .dataframe thead th {\n",
       "        text-align: right;\n",
       "    }\n",
       "</style>\n",
       "<table border=\"1\" class=\"dataframe\">\n",
       "  <thead>\n",
       "    <tr style=\"text-align: right;\">\n",
       "      <th></th>\n",
       "      <th>self</th>\n",
       "      <th>dups</th>\n",
       "      <th>overlap-percent</th>\n",
       "      <th>number_seg_lap</th>\n",
       "    </tr>\n",
       "  </thead>\n",
       "  <tbody>\n",
       "  </tbody>\n",
       "</table>\n",
       "</div>"
      ],
      "text/plain": [
       "Empty DataFrame\n",
       "Columns: [self, dups, overlap-percent, number_seg_lap]\n",
       "Index: []"
      ]
     },
     "metadata": {},
     "output_type": "display_data"
    },
    {
     "name": "stdout",
     "output_type": "stream",
     "text": [
      "overlap in to do folder:\n"
     ]
    },
    {
     "data": {
      "text/html": [
       "<div>\n",
       "<style scoped>\n",
       "    .dataframe tbody tr th:only-of-type {\n",
       "        vertical-align: middle;\n",
       "    }\n",
       "\n",
       "    .dataframe tbody tr th {\n",
       "        vertical-align: top;\n",
       "    }\n",
       "\n",
       "    .dataframe thead th {\n",
       "        text-align: right;\n",
       "    }\n",
       "</style>\n",
       "<table border=\"1\" class=\"dataframe\">\n",
       "  <thead>\n",
       "    <tr style=\"text-align: right;\">\n",
       "      <th></th>\n",
       "      <th>self</th>\n",
       "      <th>dups</th>\n",
       "      <th>overlap-percent</th>\n",
       "      <th>number_seg_lap</th>\n",
       "    </tr>\n",
       "  </thead>\n",
       "  <tbody>\n",
       "  </tbody>\n",
       "</table>\n",
       "</div>"
      ],
      "text/plain": [
       "Empty DataFrame\n",
       "Columns: [self, dups, overlap-percent, number_seg_lap]\n",
       "Index: []"
      ]
     },
     "metadata": {},
     "output_type": "display_data"
    },
    {
     "name": "stdout",
     "output_type": "stream",
     "text": [
      "1 other base segments in the agglo segment; max number can add is 1000\n",
      "1 clusters of connected components. Connecting these clusters with nearest base segments.\n",
      "Added 1 base segments from agglomerated segment 482713240, linked base segments 482713444 and 482713240, 915nm apart, \n",
      "1 other base segments in the agglo segment; max number can add is 1000\n",
      "1 clusters of connected components. Connecting these clusters with nearest base segments.\n",
      "Added 1 base segments from agglomerated segment 482713478, linked base segments 482713511 and 482713478, 462nm apart, \n",
      "1 other base segments in the agglo segment; max number can add is 1000\n",
      "1 clusters of connected components. Connecting these clusters with nearest base segments.\n",
      "Added 1 base segments from agglomerated segment 482697830, linked base segments 482697806 and 482697830, 569nm apart, \n",
      "1 other base segments in the agglo segment; max number can add is 1000\n",
      "1 clusters of connected components. Connecting these clusters with nearest base segments.\n",
      "Added 1 base segments from agglomerated segment 482712531, linked base segments 482712570 and 482712531, 284nm apart, \n",
      "1 other base segments in the agglo segment; max number can add is 1000\n",
      "1 clusters of connected components. Connecting these clusters with nearest base segments.\n",
      "Added 1 base segments from agglomerated segment 482712486, linked base segments 482712539 and 482712486, 579nm apart, \n",
      "1 other base segments in the agglo segment; max number can add is 1000\n",
      "1 clusters of connected components. Connecting these clusters with nearest base segments.\n",
      "Added 1 base segments from agglomerated segment 482712543, linked base segments 482712627 and 482712543, 400nm apart, \n",
      "1 other base segments in the agglo segment; max number can add is 1000\n",
      "1 clusters of connected components. Connecting these clusters with nearest base segments.\n",
      "Added 1 base segments from agglomerated segment 485003086, linked base segments 485001778 and 485003086, 4267nm apart, \n",
      "2 other base segments in the agglo segment; max number can add is 1000\n",
      "1 clusters of connected components. Connecting these clusters with nearest base segments.\n",
      "Added 2 base segments from agglomerated segment 486148611, linked base segments 485003086 and 486149022, 2913nm apart, \n",
      "2 other base segments in the agglo segment; max number can add is 1000\n",
      "1 clusters of connected components. Connecting these clusters with nearest base segments.\n",
      "Added 2 base segments from agglomerated segment 486132373, linked base segments 486148611 and 486132373, 2691nm apart, \n",
      "1 other base segments in the agglo segment; max number can add is 1000\n",
      "1 clusters of connected components. Connecting these clusters with nearest base segments.\n",
      "Added 1 base segments from agglomerated segment 400258954, linked base segments 399128530 and 400258954, 4837nm apart, \n",
      "1 other base segments in the agglo segment; max number can add is 1000\n",
      "1 clusters of connected components. Connecting these clusters with nearest base segments.\n",
      "Added 1 base segments from agglomerated segment 486131271, linked base segments 400258954 and 486131271, 3808nm apart, \n",
      "1 other base segments in the agglo segment; max number can add is 1000\n",
      "1 clusters of connected components. Connecting these clusters with nearest base segments.\n",
      "Added 1 base segments from agglomerated segment 486131573, linked base segments 486131271 and 486131573, 1527nm apart, \n",
      "1 other base segments in the agglo segment; max number can add is 1000\n",
      "1 clusters of connected components. Connecting these clusters with nearest base segments.\n",
      "Added 1 base segments from agglomerated segment 486131844, linked base segments 486131573 and 486131844, 1303nm apart, \n",
      "2 other base segments in the agglo segment; max number can add is 1000\n",
      "1 clusters of connected components. Connecting these clusters with nearest base segments.\n",
      "Added 2 base segments from agglomerated segment 484986997, linked base segments 483857610 and 484986997, 4771nm apart, \n",
      "1 other base segments in the agglo segment; max number can add is 1000\n",
      "1 clusters of connected components. Connecting these clusters with nearest base segments.\n",
      "Added 1 base segments from agglomerated segment 482714311, linked base segments 482714166 and 482714311, 809nm apart, \n",
      "1 other base segments in the agglo segment; max number can add is 1000\n",
      "1 clusters of connected components. Connecting these clusters with nearest base segments.\n",
      "Added 1 base segments from agglomerated segment 482714275, linked base segments 482714311 and 482714275, 348nm apart, \n",
      "1 other base segments in the agglo segment; max number can add is 1000\n",
      "1 clusters of connected components. Connecting these clusters with nearest base segments.\n",
      "Added 1 base segments from agglomerated segment 482714300, linked base segments 482714311 and 482714300, 72nm apart, \n",
      "1 other base segments in the agglo segment; max number can add is 1000\n",
      "1 clusters of connected components. Connecting these clusters with nearest base segments.\n",
      "Added 1 base segments from agglomerated segment 482714284, linked base segments 482714166 and 482714284, 349nm apart, \n",
      "4 other base segments in the agglo segment; max number can add is 1000\n",
      "1 clusters of connected components. Connecting these clusters with nearest base segments.\n",
      "Added 4 base segments from agglomerated segment 482714184, linked base segments 482714275 and 482714262, 467nm apart, \n",
      "1 other base segments in the agglo segment; max number can add is 1000\n",
      "1 clusters of connected components. Connecting these clusters with nearest base segments.\n",
      "Added 1 base segments from agglomerated segment 482714220, linked base segments 482714262 and 482714220, 244nm apart, \n",
      "1 other base segments in the agglo segment; max number can add is 1000\n",
      "1 clusters of connected components. Connecting these clusters with nearest base segments.\n",
      "Added 1 base segments from agglomerated segment 482714229, linked base segments 482714284 and 482714229, 328nm apart, \n",
      "1 other base segments in the agglo segment; max number can add is 1000\n",
      "1 clusters of connected components. Connecting these clusters with nearest base segments.\n",
      "Added 1 base segments from agglomerated segment 482714221, linked base segments 482714229 and 482714221, 147nm apart, \n",
      "1 other base segments in the agglo segment; max number can add is 1000\n",
      "1 clusters of connected components. Connecting these clusters with nearest base segments.\n",
      "Added 1 base segments from agglomerated segment 482714168, linked base segments 482714213 and 482714168, 178nm apart, \n",
      "1 other base segments in the agglo segment; max number can add is 1000\n",
      "1 clusters of connected components. Connecting these clusters with nearest base segments.\n",
      "Added 1 base segments from agglomerated segment 482698431, linked base segments 482698171 and 482698431, 570nm apart, \n",
      "1 other base segments in the agglo segment; max number can add is 1000\n",
      "1 clusters of connected components. Connecting these clusters with nearest base segments.\n",
      "Added 1 base segments from agglomerated segment 482698573, linked base segments 482698494 and 482698573, 329nm apart, \n",
      "1 other base segments in the agglo segment; max number can add is 1000\n",
      "1 clusters of connected components. Connecting these clusters with nearest base segments.\n",
      "Added 1 base segments from agglomerated segment 483859296, linked base segments 482714113 and 483859296, 368nm apart, \n",
      "3 other base segments in the agglo segment; max number can add is 1000\n",
      "1 clusters of connected components. Connecting these clusters with nearest base segments.\n",
      "Added 3 base segments from agglomerated segment 482698778, linked base segments 483859296 and 482714253, 665nm apart, \n",
      "1 other base segments in the agglo segment; max number can add is 1000\n",
      "1 clusters of connected components. Connecting these clusters with nearest base segments.\n",
      "Added 1 base segments from agglomerated segment 482698519, linked base segments 482698325 and 482698519, 584nm apart, \n",
      "1 other base segments in the agglo segment; max number can add is 1000\n",
      "1 clusters of connected components. Connecting these clusters with nearest base segments.\n",
      "Added 1 base segments from agglomerated segment 482698235, linked base segments 482698010 and 482698235, 590nm apart, \n",
      "1 other base segments in the agglo segment; max number can add is 1000\n",
      "1 clusters of connected components. Connecting these clusters with nearest base segments.\n",
      "Added 1 base segments from agglomerated segment 482698054, linked base segments 482698000 and 482698054, 270nm apart, \n",
      "1 other base segments in the agglo segment; max number can add is 1000\n",
      "1 clusters of connected components. Connecting these clusters with nearest base segments.\n",
      "Added 1 base segments from agglomerated segment 483858896, linked base segments 483858859 and 483858896, 320nm apart, \n",
      "1 other base segments in the agglo segment; max number can add is 1000\n",
      "1 clusters of connected components. Connecting these clusters with nearest base segments.\n",
      "Added 1 base segments from agglomerated segment 482713718, linked base segments 482713736 and 482713718, 580nm apart, \n",
      "1 other base segments in the agglo segment; max number can add is 1000\n",
      "1 clusters of connected components. Connecting these clusters with nearest base segments.\n",
      "Added 1 base segments from agglomerated segment 482713675, linked base segments 482713857 and 482713675, 635nm apart, \n",
      "1 other base segments in the agglo segment; max number can add is 1000\n",
      "1 clusters of connected components. Connecting these clusters with nearest base segments.\n",
      "Added 1 base segments from agglomerated segment 483842652, linked base segments 483842748 and 483842652, 222nm apart, \n",
      "1 other base segments in the agglo segment; max number can add is 1000\n",
      "1 clusters of connected components. Connecting these clusters with nearest base segments.\n",
      "Added 1 base segments from agglomerated segment 482697593, linked base segments 482697455 and 482697593, 437nm apart, \n",
      "1 other base segments in the agglo segment; max number can add is 1000\n",
      "1 clusters of connected components. Connecting these clusters with nearest base segments.\n",
      "Added 1 base segments from agglomerated segment 483858508, linked base segments 482713478 and 483858508, 619nm apart, \n",
      "1 other base segments in the agglo segment; max number can add is 1000\n",
      "1 clusters of connected components. Connecting these clusters with nearest base segments.\n",
      "Added 1 base segments from agglomerated segment 482697190, linked base segments 483842100 and 482697190, 285nm apart, \n",
      "1 other base segments in the agglo segment; max number can add is 1000\n",
      "1 clusters of connected components. Connecting these clusters with nearest base segments.\n",
      "Added 1 base segments from agglomerated segment 482697173, linked base segments 482697368 and 482697173, 663nm apart, \n",
      "1 other base segments in the agglo segment; max number can add is 1000\n",
      "1 clusters of connected components. Connecting these clusters with nearest base segments.\n",
      "Added 1 base segments from agglomerated segment 483841945, linked base segments 483842100 and 483841945, 1077nm apart, \n",
      "1 other base segments in the agglo segment; max number can add is 1000\n",
      "1 clusters of connected components. Connecting these clusters with nearest base segments.\n",
      "Added 1 base segments from agglomerated segment 482697226, linked base segments 482697207 and 482697226, 652nm apart, \n",
      "1 other base segments in the agglo segment; max number can add is 1000\n",
      "1 clusters of connected components. Connecting these clusters with nearest base segments.\n",
      "Added 1 base segments from agglomerated segment 482697120, linked base segments 482697207 and 482697120, 200nm apart, \n",
      "2 other base segments in the agglo segment; max number can add is 1000\n",
      "1 clusters of connected components. Connecting these clusters with nearest base segments.\n",
      "Added 2 base segments from agglomerated segment 561719282, linked base segments 562864552 and 561719282, 6839nm apart, \n",
      "1 other base segments in the agglo segment; max number can add is 1000\n",
      "1 clusters of connected components. Connecting these clusters with nearest base segments.\n",
      "Added 1 base segments from agglomerated segment 646462512, linked base segments 561719282 and 646462512, 4744nm apart, \n",
      "1 other base segments in the agglo segment; max number can add is 1000\n",
      "1 clusters of connected components. Connecting these clusters with nearest base segments.\n",
      "Added 1 base segments from agglomerated segment 562864650, linked base segments 562864552 and 562864650, 2256nm apart, \n",
      "1 other base segments in the agglo segment; max number can add is 1000\n",
      "1 clusters of connected components. Connecting these clusters with nearest base segments.\n",
      "Added 1 base segments from agglomerated segment 562864295, linked base segments 562864650 and 562864295, 684nm apart, \n",
      "1 other base segments in the agglo segment; max number can add is 1000\n",
      "1 clusters of connected components. Connecting these clusters with nearest base segments.\n",
      "Added 1 base segments from agglomerated segment 475859471, linked base segments 560602829 and 475859471, 3660nm apart, \n",
      "1 other base segments in the agglo segment; max number can add is 1000\n",
      "1 clusters of connected components. Connecting these clusters with nearest base segments.\n",
      "Added 1 base segments from agglomerated segment 647592461, linked base segments 561719282 and 647592461, 3023nm apart, \n"
     ]
    }
   ],
   "source": [
    "print('overlap in main network:'); df = crest.check_duplicates(base_segments_net); display(df)\n",
    "print('overlap in to do folder:'); df = crest.check_duplicates(base_segments_todo); display(df)"
   ]
  },
  {
   "cell_type": "code",
   "execution_count": 30,
   "id": "95089176-2759-4080-9158-3ed12036c2db",
   "metadata": {},
   "outputs": [],
   "source": [
    "cell_type = 'grc-d' # Assign the cell type then run the code cell\n",
    "\n",
    "crest.define_ctype(cell_type,\"manual\")"
   ]
  },
  {
   "cell_type": "code",
   "execution_count": 31,
   "id": "1927d429-28b6-40e3-92dc-9af06024c2b8",
   "metadata": {},
   "outputs": [
    {
     "name": "stdout",
     "output_type": "stream",
     "text": [
      "Saved cell 481521098 reconstruction locally at 2024-01-19 10.05.29\n"
     ]
    }
   ],
   "source": [
    "crest.save_cell_graph()"
   ]
  },
  {
   "cell_type": "markdown",
   "id": "e55189cf-a176-47e3-98a0-58def36c26f0",
   "metadata": {
    "tags": []
   },
   "source": [
    "\n",
    "## EDIT reconstruction from file\n",
    "\n",
    "If you wanted to edit a reconstruction from an existing file, you would use the following code block to launch.\n",
    "\n",
    "Specify the cell_id and the path to the directory that cell is in. \n",
    "\n",
    "> NOTE: You can also directly copy paste the full filepath to the cell you want to open and pass it to the ```filepath``` flag.  \n",
    "In that case, the only code you need is crest = ecrest(settings_dict,filepath= [*paste filepath here*], launch_viewer=True)\n",
    "\n",
    "To change the save location you can specify the ```directory_path``` flag in the ```save_cell_graph()``` module\n",
    "\n",
    "> To overwrite a file (not recommended), specify ```(directory_path = cell_filepaths[cell_id].parent, file_name = cell_filepaths[cell_id].name)```"
   ]
  },
  {
   "cell_type": "code",
   "execution_count": null,
   "id": "e95c9ff2-4aea-4f45-9f56-9df7cc4f6075",
   "metadata": {},
   "outputs": [],
   "source": [
    "'UK' todo\n",
    "[\n",
    " '',\n",
    " '',\n",
    " '',\n",
    " '',\n",
    " '',\n",
    " '',\n",
    " '',\n",
    " '',\n",
    " '',\n",
    " '',\n",
    " '',\n",
    " '',\n",
    " '381969662',\n",
    " '638482210',\n",
    " '294966040',\n",
    " '469962237',\n",
    " '297224631',\n",
    " '297224094',\n",
    " '122129803',\n",
    " '297223669',\n",
    " '211365366',\n",
    " '211364877',\n",
    " '124327712',\n",
    " '211364285',\n",
    " '211347145',\n",
    " '124330030',\n",
    " '210218055',\n",
    " '210216901',\n",
    " '211361897',\n",
    " '124345289']"
   ]
  },
  {
   "cell_type": "code",
   "execution_count": 11,
   "id": "6c4326ca-859e-46c8-b34f-092f94f2af80",
   "metadata": {},
   "outputs": [],
   "source": [
    "directory_path = Path(settings_dict['save_dir']) #/ 'todo_presynaptic/mg1_299496636' #/ 'kp/pfs'#/ 'volume-subsample-all/in_progress'  ## specify the directory path\n",
    "cell_filepaths = get_cell_filepaths(directory_path) # gets filepaths for all cells in a directory\n",
    "# cell_filepaths = cell_filepaths_mainnet"
   ]
  },
  {
   "cell_type": "code",
   "execution_count": 12,
   "id": "302a1360-8854-4491-a134-723f83dc7353",
   "metadata": {},
   "outputs": [
    {
     "name": "stdout",
     "output_type": "stream",
     "text": [
      "updating viewer status message: Current Base Segment Counts: unknown: 44, axon: 0, basal dendrite: 0, apical dendrite: 0, dendrite: 0, multiple: 0\n"
     ]
    },
    {
     "data": {
      "text/plain": [
       "Map({\"dblclick0\": \"add-or-remove-seg\", \"alt+mousedown2\": \"mark-branch-in-colour\", \"shift+mousedown2\": \"change-anchor-seg\", \"alt+mousedown0\": \"add-or-remove-seg\"})"
      ]
     },
     "execution_count": 12,
     "metadata": {},
     "output_type": "execute_result"
    },
    {
     "name": "stdout",
     "output_type": "stream",
     "text": [
      "2 other base segments in the agglo segment; max number can add is 1000\n",
      "1 clusters of connected components. Connecting these clusters with nearest base segments.\n",
      "Added 2 base segments from agglomerated segment 133488992, linked base segments 133488699 and 133489033, 3136nm apart, \n",
      "1 other base segments in the agglo segment; max number can add is 1000\n",
      "1 clusters of connected components. Connecting these clusters with nearest base segments.\n",
      "Added 1 base segments from agglomerated segment 132341037, linked base segments 132341979 and 132341037, 2900nm apart, \n",
      "1 other base segments in the agglo segment; max number can add is 1000\n",
      "1 clusters of connected components. Connecting these clusters with nearest base segments.\n",
      "Added 1 base segments from agglomerated segment 46470461, linked base segments 132341037 and 46470461, 3095nm apart, \n",
      "1 other base segments in the agglo segment; max number can add is 1000\n",
      "1 clusters of connected components. Connecting these clusters with nearest base segments.\n",
      "Added 1 base segments from agglomerated segment 46470462, linked base segments 46470461 and 46470462, 455nm apart, \n",
      "1 other base segments in the agglo segment; max number can add is 1000\n",
      "1 clusters of connected components. Connecting these clusters with nearest base segments.\n",
      "Added 1 base segments from agglomerated segment 46485365, linked base segments 46470462 and 46485365, 1359nm apart, \n",
      "1 other base segments in the agglo segment; max number can add is 1000\n",
      "1 clusters of connected components. Connecting these clusters with nearest base segments.\n",
      "Added 1 base segments from agglomerated segment 46485130, linked base segments 46485365 and 46485130, 2035nm apart, \n",
      "1 other base segments in the agglo segment; max number can add is 1000\n",
      "1 clusters of connected components. Connecting these clusters with nearest base segments.\n",
      "Added 1 base segments from agglomerated segment 46469544, linked base segments 46485130 and 46469544, 1258nm apart, \n",
      "4 other base segments in the agglo segment; max number can add is 1000\n",
      "1 clusters of connected components. Connecting these clusters with nearest base segments.\n",
      "Added 4 base segments from agglomerated segment 45324477, linked base segments 46469544 and 45324478, 3081nm apart, \n"
     ]
    }
   ],
   "source": [
    "cell_id = '480314495' # specify the cell id\n",
    "\n",
    "crest = ecrest(settings_dict,filepath= cell_filepaths[cell_id], launch_viewer=True)\n",
    "\n",
    "crest.change_key_binding({\"alt+mousedown0\" : \"add-or-remove-seg\"})"
   ]
  },
  {
   "cell_type": "code",
   "execution_count": 14,
   "id": "d34ac926-d04e-4d1e-afe2-cb0e7ac5ed84",
   "metadata": {},
   "outputs": [],
   "source": [
    "cell_type = 'fov' # Assign the cell type then run the code cell\n",
    "\n",
    "crest.define_ctype(cell_type,\"manual\")"
   ]
  },
  {
   "cell_type": "code",
   "execution_count": 15,
   "id": "7206f227-a18e-40b2-8ed7-9163719d8bc6",
   "metadata": {},
   "outputs": [
    {
     "name": "stdout",
     "output_type": "stream",
     "text": [
      "Saved cell 480314495 reconstruction locally at 2024-01-19 09.41.57\n"
     ]
    }
   ],
   "source": [
    "crest.save_cell_graph(directory_path = cell_filepaths[cell_id].parent, file_name = cell_filepaths[cell_id].name)"
   ]
  },
  {
   "cell_type": "code",
   "execution_count": null,
   "id": "a6aca5f3-9c21-41a8-9839-55b07cce89b4",
   "metadata": {},
   "outputs": [],
   "source": [
    "# crest.cell_data['removed_base_segs']=set()"
   ]
  },
  {
   "cell_type": "code",
   "execution_count": 411,
   "id": "99964ac5-3199-4cab-b1bd-ba5a1d30bb2c",
   "metadata": {},
   "outputs": [
    {
     "name": "stdout",
     "output_type": "stream",
     "text": [
      "grc-d\n"
     ]
    }
   ],
   "source": [
    "crest.add_endpoint_annotation_layers(['soma'],link=True) # spine_inputs\n",
    "print(crest.get_ctype('manual'))"
   ]
  },
  {
   "cell_type": "code",
   "execution_count": 8,
   "id": "f8c75db5-9fb9-4c50-8054-9b6e468e1fb5",
   "metadata": {},
   "outputs": [],
   "source": [
    "base_segments_net = crest.get_base_segments_dict(Path(settings_dict['save_dir'])) \n",
    "base_segments_todo = crest.get_base_segments_dict(Path(settings_dict['save_dir']) / 'todo_presynaptic/lg_301787806')"
   ]
  },
  {
   "cell_type": "code",
   "execution_count": 16,
   "id": "6eae6de5-3cb6-4dc6-86a3-0172f55652be",
   "metadata": {},
   "outputs": [
    {
     "name": "stdout",
     "output_type": "stream",
     "text": [
      "overlap in main network:\n"
     ]
    },
    {
     "data": {
      "text/html": [
       "<div>\n",
       "<style scoped>\n",
       "    .dataframe tbody tr th:only-of-type {\n",
       "        vertical-align: middle;\n",
       "    }\n",
       "\n",
       "    .dataframe tbody tr th {\n",
       "        vertical-align: top;\n",
       "    }\n",
       "\n",
       "    .dataframe thead th {\n",
       "        text-align: right;\n",
       "    }\n",
       "</style>\n",
       "<table border=\"1\" class=\"dataframe\">\n",
       "  <thead>\n",
       "    <tr style=\"text-align: right;\">\n",
       "      <th></th>\n",
       "      <th>self</th>\n",
       "      <th>dups</th>\n",
       "      <th>overlap-percent</th>\n",
       "      <th>number_seg_lap</th>\n",
       "    </tr>\n",
       "  </thead>\n",
       "  <tbody>\n",
       "  </tbody>\n",
       "</table>\n",
       "</div>"
      ],
      "text/plain": [
       "Empty DataFrame\n",
       "Columns: [self, dups, overlap-percent, number_seg_lap]\n",
       "Index: []"
      ]
     },
     "metadata": {},
     "output_type": "display_data"
    },
    {
     "name": "stdout",
     "output_type": "stream",
     "text": [
      "overlap in todo folder:\n"
     ]
    },
    {
     "data": {
      "text/html": [
       "<div>\n",
       "<style scoped>\n",
       "    .dataframe tbody tr th:only-of-type {\n",
       "        vertical-align: middle;\n",
       "    }\n",
       "\n",
       "    .dataframe tbody tr th {\n",
       "        vertical-align: top;\n",
       "    }\n",
       "\n",
       "    .dataframe thead th {\n",
       "        text-align: right;\n",
       "    }\n",
       "</style>\n",
       "<table border=\"1\" class=\"dataframe\">\n",
       "  <thead>\n",
       "    <tr style=\"text-align: right;\">\n",
       "      <th></th>\n",
       "      <th>self</th>\n",
       "      <th>dups</th>\n",
       "      <th>overlap-percent</th>\n",
       "      <th>number_seg_lap</th>\n",
       "    </tr>\n",
       "  </thead>\n",
       "  <tbody>\n",
       "    <tr>\n",
       "      <th>13</th>\n",
       "      <td>480314495</td>\n",
       "      <td>133489033</td>\n",
       "      <td>1.0</td>\n",
       "      <td>2.0</td>\n",
       "    </tr>\n",
       "  </tbody>\n",
       "</table>\n",
       "</div>"
      ],
      "text/plain": [
       "         self       dups  overlap-percent  number_seg_lap\n",
       "13  480314495  133489033              1.0             2.0"
      ]
     },
     "metadata": {},
     "output_type": "display_data"
    }
   ],
   "source": [
    "print('overlap in main network:'); df = crest.check_duplicates(base_segments_net); display(df)\n",
    "print('overlap in todo folder:'); df = crest.check_duplicates(base_segments_todo); display(df)"
   ]
  },
  {
   "cell_type": "code",
   "execution_count": 413,
   "id": "a7b8c9ea-2dd1-4c52-a81c-cdf1337ff1e1",
   "metadata": {},
   "outputs": [
    {
     "name": "stdout",
     "output_type": "stream",
     "text": [
      "Saved cell 227330954 reconstruction locally at 2024-01-18 11.46.58\n"
     ]
    }
   ],
   "source": [
    "# SAVE YOUR WORK!\n",
    "\n",
    "crest.save_cell_graph() # Default location is Path(settings_dict['save_dir'])"
   ]
  },
  {
   "cell_type": "code",
   "execution_count": null,
   "id": "7db7de8a-2737-46af-b4ea-1fb875d40139",
   "metadata": {},
   "outputs": [],
   "source": [
    "cell_filepaths[cell_id].name"
   ]
  },
  {
   "cell_type": "code",
   "execution_count": 13,
   "id": "6c0566ef-fd8b-46aa-83f9-1ef402546a35",
   "metadata": {},
   "outputs": [
    {
     "data": {
      "text/plain": [
       "'uk'"
      ]
     },
     "execution_count": 13,
     "metadata": {},
     "output_type": "execute_result"
    }
   ],
   "source": [
    "crest.get_ctype('manual')"
   ]
  },
  {
   "cell_type": "markdown",
   "id": "0e634655-2318-4eee-85e4-a972c0eac064",
   "metadata": {},
   "source": [
    "## Define Cell type\n",
    "\n",
    "The cell type strings to use are:  \n",
    "aff, grc-d, grc-s, sgx1, sgx2, sg1, sg2, mg1, mg2, lf, lg, uk, fov\n",
    "\n",
    "You can also check the current cell type assigned by using ```crest.get_ctype(\"manual\")```"
   ]
  },
  {
   "cell_type": "code",
   "execution_count": null,
   "id": "96728c2f-cc5c-4427-8e10-66708ff172f0",
   "metadata": {},
   "outputs": [],
   "source": [
    "cell_type = 'grc-d' # Assign the cell type then run the code cell\n",
    "\n",
    "crest.define_ctype(cell_type,\"manual\")"
   ]
  },
  {
   "cell_type": "markdown",
   "id": "5dd72f91-fd9d-4e55-ada6-2f1b81e124d1",
   "metadata": {},
   "source": [
    "## Change Function Keybindings\n",
    "\n",
    "speficy any keybindings that you want in ```keybindings_dict``` and pass that to the class module ```change_key_binding```. The keybinding mapping will be returned. "
   ]
  },
  {
   "cell_type": "code",
   "execution_count": null,
   "id": "fa3b913f-79ad-4cad-b181-d9116dbfe7a9",
   "metadata": {},
   "outputs": [],
   "source": [
    "keybindings_dict = {\n",
    "    \"alt+mousedown0\" : \"add-or-remove-seg\"\n",
    "}\n",
    "\n",
    "crest.change_key_binding(keybindings_dict)"
   ]
  },
  {
   "cell_type": "markdown",
   "id": "25a5f6a5-ba38-419c-89f2-67839cf3cf05",
   "metadata": {},
   "source": [
    "## Check for overlap with other .json files in a directory\n",
    "\n",
    "Use the ecrest module ```get_base_segments_dict``` to get a dictionary of {'cell_id' : 'base_segments'} for all .json files in a folder.  \n",
    "Then use the ecrest module ```check_duplicates``` to get a dataframe of any instances of overlap between that cell and the .json files from the folder.\n",
    "\n",
    "*Tips*:\n",
    "- You do ***not*** need to run ```get_base_segments_dict``` every time. For each new crest instance you create, you can just skip to the ```check_duplicates``` step.\n",
    "- You can create multiple dictionaries to check against... you can create a separate line of code for each. "
   ]
  },
  {
   "cell_type": "code",
   "execution_count": null,
   "id": "18266060-8c3d-45f8-8e0c-606dcca45d17",
   "metadata": {},
   "outputs": [],
   "source": [
    "base_segments_net = crest.get_base_segments_dict(Path(settings_dict['save_dir']))\n",
    "base_segments_todo = crest.get_base_segments_dict(Path(settings_dict['save_dir']) / 'kp/392042360_grc-s_pre')"
   ]
  },
  {
   "cell_type": "code",
   "execution_count": null,
   "id": "1276834c-034f-4723-a0c3-3ccc34888e23",
   "metadata": {},
   "outputs": [],
   "source": [
    "print('overlap in main network:'); df = crest.check_duplicates(base_segments_net); display(df)\n",
    "print('overlap in todo folder:'); df = crest.check_duplicates(base_segments_todo); display(df)"
   ]
  },
  {
   "cell_type": "markdown",
   "id": "4e195932-6784-4259-8012-b44f447dc5dd",
   "metadata": {},
   "source": [
    "## Add/Remove Annotation layers\n",
    "\n",
    "Because of how CREST saves the .json state, annotation layers need to be added/removed programatically rather than via the neuroglancer viewer directly.\n",
    "\n",
    "Comment/uncomment the following two module implementations as needed."
   ]
  },
  {
   "cell_type": "code",
   "execution_count": null,
   "id": "3c5625ae-aa2e-4925-904a-b1403bbd7f9f",
   "metadata": {},
   "outputs": [],
   "source": [
    "crest.add_endpoint_annotation_layers(['soma'])\n",
    "\n",
    "# crest.del_endpoint_annotation_layers(['soma'])"
   ]
  },
  {
   "cell_type": "markdown",
   "id": "cece8af1-1542-4582-bbee-ee3855084eed",
   "metadata": {},
   "source": [
    "## SAVE YOUR WORK!"
   ]
  },
  {
   "cell_type": "code",
   "execution_count": null,
   "id": "82beafa5-733d-415f-a9b4-f23d8f7d1eb4",
   "metadata": {},
   "outputs": [],
   "source": [
    "crest.save_cell_graph() # Default location is Path(settings_dict['save_dir'])"
   ]
  },
  {
   "cell_type": "markdown",
   "id": "4a4acea1-cb12-4d27-b988-f17071919886",
   "metadata": {},
   "source": [
    "# Other"
   ]
  },
  {
   "cell_type": "markdown",
   "id": "912430b3-af66-4d25-b2cc-cf70bb445d19",
   "metadata": {
    "tags": [],
    "toc-hr-collapsed": true
   },
   "source": [
    "## search for synapse by segment annotated"
   ]
  },
  {
   "cell_type": "code",
   "execution_count": 363,
   "id": "fa5fb8c6-5a69-4574-a44f-f4296bbea676",
   "metadata": {},
   "outputs": [],
   "source": [
    "directory_path = Path(settings_dict['save_dir']) #/ 'kp/pfs'#/ 'volume-subsample-all/in_progress'  ## specify the directory path\n",
    "cell_filepaths = get_cell_filepaths(directory_path) # gets filepaths for all cells in a directory\n",
    "# cell_filepaths = cell_filepaths_mainnet"
   ]
  },
  {
   "cell_type": "code",
   "execution_count": 367,
   "id": "f2662ec5-5cde-4b86-989f-5e4a683cef73",
   "metadata": {},
   "outputs": [],
   "source": [
    "         \n",
    "syn_type = 'post-synaptic' #'spine_inputs' #\n",
    "segs_to_find = ['564132646','565215897']\n",
    "cells_todo = list(cell_filepaths.keys())"
   ]
  },
  {
   "cell_type": "code",
   "execution_count": 368,
   "id": "002033ea-d83d-4c74-8f49-cbce9b2ea333",
   "metadata": {},
   "outputs": [
    {
     "name": "stdout",
     "output_type": "stream",
     "text": [
      "in cell 473631846, segment 565215897 is at synapse location [21129 18825  3239]\n",
      "in cell 473631846, segment 564132646 is at synapse location [22832 17853  3135]\n"
     ]
    }
   ],
   "source": [
    "vx_sizes = [16, 16, 30]\n",
    "\n",
    "for c_id in cells_todo:\n",
    "    crest = ecrest(settings_dict,filepath= cell_filepaths[c_id], launch_viewer=False)\n",
    "    for syn_ in crest.cell_data['end_points'][syn_type]:\n",
    "        try:\n",
    "            if syn_[3] in segs_to_find:\n",
    "                print(f'in cell {c_id}, segment {syn_[3]} is at synapse location {array([int(syn_[i]/vx_sizes[i]) for i in range(3)])}')\n",
    "\n",
    "        except IndexError as msg:\n",
    "            print(msg, f'for cell {c_id} synapse at {array([int(syn_[i]/vx_sizes[i]) for i in range(3)])} has no segment id')"
   ]
  },
  {
   "cell_type": "markdown",
   "id": "827c883d-fbfd-4f70-bb22-043da2b3009d",
   "metadata": {},
   "source": [
    "## cell types for all files in directory"
   ]
  },
  {
   "cell_type": "code",
   "execution_count": 658,
   "id": "e5ba89b1-c92b-4bd0-9538-84b27cecee8b",
   "metadata": {},
   "outputs": [],
   "source": [
    "nodefiles = get_cell_filepaths(Path(settings_dict['save_dir'])) "
   ]
  },
  {
   "cell_type": "code",
   "execution_count": 659,
   "id": "c57f4d5f-3050-4aa3-a46c-d226465e27e1",
   "metadata": {},
   "outputs": [
    {
     "name": "stdout",
     "output_type": "stream",
     "text": [
      "the following cells are not typed in the main network\n",
      "[]\n"
     ]
    }
   ],
   "source": [
    "cell_type = {}\n",
    "not_typed = []\n",
    "for x,f in nodefiles.items():\n",
    "    cell = ecrest(settings_dict,filepath = f,launch_viewer=False)\n",
    "    cell_type[x] = cell.get_ctype('manual') \n",
    "    if (cell.get_ctype('manual') == []) | (cell.get_ctype('manual') == ''):\n",
    "        cell_type[x]=''\n",
    "        not_typed.append(x)# print(f'cell {x} is not cell-typed in json')\n",
    "        \n",
    "print('the following cells are not typed in the main network')\n",
    "print(not_typed)        \n",
    "        "
   ]
  },
  {
   "cell_type": "markdown",
   "id": "60242e93-2010-4d64-a549-f83c7b6bbbed",
   "metadata": {},
   "source": [
    "## if get assertion error and won't save"
   ]
  },
  {
   "cell_type": "code",
   "execution_count": null,
   "id": "a13a8675-d224-4282-a994-22d4b3f54267",
   "metadata": {},
   "outputs": [],
   "source": [
    "seglist = crest.cell_data['base_segments']['unknown']\n",
    "\n",
    "anchor = crest.cell_data['metadata']['main_seg']['base']\n",
    "\n",
    "crest2 = ecrest(settings_dict,segment_id = anchor, segment_list = seglist, launch_viewer=True)\n",
    "\n",
    "# SAVE YOUR WORK!\n",
    "\n",
    "crest2.cell_data['end_points']=crest.cell_data['end_points']\n",
    "\n",
    "\n",
    "crest2.load_annotation_layer_points()\n",
    "\n",
    "crest2.save_cell_graph()"
   ]
  },
  {
   "cell_type": "markdown",
   "id": "699c6a79-6903-4341-b7da-a902bfc81a6f",
   "metadata": {},
   "source": [
    "## eCREST from json segments"
   ]
  },
  {
   "cell_type": "markdown",
   "id": "da8e3568-6113-413b-b3be-054a3256c602",
   "metadata": {},
   "source": [
    "### neuroglancer file"
   ]
  },
  {
   "cell_type": "code",
   "execution_count": 23,
   "id": "a140c84b-d9f6-43ec-b178-c72dcf40deb4",
   "metadata": {},
   "outputs": [],
   "source": [
    "neuroglancer_path = Path(settings_dict['save_dir']) / 'Nate_neuroglancer/synaptic_labeling/finished'\n",
    "# neuroglancer_path = '/Users/kperks/Documents/gdrive/.shortcut-targets-by-id/16q1BuOMfD2ta0Cwq8CjMlRe4rDvbuWC5/ELL_connectome/CREST_reconstructions/mg-network/Nate_neuroglancer/synaptic_labeling/finished'\n",
    "filename = '40448913_nbs.json'\n",
    "neuroglancer_path = Path(neuroglancer_path) / filename\n",
    "\n",
    "with open(Path(neuroglancer_path), 'r') as myfile: # 'p' is the dirpath and 'f' is the filename from the created 'd' dictionary\n",
    "    neuroglancer_data = json.load(myfile)"
   ]
  },
  {
   "cell_type": "code",
   "execution_count": 24,
   "id": "3568553c-bbb7-4ad2-9ad7-c4a62d611784",
   "metadata": {},
   "outputs": [],
   "source": [
    "segmentation_layer = next((item for item in neuroglancer_data['layers'] if item[\"source\"] == 'brainmaps://10393113184:ell:roi450um_seg32fb16fb_220930'), None)\n",
    "base_segment_list_ng = set(segmentation_layer['segments'])"
   ]
  },
  {
   "cell_type": "code",
   "execution_count": 25,
   "id": "7975f45a-2ee6-4481-8ea5-38ec5de40961",
   "metadata": {},
   "outputs": [],
   "source": [
    "base_segment_list_ng = list(set([bs for bs in base_segment_list_ng if '!' not in bs]))# -set(['283547027']))"
   ]
  },
  {
   "cell_type": "markdown",
   "id": "95d004dc-0fca-454f-a3b9-01be695e3275",
   "metadata": {},
   "source": [
    "### initiate cell if not already a crest file"
   ]
  },
  {
   "cell_type": "code",
   "execution_count": null,
   "id": "aba90c2c-1a39-48fd-af31-7c74f51f03e3",
   "metadata": {},
   "outputs": [],
   "source": [
    "cell_id = filename.split('_')[0]\n",
    "crest = ecrest(settings_dict, segment_id = segment_id, segment_list = base_segment_list_ng, launch_viewer=True)"
   ]
  },
  {
   "cell_type": "markdown",
   "id": "e23160c0-039a-4fee-a9c2-33f92ba1ad13",
   "metadata": {},
   "source": [
    "### compare base segments with ecrest file"
   ]
  },
  {
   "cell_type": "code",
   "execution_count": 26,
   "id": "feaf6e8a-5e26-49b1-9294-415d244ece17",
   "metadata": {},
   "outputs": [],
   "source": [
    "directory_path = Path(settings_dict['save_dir']) #/ 'todo_presynaptic/mg1_299496636' #/ 'kp/pfs'#/ 'volume-subsample-all/in_progress'  ## specify the directory path\n",
    "cell_filepaths = get_cell_filepaths(directory_path) # gets filepaths for all cells in a directory\n",
    "# cell_filepaths = cell_filepaths_mainnet"
   ]
  },
  {
   "cell_type": "code",
   "execution_count": 27,
   "id": "50c603b1-0341-4886-b265-ca5efbcaf0b8",
   "metadata": {},
   "outputs": [
    {
     "name": "stdout",
     "output_type": "stream",
     "text": [
      "updating viewer status message: Current Base Segment Counts: unknown: 3173, axon: 139, basal dendrite: 156, apical dendrite: 1446, dendrite: 0, multiple: 419\n"
     ]
    }
   ],
   "source": [
    "cell_id = filename.split('_')[0]\n",
    "# crest = ecrest(settings_dict, segment_id = segment_id, segment_list = base_segment_list_ng, launch_viewer=True)\n",
    "\n",
    "crest = ecrest(settings_dict, filepath= cell_filepaths[cell_id], launch_viewer=True)"
   ]
  },
  {
   "cell_type": "code",
   "execution_count": 30,
   "id": "f6d34ede-0a43-400c-b690-ebf9f596330e",
   "metadata": {},
   "outputs": [
    {
     "data": {
      "text/plain": [
       "set()"
      ]
     },
     "execution_count": 30,
     "metadata": {},
     "output_type": "execute_result"
    }
   ],
   "source": [
    "set(base_segment_list_ng) - set([a for _,b in crest.cell_data['base_segments'].items() for a in b])"
   ]
  },
  {
   "cell_type": "markdown",
   "id": "2f55b034-79e3-4889-8541-b0e6bb5dd78c",
   "metadata": {},
   "source": [
    "### Add points from annotation layers"
   ]
  },
  {
   "cell_type": "code",
   "execution_count": 28,
   "id": "884048b7-66b3-49f9-9b3f-e6f5c1febb67",
   "metadata": {},
   "outputs": [
    {
     "data": {
      "text/plain": [
       "['uncertain',\n",
       " 'post-synaptic',\n",
       " 'soma',\n",
       " 'natural end',\n",
       " 'exit volume',\n",
       " 'pre-synaptic',\n",
       " 'Base Segment Merger']"
      ]
     },
     "execution_count": 28,
     "metadata": {},
     "output_type": "execute_result"
    }
   ],
   "source": [
    "[item['name'] for item in neuroglancer_data['layers'] if item['type']=='annotation']"
   ]
  },
  {
   "cell_type": "code",
   "execution_count": 29,
   "id": "e22bf1fc-3b85-44fb-989d-ff792cdea197",
   "metadata": {},
   "outputs": [
    {
     "name": "stdout",
     "output_type": "stream",
     "text": [
      "Imported - post-synaptic - layer from neuroglancer annotations tabs for cell 40448913 as - post-synaptic -.\n",
      "Imported - pre-synaptic - layer from neuroglancer annotations tabs for cell 40448913 as - pre-synaptic -.\n"
     ]
    }
   ],
   "source": [
    "neuroglancer_layer_name = ['post-synaptic','pre-synaptic'] # [item['name'] for item in neuroglancer_data['layers'] if item['type']=='annotation']# ,\n",
    "crest_layer_name = neuroglancer_layer_name #['post-synaptic','pre-synaptic']#,\n",
    "\n",
    "for nl_, cl_ in zip(neuroglancer_layer_name, crest_layer_name):\n",
    "    # get the 'layers' dictionary that has that name\n",
    "    neuroglancer_layer = next((item for item in neuroglancer_data['layers'] if item[\"name\"] == nl_), None)\n",
    "\n",
    "    if neuroglancer_layer != None:\n",
    "        if cl_ in crest.point_types:\n",
    "            # add annotation layer\n",
    "            crest.import_annotations(neuroglancer_data, [nl_], [cl_])\n",
    "            print(f\"Imported - {nl_} - layer from neuroglancer annotations tabs for cell {crest.cell_data['metadata']['main_seg']['base']} as - {cl_} -.\")\n",
    "        else: \n",
    "            msg = f\"CREST layer name - {cl_} - incorrect for cell {crest.cell_data['metadata']['main_seg']['base']} in conversion_json\"\n",
    "            print(msg)\n",
    "\n",
    "    else:\n",
    "        msg = f\"no layer by the name - {nl_} - in neuroglancer json for cell {crest.cell_data['metadata']['main_seg']['base']}\"\n",
    "        print(msg)\n",
    "\n",
    "crest.load_annotation_layer_points()"
   ]
  },
  {
   "cell_type": "markdown",
   "id": "906a710b-4864-401b-9058-a60cf3b04a2c",
   "metadata": {},
   "source": [
    "### define type and save"
   ]
  },
  {
   "cell_type": "code",
   "execution_count": 983,
   "id": "273fd827-f4a4-4891-b736-acd29177004f",
   "metadata": {},
   "outputs": [],
   "source": [
    "cell_type = 'pf' # Assign the cell type then run the code cell\n",
    "\n",
    "crest.define_ctype(cell_type,\"manual\")"
   ]
  },
  {
   "cell_type": "code",
   "execution_count": 32,
   "id": "e30c8b6c-a9d1-4f78-be5c-2ede5d336b4f",
   "metadata": {},
   "outputs": [
    {
     "name": "stdout",
     "output_type": "stream",
     "text": [
      "Saved cell 40448913 reconstruction locally at 2024-01-16 09.14.02\n"
     ]
    }
   ],
   "source": [
    "# SAVE YOUR WORK!\n",
    "\n",
    "crest.save_cell_graph() # Default location is Path(settings_dict['save_dir'])"
   ]
  },
  {
   "cell_type": "code",
   "execution_count": null,
   "id": "54fa0a65-dc18-4c61-89e1-f924fbf03f93",
   "metadata": {},
   "outputs": [],
   "source": [
    "# 11100*16"
   ]
  },
  {
   "cell_type": "code",
   "execution_count": null,
   "id": "fc33c979-22e0-406a-8e85-3897744a5d2d",
   "metadata": {},
   "outputs": [],
   "source": [
    "crest.cell_data['end_points']['uncertain'] = [r for r in crest.cell_data['end_points']['uncertain'] if r[1] < (11100*16)]"
   ]
  },
  {
   "cell_type": "code",
   "execution_count": null,
   "id": "d50e8695-9d49-48ec-8464-a447f72d4cd0",
   "metadata": {},
   "outputs": [],
   "source": [
    "crest.load_annotation_layer_points()"
   ]
  },
  {
   "cell_type": "code",
   "execution_count": null,
   "id": "e39a9224-57b2-41f7-a63f-4716608bddbb",
   "metadata": {},
   "outputs": [],
   "source": [
    "# crest.add_endpoint_annotation_layers(['soma'])"
   ]
  },
  {
   "cell_type": "code",
   "execution_count": null,
   "id": "435c5124-2587-4fbd-aebd-c126ac5259ed",
   "metadata": {},
   "outputs": [],
   "source": [
    "base_segments_net = crest.get_base_segments_dict(Path(settings_dict['save_dir']))\n",
    "base_segments_todo = crest.get_base_segments_dict(Path(settings_dict['save_dir']) / 'todo_presynaptic/lf_393325331')"
   ]
  },
  {
   "cell_type": "code",
   "execution_count": null,
   "id": "bd284024-9b81-4481-8bde-1ad7fc1387f7",
   "metadata": {},
   "outputs": [],
   "source": [
    "print('overlap in main network:'); df = crest.check_duplicates(base_segments_net); display(df)\n",
    "print('overlap in todo folder:'); df = crest.check_duplicates(base_segments_todo); display(df)"
   ]
  },
  {
   "cell_type": "code",
   "execution_count": null,
   "id": "472bffbd-db9f-4427-82b9-b817e50a8299",
   "metadata": {},
   "outputs": [],
   "source": [
    "cell_type = 'sgx1' # Assign the cell type then run the code cell\n",
    "\n",
    "crest.define_ctype(cell_type,\"manual\")"
   ]
  },
  {
   "cell_type": "code",
   "execution_count": 1032,
   "id": "f340fa4b-cdd6-4568-b297-d1f14fd9b4d2",
   "metadata": {},
   "outputs": [
    {
     "name": "stdout",
     "output_type": "stream",
     "text": [
      "Saved cell 644824766 reconstruction locally at 2024-01-05 16.16.58\n"
     ]
    }
   ],
   "source": [
    "# SAVE YOUR WORK!\n",
    "\n",
    "crest.save_cell_graph() # Default location is Path(settings_dict['save_dir'])"
   ]
  },
  {
   "cell_type": "code",
   "execution_count": null,
   "id": "c25c1dd6-c66c-4a11-9e30-5a296345b4ab",
   "metadata": {},
   "outputs": [],
   "source": [
    "# cell_filepaths[cell_id].name"
   ]
  },
  {
   "cell_type": "code",
   "execution_count": null,
   "id": "3ac4a1a1-d6df-4d63-a453-b35792b387cf",
   "metadata": {},
   "outputs": [],
   "source": [
    "# crest.save_cell_graph(directory_path = cell_filepaths[cell_id].parent, file_name = cell_filepaths[cell_id].name)"
   ]
  },
  {
   "cell_type": "code",
   "execution_count": null,
   "id": "346aa47b-1ca1-4908-9f3c-f5348a7f3de7",
   "metadata": {},
   "outputs": [],
   "source": [
    "# crest.get_ctype('manual')"
   ]
  },
  {
   "cell_type": "code",
   "execution_count": null,
   "id": "62a07da8-c6bc-4a2f-ae5d-92fa778f2be4",
   "metadata": {},
   "outputs": [],
   "source": []
  }
 ],
 "metadata": {
  "kernelspec": {
   "display_name": "Python 3 (ipykernel)",
   "language": "python",
   "name": "python3"
  },
  "language_info": {
   "codemirror_mode": {
    "name": "ipython",
    "version": 3
   },
   "file_extension": ".py",
   "mimetype": "text/x-python",
   "name": "python",
   "nbconvert_exporter": "python",
   "pygments_lexer": "ipython3",
   "version": "3.8.13"
  },
  "widgets": {
   "application/vnd.jupyter.widget-state+json": {
    "state": {},
    "version_major": 2,
    "version_minor": 0
   }
  }
 },
 "nbformat": 4,
 "nbformat_minor": 5
}
