{
 "cells": [
  {
   "cell_type": "markdown",
   "id": "7053c443-29f1-4b33-b0c2-d4d9b88626ef",
   "metadata": {},
   "source": [
    "# Setup"
   ]
  },
  {
   "cell_type": "code",
   "execution_count": null,
   "id": "3b8f4743-790b-4720-860b-29392dbe2a8b",
   "metadata": {},
   "outputs": [],
   "source": [
    "############################################################################################################################ \n",
    "# Get the latest CREST files for each ID within the target folder (dirname)\n",
    "\n",
    "from pathlib import Path\n",
    "import json\n",
    "from sqlite3 import connect as sqlite3_connect\n",
    "from sqlite3 import DatabaseError\n",
    "from igraph import Graph as ig_Graph\n",
    "from igraph import plot as ig_plot\n",
    "from scipy.spatial.distance import cdist\n",
    "from random import choice as random_choice\n",
    "from itertools import combinations\n",
    "from numpy import array, unravel_index, argmin, mean\n",
    "import random\n",
    "import numpy as np\n",
    "from copy import deepcopy\n",
    "import itertools\n",
    "from datetime import datetime\n",
    "from time import time\n",
    "import neuroglancer\n",
    "from webbrowser import open as wb_open\n",
    "from webbrowser import open_new as wb_open_new\n",
    "import pandas as pd\n",
    "import seaborn as sns\n",
    "from matplotlib import pyplot as plt\n",
    "from tqdm import tqdm"
   ]
  },
  {
   "cell_type": "code",
   "execution_count": 2,
   "id": "5c8f6a5b-b837-47df-b8ca-f1161efb5b43",
   "metadata": {},
   "outputs": [],
   "source": [
    "import sys\n",
    "sys.path.append('/Users/kperks/Documents/ell-connectome/eCREST/eCREST')"
   ]
  },
  {
   "cell_type": "code",
   "execution_count": 3,
   "id": "385797b4-8bc8-4c47-a60f-cd1b510f65de",
   "metadata": {},
   "outputs": [],
   "source": [
    "# from eCREST_cli_beta import ecrest, import_settings\n",
    "from eCREST_cli import ecrest, import_settings, get_cell_filepaths"
   ]
  },
  {
   "cell_type": "markdown",
   "id": "5b80dbd2-d1cc-4b77-ac6a-c0d2be029283",
   "metadata": {},
   "source": [
    "The 'ecrest' class has been imported from eCREST_cli.py\n",
    "\n",
    "An instance of this object will be able to:\n",
    "- open an neuroglancer viewer for proofrieading (see \"Proofread using CREST\")\n",
    "    - add-remove segments (using graph feature for efficiency)\n",
    "    - format itself and save itself as a CREST-style .json\n",
    "- convert from neuroglancer json (see \"Convert From Neuroglancer to eCREST\")\n",
    "    - format itself and save itself as a CREST-style .json\n",
    "    \n"
   ]
  },
  {
   "cell_type": "markdown",
   "id": "84104779-a505-4e08-9fd4-1fb7407ff520",
   "metadata": {},
   "source": [
    "### Import settings\n",
    "\n",
    "If you save a copy of settings_dict.json (found in the \"under construction\" directory of eCREST repo) locally somewhere outside the repo (like in your save_dir), then you can use the following code cell to import. This avoids needing to re-type the save_dir and db_path each time you \"git pull\" updates from the repo to this notebook."
   ]
  },
  {
   "cell_type": "code",
   "execution_count": 4,
   "id": "0e188fd4-b913-4e89-bcc2-4c083653845f",
   "metadata": {},
   "outputs": [],
   "source": [
    "path_to_settings_json = '/Users/kperks/Documents/ell-connectome/eCREST-local-files/settings_dict.json'\n",
    "settings_dict = import_settings(path_to_settings_json)"
   ]
  },
  {
   "cell_type": "code",
   "execution_count": 5,
   "id": "18bee53b-c283-4779-86b6-dace6e455d1d",
   "metadata": {},
   "outputs": [],
   "source": [
    "dirpath = Path(settings_dict['save_dir'])\n",
    "# dirpath = \"/Users/kperks/Documents/gdrive/.shortcut-targets-by-id/16q1BuOMfD2ta0Cwq8CjMlRe4rDvbuWC5/ELL_connectome/CREST_reconstructions/mg-network\""
   ]
  },
  {
   "cell_type": "markdown",
   "id": "8faf5b84-32b7-4721-ac80-c82d1f772a5f",
   "metadata": {},
   "source": [
    "# Get all cells info"
   ]
  },
  {
   "cell_type": "markdown",
   "id": "0528f288-ee47-4c25-8ba5-c40d2f05a101",
   "metadata": {},
   "source": [
    "## Cell Types"
   ]
  },
  {
   "cell_type": "code",
   "execution_count": 21,
   "id": "faaac27a-07fd-4c0e-a187-3720d3d7ed08",
   "metadata": {
    "tags": []
   },
   "outputs": [],
   "source": [
    "nodefiles = get_cell_filepaths(dirpath)"
   ]
  },
  {
   "cell_type": "markdown",
   "id": "01b7bdb2-023e-4814-902b-b4a6278a4234",
   "metadata": {},
   "source": [
    "## manual type"
   ]
  },
  {
   "cell_type": "code",
   "execution_count": 22,
   "id": "7cd241ce-23bd-4b0b-9d8e-7bc01a0342b4",
   "metadata": {},
   "outputs": [
    {
     "name": "stdout",
     "output_type": "stream",
     "text": [
      "the following cells are not typed in the main network\n",
      "[]\n"
     ]
    }
   ],
   "source": [
    "cell_type = {}\n",
    "not_typed = []\n",
    "for x,f in nodefiles.items():\n",
    "    cell = ecrest(settings_dict,filepath = f,launch_viewer=False)\n",
    "    cell_type[int(x)] = cell.get_ctype('manual') \n",
    "    if (cell.get_ctype('manual') == []) | (cell.get_ctype('manual') == ''):\n",
    "        cell_type[int(x)]=np.NaN\n",
    "        not_typed.append(x)# print(f'cell {x} is not cell-typed in json')\n",
    "        \n",
    "print('the following cells are not typed in the main network')\n",
    "print(not_typed)        \n",
    "        \n",
    "df_type = pd.DataFrame(cell_type.items(),columns = ['id','cell_type'])\n",
    "\n",
    "df_type.loc[df_type['cell_type'].isin(['dml']),'cell_type']='mli'\n",
    "df_type.loc[df_type['cell_type'].isin(['grc-d']),'cell_type']='grc'\n",
    "df_type.loc[df_type['cell_type'].isin(['grc-s']),'cell_type']='smpl'\n",
    "df_type.loc[df_type['cell_type'].isin(['pfm']),'cell_type']='pf'"
   ]
  },
  {
   "cell_type": "markdown",
   "id": "9af38819-da3c-4d49-b0e5-2ae35a1242f0",
   "metadata": {},
   "source": [
    "## auto type\n",
    "\n",
    "this field is populated when an auto-typing of the cells was different from the manual typing"
   ]
  },
  {
   "cell_type": "code",
   "execution_count": 23,
   "id": "02331909-9b38-480d-8993-a1e8cf7d46aa",
   "metadata": {},
   "outputs": [],
   "source": [
    "cell_type = {}\n",
    "# not_typed = []\n",
    "for x,f in nodefiles.items():\n",
    "    cell = ecrest(settings_dict,filepath = f,launch_viewer=False)\n",
    "    cell_type[int(x)] = cell.get_ctype('auto') \n",
    "    if (cell.get_ctype('auto') == []) | (cell.get_ctype('auto') == ''):\n",
    "        cell_type[int(x)]=np.NaN\n",
    "        # not_typed.append(x)# print(f'cell {x} is not cell-typed in json')\n",
    "        \n",
    "# print('the following cells are not typed in the main network')\n",
    "# print(not_typed)        \n",
    "        \n",
    "df_type_auto = pd.DataFrame(cell_type.items(),columns = ['id','cell_type'])\n"
   ]
  },
  {
   "cell_type": "code",
   "execution_count": 24,
   "id": "f866c996-d5ed-4790-8163-750cbfd0b8dc",
   "metadata": {},
   "outputs": [],
   "source": [
    "df_type_auto.dropna(inplace=True)"
   ]
  },
  {
   "cell_type": "code",
   "execution_count": 25,
   "id": "387b4667-ee6d-4a70-95c0-22b56a4f3844",
   "metadata": {},
   "outputs": [
    {
     "data": {
      "text/html": [
       "<div>\n",
       "<style scoped>\n",
       "    .dataframe tbody tr th:only-of-type {\n",
       "        vertical-align: middle;\n",
       "    }\n",
       "\n",
       "    .dataframe tbody tr th {\n",
       "        vertical-align: top;\n",
       "    }\n",
       "\n",
       "    .dataframe thead th {\n",
       "        text-align: right;\n",
       "    }\n",
       "</style>\n",
       "<table border=\"1\" class=\"dataframe\">\n",
       "  <thead>\n",
       "    <tr style=\"text-align: right;\">\n",
       "      <th></th>\n",
       "      <th>id</th>\n",
       "      <th>cell_type</th>\n",
       "    </tr>\n",
       "  </thead>\n",
       "  <tbody>\n",
       "    <tr>\n",
       "      <th>104</th>\n",
       "      <td>127607174</td>\n",
       "      <td>mg2</td>\n",
       "    </tr>\n",
       "    <tr>\n",
       "      <th>106</th>\n",
       "      <td>127672247</td>\n",
       "      <td>mg2</td>\n",
       "    </tr>\n",
       "    <tr>\n",
       "      <th>154</th>\n",
       "      <td>129572524</td>\n",
       "      <td>mg1</td>\n",
       "    </tr>\n",
       "    <tr>\n",
       "      <th>744</th>\n",
       "      <td>213501262</td>\n",
       "      <td>mg1</td>\n",
       "    </tr>\n",
       "    <tr>\n",
       "      <th>769</th>\n",
       "      <td>214440956</td>\n",
       "      <td>mg2</td>\n",
       "    </tr>\n",
       "  </tbody>\n",
       "</table>\n",
       "</div>"
      ],
      "text/plain": [
       "            id cell_type\n",
       "104  127607174       mg2\n",
       "106  127672247       mg2\n",
       "154  129572524       mg1\n",
       "744  213501262       mg1\n",
       "769  214440956       mg2"
      ]
     },
     "execution_count": 25,
     "metadata": {},
     "output_type": "execute_result"
    }
   ],
   "source": [
    "df_type_auto.head()"
   ]
  },
  {
   "cell_type": "markdown",
   "id": "ab985fa8-ec1a-467b-9b45-4224055459c4",
   "metadata": {},
   "source": [
    "## combine manual and auto df_type"
   ]
  },
  {
   "cell_type": "code",
   "execution_count": 26,
   "id": "6017d8b3-4473-4017-a15c-b059f72aa4d6",
   "metadata": {},
   "outputs": [],
   "source": [
    "for i,r in df_type_auto.iterrows():\n",
    "    df_type.loc[i,'cell_type'] = r['cell_type'] # the match up of i for df_type and _auto depends on both being made by iterating over the same nodefiles list"
   ]
  },
  {
   "cell_type": "code",
   "execution_count": 27,
   "id": "31213ffd-3037-4695-a875-0b41b25f2a96",
   "metadata": {},
   "outputs": [],
   "source": [
    "# for i,r in df_type.iterrows():\n",
    "#     df_type.loc[i,'fsize'] = nodefiles[str(r['id'])].stat().st_size\n",
    "\n",
    "# df_type[df_type['type'].isin(['sg2'])].sort_values('fsize').head(20)"
   ]
  },
  {
   "cell_type": "code",
   "execution_count": 28,
   "id": "1f0d41bb-db79-42ec-8433-e40ea65bac02",
   "metadata": {},
   "outputs": [
    {
     "data": {
      "text/html": [
       "<div>\n",
       "<style scoped>\n",
       "    .dataframe tbody tr th:only-of-type {\n",
       "        vertical-align: middle;\n",
       "    }\n",
       "\n",
       "    .dataframe tbody tr th {\n",
       "        vertical-align: top;\n",
       "    }\n",
       "\n",
       "    .dataframe thead th {\n",
       "        text-align: right;\n",
       "    }\n",
       "</style>\n",
       "<table border=\"1\" class=\"dataframe\">\n",
       "  <thead>\n",
       "    <tr style=\"text-align: right;\">\n",
       "      <th></th>\n",
       "      <th>id</th>\n",
       "      <th>cell_type</th>\n",
       "    </tr>\n",
       "  </thead>\n",
       "  <tbody>\n",
       "    <tr>\n",
       "      <th>0</th>\n",
       "      <td>102463116</td>\n",
       "      <td>pf</td>\n",
       "    </tr>\n",
       "    <tr>\n",
       "      <th>1</th>\n",
       "      <td>103366246</td>\n",
       "      <td>uk</td>\n",
       "    </tr>\n",
       "    <tr>\n",
       "      <th>2</th>\n",
       "      <td>103549879</td>\n",
       "      <td>mli</td>\n",
       "    </tr>\n",
       "    <tr>\n",
       "      <th>3</th>\n",
       "      <td>107201352</td>\n",
       "      <td>mli</td>\n",
       "    </tr>\n",
       "    <tr>\n",
       "      <th>4</th>\n",
       "      <td>109348216</td>\n",
       "      <td>mli</td>\n",
       "    </tr>\n",
       "  </tbody>\n",
       "</table>\n",
       "</div>"
      ],
      "text/plain": [
       "          id cell_type\n",
       "0  102463116        pf\n",
       "1  103366246        uk\n",
       "2  103549879       mli\n",
       "3  107201352       mli\n",
       "4  109348216       mli"
      ]
     },
     "execution_count": 28,
     "metadata": {},
     "output_type": "execute_result"
    }
   ],
   "source": [
    "df_type.head()"
   ]
  },
  {
   "cell_type": "markdown",
   "id": "f35911de-f38e-4290-9a52-c2f642c838cf",
   "metadata": {},
   "source": [
    "### save to file"
   ]
  },
  {
   "cell_type": "code",
   "execution_count": 29,
   "id": "cee434c4-5b67-4801-9ac2-752408050670",
   "metadata": {},
   "outputs": [],
   "source": [
    "df_type.to_csv(dirpath / 'metadata/df_type.csv')"
   ]
  },
  {
   "cell_type": "markdown",
   "id": "552e2f37-bd6d-4086-a92b-8d27a9fbfeed",
   "metadata": {},
   "source": [
    "## Base Segments"
   ]
  },
  {
   "cell_type": "code",
   "execution_count": 30,
   "id": "13f90c1b-287c-4f8b-9c43-b3c1aa0c0437",
   "metadata": {
    "tags": []
   },
   "outputs": [],
   "source": [
    "nodefiles = get_cell_filepaths(dirpath)"
   ]
  },
  {
   "cell_type": "code",
   "execution_count": 31,
   "id": "23ce080b-d192-417c-ad41-0a40ce7f5d1e",
   "metadata": {},
   "outputs": [],
   "source": [
    "# Create a base_segments dictionary of all reconstructed cells \n",
    "\n",
    "base_segments = {}\n",
    "for x,f in nodefiles.items():\n",
    "    # if cell_type[x] in network_types: # if do this, you can't check if the post-syn segments exist as a reconstruction\n",
    "    cell = ecrest(settings_dict,filepath = f)#,launch_viewer=False)\n",
    "    base_segments[cell.cell_data['metadata']['main_seg']['base']] = cell.cell_data['base_segments']\n",
    "    \n",
    "    try:\n",
    "        assert cell.cell_data['metadata']['main_seg']['base'] == x\n",
    "    except:\n",
    "        print(x,cell.cell_data['metadata']['main_seg']['base'])"
   ]
  },
  {
   "cell_type": "markdown",
   "id": "1a53be21-b74e-47da-b02c-844f5dc47635",
   "metadata": {},
   "source": [
    "## Cell structure labeling checks"
   ]
  },
  {
   "cell_type": "code",
   "execution_count": 117,
   "id": "4c5867b8-43e0-4d75-935e-7f4470880002",
   "metadata": {},
   "outputs": [
    {
     "name": "stdout",
     "output_type": "stream",
     "text": [
      "need labeling for:\n"
     ]
    }
   ],
   "source": [
    "print('need labeling for:')\n",
    "\n",
    "for x,segs in base_segments.items():\n",
    "    if (len(segs['unknown']) == len([s for k,v in segs.items() for s in v])) & (cell_type[x] in ['lf','lg']):\n",
    "        print(f'{x} {cell_type[x]}')"
   ]
  },
  {
   "cell_type": "markdown",
   "id": "475e5070-1940-4d94-b716-acc17460851c",
   "metadata": {},
   "source": [
    "# Build Graph"
   ]
  },
  {
   "cell_type": "code",
   "execution_count": 32,
   "id": "99bcd175-f3b9-462a-9308-372463f2252d",
   "metadata": {},
   "outputs": [],
   "source": [
    "network_types = ['mli']#set([v for v in df_type['cell_type'].unique()])#['tsd']# ['mg1','mg2','lg','lf','sg1','sg2','sgx','grc','aff']"
   ]
  },
  {
   "cell_type": "code",
   "execution_count": 33,
   "id": "09a62a04-9ff4-42eb-aca1-4fdbc503cb0e",
   "metadata": {},
   "outputs": [
    {
     "name": "stderr",
     "output_type": "stream",
     "text": [
      "100%|████████████████████████████████████████████████████████████████████████████████████████████████| 5710/5710 [03:28<00:00, 27.43it/s]\n"
     ]
    }
   ],
   "source": [
    "synanno_type = 'post-synaptic'\n",
    "vx_sizes = [16, 16, 30]\n",
    "\n",
    "## find edges and set the cell-structure attribute of the edge based on which part of the cell the edge goes to\n",
    "edge_list = []\n",
    "\n",
    "with tqdm(total=len(nodefiles.keys())) as pbar:\n",
    "    for x_pre in nodefiles.keys():\n",
    "        pbar.update(1)\n",
    "        \n",
    "        if df_type[df_type['id'].isin([int(x_pre)])]['cell_type'].values[0] in network_types:\n",
    "            \n",
    "            # if the node has post-synaptic annotations (the current cell is assumed pre-synaptic)\n",
    "            pre = ecrest(settings_dict,filepath = nodefiles[x_pre])#,launch_viewer=False)\n",
    "            if pre.cell_data['end_points'][synanno_type] != []:\n",
    "                # for each synapse\n",
    "                for syn_ in pre.cell_data['end_points'][synanno_type]:\n",
    "                    '''assumes that the annotation is a point annotation stored in the list as ([x,y,z,segment_id],'annotatePoint')\n",
    "                    previous ot Jan 25 2024, it was just [x,y,z,segment_id]'''\n",
    "                    syn_ = syn_[0]\n",
    "                    try:\n",
    "                        post_seg = syn_[3]\n",
    "                        syn_ = array([int(syn_[i]) for i in range(3)]) # synapses annotations exported as nanometers, so do not need to convert\n",
    "    \n",
    "                        # go through each other nodes\n",
    "                        for x_post in nodefiles.keys():\n",
    "                            # if cell_type[x_post] in network_types:\n",
    "                            post = base_segments[x_post] \n",
    "                            for k,v in post.items():\n",
    "                                for v_ in list(v): #find keys (can be multiple on the same cell) for matching segment ids\n",
    "                                    if post_seg == v_: \n",
    "                                        # add edge to the graph between current node and matching node\n",
    "                                        edge_list.append([x_pre,x_post,k,syn_[0],syn_[1],syn_[2]])\n",
    "                                            \n",
    "    \n",
    "                    except IndexError as msg:\n",
    "                        cellid = x_pre\n",
    "                        print(msg, f'for cell {cellid} synapse at {array([int(syn_[i]/vx_sizes[i]) for i in range(3)])} voxels has no segment id')\n",
    "    \n",
    "            else:\n",
    "                continue\n"
   ]
  },
  {
   "cell_type": "markdown",
   "id": "cac52cb2-1e61-41f0-a464-4a19f57af569",
   "metadata": {},
   "source": [
    "## Specific cell(S)"
   ]
  },
  {
   "cell_type": "code",
   "execution_count": 46,
   "id": "62a8fac1-c3df-4bbe-8cd4-f31cbc0af8bd",
   "metadata": {},
   "outputs": [],
   "source": [
    "edge_list = []\n",
    "cell_list = ['295969355']\n",
    "synanno_type = 'post-synaptic'\n",
    "\n",
    "for x_pre in cell_list:\n",
    "    pre = ecrest(settings_dict,filepath = nodefiles[x_pre])\n",
    "    if pre.cell_data['end_points'][synanno_type] != []:\n",
    "        # for each synapse\n",
    "        for syn_ in pre.cell_data['end_points'][synanno_type]:\n",
    "            '''assumes that the annotation is a point annotation stored in the list as ([x,y,z,segment_id],'annotatePoint')\n",
    "            previous ot Jan 25 2024, it was just [x,y,z,segment_id]'''\n",
    "            syn_ = syn_[0]\n",
    "            try:\n",
    "                post_seg = syn_[3]\n",
    "                syn_ = array([int(syn_[i]) for i in range(3)]) # synapses annotations exported as nanometers, so do not need to convert\n",
    "\n",
    "                # go through each other nodes\n",
    "                for x_post in nodefiles.keys():\n",
    "                    # if cell_type[x_post] in network_types:\n",
    "                    post = base_segments[x_post] \n",
    "                    for k,v in post.items():\n",
    "                        for v_ in list(v): #find keys (can be multiple on the same cell) for matching segment ids\n",
    "                            if post_seg == v_: \n",
    "                                # add edge to the graph between current node and matching node\n",
    "                                \n",
    "                                edge_list.append([x_pre,x_post,k,syn_[0],syn_[1],syn_[2]])\n",
    "                                    \n",
    "\n",
    "            except IndexError as msg:\n",
    "                cellid = x_pre\n",
    "                print(msg, f'for cell {cellid} synapse at {array([int(syn_[i]/vx_sizes[i]) for i in range(3)])} voxels has no segment id')\n",
    "\n",
    "    else:\n",
    "        continue\n",
    "\n"
   ]
  },
  {
   "cell_type": "markdown",
   "id": "133d0d9b-fae5-488a-bdcf-13b95c34ed75",
   "metadata": {},
   "source": [
    "# Synapses dataframe"
   ]
  },
  {
   "cell_type": "code",
   "execution_count": 34,
   "id": "12b74970-19b2-4c79-8a1f-6615c6c27304",
   "metadata": {},
   "outputs": [],
   "source": [
    "df_syn = pd.DataFrame(edge_list,columns = ['pre','post','structure','x','y','z'])\n",
    "\n",
    "# for i,r in df_syn.iterrows():\n",
    "#     df_syn.loc[i,'pre_type']=cell_type[df_syn.loc[i,'pre']]\n",
    "#     df_syn.loc[i,'post_type']=cell_type[df_syn.loc[i,'post']]"
   ]
  },
  {
   "cell_type": "code",
   "execution_count": null,
   "id": "a54187b5-4a54-4ae6-9cac-1a022261c4da",
   "metadata": {},
   "outputs": [],
   "source": [
    "# df_syn"
   ]
  },
  {
   "cell_type": "markdown",
   "id": "b8323d6d-35a9-4d4d-bcc0-e4f23fb940f4",
   "metadata": {},
   "source": [
    "## If want to peak at df_Edges"
   ]
  },
  {
   "cell_type": "code",
   "execution_count": 61,
   "id": "eceb4127-d7fd-4c9f-97b2-b39bfd2f5249",
   "metadata": {},
   "outputs": [],
   "source": [
    "for i,r in df_syn.iterrows():\n",
    "    try:\n",
    "        df_syn.loc[i,'pre_type'] =df_type[df_type['id'].isin([int(r['pre'])])].cell_type.values[0]\n",
    "        df_syn.loc[i,'post_type']=df_type[df_type['id'].isin([int(r['post'])])].cell_type.values[0]\n",
    "    except:\n",
    "        # print(r['pre'],r['post'])\n",
    "        continue"
   ]
  },
  {
   "cell_type": "code",
   "execution_count": 60,
   "id": "b41eb07f-7658-4014-8794-3f1fe99addea",
   "metadata": {},
   "outputs": [
    {
     "data": {
      "text/plain": [
       "array([109461049, 109502641, 110418632, ..., 669195832, 670337293,\n",
       "        91387157])"
      ]
     },
     "execution_count": 60,
     "metadata": {},
     "output_type": "execute_result"
    }
   ],
   "source": [
    "df_type['id'].values"
   ]
  },
  {
   "cell_type": "code",
   "execution_count": 62,
   "id": "4796a795-91f5-45c5-9595-3c005dc50fc3",
   "metadata": {},
   "outputs": [],
   "source": [
    "df_edges = df_syn[['pre','post','pre_type','post_type']].value_counts().reset_index(name='weight') #'structure',"
   ]
  },
  {
   "cell_type": "code",
   "execution_count": null,
   "id": "b617190d-5145-408e-9c83-7d85582fc793",
   "metadata": {},
   "outputs": [],
   "source": [
    "# df_edges#[df_edges['post_type'].isin(['mg2','lg'])]"
   ]
  },
  {
   "cell_type": "code",
   "execution_count": 63,
   "id": "d6bd96d3-f54c-4628-b700-389e79f0bbea",
   "metadata": {},
   "outputs": [
    {
     "data": {
      "text/plain": [
       "post_type\n",
       "lf     2\n",
       "lg     1\n",
       "mg2    1\n",
       "sg1    3\n",
       "sg2    2\n",
       "Name: pre, dtype: int64"
      ]
     },
     "metadata": {},
     "output_type": "display_data"
    }
   ],
   "source": [
    "display(df_edges[['pre','post_type']].groupby('post_type')['pre'].count())"
   ]
  },
  {
   "cell_type": "code",
   "execution_count": null,
   "id": "e0f941c8-995a-4ad9-8397-f71f31c0da8d",
   "metadata": {},
   "outputs": [],
   "source": [
    "for i,r in df_edges.iterrows():\n",
    "    df_edges.loc[i,'pre_diam']=soma_diam[str(df_edges.loc[i,'pre'])]\n",
    "    df_edges.loc[i,'post_diam']=soma_diam[str(df_edges.loc[i,'post'])]\n",
    "\n",
    "df_edges.loc[:,'diam_diff'] = (df_edges['post_diam']-df_edges['pre_diam'])/df_edges['pre_diam']"
   ]
  },
  {
   "cell_type": "code",
   "execution_count": null,
   "id": "8cd85316-ec49-44cf-a87d-55620dfa2e36",
   "metadata": {},
   "outputs": [],
   "source": [
    "# df_edges\n",
    "\n",
    "focal_cell_id = df_edges['post'].unique()\n",
    "display(df_syn[df_syn['pre']==focal_cell_id][['post','post_type']].value_counts().reset_index(\n",
    "    name='weight')['post_type'].value_counts().reset_index(name='ncells'))"
   ]
  },
  {
   "cell_type": "markdown",
   "id": "bcf5886c-f9d0-43b6-89aa-a84f85a36f0d",
   "metadata": {},
   "source": [
    "# save df_syn"
   ]
  },
  {
   "cell_type": "code",
   "execution_count": 35,
   "id": "5e54d001-9758-4c67-a706-7bcb2d06af34",
   "metadata": {},
   "outputs": [],
   "source": [
    "savepath = Path('/Users/kperks/Library/CloudStorage/GoogleDrive-sawtelllab@gmail.com/My Drive/ELL_connectome/CREST_reconstructions/mg-network/graphs')\n",
    "\n",
    "df_syn.to_csv(savepath / 'df_postsyn_mli.csv')"
   ]
  },
  {
   "cell_type": "code",
   "execution_count": null,
   "id": "4fea9a07-130b-4c6c-9501-82b7c0ffa461",
   "metadata": {},
   "outputs": [],
   "source": [
    "df_syn"
   ]
  },
  {
   "cell_type": "code",
   "execution_count": 64,
   "id": "ae8cb3d7-16c4-44ed-aeb9-76d04d6e729e",
   "metadata": {},
   "outputs": [
    {
     "data": {
      "text/html": [
       "<div>\n",
       "<style scoped>\n",
       "    .dataframe tbody tr th:only-of-type {\n",
       "        vertical-align: middle;\n",
       "    }\n",
       "\n",
       "    .dataframe tbody tr th {\n",
       "        vertical-align: top;\n",
       "    }\n",
       "\n",
       "    .dataframe thead th {\n",
       "        text-align: right;\n",
       "    }\n",
       "</style>\n",
       "<table border=\"1\" class=\"dataframe\">\n",
       "  <thead>\n",
       "    <tr style=\"text-align: right;\">\n",
       "      <th></th>\n",
       "      <th>pre</th>\n",
       "      <th>post</th>\n",
       "      <th>structure</th>\n",
       "      <th>x</th>\n",
       "      <th>y</th>\n",
       "      <th>z</th>\n",
       "    </tr>\n",
       "  </thead>\n",
       "  <tbody>\n",
       "    <tr>\n",
       "      <th>1043</th>\n",
       "      <td>461948885</td>\n",
       "      <td>299405462</td>\n",
       "      <td>apical dendrite</td>\n",
       "      <td>251584</td>\n",
       "      <td>191232</td>\n",
       "      <td>55740</td>\n",
       "    </tr>\n",
       "    <tr>\n",
       "      <th>1044</th>\n",
       "      <td>461948885</td>\n",
       "      <td>213545590</td>\n",
       "      <td>apical dendrite</td>\n",
       "      <td>250896</td>\n",
       "      <td>190960</td>\n",
       "      <td>52830</td>\n",
       "    </tr>\n",
       "    <tr>\n",
       "      <th>1045</th>\n",
       "      <td>461948885</td>\n",
       "      <td>214581797</td>\n",
       "      <td>apical dendrite</td>\n",
       "      <td>247792</td>\n",
       "      <td>190224</td>\n",
       "      <td>53430</td>\n",
       "    </tr>\n",
       "    <tr>\n",
       "      <th>1046</th>\n",
       "      <td>461948885</td>\n",
       "      <td>132342130</td>\n",
       "      <td>apical dendrite</td>\n",
       "      <td>245328</td>\n",
       "      <td>191232</td>\n",
       "      <td>63120</td>\n",
       "    </tr>\n",
       "    <tr>\n",
       "      <th>1047</th>\n",
       "      <td>461948885</td>\n",
       "      <td>386363638</td>\n",
       "      <td>apical dendrite</td>\n",
       "      <td>246512</td>\n",
       "      <td>191504</td>\n",
       "      <td>65460</td>\n",
       "    </tr>\n",
       "    <tr>\n",
       "      <th>...</th>\n",
       "      <td>...</td>\n",
       "      <td>...</td>\n",
       "      <td>...</td>\n",
       "      <td>...</td>\n",
       "      <td>...</td>\n",
       "      <td>...</td>\n",
       "    </tr>\n",
       "    <tr>\n",
       "      <th>1170</th>\n",
       "      <td>463095118</td>\n",
       "      <td>643848637</td>\n",
       "      <td>apical dendrite</td>\n",
       "      <td>196576</td>\n",
       "      <td>214000</td>\n",
       "      <td>95220</td>\n",
       "    </tr>\n",
       "    <tr>\n",
       "      <th>1171</th>\n",
       "      <td>463095118</td>\n",
       "      <td>559041561</td>\n",
       "      <td>multiple</td>\n",
       "      <td>185664</td>\n",
       "      <td>214448</td>\n",
       "      <td>94470</td>\n",
       "    </tr>\n",
       "    <tr>\n",
       "      <th>1172</th>\n",
       "      <td>463095118</td>\n",
       "      <td>198648129</td>\n",
       "      <td>unknown</td>\n",
       "      <td>182128</td>\n",
       "      <td>213584</td>\n",
       "      <td>94380</td>\n",
       "    </tr>\n",
       "    <tr>\n",
       "      <th>1173</th>\n",
       "      <td>463095118</td>\n",
       "      <td>49314829</td>\n",
       "      <td>unknown</td>\n",
       "      <td>183088</td>\n",
       "      <td>212992</td>\n",
       "      <td>94200</td>\n",
       "    </tr>\n",
       "    <tr>\n",
       "      <th>1174</th>\n",
       "      <td>463095118</td>\n",
       "      <td>551153096</td>\n",
       "      <td>apical dendrite</td>\n",
       "      <td>200864</td>\n",
       "      <td>217280</td>\n",
       "      <td>103680</td>\n",
       "    </tr>\n",
       "  </tbody>\n",
       "</table>\n",
       "<p>132 rows × 6 columns</p>\n",
       "</div>"
      ],
      "text/plain": [
       "            pre       post        structure       x       y       z\n",
       "1043  461948885  299405462  apical dendrite  251584  191232   55740\n",
       "1044  461948885  213545590  apical dendrite  250896  190960   52830\n",
       "1045  461948885  214581797  apical dendrite  247792  190224   53430\n",
       "1046  461948885  132342130  apical dendrite  245328  191232   63120\n",
       "1047  461948885  386363638  apical dendrite  246512  191504   65460\n",
       "...         ...        ...              ...     ...     ...     ...\n",
       "1170  463095118  643848637  apical dendrite  196576  214000   95220\n",
       "1171  463095118  559041561         multiple  185664  214448   94470\n",
       "1172  463095118  198648129          unknown  182128  213584   94380\n",
       "1173  463095118   49314829          unknown  183088  212992   94200\n",
       "1174  463095118  551153096  apical dendrite  200864  217280  103680\n",
       "\n",
       "[132 rows x 6 columns]"
      ]
     },
     "execution_count": 64,
     "metadata": {},
     "output_type": "execute_result"
    }
   ],
   "source": [
    "df_syn[df_syn['pre'].isin(['463095118','461948885'])]"
   ]
  },
  {
   "cell_type": "code",
   "execution_count": null,
   "id": "7fa1c801-b701-405f-815e-bd96e19e137d",
   "metadata": {},
   "outputs": [],
   "source": []
  }
 ],
 "metadata": {
  "kernelspec": {
   "display_name": "Python 3 (ipykernel)",
   "language": "python",
   "name": "python3"
  },
  "language_info": {
   "codemirror_mode": {
    "name": "ipython",
    "version": 3
   },
   "file_extension": ".py",
   "mimetype": "text/x-python",
   "name": "python",
   "nbconvert_exporter": "python",
   "pygments_lexer": "ipython3",
   "version": "3.8.19"
  },
  "widgets": {
   "application/vnd.jupyter.widget-state+json": {
    "state": {},
    "version_major": 2,
    "version_minor": 0
   }
  }
 },
 "nbformat": 4,
 "nbformat_minor": 5
}
