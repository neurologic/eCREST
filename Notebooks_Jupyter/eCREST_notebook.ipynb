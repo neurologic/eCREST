{
 "cells": [
  {
   "cell_type": "markdown",
   "id": "bd548e97-d216-4bf7-b535-b4bd8d8f6c7c",
   "metadata": {},
   "source": [
    "# eCREST_notebook\n",
    "\n",
    "Basic functions for reconstructing cells.\n",
    "\n",
    "# Setup\n",
    "\n",
    "Do the following two setup steps regardless of how you will be using this script. \n",
    "\n",
    "## 1. Imports\n",
    "\n",
    "Run the following code cell to import the necessary packages and modules. "
   ]
  },
  {
   "cell_type": "code",
   "execution_count": 1,
   "id": "e0d80baf-52c9-4daf-98eb-9e9ac1eddc40",
   "metadata": {},
   "outputs": [],
   "source": [
    "# %matplotlib ipympl"
   ]
  },
  {
   "cell_type": "code",
   "execution_count": 1,
   "id": "8914e04d-5949-4bba-9a88-476be078a7ab",
   "metadata": {},
   "outputs": [],
   "source": [
    "############################################################################################################################ \n",
    "# Get the latest CREST files for each ID within the target folder (dirname)\n",
    "\n",
    "from pathlib import Path\n",
    "import json\n",
    "from sqlite3 import connect as sqlite3_connect\n",
    "from sqlite3 import DatabaseError\n",
    "from igraph import Graph as ig_Graph\n",
    "from igraph import plot as ig_plot\n",
    "from scipy.spatial.distance import cdist\n",
    "from random import choice as random_choice\n",
    "from itertools import combinations\n",
    "from numpy import array, unravel_index, argmin, mean,unique,nan\n",
    "import pandas as pd\n",
    "from copy import deepcopy\n",
    "from datetime import datetime\n",
    "from time import time\n",
    "import neuroglancer\n",
    "from webbrowser import open as wb_open\n",
    "from webbrowser import open_new as wb_open_new\n",
    "import neuroglancer\n",
    "import numpy as np\n",
    "import matplotlib.pyplot as plt"
   ]
  },
  {
   "cell_type": "code",
   "execution_count": 2,
   "id": "bd085fb0-2ae5-468a-8b89-99edb76c7638",
   "metadata": {},
   "outputs": [],
   "source": [
    "import sys\n",
    "sys.path.append('/Users/kperks/Documents/ell-connectome/eCREST/eCREST')"
   ]
  },
  {
   "cell_type": "code",
   "execution_count": 3,
   "id": "f40f0b69-9905-42a2-8f77-8058185dba3a",
   "metadata": {},
   "outputs": [],
   "source": [
    "# from eCREST_cli_beta import ecrest, import_settings\n",
    "from eCREST_cli import ecrest, import_settings, get_cell_filepaths"
   ]
  },
  {
   "cell_type": "code",
   "execution_count": 4,
   "id": "d46fbc9f-defa-4e8b-a7f3-9a2704adbfb0",
   "metadata": {},
   "outputs": [],
   "source": [
    "def get_base_segments_dict(dirpath):\n",
    "\n",
    "    nodefiles = [child.name for child in sorted(dirpath.iterdir()) if (child.name[0]!='.') & (child.is_file()) & (\"desktop\" not in child.name)]\n",
    "\n",
    "    # Create a base_segments dictionary of all cells in the directory\n",
    "    base_segments = {}\n",
    "    for x in nodefiles:\n",
    "        # print(x)\n",
    "        with open(dirpath / x, 'r') as myfile: # 'p' is the dirpath and 'f' is the filename from the created 'd' dictionary\n",
    "            cell_data=myfile.read()\n",
    "            cell_data = json.loads(cell_data)\n",
    "        base_segments[x] = set([a for b in cell_data['base_segments'].values() for a in b]) #cell.cell_data['base_segments']\n",
    "        # base_segments[x] = set([a for b in cell_data['base_segments'].values() for a in b]) #cell.cell_data['base_segments']\n",
    "\n",
    "    return base_segments\n",
    "\n",
    "def check_duplicates(base_segments):\n",
    "    '''\n",
    "    base_segments is a dictionary of all segments that this script checks among\n",
    "    '''\n",
    "    df_all = pd.DataFrame()\n",
    "    for _,this_cell in base_segments.items():\n",
    "        overlap = []\n",
    "        num_dup = []\n",
    "        for x in base_segments.keys():\n",
    "            overlap.append(len(this_cell&base_segments[x])/len(base_segments[x]))\n",
    "            num_dup.append(len(this_cell&base_segments[x]))\n",
    "\n",
    "        df = pd.DataFrame({\n",
    "            \"self\": _,\n",
    "            \"dups\": list(base_segments.keys()),\n",
    "            \"overlap-percent\": overlap,\n",
    "            \"number_seg_lap\": num_dup\n",
    "            }).replace(0, nan, inplace=False).dropna()\n",
    "        df = df[df['dups'] != _]\n",
    "        if not df.empty:\n",
    "            df_all = pd.concat([df_all,df]) \n",
    "    return df_all"
   ]
  },
  {
   "cell_type": "markdown",
   "id": "2832d693-5b15-4b06-ac7a-8721e1adc7d3",
   "metadata": {},
   "source": [
    "The 'ecrest' class has been imported from eCREST_cli.py\n",
    "\n",
    "An instance of this object will be able to do things like:\n",
    "- open an neuroglancer viewer for proofrieading (see \"Proofread using CREST\")\n",
    "    - add-remove segments (using graph feature for efficiency)\n",
    "    - format itself and save itself as a CREST-style .json\n",
    "- add or remove annotation layers (see \"Annotation Layers\")\n",
    "- check for overlap with other .json files in a directory folder (see \"check for overlap\")\n",
    "- label cell structures\n",
    "- add base_segments from a list (see \"add segments\")\n",
    "- import annotations from another file (see \"Annotation Import\")\n",
    "- convert from neuroglancer json (see \"Convert From Neuroglancer to eCREST\")\n",
    "    - format itself and save itself as a CREST-style .json\n",
    "    \n"
   ]
  },
  {
   "cell_type": "markdown",
   "id": "6389865b-9c52-4e0d-9261-f94b8ad49784",
   "metadata": {},
   "source": [
    "## 2. Settings definitions\n",
    "\n",
    "Whether you are converting from neuroglancer or creating a new reconstruction, the settings_dict parameters is needed to create CREST json files with correct formatting. \n",
    "- 'save_dir' : the directory where JSON files are saved \n",
    "- 'cred' and 'db_path' : specify the path to the agglomeration database file on your local computer. "
   ]
  },
  {
   "cell_type": "code",
   "execution_count": 5,
   "id": "1e49e4bd-680e-4d3b-9238-2e658542e1b7",
   "metadata": {},
   "outputs": [],
   "source": [
    "path_to_settings_json = '/Users/kperks/Documents/ell-connectome/eCREST-local-files/settings_dict.json'\n",
    "settings_dict = import_settings(path_to_settings_json)"
   ]
  },
  {
   "cell_type": "code",
   "execution_count": 6,
   "id": "45ed2d2c-3972-4525-9832-7006b8fef85f",
   "metadata": {},
   "outputs": [
    {
     "data": {
      "text/plain": [
       "{'save_dir': '/Users/kperks/Library/CloudStorage/GoogleDrive-sawtelllab@gmail.com/My Drive/ELL_connectome/CREST_reconstructions/mg-network',\n",
       " 'max_num_base_added': 1000,\n",
       " 'cell_structures': ['unknown',\n",
       "  'axon',\n",
       "  'basal dendrite',\n",
       "  'apical dendrite',\n",
       "  'dendrite',\n",
       "  'multiple'],\n",
       " 'annotation_points': ['exit volume',\n",
       "  'natural end',\n",
       "  'uncertain',\n",
       "  'pre-synaptic',\n",
       "  'post-synaptic'],\n",
       " 'db_path': '/Users/kperks/Documents/ell-connectome/eCREST-local-files/Mariela_bigquery_exports_agglo_v230111c_16_crest_proofreading_database.db'}"
      ]
     },
     "execution_count": 6,
     "metadata": {},
     "output_type": "execute_result"
    }
   ],
   "source": [
    "settings_dict"
   ]
  },
  {
   "cell_type": "markdown",
   "id": "5e22556b-95c5-4a47-b48a-01799430bf8a",
   "metadata": {},
   "source": [
    "# Proofread using (e)CREST\n",
    "\n",
    "The ```ecrest``` class defined in eCREST_cli.py can be used to proofread base_segment reconstructions enhanced by the agglomeration database.\n",
    "\n",
    "An instance of this class can be initialized with either:\n",
    "- ecrest(segment_id): a \"main_base_id\" in *int* format\n",
    "- ecrest(filepath): an existing CREST .json file\n",
    "- ecrest(segment_id, segment_list): the main_base_id from the neuroglancer file you are converting and a list of base_segments.\n",
    "\n",
    "The ```launch_viewer``` flag default is \"False\" so that you can interact with the contents of a reconstruction without actually opening it visually in a neuroglancer tab. **NOTE**: Some ecrest functions require that the ecrest instance is created with ```launch_viewer==True```."
   ]
  },
  {
   "cell_type": "markdown",
   "id": "a7a9c9ea-4607-4f08-917f-ac0095839a55",
   "metadata": {},
   "source": [
    "## Get base_segments dictionaries "
   ]
  },
  {
   "cell_type": "markdown",
   "id": "c92c1b30-1dba-4d4f-848a-06d086477c19",
   "metadata": {},
   "source": [
    "### Read from file (created with [this Colab notebook](https://colab.research.google.com/drive/19N8taRKeTt_Bgx_yF5AD5ntkU7zy7unc?usp=sharing)) "
   ]
  },
  {
   "cell_type": "code",
   "execution_count": null,
   "id": "0342baa6-6f5a-4c1e-82c0-0e12ca5511cf",
   "metadata": {},
   "outputs": [],
   "source": [
    "# Read list of dictionaries from a JSON file\n",
    "with open(Path(settings_dict['save_dir']) /'Rachel/dictionary_jsons/dictionaries.json', 'r') as json_file: #assumes your save_dir is /mg_network/Rachel/ on your working computer\n",
    "    dict_all = json.load(json_file)\n",
    "  \n",
    "dict_list = dict_all.keys()\n",
    "\n",
    "# Convert lists to sets within each dictionary in data\n",
    "for key, dictionary in dict_all.items():\n",
    "    for sub_key, value in dictionary.items():\n",
    "        if isinstance(value, list):\n",
    "            dictionary[sub_key] = set(value)\n",
    "\n",
    "# Dynamically create dictionaries based on the JSON keys\n",
    "for key, value in dict_all.items():\n",
    "    globals()[key] = value\n",
    "\n",
    "print(dict_list)"
   ]
  },
  {
   "cell_type": "markdown",
   "id": "c186673b-660d-4363-88cf-ed7a306403c3",
   "metadata": {},
   "source": [
    "### Create locally"
   ]
  },
  {
   "cell_type": "code",
   "execution_count": 183,
   "id": "b5eb806a-8cb7-41e3-9022-4062f30b1be5",
   "metadata": {},
   "outputs": [],
   "source": [
    "# create base segment dictionaries to check for duplicates\n",
    "# use manually-defined function in setup for \"get_base_segments_dict, which can check for files with same id)\"\n",
    "base_segments_net = get_base_segments_dict(Path(settings_dict['save_dir'])) \n",
    "base_segments_todo1 = get_base_segments_dict(Path(settings_dict['save_dir'])/'todo/grc_post')#\n",
    "# base_segments_todo2 = get_base_segments_dict(Path(settings_dict['save_dir'])/'todo/mli_post') "
   ]
  },
  {
   "cell_type": "markdown",
   "id": "9bcf9377-3063-45b5-a6eb-eb9fe97f3037",
   "metadata": {},
   "source": [
    "## NEW reconstruction from segment ID\n",
    "\n",
    "If you wanted to start reconstructing a new cell from a main base segment, you would use the following code block to launch.\n",
    "\n",
    "To change the save location you can specify the ```directory_path``` flag in the ```save_cell_graph()``` module"
   ]
  },
  {
   "cell_type": "code",
   "execution_count": 184,
   "id": "cfde92fb-32e3-4e3a-a2d2-36fb55d63864",
   "metadata": {},
   "outputs": [
    {
     "data": {
      "text/plain": [
       "14"
      ]
     },
     "execution_count": 184,
     "metadata": {},
     "output_type": "execute_result"
    }
   ],
   "source": [
    "len(get_cell_filepaths(Path(settings_dict['save_dir']) / 'todo/grc_post'))# mg2_386426114_pre')) # 'Rachel')) #"
   ]
  },
  {
   "cell_type": "code",
   "execution_count": 226,
   "id": "f9da0c55-fe17-4f71-ad45-ddfa28f44a1e",
   "metadata": {
    "scrolled": true
   },
   "outputs": [
    {
     "name": "stdout",
     "output_type": "stream",
     "text": [
      "Creating base segment graph for cell 219363673 Cell Reconstruction\n",
      "all base locations for 23 obtained from SQL database\n",
      "graph created among all_base_segs\n",
      "1 clusters of connected components. Connecting these clusters with nearest base segments.\n",
      "weak clusters connected\n",
      "segments without a location connected\n",
      "1 clusters in graph (note should/would be only 1 if loaded base ID from agglomo fresh)\n",
      "Created a CREST instance for NEW Reconstruction of 219363673. No file saved yet -- save manually.\n",
      "updating viewer status message: Current Base Segment Counts: unknown: 23, axon: 0, basal dendrite: 0, apical dendrite: 0, dendrite: 0, multiple: 0\n",
      "[]\n"
     ]
    }
   ],
   "source": [
    "segment_id = '219363673'#'366760979'#     283375247\n",
    "crest = ecrest(settings_dict,segment_id = segment_id, launch_viewer=True)\n",
    "\n",
    "crest.change_key_binding({\"alt+mousedown0\" : \"add-or-remove-seg\"})\n",
    "\n",
    "crest.add_endpoint_annotation_layers(['soma'],link=True) # spine_inputs\n",
    "print(crest.get_ctype('manual'))\n",
    "\n",
    "### check for duplicates in working directories"
   ]
  },
  {
   "cell_type": "code",
   "execution_count": 227,
   "id": "8d116c25-a7a2-4539-9638-42e9a6343931",
   "metadata": {
    "scrolled": true
   },
   "outputs": [
    {
     "name": "stdout",
     "output_type": "stream",
     "text": [
      "\n",
      "overlap in main network:\n"
     ]
    },
    {
     "data": {
      "text/html": [
       "<div>\n",
       "<style scoped>\n",
       "    .dataframe tbody tr th:only-of-type {\n",
       "        vertical-align: middle;\n",
       "    }\n",
       "\n",
       "    .dataframe tbody tr th {\n",
       "        vertical-align: top;\n",
       "    }\n",
       "\n",
       "    .dataframe thead th {\n",
       "        text-align: right;\n",
       "    }\n",
       "</style>\n",
       "<table border=\"1\" class=\"dataframe\">\n",
       "  <thead>\n",
       "    <tr style=\"text-align: right;\">\n",
       "      <th></th>\n",
       "      <th>self</th>\n",
       "      <th>dups</th>\n",
       "      <th>overlap-percent</th>\n",
       "      <th>number_seg_lap</th>\n",
       "    </tr>\n",
       "  </thead>\n",
       "  <tbody>\n",
       "    <tr>\n",
       "      <th>534</th>\n",
       "      <td>219363673</td>\n",
       "      <td>cell_graph_142617839__2024-06-25 17.52.04.json</td>\n",
       "      <td>0.069277</td>\n",
       "      <td>23.0</td>\n",
       "    </tr>\n",
       "  </tbody>\n",
       "</table>\n",
       "</div>"
      ],
      "text/plain": [
       "          self                                            dups  \\\n",
       "534  219363673  cell_graph_142617839__2024-06-25 17.52.04.json   \n",
       "\n",
       "     overlap-percent  number_seg_lap  \n",
       "534         0.069277            23.0  "
      ]
     },
     "metadata": {},
     "output_type": "display_data"
    },
    {
     "name": "stdout",
     "output_type": "stream",
     "text": [
      "overlap in todo folder:\n"
     ]
    },
    {
     "data": {
      "text/html": [
       "<div>\n",
       "<style scoped>\n",
       "    .dataframe tbody tr th:only-of-type {\n",
       "        vertical-align: middle;\n",
       "    }\n",
       "\n",
       "    .dataframe tbody tr th {\n",
       "        vertical-align: top;\n",
       "    }\n",
       "\n",
       "    .dataframe thead th {\n",
       "        text-align: right;\n",
       "    }\n",
       "</style>\n",
       "<table border=\"1\" class=\"dataframe\">\n",
       "  <thead>\n",
       "    <tr style=\"text-align: right;\">\n",
       "      <th></th>\n",
       "      <th>self</th>\n",
       "      <th>dups</th>\n",
       "      <th>overlap-percent</th>\n",
       "      <th>number_seg_lap</th>\n",
       "    </tr>\n",
       "  </thead>\n",
       "  <tbody>\n",
       "  </tbody>\n",
       "</table>\n",
       "</div>"
      ],
      "text/plain": [
       "Empty DataFrame\n",
       "Columns: [self, dups, overlap-percent, number_seg_lap]\n",
       "Index: []"
      ]
     },
     "metadata": {},
     "output_type": "display_data"
    }
   ],
   "source": [
    "# print(f'this file is: {cell_filepaths[cell_id].name}')\n",
    "print('')\n",
    "# actually check for duplicates of current reconstruction with base segments dictionary\n",
    "# to save time, this line can be run alone after initializing base_segments dictionary above\n",
    "print('overlap in main network:'); df = crest.check_duplicates(base_segments_net); display(df)\n",
    "print('overlap in todo folder:'); df = crest.check_duplicates(base_segments_todo1); display(df)\n",
    "# print('overlap in todo folder:'); df = crest.check_duplicates(base_segments_todo2); display(df)"
   ]
  },
  {
   "cell_type": "code",
   "execution_count": 92,
   "id": "27f62912-30f1-4c24-8859-116ee0be799e",
   "metadata": {},
   "outputs": [
    {
     "name": "stdout",
     "output_type": "stream",
     "text": [
      "Saved cell 362444443 reconstruction locally at 2024-11-21 13.48.05\n"
     ]
    }
   ],
   "source": [
    "# crest.save_cell_graph(directory_path = Path(settings_dict['save_dir']).parent / 'Spine_Density_Annotation/random_spines')"
   ]
  },
  {
   "cell_type": "markdown",
   "id": "c0fe5da1-caca-4c63-973f-6acbc7921439",
   "metadata": {},
   "source": [
    "### define cell type and save"
   ]
  },
  {
   "cell_type": "code",
   "execution_count": 196,
   "id": "95089176-2759-4080-9158-3ed12036c2db",
   "metadata": {},
   "outputs": [],
   "source": [
    "cell_type = 'sg1' # Assign the cell type then run the code cell\n",
    "\n",
    "crest.define_ctype(cell_type,\"manual\")"
   ]
  },
  {
   "cell_type": "code",
   "execution_count": 198,
   "id": "1927d429-28b6-40e3-92dc-9af06024c2b8",
   "metadata": {},
   "outputs": [
    {
     "name": "stdout",
     "output_type": "stream",
     "text": [
      "Saved cell 44180995 reconstruction locally at 2025-02-20 11.57.35\n"
     ]
    }
   ],
   "source": [
    "crest.save_cell_graph() #directory_path = Path(settings_dict['save_dir']).parent.parent / 'VAST/VAST_consolidate_reconstructed/json_states/pf_post')"
   ]
  },
  {
   "cell_type": "code",
   "execution_count": 16,
   "id": "19ab8b97-55f5-4afc-ac50-e4113622b15f",
   "metadata": {},
   "outputs": [
    {
     "data": {
      "text/plain": [
       "PosixPath('/Users/kperks/Library/CloudStorage/GoogleDrive-sawtelllab@gmail.com/My Drive/ELL_connectome/VAST/json_states/pf_post')"
      ]
     },
     "execution_count": 16,
     "metadata": {},
     "output_type": "execute_result"
    }
   ],
   "source": [
    "Path(settings_dict['save_dir']).parent.parent / 'VAST/json_states/pf_post'"
   ]
  },
  {
   "cell_type": "markdown",
   "id": "e55189cf-a176-47e3-98a0-58def36c26f0",
   "metadata": {
    "tags": []
   },
   "source": [
    "\n",
    "## EDIT reconstruction from file\n",
    "\n",
    "If you wanted to edit a reconstruction from an existing file, you would use the following code block to launch.\n",
    "\n",
    "Specify the cell_id and the path to the directory that cell is in. \n",
    "\n",
    "> NOTE: You can also directly copy paste the full filepath to the cell you want to open and pass it to the ```filepath``` flag.  \n",
    "In that case, the only code you need is crest = ecrest(settings_dict,filepath= [*paste filepath here*], launch_viewer=True)\n",
    "\n",
    "To change the save location you can specify the ```directory_path``` flag in the ```save_cell_graph()``` module\n",
    "\n",
    "> To overwrite a file (not recommended), specify ```(directory_path = cell_filepaths[cell_id].parent, file_name = cell_filepaths[cell_id].name)```"
   ]
  },
  {
   "cell_type": "code",
   "execution_count": 163,
   "id": "a333950b-1e56-4c8c-ba6a-cc3092b78340",
   "metadata": {},
   "outputs": [
    {
     "data": {
      "text/plain": [
       "PosixPath('/Users/kperks/Library/CloudStorage/GoogleDrive-sawtelllab@gmail.com/My Drive/ELL_connectome/CREST_reconstructions')"
      ]
     },
     "execution_count": 163,
     "metadata": {},
     "output_type": "execute_result"
    }
   ],
   "source": [
    "Path(settings_dict['save_dir']).parent"
   ]
  },
  {
   "cell_type": "code",
   "execution_count": 187,
   "id": "6c4326ca-859e-46c8-b34f-092f94f2af80",
   "metadata": {},
   "outputs": [],
   "source": [
    "directory_path = Path(settings_dict['save_dir'])#Path(settings_dict['save_dir']).parent / 'Spine_Density_Annotation/random_spines'#.parent / 'skin_RF'#/'Rachel' # specify the directory path\n",
    "\n",
    "cell_filepaths = get_cell_filepaths(directory_path) # gets filepaths for all cells in a directory"
   ]
  },
  {
   "cell_type": "code",
   "execution_count": 228,
   "id": "2f99b8e2-b0e4-4f54-b91b-816f0c7599e9",
   "metadata": {
    "scrolled": true
   },
   "outputs": [
    {
     "name": "stdout",
     "output_type": "stream",
     "text": [
      "updating viewer status message: Current Base Segment Counts: unknown: 247, axon: 36, basal dendrite: 29, apical dendrite: 4, dendrite: 0, multiple: 16\n",
      "/Users/kperks/Library/CloudStorage/GoogleDrive-sawtelllab@gmail.com/My Drive/ELL_connectome/CREST_reconstructions/mg-network/cell_graph_142617839__2024-06-25 17.52.04.json\n"
     ]
    },
    {
     "data": {
      "text/plain": [
       "Map({\"dblclick0\": \"add-or-remove-seg\", \"alt+mousedown2\": \"mark-branch-in-colour\", \"shift+mousedown2\": \"change-anchor-seg\", \"alt+mousedown0\": \"add-or-remove-seg\"})"
      ]
     },
     "execution_count": 228,
     "metadata": {},
     "output_type": "execute_result"
    }
   ],
   "source": [
    "cell_id = '142617839' # specify the cell id\n",
    "\n",
    "crest = ecrest(settings_dict,filepath= cell_filepaths[cell_id], launch_viewer=True) #\n",
    "print(cell_filepaths[cell_id])\n",
    "\n",
    "crest.change_key_binding({\"alt+mousedown0\" : \"add-or-remove-seg\"})"
   ]
  },
  {
   "cell_type": "code",
   "execution_count": null,
   "id": "5a1b9c1e-60a5-4dd2-b1c3-55ad5f9b34b6",
   "metadata": {},
   "outputs": [],
   "source": [
    "finished_axons = [364689540,636004167,283546587,285761792,630355985,638373058,290280494]"
   ]
  },
  {
   "cell_type": "code",
   "execution_count": 202,
   "id": "db32a14d-9ee7-4d0a-a212-655a73c9e553",
   "metadata": {},
   "outputs": [
    {
     "name": "stdout",
     "output_type": "stream",
     "text": [
      "manual type: mg1\n",
      "auto type: []\n"
     ]
    }
   ],
   "source": [
    "t = crest.get_ctype('manual'); print(f'manual type: {t}')\n",
    "t = crest.get_ctype('auto'); print(f'auto type: {t}')"
   ]
  },
  {
   "cell_type": "code",
   "execution_count": 203,
   "id": "a29c32b7-7514-4765-bd3a-a5bd42788ea5",
   "metadata": {},
   "outputs": [
    {
     "name": "stdout",
     "output_type": "stream",
     "text": [
      "this file is: cell_graph_299496636__2023-08-01 16.35.22.json\n",
      "\n",
      "overlap in main network:\n"
     ]
    },
    {
     "data": {
      "text/html": [
       "<div>\n",
       "<style scoped>\n",
       "    .dataframe tbody tr th:only-of-type {\n",
       "        vertical-align: middle;\n",
       "    }\n",
       "\n",
       "    .dataframe tbody tr th {\n",
       "        vertical-align: top;\n",
       "    }\n",
       "\n",
       "    .dataframe thead th {\n",
       "        text-align: right;\n",
       "    }\n",
       "</style>\n",
       "<table border=\"1\" class=\"dataframe\">\n",
       "  <thead>\n",
       "    <tr style=\"text-align: right;\">\n",
       "      <th></th>\n",
       "      <th>self</th>\n",
       "      <th>dups</th>\n",
       "      <th>overlap-percent</th>\n",
       "      <th>number_seg_lap</th>\n",
       "    </tr>\n",
       "  </thead>\n",
       "  <tbody>\n",
       "    <tr>\n",
       "      <th>1542</th>\n",
       "      <td>299496636</td>\n",
       "      <td>cell_graph_299496636__2023-08-01 16.35.22.json</td>\n",
       "      <td>1.0</td>\n",
       "      <td>7489.0</td>\n",
       "    </tr>\n",
       "  </tbody>\n",
       "</table>\n",
       "</div>"
      ],
      "text/plain": [
       "           self                                            dups  \\\n",
       "1542  299496636  cell_graph_299496636__2023-08-01 16.35.22.json   \n",
       "\n",
       "      overlap-percent  number_seg_lap  \n",
       "1542              1.0          7489.0  "
      ]
     },
     "metadata": {},
     "output_type": "display_data"
    },
    {
     "name": "stdout",
     "output_type": "stream",
     "text": [
      "overlap in todo folder:\n"
     ]
    },
    {
     "data": {
      "text/html": [
       "<div>\n",
       "<style scoped>\n",
       "    .dataframe tbody tr th:only-of-type {\n",
       "        vertical-align: middle;\n",
       "    }\n",
       "\n",
       "    .dataframe tbody tr th {\n",
       "        vertical-align: top;\n",
       "    }\n",
       "\n",
       "    .dataframe thead th {\n",
       "        text-align: right;\n",
       "    }\n",
       "</style>\n",
       "<table border=\"1\" class=\"dataframe\">\n",
       "  <thead>\n",
       "    <tr style=\"text-align: right;\">\n",
       "      <th></th>\n",
       "      <th>self</th>\n",
       "      <th>dups</th>\n",
       "      <th>overlap-percent</th>\n",
       "      <th>number_seg_lap</th>\n",
       "    </tr>\n",
       "  </thead>\n",
       "  <tbody>\n",
       "    <tr>\n",
       "      <th>12</th>\n",
       "      <td>299496636</td>\n",
       "      <td>cell_graph_298368483__2025-02-20 11.42.23.json</td>\n",
       "      <td>1.0</td>\n",
       "      <td>1.0</td>\n",
       "    </tr>\n",
       "  </tbody>\n",
       "</table>\n",
       "</div>"
      ],
      "text/plain": [
       "         self                                            dups  \\\n",
       "12  299496636  cell_graph_298368483__2025-02-20 11.42.23.json   \n",
       "\n",
       "    overlap-percent  number_seg_lap  \n",
       "12              1.0             1.0  "
      ]
     },
     "metadata": {},
     "output_type": "display_data"
    }
   ],
   "source": [
    "# check for duplicates in working directories\n",
    "\n",
    "print(f'this file is: {cell_filepaths[cell_id].name}')\n",
    "print('')\n",
    "# actually check for duplicates of current reconstruction with base segments dictionary\n",
    "# to save time, this line can be run alone after initializing base_segments dictionary above\n",
    "print('overlap in main network:'); df = crest.check_duplicates(base_segments_net); display(df)\n",
    "print('overlap in todo folder:'); df = crest.check_duplicates(base_segments_todo1); display(df)\n",
    "# print('overlap in todo folder:'); df = crest.check_duplicates(base_segments_todo2); display(df)"
   ]
  },
  {
   "cell_type": "code",
   "execution_count": 179,
   "id": "0a924f54-44b4-4b16-83ed-77de1c24a977",
   "metadata": {},
   "outputs": [
    {
     "name": "stdout",
     "output_type": "stream",
     "text": [
      "grc\n"
     ]
    }
   ],
   "source": [
    "crest.add_endpoint_annotation_layers(['soma'],link=True) # spine_inputs\n",
    "print(crest.get_ctype('manual'))"
   ]
  },
  {
   "cell_type": "code",
   "execution_count": 177,
   "id": "32e0c30a-36c7-49ef-9728-58fa3f157f0d",
   "metadata": {},
   "outputs": [],
   "source": [
    "cell_type = 'grc' # Assign the cell type then run the code cell\n",
    "\n",
    "crest.define_ctype(cell_type,\"manual\")"
   ]
  },
  {
   "cell_type": "code",
   "execution_count": 204,
   "id": "a7b8c9ea-2dd1-4c52-a81c-cdf1337ff1e1",
   "metadata": {},
   "outputs": [
    {
     "name": "stdout",
     "output_type": "stream",
     "text": [
      "Saved cell 299496636 reconstruction locally at 2025-02-20 12.01.47\n"
     ]
    }
   ],
   "source": [
    "# SAVE YOUR WORK!\n",
    "\n",
    "crest.save_cell_graph() # Default location is Path(settings_dict['save_dir'])"
   ]
  },
  {
   "cell_type": "code",
   "execution_count": 9,
   "id": "9f9ea0dd-bfaf-4d30-8b93-90b18a4a871b",
   "metadata": {},
   "outputs": [
    {
     "data": {
      "text/plain": [
       "PosixPath('/Users/kperks/Library/CloudStorage/GoogleDrive-sawtelllab@gmail.com/My Drive/ELL_connectome/Hannah/todo')"
      ]
     },
     "execution_count": 9,
     "metadata": {},
     "output_type": "execute_result"
    }
   ],
   "source": [
    "# directory_path = Path(settings_dict['save_dir']).parent.parent / 'Hannah/todo'"
   ]
  },
  {
   "cell_type": "code",
   "execution_count": 67,
   "id": "7206f227-a18e-40b2-8ed7-9163719d8bc6",
   "metadata": {},
   "outputs": [
    {
     "name": "stdout",
     "output_type": "stream",
     "text": [
      "Saved cell 463095118 reconstruction locally at 2024-12-03 16.28.31\n"
     ]
    }
   ],
   "source": [
    "# do not use unless certain - this overwrites the original file rather than making a new one\n",
    "crest.save_cell_graph(directory_path = cell_filepaths[cell_id].parent, file_name = cell_filepaths[cell_id].name)"
   ]
  },
  {
   "cell_type": "markdown",
   "id": "0e634655-2318-4eee-85e4-a972c0eac064",
   "metadata": {},
   "source": [
    "## Define Cell type\n",
    "\n",
    "The cell type strings to use are:  \n",
    "aff, grc-d, grc-s, sgx1, sgx2, sg1, sg2, mg1, mg2, lf, lg, uk, fov\n",
    "\n",
    "You can also check the current cell type assigned by using ```crest.get_ctype(\"manual\")```"
   ]
  },
  {
   "cell_type": "code",
   "execution_count": null,
   "id": "96728c2f-cc5c-4427-8e10-66708ff172f0",
   "metadata": {},
   "outputs": [],
   "source": [
    "cell_type = 'grc' # Assign the cell type then run the code cell\n",
    "\n",
    "crest.define_ctype(cell_type,\"manual\")"
   ]
  },
  {
   "cell_type": "markdown",
   "id": "5dd72f91-fd9d-4e55-ada6-2f1b81e124d1",
   "metadata": {},
   "source": [
    "## Change Function Keybindings\n",
    "\n",
    "speficy any keybindings that you want in ```keybindings_dict``` and pass that to the class module ```change_key_binding```. The keybinding mapping will be returned. "
   ]
  },
  {
   "cell_type": "code",
   "execution_count": null,
   "id": "fa3b913f-79ad-4cad-b181-d9116dbfe7a9",
   "metadata": {},
   "outputs": [],
   "source": [
    "keybindings_dict = {\n",
    "    \"alt+mousedown0\" : \"add-or-remove-seg\"\n",
    "}\n",
    "\n",
    "crest.change_key_binding(keybindings_dict)"
   ]
  },
  {
   "cell_type": "markdown",
   "id": "25a5f6a5-ba38-419c-89f2-67839cf3cf05",
   "metadata": {},
   "source": [
    "## Check for overlap with other .json files in a directory\n",
    "\n",
    "Use the ecrest module ```get_base_segments_dict``` to get a dictionary of {'cell_id' : 'base_segments'} for all .json files in a folder.  \n",
    "Then use the ecrest module ```check_duplicates``` to get a dataframe of any instances of overlap between that cell and the .json files from the folder.\n",
    "\n",
    "*Tips*:\n",
    "- You do ***not*** need to run ```get_base_segments_dict``` every time. For each new crest instance you create, you can just skip to the ```check_duplicates``` step.\n",
    "- You can create multiple dictionaries to check against... you can create a separate line of code for each. "
   ]
  },
  {
   "cell_type": "code",
   "execution_count": null,
   "id": "18266060-8c3d-45f8-8e0c-606dcca45d17",
   "metadata": {},
   "outputs": [],
   "source": [
    "base_segments_net = get_base_segments_dict(Path(settings_dict['save_dir']))\n",
    "base_segments_todo = get_base_segments_dict(Path(settings_dict['save_dir']) / 'kp/392042360_grc-s_pre')"
   ]
  },
  {
   "cell_type": "code",
   "execution_count": null,
   "id": "1276834c-034f-4723-a0c3-3ccc34888e23",
   "metadata": {},
   "outputs": [],
   "source": [
    "print('overlap in main network:'); df = crest.check_duplicates(base_segments_net); display(df)\n",
    "print('overlap in todo folder:'); df = crest.check_duplicates(base_segments_todo); display(df)"
   ]
  },
  {
   "cell_type": "markdown",
   "id": "4e195932-6784-4259-8012-b44f447dc5dd",
   "metadata": {},
   "source": [
    "## Add/Remove Annotation layers\n",
    "\n",
    "Because of how CREST saves the .json state, annotation layers need to be added/removed programatically rather than via the neuroglancer viewer directly.\n",
    "\n",
    "Comment/uncomment the following two module implementations as needed."
   ]
  },
  {
   "cell_type": "code",
   "execution_count": null,
   "id": "3c5625ae-aa2e-4925-904a-b1403bbd7f9f",
   "metadata": {},
   "outputs": [],
   "source": [
    "crest.add_endpoint_annotation_layers(['skeleton'])\n",
    "\n",
    "# crest.del_endpoint_annotation_layers(['soma'])"
   ]
  },
  {
   "cell_type": "markdown",
   "id": "4a03c66d-b78d-49fd-a8e7-e8fdecb2fd79",
   "metadata": {},
   "source": [
    "## spine density annotation functions\n",
    "\n",
    "If you want to be able to move annotations, don't change alt+mouse0 keybinding"
   ]
  },
  {
   "cell_type": "code",
   "execution_count": null,
   "id": "52e4e062-0486-4eb9-9260-f500a29279b5",
   "metadata": {},
   "outputs": [],
   "source": [
    "crest.add_endpoint_annotation_layers(['volume'],link=False) # spine_inputs"
   ]
  },
  {
   "cell_type": "code",
   "execution_count": null,
   "id": "eb655dad-80c7-44fa-9626-e42dd010e1a2",
   "metadata": {},
   "outputs": [],
   "source": [
    "l = 5000 # distance along dendrite in nm\n",
    "\n",
    "crest.add_endpoint_annotation('spineD loc',to_vox=False, center = [17497, 6482, 2001], radii = [l/16,l/16,l/30]) # 'center' is in middle of dendrite in voxels"
   ]
  },
  {
   "cell_type": "markdown",
   "id": "cece8af1-1542-4582-bbee-ee3855084eed",
   "metadata": {},
   "source": [
    "## SAVE YOUR WORK!"
   ]
  },
  {
   "cell_type": "code",
   "execution_count": null,
   "id": "82beafa5-733d-415f-a9b4-f23d8f7d1eb4",
   "metadata": {},
   "outputs": [],
   "source": [
    "crest.save_cell_graph() # Default location is Path(settings_dict['save_dir'])"
   ]
  },
  {
   "cell_type": "markdown",
   "id": "4a4acea1-cb12-4d27-b988-f17071919886",
   "metadata": {},
   "source": [
    "# Other"
   ]
  },
  {
   "cell_type": "markdown",
   "id": "ab35341e-d952-4dbe-bcd0-54a6ded37a14",
   "metadata": {},
   "source": [
    "## get random location within bbox"
   ]
  },
  {
   "cell_type": "code",
   "execution_count": 87,
   "id": "8fe44114-b28c-4070-a66e-2a60c2297a74",
   "metadata": {},
   "outputs": [
    {
     "name": "stdout",
     "output_type": "stream",
     "text": [
      "17901 7246 2252\n"
     ]
    }
   ],
   "source": [
    "x_bounds = (10500, 22500)\n",
    "y_bounds = (5000, 10000)#14744)\n",
    "z_bounds = (1000, 2500)\n",
    "\n",
    "random_point = random_location_3d(x_bounds, y_bounds, z_bounds)\n",
    "print(random_point[0],random_point[1],random_point[2])"
   ]
  },
  {
   "cell_type": "markdown",
   "id": "912430b3-af66-4d25-b2cc-cf70bb445d19",
   "metadata": {
    "tags": [],
    "toc-hr-collapsed": true
   },
   "source": [
    "## search for synapse by segment annotated"
   ]
  },
  {
   "cell_type": "code",
   "execution_count": null,
   "id": "fa5fb8c6-5a69-4574-a44f-f4296bbea676",
   "metadata": {},
   "outputs": [],
   "source": [
    "directory_path = Path(settings_dict['save_dir']) #/ 'kp/pfs'#/ 'volume-subsample-all/in_progress'  ## specify the directory path\n",
    "cell_filepaths = get_cell_filepaths(directory_path) # gets filepaths for all cells in a directory\n",
    "# cell_filepaths = cell_filepaths_mainnet"
   ]
  },
  {
   "cell_type": "code",
   "execution_count": null,
   "id": "f2662ec5-5cde-4b86-989f-5e4a683cef73",
   "metadata": {},
   "outputs": [],
   "source": [
    "         \n",
    "syn_type = 'post-synaptic' #'spine_inputs' #\n",
    "segs_to_find = ['564132646','565215897']\n",
    "cells_todo = list(cell_filepaths.keys())"
   ]
  },
  {
   "cell_type": "code",
   "execution_count": null,
   "id": "002033ea-d83d-4c74-8f49-cbce9b2ea333",
   "metadata": {},
   "outputs": [],
   "source": [
    "vx_sizes = [16, 16, 30]\n",
    "\n",
    "for c_id in cells_todo:\n",
    "    crest = ecrest(settings_dict,filepath= cell_filepaths[c_id], launch_viewer=False)\n",
    "    for syn_ in crest.cell_data['end_points'][syn_type]:\n",
    "        try:\n",
    "            if syn_[3] in segs_to_find:\n",
    "                print(f'in cell {c_id}, segment {syn_[3]} is at synapse location {array([int(syn_[i]/vx_sizes[i]) for i in range(3)])}')\n",
    "\n",
    "        except IndexError as msg:\n",
    "            print(msg, f'for cell {c_id} synapse at {array([int(syn_[i]/vx_sizes[i]) for i in range(3)])} has no segment id')"
   ]
  },
  {
   "cell_type": "markdown",
   "id": "827c883d-fbfd-4f70-bb22-043da2b3009d",
   "metadata": {},
   "source": [
    "## cell types for all files in directory"
   ]
  },
  {
   "cell_type": "code",
   "execution_count": null,
   "id": "e5ba89b1-c92b-4bd0-9538-84b27cecee8b",
   "metadata": {},
   "outputs": [],
   "source": [
    "nodefiles = get_cell_filepaths(Path(settings_dict['save_dir'])) "
   ]
  },
  {
   "cell_type": "code",
   "execution_count": null,
   "id": "c57f4d5f-3050-4aa3-a46c-d226465e27e1",
   "metadata": {},
   "outputs": [],
   "source": [
    "cell_type = {}\n",
    "not_typed = []\n",
    "for x,f in nodefiles.items():\n",
    "    cell = ecrest(settings_dict,filepath = f,launch_viewer=False)\n",
    "    cell_type[x] = cell.get_ctype('manual') \n",
    "    if (cell.get_ctype('manual') == []) | (cell.get_ctype('manual') == ''):\n",
    "        cell_type[x]=''\n",
    "        not_typed.append(x)# print(f'cell {x} is not cell-typed in json')\n",
    "        \n",
    "print('the following cells are not typed in the main network')\n",
    "print(not_typed)        \n",
    "        "
   ]
  },
  {
   "cell_type": "markdown",
   "id": "60242e93-2010-4d64-a549-f83c7b6bbbed",
   "metadata": {},
   "source": [
    "## if get assertion error and won't save"
   ]
  },
  {
   "cell_type": "code",
   "execution_count": null,
   "id": "a13a8675-d224-4282-a994-22d4b3f54267",
   "metadata": {},
   "outputs": [],
   "source": [
    "seglist = crest.cell_data['base_segments']['unknown']\n",
    "\n",
    "anchor = crest.cell_data['metadata']['main_seg']['base']\n",
    "\n",
    "crest2 = ecrest(settings_dict,segment_id = anchor, segment_list = seglist, launch_viewer=True)\n",
    "\n",
    "# SAVE YOUR WORK!\n",
    "\n",
    "crest2.cell_data['end_points']=crest.cell_data['end_points']\n",
    "\n",
    "\n",
    "crest2.load_annotation_layer_points()\n",
    "\n",
    "crest2.save_cell_graph()"
   ]
  },
  {
   "cell_type": "markdown",
   "id": "29afc759-33ae-4796-be14-64cf25d0e6f9",
   "metadata": {},
   "source": [
    "## volume of annotation points"
   ]
  },
  {
   "cell_type": "code",
   "execution_count": null,
   "id": "bfc95dfc-c9ea-40b9-b0a3-78d4f5996566",
   "metadata": {},
   "outputs": [],
   "source": [
    "neuroglancer_path = Path('/Users/kperks/Library/CloudStorage/GoogleDrive-kperky@gmail.com/.shortcut-targets-by-id/16q1BuOMfD2ta0Cwq8CjMlRe4rDvbuWC5/ELL_connectome/CREST_reconstructions/mg-network/Nate_neuroglancer/pf_synapses/pf_282137001_213811_154407_44715.json')\n",
    "# neuroglancer_path = '/Users/kperks/Library/CloudStorage/GoogleDrive-kperky@gmail.com/.shortcut-targets-by-id/16q1BuOMfD2ta0Cwq8CjMlRe4rDvbuWC5/ELL_connectome/CREST_reconstructions/mg-network/Nate_neuroglancer/synaptic_labeling/finished'\n",
    "# filename = '387850816_type2spectrum_nbs.json'\n",
    "# neuroglancer_path = Path('/Users/kperks/Downloads/grc_483610898.json') # Path(neuroglancer_path) / filename # \n",
    "\n",
    "with open(Path(neuroglancer_path), 'r') as myfile: # 'p' is the dirpath and 'f' is the filename from the created 'd' dictionary\n",
    "    neuroglancer_data = json.load(myfile)"
   ]
  },
  {
   "cell_type": "code",
   "execution_count": null,
   "id": "590a2fc4-b1c9-4c1e-8618-677db2e7610c",
   "metadata": {},
   "outputs": [],
   "source": [
    "from scipy.spatial import ConvexHull\n",
    "# hull_of_df1 = ConvexHull(df1)"
   ]
  },
  {
   "cell_type": "code",
   "execution_count": null,
   "id": "b085bd45-c2b2-4b73-92a4-853a24b8d05d",
   "metadata": {},
   "outputs": [],
   "source": [
    "nl_ = 'terminals'\n",
    "neuroglancer_layer = next((item for item in neuroglancer_data['layers'] if item[\"name\"] == nl_), None)\n",
    "df_points_terminal = pd.DataFrame([[v['point'][0]*16/1000,v['point'][1]*16/1000,v['point'][2]*30/1000] for v in neuroglancer_layer['annotations']] ,columns=['x','y','z'])\n",
    "hull_terminal = ConvexHull(df_points_terminal)\n",
    "\n",
    "nl_ = 'spines'\n",
    "neuroglancer_layer = next((item for item in neuroglancer_data['layers'] if item[\"name\"] == nl_), None)\n",
    "df_points_spine = pd.DataFrame([[v['point'][0]*16/1000,v['point'][1]*16/1000,v['point'][2]*30/1000] for v in neuroglancer_layer['annotations']] ,columns=['x','y','z'])\n",
    "hull_spine = ConvexHull(df_points_spine)"
   ]
  },
  {
   "cell_type": "code",
   "execution_count": null,
   "id": "be4da6b4-41e1-432b-b195-b879d08b2e33",
   "metadata": {},
   "outputs": [],
   "source": [
    "%matplotlib ipympl"
   ]
  },
  {
   "cell_type": "code",
   "execution_count": null,
   "id": "5f9f2c28-5ae4-4a01-b35a-e6d373cbbc50",
   "metadata": {},
   "outputs": [],
   "source": [
    "fig = plt.figure()\n",
    "ax = fig.add_subplot(111, projection='3d')\n",
    "\n",
    "ax.scatter(df_points_terminal['x'], df_points_terminal['y'], df_points_terminal['z'],color='black')\n",
    "for i in hull_terminal.simplices:\n",
    "    plt.plot(hull_terminal.points[i,0], hull_terminal.points[i,1], hull_terminal.points[i,2], 'r-')\n",
    "\n",
    "ax.scatter(df_points_spine['x'], df_points_spine['y'], df_points_spine['z'],color='black')\n",
    "for i in hull_spine.simplices:\n",
    "    plt.plot(hull_spine.points[i,0], hull_spine.points[i,1], hull_spine.points[i,2], 'g-')\n",
    "\n"
   ]
  },
  {
   "cell_type": "code",
   "execution_count": null,
   "id": "f441cc23-8474-4c6f-87f8-ac2531178f03",
   "metadata": {},
   "outputs": [],
   "source": [
    "plt.close('all')"
   ]
  },
  {
   "cell_type": "code",
   "execution_count": null,
   "id": "1d470115-4208-476d-b636-49ee3da65191",
   "metadata": {},
   "outputs": [],
   "source": [
    "hull_spine.volume"
   ]
  },
  {
   "cell_type": "code",
   "execution_count": null,
   "id": "bf2626df-e301-40fe-a511-da37bed75929",
   "metadata": {},
   "outputs": [],
   "source": [
    "hull_terminal.volume"
   ]
  },
  {
   "cell_type": "markdown",
   "id": "699c6a79-6903-4341-b7da-a902bfc81a6f",
   "metadata": {},
   "source": [
    "## eCREST from json segments"
   ]
  },
  {
   "cell_type": "markdown",
   "id": "da8e3568-6113-413b-b3be-054a3256c602",
   "metadata": {},
   "source": [
    "### neuroglancer file"
   ]
  },
  {
   "cell_type": "code",
   "execution_count": 165,
   "id": "7f91ddb4-9fb1-490a-80e4-5e2993467880",
   "metadata": {},
   "outputs": [],
   "source": [
    "# neuroglancer_path = Path(settings_dict['save_dir']) / 'Nate_neuroglancer/synaptic_labeling/finished'\n",
    "neuroglancer_path = '/Users/kperks/Library/CloudStorage/GoogleDrive-sawtelllab@gmail.com/My Drive/ELL_connectome/MolecularLayerModel_Michal/axons'\n",
    "filename = 'axon_gca_363342810.json' #'386178187_mg_nbs.json'\n",
    "neuroglancer_path = Path(neuroglancer_path) / filename # Path('/Users/kperks/Downloads/grc_483610898.json') # \n",
    "\n",
    "with open(Path(neuroglancer_path), 'r') as myfile: # 'p' is the dirpath and 'f' is the filename from the created 'd' dictionary\n",
    "    neuroglancer_data = json.load(myfile)\n",
    "\n",
    "segmentation_layer = next((item for item in neuroglancer_data['layers'] if item[\"source\"] == 'brainmaps://10393113184:ell:roi450um_seg32fb16fb_220930'), None)\n",
    "base_segment_list_ng = set(segmentation_layer['segments'])\n",
    "\n",
    "base_segment_list_ng = list(set([bs for bs in base_segment_list_ng if '!' not in bs]))# -set(['283547027']))"
   ]
  },
  {
   "cell_type": "markdown",
   "id": "95d004dc-0fca-454f-a3b9-01be695e3275",
   "metadata": {},
   "source": [
    "### initiate cell if not already a crest file"
   ]
  },
  {
   "cell_type": "code",
   "execution_count": 166,
   "id": "aba90c2c-1a39-48fd-af31-7c74f51f03e3",
   "metadata": {},
   "outputs": [
    {
     "name": "stdout",
     "output_type": "stream",
     "text": [
      "Creating base segment graph for cell 363342810 Cell Reconstruction\n",
      "all base locations for 283 obtained from SQL database\n",
      "graph created among all_base_segs\n",
      "275 clusters of connected components. Connecting these clusters with nearest base segments.\n",
      "weak clusters connected\n",
      "segments without a location connected\n",
      "1 clusters in graph (note should/would be only 1 if loaded base ID from agglomo fresh)\n",
      "Created a CREST instance for NEW Reconstruction of 363342810. No file saved yet -- save manually.\n",
      "updating viewer status message: Current Base Segment Counts: unknown: 283, axon: 0, basal dendrite: 0, apical dendrite: 0, dendrite: 0, multiple: 0\n"
     ]
    }
   ],
   "source": [
    "segment_id = filename.split('_')[2].split('.')[0]\n",
    "crest = ecrest(settings_dict, segment_id = segment_id, segment_list = base_segment_list_ng, launch_viewer=True)"
   ]
  },
  {
   "cell_type": "code",
   "execution_count": null,
   "id": "f1317024-117d-467f-a165-e0e54f75b652",
   "metadata": {},
   "outputs": [],
   "source": []
  },
  {
   "cell_type": "code",
   "execution_count": 167,
   "id": "5f7872ff-20ad-4cc2-b9eb-7cf3e645f4f8",
   "metadata": {},
   "outputs": [],
   "source": [
    "crest.add_endpoint_annotation_layers(['skel','branch_traced'])\n",
    "\n",
    "# crest.del_endpoint_annotation_layers(['Base Segment Merger'])"
   ]
  },
  {
   "cell_type": "code",
   "execution_count": 93,
   "id": "ccfc4df4-d76d-460e-abd5-46974af12c95",
   "metadata": {},
   "outputs": [],
   "source": [
    "crest.load_annotation_layer_points()"
   ]
  },
  {
   "cell_type": "markdown",
   "id": "2f55b034-79e3-4889-8541-b0e6bb5dd78c",
   "metadata": {},
   "source": [
    "### Add points from annotation layers"
   ]
  },
  {
   "cell_type": "code",
   "execution_count": null,
   "id": "884048b7-66b3-49f9-9b3f-e6f5c1febb67",
   "metadata": {},
   "outputs": [],
   "source": [
    "set([item['name'] for item in neuroglancer_data['layers'] if item['type']=='annotation'])-set(['Base Segment Merger'])"
   ]
  },
  {
   "cell_type": "code",
   "execution_count": 111,
   "id": "9c8d00e7-1130-4c81-bf70-36342f4c9da6",
   "metadata": {
    "scrolled": true
   },
   "outputs": [],
   "source": [
    "def add_merge_annotation_layers(crest,layer_names=['Base Segment Merger'], color='#ffa500', link=True):\n",
    "    \n",
    "    if crest.launch_viewer == True:\n",
    "        if not crest.save_point_types_successfully(): \n",
    "            return\n",
    "\n",
    "    crest.point_types = list(set(crest.point_types + list(crest.cell_data['end_points'].keys()) + layer_names))\n",
    "    # self.point_types = [x for x in self.point_types if not ('base' in x.lower() and 'merge' in x.lower())]\n",
    "\n",
    "    for t in layer_names:\n",
    "        if t not in crest.cell_data['end_points'].keys():\n",
    "            crest.cell_data['end_points'][t] = []\n",
    "\n",
    "            with crest.viewer.txn(overwrite=True) as s:\n",
    "                for point_type in layer_names:\n",
    "                    s.layers[point_type] = neuroglancer.AnnotationLayer()\n",
    "                    s.layers[point_type].tool = \"annotatePoint\"\n",
    "                    s.layers[point_type].tab = 'Annotations'\n",
    "                    s.layers[point_type].annotationColor = '#ffffff'\n",
    "\n",
    "                    if link==True:\n",
    "                        s.layers[point_type].linkedSegmentationLayer = {\"segments\": 'base_segs'} # set it up linked to base_segs\n",
    "                        s.layers[point_type].filterBySegmentation = [\"segments\"]\n",
    "                    if color != None:\n",
    "                        s.layers[point_type].annotationColor = color\n"
   ]
  },
  {
   "cell_type": "code",
   "execution_count": 169,
   "id": "383a7027-b894-4209-82db-bb573aad0e3c",
   "metadata": {},
   "outputs": [],
   "source": [
    "'''\n",
    "Currently only works for annotation layers that you know contain only point annotations!!!\n",
    "'''\n",
    "neuroglancer_layer_name = ['Base Segment Merger']#['skel','post-synaptic','branch_traced']#, 'natural end','exit volume','uncertain']# set([item['name'] for item in neuroglancer_data['layers'] if item['type']=='annotation'])-set(['Base Segment Merger'])\n",
    "crest_layer_name = neuroglancer_layer_name #['post-synaptic','pre-synaptic']#,\n",
    "\n",
    "for nl_, cl_ in zip(neuroglancer_layer_name, crest_layer_name):\n",
    "    neuroglancer_layer = next((item for item in neuroglancer_data['layers'] if item[\"name\"] == nl_), None)\n",
    "    \n",
    "    if neuroglancer_layer != None:\n",
    "        # if cl_ in crest.point_types:\n",
    "\n",
    "        if cl_ == 'Base Segment Merger':\n",
    "            this_type_points = crest.cell_data['base_seg_merge_points']\n",
    "        else:\n",
    "            this_type_points = crest.cell_data['end_points'][cl_]\n",
    "            \n",
    "        for v in neuroglancer_layer['annotations']: \n",
    "\n",
    "            co_ords = [float(x) for x in v['point']]\n",
    "            co_ords_and_id = ([co_ords[x]*crest.vx_sizes['em'][x] for x in range(3)])\n",
    "\n",
    "            if 'segments' in v.keys(): #v['segments'] != None:\n",
    "                if len(v['segments'][0]) > 0:\n",
    "                    co_ords_and_id.append(str(v['segments'][0][0]))\n",
    "\n",
    "            this_type_points.append((co_ords_and_id,'annotatePoint'))\n",
    "\n",
    "        if cl_ == 'Base Segment Merger':\n",
    "            this_type_points = crest.cell_data['base_seg_merge_points'] + this_type_points\n",
    "            this_type_points = [(tuple(inner_list), label) for inner_list, label in this_type_points]\n",
    "            # Use a set to track unique elements based on the converted tuples\n",
    "            unique_end_points_set = set(this_type_points)\n",
    "            # Convert inner tuples back to lists for the final result\n",
    "            this_type_points = [(list(inner_tuple), label) for inner_tuple, label in unique_end_points_set]\n",
    "            \n",
    "            crest.cell_data['base_seg_merge_points'] = this_type_points\n",
    "\n",
    "        else: \n",
    "            # remove duplicates with annotations already existing\n",
    "            # Convert inner lists to tuples\n",
    "            this_type_points = crest.cell_data['end_points'][cl_] + this_type_points\n",
    "            this_type_points = [(tuple(inner_list), label) for inner_list, label in this_type_points]\n",
    "            # Use a set to track unique elements based on the converted tuples\n",
    "            unique_end_points_set = set(this_type_points)\n",
    "            # Convert inner tuples back to lists for the final result\n",
    "            this_type_points = [(list(inner_tuple), label) for inner_tuple, label in unique_end_points_set]\n",
    "    \n",
    "    \n",
    "            crest.cell_data['end_points'][cl_] =  this_type_points\n",
    "        # else: \n",
    "        #     msg = f\"CREST layer name - {cl_} - incorrect for cell {crest.cell_data['metadata']['main_seg']['base']} in conversion_json\"\n",
    "        #     print(msg)\n",
    "\n",
    "    else:\n",
    "        msg = f\"no layer by the name - {nl_} - in neuroglancer json for cell {crest.cell_data['metadata']['main_seg']['base']}\"\n",
    "        print(msg)\n",
    "        \n",
    "# crest.load_annotation_layer_points()\n",
    "\n",
    "crest.set_base_seg_merger_layer()"
   ]
  },
  {
   "cell_type": "code",
   "execution_count": 132,
   "id": "6899aafc-5021-46c5-a7a3-d5cb2c01ad06",
   "metadata": {},
   "outputs": [],
   "source": [
    "crest.point_types = ['exit volume',\n",
    " 'pre-synaptic',\n",
    " 'uncertain',\n",
    " 'natural end',\n",
    " 'post-synaptic',\n",
    " 'skel',\n",
    " 'Base Segment Merger']"
   ]
  },
  {
   "cell_type": "code",
   "execution_count": 154,
   "id": "1bfbdf8b-c166-41b9-b94e-a32f59b1833b",
   "metadata": {
    "scrolled": true
   },
   "outputs": [
    {
     "data": {
      "text/plain": [
       "[([334729.09375, 193434.296875, 13124.999084472656, '31648351'],\n",
       "  'annotatePoint'),\n",
       " ([344231.84375, 194819.15625, 18615.001831054688, '117551066'],\n",
       "  'annotatePoint'),\n",
       " ([340327.5625, 194822.9375, 6405.000457763672, '31660291'], 'annotatePoint'),\n",
       " ([373825.96875, 205271.390625, 85875.0, '549278905'], 'annotatePoint'),\n",
       " ([394435.28125, 216688.953125, 106005.00732421875, '636348689'],\n",
       "  'annotatePoint'),\n",
       " ([344371.0, 194774.703125, 19095.0, '117551104'], 'annotatePoint'),\n",
       " ([338556.96875, 195255.828125, 14745.0, '31664606'], 'annotatePoint')]"
      ]
     },
     "execution_count": 154,
     "metadata": {},
     "output_type": "execute_result"
    }
   ],
   "source": [
    "crest.cell_data['base_seg_merge_points']"
   ]
  },
  {
   "cell_type": "code",
   "execution_count": null,
   "id": "235f6325-79a3-4d5d-80a2-01e1d7a63e64",
   "metadata": {},
   "outputs": [],
   "source": [
    "# crest.cell_data['end_points']= crest_ann.cell_data['end_points']"
   ]
  },
  {
   "cell_type": "code",
   "execution_count": null,
   "id": "cfc9ae27-0f2d-40ed-9250-09f06f4ff8c1",
   "metadata": {},
   "outputs": [],
   "source": [
    "# crest.load_annotation_layer_points()"
   ]
  },
  {
   "cell_type": "markdown",
   "id": "906a710b-4864-401b-9058-a60cf3b04a2c",
   "metadata": {},
   "source": [
    "### define type and save"
   ]
  },
  {
   "cell_type": "code",
   "execution_count": 171,
   "id": "3ac4a1a1-d6df-4d63-a453-b35792b387cf",
   "metadata": {},
   "outputs": [
    {
     "name": "stdout",
     "output_type": "stream",
     "text": [
      "Saved cell 363342810 reconstruction locally at 2025-02-18 15.13.51\n"
     ]
    }
   ],
   "source": [
    "crest.save_cell_graph()#directory_path = cell_filepaths[cell_id].parent, file_name = cell_filepaths[cell_id].name)"
   ]
  },
  {
   "cell_type": "code",
   "execution_count": 170,
   "id": "273fd827-f4a4-4891-b736-acd29177004f",
   "metadata": {},
   "outputs": [],
   "source": [
    "cell_type = 'pf' # Assign the cell type then run the code cell\n",
    "\n",
    "crest.define_ctype(cell_type,\"manual\")"
   ]
  },
  {
   "cell_type": "code",
   "execution_count": 110,
   "id": "e30c8b6c-a9d1-4f78-be5c-2ede5d336b4f",
   "metadata": {},
   "outputs": [
    {
     "name": "stdout",
     "output_type": "stream",
     "text": [
      "Saved cell 277947665 reconstruction locally at 2025-02-14 10.48.18\n"
     ]
    }
   ],
   "source": [
    "# SAVE YOUR WORK!\n",
    "\n",
    "crest.save_cell_graph() # Default location is Path(settings_dict['save_dir'])"
   ]
  },
  {
   "cell_type": "code",
   "execution_count": null,
   "id": "e39a9224-57b2-41f7-a63f-4716608bddbb",
   "metadata": {},
   "outputs": [],
   "source": [
    "# crest.add_endpoint_annotation_layers(['soma'])"
   ]
  },
  {
   "cell_type": "code",
   "execution_count": null,
   "id": "fc33c979-22e0-406a-8e85-3897744a5d2d",
   "metadata": {},
   "outputs": [],
   "source": [
    "crest.cell_data['end_points']['uncertain'] = [r for r in crest.cell_data['end_points']['uncertain'] if r[1] < (11100*16)]"
   ]
  },
  {
   "cell_type": "code",
   "execution_count": null,
   "id": "d50e8695-9d49-48ec-8464-a447f72d4cd0",
   "metadata": {},
   "outputs": [],
   "source": [
    "crest.load_annotation_layer_points()"
   ]
  },
  {
   "cell_type": "code",
   "execution_count": null,
   "id": "435c5124-2587-4fbd-aebd-c126ac5259ed",
   "metadata": {},
   "outputs": [],
   "source": [
    "base_segments_net = crest.get_base_segments_dict(Path(settings_dict['save_dir']))\n",
    "base_segments_todo = crest.get_base_segments_dict(Path(settings_dict['save_dir']) / 'todo_presynaptic/lf_393325331')"
   ]
  },
  {
   "cell_type": "code",
   "execution_count": null,
   "id": "bd284024-9b81-4481-8bde-1ad7fc1387f7",
   "metadata": {},
   "outputs": [],
   "source": [
    "print('overlap in main network:'); df = crest.check_duplicates(base_segments_net); display(df)\n",
    "print('overlap in todo folder:'); df = crest.check_duplicates(base_segments_todo); display(df)"
   ]
  },
  {
   "cell_type": "code",
   "execution_count": null,
   "id": "472bffbd-db9f-4427-82b9-b817e50a8299",
   "metadata": {},
   "outputs": [],
   "source": [
    "cell_type = 'sgx1' # Assign the cell type then run the code cell\n",
    "\n",
    "crest.define_ctype(cell_type,\"manual\")"
   ]
  },
  {
   "cell_type": "code",
   "execution_count": null,
   "id": "f340fa4b-cdd6-4568-b297-d1f14fd9b4d2",
   "metadata": {},
   "outputs": [],
   "source": [
    "# SAVE YOUR WORK!\n",
    "\n",
    "crest.save_cell_graph() # Default location is Path(settings_dict['save_dir'])"
   ]
  },
  {
   "cell_type": "code",
   "execution_count": null,
   "id": "c25c1dd6-c66c-4a11-9e30-5a296345b4ab",
   "metadata": {},
   "outputs": [],
   "source": [
    "# cell_filepaths[cell_id].name"
   ]
  },
  {
   "cell_type": "code",
   "execution_count": null,
   "id": "346aa47b-1ca1-4908-9f3c-f5348a7f3de7",
   "metadata": {},
   "outputs": [],
   "source": [
    "crest.get_ctype('manual')"
   ]
  },
  {
   "cell_type": "markdown",
   "id": "af1a4dd5-c677-45b0-a6bf-1320d582953d",
   "metadata": {},
   "source": [
    "### compare base segments with ecrest file"
   ]
  },
  {
   "cell_type": "code",
   "execution_count": 78,
   "id": "a83449c0-ffe0-4db1-b850-1fade0de065c",
   "metadata": {
    "scrolled": true
   },
   "outputs": [
    {
     "name": "stdout",
     "output_type": "stream",
     "text": [
      "updating viewer status message: Current Base Segment Counts: unknown: 430, axon: 333, basal dendrite: 10, apical dendrite: 21, dendrite: 0, multiple: 0\n",
      "{'291425375', '290281283', '291425871', '376149007', '291425485', '290280446', '377293797', '377294049', '377293815', '376149008', '376149385', '291425414', '377293734', '376149046', '290281185', '376149108', '290281106', '377293706', '377294148', '377293671', '291425028', '291425633', '377293643', '376149099', '290281122', '377293751', '376149076', '376149077', '290281192', '290280998', '377293722', '377294211', '377293753', '291425281', '377294151', '377294182', '291425677', '376149344', '377293782', '291425856', '376149097', '376149055', '377294291', '377293673', '377294193', '291425859', '290280607', '377278585', '291425648', '290281068', '377294269', '291425645', '377293739', '377293768', '376149009', '376149346', '377294083', '290281182', '377293713', '290280609', '376149331', '291425820', '376149105', '291425872', '291425632', '377294108', '291425803', '291425262', '377293681', '377293652', '377293686', '376149024', '376148995', '377293684', '291425680', '377293695', '377294267', '290281186', '377293780', '376149006', '290281121', '290281087', '376149369', '376149288', '377294094', '291425363', '376149072', '291425738', '377293717', '377293740', '291425868', '291425306', '291425347', '377293742', '377293807', '377293789', '290280818', '291425722', '377293767', '377294209', '290280568', '377294180', '376149042', '290280689', '376149103', '377293746', '290281102', '376149242', '291425827', '376149071', '377293868', '290281049', '290281140', '377293799', '291425748', '377294136', '291425166', '376149068', '377293760', '290281066', '291425152', '291425296', '377293798', '377293756', '376149014', '377293688', '376149082', '290281104', '291425769', '377294206', '290281187', '291425510', '290281071', '291425585', '290281073', '377293679', '291425737', '377294194', '376149085', '376149303', '377293818', '377293802', '377294258', '377294274', '376148999', '291425358', '377293689', '290281010', '377294243', '376149264', '376149109', '377293750', '377294095', '376149067', '291425579', '290280630', '291425496', '377293775', '291425578', '291425454', '377293792', '377294090', '377294050', '377293691', '377293712', '376149107', '377278741', '377293773', '376149343', '377294096', '291425443', '376149044', '377293790', '291425169', '377293816', '377294038', '376149245', '291425628', '290280553', '377293678', '290280589', '291425800', '377293697', '377294112', '377293774', '377293687', '290280567', '377293764', '376149301', '376149059', '377293707', '290280941', '377293800', '290281180', '377294133', '291425865', '376149091', '291425191', '291425833', '291425557', '376149114', '291425791', '376149084', '538708855', '376148985', '377294144', '377293777', '290281144', '376149100', '290280892', '290280483', '376149261', '377294128', '452855478', '376149104', '291425695', '376149078', '377293636', '377294191', '290280987', '290281037', '291410403', '377294232', '376149048', '291425359', '377293704', '376149053', '376149180', '376149092', '291425030', '376149000', '290281141', '376149083', '377293726', '376149098', '290281193', '377293765', '290280687', '376149089', '290281188', '377294113', '377293708', '291425092', '376149061', '377293770', '290280518', '291425819', '291425829', '377294061', '291425654', '377294110', '290281105', '377294149', '376149003', '290280951', '290280846', '291425832', '291425631', '377293711', '291425801', '377293754', '291425436', '377294292', '377294244', '377294188', '290281143', '377278654', '291425866', '377294273', '377294290', '290281139', '290281183', '453999825', '377293755', '290281191', '376149054', '291425216', '376149178', '291425770', '291425759', '376149302', '377294235', '291425357', '291425704', '376133825', '377293863', '376149064', '376149275', '376149056', '377293837', '291425374', '291425788', '290281194', '291425586', '290280606', '291425798', '377294162', '377294233', '290280770', '376149043', '376149087', '377293769', '291425178', '377293690', '377293865', '377293822', '376149265', '290280661', '377293762', '291425131', '291425797', '377293801', '291425815', '376149196', '376149112', '290281027', '291425710', '377293772', '377293803', '291425620', '291425577', '376149096', '377293676', '290281085', '377293685', '291425686', '376148988', '376149387', '377293791', '377294289', '291425401', '290280999', '290281086', '377293778', '290281181', '290281101', '291425834', '376149052', '377293811', '377293653', '376149152', '376149150', '377293650', '377294237', '290281146', '377293813', '376149065', '377294270', '377294138', '376149111', '376149034', '377294189', '377293674', '377294241', '377293743', '290280721', '291425144', '291425698', '377294217', '377294256', '377293779', '377293715', '376150125', '377293812', '377293862', '377293806', '291425419', '376149080', '291425816', '376149327', '377294236', '291425435', '377293747', '376149029', '376149063', '377293727', '291425430', '290280813', '377293672', '376149037', '377294205', '291425575'}\n"
     ]
    }
   ],
   "source": [
    "directory_path = Path(settings_dict['save_dir']) #/ 'todo_presynaptic/mg1_299496636' #/ 'kp/pfs'#/ 'volume-subsample-all/in_progress'  ## specify the directory path\n",
    "cell_filepaths = get_cell_filepaths(directory_path) # gets filepaths for all cells in a directory\n",
    "# cell_filepaths = cell_filepaths_mainnet\n",
    "\n",
    "cell_id = '290280494' #filename.split('_')[0]#'483610898'#\n",
    "# crest = ecrest(settings_dict, segment_id = segment_id, segment_list = base_segment_list_ng, launch_viewer=True)\n",
    "\n",
    "crest = ecrest(settings_dict, filepath= cell_filepaths[cell_id], launch_viewer=True)\n",
    "\n",
    "print(set(base_segment_list_ng) - set([a for _,b in crest.cell_data['base_segments'].items() for a in b]))"
   ]
  },
  {
   "cell_type": "markdown",
   "id": "bca480f8-1418-4e66-8361-af703999e334",
   "metadata": {},
   "source": [
    "### add segments if needed"
   ]
  },
  {
   "cell_type": "code",
   "execution_count": 79,
   "id": "15d16ca4-d86d-4658-a6ba-48636b1864df",
   "metadata": {
    "scrolled": true
   },
   "outputs": [
    {
     "name": "stdout",
     "output_type": "stream",
     "text": [
      "['291425375']\n",
      "1 clusters of connected components. Connecting these clusters with nearest base segments.\n",
      "['290281283']\n",
      "1 clusters of connected components. Connecting these clusters with nearest base segments.\n",
      "['291425871']\n",
      "1 clusters of connected components. Connecting these clusters with nearest base segments.\n",
      "['376149007']\n",
      "1 clusters of connected components. Connecting these clusters with nearest base segments.\n",
      "['291425485']\n",
      "1 clusters of connected components. Connecting these clusters with nearest base segments.\n",
      "['290280446']\n",
      "1 clusters of connected components. Connecting these clusters with nearest base segments.\n",
      "['377293797']\n",
      "1 clusters of connected components. Connecting these clusters with nearest base segments.\n",
      "['377294049']\n",
      "1 clusters of connected components. Connecting these clusters with nearest base segments.\n",
      "['377293815']\n",
      "1 clusters of connected components. Connecting these clusters with nearest base segments.\n",
      "['376149008']\n",
      "1 clusters of connected components. Connecting these clusters with nearest base segments.\n",
      "['376149385']\n",
      "1 clusters of connected components. Connecting these clusters with nearest base segments.\n",
      "['291425414']\n",
      "1 clusters of connected components. Connecting these clusters with nearest base segments.\n",
      "['377293734']\n",
      "1 clusters of connected components. Connecting these clusters with nearest base segments.\n",
      "['376149046']\n",
      "1 clusters of connected components. Connecting these clusters with nearest base segments.\n",
      "['290281185']\n",
      "1 clusters of connected components. Connecting these clusters with nearest base segments.\n",
      "['376149108']\n",
      "1 clusters of connected components. Connecting these clusters with nearest base segments.\n",
      "['290281106']\n",
      "1 clusters of connected components. Connecting these clusters with nearest base segments.\n",
      "['377293706']\n",
      "1 clusters of connected components. Connecting these clusters with nearest base segments.\n",
      "['377294148']\n",
      "1 clusters of connected components. Connecting these clusters with nearest base segments.\n",
      "['377293671']\n",
      "1 clusters of connected components. Connecting these clusters with nearest base segments.\n",
      "['291425028']\n",
      "1 clusters of connected components. Connecting these clusters with nearest base segments.\n",
      "['291425633']\n",
      "1 clusters of connected components. Connecting these clusters with nearest base segments.\n",
      "['377293643']\n",
      "1 clusters of connected components. Connecting these clusters with nearest base segments.\n",
      "['376149099']\n",
      "1 clusters of connected components. Connecting these clusters with nearest base segments.\n",
      "['290281122']\n",
      "1 clusters of connected components. Connecting these clusters with nearest base segments.\n",
      "['377293751']\n",
      "1 clusters of connected components. Connecting these clusters with nearest base segments.\n",
      "['376149076']\n",
      "1 clusters of connected components. Connecting these clusters with nearest base segments.\n",
      "['376149077']\n",
      "1 clusters of connected components. Connecting these clusters with nearest base segments.\n",
      "['290281192']\n",
      "1 clusters of connected components. Connecting these clusters with nearest base segments.\n",
      "['290280998']\n",
      "1 clusters of connected components. Connecting these clusters with nearest base segments.\n",
      "['377293722']\n",
      "1 clusters of connected components. Connecting these clusters with nearest base segments.\n",
      "['377294211']\n",
      "1 clusters of connected components. Connecting these clusters with nearest base segments.\n",
      "['377293753']\n",
      "1 clusters of connected components. Connecting these clusters with nearest base segments.\n",
      "['291425281']\n",
      "1 clusters of connected components. Connecting these clusters with nearest base segments.\n",
      "['377294151']\n",
      "1 clusters of connected components. Connecting these clusters with nearest base segments.\n",
      "['377294182']\n",
      "1 clusters of connected components. Connecting these clusters with nearest base segments.\n",
      "['291425677']\n",
      "1 clusters of connected components. Connecting these clusters with nearest base segments.\n",
      "['376149344']\n",
      "1 clusters of connected components. Connecting these clusters with nearest base segments.\n",
      "['377293782']\n",
      "1 clusters of connected components. Connecting these clusters with nearest base segments.\n",
      "['291425856']\n",
      "1 clusters of connected components. Connecting these clusters with nearest base segments.\n",
      "['376149097']\n",
      "1 clusters of connected components. Connecting these clusters with nearest base segments.\n",
      "['376149055']\n",
      "1 clusters of connected components. Connecting these clusters with nearest base segments.\n",
      "['377294291']\n",
      "1 clusters of connected components. Connecting these clusters with nearest base segments.\n",
      "['377293673']\n",
      "1 clusters of connected components. Connecting these clusters with nearest base segments.\n",
      "['377294193']\n",
      "1 clusters of connected components. Connecting these clusters with nearest base segments.\n",
      "['291425859']\n",
      "1 clusters of connected components. Connecting these clusters with nearest base segments.\n",
      "['290280607']\n",
      "1 clusters of connected components. Connecting these clusters with nearest base segments.\n",
      "['377278585']\n",
      "1 clusters of connected components. Connecting these clusters with nearest base segments.\n",
      "['291425648']\n",
      "1 clusters of connected components. Connecting these clusters with nearest base segments.\n",
      "['290281068']\n",
      "1 clusters of connected components. Connecting these clusters with nearest base segments.\n",
      "['377294269']\n",
      "1 clusters of connected components. Connecting these clusters with nearest base segments.\n",
      "['291425645']\n",
      "1 clusters of connected components. Connecting these clusters with nearest base segments.\n",
      "['377293739']\n",
      "1 clusters of connected components. Connecting these clusters with nearest base segments.\n",
      "['377293768']\n",
      "1 clusters of connected components. Connecting these clusters with nearest base segments.\n",
      "['376149009']\n",
      "1 clusters of connected components. Connecting these clusters with nearest base segments.\n",
      "['376149346']\n",
      "1 clusters of connected components. Connecting these clusters with nearest base segments.\n",
      "['377294083']\n",
      "1 clusters of connected components. Connecting these clusters with nearest base segments.\n",
      "['290281182']\n",
      "1 clusters of connected components. Connecting these clusters with nearest base segments.\n",
      "['377293713']\n",
      "1 clusters of connected components. Connecting these clusters with nearest base segments.\n",
      "['290280609']\n",
      "1 clusters of connected components. Connecting these clusters with nearest base segments.\n",
      "['376149331']\n",
      "1 clusters of connected components. Connecting these clusters with nearest base segments.\n",
      "['291425820']\n",
      "1 clusters of connected components. Connecting these clusters with nearest base segments.\n",
      "['376149105']\n",
      "1 clusters of connected components. Connecting these clusters with nearest base segments.\n",
      "['291425872']\n",
      "1 clusters of connected components. Connecting these clusters with nearest base segments.\n",
      "['291425632']\n",
      "1 clusters of connected components. Connecting these clusters with nearest base segments.\n",
      "['377294108']\n",
      "1 clusters of connected components. Connecting these clusters with nearest base segments.\n",
      "['291425803']\n",
      "1 clusters of connected components. Connecting these clusters with nearest base segments.\n",
      "['291425262']\n",
      "1 clusters of connected components. Connecting these clusters with nearest base segments.\n",
      "['377293681']\n",
      "1 clusters of connected components. Connecting these clusters with nearest base segments.\n",
      "['377293652']\n",
      "1 clusters of connected components. Connecting these clusters with nearest base segments.\n",
      "['377293686']\n",
      "1 clusters of connected components. Connecting these clusters with nearest base segments.\n",
      "['376149024']\n",
      "1 clusters of connected components. Connecting these clusters with nearest base segments.\n",
      "['376148995']\n",
      "1 clusters of connected components. Connecting these clusters with nearest base segments.\n",
      "['377293684']\n",
      "1 clusters of connected components. Connecting these clusters with nearest base segments.\n",
      "['291425680']\n",
      "1 clusters of connected components. Connecting these clusters with nearest base segments.\n",
      "['377293695']\n",
      "1 clusters of connected components. Connecting these clusters with nearest base segments.\n",
      "['377294267']\n",
      "1 clusters of connected components. Connecting these clusters with nearest base segments.\n",
      "['290281186']\n",
      "1 clusters of connected components. Connecting these clusters with nearest base segments.\n",
      "['377293780']\n",
      "1 clusters of connected components. Connecting these clusters with nearest base segments.\n",
      "['376149006']\n",
      "1 clusters of connected components. Connecting these clusters with nearest base segments.\n",
      "['290281121']\n",
      "1 clusters of connected components. Connecting these clusters with nearest base segments.\n",
      "['290281087']\n",
      "1 clusters of connected components. Connecting these clusters with nearest base segments.\n",
      "['376149369']\n",
      "1 clusters of connected components. Connecting these clusters with nearest base segments.\n",
      "['376149288']\n",
      "1 clusters of connected components. Connecting these clusters with nearest base segments.\n",
      "['377294094']\n",
      "1 clusters of connected components. Connecting these clusters with nearest base segments.\n",
      "['291425363']\n",
      "1 clusters of connected components. Connecting these clusters with nearest base segments.\n",
      "['376149072']\n",
      "1 clusters of connected components. Connecting these clusters with nearest base segments.\n",
      "['291425738']\n",
      "1 clusters of connected components. Connecting these clusters with nearest base segments.\n",
      "['377293717']\n",
      "1 clusters of connected components. Connecting these clusters with nearest base segments.\n",
      "['377293740']\n",
      "1 clusters of connected components. Connecting these clusters with nearest base segments.\n",
      "['291425868']\n",
      "1 clusters of connected components. Connecting these clusters with nearest base segments.\n",
      "['291425306']\n",
      "1 clusters of connected components. Connecting these clusters with nearest base segments.\n",
      "['291425347']\n",
      "1 clusters of connected components. Connecting these clusters with nearest base segments.\n",
      "['377293742']\n",
      "1 clusters of connected components. Connecting these clusters with nearest base segments.\n",
      "['377293807']\n",
      "1 clusters of connected components. Connecting these clusters with nearest base segments.\n",
      "['377293789']\n",
      "1 clusters of connected components. Connecting these clusters with nearest base segments.\n",
      "['290280818']\n",
      "1 clusters of connected components. Connecting these clusters with nearest base segments.\n",
      "['291425722']\n",
      "1 clusters of connected components. Connecting these clusters with nearest base segments.\n",
      "['377293767']\n",
      "1 clusters of connected components. Connecting these clusters with nearest base segments.\n",
      "['377294209']\n",
      "1 clusters of connected components. Connecting these clusters with nearest base segments.\n",
      "['290280568']\n",
      "1 clusters of connected components. Connecting these clusters with nearest base segments.\n",
      "['377294180']\n",
      "1 clusters of connected components. Connecting these clusters with nearest base segments.\n",
      "['376149042']\n",
      "1 clusters of connected components. Connecting these clusters with nearest base segments.\n",
      "['290280689']\n",
      "1 clusters of connected components. Connecting these clusters with nearest base segments.\n",
      "['376149103']\n",
      "1 clusters of connected components. Connecting these clusters with nearest base segments.\n",
      "['377293746']\n",
      "1 clusters of connected components. Connecting these clusters with nearest base segments.\n",
      "['290281102']\n",
      "1 clusters of connected components. Connecting these clusters with nearest base segments.\n",
      "['376149242']\n",
      "1 clusters of connected components. Connecting these clusters with nearest base segments.\n",
      "['291425827']\n",
      "1 clusters of connected components. Connecting these clusters with nearest base segments.\n",
      "['376149071']\n",
      "1 clusters of connected components. Connecting these clusters with nearest base segments.\n",
      "['377293868']\n",
      "1 clusters of connected components. Connecting these clusters with nearest base segments.\n",
      "['290281049']\n",
      "1 clusters of connected components. Connecting these clusters with nearest base segments.\n",
      "['290281140']\n",
      "1 clusters of connected components. Connecting these clusters with nearest base segments.\n",
      "['377293799']\n",
      "1 clusters of connected components. Connecting these clusters with nearest base segments.\n",
      "['291425748']\n",
      "1 clusters of connected components. Connecting these clusters with nearest base segments.\n",
      "['377294136']\n",
      "1 clusters of connected components. Connecting these clusters with nearest base segments.\n",
      "['291425166']\n",
      "1 clusters of connected components. Connecting these clusters with nearest base segments.\n",
      "['376149068']\n",
      "1 clusters of connected components. Connecting these clusters with nearest base segments.\n",
      "['377293760']\n",
      "1 clusters of connected components. Connecting these clusters with nearest base segments.\n",
      "['290281066']\n",
      "1 clusters of connected components. Connecting these clusters with nearest base segments.\n",
      "['291425152']\n",
      "1 clusters of connected components. Connecting these clusters with nearest base segments.\n",
      "['291425296']\n",
      "1 clusters of connected components. Connecting these clusters with nearest base segments.\n",
      "['377293798']\n",
      "1 clusters of connected components. Connecting these clusters with nearest base segments.\n",
      "['377293756']\n",
      "1 clusters of connected components. Connecting these clusters with nearest base segments.\n",
      "['376149014']\n",
      "1 clusters of connected components. Connecting these clusters with nearest base segments.\n",
      "['377293688']\n",
      "1 clusters of connected components. Connecting these clusters with nearest base segments.\n",
      "['376149082']\n",
      "1 clusters of connected components. Connecting these clusters with nearest base segments.\n",
      "['290281104']\n",
      "1 clusters of connected components. Connecting these clusters with nearest base segments.\n",
      "['291425769']\n",
      "1 clusters of connected components. Connecting these clusters with nearest base segments.\n",
      "['377294206']\n",
      "1 clusters of connected components. Connecting these clusters with nearest base segments.\n",
      "['290281187']\n",
      "1 clusters of connected components. Connecting these clusters with nearest base segments.\n",
      "['291425510']\n",
      "1 clusters of connected components. Connecting these clusters with nearest base segments.\n",
      "['290281071']\n",
      "1 clusters of connected components. Connecting these clusters with nearest base segments.\n",
      "['291425585']\n",
      "1 clusters of connected components. Connecting these clusters with nearest base segments.\n",
      "['290281073']\n",
      "1 clusters of connected components. Connecting these clusters with nearest base segments.\n",
      "['377293679']\n",
      "1 clusters of connected components. Connecting these clusters with nearest base segments.\n",
      "['291425737']\n",
      "1 clusters of connected components. Connecting these clusters with nearest base segments.\n",
      "['377294194']\n",
      "1 clusters of connected components. Connecting these clusters with nearest base segments.\n",
      "['376149085']\n",
      "1 clusters of connected components. Connecting these clusters with nearest base segments.\n",
      "['376149303']\n",
      "1 clusters of connected components. Connecting these clusters with nearest base segments.\n",
      "['377293818']\n",
      "1 clusters of connected components. Connecting these clusters with nearest base segments.\n",
      "['377293802']\n",
      "1 clusters of connected components. Connecting these clusters with nearest base segments.\n",
      "['377294258']\n",
      "1 clusters of connected components. Connecting these clusters with nearest base segments.\n",
      "['377294274']\n",
      "1 clusters of connected components. Connecting these clusters with nearest base segments.\n",
      "['376148999']\n",
      "1 clusters of connected components. Connecting these clusters with nearest base segments.\n",
      "['291425358']\n",
      "1 clusters of connected components. Connecting these clusters with nearest base segments.\n",
      "['377293689']\n",
      "1 clusters of connected components. Connecting these clusters with nearest base segments.\n",
      "['290281010']\n",
      "1 clusters of connected components. Connecting these clusters with nearest base segments.\n",
      "['377294243']\n",
      "1 clusters of connected components. Connecting these clusters with nearest base segments.\n",
      "['376149264']\n",
      "1 clusters of connected components. Connecting these clusters with nearest base segments.\n",
      "['376149109']\n",
      "1 clusters of connected components. Connecting these clusters with nearest base segments.\n",
      "['377293750']\n",
      "1 clusters of connected components. Connecting these clusters with nearest base segments.\n",
      "['377294095']\n",
      "1 clusters of connected components. Connecting these clusters with nearest base segments.\n",
      "['376149067']\n",
      "1 clusters of connected components. Connecting these clusters with nearest base segments.\n",
      "['291425579']\n",
      "1 clusters of connected components. Connecting these clusters with nearest base segments.\n",
      "['290280630']\n",
      "1 clusters of connected components. Connecting these clusters with nearest base segments.\n",
      "['291425496']\n",
      "1 clusters of connected components. Connecting these clusters with nearest base segments.\n",
      "['377293775']\n",
      "1 clusters of connected components. Connecting these clusters with nearest base segments.\n",
      "['291425578']\n",
      "1 clusters of connected components. Connecting these clusters with nearest base segments.\n",
      "['291425454']\n",
      "1 clusters of connected components. Connecting these clusters with nearest base segments.\n",
      "['377293792']\n",
      "1 clusters of connected components. Connecting these clusters with nearest base segments.\n",
      "['377294090']\n",
      "1 clusters of connected components. Connecting these clusters with nearest base segments.\n",
      "['377294050']\n",
      "1 clusters of connected components. Connecting these clusters with nearest base segments.\n",
      "['377293691']\n",
      "1 clusters of connected components. Connecting these clusters with nearest base segments.\n",
      "['377293712']\n",
      "1 clusters of connected components. Connecting these clusters with nearest base segments.\n",
      "['376149107']\n",
      "1 clusters of connected components. Connecting these clusters with nearest base segments.\n",
      "['377278741']\n",
      "1 clusters of connected components. Connecting these clusters with nearest base segments.\n",
      "['377293773']\n",
      "1 clusters of connected components. Connecting these clusters with nearest base segments.\n",
      "['376149343']\n",
      "1 clusters of connected components. Connecting these clusters with nearest base segments.\n",
      "['377294096']\n",
      "1 clusters of connected components. Connecting these clusters with nearest base segments.\n",
      "['291425443']\n",
      "1 clusters of connected components. Connecting these clusters with nearest base segments.\n",
      "['376149044']\n",
      "1 clusters of connected components. Connecting these clusters with nearest base segments.\n",
      "['377293790']\n",
      "1 clusters of connected components. Connecting these clusters with nearest base segments.\n",
      "['291425169']\n",
      "1 clusters of connected components. Connecting these clusters with nearest base segments.\n",
      "['377293816']\n",
      "1 clusters of connected components. Connecting these clusters with nearest base segments.\n",
      "['377294038']\n",
      "1 clusters of connected components. Connecting these clusters with nearest base segments.\n",
      "['376149245']\n",
      "1 clusters of connected components. Connecting these clusters with nearest base segments.\n",
      "['291425628']\n",
      "1 clusters of connected components. Connecting these clusters with nearest base segments.\n",
      "['290280553']\n",
      "1 clusters of connected components. Connecting these clusters with nearest base segments.\n",
      "['377293678']\n",
      "1 clusters of connected components. Connecting these clusters with nearest base segments.\n",
      "['290280589']\n",
      "1 clusters of connected components. Connecting these clusters with nearest base segments.\n",
      "['291425800']\n",
      "1 clusters of connected components. Connecting these clusters with nearest base segments.\n",
      "['377293697']\n",
      "1 clusters of connected components. Connecting these clusters with nearest base segments.\n",
      "['377294112']\n",
      "1 clusters of connected components. Connecting these clusters with nearest base segments.\n",
      "['377293774']\n",
      "1 clusters of connected components. Connecting these clusters with nearest base segments.\n",
      "['377293687']\n",
      "1 clusters of connected components. Connecting these clusters with nearest base segments.\n",
      "['290280567']\n",
      "1 clusters of connected components. Connecting these clusters with nearest base segments.\n",
      "['377293764']\n",
      "1 clusters of connected components. Connecting these clusters with nearest base segments.\n",
      "['376149301']\n",
      "1 clusters of connected components. Connecting these clusters with nearest base segments.\n",
      "['376149059']\n",
      "1 clusters of connected components. Connecting these clusters with nearest base segments.\n",
      "['377293707']\n",
      "1 clusters of connected components. Connecting these clusters with nearest base segments.\n",
      "['290280941']\n",
      "1 clusters of connected components. Connecting these clusters with nearest base segments.\n",
      "['377293800']\n",
      "1 clusters of connected components. Connecting these clusters with nearest base segments.\n",
      "['290281180']\n",
      "1 clusters of connected components. Connecting these clusters with nearest base segments.\n",
      "['377294133']\n",
      "1 clusters of connected components. Connecting these clusters with nearest base segments.\n",
      "['291425865']\n",
      "1 clusters of connected components. Connecting these clusters with nearest base segments.\n",
      "['376149091']\n",
      "1 clusters of connected components. Connecting these clusters with nearest base segments.\n",
      "['291425191']\n",
      "1 clusters of connected components. Connecting these clusters with nearest base segments.\n",
      "['291425833']\n",
      "1 clusters of connected components. Connecting these clusters with nearest base segments.\n",
      "['291425557']\n",
      "1 clusters of connected components. Connecting these clusters with nearest base segments.\n",
      "['376149114']\n",
      "1 clusters of connected components. Connecting these clusters with nearest base segments.\n",
      "['291425791']\n",
      "1 clusters of connected components. Connecting these clusters with nearest base segments.\n",
      "['376149084']\n",
      "1 clusters of connected components. Connecting these clusters with nearest base segments.\n",
      "['538708855']\n",
      "1 clusters of connected components. Connecting these clusters with nearest base segments.\n",
      "['376148985']\n",
      "1 clusters of connected components. Connecting these clusters with nearest base segments.\n",
      "['377294144']\n",
      "1 clusters of connected components. Connecting these clusters with nearest base segments.\n",
      "['377293777']\n",
      "1 clusters of connected components. Connecting these clusters with nearest base segments.\n",
      "['290281144']\n",
      "1 clusters of connected components. Connecting these clusters with nearest base segments.\n",
      "['376149100']\n",
      "1 clusters of connected components. Connecting these clusters with nearest base segments.\n",
      "['290280892']\n",
      "1 clusters of connected components. Connecting these clusters with nearest base segments.\n",
      "['290280483']\n",
      "1 clusters of connected components. Connecting these clusters with nearest base segments.\n",
      "['376149261']\n",
      "1 clusters of connected components. Connecting these clusters with nearest base segments.\n",
      "['377294128']\n",
      "1 clusters of connected components. Connecting these clusters with nearest base segments.\n",
      "['452855478']\n",
      "1 clusters of connected components. Connecting these clusters with nearest base segments.\n",
      "['376149104']\n",
      "1 clusters of connected components. Connecting these clusters with nearest base segments.\n",
      "['291425695']\n",
      "1 clusters of connected components. Connecting these clusters with nearest base segments.\n",
      "['376149078']\n",
      "1 clusters of connected components. Connecting these clusters with nearest base segments.\n",
      "['377293636']\n",
      "1 clusters of connected components. Connecting these clusters with nearest base segments.\n",
      "['377294191']\n",
      "1 clusters of connected components. Connecting these clusters with nearest base segments.\n",
      "['290280987']\n",
      "1 clusters of connected components. Connecting these clusters with nearest base segments.\n",
      "['290281037']\n",
      "1 clusters of connected components. Connecting these clusters with nearest base segments.\n",
      "['291410403']\n",
      "1 clusters of connected components. Connecting these clusters with nearest base segments.\n",
      "['377294232']\n",
      "1 clusters of connected components. Connecting these clusters with nearest base segments.\n",
      "['376149048']\n",
      "1 clusters of connected components. Connecting these clusters with nearest base segments.\n",
      "['291425359']\n",
      "1 clusters of connected components. Connecting these clusters with nearest base segments.\n",
      "['377293704']\n",
      "1 clusters of connected components. Connecting these clusters with nearest base segments.\n",
      "['376149053']\n",
      "1 clusters of connected components. Connecting these clusters with nearest base segments.\n",
      "['376149180']\n",
      "1 clusters of connected components. Connecting these clusters with nearest base segments.\n",
      "['376149092']\n",
      "1 clusters of connected components. Connecting these clusters with nearest base segments.\n",
      "['291425030']\n",
      "1 clusters of connected components. Connecting these clusters with nearest base segments.\n",
      "['376149000']\n",
      "1 clusters of connected components. Connecting these clusters with nearest base segments.\n",
      "['290281141']\n",
      "1 clusters of connected components. Connecting these clusters with nearest base segments.\n",
      "['376149083']\n",
      "1 clusters of connected components. Connecting these clusters with nearest base segments.\n",
      "['377293726']\n",
      "1 clusters of connected components. Connecting these clusters with nearest base segments.\n",
      "['376149098']\n",
      "1 clusters of connected components. Connecting these clusters with nearest base segments.\n",
      "['290281193']\n",
      "1 clusters of connected components. Connecting these clusters with nearest base segments.\n",
      "['377293765']\n",
      "1 clusters of connected components. Connecting these clusters with nearest base segments.\n",
      "['290280687']\n",
      "1 clusters of connected components. Connecting these clusters with nearest base segments.\n",
      "['376149089']\n",
      "1 clusters of connected components. Connecting these clusters with nearest base segments.\n",
      "['290281188']\n",
      "1 clusters of connected components. Connecting these clusters with nearest base segments.\n",
      "['377294113']\n",
      "1 clusters of connected components. Connecting these clusters with nearest base segments.\n",
      "['377293708']\n",
      "1 clusters of connected components. Connecting these clusters with nearest base segments.\n",
      "['291425092']\n",
      "1 clusters of connected components. Connecting these clusters with nearest base segments.\n",
      "['376149061']\n",
      "1 clusters of connected components. Connecting these clusters with nearest base segments.\n",
      "['377293770']\n",
      "1 clusters of connected components. Connecting these clusters with nearest base segments.\n",
      "['290280518']\n",
      "1 clusters of connected components. Connecting these clusters with nearest base segments.\n",
      "['291425819']\n",
      "1 clusters of connected components. Connecting these clusters with nearest base segments.\n",
      "['291425829']\n",
      "1 clusters of connected components. Connecting these clusters with nearest base segments.\n",
      "['377294061']\n",
      "1 clusters of connected components. Connecting these clusters with nearest base segments.\n",
      "['291425654']\n",
      "1 clusters of connected components. Connecting these clusters with nearest base segments.\n",
      "['377294110']\n",
      "1 clusters of connected components. Connecting these clusters with nearest base segments.\n",
      "['290281105']\n",
      "1 clusters of connected components. Connecting these clusters with nearest base segments.\n",
      "['377294149']\n",
      "1 clusters of connected components. Connecting these clusters with nearest base segments.\n",
      "['376149003']\n",
      "1 clusters of connected components. Connecting these clusters with nearest base segments.\n",
      "['290280951']\n",
      "1 clusters of connected components. Connecting these clusters with nearest base segments.\n",
      "['290280846']\n",
      "1 clusters of connected components. Connecting these clusters with nearest base segments.\n",
      "['291425832']\n",
      "1 clusters of connected components. Connecting these clusters with nearest base segments.\n",
      "['291425631']\n",
      "1 clusters of connected components. Connecting these clusters with nearest base segments.\n",
      "['377293711']\n",
      "1 clusters of connected components. Connecting these clusters with nearest base segments.\n",
      "['291425801']\n",
      "1 clusters of connected components. Connecting these clusters with nearest base segments.\n",
      "['377293754']\n",
      "1 clusters of connected components. Connecting these clusters with nearest base segments.\n",
      "['291425436']\n",
      "1 clusters of connected components. Connecting these clusters with nearest base segments.\n",
      "['377294292']\n",
      "1 clusters of connected components. Connecting these clusters with nearest base segments.\n",
      "['377294244']\n",
      "1 clusters of connected components. Connecting these clusters with nearest base segments.\n",
      "['377294188']\n",
      "1 clusters of connected components. Connecting these clusters with nearest base segments.\n",
      "['290281143']\n",
      "1 clusters of connected components. Connecting these clusters with nearest base segments.\n",
      "['377278654']\n",
      "1 clusters of connected components. Connecting these clusters with nearest base segments.\n",
      "['291425866']\n",
      "1 clusters of connected components. Connecting these clusters with nearest base segments.\n",
      "['377294273']\n",
      "1 clusters of connected components. Connecting these clusters with nearest base segments.\n",
      "['377294290']\n",
      "1 clusters of connected components. Connecting these clusters with nearest base segments.\n",
      "['290281139']\n",
      "1 clusters of connected components. Connecting these clusters with nearest base segments.\n",
      "['290281183']\n",
      "1 clusters of connected components. Connecting these clusters with nearest base segments.\n",
      "['453999825']\n",
      "1 clusters of connected components. Connecting these clusters with nearest base segments.\n",
      "['377293755']\n",
      "1 clusters of connected components. Connecting these clusters with nearest base segments.\n",
      "['290281191']\n",
      "1 clusters of connected components. Connecting these clusters with nearest base segments.\n",
      "['376149054']\n",
      "1 clusters of connected components. Connecting these clusters with nearest base segments.\n",
      "['291425216']\n",
      "1 clusters of connected components. Connecting these clusters with nearest base segments.\n",
      "['376149178']\n",
      "1 clusters of connected components. Connecting these clusters with nearest base segments.\n",
      "['291425770']\n",
      "1 clusters of connected components. Connecting these clusters with nearest base segments.\n",
      "['291425759']\n",
      "1 clusters of connected components. Connecting these clusters with nearest base segments.\n",
      "['376149302']\n",
      "1 clusters of connected components. Connecting these clusters with nearest base segments.\n",
      "['377294235']\n",
      "1 clusters of connected components. Connecting these clusters with nearest base segments.\n",
      "['291425357']\n",
      "1 clusters of connected components. Connecting these clusters with nearest base segments.\n",
      "['291425704']\n",
      "1 clusters of connected components. Connecting these clusters with nearest base segments.\n",
      "['376133825']\n",
      "1 clusters of connected components. Connecting these clusters with nearest base segments.\n",
      "['377293863']\n",
      "1 clusters of connected components. Connecting these clusters with nearest base segments.\n",
      "['376149064']\n",
      "1 clusters of connected components. Connecting these clusters with nearest base segments.\n",
      "['376149275']\n",
      "1 clusters of connected components. Connecting these clusters with nearest base segments.\n",
      "['376149056']\n",
      "1 clusters of connected components. Connecting these clusters with nearest base segments.\n",
      "['377293837']\n",
      "1 clusters of connected components. Connecting these clusters with nearest base segments.\n",
      "['291425374']\n",
      "1 clusters of connected components. Connecting these clusters with nearest base segments.\n",
      "['291425788']\n",
      "1 clusters of connected components. Connecting these clusters with nearest base segments.\n",
      "['290281194']\n",
      "1 clusters of connected components. Connecting these clusters with nearest base segments.\n",
      "['291425586']\n",
      "1 clusters of connected components. Connecting these clusters with nearest base segments.\n",
      "['290280606']\n",
      "1 clusters of connected components. Connecting these clusters with nearest base segments.\n",
      "['291425798']\n",
      "1 clusters of connected components. Connecting these clusters with nearest base segments.\n",
      "['377294162']\n",
      "1 clusters of connected components. Connecting these clusters with nearest base segments.\n",
      "['377294233']\n",
      "1 clusters of connected components. Connecting these clusters with nearest base segments.\n",
      "['290280770']\n",
      "1 clusters of connected components. Connecting these clusters with nearest base segments.\n",
      "['376149043']\n",
      "1 clusters of connected components. Connecting these clusters with nearest base segments.\n",
      "['376149087']\n",
      "1 clusters of connected components. Connecting these clusters with nearest base segments.\n",
      "['377293769']\n",
      "1 clusters of connected components. Connecting these clusters with nearest base segments.\n",
      "['291425178']\n",
      "1 clusters of connected components. Connecting these clusters with nearest base segments.\n",
      "['377293690']\n",
      "1 clusters of connected components. Connecting these clusters with nearest base segments.\n",
      "['377293865']\n",
      "1 clusters of connected components. Connecting these clusters with nearest base segments.\n",
      "['377293822']\n",
      "1 clusters of connected components. Connecting these clusters with nearest base segments.\n",
      "['376149265']\n",
      "1 clusters of connected components. Connecting these clusters with nearest base segments.\n",
      "['290280661']\n",
      "1 clusters of connected components. Connecting these clusters with nearest base segments.\n",
      "['377293762']\n",
      "1 clusters of connected components. Connecting these clusters with nearest base segments.\n",
      "['291425131']\n",
      "1 clusters of connected components. Connecting these clusters with nearest base segments.\n",
      "['291425797']\n",
      "1 clusters of connected components. Connecting these clusters with nearest base segments.\n",
      "['377293801']\n",
      "1 clusters of connected components. Connecting these clusters with nearest base segments.\n",
      "['291425815']\n",
      "1 clusters of connected components. Connecting these clusters with nearest base segments.\n",
      "['376149196']\n",
      "1 clusters of connected components. Connecting these clusters with nearest base segments.\n",
      "['376149112']\n",
      "1 clusters of connected components. Connecting these clusters with nearest base segments.\n",
      "['290281027']\n",
      "1 clusters of connected components. Connecting these clusters with nearest base segments.\n",
      "['291425710']\n",
      "1 clusters of connected components. Connecting these clusters with nearest base segments.\n",
      "['377293772']\n",
      "1 clusters of connected components. Connecting these clusters with nearest base segments.\n",
      "['377293803']\n",
      "1 clusters of connected components. Connecting these clusters with nearest base segments.\n",
      "['291425620']\n",
      "1 clusters of connected components. Connecting these clusters with nearest base segments.\n",
      "['291425577']\n",
      "1 clusters of connected components. Connecting these clusters with nearest base segments.\n",
      "['376149096']\n",
      "1 clusters of connected components. Connecting these clusters with nearest base segments.\n",
      "['377293676']\n",
      "1 clusters of connected components. Connecting these clusters with nearest base segments.\n",
      "['290281085']\n",
      "1 clusters of connected components. Connecting these clusters with nearest base segments.\n",
      "['377293685']\n",
      "1 clusters of connected components. Connecting these clusters with nearest base segments.\n",
      "['291425686']\n",
      "1 clusters of connected components. Connecting these clusters with nearest base segments.\n",
      "['376148988']\n",
      "1 clusters of connected components. Connecting these clusters with nearest base segments.\n",
      "['376149387']\n",
      "1 clusters of connected components. Connecting these clusters with nearest base segments.\n",
      "['377293791']\n",
      "1 clusters of connected components. Connecting these clusters with nearest base segments.\n",
      "['377294289']\n",
      "1 clusters of connected components. Connecting these clusters with nearest base segments.\n",
      "['291425401']\n",
      "1 clusters of connected components. Connecting these clusters with nearest base segments.\n",
      "['290280999']\n",
      "1 clusters of connected components. Connecting these clusters with nearest base segments.\n",
      "['290281086']\n",
      "1 clusters of connected components. Connecting these clusters with nearest base segments.\n",
      "['377293778']\n",
      "1 clusters of connected components. Connecting these clusters with nearest base segments.\n",
      "['290281181']\n",
      "1 clusters of connected components. Connecting these clusters with nearest base segments.\n",
      "['290281101']\n",
      "1 clusters of connected components. Connecting these clusters with nearest base segments.\n",
      "['291425834']\n",
      "1 clusters of connected components. Connecting these clusters with nearest base segments.\n",
      "['376149052']\n",
      "1 clusters of connected components. Connecting these clusters with nearest base segments.\n",
      "['377293811']\n",
      "1 clusters of connected components. Connecting these clusters with nearest base segments.\n",
      "['377293653']\n",
      "1 clusters of connected components. Connecting these clusters with nearest base segments.\n",
      "['376149152']\n",
      "1 clusters of connected components. Connecting these clusters with nearest base segments.\n",
      "['376149150']\n",
      "1 clusters of connected components. Connecting these clusters with nearest base segments.\n",
      "['377293650']\n",
      "1 clusters of connected components. Connecting these clusters with nearest base segments.\n",
      "['377294237']\n",
      "1 clusters of connected components. Connecting these clusters with nearest base segments.\n",
      "['290281146']\n",
      "1 clusters of connected components. Connecting these clusters with nearest base segments.\n",
      "['377293813']\n",
      "1 clusters of connected components. Connecting these clusters with nearest base segments.\n",
      "['376149065']\n",
      "1 clusters of connected components. Connecting these clusters with nearest base segments.\n",
      "['377294270']\n",
      "1 clusters of connected components. Connecting these clusters with nearest base segments.\n",
      "['377294138']\n",
      "1 clusters of connected components. Connecting these clusters with nearest base segments.\n",
      "['376149111']\n",
      "1 clusters of connected components. Connecting these clusters with nearest base segments.\n",
      "['376149034']\n",
      "1 clusters of connected components. Connecting these clusters with nearest base segments.\n",
      "['377294189']\n",
      "1 clusters of connected components. Connecting these clusters with nearest base segments.\n",
      "['377293674']\n",
      "1 clusters of connected components. Connecting these clusters with nearest base segments.\n",
      "['377294241']\n",
      "1 clusters of connected components. Connecting these clusters with nearest base segments.\n",
      "['377293743']\n",
      "1 clusters of connected components. Connecting these clusters with nearest base segments.\n",
      "['290280721']\n",
      "1 clusters of connected components. Connecting these clusters with nearest base segments.\n",
      "['291425144']\n",
      "1 clusters of connected components. Connecting these clusters with nearest base segments.\n",
      "['291425698']\n",
      "1 clusters of connected components. Connecting these clusters with nearest base segments.\n",
      "['377294217']\n",
      "1 clusters of connected components. Connecting these clusters with nearest base segments.\n",
      "['377294256']\n",
      "1 clusters of connected components. Connecting these clusters with nearest base segments.\n",
      "['377293779']\n",
      "1 clusters of connected components. Connecting these clusters with nearest base segments.\n",
      "['377293715']\n",
      "1 clusters of connected components. Connecting these clusters with nearest base segments.\n",
      "['376150125']\n",
      "1 clusters of connected components. Connecting these clusters with nearest base segments.\n",
      "['377293812']\n",
      "1 clusters of connected components. Connecting these clusters with nearest base segments.\n",
      "['377293862']\n",
      "1 clusters of connected components. Connecting these clusters with nearest base segments.\n",
      "['377293806']\n",
      "1 clusters of connected components. Connecting these clusters with nearest base segments.\n",
      "['291425419']\n",
      "1 clusters of connected components. Connecting these clusters with nearest base segments.\n",
      "['376149080']\n",
      "1 clusters of connected components. Connecting these clusters with nearest base segments.\n",
      "['291425816']\n",
      "1 clusters of connected components. Connecting these clusters with nearest base segments.\n",
      "['376149327']\n",
      "1 clusters of connected components. Connecting these clusters with nearest base segments.\n",
      "['377294236']\n",
      "1 clusters of connected components. Connecting these clusters with nearest base segments.\n",
      "['291425435']\n",
      "1 clusters of connected components. Connecting these clusters with nearest base segments.\n",
      "['377293747']\n",
      "1 clusters of connected components. Connecting these clusters with nearest base segments.\n",
      "['376149029']\n",
      "1 clusters of connected components. Connecting these clusters with nearest base segments.\n",
      "['376149063']\n",
      "1 clusters of connected components. Connecting these clusters with nearest base segments.\n",
      "['377293727']\n",
      "1 clusters of connected components. Connecting these clusters with nearest base segments.\n",
      "['291425430']\n",
      "1 clusters of connected components. Connecting these clusters with nearest base segments.\n",
      "['290280813']\n",
      "1 clusters of connected components. Connecting these clusters with nearest base segments.\n",
      "['377293672']\n",
      "1 clusters of connected components. Connecting these clusters with nearest base segments.\n",
      "['376149037']\n",
      "1 clusters of connected components. Connecting these clusters with nearest base segments.\n",
      "['377294205']\n",
      "1 clusters of connected components. Connecting these clusters with nearest base segments.\n",
      "['291425575']\n",
      "1 clusters of connected components. Connecting these clusters with nearest base segments.\n"
     ]
    }
   ],
   "source": [
    "base_ids_added = set()\n",
    "for base_seg in set(base_segment_list_ng) - set([a for _,b in crest.cell_data['base_segments'].items() for a in b]):\n",
    "    \n",
    "    if (base_ids_added&set(base_seg)==set()) & (base_seg != crest.cell_data['metadata']['main_seg']['base']): \n",
    "        \n",
    "        displayed_segs = crest.assert_segs_in_sync(return_segs=True)\n",
    "        if base_seg in displayed_segs:\n",
    "            # print(f'{base_seg} already in cell, continueing')\n",
    "            continue\n",
    "\n",
    "        # print(i,base_seg)\n",
    "        agglo_seg = crest.get_agglo_seg_of_base_seg(base_seg)\n",
    "\n",
    "        constituent_base_ids = crest.get_base_segs_of_agglo_seg(agglo_seg)        \n",
    "        current_segs = crest.assert_segs_in_sync(return_segs=True)\n",
    "\n",
    "        num_base_segs_this_agglo_seg = len(constituent_base_ids)\n",
    "        constituent_base_ids = [x for x in constituent_base_ids if x not in current_segs]\n",
    "        constituent_base_ids = [x for x in constituent_base_ids if x not in crest.cell_data['removed_base_segs']]\n",
    "        num_base_segs_not_already_included = len(constituent_base_ids)\n",
    "        \n",
    "        if len(constituent_base_ids) > crest.max_num_base_added:\n",
    "            base_ids = [base_seg]\n",
    "            # crest.large_agglo_segs.add(agglo_seg)\n",
    "            print(f'{len(constituent_base_ids)} other base segments in the agglo segment; max number can add is {crest.max_num_base_added}')\n",
    "            # print(f'{base_seg} part of an agglo seg {agglo_seg} that is too large to add, so just adding the one segment')\n",
    "        else:\n",
    "            base_ids = constituent_base_ids\n",
    "\n",
    "        if num_base_segs_this_agglo_seg > num_base_segs_not_already_included:\n",
    "\n",
    "            if not base_seg in base_ids:\n",
    "                base_ids.append(base_seg)\n",
    "        print(base_ids)\n",
    "        crest.update_base_locations(base_ids)\n",
    "        crest.pr_graph.add_vertices(base_ids)\n",
    "\n",
    "        if len(base_ids) > 1:\n",
    "            edges = crest.get_edges_from_agglo_seg(agglo_seg)\n",
    "            edges = [x for x in edges if (x[0] in base_ids and x[1] in base_ids)]\n",
    "            crest.pr_graph.add_edges(edges)\n",
    "\n",
    "        join_msg = crest.add_closest_edge_to_graph(base_ids, base_seg) \n",
    "        \n",
    "\n",
    "        # Update lists of base segments and displayed segs:\n",
    "        crest.cell_data['base_segments']['unknown'].update(set(base_ids))\n",
    "\n",
    "        with crest.viewer.txn(overwrite=True) as s:\n",
    "\n",
    "            for bs in base_ids:\n",
    "                s.layers['base_segs'].segment_colors[int(bs)] = '#d2b48c'\n",
    "                s.layers['base_segs'].segments.add(int(bs))\n",
    "                \n",
    "        base_ids_added.update(base_ids)\n",
    "\n",
    "\n",
    "        crest.update_displayed_segs() \n",
    "        crest.assert_segs_in_sync()"
   ]
  },
  {
   "cell_type": "markdown",
   "id": "0e0a48b7-3850-45be-b211-38f8313d2992",
   "metadata": {},
   "source": [
    "## remove annotations from a layer"
   ]
  },
  {
   "cell_type": "code",
   "execution_count": 878,
   "id": "41f96229-bdf6-4abd-b6bd-a630f90870c0",
   "metadata": {},
   "outputs": [],
   "source": [
    "crest.cell_data['end_points']['post-synaptic'] =  []"
   ]
  },
  {
   "cell_type": "code",
   "execution_count": 879,
   "id": "fcf53c4a-54f6-4e88-99bc-c74922703285",
   "metadata": {},
   "outputs": [],
   "source": [
    "crest.load_annotation_layer_points()"
   ]
  },
  {
   "cell_type": "markdown",
   "id": "2ff17aff-a561-4adc-bf88-e7d5a5b5188b",
   "metadata": {},
   "source": [
    "## Molecular layer fit"
   ]
  },
  {
   "cell_type": "code",
   "execution_count": null,
   "id": "41f24a22-5980-4c98-95a3-0cf63cfeaaf3",
   "metadata": {},
   "outputs": [],
   "source": [
    "from scipy.optimize import curve_fit \n",
    "import matplotlib.pyplot as plt \n",
    "from mpl_toolkits.mplot3d import Axes3D "
   ]
  },
  {
   "cell_type": "code",
   "execution_count": null,
   "id": "ff90154c-f846-49d0-be79-dd692551a5a2",
   "metadata": {},
   "outputs": [],
   "source": [
    "# Define mathematical function for curve fitting \n",
    "def func(xy, a, b, c, d, e, f, g, h):  # #h):#\n",
    "    x, y = xy \n",
    "    return a + b*x + c*y + d*x**2 + e*y**2 + f*x**3 + g*y**3 + h*x*y # + h*x*y #"
   ]
  },
  {
   "cell_type": "code",
   "execution_count": null,
   "id": "cd80cb3d-85b5-40d5-809e-9243dff5bf0f",
   "metadata": {},
   "outputs": [],
   "source": [
    "Path(settings_dict['save_dir']).parent.parent"
   ]
  },
  {
   "cell_type": "code",
   "execution_count": null,
   "id": "29a10d3b-681c-4e74-b34f-3d78150564e5",
   "metadata": {},
   "outputs": [],
   "source": [
    "neuroglancer_path = Path(settings_dict['save_dir']).parent.parent / 'Krista/blender/soma_locations/layer-molecular_annotation.json'\n",
    "voxel_sizes = [16,16,30]\n",
    "nl_ = 'molecular'\n",
    "\n",
    "with open(Path(neuroglancer_path), 'r') as myfile: # 'p' is the dirpath and 'f' is the filename from the created 'd' dictionary\n",
    "    neuroglancer_data = json.load(myfile)\n",
    "    \n",
    "neuroglancer_layer = next((item for item in neuroglancer_data['layers'] if item[\"name\"] == nl_), None)\n",
    "vertices = [[p['point'][i]*voxel_sizes[i] for i in range(3)] for p in neuroglancer_layer['annotations']]\n",
    "\n",
    "x_pts = [p[0] for p in vertices]\n",
    "y_pts = [p[1] for p in vertices]\n",
    "z_pts = [p[2] for p in vertices]"
   ]
  },
  {
   "cell_type": "code",
   "execution_count": null,
   "id": "d370c66b-ea3b-4b0a-8080-85a0237f0145",
   "metadata": {},
   "outputs": [],
   "source": [
    "# Perform curve fitting \n",
    "popt, pcov = curve_fit(func, (x_pts, z_pts), y_pts) \n",
    "  \n",
    "# Print optimized parameters \n",
    "print(popt) "
   ]
  },
  {
   "cell_type": "code",
   "execution_count": null,
   "id": "8e2e8c97-3820-40b8-b451-4c1c87015c14",
   "metadata": {},
   "outputs": [],
   "source": [
    "# Create 3D plot of the data points and the fitted curve \n",
    "fig = plt.figure(figsize=(10,10)) \n",
    "ax = fig.add_subplot(111, projection='3d') \n",
    "ax.scatter(x_pts, z_pts, y_pts, color='blue') \n",
    "x_range = np.linspace(np.min(x_pts), np.max(x_pts), 100) \n",
    "z_range = np.linspace(np.min(z_pts), np.max(z_pts), 100) \n",
    "X, Z = np.meshgrid(x_range, z_range) \n",
    "Y = func((X, Z), *popt) \n",
    "ax.plot_surface(X, Z, Y, color='red', alpha=0.5) \n",
    "ax.set_xlabel('X') \n",
    "ax.set_ylabel('Z') \n",
    "ax.set_zlabel('Y') \n",
    "# plt.show()\n",
    "ax.set_aspect('equal') "
   ]
  },
  {
   "cell_type": "markdown",
   "id": "4fd2695f-7cbe-4418-a7d7-ec9d8ae4f873",
   "metadata": {},
   "source": [
    "## change cell type and re-save"
   ]
  },
  {
   "cell_type": "markdown",
   "id": "2e2fca77-057f-4ed6-a6d1-fa94e15b3fe5",
   "metadata": {},
   "source": [
    "### auto cell type defined different from manual"
   ]
  },
  {
   "cell_type": "code",
   "execution_count": null,
   "id": "76d1eab0-d14c-4ea5-85f4-de57f4d641d1",
   "metadata": {},
   "outputs": [],
   "source": [
    "128751464,215897023,"
   ]
  },
  {
   "cell_type": "code",
   "execution_count": null,
   "id": "32a1311a-f171-445a-b360-8da3960daa71",
   "metadata": {},
   "outputs": [],
   "source": [
    "for cell_id in [str(id) for id in [128751464]]:\n",
    "    \n",
    "    crest = ecrest(settings_dict,filepath= cell_filepaths[cell_id], launch_viewer=False)\n",
    "    t_man = crest.get_ctype('manual')\n",
    "\n",
    "    if t_man =='sg1':\n",
    "        crest.define_ctype('sg2',\"auto\")\n",
    "    elif t_man =='sg2':\n",
    "        crest.define_ctype('sg1',\"auto\")\n",
    "    else: \n",
    "        print(f'{t_man}')\n",
    "\n",
    "    crest.save_cell_graph(directory_path = cell_filepaths[cell_id].parent, file_name = cell_filepaths[cell_id].name)"
   ]
  },
  {
   "cell_type": "code",
   "execution_count": null,
   "id": "348f94ee-5e2c-4780-9bb1-c64528be6f54",
   "metadata": {},
   "outputs": [],
   "source": []
  },
  {
   "cell_type": "markdown",
   "id": "f570922c-f5ac-47b9-bb68-ce1b3d9f3109",
   "metadata": {},
   "source": [
    "## resave files to change owner\n",
    "\n",
    "whichever account the google drive desktop application is currently logged in to, that will be the new owner (regardless of who you are signed into Google Chrome as... unless you are doing this in Google Colab... then I think it will be whoever you mounted the drive as)"
   ]
  },
  {
   "cell_type": "code",
   "execution_count": null,
   "id": "4b7016c2-696b-4eb6-a168-88b74022aa32",
   "metadata": {},
   "outputs": [],
   "source": [
    "128751464,215897023,"
   ]
  },
  {
   "cell_type": "code",
   "execution_count": null,
   "id": "a803a1c4-e2ef-48e6-bc04-3d21b76b4c4b",
   "metadata": {},
   "outputs": [],
   "source": [
    "for cell_id in [str(id) for id in [128751464]]:\n",
    "    \n",
    "    crest = ecrest(settings_dict,filepath= cell_filepaths[cell_id], launch_viewer=False)\n",
    "    t_man = crest.get_ctype('manual')\n",
    "\n",
    "    if t_man =='sg1':\n",
    "        crest.define_ctype('sg2',\"auto\")\n",
    "    elif t_man =='sg2':\n",
    "        crest.define_ctype('sg1',\"auto\")\n",
    "    else: \n",
    "        print(f'{t_man}')\n",
    "\n",
    "    crest.save_cell_graph(directory_path = cell_filepaths[cell_id].parent, file_name = cell_filepaths[cell_id].name)"
   ]
  },
  {
   "cell_type": "markdown",
   "id": "d81ffc0b-760c-4b91-b81e-2d0cc061fc3a",
   "metadata": {},
   "source": [
    "## random location generator"
   ]
  },
  {
   "cell_type": "code",
   "execution_count": 11,
   "id": "da9618b5-3710-4c47-aa7c-1c9747e4a638",
   "metadata": {},
   "outputs": [],
   "source": [
    "import random\n",
    "\n",
    "def random_location_3d(x_range, y_range, z_range):\n",
    "    \"\"\"\n",
    "    Returns a random location in 3D space within the given ranges.\n",
    "\n",
    "    Args:\n",
    "    x_range: tuple of (min_x, max_x) for the x dimension.\n",
    "    y_range: tuple of (min_y, max_y) for the y dimension.\n",
    "    z_range: tuple of (min_z, max_z) for the z dimension.\n",
    "\n",
    "    Returns:\n",
    "    A tuple (x, y, z) representing the random coordinates.\n",
    "    \"\"\"\n",
    "    x = round(random.uniform(x_range[0], x_range[1]))\n",
    "    y = round(random.uniform(y_range[0], y_range[1]))\n",
    "    z = round(random.uniform(z_range[0], z_range[1]))\n",
    "    \n",
    "    return (x, y, z)"
   ]
  },
  {
   "cell_type": "code",
   "execution_count": 331,
   "id": "8bd4e2fb-92b8-495f-8312-163258e088ad",
   "metadata": {},
   "outputs": [
    {
     "name": "stdout",
     "output_type": "stream",
     "text": [
      "(24443, 12484, 1299)\n"
     ]
    }
   ],
   "source": [
    "# Example usage\n",
    "x_bounds = (5646, 26629)\n",
    "y_bounds = (6000, 14744)\n",
    "z_bounds = (200, 1300)\n",
    "\n",
    "random_point = random_location_3d(x_bounds, y_bounds, z_bounds)\n",
    "print(random_point)"
   ]
  },
  {
   "cell_type": "code",
   "execution_count": null,
   "id": "8c6a220e-2cd1-4356-aecf-0516826d0770",
   "metadata": {},
   "outputs": [],
   "source": []
  }
 ],
 "metadata": {
  "kernelspec": {
   "display_name": "Python 3 (ipykernel)",
   "language": "python",
   "name": "python3"
  },
  "language_info": {
   "codemirror_mode": {
    "name": "ipython",
    "version": 3
   },
   "file_extension": ".py",
   "mimetype": "text/x-python",
   "name": "python",
   "nbconvert_exporter": "python",
   "pygments_lexer": "ipython3",
   "version": "3.8.19"
  },
  "widgets": {
   "application/vnd.jupyter.widget-state+json": {
    "state": {},
    "version_major": 2,
    "version_minor": 0
   }
  }
 },
 "nbformat": 4,
 "nbformat_minor": 5
}
