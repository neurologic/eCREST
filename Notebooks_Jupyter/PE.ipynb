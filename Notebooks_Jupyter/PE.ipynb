{
 "cells": [
  {
   "cell_type": "markdown",
   "id": "ab640bc1-30fd-4769-8699-0531bc6412a0",
   "metadata": {},
   "source": [
    "# setup"
   ]
  },
  {
   "cell_type": "code",
   "execution_count": null,
   "id": "382c671b-8ae7-4475-b52d-a245a12177fc",
   "metadata": {},
   "outputs": [],
   "source": [
    "############################################################################################################################ \n",
    "# Get the latest CREST files for each ID within the target folder (dirname)\n",
    "\n",
    "from pathlib import Path\n",
    "import json\n",
    "from sqlite3 import connect as sqlite3_connect\n",
    "from sqlite3 import DatabaseError\n",
    "from igraph import Graph as ig_Graph\n",
    "from igraph import plot as ig_plot\n",
    "from scipy.spatial.distance import cdist\n",
    "from random import choice as random_choice\n",
    "from itertools import combinations\n",
    "from numpy import array, unravel_index, argmin, mean,unique,nan\n",
    "import pandas as pd\n",
    "from copy import deepcopy\n",
    "from datetime import datetime\n",
    "from time import time\n",
    "import neuroglancer\n",
    "from webbrowser import open as wb_open\n",
    "from webbrowser import open_new as wb_open_new\n",
    "import neuroglancer\n",
    "import numpy as np\n",
    "import matplotlib.pyplot as plt"
   ]
  },
  {
   "cell_type": "code",
   "execution_count": 3,
   "id": "ebab6d25-fb65-4d34-9795-c93e88790bc7",
   "metadata": {},
   "outputs": [],
   "source": [
    "import sys\n",
    "sys.path.append('/Users/kperks/Documents/ell-connectome/eCREST/eCREST/eCREST_cli.py')"
   ]
  },
  {
   "cell_type": "code",
   "execution_count": null,
   "id": "9c9fe444-56db-4da9-b56f-898d132af90f",
   "metadata": {},
   "outputs": [],
   "source": [
    "# from eCREST_cli_beta import ecrest, import_settings\n",
    "from eCREST_cli import ecrest, import_settings, get_cell_filepaths"
   ]
  },
  {
   "cell_type": "code",
   "execution_count": 2,
   "id": "13667499-d2d9-4978-a334-578a5896c49f",
   "metadata": {},
   "outputs": [],
   "source": [
    "def get_base_segments_dict(dirpath):\n",
    "\n",
    "    nodefiles = [child.name for child in sorted(dirpath.iterdir()) if (child.name[0]!='.') & (child.is_file()) & (\"desktop\" not in child.name)]\n",
    "\n",
    "    # Create a base_segments dictionary of all cells in the directory\n",
    "    base_segments = {}\n",
    "    for x in nodefiles:\n",
    "        # print(x)\n",
    "        with open(dirpath / x, 'r') as myfile: # 'p' is the dirpath and 'f' is the filename from the created 'd' dictionary\n",
    "            cell_data=myfile.read()\n",
    "            cell_data = json.loads(cell_data)\n",
    "        base_segments[x] = set([a for b in cell_data['base_segments'].values() for a in b]) #cell.cell_data['base_segments']\n",
    "        # base_segments[x] = set([a for b in cell_data['base_segments'].values() for a in b]) #cell.cell_data['base_segments']\n",
    "\n",
    "    return base_segments\n",
    "\n",
    "def check_duplicates(base_segments):\n",
    "    '''\n",
    "    base_segments is a dictionary of all segments that this script checks among\n",
    "    '''\n",
    "    df_all = pd.DataFrame()\n",
    "    for _,this_cell in base_segments.items():\n",
    "        overlap = []\n",
    "        num_dup = []\n",
    "        for x in base_segments.keys():\n",
    "            overlap.append(len(this_cell&base_segments[x])/len(base_segments[x]))\n",
    "            num_dup.append(len(this_cell&base_segments[x]))\n",
    "\n",
    "        df = pd.DataFrame({\n",
    "            \"self\": _,\n",
    "            \"dups\": list(base_segments.keys()),\n",
    "            \"overlap-percent\": overlap,\n",
    "            \"number_seg_lap\": num_dup\n",
    "            }).replace(0, nan, inplace=False).dropna()\n",
    "        df = df[df['dups'] != _]\n",
    "        if not df.empty:\n",
    "            df_all = pd.concat([df_all,df]) \n",
    "    return df_all"
   ]
  },
  {
   "cell_type": "markdown",
   "id": "0edbd11d-dfcb-4187-8721-4b8442429d33",
   "metadata": {},
   "source": [
    "The 'ecrest' class has been imported from eCREST_cli.py\n",
    "\n",
    "An instance of this object will be able to do things like:\n",
    "- open an neuroglancer viewer for proofrieading (see \"Proofread using CREST\")\n",
    "    - add-remove segments (using graph feature for efficiency)\n",
    "    - format itself and save itself as a CREST-style .json\n",
    "- add or remove annotation layers (see \"Annotation Layers\")\n",
    "- check for overlap with other .json files in a directory folder (see \"check duplicates\")\n",
    "- label cell structures\n",
    "- add base_segments from a list (see \"add segments\")\n",
    "- import annotations from another file (see \"Annotation Import\")\n",
    "- convert from neuroglancer json (see \"Convert From Neuroglancer to eCREST\")\n",
    "    - format itself and save itself as a CREST-style .json\n",
    "    \n"
   ]
  },
  {
   "cell_type": "markdown",
   "id": "783b3095-f8f0-4fd7-af28-432ebf417b45",
   "metadata": {},
   "source": [
    "# Settings definitions\n",
    "\n",
    "Whether you are converting from neuroglancer or creating a new reconstruction, the settings_dict parameters is needed to create CREST json files with correct formatting. \n",
    "- 'save_dir' : the default directory where eCREST reconstructions are saved as JSON files\n",
    "- 'db_path' : the path to the agglomeration database file on the local computer (a copy is in the Google Drive). "
   ]
  },
  {
   "cell_type": "code",
   "execution_count": 3,
   "id": "8dca3add-a661-445b-b43c-f1992033e7cb",
   "metadata": {},
   "outputs": [],
   "source": [
    "path_to_settings_json = '<path to google drive on the local computer>/My Drive/ELL_connectome/Ela/settings_dict_Ela.json'\n",
    "settings_dict = import_settings(path_to_settings_json)"
   ]
  },
  {
   "cell_type": "code",
   "execution_count": null,
   "id": "e13f4391-6bda-40c2-b700-a435d25f3ebb",
   "metadata": {},
   "outputs": [],
   "source": [
    "settings_dict"
   ]
  },
  {
   "cell_type": "markdown",
   "id": "243a5e4a-f495-427b-9645-06bc01772c4c",
   "metadata": {},
   "source": [
    "# Get base_segments dictionaries "
   ]
  },
  {
   "cell_type": "markdown",
   "id": "6028abfd-8581-41f7-932c-59eb4533043a",
   "metadata": {},
   "source": [
    "## Read from file (created with [this Colab notebook](https://colab.research.google.com/drive/19N8taRKeTt_Bgx_yF5AD5ntkU7zy7unc?usp=sharing)) "
   ]
  },
  {
   "cell_type": "code",
   "execution_count": null,
   "id": "13d76a66-d52e-440d-a2c5-b74a1bf0d3fb",
   "metadata": {},
   "outputs": [],
   "source": [
    "# Read list of dictionaries from a JSON file\n",
    "with open(Path(settings_dict['save_dir']).parent.parent / 'Ela/dictionary_jsons/dictionaries.json', 'r') as json_file: #assumes your save_dir is /mg_network/Rachel/ on your working computer\n",
    "    dict_all = json.load(json_file)\n",
    "  \n",
    "dict_list = dict_all.keys()\n",
    "\n",
    "# Convert lists to sets within each dictionary in data\n",
    "for key, dictionary in dict_all.items():\n",
    "    for sub_key, value in dictionary.items():\n",
    "        if isinstance(value, list):\n",
    "            dictionary[sub_key] = set(value)\n",
    "\n",
    "# Dynamically create dictionaries based on the JSON keys\n",
    "for key, value in dict_all.items():\n",
    "    globals()[key] = value\n",
    "\n",
    "print(dict_list)"
   ]
  },
  {
   "cell_type": "markdown",
   "id": "f390b924-d9f5-450b-8f4d-7e9df4fca938",
   "metadata": {},
   "source": [
    "## Create locally\n",
    "\n",
    "On some computers this can take a long time (if low RAM or low memory available. If this takes more than 5 minutes, just use Colab notebook to do it"
   ]
  },
  {
   "cell_type": "code",
   "execution_count": 40,
   "id": "beb9b8a5-66a0-4325-bbad-a5cf8764f832",
   "metadata": {},
   "outputs": [],
   "source": [
    "# create base segment dictionaries to check for duplicates\n",
    "# use manually-defined function in setup for \"get_base_segments_dict, which can check for files with same id)\"\n",
    "\n",
    "base_segments_Ela = get_base_segments_dict(Path(settings_dict['save_dir']).parent.parent / 'Ela/reconstructions')\n",
    "base_segments_main = get_base_segments_dict(Path(settings_dict['save_dir']))\n",
    "base_segments_todo = get_base_segments_dict(Path(settings_dict['save_dir']).parent.parent / 'Ela/PE_post')"
   ]
  },
  {
   "cell_type": "markdown",
   "id": "256ae39b-a5c2-4b4b-a31b-e72bcde353eb",
   "metadata": {},
   "source": [
    "# Proofread using (e)CREST\n",
    "\n",
    "The ```ecrest``` class defined in eCREST_cli.py can be used to proofread base_segment reconstructions enhanced by the agglomeration database.\n",
    "\n",
    "An instance of this class can be initialized with either:\n",
    "- ecrest(segment_id): a \"main_base_id\" in *int* format\n",
    "- ecrest(filepath): an existing CREST .json file\n",
    "- ecrest(segment_id, segment_list): the main_base_id from the neuroglancer file you are converting and a list of base_segments.\n",
    "\n",
    "The ```launch_viewer``` flag default is \"False\" so that you can interact with the contents of a reconstruction without actually opening it visually in a neuroglancer tab. **NOTE**: Some ecrest functions require that the ecrest instance is created with ```launch_viewer==True```."
   ]
  },
  {
   "cell_type": "markdown",
   "id": "ed1bfe5c-959c-45ee-81c8-f0e1369bbe20",
   "metadata": {},
   "source": [
    "## NEW reconstruction from segment ID\n",
    "\n",
    "If you wanted to start reconstructing a new cell from a main base segment, you would use the following code block to launch."
   ]
  },
  {
   "cell_type": "code",
   "execution_count": null,
   "id": "cf77135f-3c40-42c3-bb22-df255dda90e1",
   "metadata": {
    "scrolled": true
   },
   "outputs": [],
   "source": [
    "segment_id = '199762907'\n",
    "crest = ecrest(settings_dict,segment_id = segment_id, launch_viewer=True)\n",
    "\n",
    "# The following is optional and can be commented out. It enables adding segments by alt+left-mouse instead of left-mouse double click. \n",
    "crest.change_key_binding({\"alt+mousedown0\" : \"add-or-remove-seg\"})"
   ]
  },
  {
   "cell_type": "markdown",
   "id": "b23c9d2e-6d4c-4c4d-ac6e-ff75d934946f",
   "metadata": {},
   "source": [
    "### Check for duplicates against main network, your todo file, and your reconstruction folder"
   ]
  },
  {
   "cell_type": "code",
   "execution_count": null,
   "id": "ec3555c8-4d66-4593-af6f-d39a8074f6c1",
   "metadata": {
    "scrolled": true
   },
   "outputs": [],
   "source": [
    "# check for duplicates of current reconstruction with base segments dictionary\n",
    "# to save time, this line can be run alone after initializing base_segments dictionary above\n",
    "print('overlap in Ela reconstruction folder:'); df = crest.check_duplicates(base_segments_Ela); display(df)\n",
    "print('overlap in main network folder:'); df = crest.check_duplicates(base_segments_main); display(df)\n",
    "print('overlap in todo folder:'); df = crest.check_duplicates(base_segments_todo); display(df)"
   ]
  },
  {
   "cell_type": "markdown",
   "id": "20d1da8e-e4ee-448d-ad81-58d6549aca74",
   "metadata": {},
   "source": [
    "### Add soma annotations \n",
    "\n",
    "Only add soma annotations if it is a new reconstruction with a soma in the volume.  \n",
    "    - 4 annotations if the soma is fully in the volume, only 3 if partially out  \n",
    "    - annotations get added along the x plane and y plane"
   ]
  },
  {
   "cell_type": "code",
   "execution_count": null,
   "id": "86a99a36-11f8-49c2-b141-340d0a784944",
   "metadata": {
    "scrolled": true
   },
   "outputs": [],
   "source": [
    "crest.add_endpoint_annotation_layers(['soma'],link=True) # spine_inputs"
   ]
  },
  {
   "cell_type": "markdown",
   "id": "fb47596d-f326-4973-a347-ec556d5597ae",
   "metadata": {},
   "source": [
    "### define cell type"
   ]
  },
  {
   "cell_type": "code",
   "execution_count": 41,
   "id": "ec34a71d-a4af-43ba-a442-a79ca22ad4dd",
   "metadata": {},
   "outputs": [],
   "source": [
    "cell_type = 'mg2' # Assign the cell type then run the code cell\n",
    "\n",
    "crest.define_ctype(cell_type,\"manual\")"
   ]
  },
  {
   "cell_type": "markdown",
   "id": "753a361a-2a10-4028-be75-2a9e54bd727a",
   "metadata": {},
   "source": [
    "### save reconstruction\n",
    "\n",
    "default location should be Ela_reconstructions (specified in settings_dict.json)"
   ]
  },
  {
   "cell_type": "code",
   "execution_count": 42,
   "id": "9019c017-dddb-48ba-8eb5-0a9747bf0466",
   "metadata": {},
   "outputs": [
    {
     "name": "stdout",
     "output_type": "stream",
     "text": [
      "Saved cell 199762907 reconstruction locally at 2025-01-13 12.11.20\n"
     ]
    }
   ],
   "source": [
    "crest.save_cell_graph()"
   ]
  },
  {
   "cell_type": "code",
   "execution_count": null,
   "id": "fd9a93d8-8521-4eae-bbf7-b53e4506ff61",
   "metadata": {},
   "outputs": [],
   "source": []
  }
 ],
 "metadata": {
  "kernelspec": {
   "display_name": "Python 3 (ipykernel)",
   "language": "python",
   "name": "python3"
  },
  "language_info": {
   "codemirror_mode": {
    "name": "ipython",
    "version": 3
   },
   "file_extension": ".py",
   "mimetype": "text/x-python",
   "name": "python",
   "nbconvert_exporter": "python",
   "pygments_lexer": "ipython3",
   "version": "3.8.19"
  },
  "widgets": {
   "application/vnd.jupyter.widget-state+json": {
    "state": {},
    "version_major": 2,
    "version_minor": 0
   }
  }
 },
 "nbformat": 4,
 "nbformat_minor": 5
}
