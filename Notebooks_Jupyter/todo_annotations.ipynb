{
 "cells": [
  {
   "cell_type": "markdown",
   "id": "d751d407-bb3e-4f9c-ade2-08e2c4226bc6",
   "metadata": {},
   "source": [
    "# Setup"
   ]
  },
  {
   "cell_type": "code",
   "execution_count": 1,
   "id": "ed86c972-e635-45e5-95a9-3ac87205a9e7",
   "metadata": {},
   "outputs": [],
   "source": [
    "############################################################################################################################ \n",
    "# Get the latest CREST files for each ID within the target folder (dirname)\n",
    "\n",
    "from pathlib import Path\n",
    "import json\n",
    "from sqlite3 import connect as sqlite3_connect\n",
    "from sqlite3 import DatabaseError\n",
    "from igraph import Graph as ig_Graph\n",
    "from igraph import plot as ig_plot\n",
    "from scipy.spatial.distance import cdist\n",
    "from random import choice as random_choice\n",
    "from itertools import combinations\n",
    "from numpy import array, unravel_index, argmin, mean\n",
    "import random\n",
    "import numpy as np\n",
    "from copy import deepcopy\n",
    "import itertools\n",
    "from datetime import datetime\n",
    "from time import time\n",
    "import neuroglancer\n",
    "from webbrowser import open as wb_open\n",
    "from webbrowser import open_new as wb_open_new\n",
    "import pandas as pd\n",
    "import seaborn as sns\n",
    "from matplotlib import pyplot as plt\n",
    "from tqdm import tqdm"
   ]
  },
  {
   "cell_type": "code",
   "execution_count": 2,
   "id": "842e43d4-6d36-4c26-99e9-f8e383be2e99",
   "metadata": {},
   "outputs": [],
   "source": [
    "import sys\n",
    "sys.path.append('/Users/kperks/Documents/ell-connectome/eCREST/eCREST')"
   ]
  },
  {
   "cell_type": "code",
   "execution_count": 3,
   "id": "0b9caebe-59ed-4fe6-b570-77bcac223261",
   "metadata": {},
   "outputs": [],
   "source": [
    "# from eCREST_cli_beta import ecrest, import_settings\n",
    "from eCREST_cli import ecrest, import_settings, get_cell_filepaths"
   ]
  },
  {
   "cell_type": "markdown",
   "id": "2e61ea91-44be-4ba1-b133-2f64d05ce5db",
   "metadata": {},
   "source": [
    "The 'ecrest' class has been imported from eCREST_cli.py\n",
    "\n",
    "An instance of this object will be able to:\n",
    "- open an neuroglancer viewer for proofrieading (see \"Proofread using CREST\")\n",
    "    - add-remove segments (using graph feature for efficiency)\n",
    "    - format itself and save itself as a CREST-style .json\n",
    "- convert from neuroglancer json (see \"Convert From Neuroglancer to eCREST\")\n",
    "    - format itself and save itself as a CREST-style .json\n",
    "    \n"
   ]
  },
  {
   "cell_type": "markdown",
   "id": "e2226327-28e8-41a7-a33c-babe4e11cdc3",
   "metadata": {},
   "source": [
    "## Import settings\n",
    "\n",
    "If you save a copy of settings_dict.json (found in the \"under construction\" directory of eCREST repo) locally somewhere outside the repo (like in your save_dir), then you can use the following code cell to import. This avoids needing to re-type the save_dir and db_path each time you \"git pull\" updates from the repo to this notebook."
   ]
  },
  {
   "cell_type": "code",
   "execution_count": 4,
   "id": "84e586a3-3d5e-4f9f-9b6f-392b68840714",
   "metadata": {},
   "outputs": [],
   "source": [
    "path_to_settings_json = '/Users/kperks/Documents/ell-connectome/eCREST-local-files/settings_dict.json'\n",
    "settings_dict = import_settings(path_to_settings_json)"
   ]
  },
  {
   "cell_type": "markdown",
   "id": "b742192e-f189-4922-b547-9a3ccc43f8a9",
   "metadata": {},
   "source": [
    "## Load files"
   ]
  },
  {
   "cell_type": "code",
   "execution_count": 5,
   "id": "71dccc56-e0d1-4284-9b6c-aaffc9af4fb5",
   "metadata": {},
   "outputs": [],
   "source": [
    "dirpath = Path(settings_dict['save_dir'])\n",
    "# dirpath = \"/Users/kperks/Documents/gdrive/.shortcut-targets-by-id/16q1BuOMfD2ta0Cwq8CjMlRe4rDvbuWC5/ELL_connectome/CREST_reconstructions/mg-network\""
   ]
  },
  {
   "cell_type": "code",
   "execution_count": 6,
   "id": "5448a0c5-bdce-48aa-9d49-b0a0bdb8dfe2",
   "metadata": {},
   "outputs": [],
   "source": [
    "nodefiles = get_cell_filepaths(dirpath)"
   ]
  },
  {
   "cell_type": "markdown",
   "id": "ef2d31e2-6e8c-4b8b-8657-eb2709ae1164",
   "metadata": {},
   "source": [
    "# TODO reconstruction files from synapses"
   ]
  },
  {
   "cell_type": "code",
   "execution_count": 7,
   "id": "58dc5e9e-3786-4b12-9157-8f3eb105fc7c",
   "metadata": {},
   "outputs": [],
   "source": [
    "syn_to_find = set()\n",
    "        \n",
    "\n",
    "\n",
    "syn_type = 'post-synaptic'#'spine_inputs' #\n",
    "\n",
    "vx_sizes = [16, 16, 30]\n"
   ]
  },
  {
   "cell_type": "code",
   "execution_count": 6,
   "id": "9072777e-5bd0-462b-850c-60ad96c15f6d",
   "metadata": {},
   "outputs": [],
   "source": [
    "# cell_type = {}\n",
    "# not_typed = []\n",
    "# for x,f in nodefiles.items():\n",
    "#     cell = ecrest(settings_dict,filepath = f,launch_viewer=False)\n",
    "#     cell_type[x] = cell.get_ctype('manual') \n",
    "#     if (cell.get_ctype('manual') == []) | (cell.get_ctype('manual') == ''):\n",
    "#         cell_type[x]=''\n",
    "#         not_typed.append(x)# print(f'cell {x} is not cell-typed in json')\n",
    "        \n",
    "# print('the following cells are not typed in the main network')\n",
    "# print(not_typed)        \n",
    "        "
   ]
  },
  {
   "cell_type": "markdown",
   "id": "fa822117-7ca6-475f-9a64-0f288ff2cea8",
   "metadata": {},
   "source": [
    "pfs reconstructed from each type\n",
    "299496636 mg1 5/22, \n",
    "214581797 mg2 1/22, \n",
    "301787806 lg, 11/11\n",
    "393325331 lf, 8/16"
   ]
  },
  {
   "cell_type": "code",
   "execution_count": 8,
   "id": "54d338bb-bb2c-41b6-861d-a6b7792bf883",
   "metadata": {},
   "outputs": [],
   "source": [
    "cells_todo = ['397967979'] #[str(c) for c in ['472361842', '387382792', '387197529', '472051969', '386690280']] #[k for k,v in cell_type.items() if v=='pf'] #['393325331']# "
   ]
  },
  {
   "cell_type": "code",
   "execution_count": 9,
   "id": "12750b1c-cd17-4c3c-b981-7728004f287a",
   "metadata": {},
   "outputs": [],
   "source": [
    "syn_to_find = set()\n",
    "\n",
    "for c_id in cells_todo:\n",
    "    crest = ecrest(settings_dict,filepath= nodefiles[c_id], launch_viewer=False)\n",
    "    for syn_ in crest.cell_data['end_points'][syn_type]:\n",
    "        try:\n",
    "            syn_to_find.add(syn_[0][3])\n",
    "\n",
    "        except IndexError as msg:\n",
    "            cellid = crest.cell_data['metadata']['main_seg']['base']\n",
    "            print(msg, f'for cell {cellid} synapse at {array([int(syn_[0][i]/vx_sizes[i]) for i in range(3)])} has no segment id')"
   ]
  },
  {
   "cell_type": "code",
   "execution_count": 10,
   "id": "e8ed7a9d-bacc-4fed-8ff4-7bda2df2d4e7",
   "metadata": {},
   "outputs": [
    {
     "data": {
      "text/plain": [
       "88"
      ]
     },
     "execution_count": 10,
     "metadata": {},
     "output_type": "execute_result"
    }
   ],
   "source": [
    "len(crest.cell_data['end_points'][syn_type])"
   ]
  },
  {
   "cell_type": "code",
   "execution_count": 11,
   "id": "e56dcf25-558c-449c-ba35-4b0bc016a68f",
   "metadata": {},
   "outputs": [
    {
     "data": {
      "text/plain": [
       "51"
      ]
     },
     "execution_count": 11,
     "metadata": {},
     "output_type": "execute_result"
    }
   ],
   "source": [
    "len(syn_to_find)"
   ]
  },
  {
   "cell_type": "markdown",
   "id": "ce91a7a2-698d-4dfa-877c-06454d92253b",
   "metadata": {},
   "source": [
    "First, find if any of these post-synaptic segments are already part of reconstructions completed"
   ]
  },
  {
   "cell_type": "code",
   "execution_count": 12,
   "id": "3bc15746-4a5d-44b8-a891-31cd4c8fe3fe",
   "metadata": {},
   "outputs": [],
   "source": [
    "# crest = ecrest(settings_dict,filepath = nodefiles[cells_todo[0]])\n",
    "\n",
    "base_segments = crest.get_base_segments_dict(Path(settings_dict['save_dir']))#/'todo/sgx2_394470350_pre')#/ 'todo_presynaptic')# / 'todo_afferent')#'todo_postsynaptic_grc') "
   ]
  },
  {
   "cell_type": "code",
   "execution_count": 13,
   "id": "1d7ad6f6-a6f5-4fc6-925b-8728c158788f",
   "metadata": {},
   "outputs": [
    {
     "data": {
      "text/plain": [
       "37"
      ]
     },
     "execution_count": 13,
     "metadata": {},
     "output_type": "execute_result"
    }
   ],
   "source": [
    "topop=set()\n",
    "for k,v in base_segments.items():\n",
    "    if syn_to_find & v != set():\n",
    "        # print(f'use reconstruction {k}')\n",
    "        topop = topop.union(syn_to_find & v)\n",
    "    \n",
    "\n",
    "len(topop)"
   ]
  },
  {
   "cell_type": "markdown",
   "id": "54c0f2d1-3167-48c3-867e-32644f93430a",
   "metadata": {},
   "source": [
    "Adjust \"syn_to_find\" to eliminate these base segments from the todo list"
   ]
  },
  {
   "cell_type": "code",
   "execution_count": 14,
   "id": "ca3777d3-0775-4405-a382-64e2e264d352",
   "metadata": {},
   "outputs": [
    {
     "data": {
      "text/plain": [
       "14"
      ]
     },
     "execution_count": 14,
     "metadata": {},
     "output_type": "execute_result"
    }
   ],
   "source": [
    "syn_to_find = syn_to_find.difference(topop)\n",
    "\n",
    "len(syn_to_find)"
   ]
  },
  {
   "cell_type": "markdown",
   "id": "c6e3ed64-4d20-4e8b-ac7b-281a6d4b6edb",
   "metadata": {},
   "source": [
    "create crest files for each of the unidentified post-synaptic partners\n",
    "\n",
    "Save reconstructed_segs as a json to go through manually"
   ]
  },
  {
   "cell_type": "code",
   "execution_count": 15,
   "id": "b76b68fc-4079-4fc3-a956-2cfd0c6a2dff",
   "metadata": {},
   "outputs": [],
   "source": [
    "path_to_settings_json = '/Users/kperks/Documents/ell-connectome/eCREST-local-files/settings_dict.json'\n",
    "settings_dict = import_settings(path_to_settings_json)\n"
   ]
  },
  {
   "cell_type": "code",
   "execution_count": 16,
   "id": "a93806ab-ef50-4ffc-9a92-86b846607255",
   "metadata": {
    "scrolled": true
   },
   "outputs": [
    {
     "name": "stdout",
     "output_type": "stream",
     "text": [
      "Creating base segment graph for cell 119766296 Cell Reconstruction\n",
      "all base locations for 411 obtained from SQL database\n",
      "graph created among all_base_segs\n",
      "1 clusters of connected components. Connecting these clusters with nearest base segments.\n",
      "weak clusters connected\n",
      "segments without a location connected\n",
      "1 clusters in graph (note should/would be only 1 if loaded base ID from agglomo fresh)\n",
      "Created a CREST instance for NEW Reconstruction of 119766296. No file saved yet -- save manually.\n",
      "Saved cell 119766296 reconstruction locally at 2025-02-20 11.42.23\n",
      "Creating base segment graph for cell 123183953 Cell Reconstruction\n",
      "all base locations for 427 obtained from SQL database\n",
      "graph created among all_base_segs\n",
      "1 clusters of connected components. Connecting these clusters with nearest base segments.\n",
      "weak clusters connected\n",
      "segments without a location connected\n",
      "1 clusters in graph (note should/would be only 1 if loaded base ID from agglomo fresh)\n",
      "Created a CREST instance for NEW Reconstruction of 123183953. No file saved yet -- save manually.\n",
      "Saved cell 123183953 reconstruction locally at 2025-02-20 11.42.23\n",
      "Creating base segment graph for cell 124329768 Cell Reconstruction\n",
      "all base locations for 488 obtained from SQL database\n",
      "graph created among all_base_segs\n",
      "1 clusters of connected components. Connecting these clusters with nearest base segments.\n",
      "weak clusters connected\n",
      "segments without a location connected\n",
      "1 clusters in graph (note should/would be only 1 if loaded base ID from agglomo fresh)\n",
      "Created a CREST instance for NEW Reconstruction of 124329768. No file saved yet -- save manually.\n",
      "Saved cell 124329768 reconstruction locally at 2025-02-20 11.42.23\n",
      "Creating base segment graph for cell 207912691 Cell Reconstruction\n",
      "all base locations for 411 obtained from SQL database\n",
      "graph created among all_base_segs\n",
      "1 clusters of connected components. Connecting these clusters with nearest base segments.\n",
      "weak clusters connected\n",
      "segments without a location connected\n",
      "1 clusters in graph (note should/would be only 1 if loaded base ID from agglomo fresh)\n",
      "Created a CREST instance for NEW Reconstruction of 207912691. No file saved yet -- save manually.\n",
      "Saved cell 207912691 reconstruction locally at 2025-02-20 11.42.23\n",
      "Creating base segment graph for cell 207913387 Cell Reconstruction\n",
      "all base locations for 1 obtained from SQL database\n",
      "graph created among all_base_segs\n",
      "1 clusters of connected components. Connecting these clusters with nearest base segments.\n",
      "weak clusters connected\n",
      "segments without a location connected\n",
      "1 clusters in graph (note should/would be only 1 if loaded base ID from agglomo fresh)\n",
      "Created a CREST instance for NEW Reconstruction of 207913387. No file saved yet -- save manually.\n",
      "Saved cell 207913387 reconstruction locally at 2025-02-20 11.42.23\n",
      "Creating base segment graph for cell 207913404 Cell Reconstruction\n",
      "all base locations for 1 obtained from SQL database\n",
      "graph created among all_base_segs\n",
      "1 clusters of connected components. Connecting these clusters with nearest base segments.\n",
      "weak clusters connected\n",
      "segments without a location connected\n",
      "1 clusters in graph (note should/would be only 1 if loaded base ID from agglomo fresh)\n",
      "Created a CREST instance for NEW Reconstruction of 207913404. No file saved yet -- save manually.\n",
      "Saved cell 207913404 reconstruction locally at 2025-02-20 11.42.23\n",
      "Creating base segment graph for cell 209057019 Cell Reconstruction\n",
      "all base locations for 1 obtained from SQL database\n",
      "graph created among all_base_segs\n",
      "1 clusters of connected components. Connecting these clusters with nearest base segments.\n",
      "weak clusters connected\n",
      "segments without a location connected\n",
      "1 clusters in graph (note should/would be only 1 if loaded base ID from agglomo fresh)\n",
      "Created a CREST instance for NEW Reconstruction of 209057019. No file saved yet -- save manually.\n",
      "Saved cell 209057019 reconstruction locally at 2025-02-20 11.42.23\n",
      "Creating base segment graph for cell 209058236 Cell Reconstruction\n",
      "all base locations for 1 obtained from SQL database\n",
      "graph created among all_base_segs\n",
      "1 clusters of connected components. Connecting these clusters with nearest base segments.\n",
      "weak clusters connected\n",
      "segments without a location connected\n",
      "1 clusters in graph (note should/would be only 1 if loaded base ID from agglomo fresh)\n",
      "Created a CREST instance for NEW Reconstruction of 209058236. No file saved yet -- save manually.\n",
      "Saved cell 209058236 reconstruction locally at 2025-02-20 11.42.23\n",
      "Creating base segment graph for cell 209059390 Cell Reconstruction\n",
      "all base locations for 1 obtained from SQL database\n",
      "graph created among all_base_segs\n",
      "1 clusters of connected components. Connecting these clusters with nearest base segments.\n",
      "weak clusters connected\n",
      "segments without a location connected\n",
      "1 clusters in graph (note should/would be only 1 if loaded base ID from agglomo fresh)\n",
      "Created a CREST instance for NEW Reconstruction of 209059390. No file saved yet -- save manually.\n",
      "Saved cell 209059390 reconstruction locally at 2025-02-20 11.42.23\n",
      "Creating base segment graph for cell 209059478 Cell Reconstruction\n",
      "all base locations for 1 obtained from SQL database\n",
      "graph created among all_base_segs\n",
      "1 clusters of connected components. Connecting these clusters with nearest base segments.\n",
      "weak clusters connected\n",
      "segments without a location connected\n",
      "1 clusters in graph (note should/would be only 1 if loaded base ID from agglomo fresh)\n",
      "Created a CREST instance for NEW Reconstruction of 209059478. No file saved yet -- save manually.\n",
      "Saved cell 209059478 reconstruction locally at 2025-02-20 11.42.23\n",
      "Creating base segment graph for cell 210203609 Cell Reconstruction\n",
      "all base locations for 1 obtained from SQL database\n",
      "graph created among all_base_segs\n",
      "1 clusters of connected components. Connecting these clusters with nearest base segments.\n",
      "weak clusters connected\n",
      "segments without a location connected\n",
      "1 clusters in graph (note should/would be only 1 if loaded base ID from agglomo fresh)\n",
      "Created a CREST instance for NEW Reconstruction of 210203609. No file saved yet -- save manually.\n",
      "Saved cell 210203609 reconstruction locally at 2025-02-20 11.42.23\n",
      "Creating base segment graph for cell 294947279 Cell Reconstruction\n",
      "all base locations for 152 obtained from SQL database\n",
      "graph created among all_base_segs\n",
      "1 clusters of connected components. Connecting these clusters with nearest base segments.\n",
      "weak clusters connected\n",
      "segments without a location connected\n",
      "1 clusters in graph (note should/would be only 1 if loaded base ID from agglomo fresh)\n",
      "Created a CREST instance for NEW Reconstruction of 294947279. No file saved yet -- save manually.\n",
      "Saved cell 294947279 reconstruction locally at 2025-02-20 11.42.23\n",
      "Creating base segment graph for cell 298368483 Cell Reconstruction\n",
      "all base locations for 1 obtained from SQL database\n",
      "graph created among all_base_segs\n",
      "1 clusters of connected components. Connecting these clusters with nearest base segments.\n",
      "weak clusters connected\n",
      "segments without a location connected\n",
      "1 clusters in graph (note should/would be only 1 if loaded base ID from agglomo fresh)\n",
      "Created a CREST instance for NEW Reconstruction of 298368483. No file saved yet -- save manually.\n",
      "Saved cell 298368483 reconstruction locally at 2025-02-20 11.42.23\n",
      "Creating base segment graph for cell 299499299 Cell Reconstruction\n",
      "all base locations for 1 obtained from SQL database\n",
      "graph created among all_base_segs\n",
      "1 clusters of connected components. Connecting these clusters with nearest base segments.\n",
      "weak clusters connected\n",
      "segments without a location connected\n",
      "1 clusters in graph (note should/would be only 1 if loaded base ID from agglomo fresh)\n",
      "Created a CREST instance for NEW Reconstruction of 299499299. No file saved yet -- save manually.\n",
      "Saved cell 299499299 reconstruction locally at 2025-02-20 11.42.23\n"
     ]
    }
   ],
   "source": [
    "todo_folder_path = Path(settings_dict['save_dir']) / 'todo/grc_post'\n",
    "\n",
    "for segment_id in sorted(list(syn_to_find)):\n",
    "\n",
    "    cell = ecrest(settings_dict,segment_id = segment_id, launch_viewer=False)\n",
    "    cell.save_cell_graph(directory_path = todo_folder_path)#'todo_presynaptic/Krista/sgx_394470350')#/Krista/mg_214581797')"
   ]
  },
  {
   "cell_type": "code",
   "execution_count": null,
   "id": "d37a5289-2b9a-4a14-9530-35adf26f8c0f",
   "metadata": {},
   "outputs": [],
   "source": []
  }
 ],
 "metadata": {
  "kernelspec": {
   "display_name": "Python 3 (ipykernel)",
   "language": "python",
   "name": "python3"
  },
  "language_info": {
   "codemirror_mode": {
    "name": "ipython",
    "version": 3
   },
   "file_extension": ".py",
   "mimetype": "text/x-python",
   "name": "python",
   "nbconvert_exporter": "python",
   "pygments_lexer": "ipython3",
   "version": "3.8.19"
  },
  "widgets": {
   "application/vnd.jupyter.widget-state+json": {
    "state": {},
    "version_major": 2,
    "version_minor": 0
   }
  }
 },
 "nbformat": 4,
 "nbformat_minor": 5
}
