{
 "cells": [
  {
   "cell_type": "markdown",
   "id": "ed6f6090-64d6-4ec1-a6ca-eeca429a987a",
   "metadata": {},
   "source": [
    "# setup"
   ]
  },
  {
   "cell_type": "code",
   "execution_count": null,
   "id": "c6b3302e-5960-42e0-af8b-568edcbe5492",
   "metadata": {},
   "outputs": [],
   "source": [
    "from pathlib import Path\n",
    "import json\n",
    "import pandas as pd\n",
    "import numpy as np\n",
    "import time\n",
    "from tqdm import tqdm\n",
    "import cloudvolume as cv\n",
    "from google.cloud import bigquery\n",
    "import os\n",
    "from google.oauth2 import service_account"
   ]
  },
  {
   "cell_type": "code",
   "execution_count": 2,
   "id": "af246626-407e-4834-bd14-94820b0fd70b",
   "metadata": {},
   "outputs": [],
   "source": [
    "import sys\n",
    "sys.path.append('/Users/kperks/Documents/ell-connectome/eCREST/eCREST')"
   ]
  },
  {
   "cell_type": "code",
   "execution_count": 3,
   "id": "07161761-93d8-43a1-a21a-515a97c054b9",
   "metadata": {},
   "outputs": [],
   "source": [
    "# from eCREST_cli_beta import ecrest, import_settings\n",
    "from eCREST_cli import ecrest, import_settings, get_cell_filepaths"
   ]
  },
  {
   "cell_type": "markdown",
   "id": "d0b5d1c7-d7e0-4ce1-a5d2-2b0dbc5a31aa",
   "metadata": {},
   "source": [
    "## credentials"
   ]
  },
  {
   "cell_type": "code",
   "execution_count": 4,
   "id": "c4888d3c-7388-466b-9844-f6c11ccb4569",
   "metadata": {},
   "outputs": [],
   "source": [
    "key_path = '/Users/kperks/Library/CloudStorage/GoogleDrive-sawtelllab@gmail.com/My Drive/ELL_connectome/keys/krista_credentials.json'"
   ]
  },
  {
   "cell_type": "code",
   "execution_count": 5,
   "id": "d573fa54-4f1d-4d1a-a171-aae4149b0aa0",
   "metadata": {},
   "outputs": [
    {
     "name": "stdout",
     "output_type": "stream",
     "text": [
      "using credential file: /Users/kperks/Library/CloudStorage/GoogleDrive-sawtelllab@gmail.com/My Drive/ELL_connectome/keys/krista_credentials.json\n"
     ]
    }
   ],
   "source": [
    "#Set environment variables for your notebook\n",
    "os.environ['GOOGLE_APPLICATION_CREDENTIALS'] = key_path#'C:/Users/mpetkova/Dropbox/CREST/mariela_fish_credentials.json'\n",
    "cred_str = os.environ['GOOGLE_APPLICATION_CREDENTIALS']\n",
    "print(f'using credential file: {cred_str}')"
   ]
  },
  {
   "cell_type": "markdown",
   "id": "941bcbc0-4907-44da-acf7-fb8b72a8fb89",
   "metadata": {},
   "source": [
    "# get cloudvolume and bigquery client"
   ]
  },
  {
   "cell_type": "code",
   "execution_count": 6,
   "id": "8101b6a5-544d-47a5-9a0b-ec8d4d900ac7",
   "metadata": {},
   "outputs": [],
   "source": [
    "efish_cloudvolume = cv.CloudVolume('gs://fish-ell/roi450um_seg32fb16fb_220930', progress=True)"
   ]
  },
  {
   "cell_type": "code",
   "execution_count": 7,
   "id": "0d51327a-1dfb-4a5c-9ef3-1debd5e99e88",
   "metadata": {},
   "outputs": [],
   "source": [
    "bigquery_client = bigquery.Client(project='lcht-goog-connectomics')"
   ]
  },
  {
   "cell_type": "markdown",
   "id": "464d0549-983a-462c-8091-de812be594ea",
   "metadata": {},
   "source": [
    "# convert state to segment locations"
   ]
  },
  {
   "cell_type": "code",
   "execution_count": 8,
   "id": "960aa7c2-665e-4241-9eaa-943a20e81d1a",
   "metadata": {},
   "outputs": [],
   "source": [
    "path2statesdir = Path('/Users/kperks/Library/CloudStorage/GoogleDrive-sawtelllab@gmail.com/My Drive/ELL_connectome/VAST/VAST_consolidate_reconstructed/json_states/todo')\n",
    "path2skeletondir = Path('/Users/kperks/Library/CloudStorage/GoogleDrive-sawtelllab@gmail.com/My Drive/ELL_connectome/VAST/VAST_consolidate_reconstructed/skeletons')"
   ]
  },
  {
   "cell_type": "code",
   "execution_count": 57,
   "id": "c4dd2d7b-e89d-4810-9d70-39412be24600",
   "metadata": {},
   "outputs": [],
   "source": [
    "cell_filepaths = get_cell_filepaths(path2statesdir)"
   ]
  },
  {
   "cell_type": "markdown",
   "id": "d8aedeaa-b95c-42cc-b530-649637c522e0",
   "metadata": {},
   "source": [
    "## json from neuroglancer for 16nm VAST"
   ]
  },
  {
   "cell_type": "code",
   "execution_count": 65,
   "id": "9a8806f1-b5f2-4e03-85a4-e77baf7f23c0",
   "metadata": {},
   "outputs": [
    {
     "name": "stderr",
     "output_type": "stream",
     "text": [
      "  0%|                                                     | 0/2 [00:00<?, ?it/s]"
     ]
    },
    {
     "name": "stdout",
     "output_type": "stream",
     "text": [
      "working on sg2_387415866\n"
     ]
    },
    {
     "name": "stderr",
     "output_type": "stream",
     "text": [
      "100%|█████████████████████████████████████████████| 2/2 [00:04<00:00,  2.29s/it]"
     ]
    },
    {
     "name": "stdout",
     "output_type": "stream",
     "text": [
      "working on sg2_393433572\n"
     ]
    },
    {
     "name": "stderr",
     "output_type": "stream",
     "text": [
      "100%|█████████████████████████████████████████████| 2/2 [00:08<00:00,  4.38s/it]"
     ]
    },
    {
     "name": "stdout",
     "output_type": "stream",
     "text": [
      "done!\n"
     ]
    },
    {
     "name": "stderr",
     "output_type": "stream",
     "text": [
      "\n"
     ]
    }
   ],
   "source": [
    "with tqdm(total=len(cell_filepaths.keys())) as pbar:\n",
    "        \n",
    "    for k,v in cell_filepaths.items():\n",
    "        pbar.update(1)\n",
    "    \n",
    "        with open(v) as f:# = open(path2statesdir+'/'+cellid_filename[ind])\n",
    "            data = json.load(f)\n",
    "    \n",
    "        # find the index of the segmentation layer\n",
    "        seg_layer_idx = next(i for i, layer in enumerate(data['layers']) if layer['type'] == 'segmentation')\n",
    "        \n",
    "        base_seg_list = data['layers'][seg_layer_idx]['segments']\n",
    "        base_seg_str = ', '.join(str(x) for x in base_seg_list)\n",
    "            \n",
    "        \n",
    "        \n",
    "        print(f'working on {k}')\n",
    "        df = pd.DataFrame()\n",
    "    \n",
    "        QUERY = \"\"\"\n",
    "        SELECT\n",
    "            cast(objects.id as INT64) as seg_id,\n",
    "            sample_voxel.x as x,\n",
    "            sample_voxel.y as y,\n",
    "            sample_voxel.z as z,\n",
    "        FROM\n",
    "            `lcht-goog-connectomics.ell_roi450um_seg32fb16fb_220930.objinfo` as objects\n",
    "        WHERE objects.id in {}\n",
    "        \"\"\".format('('+base_seg_str+')')\n",
    "    \n",
    "        df = bigquery_client.query(QUERY).to_dataframe()\n",
    "        df = df.drop_duplicates(subset=['seg_id'])\n",
    "\n",
    "        # saveing information\n",
    "        timestr = time.strftime(\"%Y%m%d-%H%M%S\")\n",
    "        savename_and_path = path2skeletondir / f'{k}_skeleton_{timestr}.csv';\n",
    "        df.to_csv(savename_and_path, index=False)\n",
    "\n",
    "print(\"done!\")\n"
   ]
  },
  {
   "cell_type": "markdown",
   "id": "b0faa090-6c08-47d2-ad7a-f1a5079703fa",
   "metadata": {},
   "source": [
    "## json from eCREST for 16nm VAST"
   ]
  },
  {
   "cell_type": "code",
   "execution_count": 9,
   "id": "c444c216-325b-4d7c-9cf8-c3e7f1685c0f",
   "metadata": {},
   "outputs": [],
   "source": [
    "path_to_settings_json = '/Users/kperks/Documents/ell-connectome/eCREST-local-files/settings_dict.json'\n",
    "settings_dict = import_settings(path_to_settings_json)\n",
    "\n",
    "vx_sizes = [16,16,30]"
   ]
  },
  {
   "cell_type": "code",
   "execution_count": 27,
   "id": "79dcc575-0aff-4184-a3ec-15267aa4bc50",
   "metadata": {},
   "outputs": [],
   "source": [
    "directory_path = Path(settings_dict['save_dir'])#/'Rachel' # specify the directory path\n",
    "\n",
    "cell_filepaths = get_cell_filepaths(directory_path) # gets filepaths for all cells in a directory"
   ]
  },
  {
   "cell_type": "code",
   "execution_count": 24,
   "id": "f68e7d23-893b-4a22-82d2-e30abf4242fb",
   "metadata": {},
   "outputs": [],
   "source": [
    "# cell_list = ['128800360', '128816291', '128879866', '128849661', '218170254',\n",
    "#        '220398612', '135733302', '135670422', '137991336', '213528973',\n",
    "#        '219284058', '220336851', '216994785', '220352133', '216949671',\n",
    "#        '217026667', '215820918', '214627855', '214736845', '215835078',\n",
    "#        '214707822', '215897023', '218109807', '215774633', '218095913',\n",
    "#        '217027723', '215883144', '216952227', '302777004', '304015064',\n",
    "#        '301677416', '301693439', '300565422', '301756099', '303953883',\n",
    "#        '309693374', '299467022', '562815622', '563945132', '473493287',\n",
    "#        '559349295', '558189118', '473461904', '558189299', '479232204',\n",
    "#        '474621530', '475766527', '480330772', '475688080', '473460724',\n",
    "#        '475765678', '473491444', '475812081', '475810650', '391083807',\n",
    "#        '478085373', '479230342', '476894379', '474542263', '473444334',\n",
    "#        '386363638', '387634327', '474573138', '474588143', '389845032',\n",
    "#        '389798775', '389891998', '387585036', '387554847', '386393755',\n",
    "#        '385357762', '388730139', '388667843', '394423863', '389889717',\n",
    "#        '387647235', '392102325', '386455093', '386424384', '394439668',\n",
    "#        '386470356', '386501395', '389858244', '300489438', '386501395',\n",
    "#        '301648806', '300489438', '300582622', '299482327', '307465674',\n",
    "#        '308626960'] # CELL TYPE RATIOS data: sg1 and sg2\n",
    "cell_list = ['213590737', '559381249', '472284925', '472361842', '472282894','475781099', '386426114', '386409916', '386392158', '299392199','299439953', '298228381'] # CELL TYPE RATIOS data: mg1 and mg2\n",
    "#['128770984', '132205966', '301727988', '303969144', '393325331','300474334'] # CELL TYPE RATIOS data: lg and lf "
   ]
  },
  {
   "cell_type": "markdown",
   "id": "e04618ac-cd69-49ad-ae1f-30c7ceb87772",
   "metadata": {},
   "source": [
    "### for only segments in a given region of each cell"
   ]
  },
  {
   "cell_type": "code",
   "execution_count": 28,
   "id": "f1f86c37-aa4d-4c7b-9173-d5727644042c",
   "metadata": {},
   "outputs": [
    {
     "name": "stdout",
     "output_type": "stream",
     "text": [
      "done!\n"
     ]
    }
   ],
   "source": [
    "savename_and_path = path2skeletondir  / 'MG_in-sub-vol'\n",
    "\n",
    "dtype='apical dendrite'\n",
    "for ind,cell_id in enumerate(cell_list):\n",
    "    # f = open(path2statesdir+'/'+cellid_filename[ind])\n",
    "    # data = json.load(f)\n",
    "    crest = ecrest(settings_dict,filepath= cell_filepaths[cell_id], launch_viewer=False)\n",
    "    data = crest.cell_data\n",
    "\n",
    "    base_seg_list = [bs for bs in data['base_segments'][dtype]] # if only need segments from one cell structure #\n",
    "    # [bs for dtype in data['base_segments'].keys() for bs in data['base_segments'][dtype]] #sum([i for i in data.get('base_segments').values()],[]); #\n",
    "    #\n",
    "    base_seg_list = ', '.join(str(x) for x in base_seg_list)\n",
    "    \n",
    "    # if not os.path.exists(savename_and_path):\n",
    "    # print(\"working on:\" +cellid[ind]+\"...\"+str(ind+1)+\"/\"+str(len(cellid))+\"cells\")\n",
    "    df = pd.DataFrame()\n",
    "\n",
    "    QUERY = \"\"\"\n",
    "    SELECT\n",
    "        cast(objects.id as INT64) as seg_id,\n",
    "        sample_voxel.x as x,\n",
    "        sample_voxel.y as y,\n",
    "        sample_voxel.z as z,\n",
    "    FROM\n",
    "        `lcht-goog-connectomics.ell_roi450um_seg32fb16fb_220930.objinfo` as objects\n",
    "    WHERE objects.id in {}\n",
    "    \"\"\".format('('+base_seg_list+')')\n",
    "\n",
    "    df = bigquery_client.query(QUERY).to_dataframe()\n",
    "    df = df.drop_duplicates(subset=['seg_id'])\n",
    "    # df = df[df['y']<15000]\n",
    "    df.to_csv(savename_and_path / f'{cell_id}_ad.csv', index=False)\n",
    "\n",
    "print(\"done!\")"
   ]
  },
  {
   "cell_type": "markdown",
   "id": "70b157b2-6d4a-4316-86f7-10e9c3af9916",
   "metadata": {},
   "source": [
    "### for all segments"
   ]
  },
  {
   "cell_type": "code",
   "execution_count": 9,
   "id": "ae38276f-cbc2-4f1f-becd-3d701045899c",
   "metadata": {},
   "outputs": [],
   "source": [
    "path_to_settings_json = '/Users/kperks/Documents/ell-connectome/eCREST-local-files/settings_dict.json'\n",
    "settings_dict = import_settings(path_to_settings_json)\n",
    "\n",
    "vx_sizes = [16,16,30]"
   ]
  },
  {
   "cell_type": "code",
   "execution_count": 10,
   "id": "d1f2295f-d404-4ba2-ba96-e9f0d2a41214",
   "metadata": {},
   "outputs": [],
   "source": [
    "\n",
    "# directory_path = Path('/Users/kperks/Library/CloudStorage/GoogleDrive-sawtelllab@gmail.com/My Drive/ELL_connectome/VAST/VAST_consolidate_reconstructed/json_states/pf_post') #settings_dict['save_dir'])# specify the directory path\n",
    "directory_path = Path(settings_dict['save_dir'])\n",
    "\n",
    "cell_filepaths = get_cell_filepaths(directory_path) # gets filepaths for all cells in a directory"
   ]
  },
  {
   "cell_type": "code",
   "execution_count": 11,
   "id": "cc3ecc17-4b44-4fb1-abe9-69dc408c55ba",
   "metadata": {},
   "outputs": [],
   "source": [
    "cell_ids = ['368152663']"
   ]
  },
  {
   "cell_type": "code",
   "execution_count": 12,
   "id": "db3e7024-8c84-46d6-98a5-2a7c0b5aa547",
   "metadata": {},
   "outputs": [
    {
     "name": "stdout",
     "output_type": "stream",
     "text": [
      "done!\n"
     ]
    }
   ],
   "source": [
    "for k in cell_ids:\n",
    "    v = cell_filepaths[k]\n",
    "# for k,v in cell_filepaths.items():\n",
    "    # f = open(path2statesdir+'/'+cellid_filename[ind])\n",
    "    # data = json.load(f)\n",
    "    crest = ecrest(settings_dict,filepath= v, launch_viewer=False)\n",
    "    data = crest.cell_data\n",
    "    ctype = crest.get_ctype('manual')\n",
    "\n",
    "    # find the index of the segmentation layer\n",
    "\n",
    "    base_seg_list = [bs for dtype in data['base_segments'].keys() for bs in data['base_segments'][dtype]]  #sum([i for i in data.get('base_segments').values()],[]);\n",
    "    base_seg_str = ', '.join(str(x) for x in base_seg_list)\n",
    "\n",
    "    # saveing information\n",
    "    savename_and_path = path2skeletondir / f\"{ctype}_{k}_skeleton.csv\";\n",
    "\n",
    "    if not os.path.exists(savename_and_path):\n",
    "        # print(\"working on:\" +cellid[ind]+\"...\"+str(ind+1)+\"/\"+str(len(cellid))+\"cells\")\n",
    "        df = pd.DataFrame()\n",
    "\n",
    "        QUERY = \"\"\"\n",
    "        SELECT\n",
    "            cast(objects.id as INT64) as seg_id,\n",
    "            sample_voxel.x as x,\n",
    "            sample_voxel.y as y,\n",
    "            sample_voxel.z as z,\n",
    "        FROM\n",
    "            `lcht-goog-connectomics.ell_roi450um_seg32fb16fb_220930.objinfo` as objects\n",
    "        WHERE objects.id in {}\n",
    "        \"\"\".format('('+base_seg_str+')')\n",
    "\n",
    "        df = bigquery_client.query(QUERY).to_dataframe()\n",
    "        df = df.drop_duplicates(subset=['seg_id'])\n",
    "        df.to_csv(savename_and_path, index=False)\n",
    "print(\"done!\")\n"
   ]
  },
  {
   "cell_type": "markdown",
   "id": "a724d5cc-57f4-4d78-8679-c0012e116f71",
   "metadata": {},
   "source": [
    "### for 4nm resolution "
   ]
  },
  {
   "cell_type": "code",
   "execution_count": 94,
   "id": "4fbc23c0-f329-4464-98da-9b755c9f7537",
   "metadata": {},
   "outputs": [],
   "source": [
    "path_to_settings_json = '/Users/kperks/Documents/ell-connectome/eCREST-local-files/settings_dict.json'\n",
    "settings_dict = import_settings(path_to_settings_json)\n",
    "\n",
    "vx_sizes = [16,16,30]"
   ]
  },
  {
   "cell_type": "code",
   "execution_count": 95,
   "id": "63f3574c-6f26-4baa-b26a-a83ae8627391",
   "metadata": {},
   "outputs": [],
   "source": [
    "directory_path = Path(settings_dict['save_dir'])#/'Rachel' # specify the directory path\n",
    "\n",
    "cell_filepaths = get_cell_filepaths(directory_path) # gets filepaths for all cells in a directory"
   ]
  },
  {
   "cell_type": "code",
   "execution_count": 96,
   "id": "d17584fe-9873-41b0-9acf-dc29bb37b501",
   "metadata": {},
   "outputs": [
    {
     "name": "stdout",
     "output_type": "stream",
     "text": [
      "working on:368151283...1/1cells\n",
      "done!\n"
     ]
    }
   ],
   "source": [
    "cellid = ['368151283']\n",
    "\n",
    "for ind,c in enumerate(cellid):\n",
    "    f = open(cell_filepaths[c])\n",
    "    data = json.load(f)\n",
    "\n",
    "    # find the index of the segmentation layer\n",
    "\n",
    "    base_seg_list = sum([i for i in data.get('base_segments').values()],[]);\n",
    "    base_seg_str = ', '.join(str(x) for x in base_seg_list)\n",
    "\n",
    "    # saveing information\n",
    "    savename_and_path = path2skeletondir / f\"pf_{c}_skeleton_4nm.csv\";\n",
    "\n",
    "    if not os.path.exists(savename_and_path):\n",
    "        print(\"working on:\" +c+\"...\"+str(ind+1)+\"/\"+str(len(cellid))+\"cells\")\n",
    "        df = pd.DataFrame()\n",
    "\n",
    "        QUERY = \"\"\"\n",
    "        SELECT\n",
    "            cast(objects.id as INT64) as seg_id,\n",
    "            sample_voxel.x as x,\n",
    "            sample_voxel.y as y,\n",
    "            sample_voxel.z as z,\n",
    "        FROM\n",
    "            `lcht-goog-connectomics.ell_roi450um_seg32fb16fb_220930.objinfo` as objects\n",
    "        WHERE objects.id in {}\n",
    "        \"\"\".format('('+base_seg_str+')')\n",
    "\n",
    "        df = bigquery_client.query(QUERY).to_dataframe()\n",
    "        df = df.drop_duplicates(subset=['seg_id'])\n",
    "        df['x']=df['x'] *16/4\n",
    "        df['y']=df['y'] *16/4\n",
    "        df.to_csv(savename_and_path, index=False)\n",
    "print(\"done!\")"
   ]
  },
  {
   "cell_type": "markdown",
   "id": "a2b06ebe-b185-44a8-85e7-b784a84a6897",
   "metadata": {},
   "source": [
    "# other"
   ]
  },
  {
   "cell_type": "code",
   "execution_count": 13,
   "id": "77ca7e8c-0003-47a4-8285-2522421be11e",
   "metadata": {},
   "outputs": [],
   "source": [
    "# saveing information\n",
    "# savename_and_path = path2skeletondir +'/' + \"skeleton_\"+cellid[ind]+\".csv\";\n",
    "\n",
    "\n",
    "# print(\"working on:\" +cellid[ind]+\"...\"+str(ind+1)+\"/\"+str(len(cellid))+\"cells\")\n",
    "df = pd.DataFrame()\n",
    "\n",
    "QUERY = \"\"\"\n",
    "SELECT\n",
    "    cast(objects.id as INT64) as seg_id,\n",
    "    sample_voxel.x as x,\n",
    "    sample_voxel.y as y,\n",
    "    sample_voxel.z as z,\n",
    "FROM\n",
    "    `lcht-goog-connectomics.ell_roi450um_seg32fb16fb_220930.objinfo` as objects\n",
    "WHERE objects.id in {}\n",
    "\"\"\".format('('+base_seg_str+')')\n",
    "\n",
    "df = bigquery_client.query(QUERY).to_dataframe()\n",
    "df = df.drop_duplicates(subset=['seg_id'])\n",
    "# df.to_csv(savename_and_path, index=False)"
   ]
  }
 ],
 "metadata": {
  "kernelspec": {
   "display_name": "Python 3 (ipykernel)",
   "language": "python",
   "name": "python3"
  },
  "language_info": {
   "codemirror_mode": {
    "name": "ipython",
    "version": 3
   },
   "file_extension": ".py",
   "mimetype": "text/x-python",
   "name": "python",
   "nbconvert_exporter": "python",
   "pygments_lexer": "ipython3",
   "version": "3.8.19"
  },
  "widgets": {
   "application/vnd.jupyter.widget-state+json": {
    "state": {},
    "version_major": 2,
    "version_minor": 0
   }
  }
 },
 "nbformat": 4,
 "nbformat_minor": 5
}
